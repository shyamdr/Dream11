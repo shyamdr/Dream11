{
 "cells": [
  {
   "cell_type": "markdown",
   "id": "7fc8a330-f6c1-4c3b-9b42-06a277ecad09",
   "metadata": {},
   "source": [
    "## Importing Libraries"
   ]
  },
  {
   "cell_type": "code",
   "execution_count": 3,
   "id": "8c85a7fc-373f-4d33-a61a-66407c4f350f",
   "metadata": {
    "execution": {
     "iopub.execute_input": "2024-02-25T11:35:22.670179Z",
     "iopub.status.busy": "2024-02-25T11:35:22.667162Z",
     "iopub.status.idle": "2024-02-25T11:35:24.040299Z",
     "shell.execute_reply": "2024-02-25T11:35:24.038697Z",
     "shell.execute_reply.started": "2024-02-25T11:35:22.670179Z"
    }
   },
   "outputs": [],
   "source": [
    "import numpy as np\n",
    "import pandas as pd\n",
    "import matplotlib.pyplot as plt\n",
    "from scipy.integrate import quad"
   ]
  },
  {
   "cell_type": "markdown",
   "id": "11acc408-a1be-4555-b0d4-7c3cd85db247",
   "metadata": {},
   "source": [
    "## Postgres Configuration"
   ]
  },
  {
   "cell_type": "code",
   "execution_count": 5,
   "id": "2b880a97-6e55-4e28-9345-0bd9acb1f3a7",
   "metadata": {
    "execution": {
     "iopub.execute_input": "2024-02-25T11:35:59.268722Z",
     "iopub.status.busy": "2024-02-25T11:35:59.268722Z",
     "iopub.status.idle": "2024-02-25T11:36:00.967155Z",
     "shell.execute_reply": "2024-02-25T11:36:00.965123Z",
     "shell.execute_reply.started": "2024-02-25T11:35:59.268722Z"
    }
   },
   "outputs": [],
   "source": [
    "%run config_psql.ipynb"
   ]
  },
  {
   "cell_type": "markdown",
   "id": "51a39678-258f-4940-ab4d-a2975f4e83dd",
   "metadata": {},
   "source": [
    "## Settings Configuration"
   ]
  },
  {
   "cell_type": "code",
   "execution_count": 4,
   "id": "3e959e4e-8245-4daa-881c-1b0200561a38",
   "metadata": {
    "execution": {
     "iopub.execute_input": "2024-02-25T11:35:24.044864Z",
     "iopub.status.busy": "2024-02-25T11:35:24.043371Z",
     "iopub.status.idle": "2024-02-25T11:35:24.054700Z",
     "shell.execute_reply": "2024-02-25T11:35:24.054700Z",
     "shell.execute_reply.started": "2024-02-25T11:35:24.044864Z"
    }
   },
   "outputs": [],
   "source": [
    "pd.set_option('display.max_columns', None)\n",
    "pd.set_option('display.max_rows', None)"
   ]
  },
  {
   "cell_type": "markdown",
   "id": "7cf3668e-8d85-4ba3-bd4a-38a192f0ce2a",
   "metadata": {},
   "source": [
    "## Initializing parameters"
   ]
  },
  {
   "cell_type": "code",
   "execution_count": null,
   "id": "e756aa4d-a9f0-4e34-b9ed-cbfaa7471fe8",
   "metadata": {},
   "outputs": [],
   "source": []
  }
 ],
 "metadata": {
  "kernelspec": {
   "display_name": "Python 3 (ipykernel)",
   "language": "python",
   "name": "python3"
  },
  "language_info": {
   "codemirror_mode": {
    "name": "ipython",
    "version": 3
   },
   "file_extension": ".py",
   "mimetype": "text/x-python",
   "name": "python",
   "nbconvert_exporter": "python",
   "pygments_lexer": "ipython3",
   "version": "3.11.5"
  }
 },
 "nbformat": 4,
 "nbformat_minor": 5
}
