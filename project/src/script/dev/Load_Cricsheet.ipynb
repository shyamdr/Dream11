{
 "cells": [
  {
   "cell_type": "markdown",
   "id": "7153f525-daf8-40cb-985b-49f42a68820e",
   "metadata": {
    "tags": []
   },
   "source": [
    "# Importing Libraries"
   ]
  },
  {
   "cell_type": "code",
   "execution_count": 1,
   "id": "a26ef43b",
   "metadata": {
    "ExecuteTime": {
     "end_time": "2024-01-20T09:59:40.206381Z",
     "start_time": "2024-01-20T09:59:40.193680Z"
    },
    "execution": {
     "iopub.execute_input": "2024-02-24T10:50:18.654094Z",
     "iopub.status.busy": "2024-02-24T10:50:18.653135Z",
     "iopub.status.idle": "2024-02-24T10:50:20.012598Z",
     "shell.execute_reply": "2024-02-24T10:50:20.012598Z",
     "shell.execute_reply.started": "2024-02-24T10:50:18.654094Z"
    },
    "tags": []
   },
   "outputs": [],
   "source": [
    "import requests\n",
    "import io\n",
    "import zipfile\n",
    "import re\n",
    "import pandas as pd\n",
    "import numpy as np\n",
    "import json\n",
    "import modules.psql as psql\n",
    "from sqlalchemy import types as altypes"
   ]
  },
  {
   "cell_type": "markdown",
   "id": "3b1b8138",
   "metadata": {},
   "source": [
    "# Postgres Configuration"
   ]
  },
  {
   "cell_type": "code",
   "execution_count": 2,
   "id": "1710c3bf",
   "metadata": {
    "ExecuteTime": {
     "end_time": "2024-01-20T09:59:40.625570Z",
     "start_time": "2024-01-20T09:59:40.543705Z"
    },
    "execution": {
     "iopub.execute_input": "2024-02-24T10:50:20.015118Z",
     "iopub.status.busy": "2024-02-24T10:50:20.015118Z",
     "iopub.status.idle": "2024-02-24T10:50:20.903241Z",
     "shell.execute_reply": "2024-02-24T10:50:20.903241Z",
     "shell.execute_reply.started": "2024-02-24T10:50:20.015118Z"
    }
   },
   "outputs": [],
   "source": [
    "%run config_psql.ipynb"
   ]
  },
  {
   "cell_type": "markdown",
   "id": "3773860a",
   "metadata": {},
   "source": [
    "# Settings Configuration"
   ]
  },
  {
   "cell_type": "code",
   "execution_count": 3,
   "id": "33156a11",
   "metadata": {
    "ExecuteTime": {
     "end_time": "2024-01-20T09:59:40.909733Z",
     "start_time": "2024-01-20T09:59:40.894197Z"
    },
    "execution": {
     "iopub.execute_input": "2024-02-24T10:50:20.903241Z",
     "iopub.status.busy": "2024-02-24T10:50:20.903241Z",
     "iopub.status.idle": "2024-02-24T10:50:20.917362Z",
     "shell.execute_reply": "2024-02-24T10:50:20.916602Z",
     "shell.execute_reply.started": "2024-02-24T10:50:20.903241Z"
    },
    "tags": []
   },
   "outputs": [],
   "source": [
    "# Settings configurations\n",
    "\n",
    "pd.set_option('display.max_columns', None)\n",
    "pd.set_option('display.max_rows', None)"
   ]
  },
  {
   "cell_type": "markdown",
   "id": "1f847205",
   "metadata": {},
   "source": [
    "# Initializing parameters"
   ]
  },
  {
   "cell_type": "code",
   "execution_count": 5,
   "id": "84a070f3",
   "metadata": {
    "ExecuteTime": {
     "end_time": "2024-01-20T09:59:41.223079Z",
     "start_time": "2024-01-20T09:59:41.193571Z"
    },
    "execution": {
     "iopub.execute_input": "2024-02-24T10:51:02.225440Z",
     "iopub.status.busy": "2024-02-24T10:51:02.225440Z",
     "iopub.status.idle": "2024-02-24T10:51:02.245065Z",
     "shell.execute_reply": "2024-02-24T10:51:02.244047Z",
     "shell.execute_reply.started": "2024-02-24T10:51:02.225440Z"
    },
    "tags": []
   },
   "outputs": [],
   "source": [
    "url = \"https://cricsheet.org/downloads/icc_mens_cricket_world_cup_male_json.zip\" # \"https://cricsheet.org/downloads/recently_played_30_json.zip\"\n",
    "filetype = \".json\"\n",
    "\n",
    "df_meta = pd.DataFrame()\n",
    "df_match = pd.DataFrame()\n",
    "df_official = pd.DataFrame()\n",
    "df_registry = pd.DataFrame()\n",
    "df_player = pd.DataFrame()\n",
    "df_innings = pd.DataFrame()\n",
    "df_deliveries = pd.DataFrame()\n",
    "df_powerplay = pd.DataFrame()\n",
    "df_absent_hurt = pd.DataFrame()\n",
    "df_miscounted_overs = pd.DataFrame()"
   ]
  },
  {
   "cell_type": "markdown",
   "id": "8554acca",
   "metadata": {},
   "source": [
    "# Read the downloaded data"
   ]
  },
  {
   "cell_type": "code",
   "execution_count": 6,
   "id": "c3f64acd",
   "metadata": {
    "ExecuteTime": {
     "end_time": "2024-01-20T09:59:45.901126Z",
     "start_time": "2024-01-20T09:59:41.522905Z"
    },
    "execution": {
     "iopub.execute_input": "2024-02-24T10:51:06.525582Z",
     "iopub.status.busy": "2024-02-24T10:51:06.524586Z",
     "iopub.status.idle": "2024-02-24T10:51:10.285417Z",
     "shell.execute_reply": "2024-02-24T10:51:10.282914Z",
     "shell.execute_reply.started": "2024-02-24T10:51:06.525582Z"
    },
    "tags": []
   },
   "outputs": [],
   "source": [
    "response = requests.get(url)\n",
    "\n",
    "if response.status_code == 200:\n",
    "    content = response.content\n",
    "    \n",
    "    zip_file = zipfile.ZipFile(io.BytesIO(content))\n",
    "    \n",
    "    with zip_file.open('README.txt') as f:\n",
    "        lines = [line.decode('utf-8') for line in f.readlines()]\n",
    "        pattern = re.compile(r'(\\d{4}-\\d{2}-\\d{2}) - ([^-]+) - ([^-]+) - (\\w+) - (\\d+) - (.+)')\n",
    "        ids = [match.group(5) for line in lines if (match := pattern.match(line))]\n",
    "    f.close()"
   ]
  },
  {
   "cell_type": "markdown",
   "id": "f1aa23f9",
   "metadata": {},
   "source": [
    "# Building indivudal DataFrames for different tables"
   ]
  },
  {
   "cell_type": "code",
   "execution_count": 7,
   "id": "36ce7cd8",
   "metadata": {
    "ExecuteTime": {
     "end_time": "2024-01-20T10:00:02.843737Z",
     "start_time": "2024-01-20T09:59:45.903223Z"
    },
    "code_folding": [],
    "execution": {
     "iopub.execute_input": "2024-02-24T10:51:24.649803Z",
     "iopub.status.busy": "2024-02-24T10:51:24.648294Z",
     "iopub.status.idle": "2024-02-24T10:51:57.917239Z",
     "shell.execute_reply": "2024-02-24T10:51:57.917239Z",
     "shell.execute_reply.started": "2024-02-24T10:51:24.649803Z"
    }
   },
   "outputs": [
    {
     "name": "stdout",
     "output_type": "stream",
     "text": [
      "289  files present\n",
      "1384439 executed!\n",
      "1384438 executed!\n",
      "1384437 executed!\n",
      "1384436 executed!\n",
      "1384434 executed!\n",
      "1384435 executed!\n",
      "1384433 executed!\n",
      "1384432 executed!\n",
      "1384431 executed!\n",
      "1384430 executed!\n",
      "1384429 executed!\n",
      "1384428 executed!\n",
      "1384426 executed!\n",
      "1384427 executed!\n",
      "1384425 executed!\n",
      "1384424 executed!\n",
      "1384423 executed!\n",
      "1384422 executed!\n",
      "1384421 executed!\n",
      "1384420 executed!\n",
      "1384418 executed!\n",
      "1384419 executed!\n",
      "1384417 executed!\n",
      "1384416 executed!\n",
      "1384415 executed!\n",
      "1384414 executed!\n",
      "1384413 executed!\n",
      "1384412 executed!\n",
      "1384410 executed!\n",
      "1384411 executed!\n",
      "1384409 executed!\n",
      "1384408 executed!\n",
      "1384407 executed!\n",
      "1384406 executed!\n",
      "1384405 executed!\n",
      "1384404 executed!\n",
      "1384403 executed!\n",
      "1384402 executed!\n",
      "1384401 executed!\n",
      "1384400 executed!\n",
      "1384398 executed!\n",
      "1384399 executed!\n",
      "1384397 executed!\n",
      "1384396 executed!\n",
      "1384394 executed!\n",
      "1384395 executed!\n",
      "1384393 executed!\n",
      "1384392 executed!\n",
      "1144530 executed!\n",
      "1144529 executed!\n",
      "1144528 executed!\n",
      "1144526 executed!\n",
      "1144527 executed!\n",
      "1144525 executed!\n",
      "1144524 executed!\n",
      "1144523 executed!\n",
      "1144522 executed!\n",
      "1144521 executed!\n",
      "1144520 executed!\n",
      "1144518 executed!\n",
      "1144519 executed!\n",
      "1144517 executed!\n",
      "1144516 executed!\n",
      "1144515 executed!\n",
      "1144514 executed!\n",
      "1144513 executed!\n",
      "1144512 executed!\n",
      "1144510 executed!\n",
      "1144511 executed!\n",
      "1144509 executed!\n",
      "1144508 executed!\n",
      "1144507 executed!\n",
      "1144506 executed!\n",
      "1144505 executed!\n",
      "1144504 executed!\n",
      "1144502 executed!\n",
      "1144503 executed!\n",
      "1144501 executed!\n",
      "1144499 executed!\n",
      "1144497 executed!\n",
      "1144496 executed!\n",
      "1144494 executed!\n",
      "1144495 executed!\n",
      "1144492 executed!\n",
      "1144490 executed!\n",
      "1144491 executed!\n",
      "1144489 executed!\n",
      "1144488 executed!\n",
      "1144487 executed!\n",
      "1144485 executed!\n",
      "1144486 executed!\n",
      "1144484 executed!\n",
      "1144483 executed!\n",
      "656495 executed!\n",
      "656493 executed!\n",
      "656491 executed!\n",
      "656489 executed!\n",
      "656487 executed!\n",
      "656485 executed!\n",
      "656483 executed!\n",
      "656479 executed!\n",
      "656481 executed!\n",
      "656475 executed!\n",
      "656477 executed!\n",
      "656471 executed!\n",
      "656473 executed!\n",
      "656469 executed!\n",
      "656467 executed!\n",
      "656465 executed!\n",
      "656463 executed!\n",
      "656459 executed!\n",
      "656461 executed!\n",
      "656455 executed!\n",
      "656457 executed!\n",
      "656453 executed!\n",
      "656451 executed!\n",
      "656447 executed!\n",
      "656449 executed!\n",
      "656445 executed!\n",
      "656441 executed!\n",
      "656443 executed!\n",
      "656437 executed!\n",
      "656439 executed!\n",
      "656435 executed!\n",
      "656431 executed!\n",
      "656433 executed!\n",
      "656429 executed!\n",
      "656427 executed!\n",
      "656425 executed!\n",
      "656421 executed!\n",
      "656423 executed!\n",
      "656417 executed!\n",
      "656415 executed!\n",
      "656413 executed!\n",
      "656411 executed!\n",
      "656409 executed!\n",
      "656407 executed!\n",
      "656403 executed!\n",
      "656405 executed!\n",
      "656399 executed!\n",
      "656401 executed!\n",
      "433606 executed!\n",
      "433605 executed!\n",
      "433604 executed!\n",
      "433603 executed!\n",
      "433602 executed!\n",
      "433601 executed!\n",
      "433600 executed!\n",
      "433598 executed!\n",
      "433599 executed!\n",
      "433596 executed!\n",
      "433597 executed!\n",
      "433594 executed!\n",
      "433595 executed!\n",
      "433593 executed!\n",
      "433592 executed!\n",
      "433591 executed!\n",
      "433589 executed!\n",
      "433590 executed!\n",
      "433587 executed!\n",
      "433588 executed!\n",
      "433586 executed!\n",
      "433584 executed!\n",
      "433585 executed!\n",
      "433583 executed!\n",
      "433582 executed!\n",
      "433581 executed!\n",
      "433580 executed!\n",
      "433578 executed!\n",
      "433579 executed!\n",
      "433577 executed!\n",
      "433575 executed!\n",
      "433576 executed!\n",
      "433573 executed!\n",
      "433574 executed!\n",
      "433572 executed!\n",
      "433571 executed!\n",
      "433569 executed!\n",
      "433570 executed!\n",
      "433568 executed!\n",
      "433567 executed!\n",
      "433565 executed!\n",
      "433566 executed!\n",
      "433564 executed!\n",
      "433563 executed!\n",
      "433562 executed!\n",
      "433561 executed!\n",
      "433559 executed!\n",
      "433560 executed!\n",
      "433558 executed!\n",
      "247507 executed!\n",
      "247506 executed!\n",
      "247505 executed!\n",
      "247504 executed!\n",
      "247503 executed!\n",
      "247502 executed!\n",
      "247501 executed!\n",
      "247500 executed!\n",
      "247499 executed!\n",
      "247498 executed!\n",
      "247497 executed!\n",
      "247496 executed!\n",
      "247495 executed!\n",
      "247494 executed!\n",
      "247493 executed!\n",
      "247492 executed!\n",
      "247491 executed!\n",
      "247490 executed!\n",
      "247489 executed!\n",
      "247488 executed!\n",
      "247487 executed!\n",
      "247486 executed!\n",
      "247485 executed!\n",
      "247484 executed!\n",
      "247483 executed!\n",
      "247482 executed!\n",
      "247481 executed!\n",
      "247480 executed!\n",
      "247478 executed!\n",
      "247479 executed!\n",
      "247476 executed!\n",
      "247477 executed!\n",
      "247474 executed!\n",
      "247475 executed!\n",
      "247472 executed!\n",
      "247473 executed!\n",
      "247470 executed!\n",
      "247471 executed!\n",
      "247468 executed!\n",
      "247469 executed!\n",
      "247466 executed!\n",
      "247467 executed!\n",
      "247464 executed!\n",
      "247465 executed!\n",
      "247462 executed!\n",
      "247463 executed!\n",
      "247460 executed!\n",
      "247461 executed!\n",
      "247458 executed!\n",
      "247457 executed!\n",
      "65286 executed!\n",
      "65285 executed!\n",
      "65284 executed!\n",
      "65282 executed!\n",
      "65283 executed!\n",
      "65281 executed!\n",
      "65280 executed!\n",
      "65279 executed!\n",
      "65278 executed!\n",
      "65277 executed!\n",
      "65275 executed!\n",
      "65276 executed!\n",
      "65273 executed!\n",
      "65270 executed!\n",
      "65271 executed!\n",
      "65272 executed!\n",
      "65269 executed!\n",
      "65267 executed!\n",
      "65268 executed!\n",
      "65265 executed!\n",
      "65266 executed!\n",
      "65263 executed!\n",
      "65264 executed!\n",
      "65261 executed!\n",
      "65262 executed!\n",
      "65260 executed!\n",
      "65258 executed!\n",
      "65259 executed!\n",
      "65256 executed!\n",
      "65257 executed!\n",
      "65254 executed!\n",
      "65255 executed!\n",
      "65250 executed!\n",
      "65251 executed!\n",
      "65252 executed!\n",
      "65249 executed!\n",
      "65246 executed!\n",
      "65247 executed!\n",
      "65248 executed!\n",
      "65244 executed!\n",
      "65245 executed!\n",
      "65242 executed!\n",
      "65240 executed!\n",
      "65241 executed!\n",
      "65238 executed!\n",
      "65239 executed!\n",
      "65236 executed!\n",
      "65237 executed!\n",
      "65235 executed!\n"
     ]
    }
   ],
   "source": [
    "print(len(ids), \" files present\")\n",
    "#for file in ids[-40:]:\n",
    "\n",
    "for file in ids:\n",
    "    with zip_file.open(file+filetype) as jsonfile:\n",
    "        data = json.load(jsonfile)\n",
    "        # -----------------------------\n",
    "        # DataFrame to store - Metadata\n",
    "        df_meta = pd.concat([df_meta, pd.DataFrame([data[\"meta\"]]).assign(filename=file, filetype=filetype)])\n",
    "        \n",
    "        # ----------------------------------\n",
    "        # DataFrame to store - match details\n",
    "        df_info = pd.DataFrame([data[\"info\"]])\n",
    "        df_match_temp = pd.concat([\n",
    "            pd.json_normalize(df_info['event'], sep='_').add_prefix('event_'),\n",
    "            pd.DataFrame(df_info[list(set(['balls_per_over','season', 'gender', 'city', 'venue', 'match_type', 'match_type_number', 'overs', 'team_type']) & set(df_info.columns))]),\n",
    "            df_info['dates'].apply(lambda x: [x[0], x[-1]]).apply(pd.Series).rename(columns={0: 'start_date', 1: 'end_date'}),\n",
    "            df_info['teams'].apply(lambda x: [x[0], x[1]]).apply(pd.Series).rename(columns={0: 'team_host', 1: 'team_visitor'}),\n",
    "            pd.json_normalize(df_info['toss'], sep='_').add_prefix('toss_'),\n",
    "            pd.json_normalize(df_info['outcome'], sep='_').add_prefix('outcome_')\n",
    "        ], axis=1).assign(match_id = file)\n",
    "        if 'player_of_match' in df_info.columns:\n",
    "            df_match_temp['player_of_match'] = df_info['player_of_match'].apply(lambda x: ','.join(x))\n",
    "            \n",
    "        df_match = pd.concat([df_match, df_match_temp])\n",
    "        \n",
    "        # -----------------------------------\n",
    "        # DataFrame to store official details\n",
    "        df_umpire = pd.json_normalize(df_info['officials'], sep = '_')\n",
    "        umpire_set = set()\n",
    "        \n",
    "        for column in df_umpire.columns:\n",
    "            umpire_set.update(df_umpire[column].explode().dropna())\n",
    "\n",
    "        df_umpire2 = pd.DataFrame(index=list(umpire_set), columns=df_umpire.columns).fillna(False)\n",
    "        \n",
    "        for column in df_umpire.columns:\n",
    "            df_umpire2[column] = df_umpire2.index.isin(df_umpire[column].explode().dropna())\n",
    "            \n",
    "        df_umpire2 = df_umpire2.reset_index().rename(columns={'index': 'name'}).assign(match_id = file)     \n",
    "        df_official = pd.concat([df_official, df_umpire2])\n",
    "\n",
    "        # -------------------------------------\n",
    "        # DataFrame to store - registry details\n",
    "        df_registry = pd.concat([\n",
    "            df_registry,\n",
    "            pd.DataFrame(list(data[\"info\"][\"registry\"][\"people\"].items()), columns=['people', 'identifier']).assign(match_id = file)\n",
    "        ])\n",
    "        \n",
    "        # -----------------------------------------\n",
    "        # DataFrame to store - match player details\n",
    "        df_player = pd.concat([\n",
    "            df_player,\n",
    "            pd.json_normalize(df_info['players']).melt(var_name='team', value_name='player').explode('player').assign(match_id = file)\n",
    "        ])\n",
    "        \n",
    "        # -------------------------------------------------\n",
    "        # DataFrame to store - innings details\n",
    "        df_innings = pd.concat([df_innings,\n",
    "                                pd.json_normalize(data['innings'], sep = '_').drop('overs', axis = 1).assign(match_id = file)])\n",
    "        \n",
    "        # -------------------------------------------------\n",
    "        # DataFrame to store - deliveries ball by ball\n",
    "        for i in data['innings']:\n",
    "            index = data['innings'].index(i)\n",
    "            df_deliveries = pd.concat([df_deliveries,\n",
    "                                        pd.json_normalize(i,\n",
    "                                                          record_path=['overs', 'deliveries'],\n",
    "                                                          meta=['team', ['overs', 'over']],\n",
    "                                                          sep='_'\n",
    "                                                         )\n",
    "                                        .assign(match_id=file, inning = index+1)\n",
    "                                       ])\n",
    "        \n",
    "        # --------------------------------------\n",
    "        # DataFrame to store - powerplay details\n",
    "        for i in data['innings']:\n",
    "            if 'powerplays' in pd.json_normalize(i).columns:\n",
    "                index = data['innings'].index(i)\n",
    "                df_powerplay = pd.concat([df_powerplay, pd.json_normalize(data['innings'][index], record_path = ['powerplays'], meta = ['team'], sep = '_').assign(match_id = file)])\n",
    "\n",
    "            if 'absent_hurt' in pd.json_normalize(i).columns:\n",
    "                index = data['innings'].index(i)\n",
    "                df_absent_hurt = pd.concat([\n",
    "                    df_absent_hurt,\n",
    "                    pd.json_normalize(data['innings'][index])[['team','absent_hurt']].explode('absent_hurt').assign(match_id = file)\n",
    "                ])                \n",
    "\n",
    "        df_miscounted_overs = pd.concat([df_miscounted_overs,pd.DataFrame([\n",
    "            {\n",
    "                \"team\": inning.get(\"team\", \"\"),\n",
    "                \"miscounted_over\": over_number,\n",
    "                \"balls\": over_data.get(\"balls\", \"\"),\n",
    "                \"umpire\": over_data.get(\"umpire\", \"\")\n",
    "            }\n",
    "            for inning in data.get(\"innings\", [])\n",
    "            for over_number, over_data in inning.get(\"miscounted_overs\", {}).items()\n",
    "        ]).assign(match_id = file)])\n",
    "        \n",
    "    print(file + \" executed!\")"
   ]
  },
  {
   "cell_type": "markdown",
   "id": "b1082a5a",
   "metadata": {},
   "source": [
    "## Adding/Modifying additional fields"
   ]
  },
  {
   "cell_type": "code",
   "execution_count": 8,
   "id": "7704b307",
   "metadata": {
    "ExecuteTime": {
     "end_time": "2024-01-20T10:00:02.915924Z",
     "start_time": "2024-01-20T10:00:02.844010Z"
    },
    "execution": {
     "iopub.execute_input": "2024-02-24T10:52:03.876771Z",
     "iopub.status.busy": "2024-02-24T10:52:03.875750Z",
     "iopub.status.idle": "2024-02-24T10:52:04.002013Z",
     "shell.execute_reply": "2024-02-24T10:52:04.000983Z",
     "shell.execute_reply.started": "2024-02-24T10:52:03.876771Z"
    }
   },
   "outputs": [],
   "source": [
    "match_id_list = \", \".join([f\"'{match_id}'\" for match_id in ids])\n",
    "\n",
    "df_meta['created'] = pd.to_datetime(df_meta['created'])\n",
    "\n",
    "# Merging registry details into match-player details\n",
    "df_player.reset_index(inplace = True, drop = True)\n",
    "df_registry.reset_index(inplace = True, drop = True)\n",
    "df_player.rename(columns = {'player':'name'}, inplace = True)\n",
    "df_player['player_id'] = df_player.merge(df_registry, how='left', left_on=['match_id', 'name'], right_on=['match_id', 'people'])['identifier']\n",
    "\n",
    "df_official.reset_index(inplace = True, drop = True)\n",
    "df_official['official_id'] = df_official.merge(df_registry, how='left', left_on=['match_id','name'], right_on=['match_id','people'])['identifier']\n",
    "\n",
    "df_miscounted_overs.reset_index(inplace = True, drop = True)\n",
    "\n",
    "df_innings.drop(['powerplays','absent_hurt'], axis=1, inplace=True, errors='ignore')\n",
    "df_innings.drop(df_innings.filter(like='miscounted_overs_').columns, axis=1, inplace=True, errors='ignore')\n",
    "\n",
    "if not df_absent_hurt.empty:\n",
    "    df_absent_hurt.reset_index(inplace = True, drop = True)\n",
    "    df_absent_hurt.rename(columns = {'absent_hurt':'name'}, inplace = True)\n",
    "    df_absent_hurt['player_id'] = df_absent_hurt.merge(df_registry, how='left', left_on=['match_id', 'name'], right_on=['match_id', 'people'])['identifier']\n",
    "    \n",
    "df_deliveries.reset_index(inplace = True, drop = True)\n",
    "df_deliveries.reset_index(inplace = True)"
   ]
  },
  {
   "cell_type": "markdown",
   "id": "2548c616",
   "metadata": {},
   "source": [
    "## Load data into Database"
   ]
  },
  {
   "cell_type": "markdown",
   "id": "dc5569cd",
   "metadata": {},
   "source": [
    "#### 1. Metadata"
   ]
  },
  {
   "cell_type": "code",
   "execution_count": 10,
   "id": "e8906782",
   "metadata": {
    "ExecuteTime": {
     "end_time": "2024-01-20T10:00:04.094255Z",
     "start_time": "2024-01-20T10:00:02.925368Z"
    },
    "execution": {
     "iopub.execute_input": "2024-02-24T10:52:39.105707Z",
     "iopub.status.busy": "2024-02-24T10:52:39.104704Z",
     "iopub.status.idle": "2024-02-24T10:52:40.115808Z",
     "shell.execute_reply": "2024-02-24T10:52:40.113700Z",
     "shell.execute_reply.started": "2024-02-24T10:52:39.104704Z"
    }
   },
   "outputs": [],
   "source": [
    "# Upsert MetaData information\n",
    "query = psql.upsert(\n",
    "    engine,\n",
    "    dataFrame = df_meta,\n",
    "    table = \"meta\",\n",
    "    schema = \"dwh\",\n",
    "    pk_col = list(df_meta.columns),\n",
    "    update_col = list(df_meta.columns))"
   ]
  },
  {
   "cell_type": "markdown",
   "id": "f3b9bf05",
   "metadata": {},
   "source": [
    "#### 2. Officials(umpires)"
   ]
  },
  {
   "cell_type": "code",
   "execution_count": 12,
   "id": "61d86674",
   "metadata": {
    "ExecuteTime": {
     "end_time": "2024-01-20T10:00:04.856637Z",
     "start_time": "2024-01-20T10:00:04.103272Z"
    },
    "execution": {
     "iopub.execute_input": "2024-02-24T10:57:04.597464Z",
     "iopub.status.busy": "2024-02-24T10:57:04.597464Z",
     "iopub.status.idle": "2024-02-24T10:57:05.357762Z",
     "shell.execute_reply": "2024-02-24T10:57:05.357762Z",
     "shell.execute_reply.started": "2024-02-24T10:57:04.597464Z"
    }
   },
   "outputs": [],
   "source": [
    "# Load official(umpires) information\n",
    "with engine.connect() as conn:\n",
    "    conn.execute(f\"DELETE FROM dwh.official WHERE match_id IN ({match_id_list})\")\n",
    "    \n",
    "count_rows = df_official.to_sql('official', schema='dwh', con=engine, if_exists='append', method='multi', index=False)\n",
    "\n",
    "with engine.connect() as conn:\n",
    "    conn.execute(\"\"\"\n",
    "        UPDATE dwh.official OF\n",
    "        SET is_registered = FALSE\n",
    "        FROM dwh.people P\n",
    "        WHERE OF.name = P.identifier AND P.identifier IS NULL;\n",
    "    \"\"\")\n",
    "    \n",
    "    conn.execute(\"\"\"\n",
    "        UPDATE dwh.official off\n",
    "        SET official_id_num = p.id\n",
    "        FROM dwh.people p\n",
    "        WHERE off.official_id = p.identifier\n",
    "        AND official_id_num IS NULL;\n",
    "    \"\"\")    "
   ]
  },
  {
   "cell_type": "markdown",
   "id": "b5a38d81",
   "metadata": {},
   "source": [
    "#### 3. Player-match (players who played a particular match) & Team"
   ]
  },
  {
   "cell_type": "code",
   "execution_count": 13,
   "id": "112c2bc5",
   "metadata": {
    "ExecuteTime": {
     "end_time": "2024-01-20T10:00:05.707408Z",
     "start_time": "2024-01-20T10:00:04.856637Z"
    },
    "execution": {
     "iopub.execute_input": "2024-02-24T10:57:44.132470Z",
     "iopub.status.busy": "2024-02-24T10:57:44.131384Z",
     "iopub.status.idle": "2024-02-24T10:57:45.190962Z",
     "shell.execute_reply": "2024-02-24T10:57:45.190864Z",
     "shell.execute_reply.started": "2024-02-24T10:57:44.132470Z"
    }
   },
   "outputs": [],
   "source": [
    "# Load match_player information into Stage table\n",
    "with engine.connect() as conn:\n",
    "    conn.execute(\"TRUNCATE TABLE stg.match_player\")\n",
    "\n",
    "count_rows = df_player.to_sql('match_player', schema = 'stg', con = engine, if_exists='append', method = 'multi', index = False)"
   ]
  },
  {
   "cell_type": "code",
   "execution_count": 14,
   "id": "419810c7",
   "metadata": {
    "ExecuteTime": {
     "end_time": "2024-01-20T10:00:05.782994Z",
     "start_time": "2024-01-20T10:00:05.713007Z"
    },
    "execution": {
     "iopub.execute_input": "2024-02-24T10:58:10.417738Z",
     "iopub.status.busy": "2024-02-24T10:58:10.416601Z",
     "iopub.status.idle": "2024-02-24T10:58:10.522554Z",
     "shell.execute_reply": "2024-02-24T10:58:10.521725Z",
     "shell.execute_reply.started": "2024-02-24T10:58:10.417738Z"
    }
   },
   "outputs": [],
   "source": [
    "# Load match information into dwh layer\n",
    "with engine.connect() as conn:\n",
    "    conn.execution_options(isolation_level = \"AUTOCOMMIT\")\n",
    "    with conn.begin():\n",
    "        conn.execute(\"CALL dwh.LoadMatchPlayerAndTeam()\")"
   ]
  },
  {
   "cell_type": "markdown",
   "id": "1907f590",
   "metadata": {},
   "source": [
    "#### 4. Match details"
   ]
  },
  {
   "cell_type": "code",
   "execution_count": 17,
   "id": "0d3d2fb3",
   "metadata": {
    "ExecuteTime": {
     "end_time": "2024-01-20T10:00:06.302371Z",
     "start_time": "2024-01-20T10:00:05.787810Z"
    },
    "execution": {
     "iopub.execute_input": "2024-02-24T11:21:23.037787Z",
     "iopub.status.busy": "2024-02-24T11:21:23.035796Z",
     "iopub.status.idle": "2024-02-24T11:21:23.466380Z",
     "shell.execute_reply": "2024-02-24T11:21:23.463514Z",
     "shell.execute_reply.started": "2024-02-24T11:21:23.037787Z"
    }
   },
   "outputs": [],
   "source": [
    "# Load match information into Stage table\n",
    "with engine.connect() as conn:\n",
    "    conn.execute(\"TRUNCATE TABLE stg.match\")\n",
    "\n",
    "count_rows = df_match.to_sql('match', schema = 'stg', con = engine, if_exists='append', method = 'multi', index = False)"
   ]
  },
  {
   "cell_type": "code",
   "execution_count": 18,
   "id": "66c5ed1e",
   "metadata": {
    "ExecuteTime": {
     "end_time": "2024-01-20T10:00:06.401152Z",
     "start_time": "2024-01-20T10:00:06.302884Z"
    },
    "execution": {
     "iopub.execute_input": "2024-02-24T11:21:24.440822Z",
     "iopub.status.busy": "2024-02-24T11:21:24.440822Z",
     "iopub.status.idle": "2024-02-24T11:21:24.519677Z",
     "shell.execute_reply": "2024-02-24T11:21:24.519677Z",
     "shell.execute_reply.started": "2024-02-24T11:21:24.440822Z"
    }
   },
   "outputs": [],
   "source": [
    "# Load match information into dwh layer\n",
    "with engine.connect() as conn:\n",
    "    conn.execution_options(isolation_level = \"AUTOCOMMIT\")\n",
    "    with conn.begin():\n",
    "        conn.execute(\"CALL dwh.LoadMatch()\")"
   ]
  },
  {
   "cell_type": "markdown",
   "id": "96a5225c",
   "metadata": {},
   "source": [
    "#### 5. absent hurt details"
   ]
  },
  {
   "cell_type": "code",
   "execution_count": 19,
   "id": "fa7eded2",
   "metadata": {
    "ExecuteTime": {
     "end_time": "2024-01-20T10:00:06.863315Z",
     "start_time": "2024-01-20T10:00:06.412891Z"
    },
    "execution": {
     "iopub.execute_input": "2024-02-24T11:21:39.553880Z",
     "iopub.status.busy": "2024-02-24T11:21:39.552681Z",
     "iopub.status.idle": "2024-02-24T11:21:39.869942Z",
     "shell.execute_reply": "2024-02-24T11:21:39.869942Z",
     "shell.execute_reply.started": "2024-02-24T11:21:39.552681Z"
    }
   },
   "outputs": [],
   "source": [
    "query = psql.insert_without_duplicate(\n",
    "    engine,\n",
    "    dataFrame = df_absent_hurt,\n",
    "    table = \"absent_hurt\",\n",
    "    schema = \"dwh\",\n",
    "    conflict_col = list(df_absent_hurt.columns))"
   ]
  },
  {
   "cell_type": "markdown",
   "id": "b190a5ee",
   "metadata": {},
   "source": [
    "#### 6. miscounted overs"
   ]
  },
  {
   "cell_type": "code",
   "execution_count": 21,
   "id": "019b5937",
   "metadata": {
    "ExecuteTime": {
     "end_time": "2024-01-20T10:00:07.383898Z",
     "start_time": "2024-01-20T10:00:06.865825Z"
    },
    "execution": {
     "iopub.execute_input": "2024-02-24T11:22:35.452339Z",
     "iopub.status.busy": "2024-02-24T11:22:35.451338Z",
     "iopub.status.idle": "2024-02-24T11:22:35.869565Z",
     "shell.execute_reply": "2024-02-24T11:22:35.869565Z",
     "shell.execute_reply.started": "2024-02-24T11:22:35.452339Z"
    }
   },
   "outputs": [],
   "source": [
    "with engine.connect() as conn:\n",
    "    conn.execute(f\"DELETE FROM dwh.miscounted_over WHERE match_id IN ({match_id_list})\")\n",
    "    \n",
    "count_rows = df_miscounted_overs.to_sql('miscounted_over', schema='dwh', con=engine, if_exists='append', method='multi', index=False)\n",
    "\n",
    "with engine.connect() as conn:\n",
    "    conn.execute(\"\"\"\n",
    "        UPDATE dwh.miscounted_over MO\n",
    "        SET umpire = NULL\n",
    "        WHERE umpire = ''\n",
    "    \"\"\")\n",
    "    \n",
    "    conn.execute(\"\"\"\n",
    "        UPDATE dwh.miscounted_over MO\n",
    "        SET umpire_id_num = official_id_num\n",
    "        FROM dwh.official OFF\n",
    "        WHERE MO.match_id = OFF.match_id AND MO.umpire = OFF.name AND MO.umpire_id_num IS NULL;\n",
    "    \"\"\")"
   ]
  },
  {
   "cell_type": "markdown",
   "id": "90291d99",
   "metadata": {
    "ExecuteTime": {
     "end_time": "2023-12-03T16:08:10.084299Z",
     "start_time": "2023-12-03T16:08:10.034595Z"
    }
   },
   "source": [
    "#### 7. innings"
   ]
  },
  {
   "cell_type": "code",
   "execution_count": 23,
   "id": "ecaacffd",
   "metadata": {
    "ExecuteTime": {
     "end_time": "2024-01-20T10:00:07.821167Z",
     "start_time": "2024-01-20T10:00:07.389660Z"
    },
    "execution": {
     "iopub.execute_input": "2024-02-24T11:24:08.354180Z",
     "iopub.status.busy": "2024-02-24T11:24:08.354180Z",
     "iopub.status.idle": "2024-02-24T11:24:08.665639Z",
     "shell.execute_reply": "2024-02-24T11:24:08.665639Z",
     "shell.execute_reply.started": "2024-02-24T11:24:08.354180Z"
    }
   },
   "outputs": [
    {
     "data": {
      "text/plain": [
       "577"
      ]
     },
     "execution_count": 23,
     "metadata": {},
     "output_type": "execute_result"
    }
   ],
   "source": [
    "with engine.connect() as conn:\n",
    "    conn.execute(\"TRUNCATE TABLE stg.inning\")\n",
    "    \n",
    "df_innings.to_sql('inning', schema = 'stg', con = engine, if_exists='append', method = 'multi', index = False)"
   ]
  },
  {
   "cell_type": "code",
   "execution_count": 24,
   "id": "7e5fec3d",
   "metadata": {
    "ExecuteTime": {
     "end_time": "2024-01-20T10:00:07.917990Z",
     "start_time": "2024-01-20T10:00:07.827913Z"
    },
    "execution": {
     "iopub.execute_input": "2024-02-24T11:24:32.776619Z",
     "iopub.status.busy": "2024-02-24T11:24:32.772690Z",
     "iopub.status.idle": "2024-02-24T11:24:32.855806Z",
     "shell.execute_reply": "2024-02-24T11:24:32.855806Z",
     "shell.execute_reply.started": "2024-02-24T11:24:32.772690Z"
    }
   },
   "outputs": [],
   "source": [
    "with engine.connect() as conn:\n",
    "    conn.execution_options(isolation_level = \"AUTOCOMMIT\")\n",
    "    with conn.begin():\n",
    "        conn.execute(\"CALL dwh.LoadInning()\") "
   ]
  },
  {
   "cell_type": "markdown",
   "id": "2bb0563a",
   "metadata": {},
   "source": [
    "#### 8. powerplay"
   ]
  },
  {
   "cell_type": "code",
   "execution_count": 25,
   "id": "a0aca76d",
   "metadata": {
    "ExecuteTime": {
     "end_time": "2024-01-20T10:00:08.297207Z",
     "start_time": "2024-01-20T10:00:07.923330Z"
    },
    "execution": {
     "iopub.execute_input": "2024-02-24T11:24:42.280851Z",
     "iopub.status.busy": "2024-02-24T11:24:42.279851Z",
     "iopub.status.idle": "2024-02-24T11:24:42.768394Z",
     "shell.execute_reply": "2024-02-24T11:24:42.766594Z",
     "shell.execute_reply.started": "2024-02-24T11:24:42.280851Z"
    }
   },
   "outputs": [
    {
     "data": {
      "text/plain": [
       "1230"
      ]
     },
     "execution_count": 25,
     "metadata": {},
     "output_type": "execute_result"
    }
   ],
   "source": [
    "with engine.connect() as conn:\n",
    "    conn.execute(\"TRUNCATE TABLE stg.powerplay\")\n",
    "\n",
    "df_powerplay.to_sql('powerplay', schema = 'stg', con = engine, if_exists='append', method = 'multi', index = False)"
   ]
  },
  {
   "cell_type": "code",
   "execution_count": 26,
   "id": "a0be5aef",
   "metadata": {
    "ExecuteTime": {
     "end_time": "2024-01-20T10:00:08.401140Z",
     "start_time": "2024-01-20T10:00:08.304220Z"
    },
    "execution": {
     "iopub.execute_input": "2024-02-24T11:24:57.574659Z",
     "iopub.status.busy": "2024-02-24T11:24:57.573658Z",
     "iopub.status.idle": "2024-02-24T11:24:57.660316Z",
     "shell.execute_reply": "2024-02-24T11:24:57.660316Z",
     "shell.execute_reply.started": "2024-02-24T11:24:57.574659Z"
    }
   },
   "outputs": [],
   "source": [
    "with engine.connect() as conn:\n",
    "    conn.execution_options(isolation_level = \"AUTOCOMMIT\")\n",
    "    with conn.begin():\n",
    "        conn.execute(\"CALL dwh.LoadPowerplay()\") "
   ]
  },
  {
   "cell_type": "markdown",
   "id": "ed483dd0",
   "metadata": {},
   "source": [
    "#### 9. delivery"
   ]
  },
  {
   "cell_type": "code",
   "execution_count": 27,
   "id": "963eb83d",
   "metadata": {
    "ExecuteTime": {
     "end_time": "2024-01-20T10:01:01.905707Z",
     "start_time": "2024-01-20T10:00:08.405390Z"
    },
    "execution": {
     "iopub.execute_input": "2024-02-24T11:25:12.147208Z",
     "iopub.status.busy": "2024-02-24T11:25:12.147208Z",
     "iopub.status.idle": "2024-02-24T11:26:46.025209Z",
     "shell.execute_reply": "2024-02-24T11:26:46.024202Z",
     "shell.execute_reply.started": "2024-02-24T11:25:12.147208Z"
    }
   },
   "outputs": [
    {
     "data": {
      "text/plain": [
       "154143"
      ]
     },
     "execution_count": 27,
     "metadata": {},
     "output_type": "execute_result"
    }
   ],
   "source": [
    "with engine.connect() as conn:\n",
    "    conn.execute(\"TRUNCATE TABLE stg.delivery\")\n",
    "\n",
    "df_deliveries.to_sql('delivery', \n",
    "                     schema = 'stg', \n",
    "                     con = engine, \n",
    "                     if_exists='append', \n",
    "                     method = 'multi', \n",
    "                     dtype = {\n",
    "                                 \"wickets\":altypes.JSON(none_as_null=True),\n",
    "                                 \"replacements_match\":altypes.JSON(none_as_null=True),\n",
    "                                 \"replacements_role\":altypes.JSON(none_as_null=True)\n",
    "                             },\n",
    "                     index = False,\n",
    "                     chunksize = 5000)\n",
    "\n",
    "## 692 records per second | chunksize = 10k\n",
    "# 1076 records per second | chunksize = 2k\n",
    "# 1050 records per second | chunksize = 1024\n",
    "# 1015 records per second | chunksize = 1k\n",
    "# 1005 records per second | chunksize = 750"
   ]
  },
  {
   "cell_type": "code",
   "execution_count": 30,
   "id": "a30e53f8",
   "metadata": {
    "ExecuteTime": {
     "end_time": "2024-01-20T10:01:04.333318Z",
     "start_time": "2024-01-20T10:01:01.914106Z"
    },
    "execution": {
     "iopub.execute_input": "2024-02-24T11:56:27.596289Z",
     "iopub.status.busy": "2024-02-24T11:56:27.594858Z",
     "iopub.status.idle": "2024-02-24T11:56:33.719759Z",
     "shell.execute_reply": "2024-02-24T11:56:33.719759Z",
     "shell.execute_reply.started": "2024-02-24T11:56:27.596289Z"
    }
   },
   "outputs": [],
   "source": [
    "with engine.connect() as conn:\n",
    "    conn.execution_options(isolation_level = \"AUTOCOMMIT\")\n",
    "    with conn.begin():\n",
    "        conn.execute(\"CALL dwh.LoadDelivery()\")"
   ]
  }
 ],
 "metadata": {
  "kernelspec": {
   "display_name": "Python 3 (ipykernel)",
   "language": "python",
   "name": "python3"
  },
  "language_info": {
   "codemirror_mode": {
    "name": "ipython",
    "version": 3
   },
   "file_extension": ".py",
   "mimetype": "text/x-python",
   "name": "python",
   "nbconvert_exporter": "python",
   "pygments_lexer": "ipython3",
   "version": "3.11.5"
  },
  "toc": {
   "base_numbering": 1,
   "nav_menu": {},
   "number_sections": true,
   "sideBar": true,
   "skip_h1_title": false,
   "title_cell": "Table of Contents",
   "title_sidebar": "Contents",
   "toc_cell": false,
   "toc_position": {},
   "toc_section_display": true,
   "toc_window_display": false
  },
  "varInspector": {
   "cols": {
    "lenName": 16,
    "lenType": 16,
    "lenVar": 40
   },
   "kernels_config": {
    "python": {
     "delete_cmd_postfix": "",
     "delete_cmd_prefix": "del ",
     "library": "var_list.py",
     "varRefreshCmd": "print(var_dic_list())"
    },
    "r": {
     "delete_cmd_postfix": ") ",
     "delete_cmd_prefix": "rm(",
     "library": "var_list.r",
     "varRefreshCmd": "cat(var_dic_list()) "
    }
   },
   "position": {
    "height": "156.042px",
    "left": "1382.44px",
    "right": "20px",
    "top": "120px",
    "width": "315.417px"
   },
   "types_to_exclude": [
    "module",
    "function",
    "builtin_function_or_method",
    "instance",
    "_Feature"
   ],
   "window_display": false
  }
 },
 "nbformat": 4,
 "nbformat_minor": 5
}
