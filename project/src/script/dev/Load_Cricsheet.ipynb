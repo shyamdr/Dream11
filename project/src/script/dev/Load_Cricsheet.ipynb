{
 "cells": [
  {
   "cell_type": "code",
   "execution_count": 1,
   "id": "c3b892dc-8bc4-45ea-8cb9-57391f9ee1f4",
   "metadata": {
    "execution": {
     "iopub.execute_input": "2024-11-17T07:31:23.505917Z",
     "iopub.status.busy": "2024-11-17T07:31:23.504917Z",
     "iopub.status.idle": "2024-11-17T07:31:23.538430Z",
     "shell.execute_reply": "2024-11-17T07:31:23.536359Z",
     "shell.execute_reply.started": "2024-11-17T07:31:23.505917Z"
    }
   },
   "outputs": [
    {
     "data": {
      "text/plain": [
       "\"\\nData Already Loaded : \\nBY MATCH TYPE :\\n - T20 Intenationals\\n - One-day Internationals\\n - One-day Matches \\n - Non-official T20 internationals\\n\\nBY CLUB COMPETITION :\\n - Afghanistan Premier League - apl\\n - Big Bash League - bbl\\n - Bangladesh Premier League - bpl\\n - Carribean Premier League - cpl\\n - CSA T20 Challenge - ctc\\n - International League T20 - ilt\\n - Lanka Premier League - lpl\\n - Major League cricket - mlc\\n - Mzansi Super League - msl\\n - Vitality T20 Blast - ntb\\n - Pakistan Super League - psl\\n - Royal London One-Day cup - rlc\\n - SA20 League - sat\\n - Super Smash - ssm\\n - Women big bash league - wbb\\n - Women's Premier League - wpl\\n - Women's Carribean Premier League - wcl\\n - Women's Cricket Super League - wsl\\n - Women's T20 Challenge - wtc\\n\""
      ]
     },
     "execution_count": 1,
     "metadata": {},
     "output_type": "execute_result"
    }
   ],
   "source": [
    "\"\"\"\n",
    "Data Already Loaded : \n",
    "BY MATCH TYPE :\n",
    " - T20 Intenationals\n",
    " - One-day Internationals\n",
    " - One-day Matches \n",
    " - Non-official T20 internationals\n",
    "\n",
    "BY CLUB COMPETITION :\n",
    " - Afghanistan Premier League - apl\n",
    " - Big Bash League - bbl\n",
    " - Bangladesh Premier League - bpl\n",
    " - Carribean Premier League - cpl\n",
    " - CSA T20 Challenge - ctc\n",
    " - International League T20 - ilt\n",
    " - Lanka Premier League - lpl\n",
    " - Major League cricket - mlc\n",
    " - Mzansi Super League - msl\n",
    " - Vitality T20 Blast - ntb\n",
    " - Pakistan Super League - psl\n",
    " - Royal London One-Day cup - rlc\n",
    " - SA20 League - sat\n",
    " - Super Smash - ssm\n",
    " - Women big bash league - wbb\n",
    " - Women's Premier League - wpl\n",
    " - Women's Carribean Premier League - wcl\n",
    " - Women's Cricket Super League - wsl\n",
    " - Women's T20 Challenge - wtc\n",
    "\"\"\""
   ]
  },
  {
   "cell_type": "markdown",
   "id": "7153f525-daf8-40cb-985b-49f42a68820e",
   "metadata": {
    "tags": []
   },
   "source": [
    "# Importing Libraries"
   ]
  },
  {
   "cell_type": "code",
   "execution_count": 2,
   "id": "a26ef43b",
   "metadata": {
    "ExecuteTime": {
     "end_time": "2024-01-20T09:59:40.206381Z",
     "start_time": "2024-01-20T09:59:40.193680Z"
    },
    "execution": {
     "iopub.execute_input": "2024-11-17T07:31:27.994417Z",
     "iopub.status.busy": "2024-11-17T07:31:27.989188Z",
     "iopub.status.idle": "2024-11-17T07:31:30.740285Z",
     "shell.execute_reply": "2024-11-17T07:31:30.740285Z",
     "shell.execute_reply.started": "2024-11-17T07:31:27.994417Z"
    },
    "tags": []
   },
   "outputs": [],
   "source": [
    "import requests\n",
    "import io\n",
    "import zipfile\n",
    "import re\n",
    "import pandas as pd\n",
    "import numpy as np\n",
    "import json\n",
    "import modules.psql as psql\n",
    "from sqlalchemy import types as altypes"
   ]
  },
  {
   "cell_type": "markdown",
   "id": "3b1b8138",
   "metadata": {},
   "source": [
    "# Postgres Configuration"
   ]
  },
  {
   "cell_type": "code",
   "execution_count": 3,
   "id": "1710c3bf",
   "metadata": {
    "ExecuteTime": {
     "end_time": "2024-01-20T09:59:40.625570Z",
     "start_time": "2024-01-20T09:59:40.543705Z"
    },
    "execution": {
     "iopub.execute_input": "2024-11-17T07:31:30.752756Z",
     "iopub.status.busy": "2024-11-17T07:31:30.748834Z",
     "iopub.status.idle": "2024-11-17T07:31:33.658957Z",
     "shell.execute_reply": "2024-11-17T07:31:33.658305Z",
     "shell.execute_reply.started": "2024-11-17T07:31:30.751760Z"
    }
   },
   "outputs": [
    {
     "ename": "OperationalError",
     "evalue": "could not translate host name \"cricket-analytics.cqxpcrpgvaqj.ap-south-1.rds.amazonaws.com\" to address: No such host is known. \n",
     "output_type": "error",
     "traceback": [
      "\u001b[1;31m---------------------------------------------------------------------------\u001b[0m",
      "\u001b[1;31mOperationalError\u001b[0m                          Traceback (most recent call last)",
      "File \u001b[1;32m~\\AppData\\Local\\Temp\\ipykernel_18912\\1382773747.py:1\u001b[0m\n\u001b[1;32m----> 1\u001b[0m connection \u001b[38;5;241m=\u001b[39m \u001b[43mpsycopg2\u001b[49m\u001b[38;5;241;43m.\u001b[39;49m\u001b[43mconnect\u001b[49m\u001b[43m(\u001b[49m\u001b[38;5;241;43m*\u001b[39;49m\u001b[38;5;241;43m*\u001b[39;49m\u001b[43mdb_params\u001b[49m\u001b[43m)\u001b[49m\n",
      "File \u001b[1;32m~\\anaconda3\\Lib\\site-packages\\psycopg2\\__init__.py:122\u001b[0m, in \u001b[0;36mconnect\u001b[1;34m(dsn, connection_factory, cursor_factory, **kwargs)\u001b[0m\n\u001b[0;32m    119\u001b[0m     kwasync[\u001b[38;5;124m'\u001b[39m\u001b[38;5;124masync_\u001b[39m\u001b[38;5;124m'\u001b[39m] \u001b[38;5;241m=\u001b[39m kwargs\u001b[38;5;241m.\u001b[39mpop(\u001b[38;5;124m'\u001b[39m\u001b[38;5;124masync_\u001b[39m\u001b[38;5;124m'\u001b[39m)\n\u001b[0;32m    121\u001b[0m dsn \u001b[38;5;241m=\u001b[39m _ext\u001b[38;5;241m.\u001b[39mmake_dsn(dsn, \u001b[38;5;241m*\u001b[39m\u001b[38;5;241m*\u001b[39mkwargs)\n\u001b[1;32m--> 122\u001b[0m conn \u001b[38;5;241m=\u001b[39m \u001b[43m_connect\u001b[49m\u001b[43m(\u001b[49m\u001b[43mdsn\u001b[49m\u001b[43m,\u001b[49m\u001b[43m \u001b[49m\u001b[43mconnection_factory\u001b[49m\u001b[38;5;241;43m=\u001b[39;49m\u001b[43mconnection_factory\u001b[49m\u001b[43m,\u001b[49m\u001b[43m \u001b[49m\u001b[38;5;241;43m*\u001b[39;49m\u001b[38;5;241;43m*\u001b[39;49m\u001b[43mkwasync\u001b[49m\u001b[43m)\u001b[49m\n\u001b[0;32m    123\u001b[0m \u001b[38;5;28;01mif\u001b[39;00m cursor_factory \u001b[38;5;129;01mis\u001b[39;00m \u001b[38;5;129;01mnot\u001b[39;00m \u001b[38;5;28;01mNone\u001b[39;00m:\n\u001b[0;32m    124\u001b[0m     conn\u001b[38;5;241m.\u001b[39mcursor_factory \u001b[38;5;241m=\u001b[39m cursor_factory\n",
      "\u001b[1;31mOperationalError\u001b[0m: could not translate host name \"cricket-analytics.cqxpcrpgvaqj.ap-south-1.rds.amazonaws.com\" to address: No such host is known. \n"
     ]
    },
    {
     "ename": "OperationalError",
     "evalue": "could not translate host name \"cricket-analytics.cqxpcrpgvaqj.ap-south-1.rds.amazonaws.com\" to address: No such host is known. \n",
     "output_type": "error",
     "traceback": [
      "\u001b[1;31m---------------------------------------------------------------------------\u001b[0m",
      "\u001b[1;31mOperationalError\u001b[0m                          Traceback (most recent call last)",
      "Cell \u001b[1;32mIn[3], line 1\u001b[0m\n\u001b[1;32m----> 1\u001b[0m \u001b[43mget_ipython\u001b[49m\u001b[43m(\u001b[49m\u001b[43m)\u001b[49m\u001b[38;5;241;43m.\u001b[39;49m\u001b[43mrun_line_magic\u001b[49m\u001b[43m(\u001b[49m\u001b[38;5;124;43m'\u001b[39;49m\u001b[38;5;124;43mrun\u001b[39;49m\u001b[38;5;124;43m'\u001b[39;49m\u001b[43m,\u001b[49m\u001b[43m \u001b[49m\u001b[38;5;124;43m'\u001b[39;49m\u001b[38;5;124;43mconfig_psql.ipynb\u001b[39;49m\u001b[38;5;124;43m'\u001b[39;49m\u001b[43m)\u001b[49m\n",
      "File \u001b[1;32m~\\AppData\\Roaming\\Python\\Python311\\site-packages\\IPython\\core\\interactiveshell.py:2432\u001b[0m, in \u001b[0;36mInteractiveShell.run_line_magic\u001b[1;34m(self, magic_name, line, _stack_depth)\u001b[0m\n\u001b[0;32m   2430\u001b[0m     kwargs[\u001b[38;5;124m'\u001b[39m\u001b[38;5;124mlocal_ns\u001b[39m\u001b[38;5;124m'\u001b[39m] \u001b[38;5;241m=\u001b[39m \u001b[38;5;28mself\u001b[39m\u001b[38;5;241m.\u001b[39mget_local_scope(stack_depth)\n\u001b[0;32m   2431\u001b[0m \u001b[38;5;28;01mwith\u001b[39;00m \u001b[38;5;28mself\u001b[39m\u001b[38;5;241m.\u001b[39mbuiltin_trap:\n\u001b[1;32m-> 2432\u001b[0m     result \u001b[38;5;241m=\u001b[39m \u001b[43mfn\u001b[49m\u001b[43m(\u001b[49m\u001b[38;5;241;43m*\u001b[39;49m\u001b[43margs\u001b[49m\u001b[43m,\u001b[49m\u001b[43m \u001b[49m\u001b[38;5;241;43m*\u001b[39;49m\u001b[38;5;241;43m*\u001b[39;49m\u001b[43mkwargs\u001b[49m\u001b[43m)\u001b[49m\n\u001b[0;32m   2434\u001b[0m \u001b[38;5;66;03m# The code below prevents the output from being displayed\u001b[39;00m\n\u001b[0;32m   2435\u001b[0m \u001b[38;5;66;03m# when using magics with decorator @output_can_be_silenced\u001b[39;00m\n\u001b[0;32m   2436\u001b[0m \u001b[38;5;66;03m# when the last Python token in the expression is a ';'.\u001b[39;00m\n\u001b[0;32m   2437\u001b[0m \u001b[38;5;28;01mif\u001b[39;00m \u001b[38;5;28mgetattr\u001b[39m(fn, magic\u001b[38;5;241m.\u001b[39mMAGIC_OUTPUT_CAN_BE_SILENCED, \u001b[38;5;28;01mFalse\u001b[39;00m):\n",
      "File \u001b[1;32m~\\AppData\\Roaming\\Python\\Python311\\site-packages\\IPython\\core\\magics\\execution.py:737\u001b[0m, in \u001b[0;36mExecutionMagics.run\u001b[1;34m(self, parameter_s, runner, file_finder)\u001b[0m\n\u001b[0;32m    735\u001b[0m     \u001b[38;5;28;01mwith\u001b[39;00m preserve_keys(\u001b[38;5;28mself\u001b[39m\u001b[38;5;241m.\u001b[39mshell\u001b[38;5;241m.\u001b[39muser_ns, \u001b[38;5;124m'\u001b[39m\u001b[38;5;124m__file__\u001b[39m\u001b[38;5;124m'\u001b[39m):\n\u001b[0;32m    736\u001b[0m         \u001b[38;5;28mself\u001b[39m\u001b[38;5;241m.\u001b[39mshell\u001b[38;5;241m.\u001b[39muser_ns[\u001b[38;5;124m'\u001b[39m\u001b[38;5;124m__file__\u001b[39m\u001b[38;5;124m'\u001b[39m] \u001b[38;5;241m=\u001b[39m filename\n\u001b[1;32m--> 737\u001b[0m         \u001b[38;5;28;43mself\u001b[39;49m\u001b[38;5;241;43m.\u001b[39;49m\u001b[43mshell\u001b[49m\u001b[38;5;241;43m.\u001b[39;49m\u001b[43msafe_execfile_ipy\u001b[49m\u001b[43m(\u001b[49m\u001b[43mfilename\u001b[49m\u001b[43m,\u001b[49m\u001b[43m \u001b[49m\u001b[43mraise_exceptions\u001b[49m\u001b[38;5;241;43m=\u001b[39;49m\u001b[38;5;28;43;01mTrue\u001b[39;49;00m\u001b[43m)\u001b[49m\n\u001b[0;32m    738\u001b[0m     \u001b[38;5;28;01mreturn\u001b[39;00m\n\u001b[0;32m    740\u001b[0m \u001b[38;5;66;03m# Control the response to exit() calls made by the script being run\u001b[39;00m\n",
      "File \u001b[1;32m~\\AppData\\Roaming\\Python\\Python311\\site-packages\\IPython\\core\\interactiveshell.py:2954\u001b[0m, in \u001b[0;36mInteractiveShell.safe_execfile_ipy\u001b[1;34m(self, fname, shell_futures, raise_exceptions)\u001b[0m\n\u001b[0;32m   2952\u001b[0m result \u001b[38;5;241m=\u001b[39m \u001b[38;5;28mself\u001b[39m\u001b[38;5;241m.\u001b[39mrun_cell(cell, silent\u001b[38;5;241m=\u001b[39m\u001b[38;5;28;01mTrue\u001b[39;00m, shell_futures\u001b[38;5;241m=\u001b[39mshell_futures)\n\u001b[0;32m   2953\u001b[0m \u001b[38;5;28;01mif\u001b[39;00m raise_exceptions:\n\u001b[1;32m-> 2954\u001b[0m     \u001b[43mresult\u001b[49m\u001b[38;5;241;43m.\u001b[39;49m\u001b[43mraise_error\u001b[49m\u001b[43m(\u001b[49m\u001b[43m)\u001b[49m\n\u001b[0;32m   2955\u001b[0m \u001b[38;5;28;01melif\u001b[39;00m \u001b[38;5;129;01mnot\u001b[39;00m result\u001b[38;5;241m.\u001b[39msuccess:\n\u001b[0;32m   2956\u001b[0m     \u001b[38;5;28;01mbreak\u001b[39;00m\n",
      "File \u001b[1;32m~\\AppData\\Roaming\\Python\\Python311\\site-packages\\IPython\\core\\interactiveshell.py:270\u001b[0m, in \u001b[0;36mExecutionResult.raise_error\u001b[1;34m(self)\u001b[0m\n\u001b[0;32m    268\u001b[0m     \u001b[38;5;28;01mraise\u001b[39;00m \u001b[38;5;28mself\u001b[39m\u001b[38;5;241m.\u001b[39merror_before_exec\n\u001b[0;32m    269\u001b[0m \u001b[38;5;28;01mif\u001b[39;00m \u001b[38;5;28mself\u001b[39m\u001b[38;5;241m.\u001b[39merror_in_exec \u001b[38;5;129;01mis\u001b[39;00m \u001b[38;5;129;01mnot\u001b[39;00m \u001b[38;5;28;01mNone\u001b[39;00m:\n\u001b[1;32m--> 270\u001b[0m     \u001b[38;5;28;01mraise\u001b[39;00m \u001b[38;5;28mself\u001b[39m\u001b[38;5;241m.\u001b[39merror_in_exec\n",
      "    \u001b[1;31m[... skipping hidden 1 frame]\u001b[0m\n",
      "File \u001b[1;32m~\\AppData\\Local\\Temp\\ipykernel_18912\\1382773747.py:1\u001b[0m\n\u001b[1;32m----> 1\u001b[0m connection \u001b[38;5;241m=\u001b[39m \u001b[43mpsycopg2\u001b[49m\u001b[38;5;241;43m.\u001b[39;49m\u001b[43mconnect\u001b[49m\u001b[43m(\u001b[49m\u001b[38;5;241;43m*\u001b[39;49m\u001b[38;5;241;43m*\u001b[39;49m\u001b[43mdb_params\u001b[49m\u001b[43m)\u001b[49m\n",
      "File \u001b[1;32m~\\anaconda3\\Lib\\site-packages\\psycopg2\\__init__.py:122\u001b[0m, in \u001b[0;36mconnect\u001b[1;34m(dsn, connection_factory, cursor_factory, **kwargs)\u001b[0m\n\u001b[0;32m    119\u001b[0m     kwasync[\u001b[38;5;124m'\u001b[39m\u001b[38;5;124masync_\u001b[39m\u001b[38;5;124m'\u001b[39m] \u001b[38;5;241m=\u001b[39m kwargs\u001b[38;5;241m.\u001b[39mpop(\u001b[38;5;124m'\u001b[39m\u001b[38;5;124masync_\u001b[39m\u001b[38;5;124m'\u001b[39m)\n\u001b[0;32m    121\u001b[0m dsn \u001b[38;5;241m=\u001b[39m _ext\u001b[38;5;241m.\u001b[39mmake_dsn(dsn, \u001b[38;5;241m*\u001b[39m\u001b[38;5;241m*\u001b[39mkwargs)\n\u001b[1;32m--> 122\u001b[0m conn \u001b[38;5;241m=\u001b[39m \u001b[43m_connect\u001b[49m\u001b[43m(\u001b[49m\u001b[43mdsn\u001b[49m\u001b[43m,\u001b[49m\u001b[43m \u001b[49m\u001b[43mconnection_factory\u001b[49m\u001b[38;5;241;43m=\u001b[39;49m\u001b[43mconnection_factory\u001b[49m\u001b[43m,\u001b[49m\u001b[43m \u001b[49m\u001b[38;5;241;43m*\u001b[39;49m\u001b[38;5;241;43m*\u001b[39;49m\u001b[43mkwasync\u001b[49m\u001b[43m)\u001b[49m\n\u001b[0;32m    123\u001b[0m \u001b[38;5;28;01mif\u001b[39;00m cursor_factory \u001b[38;5;129;01mis\u001b[39;00m \u001b[38;5;129;01mnot\u001b[39;00m \u001b[38;5;28;01mNone\u001b[39;00m:\n\u001b[0;32m    124\u001b[0m     conn\u001b[38;5;241m.\u001b[39mcursor_factory \u001b[38;5;241m=\u001b[39m cursor_factory\n",
      "\u001b[1;31mOperationalError\u001b[0m: could not translate host name \"cricket-analytics.cqxpcrpgvaqj.ap-south-1.rds.amazonaws.com\" to address: No such host is known. \n"
     ]
    }
   ],
   "source": [
    "%run config_psql.ipynb"
   ]
  },
  {
   "cell_type": "markdown",
   "id": "3773860a",
   "metadata": {},
   "source": [
    "# Settings Configuration"
   ]
  },
  {
   "cell_type": "code",
   "execution_count": 4,
   "id": "33156a11",
   "metadata": {
    "ExecuteTime": {
     "end_time": "2024-01-20T09:59:40.909733Z",
     "start_time": "2024-01-20T09:59:40.894197Z"
    },
    "execution": {
     "iopub.execute_input": "2024-11-17T07:31:44.035721Z",
     "iopub.status.busy": "2024-11-17T07:31:44.034758Z",
     "iopub.status.idle": "2024-11-17T07:31:44.045802Z",
     "shell.execute_reply": "2024-11-17T07:31:44.042997Z",
     "shell.execute_reply.started": "2024-11-17T07:31:44.035721Z"
    },
    "tags": []
   },
   "outputs": [],
   "source": [
    "# Settings configurations\n",
    "\n",
    "pd.set_option('display.max_columns', None)\n",
    "pd.set_option('display.max_rows', None)"
   ]
  },
  {
   "cell_type": "markdown",
   "id": "1f847205",
   "metadata": {},
   "source": [
    "# Initializing parameters"
   ]
  },
  {
   "cell_type": "code",
   "execution_count": 5,
   "id": "84a070f3",
   "metadata": {
    "ExecuteTime": {
     "end_time": "2024-01-20T09:59:41.223079Z",
     "start_time": "2024-01-20T09:59:41.193571Z"
    },
    "execution": {
     "iopub.execute_input": "2024-11-17T07:31:47.210655Z",
     "iopub.status.busy": "2024-11-17T07:31:47.209470Z",
     "iopub.status.idle": "2024-11-17T07:31:47.235120Z",
     "shell.execute_reply": "2024-11-17T07:31:47.232260Z",
     "shell.execute_reply.started": "2024-11-17T07:31:47.210655Z"
    },
    "tags": []
   },
   "outputs": [],
   "source": [
    "url = \"https://cricsheet.org/downloads/wtc_json.zip\" # \"https://cricsheet.org/downloads/recently_played_30_json.zip\"\n",
    "filetype = \".json\"\n",
    "\n",
    "df_meta = pd.DataFrame()\n",
    "df_match = pd.DataFrame()\n",
    "df_official = pd.DataFrame()\n",
    "df_registry = pd.DataFrame()\n",
    "df_player = pd.DataFrame()\n",
    "df_innings = pd.DataFrame()\n",
    "df_deliveries = pd.DataFrame()\n",
    "df_powerplay = pd.DataFrame()\n",
    "df_absent_hurt = pd.DataFrame()\n",
    "df_miscounted_overs = pd.DataFrame()"
   ]
  },
  {
   "cell_type": "markdown",
   "id": "8554acca",
   "metadata": {},
   "source": [
    "# Read the downloaded data"
   ]
  },
  {
   "cell_type": "code",
   "execution_count": 6,
   "id": "c3f64acd",
   "metadata": {
    "ExecuteTime": {
     "end_time": "2024-01-20T09:59:45.901126Z",
     "start_time": "2024-01-20T09:59:41.522905Z"
    },
    "execution": {
     "iopub.execute_input": "2024-11-17T07:31:54.402895Z",
     "iopub.status.busy": "2024-11-17T07:31:54.401842Z",
     "iopub.status.idle": "2024-11-17T07:31:57.099155Z",
     "shell.execute_reply": "2024-11-17T07:31:57.097926Z",
     "shell.execute_reply.started": "2024-11-17T07:31:54.402895Z"
    },
    "tags": []
   },
   "outputs": [],
   "source": [
    "response = requests.get(url)\n",
    "\n",
    "if response.status_code == 200:\n",
    "    content = response.content\n",
    "    \n",
    "    zip_file = zipfile.ZipFile(io.BytesIO(content))\n",
    "    \n",
    "    with zip_file.open('README.txt') as f:\n",
    "        lines = [line.decode('utf-8') for line in f.readlines()]\n",
    "        pattern = re.compile(r'(\\d{4}-\\d{2}-\\d{2}) - ([^-]+) - ([^-]+) - (\\w+) - (\\d+) - (.+)')\n",
    "        ids = [match.group(5) for line in lines if (match := pattern.match(line))]\n",
    "    f.close()"
   ]
  },
  {
   "cell_type": "markdown",
   "id": "f1aa23f9",
   "metadata": {},
   "source": [
    "# Building indivudal DataFrames for different tables"
   ]
  },
  {
   "cell_type": "code",
   "execution_count": 7,
   "id": "36ce7cd8",
   "metadata": {
    "ExecuteTime": {
     "end_time": "2024-01-20T10:00:02.843737Z",
     "start_time": "2024-01-20T09:59:45.903223Z"
    },
    "code_folding": [],
    "execution": {
     "iopub.execute_input": "2024-11-17T07:32:00.714791Z",
     "iopub.status.busy": "2024-11-17T07:32:00.713835Z",
     "iopub.status.idle": "2024-11-17T07:32:01.760020Z",
     "shell.execute_reply": "2024-11-17T07:32:01.760020Z",
     "shell.execute_reply.started": "2024-11-17T07:32:00.714791Z"
    }
   },
   "outputs": [
    {
     "name": "stdout",
     "output_type": "stream",
     "text": [
      "13  files present\n"
     ]
    }
   ],
   "source": [
    "print(len(ids), \" files present\")\n",
    "count = 0\n",
    "# for file in ['1394811']:\n",
    "\n",
    "for file in ids:\n",
    "    count += 1\n",
    "    with zip_file.open(file+filetype) as jsonfile:\n",
    "        data = json.load(jsonfile)\n",
    "        # -----------------------------\n",
    "        # DataFrame to store - Metadata\n",
    "        df_meta = pd.concat([df_meta, pd.DataFrame([data[\"meta\"]]).assign(filename=file, filetype=filetype)])\n",
    "        \n",
    "        # ----------------------------------\n",
    "        # DataFrame to store - match details\n",
    "\n",
    "        df_info = pd.DataFrame([data[\"info\"]])\n",
    "        df_match_temp = pd.concat([\n",
    "            pd.DataFrame() if 'event' not in df_info.columns else pd.json_normalize(df_info['event'], sep='_').add_prefix('event_'),\n",
    "            # pd.json_normalize(df_info['event'], sep='_').add_prefix('event_'),\n",
    "            pd.DataFrame(df_info[list(set(['balls_per_over','season', 'gender', 'city', 'venue', 'match_type', 'match_type_number', 'overs', 'team_type']) & set(df_info.columns))]),\n",
    "            df_info['dates'].apply(lambda x: [x[0], x[-1]]).apply(pd.Series).rename(columns={0: 'start_date', 1: 'end_date'}),\n",
    "            df_info['teams'].apply(lambda x: [x[0], x[1]]).apply(pd.Series).rename(columns={0: 'team_host', 1: 'team_visitor'}),\n",
    "            pd.json_normalize(df_info['toss'], sep='_').add_prefix('toss_'),\n",
    "            pd.json_normalize(df_info['outcome'], sep='_').add_prefix('outcome_')\n",
    "        ], axis=1).assign(match_id = file)\n",
    "        if 'player_of_match' in df_info.columns:\n",
    "            df_match_temp['player_of_match'] = df_info['player_of_match'].apply(lambda x: ','.join(x))\n",
    "            \n",
    "        df_match = pd.concat([df_match, df_match_temp])\n",
    "        \n",
    "        # -----------------------------------\n",
    "        # DataFrame to store official details\n",
    "        if 'officials' in df_info.columns:\n",
    "            df_umpire = pd.json_normalize(df_info['officials'], sep = '_')\n",
    "            umpire_set = set()\n",
    "            \n",
    "            for column in df_umpire.columns:\n",
    "                umpire_set.update(df_umpire[column].explode().dropna())\n",
    "    \n",
    "            df_umpire2 = pd.DataFrame(index=list(umpire_set), columns=df_umpire.columns).fillna(False)\n",
    "            \n",
    "            for column in df_umpire.columns:\n",
    "                df_umpire2[column] = df_umpire2.index.isin(df_umpire[column].explode().dropna())\n",
    "                \n",
    "            df_umpire2 = df_umpire2.reset_index().rename(columns={'index': 'name'}).assign(match_id = file)     \n",
    "            df_official = pd.concat([df_official, df_umpire2])\n",
    "\n",
    "        # -------------------------------------\n",
    "        # DataFrame to store - registry details\n",
    "        df_registry = pd.concat([\n",
    "            df_registry,\n",
    "            pd.DataFrame(list(data[\"info\"][\"registry\"][\"people\"].items()), columns=['people', 'identifier']).assign(match_id = file)\n",
    "        ])\n",
    "        \n",
    "        # -----------------------------------------\n",
    "        # DataFrame to store - match player details\n",
    "        df_player = pd.concat([\n",
    "            df_player,\n",
    "            pd.json_normalize(df_info['players']).melt(var_name='team', value_name='player').explode('player').assign(match_id = file)\n",
    "        ])\n",
    "        \n",
    "        # -------------------------------------------------\n",
    "        # DataFrame to store - innings details\n",
    "        df_innings = pd.concat([df_innings,\n",
    "                                pd.json_normalize(data['innings'], sep = '_').drop('overs', axis = 1).assign(match_id = file)])\n",
    "        \n",
    "        # -------------------------------------------------\n",
    "        # DataFrame to store - deliveries ball by ball\n",
    "        for i in data['innings']:\n",
    "            index = data['innings'].index(i)\n",
    "            df_deliveries = pd.concat([df_deliveries,\n",
    "                                        pd.json_normalize(i,\n",
    "                                                          record_path=['overs', 'deliveries'],\n",
    "                                                          meta=['team', ['overs', 'over']],\n",
    "                                                          sep='_'\n",
    "                                                         )\n",
    "                                        .assign(match_id=file, inning = index+1)\n",
    "                                       ])\n",
    "        \n",
    "        # --------------------------------------\n",
    "        # DataFrame to store - powerplay details\n",
    "        for i in data['innings']:\n",
    "            if 'powerplays' in pd.json_normalize(i).columns:\n",
    "                index = data['innings'].index(i)\n",
    "                df_powerplay = pd.concat([df_powerplay, pd.json_normalize(data['innings'][index], record_path = ['powerplays'], meta = ['team'], sep = '_').assign(match_id = file)])\n",
    "\n",
    "            if 'absent_hurt' in pd.json_normalize(i).columns:\n",
    "                index = data['innings'].index(i)\n",
    "                df_absent_hurt = pd.concat([\n",
    "                    df_absent_hurt,\n",
    "                    pd.json_normalize(data['innings'][index])[['team','absent_hurt']].explode('absent_hurt').assign(match_id = file)\n",
    "                ])                \n",
    "\n",
    "        df_miscounted_overs = pd.concat([df_miscounted_overs,pd.DataFrame([\n",
    "            {\n",
    "                \"team\": inning.get(\"team\", \"\"),\n",
    "                \"miscounted_over\": over_number,\n",
    "                \"balls\": over_data.get(\"balls\", \"\"),\n",
    "                \"umpire\": over_data.get(\"umpire\", \"\")\n",
    "            }\n",
    "            for inning in data.get(\"innings\", [])\n",
    "            for over_number, over_data in inning.get(\"miscounted_overs\", {}).items()\n",
    "        ]).assign(match_id = file)])\n",
    "        \n",
    "    # print(file + \" executed!\")\n",
    "    if (count%100)==0:\n",
    "        print(\"{} files executed\".format(count))"
   ]
  },
  {
   "cell_type": "code",
   "execution_count": 8,
   "id": "f49387bb-39d7-47b8-82f8-0d614c5f5d66",
   "metadata": {
    "execution": {
     "iopub.execute_input": "2024-11-17T07:32:05.464155Z",
     "iopub.status.busy": "2024-11-17T07:32:05.462163Z",
     "iopub.status.idle": "2024-11-17T07:32:05.474214Z",
     "shell.execute_reply": "2024-11-17T07:32:05.473204Z",
     "shell.execute_reply.started": "2024-11-17T07:32:05.464155Z"
    }
   },
   "outputs": [
    {
     "data": {
      "text/plain": [
       "dict"
      ]
     },
     "execution_count": 8,
     "metadata": {},
     "output_type": "execute_result"
    }
   ],
   "source": [
    "type(data)"
   ]
  },
  {
   "cell_type": "markdown",
   "id": "b1082a5a",
   "metadata": {},
   "source": [
    "## Adding/Modifying additional fields"
   ]
  },
  {
   "cell_type": "code",
   "execution_count": 9,
   "id": "7704b307",
   "metadata": {
    "ExecuteTime": {
     "end_time": "2024-01-20T10:00:02.915924Z",
     "start_time": "2024-01-20T10:00:02.844010Z"
    },
    "execution": {
     "iopub.execute_input": "2024-11-17T07:32:09.065400Z",
     "iopub.status.busy": "2024-11-17T07:32:09.065400Z",
     "iopub.status.idle": "2024-11-17T07:32:09.121137Z",
     "shell.execute_reply": "2024-11-17T07:32:09.121137Z",
     "shell.execute_reply.started": "2024-11-17T07:32:09.065400Z"
    }
   },
   "outputs": [],
   "source": [
    "match_id_list = \", \".join([f\"'{match_id}'\" for match_id in ids])\n",
    "\n",
    "df_meta['created'] = pd.to_datetime(df_meta['created'])\n",
    "\n",
    "# Merging registry details into match-player details\n",
    "df_player.reset_index(inplace = True, drop = True)\n",
    "df_registry.reset_index(inplace = True, drop = True)\n",
    "df_player.rename(columns = {'player':'name'}, inplace = True)\n",
    "df_player['player_id'] = df_player.merge(df_registry, how='left', left_on=['match_id', 'name'], right_on=['match_id', 'people'])['identifier']\n",
    "\n",
    "df_official.reset_index(inplace = True, drop = True)\n",
    "df_official['official_id'] = df_official.merge(df_registry, how='left', left_on=['match_id','name'], right_on=['match_id','people'])['identifier']\n",
    "\n",
    "df_miscounted_overs.reset_index(inplace = True, drop = True)\n",
    "\n",
    "df_innings.drop(['powerplays','absent_hurt'], axis=1, inplace=True, errors='ignore')\n",
    "df_innings.drop(df_innings.filter(like='miscounted_overs_').columns, axis=1, inplace=True, errors='ignore')\n",
    "\n",
    "if not df_absent_hurt.empty:\n",
    "    df_absent_hurt.reset_index(inplace = True, drop = True)\n",
    "    df_absent_hurt.rename(columns = {'absent_hurt':'name'}, inplace = True)\n",
    "    df_absent_hurt['player_id'] = df_absent_hurt.merge(df_registry, how='left', left_on=['match_id', 'name'], right_on=['match_id', 'people'])['identifier']\n",
    "    \n",
    "df_deliveries.reset_index(inplace = True, drop = True)\n",
    "df_deliveries.reset_index(inplace = True)"
   ]
  },
  {
   "cell_type": "markdown",
   "id": "2548c616",
   "metadata": {},
   "source": [
    "## Load data into Database"
   ]
  },
  {
   "cell_type": "markdown",
   "id": "dc5569cd",
   "metadata": {},
   "source": [
    "#### 1. Metadata"
   ]
  },
  {
   "cell_type": "code",
   "execution_count": 530,
   "id": "e8906782",
   "metadata": {
    "ExecuteTime": {
     "end_time": "2024-01-20T10:00:04.094255Z",
     "start_time": "2024-01-20T10:00:02.925368Z"
    },
    "execution": {
     "iopub.execute_input": "2024-03-24T17:26:09.222028Z",
     "iopub.status.busy": "2024-03-24T17:26:09.216811Z",
     "iopub.status.idle": "2024-03-24T17:26:10.534717Z",
     "shell.execute_reply": "2024-03-24T17:26:10.534717Z",
     "shell.execute_reply.started": "2024-03-24T17:26:09.222028Z"
    }
   },
   "outputs": [],
   "source": [
    "# Upsert MetaData information\n",
    "query = psql.upsert(\n",
    "    engine,\n",
    "    dataFrame = df_meta,\n",
    "    table = \"meta\",\n",
    "    schema = \"dwh\",\n",
    "    pk_col = list(df_meta.columns),\n",
    "    update_col = list(df_meta.columns))"
   ]
  },
  {
   "cell_type": "markdown",
   "id": "f3b9bf05",
   "metadata": {},
   "source": [
    "#### 2. Officials(umpires)"
   ]
  },
  {
   "cell_type": "code",
   "execution_count": 531,
   "id": "61d86674",
   "metadata": {
    "ExecuteTime": {
     "end_time": "2024-01-20T10:00:04.856637Z",
     "start_time": "2024-01-20T10:00:04.103272Z"
    },
    "execution": {
     "iopub.execute_input": "2024-03-24T17:26:10.538832Z",
     "iopub.status.busy": "2024-03-24T17:26:10.538832Z",
     "iopub.status.idle": "2024-03-24T17:26:11.470357Z",
     "shell.execute_reply": "2024-03-24T17:26:11.468755Z",
     "shell.execute_reply.started": "2024-03-24T17:26:10.538832Z"
    }
   },
   "outputs": [],
   "source": [
    "# Load official(umpires) information\n",
    "with engine.connect() as conn:\n",
    "    conn.execute(f\"DELETE FROM dwh.official WHERE match_id IN ({match_id_list})\")\n",
    "    \n",
    "count_rows = df_official.to_sql('official', schema='dwh', con=engine, if_exists='append', method='multi', index=False)\n",
    "\n",
    "with engine.connect() as conn:\n",
    "    conn.execute(\"\"\"\n",
    "        UPDATE dwh.official OF\n",
    "        SET is_registered = FALSE\n",
    "        FROM dwh.people P\n",
    "        WHERE OF.name = P.identifier AND P.identifier IS NULL;\n",
    "    \"\"\")\n",
    "    \n",
    "    conn.execute(\"\"\"\n",
    "        UPDATE dwh.official off\n",
    "        SET official_id_num = p.id\n",
    "        FROM dwh.people p\n",
    "        WHERE off.official_id = p.identifier\n",
    "        AND official_id_num IS NULL;\n",
    "    \"\"\")    "
   ]
  },
  {
   "cell_type": "markdown",
   "id": "b5a38d81",
   "metadata": {},
   "source": [
    "#### 3. Player-match (players who played a particular match) & Team"
   ]
  },
  {
   "cell_type": "code",
   "execution_count": 532,
   "id": "112c2bc5",
   "metadata": {
    "ExecuteTime": {
     "end_time": "2024-01-20T10:00:05.707408Z",
     "start_time": "2024-01-20T10:00:04.856637Z"
    },
    "execution": {
     "iopub.execute_input": "2024-03-24T17:26:11.472085Z",
     "iopub.status.busy": "2024-03-24T17:26:11.472085Z",
     "iopub.status.idle": "2024-03-24T17:26:11.777930Z",
     "shell.execute_reply": "2024-03-24T17:26:11.777930Z",
     "shell.execute_reply.started": "2024-03-24T17:26:11.472085Z"
    }
   },
   "outputs": [],
   "source": [
    "# Load match_player information into Stage table\n",
    "with engine.connect() as conn:\n",
    "    conn.execute(\"TRUNCATE TABLE stg.match_player\")\n",
    "\n",
    "count_rows = df_player.to_sql('match_player', schema = 'stg', con = engine, if_exists='append', method = 'multi', index = False)"
   ]
  },
  {
   "cell_type": "code",
   "execution_count": 533,
   "id": "419810c7",
   "metadata": {
    "ExecuteTime": {
     "end_time": "2024-01-20T10:00:05.782994Z",
     "start_time": "2024-01-20T10:00:05.713007Z"
    },
    "execution": {
     "iopub.execute_input": "2024-03-24T17:26:11.782219Z",
     "iopub.status.busy": "2024-03-24T17:26:11.782219Z",
     "iopub.status.idle": "2024-03-24T17:26:12.092160Z",
     "shell.execute_reply": "2024-03-24T17:26:12.090909Z",
     "shell.execute_reply.started": "2024-03-24T17:26:11.782219Z"
    }
   },
   "outputs": [],
   "source": [
    "# Load match information into dwh layer\n",
    "with engine.connect() as conn:\n",
    "    conn.execution_options(isolation_level = \"AUTOCOMMIT\")\n",
    "    with conn.begin():\n",
    "        conn.execute(\"CALL dwh.LoadMatchPlayerAndTeam()\")"
   ]
  },
  {
   "cell_type": "markdown",
   "id": "1907f590",
   "metadata": {},
   "source": [
    "#### 4. Match details"
   ]
  },
  {
   "cell_type": "code",
   "execution_count": 534,
   "id": "0d3d2fb3",
   "metadata": {
    "ExecuteTime": {
     "end_time": "2024-01-20T10:00:06.302371Z",
     "start_time": "2024-01-20T10:00:05.787810Z"
    },
    "execution": {
     "iopub.execute_input": "2024-03-24T17:26:12.092160Z",
     "iopub.status.busy": "2024-03-24T17:26:12.092160Z",
     "iopub.status.idle": "2024-03-24T17:26:12.450420Z",
     "shell.execute_reply": "2024-03-24T17:26:12.448832Z",
     "shell.execute_reply.started": "2024-03-24T17:26:12.092160Z"
    }
   },
   "outputs": [],
   "source": [
    "# Load match information into Stage table\n",
    "with engine.connect() as conn:\n",
    "    conn.execute(\"TRUNCATE TABLE stg.match\")\n",
    "\n",
    "count_rows = df_match.to_sql('match', schema = 'stg', con = engine, if_exists='append', method = 'multi', index = False)"
   ]
  },
  {
   "cell_type": "code",
   "execution_count": 535,
   "id": "66c5ed1e",
   "metadata": {
    "ExecuteTime": {
     "end_time": "2024-01-20T10:00:06.401152Z",
     "start_time": "2024-01-20T10:00:06.302884Z"
    },
    "execution": {
     "iopub.execute_input": "2024-03-24T17:26:12.452017Z",
     "iopub.status.busy": "2024-03-24T17:26:12.452017Z",
     "iopub.status.idle": "2024-03-24T17:26:12.547182Z",
     "shell.execute_reply": "2024-03-24T17:26:12.547182Z",
     "shell.execute_reply.started": "2024-03-24T17:26:12.452017Z"
    }
   },
   "outputs": [],
   "source": [
    "# Load match information into dwh layer\n",
    "with engine.connect() as conn:\n",
    "    conn.execution_options(isolation_level = \"AUTOCOMMIT\")\n",
    "    with conn.begin():\n",
    "        conn.execute(\"CALL dwh.LoadMatch()\")"
   ]
  },
  {
   "cell_type": "markdown",
   "id": "96a5225c",
   "metadata": {},
   "source": [
    "#### 5. absent hurt details"
   ]
  },
  {
   "cell_type": "code",
   "execution_count": 536,
   "id": "fa7eded2",
   "metadata": {
    "ExecuteTime": {
     "end_time": "2024-01-20T10:00:06.863315Z",
     "start_time": "2024-01-20T10:00:06.412891Z"
    },
    "execution": {
     "iopub.execute_input": "2024-03-24T17:26:12.551874Z",
     "iopub.status.busy": "2024-03-24T17:26:12.550292Z",
     "iopub.status.idle": "2024-03-24T17:26:12.562162Z",
     "shell.execute_reply": "2024-03-24T17:26:12.559982Z",
     "shell.execute_reply.started": "2024-03-24T17:26:12.551874Z"
    }
   },
   "outputs": [],
   "source": [
    "query = psql.insert_without_duplicate(\n",
    "    engine,\n",
    "    dataFrame = df_absent_hurt,\n",
    "    table = \"absent_hurt\",\n",
    "    schema = \"dwh\",\n",
    "    conflict_col = list(df_absent_hurt.columns))"
   ]
  },
  {
   "cell_type": "markdown",
   "id": "b190a5ee",
   "metadata": {},
   "source": [
    "#### 6. miscounted overs"
   ]
  },
  {
   "cell_type": "code",
   "execution_count": 537,
   "id": "019b5937",
   "metadata": {
    "ExecuteTime": {
     "end_time": "2024-01-20T10:00:07.383898Z",
     "start_time": "2024-01-20T10:00:06.865825Z"
    },
    "execution": {
     "iopub.execute_input": "2024-03-24T17:26:12.562162Z",
     "iopub.status.busy": "2024-03-24T17:26:12.562162Z",
     "iopub.status.idle": "2024-03-24T17:26:12.982265Z",
     "shell.execute_reply": "2024-03-24T17:26:12.982102Z",
     "shell.execute_reply.started": "2024-03-24T17:26:12.562162Z"
    }
   },
   "outputs": [],
   "source": [
    "with engine.connect() as conn:\n",
    "    conn.execute(f\"DELETE FROM dwh.miscounted_over WHERE match_id IN ({match_id_list})\")\n",
    "    \n",
    "count_rows = df_miscounted_overs.to_sql('miscounted_over', schema='dwh', con=engine, if_exists='append', method='multi', index=False)\n",
    "\n",
    "with engine.connect() as conn:\n",
    "    conn.execute(\"\"\"\n",
    "        UPDATE dwh.miscounted_over MO\n",
    "        SET umpire = NULL\n",
    "        WHERE umpire = ''\n",
    "    \"\"\")\n",
    "    \n",
    "    conn.execute(\"\"\"\n",
    "        UPDATE dwh.miscounted_over MO\n",
    "        SET umpire_id_num = official_id_num\n",
    "        FROM dwh.official OFF\n",
    "        WHERE MO.match_id = OFF.match_id AND MO.umpire = OFF.name AND MO.umpire_id_num IS NULL;\n",
    "    \"\"\")"
   ]
  },
  {
   "cell_type": "markdown",
   "id": "90291d99",
   "metadata": {
    "ExecuteTime": {
     "end_time": "2023-12-03T16:08:10.084299Z",
     "start_time": "2023-12-03T16:08:10.034595Z"
    }
   },
   "source": [
    "#### 7. innings"
   ]
  },
  {
   "cell_type": "code",
   "execution_count": 538,
   "id": "ecaacffd",
   "metadata": {
    "ExecuteTime": {
     "end_time": "2024-01-20T10:00:07.821167Z",
     "start_time": "2024-01-20T10:00:07.389660Z"
    },
    "execution": {
     "iopub.execute_input": "2024-03-24T17:26:12.988055Z",
     "iopub.status.busy": "2024-03-24T17:26:12.986785Z",
     "iopub.status.idle": "2024-03-24T17:26:13.253876Z",
     "shell.execute_reply": "2024-03-24T17:26:13.252770Z",
     "shell.execute_reply.started": "2024-03-24T17:26:12.988055Z"
    }
   },
   "outputs": [
    {
     "data": {
      "text/plain": [
       "26"
      ]
     },
     "execution_count": 538,
     "metadata": {},
     "output_type": "execute_result"
    }
   ],
   "source": [
    "with engine.connect() as conn:\n",
    "    conn.execute(\"TRUNCATE TABLE stg.inning\")\n",
    "    \n",
    "df_innings.to_sql('inning', schema = 'stg', con = engine, if_exists='append', method = 'multi', index = False)"
   ]
  },
  {
   "cell_type": "code",
   "execution_count": 539,
   "id": "7e5fec3d",
   "metadata": {
    "ExecuteTime": {
     "end_time": "2024-01-20T10:00:07.917990Z",
     "start_time": "2024-01-20T10:00:07.827913Z"
    },
    "execution": {
     "iopub.execute_input": "2024-03-24T17:26:13.256598Z",
     "iopub.status.busy": "2024-03-24T17:26:13.253876Z",
     "iopub.status.idle": "2024-03-24T17:26:13.342247Z",
     "shell.execute_reply": "2024-03-24T17:26:13.340494Z",
     "shell.execute_reply.started": "2024-03-24T17:26:13.256598Z"
    }
   },
   "outputs": [],
   "source": [
    "with engine.connect() as conn:\n",
    "    conn.execution_options(isolation_level = \"AUTOCOMMIT\")\n",
    "    with conn.begin():\n",
    "        conn.execute(\"CALL dwh.LoadInning()\") "
   ]
  },
  {
   "cell_type": "markdown",
   "id": "2bb0563a",
   "metadata": {},
   "source": [
    "#### 8. powerplay"
   ]
  },
  {
   "cell_type": "code",
   "execution_count": 540,
   "id": "a0aca76d",
   "metadata": {
    "ExecuteTime": {
     "end_time": "2024-01-20T10:00:08.297207Z",
     "start_time": "2024-01-20T10:00:07.923330Z"
    },
    "execution": {
     "iopub.execute_input": "2024-03-24T17:26:13.345264Z",
     "iopub.status.busy": "2024-03-24T17:26:13.342247Z",
     "iopub.status.idle": "2024-03-24T17:26:13.620075Z",
     "shell.execute_reply": "2024-03-24T17:26:13.618925Z",
     "shell.execute_reply.started": "2024-03-24T17:26:13.345264Z"
    }
   },
   "outputs": [
    {
     "data": {
      "text/plain": [
       "26"
      ]
     },
     "execution_count": 540,
     "metadata": {},
     "output_type": "execute_result"
    }
   ],
   "source": [
    "with engine.connect() as conn:\n",
    "    conn.execute(\"TRUNCATE TABLE stg.powerplay\")\n",
    "\n",
    "df_powerplay.to_sql('powerplay', schema = 'stg', con = engine, if_exists='append', method = 'multi', index = False)"
   ]
  },
  {
   "cell_type": "code",
   "execution_count": 541,
   "id": "a0be5aef",
   "metadata": {
    "ExecuteTime": {
     "end_time": "2024-01-20T10:00:08.401140Z",
     "start_time": "2024-01-20T10:00:08.304220Z"
    },
    "execution": {
     "iopub.execute_input": "2024-03-24T17:26:13.621591Z",
     "iopub.status.busy": "2024-03-24T17:26:13.621591Z",
     "iopub.status.idle": "2024-03-24T17:26:13.712721Z",
     "shell.execute_reply": "2024-03-24T17:26:13.712721Z",
     "shell.execute_reply.started": "2024-03-24T17:26:13.621591Z"
    }
   },
   "outputs": [],
   "source": [
    "with engine.connect() as conn:\n",
    "    conn.execution_options(isolation_level = \"AUTOCOMMIT\")\n",
    "    with conn.begin():\n",
    "        conn.execute(\"CALL dwh.LoadPowerplay()\") "
   ]
  },
  {
   "cell_type": "markdown",
   "id": "ed483dd0",
   "metadata": {},
   "source": [
    "#### 9. delivery"
   ]
  },
  {
   "cell_type": "code",
   "execution_count": 542,
   "id": "963eb83d",
   "metadata": {
    "ExecuteTime": {
     "end_time": "2024-01-20T10:01:01.905707Z",
     "start_time": "2024-01-20T10:00:08.405390Z"
    },
    "execution": {
     "iopub.execute_input": "2024-03-24T17:26:13.716847Z",
     "iopub.status.busy": "2024-03-24T17:26:13.716847Z",
     "iopub.status.idle": "2024-03-24T17:26:16.751906Z",
     "shell.execute_reply": "2024-03-24T17:26:16.750309Z",
     "shell.execute_reply.started": "2024-03-24T17:26:13.716847Z"
    }
   },
   "outputs": [
    {
     "data": {
      "text/plain": [
       "3088"
      ]
     },
     "execution_count": 542,
     "metadata": {},
     "output_type": "execute_result"
    }
   ],
   "source": [
    "with engine.connect() as conn:\n",
    "    conn.execute(\"TRUNCATE TABLE stg.delivery\")\n",
    "\n",
    "df_deliveries.to_sql('delivery', \n",
    "                     schema = 'stg', \n",
    "                     con = engine, \n",
    "                     if_exists='append', \n",
    "                     method = 'multi', \n",
    "                     dtype = {\n",
    "                                 \"wickets\":altypes.JSON(none_as_null=True),\n",
    "                                 \"replacements_match\":altypes.JSON(none_as_null=True),\n",
    "                                 \"replacements_role\":altypes.JSON(none_as_null=True)\n",
    "                             },\n",
    "                     index = False,\n",
    "                     chunksize = 5000)\n",
    "\n",
    "## 692 records per second | chunksize = 10k\n",
    "# 1076 records per second | chunksize = 2k\n",
    "# 1050 records per second | chunksize = 1024\n",
    "# 1015 records per second | chunksize = 1k\n",
    "# 1005 records per second | chunksize = 750"
   ]
  },
  {
   "cell_type": "code",
   "execution_count": 543,
   "id": "a30e53f8",
   "metadata": {
    "ExecuteTime": {
     "end_time": "2024-01-20T10:01:04.333318Z",
     "start_time": "2024-01-20T10:01:01.914106Z"
    },
    "execution": {
     "iopub.execute_input": "2024-03-24T17:26:16.755523Z",
     "iopub.status.busy": "2024-03-24T17:26:16.751906Z",
     "iopub.status.idle": "2024-03-24T17:26:19.085399Z",
     "shell.execute_reply": "2024-03-24T17:26:19.085399Z",
     "shell.execute_reply.started": "2024-03-24T17:26:16.755523Z"
    }
   },
   "outputs": [],
   "source": [
    "with engine.connect() as conn:\n",
    "    conn.execution_options(isolation_level = \"AUTOCOMMIT\")\n",
    "    with conn.begin():\n",
    "        conn.execute(\"CALL dwh.LoadDelivery()\")"
   ]
  },
  {
   "cell_type": "code",
   "execution_count": null,
   "id": "25442a43-8e4f-425d-bc0b-dd4d408eee97",
   "metadata": {},
   "outputs": [],
   "source": []
  },
  {
   "cell_type": "code",
   "execution_count": null,
   "id": "e35813cd-86d4-43bf-bd2c-83615f4841b8",
   "metadata": {},
   "outputs": [],
   "source": []
  }
 ],
 "metadata": {
  "kernelspec": {
   "display_name": "Python 3 (ipykernel)",
   "language": "python",
   "name": "python3"
  },
  "language_info": {
   "codemirror_mode": {
    "name": "ipython",
    "version": 3
   },
   "file_extension": ".py",
   "mimetype": "text/x-python",
   "name": "python",
   "nbconvert_exporter": "python",
   "pygments_lexer": "ipython3",
   "version": "3.11.5"
  },
  "toc": {
   "base_numbering": 1,
   "nav_menu": {},
   "number_sections": true,
   "sideBar": true,
   "skip_h1_title": false,
   "title_cell": "Table of Contents",
   "title_sidebar": "Contents",
   "toc_cell": false,
   "toc_position": {},
   "toc_section_display": true,
   "toc_window_display": false
  },
  "varInspector": {
   "cols": {
    "lenName": 16,
    "lenType": 16,
    "lenVar": 40
   },
   "kernels_config": {
    "python": {
     "delete_cmd_postfix": "",
     "delete_cmd_prefix": "del ",
     "library": "var_list.py",
     "varRefreshCmd": "print(var_dic_list())"
    },
    "r": {
     "delete_cmd_postfix": ") ",
     "delete_cmd_prefix": "rm(",
     "library": "var_list.r",
     "varRefreshCmd": "cat(var_dic_list()) "
    }
   },
   "position": {
    "height": "156.042px",
    "left": "1382.44px",
    "right": "20px",
    "top": "120px",
    "width": "315.417px"
   },
   "types_to_exclude": [
    "module",
    "function",
    "builtin_function_or_method",
    "instance",
    "_Feature"
   ],
   "window_display": false
  }
 },
 "nbformat": 4,
 "nbformat_minor": 5
}
