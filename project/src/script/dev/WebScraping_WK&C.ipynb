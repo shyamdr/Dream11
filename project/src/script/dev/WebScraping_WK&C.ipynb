{
 "cells": [
  {
   "cell_type": "markdown",
   "id": "0136c58f-42f8-48c4-b72d-3c62fa2979b6",
   "metadata": {},
   "source": [
    "## Importing Libraries"
   ]
  },
  {
   "cell_type": "code",
   "execution_count": 94,
   "id": "f5790898-c0e9-408e-ab29-743c8c6ca7da",
   "metadata": {
    "execution": {
     "iopub.execute_input": "2024-03-18T17:09:37.682499Z",
     "iopub.status.busy": "2024-03-18T17:09:37.682499Z",
     "iopub.status.idle": "2024-03-18T17:09:37.692486Z",
     "shell.execute_reply": "2024-03-18T17:09:37.690966Z",
     "shell.execute_reply.started": "2024-03-18T17:09:37.682499Z"
    }
   },
   "outputs": [],
   "source": [
    "import requests\n",
    "import re\n",
    "import numpy as np\n",
    "import pandas as pd\n",
    "from bs4 import BeautifulSoup\n",
    "import datetime\n",
    "import pandas as pd\n",
    "import time\n",
    "import concurrent.futures\n",
    "import modules.psql as psql"
   ]
  },
  {
   "cell_type": "markdown",
   "id": "5841e0d7-b246-48ac-bf65-f7f25474acab",
   "metadata": {},
   "source": [
    "## Postgres Configuration"
   ]
  },
  {
   "cell_type": "code",
   "execution_count": 95,
   "id": "dc4d15ca-f583-4fc9-b37c-0deb952eeabf",
   "metadata": {
    "execution": {
     "iopub.execute_input": "2024-03-18T17:09:38.027688Z",
     "iopub.status.busy": "2024-03-18T17:09:38.027688Z",
     "iopub.status.idle": "2024-03-18T17:09:38.360960Z",
     "shell.execute_reply": "2024-03-18T17:09:38.358635Z",
     "shell.execute_reply.started": "2024-03-18T17:09:38.027688Z"
    }
   },
   "outputs": [],
   "source": [
    "%run config_psql.ipynb"
   ]
  },
  {
   "cell_type": "markdown",
   "id": "e49ced29-2393-44ca-b9d3-778da7447176",
   "metadata": {},
   "source": [
    "## Setting Configurations"
   ]
  },
  {
   "cell_type": "code",
   "execution_count": 96,
   "id": "a3bbbf4a-4e62-4c28-a12c-ee225045a7b7",
   "metadata": {
    "execution": {
     "iopub.execute_input": "2024-03-18T17:09:38.362468Z",
     "iopub.status.busy": "2024-03-18T17:09:38.362468Z",
     "iopub.status.idle": "2024-03-18T17:09:38.370171Z",
     "shell.execute_reply": "2024-03-18T17:09:38.370171Z",
     "shell.execute_reply.started": "2024-03-18T17:09:38.362468Z"
    }
   },
   "outputs": [],
   "source": [
    "pd.set_option('display.max_columns', None)\n",
    "pd.set_option('display.max_rows', None)"
   ]
  },
  {
   "cell_type": "markdown",
   "id": "b5974098-ec09-4d2d-9006-b67735302f05",
   "metadata": {},
   "source": [
    "## Getting match list and urls from database"
   ]
  },
  {
   "cell_type": "code",
   "execution_count": 97,
   "id": "1480599b-8519-4ca3-a0e7-1503c2f73e44",
   "metadata": {
    "execution": {
     "iopub.execute_input": "2024-03-18T17:09:38.672341Z",
     "iopub.status.busy": "2024-03-18T17:09:38.666743Z",
     "iopub.status.idle": "2024-03-18T17:09:38.679610Z",
     "shell.execute_reply": "2024-03-18T17:09:38.678790Z",
     "shell.execute_reply.started": "2024-03-18T17:09:38.672341Z"
    }
   },
   "outputs": [],
   "source": [
    "query = \"\"\"\n",
    "DROP TABLE IF EXISTS cte;\n",
    "\n",
    "CREATE TEMPORARY TABLE cte (\n",
    "\tmatch_id TEXT\n",
    ");\n",
    "\n",
    "WITH sub1 AS\n",
    "(\n",
    "\tSELECT DISTINCT \n",
    "\t\tmatch_id \n",
    "\tFROM dwh.match_player AS mp\n",
    "\tWHERE NOT EXISTS (\n",
    "\t\tSELECT 1 \n",
    "\t\tFROM dwh.match_player \n",
    "\t\tWHERE match_id = mp.match_id \n",
    "\t\tAND (is_captain OR is_wicketkeeper))\n",
    ")\n",
    ",sub2 AS (\n",
    "\tSELECT \n",
    "\t\tm.match_id\n",
    "\tFROM dwh.match m\n",
    "\tJOIN sub1 ON m.match_id = sub1.match_id\n",
    ")\n",
    "INSERT INTO cte\n",
    "SELECT * FROM sub2;\n",
    "\n",
    "SELECT sub3.match_id, sub3.url\n",
    "FROM\n",
    "(\n",
    "    SELECT \n",
    "        cte.match_id, eu.url, ROW_NUMBER() OVER (PARTITION BY cte.match_id) AS rk\n",
    "    FROM cte\n",
    "    LEFT JOIN dwh.espn_url eu ON cte.match_id = eu.match_id\n",
    "    WHERE eu.url_type = 'match'\n",
    ") sub3\n",
    "WHERE sub3.rk <= 1\n",
    "LIMIT 1000;\n",
    "\"\"\""
   ]
  },
  {
   "cell_type": "code",
   "execution_count": 98,
   "id": "4e95e26e-bef6-47d6-a5a8-1ed86c6f7436",
   "metadata": {
    "execution": {
     "iopub.execute_input": "2024-03-18T17:09:38.872095Z",
     "iopub.status.busy": "2024-03-18T17:09:38.869087Z",
     "iopub.status.idle": "2024-03-18T17:09:40.266516Z",
     "shell.execute_reply": "2024-03-18T17:09:40.263714Z",
     "shell.execute_reply.started": "2024-03-18T17:09:38.872095Z"
    }
   },
   "outputs": [],
   "source": [
    "with engine.connect() as conn:\n",
    "    df = pd.read_sql_query(query,con = engine)"
   ]
  },
  {
   "cell_type": "markdown",
   "id": "5524ceb3-84d7-4b4f-801f-a4bb8fe537e2",
   "metadata": {},
   "source": [
    "## Initializing Parameters"
   ]
  },
  {
   "cell_type": "code",
   "execution_count": 99,
   "id": "9cf53752-a17f-46c9-afbd-3833d9871335",
   "metadata": {
    "execution": {
     "iopub.execute_input": "2024-03-18T17:09:40.270555Z",
     "iopub.status.busy": "2024-03-18T17:09:40.270555Z",
     "iopub.status.idle": "2024-03-18T17:09:40.292346Z",
     "shell.execute_reply": "2024-03-18T17:09:40.289815Z",
     "shell.execute_reply.started": "2024-03-18T17:09:40.270555Z"
    }
   },
   "outputs": [],
   "source": [
    "url_list = list(map(lambda url: url.replace(url.split(\"/\")[-1], \"match-playing-xi\"), df['url']))\n",
    "df_result = pd.DataFrame(columns=['match_id','team','wicket_keeper','captain'])"
   ]
  },
  {
   "cell_type": "code",
   "execution_count": 102,
   "id": "d718b76f-707a-4ba0-9e77-4243cc7dd5ad",
   "metadata": {
    "execution": {
     "iopub.execute_input": "2024-03-18T17:12:09.090462Z",
     "iopub.status.busy": "2024-03-18T17:12:09.090462Z",
     "iopub.status.idle": "2024-03-18T17:12:09.106658Z",
     "shell.execute_reply": "2024-03-18T17:12:09.106658Z",
     "shell.execute_reply.started": "2024-03-18T17:12:09.090462Z"
    }
   },
   "outputs": [],
   "source": [
    "def find_wk_c(url):\n",
    "    response = requests.get(url, timeout = 5)\n",
    "    if response.status_code == 404:\n",
    "        print(\"Url not found\")\n",
    "        return None\n",
    "        \n",
    "    soup = BeautifulSoup(response.content, 'lxml')\n",
    "    if soup.find('table') is None or soup is None:\n",
    "        # print(\"Soup None - {}\".format(url))\n",
    "        return None\n",
    "    \n",
    "    team = {\n",
    "        'match_id' : url.split('/')[-2].split('-')[-1],\n",
    "        '1_name' : soup.find('table').find('thead').find_all('th')[1].text,\n",
    "        '2_name' : soup.find('table').find('thead').find_all('th')[2].text\n",
    "    }\n",
    "    for row in soup.find('table').find('tbody').find_all('tr'):\n",
    "        cols = len(row.find_all('td'))\n",
    "        a_cols = len(row.find_all('a'))+1\n",
    "        if cols != 1:\n",
    "            for num in range(1,a_cols):\n",
    "                player_title = row.find_all('a')[num-1]['title']\n",
    "                if ((chr(8224) in player_title) or ('(WK)' in player_title) or ('(wk)' in player_title)):\n",
    "                    team[str(num) + '_wicket_keeper'] = row.find_all('a')[num-1]['href'].split('/')[-1].split('-')[-1]\n",
    "                if (('(C)' in player_title) or ('(c)' in player_title) or '(captain)' in player_title):\n",
    "                    team[str(num) + '_captain'] = row.find_all('a')[num-1]['href'].split('/')[-1].split('-')[-1]\n",
    "        else:\n",
    "            break\n",
    "    return team"
   ]
  },
  {
   "cell_type": "code",
   "execution_count": 101,
   "id": "72e9de39-2c51-4dd9-a7bf-ee546ecfdd43",
   "metadata": {
    "execution": {
     "iopub.execute_input": "2024-03-18T17:09:40.474104Z",
     "iopub.status.busy": "2024-03-18T17:09:40.474104Z",
     "iopub.status.idle": "2024-03-18T17:12:09.088629Z",
     "shell.execute_reply": "2024-03-18T17:12:09.087870Z",
     "shell.execute_reply.started": "2024-03-18T17:09:40.474104Z"
    }
   },
   "outputs": [
    {
     "name": "stdout",
     "output_type": "stream",
     "text": [
      "50 matches completed!\n",
      "100 matches completed!\n",
      "150 matches completed!\n",
      "200 matches completed!\n",
      "250 matches completed!\n",
      "300 matches completed!\n",
      "350 matches completed!\n",
      "400 matches completed!\n",
      "450 matches completed!\n",
      "500 matches completed!\n",
      "550 matches completed!\n",
      "600 matches completed!\n",
      "650 matches completed!\n",
      "700 matches completed!\n",
      "750 matches completed!\n",
      "800 matches completed!\n",
      "850 matches completed!\n",
      "900 matches completed!\n"
     ]
    }
   ],
   "source": [
    "num_threads = 50\n",
    "num_series = len(df)\n",
    "count = 0\n",
    "\n",
    "with concurrent.futures.ThreadPoolExecutor(max_workers = num_threads) as executor:\n",
    "    futures = []\n",
    "    for url in url_list:\n",
    "        futures.append(executor.submit(find_wk_c, url))\n",
    "\n",
    "    for future in (concurrent.futures.as_completed(futures)):\n",
    "        result = future.result()\n",
    "        #team 1 record\n",
    "        record = {\n",
    "            'match_id': result.get('match_id'),\n",
    "            'team': result.get('1_name'),\n",
    "            'wicket_keeper': result.get('1_wicket_keeper'),\n",
    "            'captain': result.get('1_captain')\n",
    "        }\n",
    "        df_result.loc[len(df_result)] = record\n",
    "        #team 2 record\n",
    "        record = {\n",
    "            'match_id': result.get('match_id'),\n",
    "            'team': result.get('2_name'),\n",
    "            'wicket_keeper': result.get('2_wicket_keeper'),\n",
    "            'captain': result.get('2_captain')\n",
    "        }            \n",
    "        df_result.loc[len(df_result)] = record\n",
    "        count += 1\n",
    "        # print(\"{} executed!\".format(result.get('match_id')))\n",
    "        if (count%50)==0:\n",
    "            print(\"{0} matches completed!\".format(count))"
   ]
  },
  {
   "cell_type": "raw",
   "id": "2976b02e-b3b0-4455-b6e8-57d90906c751",
   "metadata": {},
   "source": [
    "normal method = 1.05 s / match\n",
    "multithread = 0.23 s / match"
   ]
  },
  {
   "cell_type": "code",
   "execution_count": 104,
   "id": "cb0d8a96-3b8c-4521-8516-cac5e4721edb",
   "metadata": {
    "execution": {
     "iopub.execute_input": "2024-03-18T17:14:39.272966Z",
     "iopub.status.busy": "2024-03-18T17:14:39.272966Z",
     "iopub.status.idle": "2024-03-18T17:14:39.717872Z",
     "shell.execute_reply": "2024-03-18T17:14:39.717872Z",
     "shell.execute_reply.started": "2024-03-18T17:14:39.272966Z"
    }
   },
   "outputs": [],
   "source": [
    "# Load match information into Stage table\n",
    "with engine.connect() as conn:\n",
    "    conn.execute(\"TRUNCATE TABLE stg.match_wk_c\")\n",
    "\n",
    "count_rows = df_result.to_sql('match_wk_c', schema = 'stg', con = engine, if_exists='append', method = 'multi', index = False)"
   ]
  },
  {
   "cell_type": "code",
   "execution_count": 105,
   "id": "51d8fbfb-407a-4cb8-9277-fa5417a82e9d",
   "metadata": {
    "execution": {
     "iopub.execute_input": "2024-03-18T17:14:41.802807Z",
     "iopub.status.busy": "2024-03-18T17:14:41.802807Z",
     "iopub.status.idle": "2024-03-18T17:14:42.208599Z",
     "shell.execute_reply": "2024-03-18T17:14:42.208599Z",
     "shell.execute_reply.started": "2024-03-18T17:14:41.802807Z"
    }
   },
   "outputs": [],
   "source": [
    "with engine.connect() as conn:\n",
    "    conn.execution_options(isolation_level = \"AUTOCOMMIT\")\n",
    "    with conn.begin():\n",
    "        conn.execute(\"CALL dwh.LoadWk_C()\") "
   ]
  }
 ],
 "metadata": {
  "kernelspec": {
   "display_name": "Python 3 (ipykernel)",
   "language": "python",
   "name": "python3"
  },
  "language_info": {
   "codemirror_mode": {
    "name": "ipython",
    "version": 3
   },
   "file_extension": ".py",
   "mimetype": "text/x-python",
   "name": "python",
   "nbconvert_exporter": "python",
   "pygments_lexer": "ipython3",
   "version": "3.11.5"
  }
 },
 "nbformat": 4,
 "nbformat_minor": 5
}
