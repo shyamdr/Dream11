{
 "cells": [
  {
   "cell_type": "markdown",
   "id": "0136c58f-42f8-48c4-b72d-3c62fa2979b6",
   "metadata": {},
   "source": [
    "## Importing Libraries"
   ]
  },
  {
   "cell_type": "code",
   "execution_count": 10,
   "id": "f5790898-c0e9-408e-ab29-743c8c6ca7da",
   "metadata": {
    "execution": {
     "iopub.execute_input": "2024-02-22T16:45:33.542550Z",
     "iopub.status.busy": "2024-02-22T16:45:33.540557Z",
     "iopub.status.idle": "2024-02-22T16:45:33.550579Z",
     "shell.execute_reply": "2024-02-22T16:45:33.549578Z",
     "shell.execute_reply.started": "2024-02-22T16:45:33.542550Z"
    }
   },
   "outputs": [],
   "source": [
    "import requests\n",
    "import re\n",
    "import numpy as np\n",
    "import pandas as pd\n",
    "from bs4 import BeautifulSoup\n",
    "import datetime\n",
    "import pandas as pd\n",
    "import time\n",
    "import concurrent.futures\n",
    "import modules.psql as psql"
   ]
  },
  {
   "cell_type": "markdown",
   "id": "5841e0d7-b246-48ac-bf65-f7f25474acab",
   "metadata": {},
   "source": [
    "## Postgres Configuration"
   ]
  },
  {
   "cell_type": "code",
   "execution_count": 11,
   "id": "dc4d15ca-f583-4fc9-b37c-0deb952eeabf",
   "metadata": {
    "execution": {
     "iopub.execute_input": "2024-02-22T16:45:33.904516Z",
     "iopub.status.busy": "2024-02-22T16:45:33.904516Z",
     "iopub.status.idle": "2024-02-22T16:45:34.380418Z",
     "shell.execute_reply": "2024-02-22T16:45:34.380418Z",
     "shell.execute_reply.started": "2024-02-22T16:45:33.904516Z"
    }
   },
   "outputs": [],
   "source": [
    "%run config_psql.ipynb"
   ]
  },
  {
   "cell_type": "markdown",
   "id": "e49ced29-2393-44ca-b9d3-778da7447176",
   "metadata": {},
   "source": [
    "## Setting Configurations"
   ]
  },
  {
   "cell_type": "code",
   "execution_count": 12,
   "id": "a3bbbf4a-4e62-4c28-a12c-ee225045a7b7",
   "metadata": {
    "execution": {
     "iopub.execute_input": "2024-02-22T16:45:34.380418Z",
     "iopub.status.busy": "2024-02-22T16:45:34.380418Z",
     "iopub.status.idle": "2024-02-22T16:45:34.398927Z",
     "shell.execute_reply": "2024-02-22T16:45:34.398927Z",
     "shell.execute_reply.started": "2024-02-22T16:45:34.380418Z"
    }
   },
   "outputs": [],
   "source": [
    "pd.set_option('display.max_columns', None)\n",
    "pd.set_option('display.max_rows', None)"
   ]
  },
  {
   "cell_type": "markdown",
   "id": "b5974098-ec09-4d2d-9006-b67735302f05",
   "metadata": {},
   "source": [
    "## Getting match list and urls from database"
   ]
  },
  {
   "cell_type": "code",
   "execution_count": 13,
   "id": "1480599b-8519-4ca3-a0e7-1503c2f73e44",
   "metadata": {
    "execution": {
     "iopub.execute_input": "2024-02-22T16:45:34.687539Z",
     "iopub.status.busy": "2024-02-22T16:45:34.687539Z",
     "iopub.status.idle": "2024-02-22T16:45:34.702097Z",
     "shell.execute_reply": "2024-02-22T16:45:34.700587Z",
     "shell.execute_reply.started": "2024-02-22T16:45:34.687539Z"
    }
   },
   "outputs": [],
   "source": [
    "query = \"\"\"\n",
    "SELECT sub3.match_id, sub3.url\n",
    "FROM\n",
    "(\n",
    "\tSELECT sub2.match_id, eu.url, ROW_NUMBER() OVER (PARTITION BY sub2.match_id) AS rk\n",
    "\tFROM (\n",
    "\t\tSELECT m.match_id\n",
    "\t\tFROM dwh.match m\n",
    "\t\tJOIN (\n",
    "\t\t\tSELECT DISTINCT match_id \n",
    "\t\t\tFROM dwh.match_player AS mp\n",
    "\t\t\tWHERE NOT EXISTS (\n",
    "\t\t\t\tSELECT 1 \n",
    "\t\t\t\tFROM dwh.match_player \n",
    "\t\t\t\tWHERE match_id = mp.match_id \n",
    "\t\t\t\tAND (is_captain OR is_wicketkeeper)\n",
    "\t\t\t)\n",
    "\t\t) sub1\n",
    "\t\tON m.match_id = sub1.match_id\t\n",
    "\t) sub2\n",
    "\tLEFT JOIN dwh.espn_url eu ON sub2.match_id = eu.match_id AND eu.url_type = 'match'\n",
    ") sub3\n",
    "WHERE sub3.rk <= 1\n",
    "\"\"\""
   ]
  },
  {
   "cell_type": "code",
   "execution_count": 14,
   "id": "4e95e26e-bef6-47d6-a5a8-1ed86c6f7436",
   "metadata": {
    "execution": {
     "iopub.execute_input": "2024-02-22T16:45:37.467359Z",
     "iopub.status.busy": "2024-02-22T16:45:37.465746Z",
     "iopub.status.idle": "2024-02-22T16:45:38.849295Z",
     "shell.execute_reply": "2024-02-22T16:45:38.848294Z",
     "shell.execute_reply.started": "2024-02-22T16:45:37.467359Z"
    }
   },
   "outputs": [],
   "source": [
    "with engine.connect() as conn:\n",
    "    df = pd.read_sql_query(query,con = engine)"
   ]
  },
  {
   "cell_type": "markdown",
   "id": "5524ceb3-84d7-4b4f-801f-a4bb8fe537e2",
   "metadata": {},
   "source": [
    "## Initializing Parameters"
   ]
  },
  {
   "cell_type": "code",
   "execution_count": 15,
   "id": "9cf53752-a17f-46c9-afbd-3833d9871335",
   "metadata": {
    "execution": {
     "iopub.execute_input": "2024-02-22T16:45:43.918324Z",
     "iopub.status.busy": "2024-02-22T16:45:43.917316Z",
     "iopub.status.idle": "2024-02-22T16:45:43.929848Z",
     "shell.execute_reply": "2024-02-22T16:45:43.928415Z",
     "shell.execute_reply.started": "2024-02-22T16:45:43.918324Z"
    }
   },
   "outputs": [],
   "source": [
    "url_list = list(map(lambda url: url.replace(url.split(\"/\")[-1], \"match-playing-xi\"), df['url']))\n",
    "df_result = pd.DataFrame(columns=['match_id','team','wicket_keeper','captain'])"
   ]
  },
  {
   "cell_type": "code",
   "execution_count": 16,
   "id": "d718b76f-707a-4ba0-9e77-4243cc7dd5ad",
   "metadata": {
    "execution": {
     "iopub.execute_input": "2024-02-22T16:45:48.109590Z",
     "iopub.status.busy": "2024-02-22T16:45:48.108594Z",
     "iopub.status.idle": "2024-02-22T16:45:48.124941Z",
     "shell.execute_reply": "2024-02-22T16:45:48.123582Z",
     "shell.execute_reply.started": "2024-02-22T16:45:48.108594Z"
    }
   },
   "outputs": [],
   "source": [
    "def find_wk_c(url):\n",
    "    response = requests.get(url)\n",
    "    if response.status_code == 404:\n",
    "        print(\"Url not found\")\n",
    "        return None\n",
    "        \n",
    "    soup = BeautifulSoup(response.content, 'lxml')\n",
    "    team = {\n",
    "        'match_id' : url.split('/')[-2].split('-')[-1],\n",
    "        '1_name' : soup.find('table').find('thead').find_all('th')[1].text,\n",
    "        '2_name' : soup.find('table').find('thead').find_all('th')[2].text\n",
    "    }\n",
    "    for row in soup.find('table').find('tbody').find_all('tr'):\n",
    "        cols = len(row.find_all('td'))\n",
    "        a_cols = len(row.find_all('a'))+1\n",
    "        if cols != 1:\n",
    "            for num in range(1,a_cols):\n",
    "                player_title = row.find_all('a')[num-1]['title']\n",
    "                if ((chr(8224) in player_title) or ('(WK)' in player_title) or ('(wk)' in player_title)):\n",
    "                    team[str(num) + '_wicket_keeper'] = row.find_all('a')[num-1]['href'].split('/')[-1].split('-')[-1]\n",
    "                if (('(C)' in player_title) or ('(c)' in player_title) or '(captain)' in player_title):\n",
    "                    team[str(num) + '_captain'] = row.find_all('a')[num-1]['href'].split('/')[-1].split('-')[-1]\n",
    "        else:\n",
    "            break\n",
    "    return team"
   ]
  },
  {
   "cell_type": "code",
   "execution_count": 17,
   "id": "72e9de39-2c51-4dd9-a7bf-ee546ecfdd43",
   "metadata": {
    "execution": {
     "iopub.execute_input": "2024-02-22T16:45:50.778633Z",
     "iopub.status.busy": "2024-02-22T16:45:50.778633Z",
     "iopub.status.idle": "2024-02-22T16:46:10.478074Z",
     "shell.execute_reply": "2024-02-22T16:46:10.478074Z",
     "shell.execute_reply.started": "2024-02-22T16:45:50.778633Z"
    }
   },
   "outputs": [],
   "source": [
    "num_threads = 50\n",
    "num_series = len(df)\n",
    "\n",
    "with concurrent.futures.ThreadPoolExecutor(max_workers = num_threads) as executor:\n",
    "    futures = []\n",
    "    for url in url_list:\n",
    "        futures.append(executor.submit(find_wk_c, url))\n",
    "\n",
    "    for future in (concurrent.futures.as_completed(futures)):\n",
    "        result = future.result()\n",
    "        #team 1 record\n",
    "        record = {\n",
    "            'match_id': result['match_id'],\n",
    "            'team': result['1_name'],\n",
    "            'wicket_keeper': result['1_wicket_keeper'],\n",
    "            'captain': result['1_captain']\n",
    "        }\n",
    "        df_result.loc[len(df_result)] = record\n",
    "        #team 2 record\n",
    "        record = {\n",
    "            'match_id': result['match_id'],\n",
    "            'team': result['2_name'],\n",
    "            'wicket_keeper': result['2_wicket_keeper'],\n",
    "            'captain': result['2_captain']\n",
    "        }            \n",
    "        df_result.loc[len(df_result)] = record"
   ]
  },
  {
   "cell_type": "raw",
   "id": "2976b02e-b3b0-4455-b6e8-57d90906c751",
   "metadata": {},
   "source": [
    "normal method = 1.05 s / match\n",
    "multithread = 0.23 s / match"
   ]
  },
  {
   "cell_type": "code",
   "execution_count": 19,
   "id": "cb0d8a96-3b8c-4521-8516-cac5e4721edb",
   "metadata": {
    "execution": {
     "iopub.execute_input": "2024-02-22T16:46:36.829974Z",
     "iopub.status.busy": "2024-02-22T16:46:36.828977Z",
     "iopub.status.idle": "2024-02-22T16:46:37.225728Z",
     "shell.execute_reply": "2024-02-22T16:46:37.225728Z",
     "shell.execute_reply.started": "2024-02-22T16:46:36.829974Z"
    }
   },
   "outputs": [],
   "source": [
    "# Load match information into Stage table\n",
    "with engine.connect() as conn:\n",
    "    conn.execute(\"TRUNCATE TABLE stg.match_wk_c\")\n",
    "\n",
    "count_rows = df_result.to_sql('match_wk_c', schema = 'stg', con = engine, if_exists='append', method = 'multi', index = False)"
   ]
  },
  {
   "cell_type": "code",
   "execution_count": 20,
   "id": "51d8fbfb-407a-4cb8-9277-fa5417a82e9d",
   "metadata": {
    "execution": {
     "iopub.execute_input": "2024-02-22T16:46:39.871037Z",
     "iopub.status.busy": "2024-02-22T16:46:39.870040Z",
     "iopub.status.idle": "2024-02-22T16:46:39.937923Z",
     "shell.execute_reply": "2024-02-22T16:46:39.936842Z",
     "shell.execute_reply.started": "2024-02-22T16:46:39.871037Z"
    }
   },
   "outputs": [],
   "source": [
    "with engine.connect() as conn:\n",
    "    conn.execution_options(isolation_level = \"AUTOCOMMIT\")\n",
    "    with conn.begin():\n",
    "        conn.execute(\"CALL dwh.LoadWk_C()\") "
   ]
  }
 ],
 "metadata": {
  "kernelspec": {
   "display_name": "Python 3 (ipykernel)",
   "language": "python",
   "name": "python3"
  },
  "language_info": {
   "codemirror_mode": {
    "name": "ipython",
    "version": 3
   },
   "file_extension": ".py",
   "mimetype": "text/x-python",
   "name": "python",
   "nbconvert_exporter": "python",
   "pygments_lexer": "ipython3",
   "version": "3.11.5"
  }
 },
 "nbformat": 4,
 "nbformat_minor": 5
}
