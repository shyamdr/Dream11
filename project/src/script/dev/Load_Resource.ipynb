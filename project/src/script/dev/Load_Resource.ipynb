{
 "cells": [
  {
   "cell_type": "markdown",
   "id": "37e6af0b",
   "metadata": {},
   "source": [
    "## Importing libraries"
   ]
  },
  {
   "cell_type": "code",
   "execution_count": 13,
   "id": "b0443170",
   "metadata": {
    "ExecuteTime": {
     "end_time": "2023-12-09T09:10:53.394690Z",
     "start_time": "2023-12-09T09:10:53.369119Z"
    },
    "execution": {
     "iopub.execute_input": "2024-02-24T16:17:45.178893Z",
     "iopub.status.busy": "2024-02-24T16:17:45.178839Z",
     "iopub.status.idle": "2024-02-24T16:17:45.189378Z",
     "shell.execute_reply": "2024-02-24T16:17:45.188820Z",
     "shell.execute_reply.started": "2024-02-24T16:17:45.178893Z"
    }
   },
   "outputs": [],
   "source": [
    "import pandas as pd\n",
    "import os"
   ]
  },
  {
   "cell_type": "markdown",
   "id": "2cf572d2-9688-44bc-9ca8-92190a5650a0",
   "metadata": {},
   "source": [
    "## Postgres Configuration"
   ]
  },
  {
   "cell_type": "code",
   "execution_count": 14,
   "id": "8d010f7e-4c4a-4000-8361-0e69059a9f8f",
   "metadata": {
    "execution": {
     "iopub.execute_input": "2024-02-24T16:17:46.443442Z",
     "iopub.status.busy": "2024-02-24T16:17:46.438418Z",
     "iopub.status.idle": "2024-02-24T16:17:48.408628Z",
     "shell.execute_reply": "2024-02-24T16:17:48.406051Z",
     "shell.execute_reply.started": "2024-02-24T16:17:46.443442Z"
    }
   },
   "outputs": [],
   "source": [
    "%run config_psql.ipynb"
   ]
  },
  {
   "cell_type": "markdown",
   "id": "86bf4a85",
   "metadata": {},
   "source": [
    "## Setting configurations"
   ]
  },
  {
   "cell_type": "code",
   "execution_count": 7,
   "id": "cb6fe500",
   "metadata": {
    "ExecuteTime": {
     "end_time": "2023-12-09T09:10:54.716379Z",
     "start_time": "2023-12-09T09:10:53.958788Z"
    },
    "execution": {
     "iopub.execute_input": "2024-02-24T16:16:15.799554Z",
     "iopub.status.busy": "2024-02-24T16:16:15.799554Z",
     "iopub.status.idle": "2024-02-24T16:16:15.809361Z",
     "shell.execute_reply": "2024-02-24T16:16:15.807337Z",
     "shell.execute_reply.started": "2024-02-24T16:16:15.799554Z"
    }
   },
   "outputs": [],
   "source": [
    "pd.set_option('display.max_columns', None)\n",
    "pd.set_option('display.max_rows', None)\n",
    "\n",
    "resource_filepath = os.path.abspath(os.path.join(os.getcwd(), \"../../../config/rating/resource/\"))"
   ]
  },
  {
   "cell_type": "markdown",
   "id": "ae02b101",
   "metadata": {},
   "source": [
    "## Load files"
   ]
  },
  {
   "cell_type": "code",
   "execution_count": 10,
   "id": "bf4e7f9a",
   "metadata": {
    "ExecuteTime": {
     "end_time": "2023-12-09T09:10:54.732683Z",
     "start_time": "2023-12-09T09:10:54.724490Z"
    },
    "execution": {
     "iopub.execute_input": "2024-02-24T16:16:24.049096Z",
     "iopub.status.busy": "2024-02-24T16:16:24.049096Z",
     "iopub.status.idle": "2024-02-24T16:16:25.189490Z",
     "shell.execute_reply": "2024-02-24T16:16:25.187962Z",
     "shell.execute_reply.started": "2024-02-24T16:16:24.049096Z"
    }
   },
   "outputs": [],
   "source": [
    "resource_file = '\\\\resource_sheet.xlsx'\n",
    "\n",
    "df = pd.read_excel(resource_filepath + '\\\\resource_sheet.xlsx')"
   ]
  },
  {
   "cell_type": "code",
   "execution_count": 15,
   "id": "0da787cc-fd4c-4702-a352-385beafdb57d",
   "metadata": {
    "execution": {
     "iopub.execute_input": "2024-02-24T16:17:50.429582Z",
     "iopub.status.busy": "2024-02-24T16:17:50.429582Z",
     "iopub.status.idle": "2024-02-24T16:17:52.608210Z",
     "shell.execute_reply": "2024-02-24T16:17:52.605533Z",
     "shell.execute_reply.started": "2024-02-24T16:17:50.429582Z"
    }
   },
   "outputs": [],
   "source": [
    "with engine.connect() as conn:\n",
    "    conn.execute(\"TRUNCATE TABLE dwh.resource\")\n",
    "\n",
    "count_rows = df.to_sql('resource', schema = 'dwh', con=engine, if_exists='append', method = 'multi', index=False)"
   ]
  },
  {
   "cell_type": "code",
   "execution_count": 16,
   "id": "50fa8b55-0e2e-4b36-a665-343b19eaf420",
   "metadata": {
    "execution": {
     "iopub.execute_input": "2024-02-24T16:18:36.269094Z",
     "iopub.status.busy": "2024-02-24T16:18:36.269094Z",
     "iopub.status.idle": "2024-02-24T16:18:36.298081Z",
     "shell.execute_reply": "2024-02-24T16:18:36.296469Z",
     "shell.execute_reply.started": "2024-02-24T16:18:36.269094Z"
    }
   },
   "outputs": [
    {
     "name": "stdout",
     "output_type": "stream",
     "text": [
      "<class 'pandas.core.frame.DataFrame'>\n",
      "RangeIndex: 4642 entries, 0 to 4641\n",
      "Data columns (total 5 columns):\n",
      " #   Column       Non-Null Count  Dtype  \n",
      "---  ------       --------------  -----  \n",
      " 0   type         4642 non-null   object \n",
      " 1   over         4642 non-null   float64\n",
      " 2   ball         4642 non-null   float64\n",
      " 3   wicket_lost  4642 non-null   int64  \n",
      " 4   resource     4642 non-null   float64\n",
      "dtypes: float64(3), int64(1), object(1)\n",
      "memory usage: 181.5+ KB\n"
     ]
    }
   ],
   "source": [
    "df.info()"
   ]
  },
  {
   "cell_type": "code",
   "execution_count": null,
   "id": "77b4d7e2-4a96-4bf1-a66a-336ef874c057",
   "metadata": {},
   "outputs": [],
   "source": []
  }
 ],
 "metadata": {
  "kernelspec": {
   "display_name": "Python 3 (ipykernel)",
   "language": "python",
   "name": "python3"
  },
  "language_info": {
   "codemirror_mode": {
    "name": "ipython",
    "version": 3
   },
   "file_extension": ".py",
   "mimetype": "text/x-python",
   "name": "python",
   "nbconvert_exporter": "python",
   "pygments_lexer": "ipython3",
   "version": "3.11.5"
  }
 },
 "nbformat": 4,
 "nbformat_minor": 5
}
