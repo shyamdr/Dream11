{
 "cells": [
  {
   "cell_type": "markdown",
   "id": "7c29d831-b570-4045-a32a-a39df049679e",
   "metadata": {},
   "source": [
    "## Importing Libraries"
   ]
  },
  {
   "cell_type": "code",
   "execution_count": 1,
   "id": "9b097271-96f2-4325-bc5c-cf3a5cce4bf0",
   "metadata": {
    "execution": {
     "iopub.execute_input": "2024-02-22T16:37:14.735281Z",
     "iopub.status.busy": "2024-02-22T16:37:14.733899Z",
     "iopub.status.idle": "2024-02-22T16:37:35.737212Z",
     "shell.execute_reply": "2024-02-22T16:37:35.737212Z",
     "shell.execute_reply.started": "2024-02-22T16:37:14.735281Z"
    }
   },
   "outputs": [],
   "source": [
    "import requests\n",
    "import re\n",
    "import numpy as np\n",
    "import pandas as pd\n",
    "from bs4 import BeautifulSoup\n",
    "import datetime\n",
    "import pandas as pd\n",
    "import time\n",
    "import concurrent.futures\n",
    "import modules.psql as psql"
   ]
  },
  {
   "cell_type": "markdown",
   "id": "2e0ccdbe-5694-4877-aa43-8c4758b69f98",
   "metadata": {},
   "source": [
    "## Postgres Configuration"
   ]
  },
  {
   "cell_type": "code",
   "execution_count": 2,
   "id": "2e9e0879-63dc-4b68-bef1-24bae52636b6",
   "metadata": {
    "execution": {
     "iopub.execute_input": "2024-02-22T16:38:21.461218Z",
     "iopub.status.busy": "2024-02-22T16:38:21.461218Z",
     "iopub.status.idle": "2024-02-22T16:38:22.844411Z",
     "shell.execute_reply": "2024-02-22T16:38:22.842718Z",
     "shell.execute_reply.started": "2024-02-22T16:38:21.461218Z"
    }
   },
   "outputs": [],
   "source": [
    "%run config_psql.ipynb"
   ]
  },
  {
   "cell_type": "markdown",
   "id": "d83163ea-2804-432a-9600-308ea783bfc5",
   "metadata": {},
   "source": [
    "## Setting Configurations"
   ]
  },
  {
   "cell_type": "code",
   "execution_count": 3,
   "id": "993c1b54-9252-4d84-8bd6-49956875f2c6",
   "metadata": {
    "execution": {
     "iopub.execute_input": "2024-02-22T16:38:40.295474Z",
     "iopub.status.busy": "2024-02-22T16:38:40.295474Z",
     "iopub.status.idle": "2024-02-22T16:38:40.312085Z",
     "shell.execute_reply": "2024-02-22T16:38:40.311007Z",
     "shell.execute_reply.started": "2024-02-22T16:38:40.295474Z"
    }
   },
   "outputs": [],
   "source": [
    "pd.set_option('display.max_columns', None)\n",
    "pd.set_option('display.max_rows', None)"
   ]
  },
  {
   "cell_type": "markdown",
   "id": "7b6b3a16-c78e-4479-84e6-5bf9357e58da",
   "metadata": {},
   "source": [
    "## Initializing Parameters"
   ]
  },
  {
   "cell_type": "code",
   "execution_count": null,
   "id": "e5cbb86d-aa93-40ae-8d54-890cc83747bb",
   "metadata": {},
   "outputs": [],
   "source": []
  }
 ],
 "metadata": {
  "kernelspec": {
   "display_name": "Python 3 (ipykernel)",
   "language": "python",
   "name": "python3"
  },
  "language_info": {
   "codemirror_mode": {
    "name": "ipython",
    "version": 3
   },
   "file_extension": ".py",
   "mimetype": "text/x-python",
   "name": "python",
   "nbconvert_exporter": "python",
   "pygments_lexer": "ipython3",
   "version": "3.11.5"
  }
 },
 "nbformat": 4,
 "nbformat_minor": 5
}
