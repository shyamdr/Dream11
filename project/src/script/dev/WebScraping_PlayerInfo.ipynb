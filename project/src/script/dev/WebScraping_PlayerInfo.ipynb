{
 "cells": [
  {
   "cell_type": "markdown",
   "id": "097c715c-60d2-4c71-8863-4d6e6b841ca6",
   "metadata": {},
   "source": [
    "## Importing Libraries"
   ]
  },
  {
   "cell_type": "code",
   "execution_count": 1,
   "id": "504faa4d-a5b0-47a5-b072-b3c0403d1221",
   "metadata": {
    "execution": {
     "iopub.execute_input": "2024-03-24T16:44:42.252852Z",
     "iopub.status.busy": "2024-03-24T16:44:42.252852Z",
     "iopub.status.idle": "2024-03-24T16:44:43.148543Z",
     "shell.execute_reply": "2024-03-24T16:44:43.148543Z",
     "shell.execute_reply.started": "2024-03-24T16:44:42.252852Z"
    }
   },
   "outputs": [],
   "source": [
    "import numpy as np\n",
    "import pandas as pd\n",
    "import requests\n",
    "from bs4 import BeautifulSoup\n",
    "import concurrent.futures\n",
    "import modules.psql as psql"
   ]
  },
  {
   "cell_type": "markdown",
   "id": "b9096c9b-89d1-46a7-8424-0c338a216242",
   "metadata": {},
   "source": [
    "## Postgres Configuration"
   ]
  },
  {
   "cell_type": "code",
   "execution_count": 2,
   "id": "04d30ee3-0e6e-45c9-8717-b971f8e6162d",
   "metadata": {
    "execution": {
     "iopub.execute_input": "2024-03-24T16:44:43.148543Z",
     "iopub.status.busy": "2024-03-24T16:44:43.148543Z",
     "iopub.status.idle": "2024-03-24T16:44:44.240434Z",
     "shell.execute_reply": "2024-03-24T16:44:44.240434Z",
     "shell.execute_reply.started": "2024-03-24T16:44:43.148543Z"
    }
   },
   "outputs": [],
   "source": [
    "%run config_psql.ipynb"
   ]
  },
  {
   "cell_type": "markdown",
   "id": "17fe7317-e895-4fc6-b947-63776e379ddd",
   "metadata": {},
   "source": [
    "## Settings Configuration"
   ]
  },
  {
   "cell_type": "code",
   "execution_count": 3,
   "id": "9a852f46-4063-4f82-8e5b-6bc4cdd846c8",
   "metadata": {
    "execution": {
     "iopub.execute_input": "2024-03-24T16:44:44.242522Z",
     "iopub.status.busy": "2024-03-24T16:44:44.242522Z",
     "iopub.status.idle": "2024-03-24T16:44:44.247742Z",
     "shell.execute_reply": "2024-03-24T16:44:44.247742Z",
     "shell.execute_reply.started": "2024-03-24T16:44:44.242522Z"
    }
   },
   "outputs": [],
   "source": [
    "pd.set_option('display.max_columns', None)\n",
    "pd.set_option('display.max_rows', None)"
   ]
  },
  {
   "cell_type": "markdown",
   "id": "bcd5322f-9e2e-4c17-bfcd-9cb3ee1f9570",
   "metadata": {},
   "source": [
    "## Getting match list and urls from database"
   ]
  },
  {
   "cell_type": "code",
   "execution_count": 4,
   "id": "14f00221-42c5-41b9-ab67-e6a7dad9e8a5",
   "metadata": {
    "execution": {
     "iopub.execute_input": "2024-03-24T16:44:44.249751Z",
     "iopub.status.busy": "2024-03-24T16:44:44.249751Z",
     "iopub.status.idle": "2024-03-24T16:44:44.255266Z",
     "shell.execute_reply": "2024-03-24T16:44:44.255266Z",
     "shell.execute_reply.started": "2024-03-24T16:44:44.249751Z"
    }
   },
   "outputs": [],
   "source": [
    "query1 = \"\"\"\n",
    "SELECT s1.id, p.key_cricinfo, s2.match_id, s2.url\n",
    "FROM\n",
    "(\n",
    "\tSELECT distinct id FROM dwh.people --14882\n",
    "\tINTERSECT\n",
    "\tSELECT distinct player_id_num FROM dwh.match_player -- 2286\n",
    ") s1\n",
    "INNER JOIN \n",
    "(\n",
    "\tSELECT MAX(mp.match_id) AS match_id, MAX(eu.url) AS url, player_id_num \n",
    "\tFROM dwh.match_player mp \n",
    "\tINNER JOIN dwh.espn_url eu ON mp.match_id = eu.match_id AND eu.url_type = 'match'\n",
    "\tGROUP BY player_id_num\n",
    ") s2\n",
    "ON s1.id = s2.player_id_num\n",
    "LEFT JOIN dwh.player_info pi ON s1.id = pi.id\n",
    "INNER JOIN dwh.people p ON s1.id = p.id\n",
    "LEFT JOIN stg.player_info_na pina ON p.key_cricinfo = pina.key_cricinfo AND s2.match_id = pina.match_id\n",
    "WHERE pi.id IS NULL AND pina.match_id IS NULL AND p.key_cricinfo IS NOT NULL\n",
    "LIMIT 1000;\n",
    "\"\"\""
   ]
  },
  {
   "cell_type": "code",
   "execution_count": 5,
   "id": "635b88e6-0d68-42b5-9223-9bce7fb26204",
   "metadata": {
    "execution": {
     "iopub.execute_input": "2024-03-24T16:44:44.772377Z",
     "iopub.status.busy": "2024-03-24T16:44:44.772377Z",
     "iopub.status.idle": "2024-03-24T16:44:48.572781Z",
     "shell.execute_reply": "2024-03-24T16:44:48.571683Z",
     "shell.execute_reply.started": "2024-03-24T16:44:44.772377Z"
    }
   },
   "outputs": [],
   "source": [
    "with engine.connect() as conn:\n",
    "    df1 = pd.read_sql_query(query1, con = engine)"
   ]
  },
  {
   "cell_type": "code",
   "execution_count": 6,
   "id": "9140dad5-6ba8-49b5-af70-e91a6e9b335c",
   "metadata": {
    "execution": {
     "iopub.execute_input": "2024-03-24T16:44:48.572781Z",
     "iopub.status.busy": "2024-03-24T16:44:48.572781Z",
     "iopub.status.idle": "2024-03-24T16:44:48.582472Z",
     "shell.execute_reply": "2024-03-24T16:44:48.582472Z",
     "shell.execute_reply.started": "2024-03-24T16:44:48.572781Z"
    }
   },
   "outputs": [],
   "source": [
    "url_list = list(\n",
    "                map(\n",
    "                    lambda url: url.replace(\n",
    "                                            url.split(\"/\")[-1], \"match-playing-xi\"), df1['url'].unique()))\n",
    "col_list = ['key_cricinfo', 'name', 'Full Name', 'Born', 'Batting Style', 'Bowling Style', 'Fielding Position', 'Playing Role', 'Other', 'url']\n",
    "df_info = pd.DataFrame(columns=col_list)"
   ]
  },
  {
   "cell_type": "code",
   "execution_count": 205,
   "id": "9374a6ed-f992-4765-9277-6e45b62915f2",
   "metadata": {
    "execution": {
     "iopub.execute_input": "2024-03-22T21:47:30.797134Z",
     "iopub.status.busy": "2024-03-22T21:47:30.797134Z",
     "iopub.status.idle": "2024-03-22T21:47:30.810011Z",
     "shell.execute_reply": "2024-03-22T21:47:30.808996Z",
     "shell.execute_reply.started": "2024-03-22T21:47:30.797134Z"
    }
   },
   "outputs": [],
   "source": [
    "def find_playing_xi(url):\n",
    "    player_url = []\n",
    "    response = requests.get(url, timeout=5)\n",
    "    if response.status_code == 404:\n",
    "        print(\"Url not found\")\n",
    "        return None\n",
    "\n",
    "    soup = BeautifulSoup(response.content, 'lxml')\n",
    "\n",
    "    for row in soup.find('table').find('tbody').find_all('tr'):\n",
    "        cols = len(row.find_all('td'))\n",
    "        a_cols = len(row.find_all('a'))+1\n",
    "        if cols != 1:\n",
    "            for num in range(1,a_cols):\n",
    "                # player_title = row.find_all('a')[num-1]['title']\n",
    "                player_url.append(row.find_all('a')[num-1]['href'])\n",
    "    \n",
    "    return player_url "
   ]
  },
  {
   "cell_type": "code",
   "execution_count": 206,
   "id": "6bd4c8a3-b007-4efd-afcf-f95a32808c33",
   "metadata": {
    "execution": {
     "iopub.execute_input": "2024-03-22T21:47:30.813984Z",
     "iopub.status.busy": "2024-03-22T21:47:30.812991Z",
     "iopub.status.idle": "2024-03-22T21:49:49.446868Z",
     "shell.execute_reply": "2024-03-22T21:49:49.445856Z",
     "shell.execute_reply.started": "2024-03-22T21:47:30.813984Z"
    }
   },
   "outputs": [],
   "source": [
    "num_threads = 75\n",
    "all_urls = []\n",
    "\n",
    "with concurrent.futures.ThreadPoolExecutor(max_workers = num_threads) as executor:\n",
    "    futures = []\n",
    "    for url in url_list:\n",
    "        futures.append(executor.submit(find_playing_xi, url))\n",
    "\n",
    "    for future in (concurrent.futures.as_completed(futures)):\n",
    "        result = future.result()\n",
    "        for url in result:\n",
    "            all_urls.append(url)\n",
    "all_urls = list(set(all_urls))"
   ]
  },
  {
   "cell_type": "code",
   "execution_count": 207,
   "id": "14baa943-0874-4e08-8aad-bdb88d3dcae3",
   "metadata": {
    "execution": {
     "iopub.execute_input": "2024-03-22T21:49:49.450517Z",
     "iopub.status.busy": "2024-03-22T21:49:49.449234Z",
     "iopub.status.idle": "2024-03-22T21:49:54.003579Z",
     "shell.execute_reply": "2024-03-22T21:49:54.002425Z",
     "shell.execute_reply.started": "2024-03-22T21:49:49.450517Z"
    }
   },
   "outputs": [],
   "source": [
    "x = list(map(lambda url: url.split(\"/\")[-1].split('-')[-1], all_urls))\n",
    "y = list(set(df1['key_cricinfo'].values))\n",
    "\n",
    "all_urls2 = []\n",
    "for url in all_urls:\n",
    "    if url.split(\"/\")[-1].split('-')[-1] in list(set(x) & set(y)):\n",
    "        all_urls2.append(url)"
   ]
  },
  {
   "cell_type": "code",
   "execution_count": 208,
   "id": "5882f5cf-98c1-49d5-8085-08c515d03fd2",
   "metadata": {
    "execution": {
     "iopub.execute_input": "2024-03-22T21:49:54.005612Z",
     "iopub.status.busy": "2024-03-22T21:49:54.004613Z",
     "iopub.status.idle": "2024-03-22T21:49:54.013089Z",
     "shell.execute_reply": "2024-03-22T21:49:54.012089Z",
     "shell.execute_reply.started": "2024-03-22T21:49:54.005612Z"
    }
   },
   "outputs": [
    {
     "data": {
      "text/plain": [
       "651"
      ]
     },
     "execution_count": 208,
     "metadata": {},
     "output_type": "execute_result"
    }
   ],
   "source": [
    "len(all_urls2)"
   ]
  },
  {
   "cell_type": "code",
   "execution_count": 209,
   "id": "ca9073bc-80b2-4045-8cd4-17e6d1f3a81f",
   "metadata": {
    "execution": {
     "iopub.execute_input": "2024-03-22T21:50:16.947494Z",
     "iopub.status.busy": "2024-03-22T21:50:16.946456Z",
     "iopub.status.idle": "2024-03-22T21:50:16.959609Z",
     "shell.execute_reply": "2024-03-22T21:50:16.958646Z",
     "shell.execute_reply.started": "2024-03-22T21:50:16.947494Z"
    }
   },
   "outputs": [],
   "source": [
    "def find_player_info(url):\n",
    "    info_dict = {}\n",
    "    response = requests.get('https://www.espncricinfo.com/' + url, timeout=5)\n",
    "    if response.status_code == 404:\n",
    "        print(\"Url not found - {}\".format(url))\n",
    "        return None\n",
    "\n",
    "    soup = BeautifulSoup(response.content, 'lxml')\n",
    "\n",
    "    info_dict['key_cricinfo']= url.split('/')[-1].split('-')[-1]\n",
    "    info_dict['name'] = ' '.join(url.split('/')[-1].split('-')[:-1])\n",
    "    info_dict['url'] = url\n",
    "\n",
    "    if len(soup.find_all(\"div\", {\"class\": \"ds-grid lg:ds-grid-cols-3 ds-grid-cols-2 ds-gap-4 ds-mb-8\"})) == 0:\n",
    "        print(url)\n",
    "    \n",
    "    for div in soup.find_all(\"div\", {\"class\": \"ds-grid lg:ds-grid-cols-3 ds-grid-cols-2 ds-gap-4 ds-mb-8\"})[0].find_all('div'):\n",
    "        key_elem = div.find('p', class_='ds-text-tight-m')\n",
    "        value_elem = div.find('span', class_='ds-text-title-s')\n",
    "        if key_elem and value_elem:\n",
    "            key = key_elem.text.strip()\n",
    "            value = value_elem.text.strip()\n",
    "            info_dict[key] = value\n",
    "            info_dict = {col: info_dict[col] if col in info_dict else np.nan for col in col_list}\n",
    "        # df_result.loc[len(df_result)] = info_dict\n",
    "    \n",
    "    return info_dict "
   ]
  },
  {
   "cell_type": "code",
   "execution_count": 210,
   "id": "270fe60c-1ee1-4811-ab04-d5a8598a7f8a",
   "metadata": {
    "execution": {
     "iopub.execute_input": "2024-03-22T21:50:18.747357Z",
     "iopub.status.busy": "2024-03-22T21:50:18.746388Z",
     "iopub.status.idle": "2024-03-22T21:53:05.574741Z",
     "shell.execute_reply": "2024-03-22T21:53:05.573345Z",
     "shell.execute_reply.started": "2024-03-22T21:50:18.747357Z"
    }
   },
   "outputs": [
    {
     "name": "stdout",
     "output_type": "stream",
     "text": [
      "50 players completed!\n",
      "100 players completed!\n",
      "150 players completed!\n",
      "200 players completed!\n",
      "250 players completed!\n",
      "300 players completed!\n",
      "350 players completed!\n",
      "400 players completed!\n",
      "450 players completed!\n",
      "500 players completed!\n",
      "550 players completed!\n",
      "600 players completed!\n",
      "650 players completed!\n"
     ]
    }
   ],
   "source": [
    "num_threads = 30\n",
    "count = 0\n",
    "with concurrent.futures.ThreadPoolExecutor(max_workers = num_threads) as executor:\n",
    "    futures = []\n",
    "    for url in all_urls2:\n",
    "        futures.append(executor.submit(find_player_info, url))\n",
    "\n",
    "    for future in (concurrent.futures.as_completed(futures)):\n",
    "        result = future.result()\n",
    "        df_info.loc[len(df_info)] = result\n",
    "        count += 1\n",
    "        if (count%50)==0:\n",
    "            print(\"{0} players completed!\".format(count))"
   ]
  },
  {
   "cell_type": "code",
   "execution_count": 211,
   "id": "1ba2d65c-71b1-4488-887f-2f5336c4c30d",
   "metadata": {
    "execution": {
     "iopub.execute_input": "2024-03-22T21:53:05.577609Z",
     "iopub.status.busy": "2024-03-22T21:53:05.576738Z",
     "iopub.status.idle": "2024-03-22T21:53:05.622474Z",
     "shell.execute_reply": "2024-03-22T21:53:05.622474Z",
     "shell.execute_reply.started": "2024-03-22T21:53:05.577609Z"
    }
   },
   "outputs": [],
   "source": [
    "df_info[['dob', 'birth_place']] = df_info['Born'].str.extract(r'([A-Za-z]+ \\d{2}, \\d{4}),?(.*)')\n",
    "df_info['dob'] = pd.to_datetime(df_info['dob']).dt.strftime('%Y-%m-%d')\n",
    "df_info['dob'] = pd.to_datetime(df_info['dob'])\n",
    "df_info['birth_place'] = df_info['birth_place'].replace('', np.nan)\n",
    "if not df_info['Bowling Style'].isnull().all():\n",
    "    df_info['Bowling Style'] = df_info['Bowling Style'].str.split(',').str[0].str.strip()\n",
    "    df_info['bowling_hand'] = np.where(df_info['Bowling Style'].str.contains('Left', case=False), 'Left', np.where(df_info['Bowling Style'].str.contains('Right', case=False), 'Right', None))\n",
    "df_info.drop(columns=['Born'], inplace=True)\n",
    "df_info.dropna(subset=['Batting Style', 'Bowling Style', 'Other'], how='all', inplace=True)\n",
    "\n",
    "df_info = df_info.rename(columns={'Full Name': 'full_name', 'Batting Style': 'batting_style', 'Bowling Style': 'bowling_style', 'Fielding Position': 'fielding_pos', 'Playing Role': 'playing_role', 'Other': 'other'})"
   ]
  },
  {
   "cell_type": "code",
   "execution_count": 212,
   "id": "700a4600-07d2-457b-8854-9b5c8a2bfe3e",
   "metadata": {
    "execution": {
     "iopub.execute_input": "2024-03-22T21:53:05.622474Z",
     "iopub.status.busy": "2024-03-22T21:53:05.622474Z",
     "iopub.status.idle": "2024-03-22T21:53:06.687226Z",
     "shell.execute_reply": "2024-03-22T21:53:06.687226Z",
     "shell.execute_reply.started": "2024-03-22T21:53:05.622474Z"
    }
   },
   "outputs": [
    {
     "data": {
      "text/plain": [
       "617"
      ]
     },
     "execution_count": 212,
     "metadata": {},
     "output_type": "execute_result"
    }
   ],
   "source": [
    "# Load player information into Stage table\n",
    "with engine.connect() as conn:\n",
    "    conn.execute(\"TRUNCATE TABLE stg.player_info\")\n",
    "\n",
    "count_rows = df_info.to_sql('player_info', schema = 'stg', con = engine, if_exists='append', method = 'multi', index = False)\n",
    "count_rows"
   ]
  },
  {
   "cell_type": "code",
   "execution_count": 213,
   "id": "3834a5e6-46c4-433a-92ca-b0a2d9087f14",
   "metadata": {
    "execution": {
     "iopub.execute_input": "2024-03-22T21:53:06.687226Z",
     "iopub.status.busy": "2024-03-22T21:53:06.687226Z",
     "iopub.status.idle": "2024-03-22T21:53:06.768303Z",
     "shell.execute_reply": "2024-03-22T21:53:06.767297Z",
     "shell.execute_reply.started": "2024-03-22T21:53:06.687226Z"
    }
   },
   "outputs": [],
   "source": [
    "with engine.connect() as conn:\n",
    "    conn.execution_options(isolation_level = \"AUTOCOMMIT\")\n",
    "    with conn.begin():\n",
    "        conn.execute(\"CALL dwh.LoadPlayerInfo()\") "
   ]
  },
  {
   "cell_type": "code",
   "execution_count": 214,
   "id": "37f729c7-7dbe-43cd-a295-01fb9437f65d",
   "metadata": {
    "execution": {
     "iopub.execute_input": "2024-03-22T21:53:06.770294Z",
     "iopub.status.busy": "2024-03-22T21:53:06.769297Z",
     "iopub.status.idle": "2024-03-22T21:53:07.252756Z",
     "shell.execute_reply": "2024-03-22T21:53:07.252756Z",
     "shell.execute_reply.started": "2024-03-22T21:53:06.770294Z"
    }
   },
   "outputs": [
    {
     "name": "stdout",
     "output_type": "stream",
     "text": [
      "42\n"
     ]
    }
   ],
   "source": [
    "df_result = pd.DataFrame({'key_cricinfo': list(set(df1['key_cricinfo'].unique()) - set(df_info['key_cricinfo'].unique()))})\n",
    "df_result['match_id'] = pd.merge(df_result, df1, on='key_cricinfo', how='inner')['match_id']\n",
    "\n",
    "query = df_result.to_sql(\"temp_table\", con = engine, schema = \"stg\", method = \"multi\", if_exists=\"replace\", index=False)\n",
    "print(query)\n",
    "\n",
    "query = \"\"\"\n",
    "INSERT INTO stg.player_info_na (\"key_cricinfo\",\"match_id\")\n",
    "SELECT \"key_cricinfo\", \"match_id\" FROM stg.temp_table s\n",
    "WHERE NOT EXISTS (\n",
    "    SELECT 1 FROM stg.player_info_na t\n",
    "    WHERE t.\"key_cricinfo\" = s.\"key_cricinfo\" and t.\"match_id\" = s.\"match_id\"\n",
    ");\n",
    "\"\"\"\n",
    "with engine.connect() as conn:\n",
    "    conn.execute(query)\n",
    "    conn.execute(\"DELETE FROM stg.player_info_na WHERE key_cricinfo IS NULL\")\n",
    "    conn.execute(\"DROP TABLE IF EXISTS stg.temp_table\")"
   ]
  }
 ],
 "metadata": {
  "kernelspec": {
   "display_name": "Python 3 (ipykernel)",
   "language": "python",
   "name": "python3"
  },
  "language_info": {
   "codemirror_mode": {
    "name": "ipython",
    "version": 3
   },
   "file_extension": ".py",
   "mimetype": "text/x-python",
   "name": "python",
   "nbconvert_exporter": "python",
   "pygments_lexer": "ipython3",
   "version": "3.11.5"
  }
 },
 "nbformat": 4,
 "nbformat_minor": 5
}
