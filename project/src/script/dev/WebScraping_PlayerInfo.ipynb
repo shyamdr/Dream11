{
 "cells": [
  {
   "cell_type": "markdown",
   "id": "097c715c-60d2-4c71-8863-4d6e6b841ca6",
   "metadata": {},
   "source": [
    "## Importing Libraries"
   ]
  },
  {
   "cell_type": "code",
   "execution_count": 264,
   "id": "504faa4d-a5b0-47a5-b072-b3c0403d1221",
   "metadata": {
    "execution": {
     "iopub.execute_input": "2024-03-11T21:31:26.444093Z",
     "iopub.status.busy": "2024-03-11T21:31:26.442043Z",
     "iopub.status.idle": "2024-03-11T21:31:26.453166Z",
     "shell.execute_reply": "2024-03-11T21:31:26.451622Z",
     "shell.execute_reply.started": "2024-03-11T21:31:26.444093Z"
    }
   },
   "outputs": [],
   "source": [
    "import numpy as np\n",
    "import pandas as pd\n",
    "import requests\n",
    "from bs4 import BeautifulSoup\n",
    "import concurrent.futures"
   ]
  },
  {
   "cell_type": "markdown",
   "id": "b9096c9b-89d1-46a7-8424-0c338a216242",
   "metadata": {},
   "source": [
    "## Postgres Configuration"
   ]
  },
  {
   "cell_type": "code",
   "execution_count": 265,
   "id": "04d30ee3-0e6e-45c9-8717-b971f8e6162d",
   "metadata": {
    "execution": {
     "iopub.execute_input": "2024-03-11T21:31:26.962890Z",
     "iopub.status.busy": "2024-03-11T21:31:26.962890Z",
     "iopub.status.idle": "2024-03-11T21:31:27.268995Z",
     "shell.execute_reply": "2024-03-11T21:31:27.266932Z",
     "shell.execute_reply.started": "2024-03-11T21:31:26.962890Z"
    }
   },
   "outputs": [],
   "source": [
    "%run config_psql.ipynb"
   ]
  },
  {
   "cell_type": "markdown",
   "id": "17fe7317-e895-4fc6-b947-63776e379ddd",
   "metadata": {},
   "source": [
    "## Settings Configuration"
   ]
  },
  {
   "cell_type": "code",
   "execution_count": 266,
   "id": "9a852f46-4063-4f82-8e5b-6bc4cdd846c8",
   "metadata": {
    "execution": {
     "iopub.execute_input": "2024-03-11T21:31:27.274579Z",
     "iopub.status.busy": "2024-03-11T21:31:27.273582Z",
     "iopub.status.idle": "2024-03-11T21:31:27.283959Z",
     "shell.execute_reply": "2024-03-11T21:31:27.281940Z",
     "shell.execute_reply.started": "2024-03-11T21:31:27.274579Z"
    }
   },
   "outputs": [],
   "source": [
    "pd.set_option('display.max_columns', None)\n",
    "pd.set_option('display.max_rows', None)"
   ]
  },
  {
   "cell_type": "markdown",
   "id": "bcd5322f-9e2e-4c17-bfcd-9cb3ee1f9570",
   "metadata": {},
   "source": [
    "## Getting match list and urls from database"
   ]
  },
  {
   "cell_type": "code",
   "execution_count": 267,
   "id": "14f00221-42c5-41b9-ab67-e6a7dad9e8a5",
   "metadata": {
    "execution": {
     "iopub.execute_input": "2024-03-11T21:31:27.290327Z",
     "iopub.status.busy": "2024-03-11T21:31:27.287323Z",
     "iopub.status.idle": "2024-03-11T21:31:27.297482Z",
     "shell.execute_reply": "2024-03-11T21:31:27.296473Z",
     "shell.execute_reply.started": "2024-03-11T21:31:27.290327Z"
    }
   },
   "outputs": [],
   "source": [
    "query1 = \"\"\"\n",
    "SELECT s1.id, p.key_cricinfo, s2.match_id, s2.url\n",
    "FROM\n",
    "(\n",
    "\tSELECT distinct id FROM dwh.people --14882\n",
    "\tINTERSECT\n",
    "\tSELECT distinct player_id_num FROM dwh.match_player -- 2286\n",
    ") s1\n",
    "INNER JOIN \n",
    "(\n",
    "\tSELECT MAX(mp.match_id) AS match_id, MAX(eu.url) AS url, player_id_num \n",
    "\tFROM dwh.match_player mp \n",
    "\tINNER JOIN dwh.espn_url eu ON mp.match_id = eu.match_id AND eu.url_type = 'match'\n",
    "\tGROUP BY player_id_num\n",
    ") s2\n",
    "ON s1.id = s2.player_id_num\n",
    "LEFT JOIN dwh.player_info pi ON s1.id = pi.id\n",
    "INNER JOIN dwh.people p ON s1.id = p.id\n",
    "WHERE pi.id IS NULL\n",
    "\"\"\""
   ]
  },
  {
   "cell_type": "code",
   "execution_count": 268,
   "id": "635b88e6-0d68-42b5-9223-9bce7fb26204",
   "metadata": {
    "execution": {
     "iopub.execute_input": "2024-03-11T21:31:27.300590Z",
     "iopub.status.busy": "2024-03-11T21:31:27.299590Z",
     "iopub.status.idle": "2024-03-11T21:31:28.204791Z",
     "shell.execute_reply": "2024-03-11T21:31:28.202583Z",
     "shell.execute_reply.started": "2024-03-11T21:31:27.300590Z"
    }
   },
   "outputs": [],
   "source": [
    "with engine.connect() as conn:\n",
    "    df1 = pd.read_sql_query(query1, con = engine)"
   ]
  },
  {
   "cell_type": "code",
   "execution_count": 269,
   "id": "9140dad5-6ba8-49b5-af70-e91a6e9b335c",
   "metadata": {
    "execution": {
     "iopub.execute_input": "2024-03-11T21:31:28.209033Z",
     "iopub.status.busy": "2024-03-11T21:31:28.208026Z",
     "iopub.status.idle": "2024-03-11T21:31:28.226094Z",
     "shell.execute_reply": "2024-03-11T21:31:28.223057Z",
     "shell.execute_reply.started": "2024-03-11T21:31:28.209033Z"
    }
   },
   "outputs": [],
   "source": [
    "url_list = list(map(lambda url: url.replace(url.split(\"/\")[-1], \"match-playing-xi\"), df1['url'].unique()))\n",
    "col_list = ['key_cricinfo', 'name', 'Full Name', 'Born', 'Batting Style', 'Bowling Style', 'Fielding Position', 'Playing Role', 'Other', 'url']\n",
    "df_info = pd.DataFrame(columns=col_list)"
   ]
  },
  {
   "cell_type": "code",
   "execution_count": 270,
   "id": "9374a6ed-f992-4765-9277-6e45b62915f2",
   "metadata": {
    "execution": {
     "iopub.execute_input": "2024-03-11T21:31:28.230093Z",
     "iopub.status.busy": "2024-03-11T21:31:28.229093Z",
     "iopub.status.idle": "2024-03-11T21:31:28.246680Z",
     "shell.execute_reply": "2024-03-11T21:31:28.243790Z",
     "shell.execute_reply.started": "2024-03-11T21:31:28.230093Z"
    }
   },
   "outputs": [],
   "source": [
    "def find_playing_xi(url):\n",
    "    player_url = []\n",
    "    response = requests.get(url)\n",
    "    if response.status_code == 404:\n",
    "        print(\"Url not found\")\n",
    "        return None\n",
    "\n",
    "    soup = BeautifulSoup(response.content, 'lxml')\n",
    "\n",
    "    for row in soup.find('table').find('tbody').find_all('tr'):\n",
    "        cols = len(row.find_all('td'))\n",
    "        a_cols = len(row.find_all('a'))+1\n",
    "        if cols != 1:\n",
    "            for num in range(1,a_cols):\n",
    "                # player_title = row.find_all('a')[num-1]['title']\n",
    "                player_url.append(row.find_all('a')[num-1]['href'])\n",
    "    \n",
    "    return player_url "
   ]
  },
  {
   "cell_type": "code",
   "execution_count": 271,
   "id": "6bd4c8a3-b007-4efd-afcf-f95a32808c33",
   "metadata": {
    "execution": {
     "iopub.execute_input": "2024-03-11T21:31:28.254139Z",
     "iopub.status.busy": "2024-03-11T21:31:28.252066Z",
     "iopub.status.idle": "2024-03-11T21:31:32.564011Z",
     "shell.execute_reply": "2024-03-11T21:31:32.563003Z",
     "shell.execute_reply.started": "2024-03-11T21:31:28.254139Z"
    }
   },
   "outputs": [],
   "source": [
    "num_threads = 50\n",
    "all_urls = []\n",
    "\n",
    "with concurrent.futures.ThreadPoolExecutor(max_workers = num_threads) as executor:\n",
    "    futures = []\n",
    "    for url in url_list:\n",
    "        futures.append(executor.submit(find_playing_xi, url))\n",
    "\n",
    "    for future in (concurrent.futures.as_completed(futures)):\n",
    "        result = future.result()\n",
    "        for url in result:\n",
    "            all_urls.append(url)\n",
    "all_urls = list(set(all_urls))"
   ]
  },
  {
   "cell_type": "code",
   "execution_count": 272,
   "id": "14baa943-0874-4e08-8aad-bdb88d3dcae3",
   "metadata": {
    "execution": {
     "iopub.execute_input": "2024-03-11T21:31:32.566410Z",
     "iopub.status.busy": "2024-03-11T21:31:32.565016Z",
     "iopub.status.idle": "2024-03-11T21:31:32.583401Z",
     "shell.execute_reply": "2024-03-11T21:31:32.581821Z",
     "shell.execute_reply.started": "2024-03-11T21:31:32.566410Z"
    }
   },
   "outputs": [],
   "source": [
    "x = list(map(lambda url: url.split(\"/\")[-1].split('-')[-1], all_urls))\n",
    "y = list(set(df1['key_cricinfo'].values))\n",
    "\n",
    "all_urls2 = []\n",
    "for url in all_urls:\n",
    "    if url.split(\"/\")[-1].split('-')[-1] in list(set(x) & set(y)):\n",
    "        all_urls2.append(url)"
   ]
  },
  {
   "cell_type": "code",
   "execution_count": 273,
   "id": "ca9073bc-80b2-4045-8cd4-17e6d1f3a81f",
   "metadata": {
    "execution": {
     "iopub.execute_input": "2024-03-11T21:31:32.588409Z",
     "iopub.status.busy": "2024-03-11T21:31:32.587405Z",
     "iopub.status.idle": "2024-03-11T21:31:32.608204Z",
     "shell.execute_reply": "2024-03-11T21:31:32.602052Z",
     "shell.execute_reply.started": "2024-03-11T21:31:32.588409Z"
    }
   },
   "outputs": [],
   "source": [
    "def find_player_info(url):\n",
    "    info_dict = {}\n",
    "    response = requests.get('https://www.espncricinfo.com/' + url)\n",
    "    if response.status_code == 404:\n",
    "        print(\"Url not found\")\n",
    "        return None\n",
    "\n",
    "    soup = BeautifulSoup(response.content, 'lxml')\n",
    "\n",
    "    info_dict['key_cricinfo']= url.split('/')[-1].split('-')[-1]\n",
    "    info_dict['name'] = ' '.join(url.split('/')[-1].split('-')[:-1])\n",
    "    info_dict['url'] = url\n",
    "\n",
    "    if len(soup.find_all(\"div\", {\"class\": \"ds-grid lg:ds-grid-cols-3 ds-grid-cols-2 ds-gap-4 ds-mb-8\"})) == 0:\n",
    "        print(url)\n",
    "    \n",
    "    for div in soup.find_all(\"div\", {\"class\": \"ds-grid lg:ds-grid-cols-3 ds-grid-cols-2 ds-gap-4 ds-mb-8\"})[0].find_all('div'):\n",
    "        key_elem = div.find('p', class_='ds-text-tight-m')\n",
    "        value_elem = div.find('span', class_='ds-text-title-s')\n",
    "        if key_elem and value_elem:\n",
    "            key = key_elem.text.strip()\n",
    "            value = value_elem.text.strip()\n",
    "            info_dict[key] = value\n",
    "            info_dict = {col: info_dict[col] if col in info_dict else np.nan for col in col_list}\n",
    "        # df_result.loc[len(df_result)] = info_dict\n",
    "    \n",
    "    return info_dict "
   ]
  },
  {
   "cell_type": "code",
   "execution_count": 274,
   "id": "270fe60c-1ee1-4811-ab04-d5a8598a7f8a",
   "metadata": {
    "execution": {
     "iopub.execute_input": "2024-03-11T21:31:32.620319Z",
     "iopub.status.busy": "2024-03-11T21:31:32.615089Z",
     "iopub.status.idle": "2024-03-11T21:31:32.635968Z",
     "shell.execute_reply": "2024-03-11T21:31:32.633648Z",
     "shell.execute_reply.started": "2024-03-11T21:31:32.620319Z"
    }
   },
   "outputs": [],
   "source": [
    "num_threads = 30\n",
    "\n",
    "with concurrent.futures.ThreadPoolExecutor(max_workers = num_threads) as executor:\n",
    "    futures = []\n",
    "    for url in all_urls2[150:250]:\n",
    "        futures.append(executor.submit(find_player_info, url))\n",
    "\n",
    "    for future in (concurrent.futures.as_completed(futures)):\n",
    "        result = future.result()\n",
    "        df_info.loc[len(df_info)] = result"
   ]
  },
  {
   "cell_type": "code",
   "execution_count": 275,
   "id": "1ba2d65c-71b1-4488-887f-2f5336c4c30d",
   "metadata": {
    "execution": {
     "iopub.execute_input": "2024-03-11T21:31:32.642737Z",
     "iopub.status.busy": "2024-03-11T21:31:32.641227Z",
     "iopub.status.idle": "2024-03-11T21:31:32.679053Z",
     "shell.execute_reply": "2024-03-11T21:31:32.677025Z",
     "shell.execute_reply.started": "2024-03-11T21:31:32.642737Z"
    }
   },
   "outputs": [],
   "source": [
    "df_info[['dob', 'birth_place']] = df_info['Born'].str.extract(r'([A-Za-z]+ \\d{2}, \\d{4}),?(.*)')\n",
    "df_info['dob'] = pd.to_datetime(df_info['dob']).dt.strftime('%Y-%m-%d')\n",
    "df_info['dob'] = pd.to_datetime(df_info['dob'])\n",
    "df_info['birth_place'] = df_info['birth_place'].replace('', np.nan)\n",
    "if not df_info['Bowling Style'].isnull().all():\n",
    "    df_info['Bowling Style'] = df_info['Bowling Style'].str.split(',').str[0].str.strip()\n",
    "    df_info['bowling_hand'] = np.where(df_info['Bowling Style'].str.contains('Left', case=False), 'Left', np.where(df_info['Bowling Style'].str.contains('Right', case=False), 'Right', None))\n",
    "df_info.drop(columns=['Born'], inplace=True)\n",
    "df_info.dropna(subset=['Batting Style', 'Bowling Style', 'Other'], how='all', inplace=True)\n",
    "\n",
    "df_info = df_info.rename(columns={'Full Name': 'full_name', 'Batting Style': 'batting_style', 'Bowling Style': 'bowling_style', 'Fielding Position': 'fielding_pos', 'Playing Role': 'playing_role', 'Other': 'other'})"
   ]
  },
  {
   "cell_type": "code",
   "execution_count": 276,
   "id": "700a4600-07d2-457b-8854-9b5c8a2bfe3e",
   "metadata": {
    "execution": {
     "iopub.execute_input": "2024-03-11T21:31:32.683415Z",
     "iopub.status.busy": "2024-03-11T21:31:32.682227Z",
     "iopub.status.idle": "2024-03-11T21:31:32.879092Z",
     "shell.execute_reply": "2024-03-11T21:31:32.877913Z",
     "shell.execute_reply.started": "2024-03-11T21:31:32.683415Z"
    }
   },
   "outputs": [],
   "source": [
    "# Load player information into Stage table\n",
    "with engine.connect() as conn:\n",
    "    conn.execute(\"TRUNCATE TABLE stg.player_info\")\n",
    "\n",
    "count_rows = df_info.to_sql('player_info', schema = 'stg', con = engine, if_exists='append', method = 'multi', index = False)"
   ]
  },
  {
   "cell_type": "code",
   "execution_count": 277,
   "id": "3834a5e6-46c4-433a-92ca-b0a2d9087f14",
   "metadata": {
    "execution": {
     "iopub.execute_input": "2024-03-11T21:31:32.884190Z",
     "iopub.status.busy": "2024-03-11T21:31:32.881933Z",
     "iopub.status.idle": "2024-03-11T21:31:32.932288Z",
     "shell.execute_reply": "2024-03-11T21:31:32.929751Z",
     "shell.execute_reply.started": "2024-03-11T21:31:32.884190Z"
    }
   },
   "outputs": [],
   "source": [
    "with engine.connect() as conn:\n",
    "    conn.execution_options(isolation_level = \"AUTOCOMMIT\")\n",
    "    with conn.begin():\n",
    "        conn.execute(\"CALL dwh.LoadPlayerInfo()\") "
   ]
  }
 ],
 "metadata": {
  "kernelspec": {
   "display_name": "Python 3 (ipykernel)",
   "language": "python",
   "name": "python3"
  },
  "language_info": {
   "codemirror_mode": {
    "name": "ipython",
    "version": 3
   },
   "file_extension": ".py",
   "mimetype": "text/x-python",
   "name": "python",
   "nbconvert_exporter": "python",
   "pygments_lexer": "ipython3",
   "version": "3.11.5"
  }
 },
 "nbformat": 4,
 "nbformat_minor": 5
}
