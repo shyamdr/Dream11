{
 "cells": [
  {
   "cell_type": "markdown",
   "id": "b2330813",
   "metadata": {},
   "source": [
    "# Importing  Libraries"
   ]
  },
  {
   "cell_type": "code",
   "execution_count": 1180,
   "id": "7f82435a",
   "metadata": {
    "ExecuteTime": {
     "end_time": "2023-09-09T19:16:12.967590Z",
     "start_time": "2023-09-09T19:16:12.950371Z"
    }
   },
   "outputs": [],
   "source": [
    "import unicodedata\n",
    "import numpy as np\n",
    "import pandas as pd\n",
    "import seaborn as sns\n",
    "import matplotlib.pyplot as plt\n",
    "import re\n",
    "import spacy\n",
    "import nltk\n",
    "import string\n",
    "from spacy.lang.en.stop_words import STOP_WORDS"
   ]
  },
  {
   "cell_type": "code",
   "execution_count": 1181,
   "id": "0a16820f",
   "metadata": {
    "ExecuteTime": {
     "end_time": "2023-09-09T19:16:13.161112Z",
     "start_time": "2023-09-09T19:16:13.150394Z"
    }
   },
   "outputs": [],
   "source": [
    "# Settings configurations\n",
    "\n",
    "pd.set_option('display.max_columns', None)\n",
    "pd.set_option('display.max_rows', None)"
   ]
  },
  {
   "cell_type": "markdown",
   "id": "5002a9ca",
   "metadata": {},
   "source": [
    "## Initializing parameters"
   ]
  },
  {
   "cell_type": "code",
   "execution_count": 1240,
   "id": "7687a9d4",
   "metadata": {
    "ExecuteTime": {
     "end_time": "2023-09-09T19:22:13.440402Z",
     "start_time": "2023-09-09T19:22:13.006799Z"
    }
   },
   "outputs": [],
   "source": [
    "# Initializing parameters\n",
    "\n",
    "FILENAME = 'CommExtract/comm_69561.txt'\n",
    "\n",
    "nlp = spacy.load('en_core_web_sm')"
   ]
  },
  {
   "cell_type": "markdown",
   "id": "30afa326",
   "metadata": {},
   "source": [
    "## Load the required files"
   ]
  },
  {
   "cell_type": "code",
   "execution_count": 1241,
   "id": "604ee71e",
   "metadata": {
    "ExecuteTime": {
     "end_time": "2023-09-09T19:22:13.676829Z",
     "start_time": "2023-09-09T19:22:13.444414Z"
    }
   },
   "outputs": [
    {
     "data": {
      "text/html": [
       "<div>\n",
       "<style scoped>\n",
       "    .dataframe tbody tr th:only-of-type {\n",
       "        vertical-align: middle;\n",
       "    }\n",
       "\n",
       "    .dataframe tbody tr th {\n",
       "        vertical-align: top;\n",
       "    }\n",
       "\n",
       "    .dataframe thead th {\n",
       "        text-align: right;\n",
       "    }\n",
       "</style>\n",
       "<table border=\"1\" class=\"dataframe\">\n",
       "  <thead>\n",
       "    <tr style=\"text-align: right;\">\n",
       "      <th></th>\n",
       "      <th>Word</th>\n",
       "      <th>Sequence</th>\n",
       "      <th>TypeBenifit</th>\n",
       "      <th>TypeDeficit</th>\n",
       "      <th>Usage</th>\n",
       "      <th>Score</th>\n",
       "    </tr>\n",
       "  </thead>\n",
       "  <tbody>\n",
       "    <tr>\n",
       "      <th>0</th>\n",
       "      <td>bounce</td>\n",
       "      <td>Unigram</td>\n",
       "      <td>Pace, Bat</td>\n",
       "      <td>NaN</td>\n",
       "      <td>AddScore</td>\n",
       "      <td>7</td>\n",
       "    </tr>\n",
       "    <tr>\n",
       "      <th>1</th>\n",
       "      <td>boundary</td>\n",
       "      <td>Unigram</td>\n",
       "      <td>NaN</td>\n",
       "      <td>NaN</td>\n",
       "      <td>AddScore</td>\n",
       "      <td>8</td>\n",
       "    </tr>\n",
       "    <tr>\n",
       "      <th>2</th>\n",
       "      <td>centre</td>\n",
       "      <td>Unigram</td>\n",
       "      <td>NaN</td>\n",
       "      <td>NaN</td>\n",
       "      <td>AddScore</td>\n",
       "      <td>3</td>\n",
       "    </tr>\n",
       "    <tr>\n",
       "      <th>3</th>\n",
       "      <td>challenge</td>\n",
       "      <td>Unigram</td>\n",
       "      <td>NaN</td>\n",
       "      <td>NaN</td>\n",
       "      <td>AddScore</td>\n",
       "      <td>4</td>\n",
       "    </tr>\n",
       "    <tr>\n",
       "      <th>4</th>\n",
       "      <td>color</td>\n",
       "      <td>Unigram</td>\n",
       "      <td>NaN</td>\n",
       "      <td>NaN</td>\n",
       "      <td>AddScore</td>\n",
       "      <td>3</td>\n",
       "    </tr>\n",
       "  </tbody>\n",
       "</table>\n",
       "</div>"
      ],
      "text/plain": [
       "        Word Sequence TypeBenifit TypeDeficit     Usage  Score\n",
       "0     bounce  Unigram   Pace, Bat         NaN  AddScore      7\n",
       "1   boundary  Unigram         NaN         NaN  AddScore      8\n",
       "2     centre  Unigram         NaN         NaN  AddScore      3\n",
       "3  challenge  Unigram         NaN         NaN  AddScore      4\n",
       "4      color  Unigram         NaN         NaN  AddScore      3"
      ]
     },
     "execution_count": 1241,
     "metadata": {},
     "output_type": "execute_result"
    }
   ],
   "source": [
    "def remove_special_characters(text):\n",
    "    # Normalize the text to remove special characters and normalize spaces\n",
    "    normalized_text = unicodedata.normalize('NFKD', text)\n",
    "    # Remove special characters and control characters\n",
    "    cleaned_text = ''.join(c for c in normalized_text if not unicodedata.category(c).startswith('C'))\n",
    "    return cleaned_text.strip()\n",
    "\n",
    "# Load the list from the text file\n",
    "comm0 = []\n",
    "with open(FILENAME, 'r') as f:\n",
    "    for line in f:\n",
    "        cleaned_line = remove_special_characters(line)\n",
    "        comm0.append(cleaned_line)\n",
    "        \n",
    "df_RS = pd.read_excel('Pitch_comm_word_list2.xlsx', 'RelevanceScoring')\n",
    "df_KS = pd.read_excel('Pitch_comm_word_list2.xlsx', 'KeywordScoring')\n",
    "df_Comp = pd.read_excel('Pitch_comm_word_list2.xlsx', 'Comparatives')\n",
    "df_Neg = pd.read_excel('Pitch_comm_word_list2.xlsx', 'Negatives')\n",
    "#df['Word'] = df['Word'].apply(lambda x : nlp(x)[0].lemma_.lower())\n",
    "df_RS['Word'] = df_RS['Word'].apply(lambda x : x.lower())\n",
    "df_KS['Word'] = df_KS['Word'].apply(lambda x : x.lower())\n",
    "df_KS['Helper'] = df_KS['Helper'].apply(lambda x: x.lower() if isinstance(x, str) else x)\n",
    "df_Comp['Word'] = df_Comp['Word'].apply(lambda x : x.lower())\n",
    "df_Neg['Word'] = df_Neg['Word'].apply(lambda x : x.lower())\n",
    "df_Score = pd.DataFrame({'Keyword': [], 'Score': [], 'Bat': [], 'Pace': [], 'Spin': []})\n",
    "\n",
    "df_RS.head()"
   ]
  },
  {
   "cell_type": "code",
   "execution_count": 1242,
   "id": "8a6a620a",
   "metadata": {
    "ExecuteTime": {
     "end_time": "2023-09-09T19:22:13.692616Z",
     "start_time": "2023-09-09T19:22:13.682627Z"
    }
   },
   "outputs": [
    {
     "name": "stdout",
     "output_type": "stream",
     "text": [
      "1499\n"
     ]
    }
   ],
   "source": [
    "ball_num = ['0.1', '0.2', '0.3', '0.4', '0.5', '0.6', '1.1','1.2','1.3','1.4','1.5','1.6']\n",
    "max_ind = 0\n",
    "for i in range(len(comm0)-1,-1,-1 ):\n",
    "    if comm0[i] in ball_num:\n",
    "        if i > max_ind:\n",
    "            max_ind = i\n",
    "print(max_ind)\n",
    "comm = comm0[max_ind+1:]"
   ]
  },
  {
   "cell_type": "markdown",
   "id": "0d45bb60",
   "metadata": {},
   "source": [
    "### Check 1 : Filter non alpha-numeric charecter sentences"
   ]
  },
  {
   "cell_type": "code",
   "execution_count": 1243,
   "id": "3a0e4912",
   "metadata": {
    "ExecuteTime": {
     "end_time": "2023-09-09T19:22:13.977305Z",
     "start_time": "2023-09-09T19:22:13.959415Z"
    }
   },
   "outputs": [
    {
     "name": "stdout",
     "output_type": "stream",
     "text": [
      "the original comm file contains - 83 lines of text\n",
      "after filtering for alpha-numeric texts, the file contains - 82 lines of text\n"
     ]
    }
   ],
   "source": [
    "# 1. Discard texts if they do not contain any alpha-numeric charecters\n",
    "\n",
    "text_comm = [element for element in comm if any(char.isalpha() for char in element)]\n",
    "\n",
    "print('the original comm file contains - ' + str(len(comm)) + ' lines of text')\n",
    "print('after filtering for alpha-numeric texts, the file contains - ' + str(len(text_comm)) + ' lines of text')"
   ]
  },
  {
   "cell_type": "markdown",
   "id": "c8b7a0b6",
   "metadata": {},
   "source": [
    "## POS Tagging"
   ]
  },
  {
   "cell_type": "code",
   "execution_count": 1244,
   "id": "89a9527a",
   "metadata": {
    "ExecuteTime": {
     "end_time": "2023-09-09T19:22:14.427099Z",
     "start_time": "2023-09-09T19:22:14.411459Z"
    }
   },
   "outputs": [],
   "source": [
    "def func_pos_tag(arr):\n",
    "    pos_tag = []\n",
    "    for text in arr:\n",
    "        doc = nlp(text)\n",
    "        pos_count = {}\n",
    "        for token in doc:\n",
    "            pos = token.pos_\n",
    "            if pos in pos_count:\n",
    "                pos_count[pos] += 1\n",
    "            else:\n",
    "                pos_count[pos] = 1\n",
    "        pos_tag.append(pos_count)\n",
    "    return pos_tag"
   ]
  },
  {
   "cell_type": "markdown",
   "id": "d3ba1b7e",
   "metadata": {},
   "source": [
    "### Check 2 : Filter unwanted texts such as squad, playing XI etc."
   ]
  },
  {
   "cell_type": "code",
   "execution_count": 1245,
   "id": "f519670c",
   "metadata": {
    "ExecuteTime": {
     "end_time": "2023-09-09T19:22:15.747791Z",
     "start_time": "2023-09-09T19:22:14.749874Z"
    }
   },
   "outputs": [],
   "source": [
    "pos_tag = func_pos_tag(text_comm)\n",
    "\n",
    "text_comm2 = []\n",
    "pos_tag2 = []\n",
    "\n",
    "for i, text in enumerate(text_comm):\n",
    "    pos_count = pos_tag[i]\n",
    "    noun_count = pos_count.get('PROPN', 0)\n",
    "    punctuation_count = pos_count.get('PUNCT', 0)\n",
    "    total_count = sum(pos_count.values())\n",
    "\n",
    "    if (noun_count + punctuation_count) / total_count <= 0.6:\n",
    "        text_comm2.append(text)\n",
    "        #pos_tag2.append(pos_tag[i])\n",
    "#text_comm2"
   ]
  },
  {
   "cell_type": "markdown",
   "id": "c93684fd",
   "metadata": {},
   "source": [
    "### Check 3 : Filter texts based on its length"
   ]
  },
  {
   "cell_type": "code",
   "execution_count": 1246,
   "id": "f6bdda37",
   "metadata": {
    "ExecuteTime": {
     "end_time": "2023-09-09T19:22:15.763450Z",
     "start_time": "2023-09-09T19:22:15.752424Z"
    }
   },
   "outputs": [
    {
     "name": "stdout",
     "output_type": "stream",
     "text": [
      "Average of the top 40 % records: 72.15 no. of words/textline\n",
      "Word counts of textlines 40 % or above the avg: [165, 140, 124, 108, 94, 89, 88, 86, 75, 73, 64, 58, 53]\n",
      "Word count average of the modified file now is : 93.61538461538461  words/textline\n"
     ]
    }
   ],
   "source": [
    "def func_find_threshold(num_words):\n",
    "    # Sort the num_words list in descending order\n",
    "    sorted_num_words = sorted(num_words, reverse=True)\n",
    "    \n",
    "    # Define the sample size as a percentage of the total data points\n",
    "    sample_size_percent = 0.4  # Change this value as needed\n",
    "    \n",
    "    # Calculate the number of textlines to consider based on the sample size percentage\n",
    "    num_records = int(len(sorted_num_words) * sample_size_percent)\n",
    "    \n",
    "    # Calculate the avg_topn as the average of the top n records\n",
    "    #n = int(sample_size_percent * 100)  # Change this value as needed\n",
    "    avg_topn = sum(sorted_num_words[:num_records]) / num_records\n",
    "    \n",
    "    # Create a new list to store data points above the threshold\n",
    "    above_threshold = [num for num in sorted_num_words if num >= avg_topn * 0.7]\n",
    "    \n",
    "    # Calculate the average of the above_threshold list\n",
    "    average_above_threshold = sum(above_threshold) / len(above_threshold)\n",
    "    \n",
    "    print(\"Average of the top\", int(sample_size_percent * 100) , \"% records:\", avg_topn, \"no. of words/textline\")\n",
    "    print(\"Word counts of textlines\", int(sample_size_percent * 100), \"% or above the avg:\", above_threshold)\n",
    "    print(\"Word count average of the modified file now is :\", average_above_threshold, \" words/textline\")\n",
    "    \n",
    "    return min(above_threshold)\n",
    "\n",
    "# Calculate the number of words in each text line\n",
    "num_words = [len(text.split()) for text in text_comm2]\n",
    "threshold = func_find_threshold(num_words)\n",
    "text_comm3 = [element for element in text_comm2 if len(element.split()) >= threshold]\n",
    "#text_comm3"
   ]
  },
  {
   "cell_type": "markdown",
   "id": "0ce7fcb4",
   "metadata": {},
   "source": [
    "## Tokenize paragraph to sentences"
   ]
  },
  {
   "cell_type": "code",
   "execution_count": 1247,
   "id": "9857a5b1",
   "metadata": {
    "ExecuteTime": {
     "end_time": "2023-09-09T19:22:15.783578Z",
     "start_time": "2023-09-09T19:22:15.766358Z"
    }
   },
   "outputs": [],
   "source": [
    "line_comm = []\n",
    "for paragraph in text_comm3:\n",
    "    sentences = nltk.tokenize.sent_tokenize(paragraph)\n",
    "    line_comm.append(sentences)    "
   ]
  },
  {
   "cell_type": "markdown",
   "id": "49ea63f2",
   "metadata": {},
   "source": [
    "## Perform Lemmatization"
   ]
  },
  {
   "cell_type": "code",
   "execution_count": 1248,
   "id": "85a97dcb",
   "metadata": {
    "ExecuteTime": {
     "end_time": "2023-09-09T19:22:16.501735Z",
     "start_time": "2023-09-09T19:22:15.882962Z"
    }
   },
   "outputs": [],
   "source": [
    "# Create a copy of line_comm with stop words removed and lemmatization applied\n",
    "lemmatized_comm = []\n",
    "for sentences in line_comm:\n",
    "    lemmatized_sentences = []\n",
    "    for sentence in sentences:        \n",
    "        doc = nlp(sentence)\n",
    "        lemmatized_tokens = [token.lemma_.lower() for token in doc if not token.is_stop]        \n",
    "        lemmatized_tokens = [word.strip(string.punctuation) for word in lemmatized_tokens if word.strip(string.punctuation)]\n",
    "        lemmatized_sentences.append(\" \".join(lemmatized_tokens)) if lemmatized_tokens else None\n",
    "    lemmatized_comm.append(lemmatized_sentences)\n",
    "#lemmatized_comm"
   ]
  },
  {
   "cell_type": "markdown",
   "id": "d10553c3",
   "metadata": {},
   "source": [
    "## Extracting relevant text - Relevance Scoring"
   ]
  },
  {
   "cell_type": "code",
   "execution_count": 1249,
   "id": "7c59656c",
   "metadata": {
    "ExecuteTime": {
     "end_time": "2023-09-09T19:22:18.317996Z",
     "start_time": "2023-09-09T19:22:16.501735Z"
    }
   },
   "outputs": [
    {
     "name": "stdout",
     "output_type": "stream",
     "text": [
      "Total Scores:\n",
      "[13, 0, 53.0, 94, 27, 29, 0, 10, 11, 4, 2, 0, 0]\n",
      "\n",
      "Matched Words:\n",
      "[[{'venue'}, {'spin'}], [], [{'wicket'}, {'wear'}, {'chase'}, {'ground'}, {'boundary'}, {'score'}], [{'pitch'}, {'boundary'}, {'boundary'}, {'metre'}, {'boundary'}, {'metre'}, {'metre'}, {'ground'}, {'wicket'}, {'swing'}, {'spin'}, {'win'}, {'wicket'}], [{'pitch'}, {'chase'}, {'pitch'}], [{'chase'}, {'win'}, {'green'}, {'wicket'}], [], [{'live'}, {'live'}], [{'chase'}, {'win'}], [{'win'}], [{'slow'}], [], []]\n",
      "\n",
      "Average Scores:\n",
      "[0.351, 0.0, 1.656, 2.474, 0.964, 0.33, 0.0, 0.217, 0.324, 0.114, 0.039, 0.0, 0.0]\n",
      "\n",
      "2D Scores:\n",
      "[[0, 7, 0, 0, 6], [0, 0, 0, 0], [0, 14, 39.0, 0, 0, 0, 0], [18, 43, 0, 8, 17, 8], [0, 17, 0, 0, 10], [7, 4, 0, 10, 8, 0, 0, 0], [0, 0, 0, 0], [0, 0, 0, 0, 0, 0, 0, 5, 0, 5], [7, 4, 0, 0], [0, 0, 4, 0, 0], [0, 0, 0, 0, 0, 2], [0, 0, 0, 0], [0, 0, 0]]\n",
      "\n"
     ]
    }
   ],
   "source": [
    "def calculate_score(text):\n",
    "    words = text.split()  # Split the text into individual words\n",
    "    matched_words = []  # Initialize a list to store matched words or combinations\n",
    "    scores = []  # Initialize a list to store scores for matched words or combinations\n",
    "    \n",
    "    # Calculate scores and track matched words for unigrams\n",
    "    for i in range(len(words)):\n",
    "        unigram = set([words[i]])\n",
    "\n",
    "        for index,row in df_RS[(df_RS['Usage'] == 'AddScore') & (df_RS['Sequence'] == 'Unigram')].iterrows():\n",
    "            if unigram == set(row['Word'].split()):\n",
    "                score = row['Score']\n",
    "                scores.append(score)\n",
    "                matched_words.append(unigram)\n",
    "                \n",
    "    # Calculate scores and track matched words for bigrams\n",
    "    for i in range(len(words) - 1):\n",
    "        bigram = set([words[i], words[i+1]])\n",
    "\n",
    "        for index,row in df_RS[(df_RS['Usage'] == 'AddScore') & (df_RS['Sequence'] == 'Bigram')].iterrows():\n",
    "            if bigram == set(row['Word'].split()):\n",
    "                score = row['Score'] * 1.5\n",
    "                scores.append(score)\n",
    "\n",
    "    # Calculate scores and track matched words for trigrams\n",
    "    for i in range(len(words) - 2):\n",
    "        bigram = set([words[i], words[i+1], words[i+2]])\n",
    "\n",
    "        for index,row in df_RS[(df_RS['Usage'] == 'AddScore') & (df_RS['Sequence'] == 'Trigram')].iterrows():\n",
    "            if bigram == set(row['Word'].split()):\n",
    "                score = row['Score'] * 2\n",
    "                scores.append(score)\n",
    "                \n",
    "    return sum(scores), matched_words\n",
    "\n",
    "# Calculate the total score, matched words, and average score for each element in lemmatized_comm\n",
    "score_list = []\n",
    "matched_words_list = []\n",
    "avg_score_list = []\n",
    "score_list_2d = []  # Initialize a list to store 2D scores for each line\n",
    "\n",
    "for para in lemmatized_comm:\n",
    "    para_score = 0\n",
    "    para_matched_words = []\n",
    "    para_word_count = 0\n",
    "    para_score_list = []\n",
    "\n",
    "    for line in para:\n",
    "        score, matched_words = calculate_score(line)\n",
    "        para_score += score\n",
    "        para_word_count += len(line.split())\n",
    "        para_matched_words.extend(matched_words)\n",
    "        para_score_list.append(score)\n",
    "\n",
    "    score_list.append(para_score)\n",
    "    matched_words_list.append(para_matched_words)\n",
    "    avg_score_list.append(round((para_score / para_word_count), 3))\n",
    "    score_list_2d.append(para_score_list)\n",
    "\n",
    "print(\"Total Scores:\", score_list, sep = '\\n', end = '\\n\\n')\n",
    "print(\"Matched Words:\", matched_words_list, sep = '\\n', end = '\\n\\n')\n",
    "print(\"Average Scores:\", avg_score_list, sep = '\\n', end = '\\n\\n')\n",
    "print(\"2D Scores:\", score_list_2d, sep = '\\n', end = '\\n\\n')"
   ]
  },
  {
   "cell_type": "code",
   "execution_count": 1250,
   "id": "18c6c13a",
   "metadata": {
    "ExecuteTime": {
     "end_time": "2023-09-09T19:22:18.333318Z",
     "start_time": "2023-09-09T19:22:18.323605Z"
    }
   },
   "outputs": [
    {
     "name": "stdout",
     "output_type": "stream",
     "text": [
      "Cutoff -  0.8659\n"
     ]
    },
    {
     "data": {
      "text/plain": [
       "['Typical Chennai wicket,',\n",
       " 'looks good at the moment,',\n",
       " \"don't know how much wear and tear will happen.\",\n",
       " 'Back in Mumbai we want to chase,',\n",
       " 'this ground here with a longer boundary,',\n",
       " \"it's better to put up a score.\",\n",
       " \"It's a different pitch than yesterday,\",\n",
       " 'the boundaries are contrasting.',\n",
       " 'The off-side boundary is 61 metres,',\n",
       " 'while the leg-side boundary is 70 metres and 77 metres down the ground.',\n",
       " 'The wicket looks abrasive,',\n",
       " 'a lots in it for the spinners.',\n",
       " 'There will be a bit of swing with the new ball,',\n",
       " 'but apart from that,',\n",
       " \"it's going to be spin to win.\",\n",
       " 'Batting first is a good option on this wicket,',\n",
       " 'reckons',\n",
       " \"Tonight's pitch is the one where the CSK-MI game happened where CSK chased just 139.\",\n",
       " 'That was played on a pitch where the previous game was a 200-v-200 clash,\" quips our correspondent']"
      ]
     },
     "execution_count": 1250,
     "metadata": {},
     "output_type": "execute_result"
    }
   ],
   "source": [
    "line_comm2 = []\n",
    "max_avg = max(avg_score_list)\n",
    "print(\"Cutoff - \", max_avg * 0.35)\n",
    "for i in range(len(avg_score_list)):\n",
    "    if avg_score_list[i] >= 0.35 * max_avg:\n",
    "        for j in range(len(score_list_2d[i])):\n",
    "            if score_list_2d[i][j] != 0:\n",
    "                sentences = re.split(r'(?<=[.,!?])\\s', line_comm[i][j])\n",
    "                line_comm2.extend(sentences)\n",
    "                #line_comm2.append(line_comm[i][j])\n",
    "# for i in line_comm2:\n",
    "#     print(i)\n",
    "line_comm2"
   ]
  },
  {
   "cell_type": "markdown",
   "id": "51c59269",
   "metadata": {},
   "source": [
    "# Key-Word Scoring"
   ]
  },
  {
   "cell_type": "markdown",
   "id": "b7dd46b1",
   "metadata": {},
   "source": [
    "### 1. Lemmatized data with negative and comparatives"
   ]
  },
  {
   "cell_type": "code",
   "execution_count": 1251,
   "id": "ff074935",
   "metadata": {
    "ExecuteTime": {
     "end_time": "2023-09-09T19:22:18.495980Z",
     "start_time": "2023-09-09T19:22:18.336303Z"
    }
   },
   "outputs": [
    {
     "data": {
      "text/plain": [
       "['typical chennai wicket',\n",
       " 'look good moment',\n",
       " 'not know much wear tear happen',\n",
       " 'mumbai want chase',\n",
       " 'ground long boundary',\n",
       " 'well score',\n",
       " 'different pitch yesterday',\n",
       " 'boundary contrast',\n",
       " 'boundary 61 metre',\n",
       " 'leg boundary 70 metre 77 metre ground',\n",
       " 'wicket look abrasive',\n",
       " 'lot spinner',\n",
       " 'bit swing new ball',\n",
       " 'apart',\n",
       " 'go spin win',\n",
       " 'batting good option wicket',\n",
       " 'reckon',\n",
       " 'tonight pitch csk mi game happen csk chase 139',\n",
       " 'play pitch previous game 200 v-200 clash quip correspondent']"
      ]
     },
     "execution_count": 1251,
     "metadata": {},
     "output_type": "execute_result"
    }
   ],
   "source": [
    "lemmatized_comm2 = []\n",
    "comp_list = list(df_Comp['Word'])\n",
    "neg_list = list(df_Neg['Word'])\n",
    "for sentence in line_comm2:\n",
    "# for sentence in [\"There is not a lot of dew in this surface to be expected in today's game.\",\n",
    "#                  \"Grass is nowhere to be seen. Pitch is flat, Huge total to be expected here today\",\n",
    "#                 \"This is a high scoring venue\"]:\n",
    "    doc = nlp(sentence)\n",
    "    lemmatized_tokens = [token.lemma_.lower() for token in doc if not token.is_stop \n",
    "                         or token.lemma_.lower() in neg_list \n",
    "                         or token.lemma_.lower() in comp_list]\n",
    "\n",
    "    lemmatized_tokens = [word.strip(string.punctuation) for word in lemmatized_tokens if word.strip(string.punctuation)]\n",
    "    lemmatized_comm2.append(\" \".join(lemmatized_tokens)) if lemmatized_tokens else None\n",
    "lemmatized_comm2"
   ]
  },
  {
   "cell_type": "code",
   "execution_count": 1252,
   "id": "b3b368b9",
   "metadata": {
    "ExecuteTime": {
     "end_time": "2023-09-09T19:22:18.511611Z",
     "start_time": "2023-09-09T19:22:18.499590Z"
    }
   },
   "outputs": [],
   "source": [
    "KS_word_list = list(df_KS['Word'].unique())\n",
    "KS_helper_list = list(df_KS['Helper'].unique())\n",
    "comp_list = list(df_Comp['Word'].unique())\n",
    "neg_list = list(df_Neg['Word'].unique())\n",
    "col_list = ['keyword','score','bat','pace','spin','negative_flag']\n",
    "dtype_dict = {'keyword': 'object', \n",
    "          'score': 'float64', \n",
    "          'bat': 'float64', \n",
    "          'pace': 'float64', \n",
    "          'spin':'float64', \n",
    "          'negative_flag': 'bool'}\n",
    "df_KWScore = pd.DataFrame(columns = col_list).astype(dtype_dict)"
   ]
  },
  {
   "cell_type": "code",
   "execution_count": 1253,
   "id": "708b5882",
   "metadata": {
    "ExecuteTime": {
     "end_time": "2023-09-09T19:22:18.558740Z",
     "start_time": "2023-09-09T19:22:18.513607Z"
    }
   },
   "outputs": [
    {
     "data": {
      "text/plain": [
       "[['wicket', ['wicket']],\n",
       " ['wear', ['much', 'wear']],\n",
       " ['ground', ['ground', 'long']],\n",
       " ['boundary', ['long', 'boundary']],\n",
       " ['score', ['score']],\n",
       " ['pitch', ['pitch']],\n",
       " ['boundary', ['boundary']],\n",
       " ['boundary', ['boundary']],\n",
       " ['boundary', ['boundary']],\n",
       " ['ground', ['ground']],\n",
       " ['wicket', ['wicket']],\n",
       " ['spinner', ['lot', 'spinner']],\n",
       " ['swing', ['bit', 'swing']],\n",
       " ['spin', ['spin']],\n",
       " ['wicket', ['wicket']],\n",
       " ['pitch', ['pitch']],\n",
       " ['pitch', ['pitch']]]"
      ]
     },
     "execution_count": 1253,
     "metadata": {},
     "output_type": "execute_result"
    }
   ],
   "source": [
    "keyword_chunks = []\n",
    "for line in lemmatized_comm2:\n",
    "    #print(\"the line is - \", line)\n",
    "    \n",
    "    line_words = line.split()\n",
    "    for i, word in enumerate(line_words):\n",
    "        if (word in KS_word_list):\n",
    "            keyword = [word]\n",
    "            comp_ind_list = []\n",
    "            neg_ind_list = []\n",
    "            helper_found = False\n",
    "            left_index, right_index = i,i\n",
    "            left_index_found, right_index_found = False, False\n",
    "            neg_in_keyword = False\n",
    "            \n",
    "            j = i-1            \n",
    "            while (j>=0 and not left_index_found):                \n",
    "                if ((df_KS['Word'] == word) & (df_KS['Helper'] == line_words[j])).any() and not helper_found:\n",
    "                    helper_found = True\n",
    "                    left_index -= 1\n",
    "                elif (line_words[j] in comp_list):\n",
    "                    left_index -= 1\n",
    "                elif (line_words[j] in neg_list):\n",
    "                    left_index -= 1\n",
    "                    neg_in_keyword = not neg_in_keyword\n",
    "                else:\n",
    "                    left_index_found = True\n",
    "                j -= 1\n",
    "\n",
    "            j = i+1\n",
    "            while (j < len(line_words) and not right_index_found):\n",
    "                if (((df_KS['Word'] == word) & (df_KS['Helper'] == line_words[j])).any() and not helper_found):\n",
    "                    helper_found = True\n",
    "                    right_index += 1\n",
    "                elif (line_words[j] in comp_list):\n",
    "                    right_index += 1\n",
    "                elif (line_words[j] in neg_list):\n",
    "                    right_index += 1\n",
    "                    neg_in_keyword = not neg_in_keyword\n",
    "                else:\n",
    "                    right_index_found = True \n",
    "                j += 1\n",
    "            keyword_chunks.append([word, line_words[left_index:right_index+1]])\n",
    "keyword_chunks"
   ]
  },
  {
   "cell_type": "code",
   "execution_count": 1254,
   "id": "961e2030",
   "metadata": {
    "ExecuteTime": {
     "end_time": "2023-09-09T19:22:18.573368Z",
     "start_time": "2023-09-09T19:22:18.562494Z"
    }
   },
   "outputs": [],
   "source": [
    "def calculate_category_score(score, index):\n",
    "    # Get the row at the specified index\n",
    "    row = df_KS.iloc[index]\n",
    "    nan = float('nan')\n",
    "    # Initialize scores for each category as blank by default\n",
    "    scores = {'Bat': nan, 'Pace': nan, 'Spin': nan}\n",
    "\n",
    "    # Define column weights\n",
    "    weights = {'TypeBenifit1': 1, 'TypeBenifit2': 0.7, 'TypeDeficit1': -1, 'TypeDeficit2': -0.7}\n",
    "\n",
    "    # Iterate over column names and their corresponding weights\n",
    "    for col_name, weight in weights.items():\n",
    "        if not pd.isna(row[col_name]):\n",
    "            categories = row[col_name].split(',')\n",
    "            for category in categories:\n",
    "                category = category.strip()  # Remove leading/trailing spaces\n",
    "                if category in scores:\n",
    "                    scores[category] = weight * score\n",
    "\n",
    "    return scores['Bat'], scores['Pace'], scores['Spin']"
   ]
  },
  {
   "cell_type": "code",
   "execution_count": 1255,
   "id": "ab65cf43",
   "metadata": {
    "ExecuteTime": {
     "end_time": "2023-09-09T19:22:18.604881Z",
     "start_time": "2023-09-09T19:22:18.575937Z"
    }
   },
   "outputs": [],
   "source": [
    "def calculate_keyword_score(keyword = None, arr = []):\n",
    "    \n",
    "\n",
    "    chunk = arr\n",
    "    #Step 1 : find index of keyword & helper\n",
    "    helper = -1\n",
    "    \n",
    "    #print(keyword, chunk)\n",
    "    \n",
    "    for word in chunk:\n",
    "        if keyword == word:\n",
    "            continue\n",
    "        if (word in KS_helper_list) & (df_KS[((df_KS['Word'] == keyword) & (df_KS['Helper'] == word))]['Score'].any()):\n",
    "            KW_Score = float(df_KS[((df_KS['Word'] == keyword) & (df_KS['Helper'] == word))]['Score'])\n",
    "            KS_ind = df_KS.index[(df_KS['Word'] == keyword) & (df_KS['Helper'] == word)].tolist()\n",
    "            helper = word\n",
    "            #chunk.remove(word)\n",
    "    if helper == -1:\n",
    "        KW_Score = float(df_KS[((df_KS['Word'] == keyword) & (df_KS['Helper'] == -1))]['Score'])\n",
    "        KS_ind = df_KS.index[(df_KS['Word'] == keyword) & (df_KS['Helper'] == -1)].tolist()\n",
    "        \n",
    "        \n",
    "    #Step 2 : find all comparatives\n",
    "    Comp_Score = 0.0\n",
    "    Comp_Score_Mul = 1.0\n",
    "    for word in chunk:\n",
    "        if (keyword == word) or (helper == word):\n",
    "            continue            \n",
    "        if word in comp_list:\n",
    "            if ((df_Comp['Word'] == word) & (df_Comp['Type'] == 'Add')).any(): # Adding Comp Score\n",
    "                Comp_Score = float(df_Comp[df_Comp['Word'] == word]['Score'])\n",
    "                #chunk.remove(word)\n",
    "                \n",
    "            if ((df_Comp['Word'] == word) & (df_Comp['Type'] == 'Mul')).any(): # Multiplying Comp Score\n",
    "                Comp_Score_Mul *= float(df_Comp[df_Comp['Word'] == word]['Score'])\n",
    "                #chunk.remove(word)\n",
    "                \n",
    "    #Step 3 : find all negatives\n",
    "    neg_state = False\n",
    "    for word in chunk:\n",
    "        if (keyword == word) or (helper == word):\n",
    "            continue\n",
    "        if word in neg_list:\n",
    "            neg_state = not neg_state\n",
    "            \n",
    "    #Step 4 : Find total score\n",
    "    Total_Score = 0 if neg_state else (KW_Score + Comp_Score) * Comp_Score_Mul\n",
    "    bat_score, pace_score, spin_score = calculate_category_score(Total_Score, KS_ind[0])\n",
    "    diff_score = [bat_score, pace_score, spin_score]\n",
    "    \n",
    "    return Total_Score, diff_score"
   ]
  },
  {
   "cell_type": "code",
   "execution_count": 1256,
   "id": "bddb57de",
   "metadata": {
    "ExecuteTime": {
     "end_time": "2023-09-09T19:22:18.812436Z",
     "start_time": "2023-09-09T19:22:18.673939Z"
    }
   },
   "outputs": [
    {
     "name": "stdout",
     "output_type": "stream",
     "text": [
      "[-2.96, nan, 7.38]\n",
      "[-2.96, 0.83, 7.38]\n"
     ]
    },
    {
     "data": {
      "text/html": [
       "<div>\n",
       "<style scoped>\n",
       "    .dataframe tbody tr th:only-of-type {\n",
       "        vertical-align: middle;\n",
       "    }\n",
       "\n",
       "    .dataframe tbody tr th {\n",
       "        vertical-align: top;\n",
       "    }\n",
       "\n",
       "    .dataframe thead th {\n",
       "        text-align: right;\n",
       "    }\n",
       "</style>\n",
       "<table border=\"1\" class=\"dataframe\">\n",
       "  <thead>\n",
       "    <tr style=\"text-align: right;\">\n",
       "      <th></th>\n",
       "      <th>Keyword</th>\n",
       "      <th>Score</th>\n",
       "      <th>Bat</th>\n",
       "      <th>Pace</th>\n",
       "      <th>Spin</th>\n",
       "    </tr>\n",
       "  </thead>\n",
       "  <tbody>\n",
       "    <tr>\n",
       "      <th>0</th>\n",
       "      <td>much wear</td>\n",
       "      <td>4.5</td>\n",
       "      <td>-3.15</td>\n",
       "      <td>NaN</td>\n",
       "      <td>3.15</td>\n",
       "    </tr>\n",
       "    <tr>\n",
       "      <th>1</th>\n",
       "      <td>ground long</td>\n",
       "      <td>5.0</td>\n",
       "      <td>-3.50</td>\n",
       "      <td>NaN</td>\n",
       "      <td>5.00</td>\n",
       "    </tr>\n",
       "    <tr>\n",
       "      <th>2</th>\n",
       "      <td>long boundary</td>\n",
       "      <td>5.0</td>\n",
       "      <td>-3.50</td>\n",
       "      <td>NaN</td>\n",
       "      <td>5.00</td>\n",
       "    </tr>\n",
       "    <tr>\n",
       "      <th>5</th>\n",
       "      <td>boundary</td>\n",
       "      <td>2.5</td>\n",
       "      <td>2.50</td>\n",
       "      <td>NaN</td>\n",
       "      <td>NaN</td>\n",
       "    </tr>\n",
       "    <tr>\n",
       "      <th>6</th>\n",
       "      <td>lot spinner</td>\n",
       "      <td>6.5</td>\n",
       "      <td>NaN</td>\n",
       "      <td>NaN</td>\n",
       "      <td>6.50</td>\n",
       "    </tr>\n",
       "    <tr>\n",
       "      <th>7</th>\n",
       "      <td>bit swing</td>\n",
       "      <td>0.5</td>\n",
       "      <td>-0.50</td>\n",
       "      <td>0.5</td>\n",
       "      <td>NaN</td>\n",
       "    </tr>\n",
       "    <tr>\n",
       "      <th>8</th>\n",
       "      <td>spin</td>\n",
       "      <td>2.5</td>\n",
       "      <td>-2.50</td>\n",
       "      <td>NaN</td>\n",
       "      <td>2.50</td>\n",
       "    </tr>\n",
       "  </tbody>\n",
       "</table>\n",
       "</div>"
      ],
      "text/plain": [
       "         Keyword  Score   Bat  Pace  Spin\n",
       "0      much wear    4.5 -3.15   NaN  3.15\n",
       "1    ground long    5.0 -3.50   NaN  5.00\n",
       "2  long boundary    5.0 -3.50   NaN  5.00\n",
       "5       boundary    2.5  2.50   NaN   NaN\n",
       "6    lot spinner    6.5   NaN   NaN  6.50\n",
       "7      bit swing    0.5 -0.50   0.5   NaN\n",
       "8           spin    2.5 -2.50   NaN  2.50"
      ]
     },
     "execution_count": 1256,
     "metadata": {},
     "output_type": "execute_result"
    }
   ],
   "source": [
    "df_Score = pd.DataFrame({'Keyword': [], 'Score': [], 'Bat': [], 'Pace': [], 'Spin': []})\n",
    "\n",
    "def custom_sort_key(row):\n",
    "    return (\n",
    "        abs(row['Score']),\n",
    "        abs(row['Bat']),\n",
    "        abs(row['Pace']),\n",
    "        abs(row['Spin'])\n",
    "    )\n",
    "\n",
    "for obj in keyword_chunks:\n",
    "    keyword = ' '.join(obj[1])\n",
    "    #print(obj[0],obj[1])\n",
    "    score, diff_score = calculate_keyword_score(obj[0], obj[1])\n",
    "    #print(x, '|', score, '|', diff_score)\n",
    "    if score != 0.0:\n",
    "        df_Score.loc[len(df_Score)] = [keyword, score, diff_score[0], diff_score[1], diff_score[2]]   \n",
    "        \n",
    "\n",
    "df_Score['Rank'] = df_Score.groupby('Keyword', group_keys=False).apply(\n",
    "    lambda x: x.apply(custom_sort_key, axis=1).rank(method='dense', ascending=False))\n",
    "df_Score.drop(df_Score[df_Score['Rank'] != 1].index, inplace=True)\n",
    "df_Score.drop(columns=['Rank'], inplace=True)\n",
    "\n",
    "Score_count = [df_Score['Bat'].count(),\n",
    "               df_Score['Pace'].count(),\n",
    "               df_Score['Spin'].count()]\n",
    "Score_mean = [df_Score['Bat'].mean(),\n",
    "              df_Score['Pace'].mean(),\n",
    "              df_Score['Spin'].mean(),]\n",
    "\n",
    "#------------------Type - 1 --------------------\n",
    "# Score_rating = [\n",
    "#     float(\"{:.2f}\".format(float(Score_mean[0] * 5 / Score_count[0]))) if Score_count[0] > 3 else nan,\n",
    "#     float(\"{:.2f}\".format(float(Score_mean[1] * 5 / Score_count[1]))) if Score_count[1] > 3 else nan,\n",
    "#     float(\"{:.2f}\".format(float(Score_mean[2] * 5 / Score_count[2]))) if Score_count[2] > 3 else nan]\n",
    "\n",
    "# Actual_Score_rating = [float(\"{:.2f}\".format(float(Score_mean[0] * 5 / Score_count[0]))),\n",
    "#                        float(\"{:.2f}\".format(float(Score_mean[1] * 5 / Score_count[1]))),\n",
    "#                        float(\"{:.2f}\".format(float(Score_mean[2] * 5 / Score_count[2])))]\n",
    "#----------------------------------------------\n",
    "\n",
    "Score_rating = [\n",
    "    float(\"{:.2f}\".format(float(Score_mean[0] * 5 / 3 ))) if Score_count[0] > 3 else nan,\n",
    "    float(\"{:.2f}\".format(float(Score_mean[1] * 5 / 3 ))) if Score_count[1] > 3 else nan,\n",
    "    float(\"{:.2f}\".format(float(Score_mean[2] * 5 / 3 ))) if Score_count[2] > 3 else nan,\n",
    "]\n",
    "\n",
    "Actual_Score_rating = [float(\"{:.2f}\".format(float(Score_mean[0] * 5 / 3 ))),\n",
    "                       float(\"{:.2f}\".format(float(Score_mean[1] * 5 / 3 ))),\n",
    "                       float(\"{:.2f}\".format(float(Score_mean[2] * 5 / 3 ))),]\n",
    "\n",
    "print(Score_rating, sep = '\\n')\n",
    "print(Actual_Score_rating, sep = '\\n')\n",
    "df_Score.head(100)"
   ]
  },
  {
   "cell_type": "code",
   "execution_count": 1257,
   "id": "16cad091",
   "metadata": {
    "ExecuteTime": {
     "end_time": "2023-09-09T19:22:18.888653Z",
     "start_time": "2023-09-09T19:22:18.869575Z"
    }
   },
   "outputs": [
    {
     "name": "stdout",
     "output_type": "stream",
     "text": [
      "['Slightly disadvantageous', 'Insufficient Data', 'Paradise']\n"
     ]
    }
   ],
   "source": [
    "descriptions = []\n",
    "ranges = [\n",
    "    (-np.inf, -6, \"Nightmare\"),\n",
    "    (-6, -4, \"Challenging\"),\n",
    "    (-4, -2, \"Slightly disadvantageous\"),\n",
    "    (-2, 2, \"Balanced\"),\n",
    "    (2, 4, \"Slightly favourable\"),\n",
    "    (4, 6, \"Highly favourable\"),\n",
    "    (6, np.inf, \"Paradise\")]\n",
    "\n",
    "for score in Score_rating:\n",
    "    description = \"Unknown\"\n",
    "    for lower, upper, desc in ranges:\n",
    "        if lower <= score <= upper:\n",
    "            description = desc\n",
    "            break\n",
    "    descriptions.append(\"Insufficient Data\") if np.isnan(score) else descriptions.append(description)\n",
    "print(descriptions)"
   ]
  },
  {
   "cell_type": "code",
   "execution_count": 1258,
   "id": "5e203a95",
   "metadata": {
    "ExecuteTime": {
     "end_time": "2023-09-09T19:22:19.079248Z",
     "start_time": "2023-09-09T19:22:19.046176Z"
    }
   },
   "outputs": [
    {
     "data": {
      "text/html": [
       "<div>\n",
       "<style scoped>\n",
       "    .dataframe tbody tr th:only-of-type {\n",
       "        vertical-align: middle;\n",
       "    }\n",
       "\n",
       "    .dataframe tbody tr th {\n",
       "        vertical-align: top;\n",
       "    }\n",
       "\n",
       "    .dataframe thead th {\n",
       "        text-align: right;\n",
       "    }\n",
       "</style>\n",
       "<table border=\"1\" class=\"dataframe\">\n",
       "  <thead>\n",
       "    <tr style=\"text-align: right;\">\n",
       "      <th></th>\n",
       "      <th>Score</th>\n",
       "      <th>Bat</th>\n",
       "      <th>Pace</th>\n",
       "      <th>Spin</th>\n",
       "    </tr>\n",
       "  </thead>\n",
       "  <tbody>\n",
       "    <tr>\n",
       "      <th>count</th>\n",
       "      <td>7.000000</td>\n",
       "      <td>6.000000</td>\n",
       "      <td>1.0</td>\n",
       "      <td>5.000000</td>\n",
       "    </tr>\n",
       "    <tr>\n",
       "      <th>mean</th>\n",
       "      <td>3.785714</td>\n",
       "      <td>-1.775000</td>\n",
       "      <td>0.5</td>\n",
       "      <td>4.430000</td>\n",
       "    </tr>\n",
       "    <tr>\n",
       "      <th>std</th>\n",
       "      <td>2.038323</td>\n",
       "      <td>2.377762</td>\n",
       "      <td>NaN</td>\n",
       "      <td>1.604525</td>\n",
       "    </tr>\n",
       "    <tr>\n",
       "      <th>min</th>\n",
       "      <td>0.500000</td>\n",
       "      <td>-3.500000</td>\n",
       "      <td>0.5</td>\n",
       "      <td>2.500000</td>\n",
       "    </tr>\n",
       "    <tr>\n",
       "      <th>25%</th>\n",
       "      <td>2.500000</td>\n",
       "      <td>-3.412500</td>\n",
       "      <td>0.5</td>\n",
       "      <td>3.150000</td>\n",
       "    </tr>\n",
       "    <tr>\n",
       "      <th>50%</th>\n",
       "      <td>4.500000</td>\n",
       "      <td>-2.825000</td>\n",
       "      <td>0.5</td>\n",
       "      <td>5.000000</td>\n",
       "    </tr>\n",
       "    <tr>\n",
       "      <th>75%</th>\n",
       "      <td>5.000000</td>\n",
       "      <td>-1.000000</td>\n",
       "      <td>0.5</td>\n",
       "      <td>5.000000</td>\n",
       "    </tr>\n",
       "    <tr>\n",
       "      <th>max</th>\n",
       "      <td>6.500000</td>\n",
       "      <td>2.500000</td>\n",
       "      <td>0.5</td>\n",
       "      <td>6.500000</td>\n",
       "    </tr>\n",
       "  </tbody>\n",
       "</table>\n",
       "</div>"
      ],
      "text/plain": [
       "          Score       Bat  Pace      Spin\n",
       "count  7.000000  6.000000   1.0  5.000000\n",
       "mean   3.785714 -1.775000   0.5  4.430000\n",
       "std    2.038323  2.377762   NaN  1.604525\n",
       "min    0.500000 -3.500000   0.5  2.500000\n",
       "25%    2.500000 -3.412500   0.5  3.150000\n",
       "50%    4.500000 -2.825000   0.5  5.000000\n",
       "75%    5.000000 -1.000000   0.5  5.000000\n",
       "max    6.500000  2.500000   0.5  6.500000"
      ]
     },
     "execution_count": 1258,
     "metadata": {},
     "output_type": "execute_result"
    }
   ],
   "source": [
    "df_Score.describe()"
   ]
  },
  {
   "cell_type": "code",
   "execution_count": null,
   "id": "29123847",
   "metadata": {},
   "outputs": [],
   "source": []
  },
  {
   "cell_type": "code",
   "execution_count": null,
   "id": "4bc7430c",
   "metadata": {},
   "outputs": [],
   "source": []
  },
  {
   "cell_type": "code",
   "execution_count": null,
   "id": "fdaf89a5",
   "metadata": {},
   "outputs": [],
   "source": []
  },
  {
   "cell_type": "code",
   "execution_count": null,
   "id": "70f07251",
   "metadata": {},
   "outputs": [],
   "source": []
  },
  {
   "cell_type": "code",
   "execution_count": null,
   "id": "1b1bfb45",
   "metadata": {},
   "outputs": [],
   "source": []
  },
  {
   "cell_type": "code",
   "execution_count": null,
   "id": "05dee633",
   "metadata": {},
   "outputs": [],
   "source": []
  },
  {
   "cell_type": "code",
   "execution_count": null,
   "id": "d8cee46a",
   "metadata": {},
   "outputs": [],
   "source": []
  },
  {
   "cell_type": "code",
   "execution_count": null,
   "id": "8d3e26d0",
   "metadata": {},
   "outputs": [],
   "source": []
  },
  {
   "cell_type": "code",
   "execution_count": null,
   "id": "2b801c0f",
   "metadata": {},
   "outputs": [],
   "source": []
  },
  {
   "cell_type": "code",
   "execution_count": null,
   "id": "a1db645a",
   "metadata": {},
   "outputs": [],
   "source": []
  },
  {
   "cell_type": "code",
   "execution_count": null,
   "id": "57dc7a0c",
   "metadata": {},
   "outputs": [],
   "source": []
  },
  {
   "cell_type": "code",
   "execution_count": null,
   "id": "c9644fac",
   "metadata": {},
   "outputs": [],
   "source": []
  },
  {
   "cell_type": "code",
   "execution_count": null,
   "id": "86eaa0b5",
   "metadata": {},
   "outputs": [],
   "source": []
  },
  {
   "cell_type": "code",
   "execution_count": null,
   "id": "75b9c25c",
   "metadata": {},
   "outputs": [],
   "source": []
  },
  {
   "cell_type": "code",
   "execution_count": null,
   "id": "1ee64114",
   "metadata": {},
   "outputs": [],
   "source": []
  },
  {
   "cell_type": "code",
   "execution_count": null,
   "id": "6b0dd2da",
   "metadata": {},
   "outputs": [],
   "source": []
  },
  {
   "cell_type": "code",
   "execution_count": null,
   "id": "a0c58ff2",
   "metadata": {},
   "outputs": [],
   "source": []
  },
  {
   "cell_type": "code",
   "execution_count": null,
   "id": "0eee6d0e",
   "metadata": {},
   "outputs": [],
   "source": []
  },
  {
   "cell_type": "code",
   "execution_count": null,
   "id": "6aef1861",
   "metadata": {},
   "outputs": [],
   "source": []
  },
  {
   "cell_type": "code",
   "execution_count": null,
   "id": "f781e612",
   "metadata": {},
   "outputs": [],
   "source": []
  },
  {
   "cell_type": "code",
   "execution_count": null,
   "id": "5ec7bf83",
   "metadata": {},
   "outputs": [],
   "source": []
  },
  {
   "cell_type": "code",
   "execution_count": null,
   "id": "3467def8",
   "metadata": {},
   "outputs": [],
   "source": []
  },
  {
   "cell_type": "code",
   "execution_count": null,
   "id": "61dfd416",
   "metadata": {},
   "outputs": [],
   "source": []
  },
  {
   "cell_type": "code",
   "execution_count": null,
   "id": "972046d0",
   "metadata": {},
   "outputs": [],
   "source": []
  },
  {
   "cell_type": "code",
   "execution_count": null,
   "id": "c5f49fbc",
   "metadata": {},
   "outputs": [],
   "source": []
  },
  {
   "cell_type": "code",
   "execution_count": null,
   "id": "388d73c4",
   "metadata": {},
   "outputs": [],
   "source": []
  },
  {
   "cell_type": "code",
   "execution_count": null,
   "id": "31c498c5",
   "metadata": {},
   "outputs": [],
   "source": []
  },
  {
   "cell_type": "code",
   "execution_count": null,
   "id": "d48ab628",
   "metadata": {},
   "outputs": [],
   "source": []
  },
  {
   "cell_type": "code",
   "execution_count": null,
   "id": "c86e0bf0",
   "metadata": {},
   "outputs": [],
   "source": []
  },
  {
   "cell_type": "code",
   "execution_count": null,
   "id": "a894c8f5",
   "metadata": {},
   "outputs": [],
   "source": []
  },
  {
   "cell_type": "code",
   "execution_count": null,
   "id": "c3998237",
   "metadata": {},
   "outputs": [],
   "source": []
  },
  {
   "cell_type": "code",
   "execution_count": null,
   "id": "81084ca6",
   "metadata": {},
   "outputs": [],
   "source": []
  },
  {
   "cell_type": "code",
   "execution_count": null,
   "id": "0dd1e31b",
   "metadata": {},
   "outputs": [],
   "source": []
  },
  {
   "cell_type": "code",
   "execution_count": null,
   "id": "daa1b2cb",
   "metadata": {},
   "outputs": [],
   "source": []
  },
  {
   "cell_type": "code",
   "execution_count": null,
   "id": "0292fbcb",
   "metadata": {},
   "outputs": [],
   "source": []
  },
  {
   "cell_type": "code",
   "execution_count": null,
   "id": "b29bf323",
   "metadata": {},
   "outputs": [],
   "source": []
  },
  {
   "cell_type": "code",
   "execution_count": null,
   "id": "78fe715e",
   "metadata": {},
   "outputs": [],
   "source": []
  },
  {
   "cell_type": "code",
   "execution_count": null,
   "id": "838b8ae2",
   "metadata": {},
   "outputs": [],
   "source": [
    "ranges = [\n",
    "    (-np.inf, -3.75, \"Nightmare\"),\n",
    "    (-3.75, -2.5, \"Challenging\"),\n",
    "    (-2.5, -1.25, \"Slightly disadvantageous\"),\n",
    "    (-1.25, 1.25, \"Balanced\"),\n",
    "    (1.25, 2.5, \"Slightly favourable\"),\n",
    "    (2.5, 3.75, \"Highly favourable\"),\n",
    "    (3.75, np.inf, \"Paradise\"),\n",
    "    (np.nan, np.nan, \"Insufficient data\")]"
   ]
  },
  {
   "cell_type": "code",
   "execution_count": 147,
   "id": "a678e4cc",
   "metadata": {
    "ExecuteTime": {
     "end_time": "2023-08-06T20:40:03.432150Z",
     "start_time": "2023-08-06T20:40:03.279787Z"
    }
   },
   "outputs": [
    {
     "name": "stdout",
     "output_type": "stream",
     "text": [
      "[We, 'PRON', 'pronoun']\n",
      "[are, 'AUX', 'auxiliary']\n",
      "[gon, 'VERB', 'verb']\n",
      "[na, 'PART', 'particle']\n",
      "[chase, 'VERB', 'verb']\n",
      "[., 'PUNCT', 'punctuation']\n",
      "\n",
      "[Just, 'ADV', 'adverb']\n",
      "[the, 'DET', 'determiner']\n",
      "[nature, 'NOUN', 'noun']\n",
      "[of, 'ADP', 'adposition']\n",
      "[the, 'DET', 'determiner']\n",
      "[pitch, 'NOUN', 'noun']\n",
      "[., 'PUNCT', 'punctuation']\n",
      "\n",
      "[It, 'PRON', 'pronoun']\n",
      "[is, 'AUX', 'auxiliary']\n",
      "[a, 'DET', 'determiner']\n",
      "[little, 'ADJ', 'adjective']\n",
      "[dry, 'ADJ', 'adjective']\n",
      "[as, 'ADV', 'adverb']\n",
      "[well, 'ADV', 'adverb']\n",
      "[., 'PUNCT', 'punctuation']\n",
      "\n",
      "[We, 'PRON', 'pronoun']\n",
      "[just, 'ADV', 'adverb']\n",
      "[want, 'VERB', 'verb']\n",
      "[to, 'PART', 'particle']\n",
      "[win, 'VERB', 'verb']\n",
      "[the, 'DET', 'determiner']\n",
      "[game, 'NOUN', 'noun']\n",
      "[and, 'CCONJ', 'coordinating conjunction']\n",
      "[not, 'PART', 'particle']\n",
      "[think, 'VERB', 'verb']\n",
      "[about, 'ADP', 'adposition']\n",
      "[how, 'SCONJ', 'subordinating conjunction']\n",
      "[to, 'PART', 'particle']\n",
      "[do, 'AUX', 'auxiliary']\n",
      "[it, 'PRON', 'pronoun']\n",
      "[., 'PUNCT', 'punctuation']\n",
      "\n",
      "[Winning, 'VERB', 'verb']\n",
      "[gives, 'VERB', 'verb']\n",
      "[us, 'PRON', 'pronoun']\n",
      "[a, 'DET', 'determiner']\n",
      "[chance, 'NOUN', 'noun']\n",
      "[., 'PUNCT', 'punctuation']\n",
      "\n",
      "[We, 'PRON', 'pronoun']\n",
      "[are, 'AUX', 'auxiliary']\n",
      "[aware, 'ADJ', 'adjective']\n",
      "[of, 'ADP', 'adposition']\n",
      "[what, 'PRON', 'pronoun']\n",
      "[the, 'DET', 'determiner']\n",
      "[pitch, 'NOUN', 'noun']\n",
      "[and, 'CCONJ', 'coordinating conjunction']\n",
      "[the, 'DET', 'determiner']\n",
      "[conditions, 'NOUN', 'noun']\n",
      "[here, 'ADV', 'adverb']\n",
      "[., 'PUNCT', 'punctuation']\n",
      "\n",
      "[You, 'PRON', 'pronoun']\n",
      "[just, 'ADV', 'adverb']\n",
      "[need, 'VERB', 'verb']\n",
      "[to, 'PART', 'particle']\n",
      "[play, 'VERB', 'verb']\n",
      "[well, 'ADV', 'adverb']\n",
      "[to, 'PART', 'particle']\n",
      "[win, 'VERB', 'verb']\n",
      "[., 'PUNCT', 'punctuation']\n",
      "\n",
      "[Dimensions, 'NOUN', 'noun']\n",
      "[-, 'PUNCT', 'punctuation']\n",
      "[63, 'NUM', 'numeral']\n",
      "[metres, 'NOUN', 'noun']\n",
      "[and, 'CCONJ', 'coordinating conjunction']\n",
      "[67, 'NUM', 'numeral']\n",
      "[metres, 'NOUN', 'noun']\n",
      "[square, 'ADJ', 'adjective']\n",
      "[,, 'PUNCT', 'punctuation']\n",
      "[72, 'NUM', 'numeral']\n",
      "[metres, 'NOUN', 'noun']\n",
      "[downtown, 'NOUN', 'noun']\n",
      "[., 'PUNCT', 'punctuation']\n",
      "\n",
      "[I, 'PRON', 'pronoun']\n",
      "[see, 'VERB', 'verb']\n",
      "[the, 'DET', 'determiner']\n",
      "[red, 'ADJ', 'adjective']\n",
      "[soil, 'NOUN', 'noun']\n",
      "[sticking, 'VERB', 'verb']\n",
      "[out, 'ADP', 'adposition']\n",
      "[., 'PUNCT', 'punctuation']\n",
      "\n",
      "[From, 'ADP', 'adposition']\n",
      "[history, 'NOUN', 'noun']\n",
      "[,, 'PUNCT', 'punctuation']\n",
      "[this, 'PRON', 'pronoun']\n",
      "[is, 'AUX', 'auxiliary']\n",
      "[a, 'DET', 'determiner']\n",
      "[very, 'ADV', 'adverb']\n",
      "[very, 'ADV', 'adverb']\n",
      "[good, 'ADJ', 'adjective']\n",
      "[wicket, 'NOUN', 'noun']\n",
      "[., 'PUNCT', 'punctuation']\n",
      "\n",
      "[The, 'DET', 'determiner']\n",
      "[wicket, 'NOUN', 'noun']\n",
      "[is, 'AUX', 'auxiliary']\n",
      "[knit, 'VERB', 'verb']\n",
      "[together, 'ADV', 'adverb']\n",
      "[quite, 'ADV', 'adverb']\n",
      "[nicely, 'ADV', 'adverb']\n",
      "[which, 'PRON', 'pronoun']\n",
      "[means, 'VERB', 'verb']\n",
      "[it, 'PRON', 'pronoun']\n",
      "['s, 'AUX', 'auxiliary']\n",
      "[a, 'DET', 'determiner']\n",
      "[good, 'ADJ', 'adjective']\n",
      "[cricket, 'NOUN', 'noun']\n",
      "[wicket, 'NOUN', 'noun']\n",
      "[., 'PUNCT', 'punctuation']\n",
      "\n",
      "[It, 'PRON', 'pronoun']\n",
      "['s, 'AUX', 'auxiliary']\n",
      "[a, 'DET', 'determiner']\n",
      "[great, 'ADJ', 'adjective']\n",
      "[surface, 'NOUN', 'noun']\n",
      "[,, 'PUNCT', 'punctuation']\n",
      "[heavy, 'ADJ', 'adjective']\n",
      "[length, 'NOUN', 'noun']\n",
      "[,, 'PUNCT', 'punctuation']\n",
      "[top, 'NOUN', 'noun']\n",
      "[of, 'ADP', 'adposition']\n",
      "[off, 'ADP', 'adposition']\n",
      "[-, 'PUNCT', 'punctuation']\n",
      "[stump, 'NOUN', 'noun']\n",
      "[is, 'AUX', 'auxiliary']\n",
      "[absolutely, 'ADV', 'adverb']\n",
      "[vital, 'ADJ', 'adjective']\n",
      "[because, 'SCONJ', 'subordinating conjunction']\n",
      "[of, 'ADP', 'adposition']\n",
      "[how, 'SCONJ', 'subordinating conjunction']\n",
      "[good, 'ADJ', 'adjective']\n",
      "[the, 'DET', 'determiner']\n",
      "[wicket, 'NOUN', 'noun']\n",
      "[is, 'AUX', 'auxiliary']\n",
      "[., 'PUNCT', 'punctuation']\n",
      "\n",
      "[Tactics, 'NOUN', 'noun']\n",
      "[&, 'CCONJ', 'coordinating conjunction']\n",
      "[matchups, 'NOUN', 'noun']\n",
      "[:, 'PUNCT', 'punctuation']\n",
      "[Heinrich, 'PROPN', 'proper noun']\n",
      "[Klaasen, 'PROPN', 'proper noun']\n",
      "[will, 'AUX', 'auxiliary']\n",
      "[once, 'ADV', 'adverb']\n",
      "[again, 'ADV', 'adverb']\n",
      "[be, 'AUX', 'auxiliary']\n",
      "[key, 'ADJ', 'adjective']\n",
      "[against, 'ADP', 'adposition']\n",
      "[spin, 'NOUN', 'noun']\n",
      "[in, 'ADP', 'adposition']\n",
      "[the, 'DET', 'determiner']\n",
      "[middle, 'ADJ', 'adjective']\n",
      "[overs, 'NOUN', 'noun']\n",
      "[., 'PUNCT', 'punctuation']\n",
      "\n",
      "[This, 'DET', 'determiner']\n",
      "[season, 'NOUN', 'noun']\n",
      "[,, 'PUNCT', 'punctuation']\n",
      "[he, 'PRON', 'pronoun']\n",
      "[has, 'AUX', 'auxiliary']\n",
      "[scored, 'VERB', 'verb']\n",
      "[260, 'NUM', 'numeral']\n",
      "[runs, 'NOUN', 'noun']\n",
      "[against, 'ADP', 'adposition']\n",
      "[spin, 'NOUN', 'noun']\n",
      "[at, 'ADP', 'adposition']\n",
      "[an, 'DET', 'determiner']\n",
      "[average, 'NOUN', 'noun']\n",
      "[of, 'ADP', 'adposition']\n",
      "[130, 'NUM', 'numeral']\n",
      "[and, 'CCONJ', 'coordinating conjunction']\n",
      "[a, 'DET', 'determiner']\n",
      "[strike, 'NOUN', 'noun']\n",
      "[-, 'PUNCT', 'punctuation']\n",
      "[rate, 'NOUN', 'noun']\n",
      "[of, 'ADP', 'adposition']\n",
      "[194, 'NUM', 'numeral']\n",
      "[., 'PUNCT', 'punctuation']\n",
      "\n",
      "[His, 'PRON', 'pronoun']\n",
      "[battle, 'NOUN', 'noun']\n",
      "[with, 'ADP', 'adposition']\n",
      "[Piyush, 'PROPN', 'proper noun']\n",
      "[Chawla, 'PROPN', 'proper noun']\n",
      "[,, 'PUNCT', 'punctuation']\n",
      "[who, 'PRON', 'pronoun']\n",
      "[has, 'VERB', 'verb']\n",
      "[the, 'DET', 'determiner']\n",
      "[most, 'ADJ', 'adjective']\n",
      "[wickets, 'NOUN', 'noun']\n",
      "[between, 'ADP', 'adposition']\n",
      "[overs, 'NOUN', 'noun']\n",
      "[7, 'NUM', 'numeral']\n",
      "[-, 'SYM', 'symbol']\n",
      "[15, 'NUM', 'numeral']\n",
      "[,, 'PUNCT', 'punctuation']\n",
      "[will, 'AUX', 'auxiliary']\n",
      "[be, 'AUX', 'auxiliary']\n",
      "[the, 'DET', 'determiner']\n",
      "[one, 'NOUN', 'noun']\n",
      "[to, 'PART', 'particle']\n",
      "[watch, 'VERB', 'verb']\n",
      "[out, 'ADP', 'adposition']\n",
      "[for, 'ADP', 'adposition']\n",
      "[., 'PUNCT', 'punctuation']\n",
      "\n"
     ]
    },
    {
     "data": {
      "text/plain": [
       "'\\nlittle dry\\nwant win\\ngive chance\\nneed play\\n\\n'"
      ]
     },
     "execution_count": 147,
     "metadata": {},
     "output_type": "execute_result"
    }
   ],
   "source": [
    "for line in final_comm:\n",
    "    doc = nlp(line)\n",
    "    for token in doc:\n",
    "        print([token, token.pos_, spacy.explain(token.pos_)])\n",
    "    print(end = '\\n')\n",
    "    \n",
    "\"\"\"\n",
    "little dry\n",
    "want win\n",
    "give chance\n",
    "need play\n",
    "\n",
    "\"\"\""
   ]
  },
  {
   "cell_type": "code",
   "execution_count": 148,
   "id": "1b61569b",
   "metadata": {
    "ExecuteTime": {
     "end_time": "2023-08-06T20:42:01.106515Z",
     "start_time": "2023-08-06T20:42:01.074655Z"
    }
   },
   "outputs": [
    {
     "name": "stdout",
     "output_type": "stream",
     "text": [
      "[It, 'PRON', 'pronoun']\n",
      "[is, 'AUX', 'auxiliary']\n",
      "[a, 'DET', 'determiner']\n",
      "[little, 'ADJ', 'adjective']\n",
      "[dry, 'ADJ', 'adjective']\n",
      "[as, 'ADV', 'adverb']\n",
      "[well, 'ADV', 'adverb']\n",
      "[., 'PUNCT', 'punctuation']\n"
     ]
    }
   ],
   "source": [
    "word = \"bounce\"\n",
    "\n",
    "text1 = \"\"\"It is a little dry as well.\"\"\"\n",
    "text2 = \"\"\"Winning gives us a chance\"\"\"\n",
    "\n",
    "doc = nlp(text1)\n",
    "for token in doc:\n",
    "    print([token, token.pos_, spacy.explain(token.pos_)])\n",
    "    \n",
    "# doc = nlp(text2)\n",
    "# for token in doc:\n",
    "#     if token.text == word:\n",
    "#         print([token, token.pos_])"
   ]
  },
  {
   "cell_type": "code",
   "execution_count": null,
   "id": "9bd73577",
   "metadata": {},
   "outputs": [],
   "source": []
  },
  {
   "cell_type": "code",
   "execution_count": 107,
   "id": "7e42d370",
   "metadata": {
    "ExecuteTime": {
     "end_time": "2023-09-07T09:59:59.993827Z",
     "start_time": "2023-09-07T09:59:59.961169Z"
    }
   },
   "outputs": [
    {
     "name": "stdout",
     "output_type": "stream",
     "text": [
      "few\n",
      "False\n"
     ]
    }
   ],
   "source": [
    "doc = nlp(\"fewer\")\n",
    "for token in doc:\n",
    "    print(token.lemma_.lower())\n",
    "\n",
    "for token in doc:\n",
    "    print(token.is_stop)"
   ]
  },
  {
   "cell_type": "code",
   "execution_count": 35,
   "id": "a8e0a8d9",
   "metadata": {
    "ExecuteTime": {
     "end_time": "2023-09-07T06:36:17.680092Z",
     "start_time": "2023-09-07T06:36:17.662177Z"
    }
   },
   "outputs": [
    {
     "data": {
      "text/plain": [
       "{\"'d\",\n",
       " \"'ll\",\n",
       " \"'m\",\n",
       " \"'re\",\n",
       " \"'s\",\n",
       " \"'ve\",\n",
       " 'a',\n",
       " 'about',\n",
       " 'above',\n",
       " 'across',\n",
       " 'after',\n",
       " 'afterwards',\n",
       " 'again',\n",
       " 'against',\n",
       " 'all',\n",
       " 'almost',\n",
       " 'alone',\n",
       " 'along',\n",
       " 'already',\n",
       " 'also',\n",
       " 'although',\n",
       " 'always',\n",
       " 'am',\n",
       " 'among',\n",
       " 'amongst',\n",
       " 'amount',\n",
       " 'an',\n",
       " 'and',\n",
       " 'another',\n",
       " 'any',\n",
       " 'anyhow',\n",
       " 'anyone',\n",
       " 'anything',\n",
       " 'anyway',\n",
       " 'anywhere',\n",
       " 'are',\n",
       " 'around',\n",
       " 'as',\n",
       " 'at',\n",
       " 'back',\n",
       " 'be',\n",
       " 'became',\n",
       " 'because',\n",
       " 'become',\n",
       " 'becomes',\n",
       " 'becoming',\n",
       " 'been',\n",
       " 'before',\n",
       " 'beforehand',\n",
       " 'behind',\n",
       " 'being',\n",
       " 'below',\n",
       " 'beside',\n",
       " 'besides',\n",
       " 'between',\n",
       " 'beyond',\n",
       " 'both',\n",
       " 'bottom',\n",
       " 'but',\n",
       " 'by',\n",
       " 'ca',\n",
       " 'call',\n",
       " 'can',\n",
       " 'cannot',\n",
       " 'could',\n",
       " 'did',\n",
       " 'do',\n",
       " 'does',\n",
       " 'doing',\n",
       " 'done',\n",
       " 'down',\n",
       " 'due',\n",
       " 'during',\n",
       " 'each',\n",
       " 'eight',\n",
       " 'either',\n",
       " 'eleven',\n",
       " 'else',\n",
       " 'elsewhere',\n",
       " 'empty',\n",
       " 'enough',\n",
       " 'even',\n",
       " 'ever',\n",
       " 'every',\n",
       " 'everyone',\n",
       " 'everything',\n",
       " 'everywhere',\n",
       " 'except',\n",
       " 'few',\n",
       " 'fifteen',\n",
       " 'fifty',\n",
       " 'first',\n",
       " 'five',\n",
       " 'for',\n",
       " 'former',\n",
       " 'formerly',\n",
       " 'forty',\n",
       " 'four',\n",
       " 'from',\n",
       " 'front',\n",
       " 'full',\n",
       " 'further',\n",
       " 'get',\n",
       " 'give',\n",
       " 'go',\n",
       " 'had',\n",
       " 'has',\n",
       " 'have',\n",
       " 'he',\n",
       " 'hence',\n",
       " 'her',\n",
       " 'here',\n",
       " 'hereafter',\n",
       " 'hereby',\n",
       " 'herein',\n",
       " 'hereupon',\n",
       " 'hers',\n",
       " 'herself',\n",
       " 'him',\n",
       " 'himself',\n",
       " 'his',\n",
       " 'how',\n",
       " 'however',\n",
       " 'hundred',\n",
       " 'i',\n",
       " 'if',\n",
       " 'in',\n",
       " 'indeed',\n",
       " 'into',\n",
       " 'is',\n",
       " 'it',\n",
       " 'its',\n",
       " 'itself',\n",
       " 'just',\n",
       " 'keep',\n",
       " 'last',\n",
       " 'latter',\n",
       " 'latterly',\n",
       " 'least',\n",
       " 'less',\n",
       " 'made',\n",
       " 'make',\n",
       " 'many',\n",
       " 'may',\n",
       " 'me',\n",
       " 'meanwhile',\n",
       " 'might',\n",
       " 'mine',\n",
       " 'more',\n",
       " 'moreover',\n",
       " 'most',\n",
       " 'mostly',\n",
       " 'move',\n",
       " 'much',\n",
       " 'must',\n",
       " 'my',\n",
       " 'myself',\n",
       " \"n't\",\n",
       " 'name',\n",
       " 'namely',\n",
       " 'neither',\n",
       " 'never',\n",
       " 'nevertheless',\n",
       " 'next',\n",
       " 'nine',\n",
       " 'no',\n",
       " 'nobody',\n",
       " 'none',\n",
       " 'noone',\n",
       " 'nor',\n",
       " 'not',\n",
       " 'nothing',\n",
       " 'now',\n",
       " 'nowhere',\n",
       " 'n‘t',\n",
       " 'n’t',\n",
       " 'of',\n",
       " 'off',\n",
       " 'often',\n",
       " 'on',\n",
       " 'once',\n",
       " 'one',\n",
       " 'only',\n",
       " 'onto',\n",
       " 'or',\n",
       " 'other',\n",
       " 'others',\n",
       " 'otherwise',\n",
       " 'our',\n",
       " 'ours',\n",
       " 'ourselves',\n",
       " 'out',\n",
       " 'over',\n",
       " 'own',\n",
       " 'part',\n",
       " 'per',\n",
       " 'perhaps',\n",
       " 'please',\n",
       " 'put',\n",
       " 'quite',\n",
       " 'rather',\n",
       " 're',\n",
       " 'really',\n",
       " 'regarding',\n",
       " 'same',\n",
       " 'say',\n",
       " 'see',\n",
       " 'seem',\n",
       " 'seemed',\n",
       " 'seeming',\n",
       " 'seems',\n",
       " 'serious',\n",
       " 'several',\n",
       " 'she',\n",
       " 'should',\n",
       " 'show',\n",
       " 'side',\n",
       " 'since',\n",
       " 'six',\n",
       " 'sixty',\n",
       " 'so',\n",
       " 'some',\n",
       " 'somehow',\n",
       " 'someone',\n",
       " 'something',\n",
       " 'sometime',\n",
       " 'sometimes',\n",
       " 'somewhere',\n",
       " 'still',\n",
       " 'such',\n",
       " 'take',\n",
       " 'ten',\n",
       " 'than',\n",
       " 'that',\n",
       " 'the',\n",
       " 'their',\n",
       " 'them',\n",
       " 'themselves',\n",
       " 'then',\n",
       " 'thence',\n",
       " 'there',\n",
       " 'thereafter',\n",
       " 'thereby',\n",
       " 'therefore',\n",
       " 'therein',\n",
       " 'thereupon',\n",
       " 'these',\n",
       " 'they',\n",
       " 'third',\n",
       " 'this',\n",
       " 'those',\n",
       " 'though',\n",
       " 'three',\n",
       " 'through',\n",
       " 'throughout',\n",
       " 'thru',\n",
       " 'thus',\n",
       " 'to',\n",
       " 'together',\n",
       " 'too',\n",
       " 'top',\n",
       " 'toward',\n",
       " 'towards',\n",
       " 'twelve',\n",
       " 'twenty',\n",
       " 'two',\n",
       " 'under',\n",
       " 'unless',\n",
       " 'until',\n",
       " 'up',\n",
       " 'upon',\n",
       " 'us',\n",
       " 'used',\n",
       " 'using',\n",
       " 'various',\n",
       " 'very',\n",
       " 'via',\n",
       " 'was',\n",
       " 'we',\n",
       " 'well',\n",
       " 'were',\n",
       " 'what',\n",
       " 'whatever',\n",
       " 'when',\n",
       " 'whence',\n",
       " 'whenever',\n",
       " 'where',\n",
       " 'whereafter',\n",
       " 'whereas',\n",
       " 'whereby',\n",
       " 'wherein',\n",
       " 'whereupon',\n",
       " 'wherever',\n",
       " 'whether',\n",
       " 'which',\n",
       " 'while',\n",
       " 'whither',\n",
       " 'who',\n",
       " 'whoever',\n",
       " 'whole',\n",
       " 'whom',\n",
       " 'whose',\n",
       " 'why',\n",
       " 'will',\n",
       " 'with',\n",
       " 'within',\n",
       " 'without',\n",
       " 'would',\n",
       " 'yet',\n",
       " 'you',\n",
       " 'your',\n",
       " 'yours',\n",
       " 'yourself',\n",
       " 'yourselves',\n",
       " '‘d',\n",
       " '‘ll',\n",
       " '‘m',\n",
       " '‘re',\n",
       " '‘s',\n",
       " '‘ve',\n",
       " '’d',\n",
       " '’ll',\n",
       " '’m',\n",
       " '’re',\n",
       " '’s',\n",
       " '’ve'}"
      ]
     },
     "execution_count": 35,
     "metadata": {},
     "output_type": "execute_result"
    }
   ],
   "source": [
    "STOP_WORDS"
   ]
  },
  {
   "cell_type": "code",
   "execution_count": null,
   "id": "4fbc362b",
   "metadata": {},
   "outputs": [],
   "source": []
  },
  {
   "cell_type": "code",
   "execution_count": null,
   "id": "4aa1713f",
   "metadata": {},
   "outputs": [],
   "source": []
  },
  {
   "cell_type": "code",
   "execution_count": 389,
   "id": "5c328c42",
   "metadata": {
    "ExecuteTime": {
     "end_time": "2023-09-09T08:02:48.980847Z",
     "start_time": "2023-09-09T08:02:48.954025Z"
    }
   },
   "outputs": [
    {
     "name": "stdout",
     "output_type": "stream",
     "text": [
      "this\n",
      "one\n",
      "though\n",
      "look\n",
      "like\n",
      "a\n",
      "beautiful\n",
      "batting\n",
      "wicket\n",
      ".\n"
     ]
    }
   ],
   "source": [
    "text = \"This one though looks like a beautiful batting wicket.\"\n",
    "doc = nlp(text)\n",
    "\n",
    "for token in doc:\n",
    "    print(token.lemma_)"
   ]
  },
  {
   "cell_type": "code",
   "execution_count": null,
   "id": "acd5b584",
   "metadata": {},
   "outputs": [],
   "source": []
  },
  {
   "cell_type": "code",
   "execution_count": 390,
   "id": "7e59307a",
   "metadata": {
    "ExecuteTime": {
     "end_time": "2023-09-09T08:03:07.350174Z",
     "start_time": "2023-09-09T08:03:07.333915Z"
    }
   },
   "outputs": [
    {
     "name": "stdout",
     "output_type": "stream",
     "text": [
      "bat\n"
     ]
    }
   ],
   "source": [
    "doc = nlp(\"batting\")\n",
    "for token in doc:\n",
    "    print(token.lemma_.lower())"
   ]
  },
  {
   "cell_type": "code",
   "execution_count": null,
   "id": "5cb2b28c",
   "metadata": {},
   "outputs": [],
   "source": []
  },
  {
   "cell_type": "code",
   "execution_count": null,
   "id": "322c95d5",
   "metadata": {},
   "outputs": [],
   "source": []
  },
  {
   "cell_type": "code",
   "execution_count": null,
   "id": "c4463044",
   "metadata": {},
   "outputs": [],
   "source": []
  },
  {
   "cell_type": "code",
   "execution_count": null,
   "id": "1eaeeecc",
   "metadata": {},
   "outputs": [],
   "source": []
  },
  {
   "cell_type": "code",
   "execution_count": null,
   "id": "c17ae05e",
   "metadata": {},
   "outputs": [],
   "source": []
  },
  {
   "cell_type": "code",
   "execution_count": null,
   "id": "6fad00bb",
   "metadata": {},
   "outputs": [],
   "source": []
  },
  {
   "cell_type": "code",
   "execution_count": 488,
   "id": "60be0524",
   "metadata": {
    "ExecuteTime": {
     "end_time": "2023-09-09T09:49:52.175888Z",
     "start_time": "2023-09-09T09:49:52.169894Z"
    }
   },
   "outputs": [
    {
     "data": {
      "text/plain": [
       "['The toss does matter because this is a venue where it is difficult to contain batters in the second innings.',\n",
       " 'And not to forget dew.',\n",
       " \"I think what's important is not looking ahead, maybe 180-200 is a par score but we need to keep re-evaluating every 3-4 overs on where we stand and what would be a good total to get to.\",\n",
       " 'I think the nature of pitches will turn, but 180-200 will be a nice target to change.',\n",
       " 'It is quite a small ground and the ball travels, the surface is good and a little bit of dew could help.',\n",
       " \"But it won't be too soothing for the bowlers because this ground is known for sixes - one six every 12 balls.\",\n",
       " \"That's because the leg side boundary is just 60m and the other side isn't much further at 66m.\",\n",
       " 'The longest hit is straight down the ground at 71m.',\n",
       " 'The pitch looks very good, there is a 20 run difference between the day games and the night games.',\n",
       " 'The only concern as a batter is that the middle areas of the pitch look very dry, and it is extremely hard.',\n",
       " 'Chinnaswamy is a small ground and the wicket is generally flat, so expect the ball to keep flying around today.',\n",
       " 'Stick around for the toss and team news...',\n",
       " 'CSK have the best record here in IPL 2023, their spinners having taken 12 wickets while going at just 6.85 in this phase.',\n",
       " 'For example, since 2018, their spinners have taken 36 RCB wickets at an economy of 6.42.',\n",
       " 'As if to encapsulate this factor, RCB have lost 14 wickets to spin this season, behind only laggards Delhi Capitals in this metric.']"
      ]
     },
     "execution_count": 488,
     "metadata": {},
     "output_type": "execute_result"
    }
   ],
   "source": [
    "line_comm2"
   ]
  },
  {
   "cell_type": "code",
   "execution_count": 490,
   "id": "1be4b68a",
   "metadata": {
    "ExecuteTime": {
     "end_time": "2023-09-09T09:52:40.328166Z",
     "start_time": "2023-09-09T09:52:40.155107Z"
    }
   },
   "outputs": [
    {
     "name": "stdout",
     "output_type": "stream",
     "text": [
      "The toss does matter because this is a venue where it is difficult to contain batters in the second innings.\n",
      "[does, 'AUX', 'verb, 3rd person singular present', 'VBZ']\n",
      "[is, 'AUX', 'verb, 3rd person singular present', 'VBZ']\n",
      "[is, 'AUX', 'verb, 3rd person singular present', 'VBZ']\n",
      "And not to forget dew.\n",
      "I think what's important is not looking ahead, maybe 180-200 is a par score but we need to keep re-evaluating every 3-4 overs on where we stand and what would be a good total to get to.\n",
      "[think, 'VERB', 'verb, non-3rd person singular present', 'VBP']\n",
      "['s, 'AUX', 'verb, 3rd person singular present', 'VBZ']\n",
      "[is, 'AUX', 'verb, 3rd person singular present', 'VBZ']\n",
      "[looking, 'VERB', 'verb, gerund or present participle', 'VBG']\n",
      "[is, 'AUX', 'verb, 3rd person singular present', 'VBZ']\n",
      "[need, 'VERB', 'verb, non-3rd person singular present', 'VBP']\n",
      "[-, 'VERB', 'verb, gerund or present participle', 'VBG']\n",
      "[evaluating, 'VERB', 'verb, gerund or present participle', 'VBG']\n",
      "[stand, 'VERB', 'verb, non-3rd person singular present', 'VBP']\n",
      "[would, 'AUX', 'verb, modal auxiliary', 'MD']\n",
      "I think the nature of pitches will turn, but 180-200 will be a nice target to change.\n",
      "[think, 'VERB', 'verb, non-3rd person singular present', 'VBP']\n",
      "[will, 'AUX', 'verb, modal auxiliary', 'MD']\n",
      "[will, 'AUX', 'verb, modal auxiliary', 'MD']\n",
      "It is quite a small ground and the ball travels, the surface is good and a little bit of dew could help.\n",
      "[is, 'AUX', 'verb, 3rd person singular present', 'VBZ']\n",
      "[travels, 'VERB', 'verb, 3rd person singular present', 'VBZ']\n",
      "[is, 'AUX', 'verb, 3rd person singular present', 'VBZ']\n",
      "[could, 'AUX', 'verb, modal auxiliary', 'MD']\n",
      "But it won't be too soothing for the bowlers because this ground is known for sixes - one six every 12 balls.\n",
      "[wo, 'AUX', 'verb, modal auxiliary', 'MD']\n",
      "[is, 'AUX', 'verb, 3rd person singular present', 'VBZ']\n",
      "That's because the leg side boundary is just 60m and the other side isn't much further at 66m.\n",
      "['s, 'AUX', 'verb, 3rd person singular present', 'VBZ']\n",
      "[is, 'AUX', 'verb, 3rd person singular present', 'VBZ']\n",
      "[is, 'AUX', 'verb, 3rd person singular present', 'VBZ']\n",
      "The longest hit is straight down the ground at 71m.\n",
      "[is, 'AUX', 'verb, 3rd person singular present', 'VBZ']\n",
      "The pitch looks very good, there is a 20 run difference between the day games and the night games.\n",
      "[looks, 'VERB', 'verb, 3rd person singular present', 'VBZ']\n",
      "[is, 'VERB', 'verb, 3rd person singular present', 'VBZ']\n",
      "The only concern as a batter is that the middle areas of the pitch look very dry, and it is extremely hard.\n",
      "[is, 'AUX', 'verb, 3rd person singular present', 'VBZ']\n",
      "[is, 'AUX', 'verb, 3rd person singular present', 'VBZ']\n",
      "Chinnaswamy is a small ground and the wicket is generally flat, so expect the ball to keep flying around today.\n",
      "[is, 'AUX', 'verb, 3rd person singular present', 'VBZ']\n",
      "[is, 'AUX', 'verb, 3rd person singular present', 'VBZ']\n",
      "[flying, 'VERB', 'verb, gerund or present participle', 'VBG']\n",
      "Stick around for the toss and team news...\n",
      "CSK have the best record here in IPL 2023, their spinners having taken 12 wickets while going at just 6.85 in this phase.\n",
      "[have, 'VERB', 'verb, non-3rd person singular present', 'VBP']\n",
      "[having, 'AUX', 'verb, gerund or present participle', 'VBG']\n",
      "[going, 'VERB', 'verb, gerund or present participle', 'VBG']\n",
      "For example, since 2018, their spinners have taken 36 RCB wickets at an economy of 6.42.\n",
      "[have, 'AUX', 'verb, non-3rd person singular present', 'VBP']\n",
      "As if to encapsulate this factor, RCB have lost 14 wickets to spin this season, behind only laggards Delhi Capitals in this metric.\n",
      "[have, 'AUX', 'verb, non-3rd person singular present', 'VBP']\n",
      "[laggards, 'VERB', 'verb, 3rd person singular present', 'VBZ']\n"
     ]
    }
   ],
   "source": [
    "for line in line_comm2:\n",
    "    doc = nlp(line)\n",
    "    #doc = nlp(\"He ought to improve his footwork if he wants to become a better batsman\")\n",
    "\n",
    "    print(doc,end = '\\n')\n",
    "    #doc = nlp(\"The pitch will behave differently run in second innings\")\n",
    "    for i, token in enumerate(doc):\n",
    "        if token.tag_ in (\"VB\"):\n",
    "            continue\n",
    "        elif i >= 0 and token.pos_ == \"VERB\" and doc[i-1].pos_ == \"AUX\":\n",
    "            continue\n",
    "        elif i >= 0 and token.pos_ in (\"VERB\", \"AUX\") and doc[i-1].pos_ == \"ADV\" and doc[i-2].pos_ == \"AUX\":\n",
    "            continue  \n",
    "        elif token.pos_ in (\"VERB\", \"AUX\"):\n",
    "            print([token, token.pos_, spacy.glossary.GLOSSARY[token.tag_], token.tag_])\n",
    "        \n",
    "                      \n",
    "# get list of all modal and auxillary verbs from nltk and get the desired tense"
   ]
  },
  {
   "cell_type": "code",
   "execution_count": null,
   "id": "9352676c",
   "metadata": {},
   "outputs": [],
   "source": []
  },
  {
   "cell_type": "code",
   "execution_count": null,
   "id": "889c9832",
   "metadata": {},
   "outputs": [],
   "source": []
  },
  {
   "cell_type": "code",
   "execution_count": null,
   "id": "4b04bbeb",
   "metadata": {},
   "outputs": [],
   "source": []
  },
  {
   "cell_type": "code",
   "execution_count": null,
   "id": "b8c4022a",
   "metadata": {},
   "outputs": [],
   "source": []
  },
  {
   "cell_type": "code",
   "execution_count": null,
   "id": "f067456c",
   "metadata": {},
   "outputs": [],
   "source": []
  },
  {
   "cell_type": "code",
   "execution_count": null,
   "id": "e2039e60",
   "metadata": {},
   "outputs": [],
   "source": []
  },
  {
   "cell_type": "code",
   "execution_count": null,
   "id": "4f5c0d72",
   "metadata": {},
   "outputs": [],
   "source": []
  },
  {
   "cell_type": "code",
   "execution_count": 26,
   "id": "f49bf53d",
   "metadata": {
    "ExecuteTime": {
     "end_time": "2023-09-07T06:24:53.177700Z",
     "start_time": "2023-09-07T06:24:53.168925Z"
    }
   },
   "outputs": [],
   "source": [
    "text_comm4 = []\n",
    "lemmatized_comm_para_filtered = []\n",
    "lemmatized_comm_line_filtered = []\n",
    "final_comm = []\n",
    "max_avg = max(avg_score_list)\n",
    "for i in range(len(avg_score_list)):\n",
    "    if avg_score_list[i] >= 0.35 * max_avg:\n",
    "        text_comm4.append(text_comm3[i])\n",
    "        lemmatized_comm_para_filtered.append(lemmatized_comm[i])\n",
    "        \n",
    "        for j in range(len(score_list_2d[i])):\n",
    "            if score_list_2d[i][j] != 0: #columns\n",
    "                lemmatized_comm_line_filtered.append(lemmatized_comm[i][j])\n",
    "                final_comm.append(line_comm[i][j])"
   ]
  },
  {
   "cell_type": "code",
   "execution_count": null,
   "id": "565df07c",
   "metadata": {},
   "outputs": [],
   "source": []
  },
  {
   "cell_type": "code",
   "execution_count": null,
   "id": "e8cd770e",
   "metadata": {},
   "outputs": [],
   "source": []
  },
  {
   "cell_type": "code",
   "execution_count": null,
   "id": "878ec49d",
   "metadata": {},
   "outputs": [],
   "source": []
  },
  {
   "cell_type": "code",
   "execution_count": null,
   "id": "176e5960",
   "metadata": {},
   "outputs": [],
   "source": []
  },
  {
   "cell_type": "code",
   "execution_count": null,
   "id": "bc4618aa",
   "metadata": {},
   "outputs": [],
   "source": []
  },
  {
   "cell_type": "code",
   "execution_count": null,
   "id": "7d84835d",
   "metadata": {},
   "outputs": [],
   "source": []
  },
  {
   "cell_type": "code",
   "execution_count": null,
   "id": "758b81ea",
   "metadata": {},
   "outputs": [],
   "source": []
  },
  {
   "cell_type": "code",
   "execution_count": null,
   "id": "aa0bc86c",
   "metadata": {},
   "outputs": [],
   "source": []
  },
  {
   "cell_type": "code",
   "execution_count": null,
   "id": "87ba7c62",
   "metadata": {},
   "outputs": [],
   "source": []
  },
  {
   "cell_type": "code",
   "execution_count": null,
   "id": "9d50c541",
   "metadata": {},
   "outputs": [],
   "source": []
  },
  {
   "cell_type": "code",
   "execution_count": 16,
   "id": "ebf3a8f5",
   "metadata": {
    "ExecuteTime": {
     "end_time": "2023-08-06T13:42:55.659646Z",
     "start_time": "2023-08-06T13:42:55.640031Z"
    }
   },
   "outputs": [
    {
     "data": {
      "text/plain": [
       "0.653"
      ]
     },
     "execution_count": 16,
     "metadata": {},
     "output_type": "execute_result"
    }
   ],
   "source": [
    "max_avg * 0.5"
   ]
  },
  {
   "cell_type": "code",
   "execution_count": 33,
   "id": "b0329b02",
   "metadata": {
    "ExecuteTime": {
     "end_time": "2023-08-06T12:45:12.332163Z",
     "start_time": "2023-08-06T12:45:12.319985Z"
    }
   },
   "outputs": [
    {
     "data": {
      "text/plain": [
       "['We are gonna chase. Just the nature of the pitch. It is a little dry as well. Whatever it has to happen will happen in the first innings. Shokeen is not playing. Kartikeya is in. It is a tricky one. We just want to win the game and not think about how to do it. Winning gives us a chance. Not looking too far ahead. We have talked in the team meeting what to do. We have played an afternoon game before. We are aware of what the pitch and the conditions here. You just need to play well to win.',\n",
       " \"I'm playing today. This year, I have bowled few overs and taken only 5 wickets in 7 games. I believe in hard work. Today I get a chance, hopefully I perform well. I haven't compromised on my pace, I am trying to bowl in the right areas and also working on variations. When the team needs wickets, I try to take wickets, otherwise I try to stop the flow of runs. I am playing after a while, so I'll try to do my best and execute my plans.\",\n",
       " \"Dimensions - 63 metres and 67 metres square, 72 metres downtown. I see the red soil sticking out. From history, this is a very very good wicket. The wicket is knit together quite nicely which means it's a good cricket wicket. Yorkers and good length has worked for the bowlers, everything else has been absolutely dispatched. It's a great surface, heavy length, top of off-stump is absolutely vital because of how good the wicket is.\",\n",
       " 'Tactics & matchups: Heinrich Klaasen will once again be key against spin in the middle overs. This season, he has scored 260 runs against spin at an average of 130 and a strike-rate of 194. His battle with Piyush Chawla, who has the most wickets between overs 7-15, will be the one to watch out for.']"
      ]
     },
     "execution_count": 33,
     "metadata": {},
     "output_type": "execute_result"
    }
   ],
   "source": [
    "text_comm4"
   ]
  },
  {
   "cell_type": "code",
   "execution_count": null,
   "id": "0c068186",
   "metadata": {},
   "outputs": [],
   "source": []
  },
  {
   "cell_type": "code",
   "execution_count": null,
   "id": "8812c8fc",
   "metadata": {},
   "outputs": [],
   "source": []
  },
  {
   "cell_type": "code",
   "execution_count": null,
   "id": "23d68f97",
   "metadata": {},
   "outputs": [],
   "source": []
  },
  {
   "cell_type": "code",
   "execution_count": null,
   "id": "e717f9fc",
   "metadata": {},
   "outputs": [],
   "source": []
  },
  {
   "cell_type": "code",
   "execution_count": null,
   "id": "91895e47",
   "metadata": {},
   "outputs": [],
   "source": []
  },
  {
   "cell_type": "code",
   "execution_count": null,
   "id": "4157deb5",
   "metadata": {},
   "outputs": [],
   "source": []
  },
  {
   "cell_type": "code",
   "execution_count": 26,
   "id": "6efc6c6c",
   "metadata": {
    "ExecuteTime": {
     "end_time": "2023-08-06T12:37:43.846751Z",
     "start_time": "2023-08-06T12:37:43.600530Z"
    }
   },
   "outputs": [
    {
     "data": {
      "image/png": "[encoded data removed]",
      "text/plain": [
       "<Figure size 500x250 with 1 Axes>"
      ]
     },
     "metadata": {},
     "output_type": "display_data"
    },
    {
     "data": {
      "image/png": "[encoded data removed]",
      "text/plain": [
       "<Figure size 500x250 with 1 Axes>"
      ]
     },
     "metadata": {},
     "output_type": "display_data"
    }
   ],
   "source": [
    "plt.figure(figsize = (5,2.5))\n",
    "sns.histplot(score_list, kde = True)\n",
    "plt.show()\n",
    "\n",
    "plt.figure(figsize = (5,2.5))\n",
    "sns.histplot(avg_score_list, kde = True)\n",
    "plt.show()"
   ]
  },
  {
   "cell_type": "code",
   "execution_count": null,
   "id": "03691efd",
   "metadata": {},
   "outputs": [],
   "source": []
  },
  {
   "cell_type": "code",
   "execution_count": null,
   "id": "e6a9d2cf",
   "metadata": {},
   "outputs": [],
   "source": []
  },
  {
   "cell_type": "code",
   "execution_count": null,
   "id": "af6c7985",
   "metadata": {},
   "outputs": [],
   "source": []
  },
  {
   "cell_type": "code",
   "execution_count": null,
   "id": "32ffa13d",
   "metadata": {},
   "outputs": [],
   "source": []
  },
  {
   "cell_type": "code",
   "execution_count": null,
   "id": "80ee2a30",
   "metadata": {},
   "outputs": [],
   "source": []
  },
  {
   "cell_type": "code",
   "execution_count": null,
   "id": "4b88a1a9",
   "metadata": {},
   "outputs": [],
   "source": []
  },
  {
   "cell_type": "code",
   "execution_count": null,
   "id": "a4492d4d",
   "metadata": {},
   "outputs": [],
   "source": []
  },
  {
   "cell_type": "code",
   "execution_count": null,
   "id": "be7f39f0",
   "metadata": {},
   "outputs": [],
   "source": []
  },
  {
   "cell_type": "code",
   "execution_count": null,
   "id": "af61a93c",
   "metadata": {},
   "outputs": [],
   "source": []
  },
  {
   "cell_type": "code",
   "execution_count": null,
   "id": "6243b71b",
   "metadata": {},
   "outputs": [],
   "source": []
  },
  {
   "cell_type": "code",
   "execution_count": null,
   "id": "6956f05b",
   "metadata": {},
   "outputs": [],
   "source": []
  },
  {
   "cell_type": "code",
   "execution_count": null,
   "id": "6299c5ac",
   "metadata": {},
   "outputs": [],
   "source": []
  },
  {
   "cell_type": "code",
   "execution_count": null,
   "id": "1d36686b",
   "metadata": {},
   "outputs": [],
   "source": []
  },
  {
   "cell_type": "code",
   "execution_count": null,
   "id": "697a79e5",
   "metadata": {},
   "outputs": [],
   "source": []
  },
  {
   "cell_type": "code",
   "execution_count": null,
   "id": "09b018a6",
   "metadata": {},
   "outputs": [],
   "source": []
  },
  {
   "cell_type": "code",
   "execution_count": null,
   "id": "b87f1f16",
   "metadata": {},
   "outputs": [],
   "source": []
  },
  {
   "cell_type": "code",
   "execution_count": 274,
   "id": "15b94396",
   "metadata": {
    "ExecuteTime": {
     "end_time": "2023-08-06T07:30:21.183544Z",
     "start_time": "2023-08-06T07:30:21.163072Z"
    }
   },
   "outputs": [],
   "source": [
    "import unicodedata\n",
    "\n",
    "def remove_special_characters(text):\n",
    "    # Normalize the text to remove special characters and normalize spaces\n",
    "    normalized_text = unicodedata.normalize('NFKD', text)\n",
    "    # Remove special characters and control characters\n",
    "    cleaned_text = ''.join(c for c in normalized_text if not unicodedata.category(c).startswith('C'))\n",
    "    return cleaned_text.strip()\n",
    "\n",
    "\n",
    "comm = []\n",
    "with open(FILENAME, 'r') as f:\n",
    "    for line in f:\n",
    "        cleaned_line = remove_special_characters(line)\n",
    "        comm.append(cleaned_line)\n",
    "\n",
    "# Now 'comm' contains the lines with all special characters removed\n"
   ]
  },
  {
   "cell_type": "code",
   "execution_count": 278,
   "id": "ceb57647",
   "metadata": {
    "ExecuteTime": {
     "end_time": "2023-08-06T07:34:47.007305Z",
     "start_time": "2023-08-06T07:34:46.999071Z"
    }
   },
   "outputs": [
    {
     "data": {
      "text/plain": [
       "\"\\n68m on one side and 63m on the other square boundary, the straight boundary is at 78m. Spinners would be licking their lips in the dressing room. It's dry and will definitely turn. There are patches which will offer plenty to the quality spinners in both sides. It's dry and should become slow as the match progresses. 170 could be a match-winning total. Bat first, runs on the board in a final will matter, reckons\\n\""
      ]
     },
     "execution_count": 278,
     "metadata": {},
     "output_type": "execute_result"
    }
   ],
   "source": [
    "text = \"\"\"\n",
    "68m on one side and 63m on the other square boundary, the straight boundary is at 78m. Spinners would be licking their lips in the dressing room. It's dry and will definitely turn. There are patches which will offer plenty to the quality\\xa0spinners in both sides. It's dry and should become slow as the match progresses. 170 could be a match-winning total. Bat first, runs on the board in a final will matter, reckons\n",
    "\"\"\"\n",
    "unicodedata.normalize('NFKD', text)"
   ]
  },
  {
   "cell_type": "code",
   "execution_count": null,
   "id": "332fdc47",
   "metadata": {},
   "outputs": [],
   "source": []
  },
  {
   "cell_type": "code",
   "execution_count": 277,
   "id": "956c7f8e",
   "metadata": {
    "ExecuteTime": {
     "end_time": "2023-08-06T07:31:50.062440Z",
     "start_time": "2023-08-06T07:31:50.039102Z"
    }
   },
   "outputs": [
    {
     "ename": "NameError",
     "evalue": "name 'locale' is not defined",
     "output_type": "error",
     "traceback": [
      "\u001b[1;31m---------------------------------------------------------------------------\u001b[0m",
      "\u001b[1;31mNameError\u001b[0m                                 Traceback (most recent call last)",
      "\u001b[1;32m~\\AppData\\Local\\Temp\\ipykernel_13572\\374320702.py\u001b[0m in \u001b[0;36m<module>\u001b[1;34m\u001b[0m\n\u001b[1;32m----> 1\u001b[1;33m \u001b[0mlocale\u001b[0m\u001b[1;33m.\u001b[0m\u001b[0mgetpreferredencoding\u001b[0m\u001b[1;33m(\u001b[0m\u001b[1;32mFalse\u001b[0m\u001b[1;33m)\u001b[0m\u001b[1;33m\u001b[0m\u001b[1;33m\u001b[0m\u001b[0m\n\u001b[0m",
      "\u001b[1;31mNameError\u001b[0m: name 'locale' is not defined"
     ]
    }
   ],
   "source": []
  },
  {
   "cell_type": "code",
   "execution_count": 135,
   "id": "a26ee202",
   "metadata": {
    "ExecuteTime": {
     "end_time": "2023-08-05T20:18:23.416812Z",
     "start_time": "2023-08-05T20:18:23.401953Z"
    }
   },
   "outputs": [
    {
     "data": {
      "text/plain": [
       "'auxiliary'"
      ]
     },
     "execution_count": 135,
     "metadata": {},
     "output_type": "execute_result"
    }
   ],
   "source": [
    "spacy.explain(\"AUX\")"
   ]
  },
  {
   "cell_type": "code",
   "execution_count": 136,
   "id": "3fcabc7e",
   "metadata": {
    "ExecuteTime": {
     "end_time": "2023-08-05T20:18:44.421148Z",
     "start_time": "2023-08-05T20:18:44.395688Z"
    }
   },
   "outputs": [
    {
     "ename": "AttributeError",
     "evalue": "module 'spacy' has no attribute 'POS'",
     "output_type": "error",
     "traceback": [
      "\u001b[1;31m---------------------------------------------------------------------------\u001b[0m",
      "\u001b[1;31mAttributeError\u001b[0m                            Traceback (most recent call last)",
      "\u001b[1;32m~\\AppData\\Local\\Temp\\ipykernel_13572\\177285371.py\u001b[0m in \u001b[0;36m<module>\u001b[1;34m\u001b[0m\n\u001b[1;32m----> 1\u001b[1;33m \u001b[0mspacy\u001b[0m\u001b[1;33m.\u001b[0m\u001b[0mPOS\u001b[0m\u001b[1;33m\u001b[0m\u001b[1;33m\u001b[0m\u001b[0m\n\u001b[0m",
      "\u001b[1;31mAttributeError\u001b[0m: module 'spacy' has no attribute 'POS'"
     ]
    }
   ],
   "source": [
    "spacy.POS"
   ]
  },
  {
   "cell_type": "code",
   "execution_count": null,
   "id": "1bae7acd",
   "metadata": {},
   "outputs": [],
   "source": []
  },
  {
   "cell_type": "code",
   "execution_count": null,
   "id": "5a851569",
   "metadata": {},
   "outputs": [],
   "source": []
  },
  {
   "cell_type": "code",
   "execution_count": null,
   "id": "79e80290",
   "metadata": {},
   "outputs": [],
   "source": []
  },
  {
   "cell_type": "code",
   "execution_count": null,
   "id": "da6e18f4",
   "metadata": {},
   "outputs": [],
   "source": []
  },
  {
   "cell_type": "code",
   "execution_count": null,
   "id": "75a80503",
   "metadata": {},
   "outputs": [],
   "source": []
  },
  {
   "cell_type": "code",
   "execution_count": null,
   "id": "2e77ce37",
   "metadata": {},
   "outputs": [],
   "source": []
  },
  {
   "cell_type": "code",
   "execution_count": null,
   "id": "a172d25b",
   "metadata": {},
   "outputs": [],
   "source": []
  },
  {
   "cell_type": "code",
   "execution_count": null,
   "id": "3fa6f87d",
   "metadata": {},
   "outputs": [],
   "source": []
  },
  {
   "cell_type": "code",
   "execution_count": null,
   "id": "74b6dad5",
   "metadata": {},
   "outputs": [],
   "source": []
  },
  {
   "cell_type": "code",
   "execution_count": null,
   "id": "532fb2af",
   "metadata": {},
   "outputs": [],
   "source": []
  },
  {
   "cell_type": "code",
   "execution_count": null,
   "id": "6a8ba159",
   "metadata": {},
   "outputs": [],
   "source": []
  },
  {
   "cell_type": "code",
   "execution_count": null,
   "id": "df389ca9",
   "metadata": {},
   "outputs": [],
   "source": []
  },
  {
   "cell_type": "code",
   "execution_count": null,
   "id": "8f2edb0e",
   "metadata": {},
   "outputs": [],
   "source": []
  },
  {
   "cell_type": "code",
   "execution_count": null,
   "id": "7f074bd3",
   "metadata": {},
   "outputs": [],
   "source": []
  },
  {
   "cell_type": "code",
   "execution_count": null,
   "id": "ad8590e5",
   "metadata": {},
   "outputs": [],
   "source": []
  },
  {
   "cell_type": "code",
   "execution_count": null,
   "id": "d5fbeab7",
   "metadata": {},
   "outputs": [],
   "source": []
  },
  {
   "cell_type": "code",
   "execution_count": null,
   "id": "bdb2c0f2",
   "metadata": {},
   "outputs": [],
   "source": []
  },
  {
   "cell_type": "code",
   "execution_count": null,
   "id": "7a36c132",
   "metadata": {},
   "outputs": [],
   "source": []
  },
  {
   "cell_type": "code",
   "execution_count": null,
   "id": "ddcdfcf3",
   "metadata": {},
   "outputs": [],
   "source": []
  },
  {
   "cell_type": "code",
   "execution_count": null,
   "id": "99daed92",
   "metadata": {},
   "outputs": [],
   "source": []
  },
  {
   "cell_type": "code",
   "execution_count": null,
   "id": "fc3e6277",
   "metadata": {},
   "outputs": [],
   "source": []
  },
  {
   "cell_type": "code",
   "execution_count": null,
   "id": "17fd4171",
   "metadata": {},
   "outputs": [],
   "source": []
  },
  {
   "cell_type": "code",
   "execution_count": null,
   "id": "7669516f",
   "metadata": {},
   "outputs": [],
   "source": []
  },
  {
   "cell_type": "code",
   "execution_count": 26,
   "id": "eac98452",
   "metadata": {
    "ExecuteTime": {
     "end_time": "2023-08-05T16:26:03.665926Z",
     "start_time": "2023-08-05T16:26:02.761233Z"
    }
   },
   "outputs": [
    {
     "data": {
      "image/png": "[encoded data removed]",
      "text/plain": [
       "<Figure size 1000x500 with 1 Axes>"
      ]
     },
     "metadata": {},
     "output_type": "display_data"
    },
    {
     "data": {
      "image/png": "[encoded data removed]",
      "text/plain": [
       "<Figure size 1000x500 with 1 Axes>"
      ]
     },
     "metadata": {},
     "output_type": "display_data"
    }
   ],
   "source": [
    "plt.figure(figsize=(10, 5))\n",
    "\n",
    "# Calculate the number of words in each text line\n",
    "num_words = [len(text.split()) for text in text_comm]\n",
    "\n",
    "# Plotting the distribution of the number of words\n",
    "sns.histplot(num_words, kde=True)\n",
    "plt.xlabel('Number of Words')\n",
    "plt.ylabel('Frequency')\n",
    "plt.title('Original Distribution of Number of Words in each text line')\n",
    "plt.show()\n",
    "\n",
    "plt.figure(figsize=(10, 5))\n",
    "\n",
    "# Calculate the average number of alphabetical characters in each word\n",
    "#avg_alphabet_chars = [sum(len(word) for word in text.split() if word.isalpha()) / len(text.split()) for text in filter_comm]\n",
    "avg_alphabet_chars = [sum(len(re.findall('[a-zA-Z]', word)) for word in textline.split()) / len(textline.split()) for textline in text_comm2]\n",
    "\n",
    "# Plotting the distribution of the average number of alphabetical characters\n",
    "sns.histplot(avg_alphabet_chars, kde=True)\n",
    "plt.xlabel('Average Number of Alphabetical Characters')\n",
    "plt.ylabel('Frequency')\n",
    "plt.title('Distribution of Average Number of Alphabetical Characters in Words')\n",
    "plt.show()"
   ]
  },
  {
   "cell_type": "code",
   "execution_count": 22,
   "id": "96b7e9af",
   "metadata": {
    "ExecuteTime": {
     "end_time": "2023-08-05T16:23:04.012442Z",
     "start_time": "2023-08-05T16:23:03.991907Z"
    }
   },
   "outputs": [
    {
     "name": "stdout",
     "output_type": "stream",
     "text": [
      "Average of the top 50 % records: 45.767857142857146 no. of words/textline\n",
      "Word counts of textlines 50 % or above the avg: [210, 201, 160, 119, 114, 106, 93, 85, 85, 75, 75, 75, 69, 62, 61, 60, 59, 58, 57, 52, 50, 48, 46, 45, 39, 36]\n",
      "Word count average of the modified file now is : 82.3076923076923  words/textline\n"
     ]
    }
   ],
   "source": []
  },
  {
   "cell_type": "code",
   "execution_count": null,
   "id": "3ad3090f",
   "metadata": {},
   "outputs": [],
   "source": []
  },
  {
   "cell_type": "code",
   "execution_count": 17,
   "id": "277902b0",
   "metadata": {
    "ExecuteTime": {
     "end_time": "2023-08-05T16:15:43.634089Z",
     "start_time": "2023-08-05T16:15:43.604510Z"
    }
   },
   "outputs": [
    {
     "data": {
      "text/plain": [
       "45.767857142857146"
      ]
     },
     "execution_count": 17,
     "metadata": {},
     "output_type": "execute_result"
    }
   ],
   "source": [
    "sorted_num_words = sorted(num_words, reverse=True)\n",
    "\n",
    "num_records = int(len(num_words) * 0.5)\n",
    "#num_records #56\n",
    "\n",
    "avg_topn = sum(sorted_num_words[:num_records]) / num_records\n",
    "avg_topn"
   ]
  },
  {
   "cell_type": "code",
   "execution_count": 27,
   "id": "446dbf24",
   "metadata": {
    "ExecuteTime": {
     "end_time": "2023-08-05T16:27:56.473472Z",
     "start_time": "2023-08-05T16:27:56.443582Z"
    }
   },
   "outputs": [
    {
     "data": {
      "text/plain": [
       "[3.76271186440678,\n",
       " 4.56140350877193,\n",
       " 4.145833333333333,\n",
       " 4.305882352941176,\n",
       " 3.7466666666666666,\n",
       " 4.059701492537314,\n",
       " 4.2375,\n",
       " 4.258620689655173,\n",
       " 4.266666666666667,\n",
       " 4.387096774193548,\n",
       " 4.433333333333334,\n",
       " 4.344086021505376,\n",
       " 4.326086956521739,\n",
       " 4.783018867924528,\n",
       " 4.378151260504202,\n",
       " 4.226666666666667,\n",
       " 4.183333333333334,\n",
       " 4.333333333333333,\n",
       " 4.211764705882353,\n",
       " 3.927536231884058,\n",
       " 4.2444444444444445,\n",
       " 3.9444444444444446,\n",
       " 3.2564102564102564,\n",
       " 4.721311475409836,\n",
       " 6.384615384615385,\n",
       " 5.98]"
      ]
     },
     "execution_count": 27,
     "metadata": {},
     "output_type": "execute_result"
    }
   ],
   "source": [
    "avg_alphabet_chars"
   ]
  },
  {
   "cell_type": "code",
   "execution_count": 29,
   "id": "815c2c6b",
   "metadata": {
    "ExecuteTime": {
     "end_time": "2023-08-05T16:29:48.798417Z",
     "start_time": "2023-08-05T16:29:48.773457Z"
    }
   },
   "outputs": [
    {
     "data": {
      "text/plain": [
       "'Squad: Ruturaj Gaikwad, Devon Conway, Ajinkya Rahane, Ambati Rayudu, Shivam Dube, Moeen Ali, Ravindra Jadeja, MS Dhoni(w/c), Deepak Chahar, Tushar Deshpande, Maheesh Theekshana, Matheesha Pathirana, Mitchell Santner, Subhranshu Senapati, Shaik Rasheed, Akash Singh, Sisanda Magala, Dwaine Pretorius, Ben Stokes, Ajay Jadav Mandal, Prashant Solanki, Simarjeet Singh, RS Hangargekar, Bhagath Varma, Nishant Sindhu'"
      ]
     },
     "execution_count": 29,
     "metadata": {},
     "output_type": "execute_result"
    }
   ],
   "source": [
    "text_comm2[-2]"
   ]
  },
  {
   "cell_type": "code",
   "execution_count": null,
   "id": "5392a542",
   "metadata": {},
   "outputs": [],
   "source": []
  },
  {
   "cell_type": "code",
   "execution_count": 19,
   "id": "2157b818",
   "metadata": {
    "ExecuteTime": {
     "end_time": "2023-07-19T12:19:23.492296Z",
     "start_time": "2023-07-19T12:19:23.190141Z"
    }
   },
   "outputs": [
    {
     "data": {
      "image/png": "[encoded data removed]",
      "text/plain": [
       "<Figure size 1000x500 with 1 Axes>"
      ]
     },
     "metadata": {},
     "output_type": "display_data"
    }
   ],
   "source": [
    "plt.figure(figsize=(10, 5))\n",
    "\n",
    "# Calculate the number of words in each text line\n",
    "num_words = [len(text.split()) for text in text_comm]\n",
    "\n",
    "# Plotting the distribution of the number of words\n",
    "sns.histplot(num_words, kde=True)\n",
    "plt.xlabel('Number of Words')\n",
    "plt.ylabel('Frequency')\n",
    "plt.title('Original Distribution of Number of Words in each text line')\n",
    "plt.show()"
   ]
  },
  {
   "cell_type": "code",
   "execution_count": 20,
   "id": "cf6b6cc2",
   "metadata": {
    "ExecuteTime": {
     "end_time": "2023-07-19T12:19:23.731784Z",
     "start_time": "2023-07-19T12:19:23.496133Z"
    }
   },
   "outputs": [
    {
     "data": {
      "image/png": "[encoded data removed]",
      "text/plain": [
       "<Figure size 1500x500 with 1 Axes>"
      ]
     },
     "metadata": {},
     "output_type": "display_data"
    }
   ],
   "source": [
    "plt.figure(figsize=(15, 5))\n",
    "\n",
    "# Calculate the number of words in each text line\n",
    "num_words = [len(text.split()) for text in text_comm]\n",
    "\n",
    "# Plotting the distribution of the number of words\n",
    "sns.histplot(num_words, kde=True)\n",
    "\n",
    "# Calculate the cumulative distribution function (CDF)\n",
    "values, base = np.histogram(num_words, bins='auto')\n",
    "cumulative = np.cumsum(values) / sum(values)\n",
    "\n",
    "# Find the index where the CDF crosses the specified threshold\n",
    "x = 0.1\n",
    "idx = np.argmax(cumulative >= x)\n",
    "\n",
    "# Mark the threshold line on the histogram\n",
    "plt.axvline(x=base[idx + 1], color='red', linestyle='--', label=f'{x * 100}% Area')\n",
    "\n",
    "plt.xlabel('Number of Words')\n",
    "plt.ylabel('Frequency')\n",
    "plt.title('Original Distribution of Number of Words in each text line')\n",
    "plt.legend()\n",
    "plt.show()"
   ]
  },
  {
   "cell_type": "code",
   "execution_count": null,
   "id": "4e9d18d8",
   "metadata": {},
   "outputs": [],
   "source": []
  },
  {
   "cell_type": "code",
   "execution_count": null,
   "id": "9b5a3292",
   "metadata": {},
   "outputs": [],
   "source": []
  },
  {
   "cell_type": "code",
   "execution_count": null,
   "id": "bcb6d10a",
   "metadata": {},
   "outputs": [],
   "source": []
  },
  {
   "cell_type": "code",
   "execution_count": null,
   "id": "b30ec96a",
   "metadata": {},
   "outputs": [],
   "source": []
  },
  {
   "cell_type": "code",
   "execution_count": null,
   "id": "c1a85ee5",
   "metadata": {},
   "outputs": [],
   "source": []
  },
  {
   "cell_type": "code",
   "execution_count": null,
   "id": "ed4f67b9",
   "metadata": {},
   "outputs": [],
   "source": []
  },
  {
   "cell_type": "code",
   "execution_count": null,
   "id": "c9c480a8",
   "metadata": {},
   "outputs": [],
   "source": []
  },
  {
   "cell_type": "code",
   "execution_count": null,
   "id": "0c7d631a",
   "metadata": {},
   "outputs": [],
   "source": []
  },
  {
   "cell_type": "code",
   "execution_count": null,
   "id": "45e320fd",
   "metadata": {},
   "outputs": [],
   "source": []
  },
  {
   "cell_type": "code",
   "execution_count": null,
   "id": "26135287",
   "metadata": {},
   "outputs": [],
   "source": []
  },
  {
   "cell_type": "code",
   "execution_count": null,
   "id": "82afb06f",
   "metadata": {},
   "outputs": [],
   "source": []
  },
  {
   "cell_type": "code",
   "execution_count": null,
   "id": "dc3ee9ec",
   "metadata": {},
   "outputs": [],
   "source": []
  },
  {
   "cell_type": "code",
   "execution_count": null,
   "id": "16e2b836",
   "metadata": {},
   "outputs": [],
   "source": []
  },
  {
   "cell_type": "code",
   "execution_count": null,
   "id": "64fce3d0",
   "metadata": {},
   "outputs": [],
   "source": []
  },
  {
   "cell_type": "code",
   "execution_count": null,
   "id": "192c7ce6",
   "metadata": {},
   "outputs": [],
   "source": []
  },
  {
   "cell_type": "code",
   "execution_count": null,
   "id": "59d1e340",
   "metadata": {},
   "outputs": [],
   "source": []
  },
  {
   "cell_type": "code",
   "execution_count": null,
   "id": "18de5abc",
   "metadata": {},
   "outputs": [],
   "source": []
  },
  {
   "cell_type": "code",
   "execution_count": 21,
   "id": "b61b028c",
   "metadata": {
    "ExecuteTime": {
     "end_time": "2023-07-19T12:19:25.565677Z",
     "start_time": "2023-07-19T12:19:25.236542Z"
    }
   },
   "outputs": [
    {
     "data": {
      "image/png": "[encoded data removed]",
      "text/plain": [
       "<Figure size 1000x500 with 1 Axes>"
      ]
     },
     "metadata": {},
     "output_type": "display_data"
    },
    {
     "name": "stdout",
     "output_type": "stream",
     "text": [
      "The value that creates 70.0% of the area is: 1.0\n"
     ]
    }
   ],
   "source": [
    "import matplotlib.pyplot as plt\n",
    "import seaborn as sns\n",
    "import numpy as np\n",
    "\n",
    "plt.figure(figsize=(10, 5))\n",
    "\n",
    "# Calculate the number of words in each text line\n",
    "num_words = [len(text.split()) for text in text_comm]\n",
    "\n",
    "# Plotting the distribution of the number of words\n",
    "sns.histplot(num_words, kde=True)\n",
    "\n",
    "# Calculate the cumulative distribution function (CDF)\n",
    "values, bins, _ = plt.hist(num_words, bins='auto', density=True, cumulative=True)\n",
    "cumulative = values * np.diff(bins)\n",
    "\n",
    "# Find the value where the cumulative probability crosses the specified threshold\n",
    "x = 0.7\n",
    "idx = np.argmax(cumulative >= x)\n",
    "\n",
    "# Get the corresponding value from the bins array\n",
    "threshold_value = bins[idx]\n",
    "\n",
    "plt.xlabel('Number of Words')\n",
    "plt.ylabel('Frequency')\n",
    "plt.title('Original Distribution of Number of Words in each text line')\n",
    "plt.show()\n",
    "\n",
    "print(f\"The value that creates {x * 100}% of the area is: {threshold_value}\")\n"
   ]
  },
  {
   "cell_type": "code",
   "execution_count": 22,
   "id": "f0ce8a82",
   "metadata": {
    "ExecuteTime": {
     "end_time": "2023-07-19T12:19:25.581137Z",
     "start_time": "2023-07-19T12:19:25.566705Z"
    }
   },
   "outputs": [
    {
     "name": "stdout",
     "output_type": "stream",
     "text": [
      "The value where the area under the histogram curve becomes 70% is 3.3333333333333335.\n"
     ]
    }
   ],
   "source": [
    "import numpy as np\n",
    "\n",
    "# Define your array of numbers\n",
    "data = np.array([0,1, 2, 3, 4, 5, 6, 7, 8, 9, 10,11,12,13,14,15,16,17,18,19,20])\n",
    "\n",
    "# Create the histogram\n",
    "hist, bins = np.histogram(data, bins='auto', density=True)\n",
    "\n",
    "# Compute the cumulative distribution function (CDF)\n",
    "cdf = np.cumsum(hist * np.diff(bins))\n",
    "\n",
    "# Find the value where the area under the curve becomes 70%\n",
    "target_area = 0.3\n",
    "index = np.searchsorted(cdf, target_area)\n",
    "\n",
    "# Get the corresponding value from the bins array\n",
    "value = bins[index]\n",
    "\n",
    "# Print the result\n",
    "print(f\"The value where the area under the histogram curve becomes 70% is {value}.\")\n"
   ]
  },
  {
   "cell_type": "code",
   "execution_count": null,
   "id": "96d9c32c",
   "metadata": {},
   "outputs": [],
   "source": []
  },
  {
   "cell_type": "code",
   "execution_count": 23,
   "id": "aa463bfc",
   "metadata": {
    "ExecuteTime": {
     "end_time": "2023-07-19T12:19:25.739451Z",
     "start_time": "2023-07-19T12:19:25.583789Z"
    }
   },
   "outputs": [
    {
     "data": {
      "image/png": "[encoded data removed]",
      "text/plain": [
       "<Figure size 640x480 with 1 Axes>"
      ]
     },
     "metadata": {},
     "output_type": "display_data"
    },
    {
     "name": "stdout",
     "output_type": "stream",
     "text": [
      "The value of x is: 10.5\n"
     ]
    }
   ],
   "source": [
    "import numpy as np\n",
    "import matplotlib.pyplot as plt\n",
    "\n",
    "# Data array\n",
    "data_array = np.arange(20, -1, -1)\n",
    "\n",
    "# Calculate the area of the original triangle\n",
    "original_triangle_area = 0.5 * 20 * 20\n",
    "\n",
    "# User-inputted area\n",
    "#area = float(input(\"Enter the area (as a fraction of the original triangle area): \"))\n",
    "area = 0.8\n",
    "\n",
    "# Calculate the target area for the small triangle\n",
    "target_area = area * original_triangle_area\n",
    "\n",
    "# Calculate the cumulative sum of the data array\n",
    "cumulative_sum = np.cumsum(data_array)\n",
    "\n",
    "# Find the index where the cumulative sum crosses the target area\n",
    "index = np.where(cumulative_sum >= target_area)[0][0]\n",
    "\n",
    "# Calculate the remaining area needed\n",
    "remaining_area = target_area - cumulative_sum[index-1]\n",
    "\n",
    "# Calculate the fraction of remaining area in relation to the data point difference\n",
    "fraction = remaining_area / data_array[index]\n",
    "\n",
    "# Calculate the value of x\n",
    "x = index + fraction\n",
    "\n",
    "# Plotting the triangle\n",
    "plt.plot(data_array, 'b', linewidth=2)\n",
    "plt.fill_between(range(index+1), data_array[:index+1], color='blue', alpha=0.5)\n",
    "plt.xlabel(\"Index\")\n",
    "plt.ylabel(\"Value\")\n",
    "plt.title(\"Triangle\")\n",
    "plt.grid(True)\n",
    "plt.show()\n",
    "\n",
    "# Print the value of x\n",
    "print(\"The value of x is:\", x)\n"
   ]
  },
  {
   "cell_type": "code",
   "execution_count": 24,
   "id": "9d82c202",
   "metadata": {
    "ExecuteTime": {
     "end_time": "2023-07-19T12:19:25.962077Z",
     "start_time": "2023-07-19T12:19:25.740259Z"
    }
   },
   "outputs": [
    {
     "name": "stdout",
     "output_type": "stream",
     "text": [
      "The value of x is: 37.079999999999984\n"
     ]
    },
    {
     "data": {
      "image/png": "[encoded data removed]",
      "text/plain": [
       "<Figure size 640x480 with 1 Axes>"
      ]
     },
     "metadata": {},
     "output_type": "display_data"
    }
   ],
   "source": [
    "arr = [len(text.split()) for text in text_comm]\n",
    "area = 0.8\n",
    "\n",
    "# Creating the histogram and KDE plot using seaborn\n",
    "sns.histplot(arr, kde=True, stat='density', color='blue')\n",
    "plt.xlabel(\"Value\")\n",
    "plt.ylabel(\"Density\")\n",
    "plt.title(\"Histogram and KDE\")\n",
    "plt.grid(True)\n",
    "\n",
    "# Calculate the cumulative distribution function (CDF)\n",
    "n, bins = np.histogram(arr, bins='auto', density=True)\n",
    "cdf = np.cumsum(n * np.diff(bins))\n",
    "\n",
    "x = np.interp(area, cdf, bins[:-1])\n",
    "\n",
    "plt.axvline(x=x, color='red', linestyle='--', label=f'x = {x:.2f}')\n",
    "\n",
    "print(\"The value of x is:\", x)\n",
    "\n",
    "plt.show()\n"
   ]
  },
  {
   "cell_type": "code",
   "execution_count": null,
   "id": "ca3a06d0",
   "metadata": {},
   "outputs": [],
   "source": []
  },
  {
   "cell_type": "code",
   "execution_count": null,
   "id": "3bb6eec0",
   "metadata": {},
   "outputs": [],
   "source": []
  },
  {
   "cell_type": "code",
   "execution_count": 25,
   "id": "fbcbd5d0",
   "metadata": {
    "ExecuteTime": {
     "end_time": "2023-07-19T12:19:25.994004Z",
     "start_time": "2023-07-19T12:19:25.966088Z"
    }
   },
   "outputs": [
    {
     "ename": "NameError",
     "evalue": "name 'comm2' is not defined",
     "output_type": "error",
     "traceback": [
      "\u001b[1;31m---------------------------------------------------------------------------\u001b[0m",
      "\u001b[1;31mNameError\u001b[0m                                 Traceback (most recent call last)",
      "\u001b[1;32m~\\AppData\\Local\\Temp\\ipykernel_18900\\1040060986.py\u001b[0m in \u001b[0;36m<module>\u001b[1;34m\u001b[0m\n\u001b[1;32m----> 1\u001b[1;33m \u001b[0mcomm2\u001b[0m\u001b[1;33m\u001b[0m\u001b[1;33m\u001b[0m\u001b[0m\n\u001b[0m",
      "\u001b[1;31mNameError\u001b[0m: name 'comm2' is not defined"
     ]
    }
   ],
   "source": [
    "comm2"
   ]
  },
  {
   "cell_type": "code",
   "execution_count": null,
   "id": "abac97b2",
   "metadata": {},
   "outputs": [],
   "source": []
  },
  {
   "cell_type": "code",
   "execution_count": null,
   "id": "f32b8652",
   "metadata": {},
   "outputs": [],
   "source": []
  },
  {
   "cell_type": "code",
   "execution_count": null,
   "id": "6ac218ea",
   "metadata": {},
   "outputs": [],
   "source": []
  },
  {
   "cell_type": "code",
   "execution_count": null,
   "id": "5c4dee7f",
   "metadata": {},
   "outputs": [],
   "source": []
  },
  {
   "cell_type": "code",
   "execution_count": null,
   "id": "39b2126f",
   "metadata": {},
   "outputs": [],
   "source": []
  },
  {
   "cell_type": "code",
   "execution_count": null,
   "id": "20e0f007",
   "metadata": {},
   "outputs": [],
   "source": []
  },
  {
   "cell_type": "code",
   "execution_count": null,
   "id": "974ac3d4",
   "metadata": {},
   "outputs": [],
   "source": []
  },
  {
   "cell_type": "code",
   "execution_count": null,
   "id": "a801e821",
   "metadata": {},
   "outputs": [],
   "source": []
  },
  {
   "cell_type": "code",
   "execution_count": null,
   "id": "5641132e",
   "metadata": {},
   "outputs": [],
   "source": []
  },
  {
   "cell_type": "code",
   "execution_count": null,
   "id": "424add59",
   "metadata": {},
   "outputs": [],
   "source": []
  },
  {
   "cell_type": "code",
   "execution_count": null,
   "id": "268e17f8",
   "metadata": {
    "ExecuteTime": {
     "end_time": "2023-07-19T12:19:25.996015Z",
     "start_time": "2023-07-19T12:19:25.996015Z"
    }
   },
   "outputs": [],
   "source": [
    "text_comm"
   ]
  },
  {
   "cell_type": "code",
   "execution_count": null,
   "id": "2745fccc",
   "metadata": {},
   "outputs": [],
   "source": []
  },
  {
   "cell_type": "code",
   "execution_count": null,
   "id": "2ef5ff47",
   "metadata": {},
   "outputs": [],
   "source": []
  },
  {
   "cell_type": "code",
   "execution_count": null,
   "id": "33ec8528",
   "metadata": {},
   "outputs": [],
   "source": []
  },
  {
   "cell_type": "code",
   "execution_count": null,
   "id": "6320591a",
   "metadata": {},
   "outputs": [],
   "source": []
  },
  {
   "cell_type": "code",
   "execution_count": null,
   "id": "5496c95a",
   "metadata": {},
   "outputs": [],
   "source": []
  },
  {
   "cell_type": "markdown",
   "id": "36e9785f",
   "metadata": {},
   "source": [
    "# POS analysis and data cleaning"
   ]
  },
  {
   "cell_type": "code",
   "execution_count": 26,
   "id": "311ebc27",
   "metadata": {
    "ExecuteTime": {
     "end_time": "2023-07-19T12:19:26.122273Z",
     "start_time": "2023-07-19T12:19:26.106977Z"
    }
   },
   "outputs": [],
   "source": [
    "# import spacy\n",
    "\n",
    "# nlp = spacy.load('en_core_web_sm')\n",
    "\n",
    "# pos_tags = []\n",
    "# text = \"After 70 league games spread over a period of a littleover 7 weeks, we finally have four survivors contesting to take home the prized IPL trophy. Will MI be 6th time champs? Can CSK grab a 5th title? Will Gujarat Titans continue their winning spree and defend their title or will Lucknow Super Giantsbecome a first time champions? Lot to play for as IPL 2023 reaches the home stretch with today's Qualifier 1. The Titans cruised through the league phase once again and were comfortably the best team on display, they just didn't confirm their place in the playoffs, but they did so emphatically. On the other hand, the Super Kings had to wait until their final game of the league, but they do have the knack of winning big moments, especially when playing at home. The winner of tonight's game will go through to Sunday's final while the loser will wait for tomorrow's winner in QF 2 on 26th in Ahmedabad. CSK not just have home advantage tonight, but they're the better rested team, having played their last league match on Saturday. On the other hand, Titans's last match spilled into the wee hours of yesterday and they'd to travel as well. Would that be a telling factor today?\"\n",
    "\n",
    "# doc = nlp(text)\n",
    "# tags = [(token.text, token.pos_) for token in doc]\n",
    "# tags"
   ]
  },
  {
   "cell_type": "code",
   "execution_count": 27,
   "id": "5047fc27",
   "metadata": {
    "ExecuteTime": {
     "end_time": "2023-07-19T12:19:27.483545Z",
     "start_time": "2023-07-19T12:19:26.156493Z"
    }
   },
   "outputs": [],
   "source": [
    "import spacy\n",
    "\n",
    "nlp = spacy.load('en_core_web_sm')\n",
    "\n",
    "pos_counts = []\n",
    "\n",
    "for text in text_comm2:\n",
    "    doc = nlp(text)\n",
    "    pos_count = {}\n",
    "\n",
    "    for token in doc:\n",
    "        pos = token.pos_\n",
    "        if pos in pos_count:\n",
    "            pos_count[pos] += 1\n",
    "        else:\n",
    "            pos_count[pos] = 1\n",
    "\n",
    "    pos_counts.append(pos_count)\n",
    "# pos_counts"
   ]
  },
  {
   "cell_type": "code",
   "execution_count": 28,
   "id": "c3be90fa",
   "metadata": {
    "ExecuteTime": {
     "end_time": "2023-07-19T12:19:28.291448Z",
     "start_time": "2023-07-19T12:19:27.486203Z"
    }
   },
   "outputs": [
    {
     "data": {
      "image/png": "[encoded data removed]",
      "text/plain": [
       "<Figure size 1200x800 with 1 Axes>"
      ]
     },
     "metadata": {},
     "output_type": "display_data"
    }
   ],
   "source": [
    "# Extract unique POS tags\n",
    "unique_pos_tags = sorted(set([pos for pos_count in pos_counts for pos in pos_count.keys()]))\n",
    "\n",
    "# Create an array to store the counts for each POS tag\n",
    "pos_counts_array = np.zeros((len(pos_counts), len(unique_pos_tags)))\n",
    "\n",
    "# Fill in the array with the counts\n",
    "for i, pos_count in enumerate(pos_counts):\n",
    "    for j, pos_tag in enumerate(unique_pos_tags):\n",
    "        pos_counts_array[i, j] = pos_count.get(pos_tag, 0)\n",
    "\n",
    "# Plotting the stacked bar chart\n",
    "plt.figure(figsize=(12, 8))\n",
    "plt.bar(range(len(pos_counts)), pos_counts_array.T[0], label=unique_pos_tags[0])\n",
    "\n",
    "for i in range(1, len(unique_pos_tags)):\n",
    "    plt.bar(range(len(pos_counts)), pos_counts_array.T[i], bottom=np.sum(pos_counts_array.T[:i], axis=0),\n",
    "            label=unique_pos_tags[i])\n",
    "\n",
    "plt.xlabel('Line of Text')\n",
    "plt.ylabel('Count')\n",
    "plt.title('POS Tag Distribution for Each Line of Text')\n",
    "plt.xticks(range(len(pos_counts)), range(1, len(pos_counts) + 1))\n",
    "#plt.xticks(range(60,73), range(61,74))\n",
    "plt.legend(loc='upper right')\n",
    "plt.show()"
   ]
  },
  {
   "cell_type": "code",
   "execution_count": 29,
   "id": "40ccfd4b",
   "metadata": {
    "ExecuteTime": {
     "end_time": "2023-07-19T12:19:28.307338Z",
     "start_time": "2023-07-19T12:19:28.291448Z"
    }
   },
   "outputs": [
    {
     "data": {
      "text/plain": [
       "[\"The umpires walk out and we're ready for QF1. Lots of Yellow at the Chepauk and GT will hope to silence them tonight. Is it a big toss to win? Hayden was sure that this was a bat-first track, but both captains did think dew could be a factor. Shami to start for the Titans, a slip in place..\",\n",
       " \": More than runs it's the preparation going into a tournament. That was very good, and it was injury-free unlike last time. The nature of T20 is everytime you can't be consistent. But the idea is to keep our process the same. Assessing the pitch and deciding our approach is important. This time my approach has been to play expressive cricket. Earlier I used to take my time for 10-odd balls. A lot depends on situation and pitch as well. Left-right combo is important. Opposition tactics change because of that. Like bowling an off-spinner or a left-arm spinner. Devon was playing fast bowlers well, but he's also played spin very well throughout the season.\",\n",
       " \"A dry pitch? Dew could be a factor? CSK are batting first after losing the toss. Who could be GT's impact sub? Lots of confusion in the head and looking for some useful tips? Head onto our #FantasyHandbook on Cricbuzz Plus and looks at what we've for you\",\n",
       " \"- We wanted to bowl first, reason being they're an excellent chasing side. We've exploited the conditions slightly better, in  a tournament like this, the boys have adapted really well. It's important to back your straengths, the confidence level should be high. They've been able to do that and that's why we have done well. There was a lot of dew in the last game, but with breeze around, we can't say about it tonight, but it does look dry. We're playing the same team\",\n",
       " \"- We will bowl first. We heard dew will come, so we want to know what exactly to chase down. We were told to relax after getting into the top-2, but we didn't want, want to stay focussed and play good cricket. We are a smart team, we don't play only one way, we make sure to get the best out of the wicket and have adapted. Darshan Nalkande comes in place of Yash Dayal\",\n",
       " \": It's a quick turnaround but it's been a long season. The guys have played really well and it comes down to the semifinal which we all really look forward to. In terms of body-wise, quick turnaround, a bit of preparation yesterday and sorting out the bodies whatever the guys needed to do individually, but everyone seems up for it and ready to go. It (GT's 3-0 H2H record vs CSK) makes a bit of a play, but at the end of the day, it comes down to who really plays well on the day. Sticking to the processes and making sure we are a lot more up for the game than they are. They're a seriously good team and so are we. (On GT's chasing record) It's been a serious record over the last year and a half. I think it's just making sure that the guys are really clear, we started really well last year with chasing and I think it's confidence leading into that. Guys just use each others' flow within. It's just staying really calm and making sure that we are a lot calmer than the opposition and then self-belief knowing that we can actually chase anything.\",\n",
       " \": Very excited, looking forward to tonight, a big game and hopefully we get the win. It's been a good season for me thus far, pretty happy with how things have gone. All of that's now put aside, it's what happens tonight. For me, it's just about keeping it simple and trying to do exactly what I've been doing throughout and backing my gameplan and just building that partnership with Rutu at the top. It's a massive advantage for us playing at home. We've got a good idea how it plays, it's just about adjusting tonight, soaking it all in, playing with freedom and putting the opposition under pressure. They (GT) are a good group, well-rounded, they've got all the bases covered. What we can do tonight to put them under pressure is just be a little bit better up top. If we can put them under pressure early with bat and ball, that could play into our favour tonight.\",\n",
       " \"More from Prakash: 'Joshua Little and Alzarri Joseph are bowling on the side pitch. One of them at least could be involved today. Little had rejoined the squad before the RCB game on Sunday and was one of the few from GT who trained last night here. That said, even Dasun Shanaka is out there bowling right now'\",\n",
       " \"68m on one side and 63m on the other square boundary, the straight boundary is at 78m. Spinners would be licking their lips in the dressing room. It's dry and will definitely turn. There are patches which will offer plenty to the quality\\xa0spinners in both sides. It's dry and should become slow as the match progresses. 170 could be a match-winning total. Bat first, runs on the board in a final will matter, reckons\",\n",
       " \":  Will we see any team changes for tonight's big game? With a place in the final on offer, don't expect either captains to make drastic changes to their playing XI or even their impact substitutes. Continuity has been the keyword for both captains and they should ideally be going with the XIs that have worked so well for them this season.\",\n",
       " \"After 70 league games spread over a period of a littleover 7 weeks, we finally have four survivors contesting to take home the prized IPL trophy. Will MI be 6th time champs? Can CSK grab a 5th title? Will Gujarat Titans continue their winning spree and defend their title or will Lucknow Super Giantsbecome a first time champions? Lot to play for as IPL 2023 reaches the home stretch with today's Qualifier 1. The Titans cruised through the league phase once again and were comfortably the best team on display, they just didn't confirm their place in the playoffs, but they did so emphatically. On the other hand, the Super Kings had to wait until their final game of the league, but they do have the knack of winning big moments, especially when playing at home. The winner of tonight's game will go through to Sunday's final while the loser will wait for tomorrow's winner in QF 2 on 26th in Ahmedabad. CSK not just have home advantage tonight, but they're the better rested team, having played their last league match on Saturday. On the other hand, Titans's last match spilled into the wee hours of yesterday and they'd to travel as well. Would that be a telling factor today?\",\n",
       " 'MS Dhoni and Chennai Super Kings have already done their lap of honour around Chepauk and said their thank yous to the fans. The 2023 season began with the possibility of their demigod of 16 years walking away into the sunset after two months. Each of the seven games at home since represented a cathartic reunion, a celebration and just a grand display of gratitude and reverence for the man who put the team on the highest pedestal of success over the years, and made it to the massive mural at the venue.',\n",
       " 'Tuesday presents the CSK faithful one last chance this season to raise the roof as the team attempts to make a swift entry to what will be their 10th final appearance, and eventually try to match Mumbai Indians for the number of the IPL titles won.',\n",
       " \"Gujarat Titans however, have no time for such emotional storylines. Just a night ago, Hardik Pandya fielded a full strength side even as his team were confirmed to play the first qualifier, and preached the need to maintain good habits and momentum. The cut-throat decision ended in heartbreak for another of India's favourite sons as Virat Kohli sunk into his chair in complete despair late on Sunday night following RCB's league stage ouster. GT were on-brand with the ruthless approach, as it has enabled them to be the only side that has maintained distance from the traffic in the middle of the points table all season.\",\n",
       " \"Any concerns of fatigue due to the short turnaround time between their last league game and the first qualifier are also unfounded. In the first week of May, Pandya's team has played with a shorter gap between two matches - going from an evening fixture in Jaipur on a Friday, travelling back home on Saturday and featuring in the afternoon game on Sunday. And they didn't just turn up, they won that fixture. Any perceived advantage for CSK of playing at a venue where GT haven't this season is also negated by the fact that even they are not too sure about the conditions to expect, while Pandya's side has been excellent on the road with 6 away wins.\",\n",
       " 'A hot evening is in the offing where temperatures will hit the high 30s. The conditions at the venue suited batters early on but the wickets have slowed down as the tournament has progressed. It reflected in the scores made at the venue as the average 1st innings total came down from 182 in the first four games to 150 in the last three. CSK themselves were outspun in their last game there against KKR.',\n",
       " \"With Deepak Chahar back to wicket-taking form in the PowerPlay, the early match-up between him and Shubman Gill will be crucial to the direction the game takes. Gill arrives with scores of 101 and 104* in his last game, and has scored 49 runs in the 37 balls he's faced from Chahar. The CSK pacer however, has dismissed him twice.\",\n",
       " 'Though Ajinkya Rahane has flattered to deceive in home games, he has an admirable record against Mohammed Shami - smashing 86 at a strike rate of 168.63 without getting dismissed. Against Hardik Pandya, Dhoni could turn to Ravindra Jadeja who has got the GT captain out twice in 16 balls and has given away just 18 runs.',\n",
       " \"Vijay Shankar regained full fitness ahead of Sunday's league game against RCB and came in as an impact sub to bat at No.3. Considering Dasun Shanaka hasn't had a lot to do with both bat and ball, GT might turn to Joshua Little, in the XI or as the impact sub. The left-arm pacer, who was away for the Ireland-Bangladesh series, returned to the GT squad ahead of the weekend fixture against RCB. He also trained in Chennai on the eve of the first qualifier.\",\n",
       " \"Ruturaj Gaikwad has hit 73, 53 and 92 against GT but Shami has found ways to put a lid on his scoring early on. The veteran pacer has conceded just 40 runs off the 59 balls he's bowled at the CSK opener. Shami has also been excellent against CSK's top-scorer this season - Devon Conway - dismissing him twice in eight deliveries he's bowled at him in the IPL.\",\n",
       " '\"I think [for] death bowling, confidence is very important. Tushar has developed because he is able to execute under pressure, he has the confidence now. And when you keep playing the same players, it helps. I think the bowlers have also taken the responsibility, Pathirana is quite a natural at bowling at the death but Deshpande has really developed there.\" -']"
      ]
     },
     "execution_count": 29,
     "metadata": {},
     "output_type": "execute_result"
    }
   ],
   "source": [
    "text_comm3 = []\n",
    "\n",
    "for i, text in enumerate(text_comm2):\n",
    "    pos_count = pos_counts[i]\n",
    "    noun_count = pos_count.get('PROPN', 0)\n",
    "    punctuation_count = pos_count.get('PUNCT', 0)\n",
    "    total_count = sum(pos_count.values())\n",
    "\n",
    "    if (noun_count + punctuation_count) / total_count <= 0.6:\n",
    "        text_comm3.append(text)\n",
    "text_comm3"
   ]
  },
  {
   "cell_type": "markdown",
   "id": "dc76e72a",
   "metadata": {},
   "source": [
    "# Calculating word frequency"
   ]
  },
  {
   "cell_type": "code",
   "execution_count": 30,
   "id": "fc7fb60b",
   "metadata": {
    "ExecuteTime": {
     "end_time": "2023-07-19T12:19:29.646483Z",
     "start_time": "2023-07-19T12:19:28.309827Z"
    }
   },
   "outputs": [
    {
     "data": {
      "text/plain": [
       "[[('umpires', 1),\n",
       "  ('walk', 1),\n",
       "  ('ready', 1),\n",
       "  ('lots', 1),\n",
       "  ('yellow', 1),\n",
       "  ('chepauk', 1),\n",
       "  ('gt', 1),\n",
       "  ('hope', 1),\n",
       "  ('silence', 1),\n",
       "  ('tonight', 1),\n",
       "  ('big', 1),\n",
       "  ('toss', 1),\n",
       "  ('win', 1),\n",
       "  ('hayden', 1),\n",
       "  ('sure', 1),\n",
       "  ('bat', 1),\n",
       "  ('track', 1),\n",
       "  ('captains', 1),\n",
       "  ('think', 1),\n",
       "  ('dew', 1),\n",
       "  ('factor', 1),\n",
       "  ('shami', 1),\n",
       "  ('start', 1),\n",
       "  ('titans', 1),\n",
       "  ('slip', 1),\n",
       "  ('place', 1)],\n",
       " [('runs', 1),\n",
       "  ('preparation', 1),\n",
       "  ('going', 1),\n",
       "  ('tournament', 1),\n",
       "  ('good', 1),\n",
       "  ('injury', 1),\n",
       "  ('free', 1),\n",
       "  ('unlike', 1),\n",
       "  ('time', 3),\n",
       "  ('nature', 1),\n",
       "  ('everytime', 1),\n",
       "  ('consistent', 1),\n",
       "  ('idea', 1),\n",
       "  ('process', 1),\n",
       "  ('assessing', 1),\n",
       "  ('pitch', 2),\n",
       "  ('deciding', 1),\n",
       "  ('approach', 2),\n",
       "  ('important', 2),\n",
       "  ('play', 1),\n",
       "  ('expressive', 1),\n",
       "  ('cricket', 1),\n",
       "  ('earlier', 1),\n",
       "  ('odd', 1),\n",
       "  ('balls', 1),\n",
       "  ('lot', 1),\n",
       "  ('depends', 1),\n",
       "  ('situation', 1),\n",
       "  ('left', 2),\n",
       "  ('right', 1),\n",
       "  ('combo', 1),\n",
       "  ('opposition', 1),\n",
       "  ('tactics', 1),\n",
       "  ('change', 1),\n",
       "  ('like', 1),\n",
       "  ('bowling', 1),\n",
       "  ('spinner', 2),\n",
       "  ('arm', 1),\n",
       "  ('devon', 1),\n",
       "  ('playing', 1),\n",
       "  ('fast', 1),\n",
       "  ('bowlers', 1),\n",
       "  ('played', 1),\n",
       "  ('spin', 1),\n",
       "  ('season', 1)],\n",
       " [('dry', 1),\n",
       "  ('pitch', 1),\n",
       "  ('dew', 1),\n",
       "  ('factor', 1),\n",
       "  ('csk', 1),\n",
       "  ('batting', 1),\n",
       "  ('losing', 1),\n",
       "  ('toss', 1),\n",
       "  ('gt', 1),\n",
       "  ('impact', 1),\n",
       "  ('sub', 1),\n",
       "  ('lots', 1),\n",
       "  ('confusion', 1),\n",
       "  ('head', 2),\n",
       "  ('looking', 1),\n",
       "  ('useful', 1),\n",
       "  ('tips', 1),\n",
       "  ('fantasyhandbook', 1),\n",
       "  ('cricbuzz', 1),\n",
       "  ('plus', 1),\n",
       "  ('looks', 1)],\n",
       " [('wanted', 1),\n",
       "  ('bowl', 1),\n",
       "  ('reason', 1),\n",
       "  ('excellent', 1),\n",
       "  ('chasing', 1),\n",
       "  ('exploited', 1),\n",
       "  ('conditions', 1),\n",
       "  ('slightly', 1),\n",
       "  ('better', 1),\n",
       "  ('tournament', 1),\n",
       "  ('like', 1),\n",
       "  ('boys', 1),\n",
       "  ('adapted', 1),\n",
       "  ('important', 1),\n",
       "  ('straengths', 1),\n",
       "  ('confidence', 1),\n",
       "  ('level', 1),\n",
       "  ('high', 1),\n",
       "  ('able', 1),\n",
       "  ('lot', 1),\n",
       "  ('dew', 1),\n",
       "  ('game', 1),\n",
       "  ('breeze', 1),\n",
       "  ('tonight', 1),\n",
       "  ('look', 1),\n",
       "  ('dry', 1),\n",
       "  ('playing', 1),\n",
       "  ('team', 1)],\n",
       " [('bowl', 1),\n",
       "  ('heard', 1),\n",
       "  ('dew', 1),\n",
       "  ('come', 1),\n",
       "  ('want', 3),\n",
       "  ('know', 1),\n",
       "  ('exactly', 1),\n",
       "  ('chase', 1),\n",
       "  ('told', 1),\n",
       "  ('relax', 1),\n",
       "  ('getting', 1),\n",
       "  ('stay', 1),\n",
       "  ('focussed', 1),\n",
       "  ('play', 2),\n",
       "  ('good', 1),\n",
       "  ('cricket', 1),\n",
       "  ('smart', 1),\n",
       "  ('team', 1),\n",
       "  ('way', 1),\n",
       "  ('sure', 1),\n",
       "  ('best', 1),\n",
       "  ('wicket', 1),\n",
       "  ('adapted', 1),\n",
       "  ('darshan', 1),\n",
       "  ('nalkande', 1),\n",
       "  ('comes', 1),\n",
       "  ('place', 1),\n",
       "  ('yash', 1),\n",
       "  ('dayal', 1)],\n",
       " [('quick', 2),\n",
       "  ('turnaround', 2),\n",
       "  ('long', 1),\n",
       "  ('season', 1),\n",
       "  ('guys', 4),\n",
       "  ('played', 1),\n",
       "  ('comes', 2),\n",
       "  ('semifinal', 1),\n",
       "  ('look', 1),\n",
       "  ('forward', 1),\n",
       "  ('terms', 1),\n",
       "  ('body', 1),\n",
       "  ('wise', 1),\n",
       "  ('bit', 2),\n",
       "  ('preparation', 1),\n",
       "  ('yesterday', 1),\n",
       "  ('sorting', 1),\n",
       "  ('bodies', 1),\n",
       "  ('needed', 1),\n",
       "  ('individually', 1),\n",
       "  ('ready', 1),\n",
       "  ('gt', 2),\n",
       "  ('record', 3),\n",
       "  ('vs', 1),\n",
       "  ('csk', 1),\n",
       "  ('makes', 1),\n",
       "  ('play', 1),\n",
       "  ('end', 1),\n",
       "  ('day', 2),\n",
       "  ('plays', 1),\n",
       "  ('sticking', 1),\n",
       "  ('processes', 1),\n",
       "  ('making', 3),\n",
       "  ('sure', 3),\n",
       "  ('lot', 2),\n",
       "  ('game', 1),\n",
       "  ('seriously', 1),\n",
       "  ('good', 1),\n",
       "  ('team', 1),\n",
       "  ('chasing', 2),\n",
       "  ('year', 2),\n",
       "  ('half', 1),\n",
       "  ('think', 2),\n",
       "  ('clear', 1),\n",
       "  ('started', 1),\n",
       "  ('confidence', 1),\n",
       "  ('leading', 1),\n",
       "  ('use', 1),\n",
       "  ('flow', 1),\n",
       "  ('staying', 1),\n",
       "  ('calm', 1),\n",
       "  ('calmer', 1),\n",
       "  ('opposition', 1),\n",
       "  ('self', 1),\n",
       "  ('belief', 1),\n",
       "  ('knowing', 1),\n",
       "  ('actually', 1),\n",
       "  ('chase', 1)],\n",
       " [('excited', 1),\n",
       "  ('looking', 1),\n",
       "  ('forward', 1),\n",
       "  ('tonight', 5),\n",
       "  ('big', 1),\n",
       "  ('game', 1),\n",
       "  ('hopefully', 1),\n",
       "  ('win', 1),\n",
       "  ('good', 3),\n",
       "  ('season', 1),\n",
       "  ('far', 1),\n",
       "  ('pretty', 1),\n",
       "  ('happy', 1),\n",
       "  ('things', 1),\n",
       "  ('gone', 1),\n",
       "  ('aside', 1),\n",
       "  ('happens', 1),\n",
       "  ('keeping', 1),\n",
       "  ('simple', 1),\n",
       "  ('trying', 1),\n",
       "  ('exactly', 1),\n",
       "  ('backing', 1),\n",
       "  ('gameplan', 1),\n",
       "  ('building', 1),\n",
       "  ('partnership', 1),\n",
       "  ('rutu', 1),\n",
       "  ('massive', 1),\n",
       "  ('advantage', 1),\n",
       "  ('playing', 2),\n",
       "  ('home', 1),\n",
       "  ('got', 2),\n",
       "  ('idea', 1),\n",
       "  ('plays', 1),\n",
       "  ('adjusting', 1),\n",
       "  ('soaking', 1),\n",
       "  ('freedom', 1),\n",
       "  ('putting', 1),\n",
       "  ('opposition', 1),\n",
       "  ('pressure', 3),\n",
       "  ('gt', 1),\n",
       "  ('group', 1),\n",
       "  ('rounded', 1),\n",
       "  ('bases', 1),\n",
       "  ('covered', 1),\n",
       "  ('little', 1),\n",
       "  ('bit', 1),\n",
       "  ('better', 1),\n",
       "  ('early', 1),\n",
       "  ('bat', 1),\n",
       "  ('ball', 1),\n",
       "  ('play', 1),\n",
       "  ('favour', 1)],\n",
       " [('prakash', 1),\n",
       "  ('joshua', 1),\n",
       "  ('little', 2),\n",
       "  ('alzarri', 1),\n",
       "  ('joseph', 1),\n",
       "  ('bowling', 2),\n",
       "  ('pitch', 1),\n",
       "  ('involved', 1),\n",
       "  ('today', 1),\n",
       "  ('rejoined', 1),\n",
       "  ('squad', 1),\n",
       "  ('rcb', 1),\n",
       "  ('game', 1),\n",
       "  ('sunday', 1),\n",
       "  ('gt', 1),\n",
       "  ('trained', 1),\n",
       "  ('night', 1),\n",
       "  ('said', 1),\n",
       "  ('dasun', 1),\n",
       "  ('shanaka', 1),\n",
       "  ('right', 1)],\n",
       " [('m', 2),\n",
       "  ('square', 1),\n",
       "  ('boundary', 2),\n",
       "  ('straight', 1),\n",
       "  ('spinners', 2),\n",
       "  ('licking', 1),\n",
       "  ('lips', 1),\n",
       "  ('dressing', 1),\n",
       "  ('room', 1),\n",
       "  ('dry', 2),\n",
       "  ('definitely', 1),\n",
       "  ('turn', 1),\n",
       "  ('patches', 1),\n",
       "  ('offer', 1),\n",
       "  ('plenty', 1),\n",
       "  ('quality', 1),\n",
       "  ('sides', 1),\n",
       "  ('slow', 1),\n",
       "  ('match', 2),\n",
       "  ('progresses', 1),\n",
       "  ('winning', 1),\n",
       "  ('total', 1),\n",
       "  ('bat', 1),\n",
       "  ('runs', 1),\n",
       "  ('board', 1),\n",
       "  ('final', 1),\n",
       "  ('matter', 1),\n",
       "  ('reckons', 1)],\n",
       " [('team', 1),\n",
       "  ('changes', 2),\n",
       "  ('tonight', 1),\n",
       "  ('big', 1),\n",
       "  ('game', 1),\n",
       "  ('place', 1),\n",
       "  ('final', 1),\n",
       "  ('offer', 1),\n",
       "  ('expect', 1),\n",
       "  ('captains', 2),\n",
       "  ('drastic', 1),\n",
       "  ('playing', 1),\n",
       "  ('xi', 1),\n",
       "  ('impact', 1),\n",
       "  ('substitutes', 1),\n",
       "  ('continuity', 1),\n",
       "  ('keyword', 1),\n",
       "  ('ideally', 1),\n",
       "  ('going', 1),\n",
       "  ('xis', 1),\n",
       "  ('worked', 1),\n",
       "  ('season', 1)],\n",
       " [('league', 4),\n",
       "  ('games', 1),\n",
       "  ('spread', 1),\n",
       "  ('period', 1),\n",
       "  ('littleover', 1),\n",
       "  ('weeks', 1),\n",
       "  ('finally', 1),\n",
       "  ('survivors', 1),\n",
       "  ('contesting', 1),\n",
       "  ('home', 4),\n",
       "  ('prized', 1),\n",
       "  ('ipl', 2),\n",
       "  ('trophy', 1),\n",
       "  ('mi', 1),\n",
       "  ('time', 2),\n",
       "  ('champs', 1),\n",
       "  ('csk', 2),\n",
       "  ('grab', 1),\n",
       "  ('title', 2),\n",
       "  ('gujarat', 1),\n",
       "  ('titans', 3),\n",
       "  ('continue', 1),\n",
       "  ('winning', 2),\n",
       "  ('spree', 1),\n",
       "  ('defend', 1),\n",
       "  ('lucknow', 1),\n",
       "  ('super', 2),\n",
       "  ('giantsbecome', 1),\n",
       "  ('champions', 1),\n",
       "  ('lot', 1),\n",
       "  ('play', 1),\n",
       "  ('reaches', 1),\n",
       "  ('stretch', 1),\n",
       "  ('today', 2),\n",
       "  ('qualifier', 1),\n",
       "  ('cruised', 1),\n",
       "  ('phase', 1),\n",
       "  ('comfortably', 1),\n",
       "  ('best', 1),\n",
       "  ('team', 2),\n",
       "  ('display', 1),\n",
       "  ('confirm', 1),\n",
       "  ('place', 1),\n",
       "  ('playoffs', 1),\n",
       "  ('emphatically', 1),\n",
       "  ('hand', 2),\n",
       "  ('kings', 1),\n",
       "  ('wait', 2),\n",
       "  ('final', 2),\n",
       "  ('game', 2),\n",
       "  ('knack', 1),\n",
       "  ('big', 1),\n",
       "  ('moments', 1),\n",
       "  ('especially', 1),\n",
       "  ('playing', 1),\n",
       "  ('winner', 2),\n",
       "  ('tonight', 2),\n",
       "  ('sunday', 1),\n",
       "  ('loser', 1),\n",
       "  ('tomorrow', 1),\n",
       "  ('qf', 1),\n",
       "  ('ahmedabad', 1),\n",
       "  ('advantage', 1),\n",
       "  ('better', 1),\n",
       "  ('rested', 1),\n",
       "  ('having', 1),\n",
       "  ('played', 1),\n",
       "  ('match', 2),\n",
       "  ('saturday', 1),\n",
       "  ('spilled', 1),\n",
       "  ('wee', 1),\n",
       "  ('hours', 1),\n",
       "  ('yesterday', 1),\n",
       "  ('travel', 1),\n",
       "  ('telling', 1),\n",
       "  ('factor', 1)],\n",
       " [('ms', 1),\n",
       "  ('dhoni', 1),\n",
       "  ('chennai', 1),\n",
       "  ('super', 1),\n",
       "  ('kings', 1),\n",
       "  ('lap', 1),\n",
       "  ('honour', 1),\n",
       "  ('chepauk', 1),\n",
       "  ('said', 1),\n",
       "  ('thank', 1),\n",
       "  ('yous', 1),\n",
       "  ('fans', 1),\n",
       "  ('season', 1),\n",
       "  ('began', 1),\n",
       "  ('possibility', 1),\n",
       "  ('demigod', 1),\n",
       "  ('years', 2),\n",
       "  ('walking', 1),\n",
       "  ('away', 1),\n",
       "  ('sunset', 1),\n",
       "  ('months', 1),\n",
       "  ('seven', 1),\n",
       "  ('games', 1),\n",
       "  ('home', 1),\n",
       "  ('represented', 1),\n",
       "  ('cathartic', 1),\n",
       "  ('reunion', 1),\n",
       "  ('celebration', 1),\n",
       "  ('grand', 1),\n",
       "  ('display', 1),\n",
       "  ('gratitude', 1),\n",
       "  ('reverence', 1),\n",
       "  ('man', 1),\n",
       "  ('team', 1),\n",
       "  ('highest', 1),\n",
       "  ('pedestal', 1),\n",
       "  ('success', 1),\n",
       "  ('massive', 1),\n",
       "  ('mural', 1),\n",
       "  ('venue', 1)],\n",
       " [('tuesday', 1),\n",
       "  ('presents', 1),\n",
       "  ('csk', 1),\n",
       "  ('faithful', 1),\n",
       "  ('chance', 1),\n",
       "  ('season', 1),\n",
       "  ('raise', 1),\n",
       "  ('roof', 1),\n",
       "  ('team', 1),\n",
       "  ('attempts', 1),\n",
       "  ('swift', 1),\n",
       "  ('entry', 1),\n",
       "  ('final', 1),\n",
       "  ('appearance', 1),\n",
       "  ('eventually', 1),\n",
       "  ('try', 1),\n",
       "  ('match', 1),\n",
       "  ('mumbai', 1),\n",
       "  ('indians', 1),\n",
       "  ('number', 1),\n",
       "  ('ipl', 1),\n",
       "  ('titles', 1),\n",
       "  ('won', 1)],\n",
       " [('gujarat', 1),\n",
       "  ('titans', 1),\n",
       "  ('time', 1),\n",
       "  ('emotional', 1),\n",
       "  ('storylines', 1),\n",
       "  ('night', 2),\n",
       "  ('ago', 1),\n",
       "  ('hardik', 1),\n",
       "  ('pandya', 1),\n",
       "  ('fielded', 1),\n",
       "  ('strength', 1),\n",
       "  ('team', 1),\n",
       "  ('confirmed', 1),\n",
       "  ('play', 1),\n",
       "  ('qualifier', 1),\n",
       "  ('preached', 1),\n",
       "  ('need', 1),\n",
       "  ('maintain', 1),\n",
       "  ('good', 1),\n",
       "  ('habits', 1),\n",
       "  ('momentum', 1),\n",
       "  ('cut', 1),\n",
       "  ('throat', 1),\n",
       "  ('decision', 1),\n",
       "  ('ended', 1),\n",
       "  ('heartbreak', 1),\n",
       "  ('india', 1),\n",
       "  ('favourite', 1),\n",
       "  ('sons', 1),\n",
       "  ('virat', 1),\n",
       "  ('kohli', 1),\n",
       "  ('sunk', 1),\n",
       "  ('chair', 1),\n",
       "  ('complete', 1),\n",
       "  ('despair', 1),\n",
       "  ('late', 1),\n",
       "  ('sunday', 1),\n",
       "  ('following', 1),\n",
       "  ('rcb', 1),\n",
       "  ('league', 1),\n",
       "  ('stage', 1),\n",
       "  ('ouster', 1),\n",
       "  ('gt', 1),\n",
       "  ('brand', 1),\n",
       "  ('ruthless', 1),\n",
       "  ('approach', 1),\n",
       "  ('enabled', 1),\n",
       "  ('maintained', 1),\n",
       "  ('distance', 1),\n",
       "  ('traffic', 1),\n",
       "  ('middle', 1),\n",
       "  ('points', 1),\n",
       "  ('table', 1),\n",
       "  ('season', 1)],\n",
       " [('concerns', 1),\n",
       "  ('fatigue', 1),\n",
       "  ('short', 1),\n",
       "  ('turnaround', 1),\n",
       "  ('time', 1),\n",
       "  ('league', 1),\n",
       "  ('game', 2),\n",
       "  ('qualifier', 1),\n",
       "  ('unfounded', 1),\n",
       "  ('week', 1),\n",
       "  ('pandya', 2),\n",
       "  ('team', 1),\n",
       "  ('played', 1),\n",
       "  ('shorter', 1),\n",
       "  ('gap', 1),\n",
       "  ('matches', 1),\n",
       "  ('going', 1),\n",
       "  ('evening', 1),\n",
       "  ('fixture', 2),\n",
       "  ('jaipur', 1),\n",
       "  ('friday', 1),\n",
       "  ('travelling', 1),\n",
       "  ('home', 1),\n",
       "  ('saturday', 1),\n",
       "  ('featuring', 1),\n",
       "  ('afternoon', 1),\n",
       "  ('sunday', 1),\n",
       "  ('turn', 1),\n",
       "  ('won', 1),\n",
       "  ('perceived', 1),\n",
       "  ('advantage', 1),\n",
       "  ('csk', 1),\n",
       "  ('playing', 1),\n",
       "  ('venue', 1),\n",
       "  ('gt', 1),\n",
       "  ('season', 1),\n",
       "  ('negated', 1),\n",
       "  ('fact', 1),\n",
       "  ('sure', 1),\n",
       "  ('conditions', 1),\n",
       "  ('expect', 1),\n",
       "  ('excellent', 1),\n",
       "  ('road', 1),\n",
       "  ('away', 1),\n",
       "  ('wins', 1)],\n",
       " [('hot', 1),\n",
       "  ('evening', 1),\n",
       "  ('offing', 1),\n",
       "  ('temperatures', 1),\n",
       "  ('hit', 1),\n",
       "  ('high', 1),\n",
       "  ('conditions', 1),\n",
       "  ('venue', 2),\n",
       "  ('suited', 1),\n",
       "  ('batters', 1),\n",
       "  ('early', 1),\n",
       "  ('wickets', 1),\n",
       "  ('slowed', 1),\n",
       "  ('tournament', 1),\n",
       "  ('progressed', 1),\n",
       "  ('reflected', 1),\n",
       "  ('scores', 1),\n",
       "  ('average', 1),\n",
       "  ('innings', 1),\n",
       "  ('total', 1),\n",
       "  ('came', 1),\n",
       "  ('games', 1),\n",
       "  ('csk', 1),\n",
       "  ('outspun', 1),\n",
       "  ('game', 1),\n",
       "  ('kkr', 1)],\n",
       " [('deepak', 1),\n",
       "  ('chahar', 2),\n",
       "  ('wicket', 1),\n",
       "  ('taking', 1),\n",
       "  ('form', 1),\n",
       "  ('powerplay', 1),\n",
       "  ('early', 1),\n",
       "  ('match', 1),\n",
       "  ('shubman', 1),\n",
       "  ('gill', 2),\n",
       "  ('crucial', 1),\n",
       "  ('direction', 1),\n",
       "  ('game', 2),\n",
       "  ('takes', 1),\n",
       "  ('arrives', 1),\n",
       "  ('scores', 1),\n",
       "  ('scored', 1),\n",
       "  ('runs', 1),\n",
       "  ('balls', 1),\n",
       "  ('faced', 1),\n",
       "  ('csk', 1),\n",
       "  ('pacer', 1),\n",
       "  ('dismissed', 1),\n",
       "  ('twice', 1)],\n",
       " [('ajinkya', 1),\n",
       "  ('rahane', 1),\n",
       "  ('flattered', 1),\n",
       "  ('deceive', 1),\n",
       "  ('home', 1),\n",
       "  ('games', 1),\n",
       "  ('admirable', 1),\n",
       "  ('record', 1),\n",
       "  ('mohammed', 1),\n",
       "  ('shami', 1),\n",
       "  ('smashing', 1),\n",
       "  ('strike', 1),\n",
       "  ('rate', 1),\n",
       "  ('getting', 1),\n",
       "  ('dismissed', 1),\n",
       "  ('hardik', 1),\n",
       "  ('pandya', 1),\n",
       "  ('dhoni', 1),\n",
       "  ('turn', 1),\n",
       "  ('ravindra', 1),\n",
       "  ('jadeja', 1),\n",
       "  ('got', 1),\n",
       "  ('gt', 1),\n",
       "  ('captain', 1),\n",
       "  ('twice', 1),\n",
       "  ('balls', 1),\n",
       "  ('given', 1),\n",
       "  ('away', 1),\n",
       "  ('runs', 1)],\n",
       " [('vijay', 1),\n",
       "  ('shankar', 1),\n",
       "  ('regained', 1),\n",
       "  ('fitness', 1),\n",
       "  ('ahead', 2),\n",
       "  ('sunday', 1),\n",
       "  ('league', 1),\n",
       "  ('game', 1),\n",
       "  ('rcb', 2),\n",
       "  ('came', 1),\n",
       "  ('impact', 2),\n",
       "  ('sub', 2),\n",
       "  ('bat', 2),\n",
       "  ('considering', 1),\n",
       "  ('dasun', 1),\n",
       "  ('shanaka', 1),\n",
       "  ('lot', 1),\n",
       "  ('ball', 1),\n",
       "  ('gt', 2),\n",
       "  ('turn', 1),\n",
       "  ('joshua', 1),\n",
       "  ('little', 1),\n",
       "  ('xi', 1),\n",
       "  ('left', 1),\n",
       "  ('arm', 1),\n",
       "  ('pacer', 1),\n",
       "  ('away', 1),\n",
       "  ('ireland', 1),\n",
       "  ('bangladesh', 1),\n",
       "  ('series', 1),\n",
       "  ('returned', 1),\n",
       "  ('squad', 1),\n",
       "  ('weekend', 1),\n",
       "  ('fixture', 1),\n",
       "  ('trained', 1),\n",
       "  ('chennai', 1),\n",
       "  ('eve', 1),\n",
       "  ('qualifier', 1)],\n",
       " [('ruturaj', 1),\n",
       "  ('gaikwad', 1),\n",
       "  ('hit', 1),\n",
       "  ('gt', 1),\n",
       "  ('shami', 2),\n",
       "  ('found', 1),\n",
       "  ('ways', 1),\n",
       "  ('lid', 1),\n",
       "  ('scoring', 1),\n",
       "  ('early', 1),\n",
       "  ('veteran', 1),\n",
       "  ('pacer', 1),\n",
       "  ('conceded', 1),\n",
       "  ('runs', 1),\n",
       "  ('balls', 1),\n",
       "  ('bowled', 2),\n",
       "  ('csk', 2),\n",
       "  ('opener', 1),\n",
       "  ('excellent', 1),\n",
       "  ('scorer', 1),\n",
       "  ('season', 1),\n",
       "  ('devon', 1),\n",
       "  ('conway', 1),\n",
       "  ('dismissing', 1),\n",
       "  ('twice', 1),\n",
       "  ('deliveries', 1),\n",
       "  ('ipl', 1)],\n",
       " [('think', 2),\n",
       "  ('death', 2),\n",
       "  ('bowling', 2),\n",
       "  ('confidence', 2),\n",
       "  ('important', 1),\n",
       "  ('tushar', 1),\n",
       "  ('developed', 2),\n",
       "  ('able', 1),\n",
       "  ('execute', 1),\n",
       "  ('pressure', 1),\n",
       "  ('playing', 1),\n",
       "  ('players', 1),\n",
       "  ('helps', 1),\n",
       "  ('bowlers', 1),\n",
       "  ('taken', 1),\n",
       "  ('responsibility', 1),\n",
       "  ('pathirana', 1),\n",
       "  ('natural', 1),\n",
       "  ('deshpande', 1)]]"
      ]
     },
     "execution_count": 30,
     "metadata": {},
     "output_type": "execute_result"
    }
   ],
   "source": [
    "nlp = spacy.load('en_core_web_sm')\n",
    "\n",
    "word_counts = []\n",
    "for i in range(len(text_comm3)):\n",
    "    doc = nlp(text_comm3[i])\n",
    "    # Calculate word frequencies, excluding stop words\n",
    "    word_frequencies = {}\n",
    "    for token in doc:\n",
    "        word = token.text.lower()\n",
    "        if word.isalpha() and word not in STOP_WORDS:\n",
    "            if word not in word_frequencies:\n",
    "                word_frequencies[word] = 1\n",
    "            else:\n",
    "                word_frequencies[word] += 1\n",
    "\n",
    "    all_word_frequencies = [(word, freq) for word, freq in word_frequencies.items()]\n",
    "    #print('received values for line' + str(i))\n",
    "    word_counts.append(all_word_frequencies)\n",
    "word_counts"
   ]
  },
  {
   "cell_type": "code",
   "execution_count": 31,
   "id": "8dd7c811",
   "metadata": {
    "ExecuteTime": {
     "end_time": "2023-07-19T12:19:29.662297Z",
     "start_time": "2023-07-19T12:19:29.646483Z"
    }
   },
   "outputs": [
    {
     "data": {
      "text/plain": [
       "\"After 70 league games spread over a period of a littleover 7 weeks, we finally have four survivors contesting to take home the prized IPL trophy. Will MI be 6th time champs? Can CSK grab a 5th title? Will Gujarat Titans continue their winning spree and defend their title or will Lucknow Super Giantsbecome a first time champions? Lot to play for as IPL 2023 reaches the home stretch with today's Qualifier 1. The Titans cruised through the league phase once again and were comfortably the best team on display, they just didn't confirm their place in the playoffs, but they did so emphatically. On the other hand, the Super Kings had to wait until their final game of the league, but they do have the knack of winning big moments, especially when playing at home. The winner of tonight's game will go through to Sunday's final while the loser will wait for tomorrow's winner in QF 2 on 26th in Ahmedabad. CSK not just have home advantage tonight, but they're the better rested team, having played their last league match on Saturday. On the other hand, Titans's last match spilled into the wee hours of yesterday and they'd to travel as well. Would that be a telling factor today?\""
      ]
     },
     "execution_count": 31,
     "metadata": {},
     "output_type": "execute_result"
    }
   ],
   "source": [
    "text_comm3[-11]"
   ]
  },
  {
   "cell_type": "code",
   "execution_count": 32,
   "id": "031876de",
   "metadata": {
    "ExecuteTime": {
     "end_time": "2023-07-19T12:19:29.678038Z",
     "start_time": "2023-07-19T12:19:29.662297Z"
    }
   },
   "outputs": [
    {
     "data": {
      "text/plain": [
       "[]"
      ]
     },
     "execution_count": 32,
     "metadata": {},
     "output_type": "execute_result"
    }
   ],
   "source": [
    "text_comm2[60:65]"
   ]
  },
  {
   "cell_type": "code",
   "execution_count": null,
   "id": "bf71c510",
   "metadata": {},
   "outputs": [],
   "source": []
  },
  {
   "cell_type": "code",
   "execution_count": null,
   "id": "c1b45b5e",
   "metadata": {},
   "outputs": [],
   "source": []
  },
  {
   "cell_type": "code",
   "execution_count": null,
   "id": "82942da2",
   "metadata": {},
   "outputs": [],
   "source": []
  },
  {
   "cell_type": "code",
   "execution_count": null,
   "id": "f852e315",
   "metadata": {},
   "outputs": [],
   "source": []
  },
  {
   "cell_type": "code",
   "execution_count": null,
   "id": "0de6c1de",
   "metadata": {},
   "outputs": [],
   "source": []
  },
  {
   "cell_type": "code",
   "execution_count": null,
   "id": "67b43ecc",
   "metadata": {},
   "outputs": [],
   "source": []
  },
  {
   "cell_type": "code",
   "execution_count": null,
   "id": "224ac8ee",
   "metadata": {},
   "outputs": [],
   "source": []
  },
  {
   "cell_type": "code",
   "execution_count": null,
   "id": "2dfaef3c",
   "metadata": {},
   "outputs": [],
   "source": []
  },
  {
   "cell_type": "code",
   "execution_count": null,
   "id": "356e8c6b",
   "metadata": {},
   "outputs": [],
   "source": []
  },
  {
   "cell_type": "code",
   "execution_count": null,
   "id": "6d70de4e",
   "metadata": {},
   "outputs": [],
   "source": []
  },
  {
   "cell_type": "code",
   "execution_count": null,
   "id": "31a15c57",
   "metadata": {},
   "outputs": [],
   "source": []
  },
  {
   "cell_type": "code",
   "execution_count": null,
   "id": "d0e8596f",
   "metadata": {},
   "outputs": [],
   "source": []
  },
  {
   "cell_type": "code",
   "execution_count": null,
   "id": "3240fe2b",
   "metadata": {},
   "outputs": [],
   "source": []
  },
  {
   "cell_type": "code",
   "execution_count": null,
   "id": "26be8f91",
   "metadata": {},
   "outputs": [],
   "source": []
  },
  {
   "cell_type": "code",
   "execution_count": 33,
   "id": "1270b4a3",
   "metadata": {
    "ExecuteTime": {
     "end_time": "2023-07-19T12:19:29.693937Z",
     "start_time": "2023-07-19T12:19:29.678038Z"
    }
   },
   "outputs": [
    {
     "data": {
      "text/plain": [
       "[59,\n",
       " 7,\n",
       " 1,\n",
       " 1,\n",
       " 2,\n",
       " 5,\n",
       " 2,\n",
       " 114,\n",
       " 48,\n",
       " 4,\n",
       " 10,\n",
       " 3,\n",
       " 10,\n",
       " 10,\n",
       " 2,\n",
       " 1,\n",
       " 1,\n",
       " 2,\n",
       " 5,\n",
       " 1,\n",
       " 1,\n",
       " 2,\n",
       " 5,\n",
       " 1,\n",
       " 2,\n",
       " 24,\n",
       " 3,\n",
       " 24,\n",
       " 2,\n",
       " 85,\n",
       " 2,\n",
       " 75,\n",
       " 11,\n",
       " 2,\n",
       " 201,\n",
       " 2,\n",
       " 160,\n",
       " 58,\n",
       " 75,\n",
       " 2,\n",
       " 5,\n",
       " 6,\n",
       " 2,\n",
       " 27,\n",
       " 2,\n",
       " 62,\n",
       " 3,\n",
       " 210,\n",
       " 7,\n",
       " 1,\n",
       " 1,\n",
       " 2,\n",
       " 5,\n",
       " 1,\n",
       " 1,\n",
       " 2,\n",
       " 93,\n",
       " 46,\n",
       " 106,\n",
       " 119,\n",
       " 34,\n",
       " 1,\n",
       " 13,\n",
       " 1,\n",
       " 4,\n",
       " 3,\n",
       " 75,\n",
       " 30,\n",
       " 1,\n",
       " 22,\n",
       " 2,\n",
       " 3,\n",
       " 1,\n",
       " 12,\n",
       " 3,\n",
       " 60,\n",
       " 57,\n",
       " 2,\n",
       " 26,\n",
       " 2,\n",
       " 1,\n",
       " 85,\n",
       " 3,\n",
       " 69,\n",
       " 45,\n",
       " 2,\n",
       " 30,\n",
       " 3,\n",
       " 34,\n",
       " 28,\n",
       " 36,\n",
       " 3,\n",
       " 39,\n",
       " 2,\n",
       " 4,\n",
       " 61,\n",
       " 2,\n",
       " 6,\n",
       " 9,\n",
       " 2,\n",
       " 1,\n",
       " 1,\n",
       " 2,\n",
       " 5,\n",
       " 1,\n",
       " 1,\n",
       " 2,\n",
       " 5,\n",
       " 1,\n",
       " 3,\n",
       " 52,\n",
       " 2,\n",
       " 50]"
      ]
     },
     "execution_count": 33,
     "metadata": {},
     "output_type": "execute_result"
    }
   ],
   "source": [
    "num_words = [len(text.split()) for text in text_comm]\n",
    "num_words"
   ]
  },
  {
   "cell_type": "code",
   "execution_count": 34,
   "id": "c1bb43cc",
   "metadata": {
    "ExecuteTime": {
     "end_time": "2023-07-19T12:19:29.709871Z",
     "start_time": "2023-07-19T12:19:29.696445Z"
    }
   },
   "outputs": [],
   "source": [
    "import numpy as np\n",
    "\n",
    "def calculate_value_for_area(data, area_percentage):\n",
    "    sorted_data = np.sort(data)\n",
    "    total_points = len(sorted_data)\n",
    "    rank = int((total_points * area_percentage) / 100)\n",
    "    \n",
    "    if rank == 0:\n",
    "        return sorted_data[0]\n",
    "    elif rank >= total_points:\n",
    "        return sorted_data[-1]\n",
    "    else:\n",
    "        rank_floor = int(np.floor(rank))\n",
    "        rank_decimal = rank - rank_floor\n",
    "        value = sorted_data[rank_floor - 1] + (rank_decimal * (sorted_data[rank_floor] - sorted_data[rank_floor - 1]))\n",
    "        return value"
   ]
  },
  {
   "cell_type": "code",
   "execution_count": 35,
   "id": "f2988430",
   "metadata": {
    "ExecuteTime": {
     "end_time": "2023-07-19T12:19:29.725884Z",
     "start_time": "2023-07-19T12:19:29.711878Z"
    }
   },
   "outputs": [
    {
     "name": "stdout",
     "output_type": "stream",
     "text": [
      "The value for 100.0% area below the curve is: 210\n"
     ]
    }
   ],
   "source": [
    "area = 99.999999999999999999999999999999999999999\n",
    "value = calculate_value_for_area(num_words, area)\n",
    "print(f\"The value for {area}% area below the curve is: {value}\")"
   ]
  },
  {
   "cell_type": "code",
   "execution_count": null,
   "id": "1c9ebe66",
   "metadata": {},
   "outputs": [],
   "source": []
  },
  {
   "cell_type": "code",
   "execution_count": null,
   "id": "fd801f97",
   "metadata": {},
   "outputs": [],
   "source": []
  },
  {
   "cell_type": "code",
   "execution_count": null,
   "id": "99b49d1f",
   "metadata": {},
   "outputs": [],
   "source": []
  },
  {
   "cell_type": "code",
   "execution_count": null,
   "id": "441f5ca9",
   "metadata": {},
   "outputs": [],
   "source": []
  },
  {
   "cell_type": "code",
   "execution_count": null,
   "id": "ce039924",
   "metadata": {},
   "outputs": [],
   "source": []
  },
  {
   "cell_type": "code",
   "execution_count": null,
   "id": "cbd4ca7c",
   "metadata": {},
   "outputs": [],
   "source": []
  },
  {
   "cell_type": "code",
   "execution_count": 37,
   "id": "2f0befb4",
   "metadata": {
    "ExecuteTime": {
     "end_time": "2023-07-19T12:19:37.596384Z",
     "start_time": "2023-07-19T12:19:37.566613Z"
    }
   },
   "outputs": [
    {
     "data": {
      "text/plain": [
       "[\"The umpires walk out and we're ready for QF1. Lots of Yellow at the Chepauk and GT will hope to silence them tonight. Is it a big toss to win? Hayden was sure that this was a bat-first track, but both captains did think dew could be a factor. Shami to start for the Titans, a slip in place..\",\n",
       " \": More than runs it's the preparation going into a tournament. That was very good, and it was injury-free unlike last time. The nature of T20 is everytime you can't be consistent. But the idea is to keep our process the same. Assessing the pitch and deciding our approach is important. This time my approach has been to play expressive cricket. Earlier I used to take my time for 10-odd balls. A lot depends on situation and pitch as well. Left-right combo is important. Opposition tactics change because of that. Like bowling an off-spinner or a left-arm spinner. Devon was playing fast bowlers well, but he's also played spin very well throughout the season.\",\n",
       " \"A dry pitch? Dew could be a factor? CSK are batting first after losing the toss. Who could be GT's impact sub? Lots of confusion in the head and looking for some useful tips? Head onto our #FantasyHandbook on Cricbuzz Plus and looks at what we've for you\",\n",
       " \"- We wanted to bowl first, reason being they're an excellent chasing side. We've exploited the conditions slightly better, in  a tournament like this, the boys have adapted really well. It's important to back your straengths, the confidence level should be high. They've been able to do that and that's why we have done well. There was a lot of dew in the last game, but with breeze around, we can't say about it tonight, but it does look dry. We're playing the same team\",\n",
       " \"- We will bowl first. We heard dew will come, so we want to know what exactly to chase down. We were told to relax after getting into the top-2, but we didn't want, want to stay focussed and play good cricket. We are a smart team, we don't play only one way, we make sure to get the best out of the wicket and have adapted. Darshan Nalkande comes in place of Yash Dayal\",\n",
       " \": It's a quick turnaround but it's been a long season. The guys have played really well and it comes down to the semifinal which we all really look forward to. In terms of body-wise, quick turnaround, a bit of preparation yesterday and sorting out the bodies whatever the guys needed to do individually, but everyone seems up for it and ready to go. It (GT's 3-0 H2H record vs CSK) makes a bit of a play, but at the end of the day, it comes down to who really plays well on the day. Sticking to the processes and making sure we are a lot more up for the game than they are. They're a seriously good team and so are we. (On GT's chasing record) It's been a serious record over the last year and a half. I think it's just making sure that the guys are really clear, we started really well last year with chasing and I think it's confidence leading into that. Guys just use each others' flow within. It's just staying really calm and making sure that we are a lot calmer than the opposition and then self-belief knowing that we can actually chase anything.\",\n",
       " \": Very excited, looking forward to tonight, a big game and hopefully we get the win. It's been a good season for me thus far, pretty happy with how things have gone. All of that's now put aside, it's what happens tonight. For me, it's just about keeping it simple and trying to do exactly what I've been doing throughout and backing my gameplan and just building that partnership with Rutu at the top. It's a massive advantage for us playing at home. We've got a good idea how it plays, it's just about adjusting tonight, soaking it all in, playing with freedom and putting the opposition under pressure. They (GT) are a good group, well-rounded, they've got all the bases covered. What we can do tonight to put them under pressure is just be a little bit better up top. If we can put them under pressure early with bat and ball, that could play into our favour tonight.\",\n",
       " \"More from Prakash: 'Joshua Little and Alzarri Joseph are bowling on the side pitch. One of them at least could be involved today. Little had rejoined the squad before the RCB game on Sunday and was one of the few from GT who trained last night here. That said, even Dasun Shanaka is out there bowling right now'\",\n",
       " \"68m on one side and 63m on the other square boundary, the straight boundary is at 78m. Spinners would be licking their lips in the dressing room. It's dry and will definitely turn. There are patches which will offer plenty to the quality\\xa0spinners in both sides. It's dry and should become slow as the match progresses. 170 could be a match-winning total. Bat first, runs on the board in a final will matter, reckons\",\n",
       " \":  Will we see any team changes for tonight's big game? With a place in the final on offer, don't expect either captains to make drastic changes to their playing XI or even their impact substitutes. Continuity has been the keyword for both captains and they should ideally be going with the XIs that have worked so well for them this season.\",\n",
       " \"After 70 league games spread over a period of a littleover 7 weeks, we finally have four survivors contesting to take home the prized IPL trophy. Will MI be 6th time champs? Can CSK grab a 5th title? Will Gujarat Titans continue their winning spree and defend their title or will Lucknow Super Giantsbecome a first time champions? Lot to play for as IPL 2023 reaches the home stretch with today's Qualifier 1. The Titans cruised through the league phase once again and were comfortably the best team on display, they just didn't confirm their place in the playoffs, but they did so emphatically. On the other hand, the Super Kings had to wait until their final game of the league, but they do have the knack of winning big moments, especially when playing at home. The winner of tonight's game will go through to Sunday's final while the loser will wait for tomorrow's winner in QF 2 on 26th in Ahmedabad. CSK not just have home advantage tonight, but they're the better rested team, having played their last league match on Saturday. On the other hand, Titans's last match spilled into the wee hours of yesterday and they'd to travel as well. Would that be a telling factor today?\",\n",
       " 'MS Dhoni and Chennai Super Kings have already done their lap of honour around Chepauk and said their thank yous to the fans. The 2023 season began with the possibility of their demigod of 16 years walking away into the sunset after two months. Each of the seven games at home since represented a cathartic reunion, a celebration and just a grand display of gratitude and reverence for the man who put the team on the highest pedestal of success over the years, and made it to the massive mural at the venue.',\n",
       " 'Tuesday presents the CSK faithful one last chance this season to raise the roof as the team attempts to make a swift entry to what will be their 10th final appearance, and eventually try to match Mumbai Indians for the number of the IPL titles won.',\n",
       " \"Gujarat Titans however, have no time for such emotional storylines. Just a night ago, Hardik Pandya fielded a full strength side even as his team were confirmed to play the first qualifier, and preached the need to maintain good habits and momentum. The cut-throat decision ended in heartbreak for another of India's favourite sons as Virat Kohli sunk into his chair in complete despair late on Sunday night following RCB's league stage ouster. GT were on-brand with the ruthless approach, as it has enabled them to be the only side that has maintained distance from the traffic in the middle of the points table all season.\",\n",
       " \"Any concerns of fatigue due to the short turnaround time between their last league game and the first qualifier are also unfounded. In the first week of May, Pandya's team has played with a shorter gap between two matches - going from an evening fixture in Jaipur on a Friday, travelling back home on Saturday and featuring in the afternoon game on Sunday. And they didn't just turn up, they won that fixture. Any perceived advantage for CSK of playing at a venue where GT haven't this season is also negated by the fact that even they are not too sure about the conditions to expect, while Pandya's side has been excellent on the road with 6 away wins.\",\n",
       " 'A hot evening is in the offing where temperatures will hit the high 30s. The conditions at the venue suited batters early on but the wickets have slowed down as the tournament has progressed. It reflected in the scores made at the venue as the average 1st innings total came down from 182 in the first four games to 150 in the last three. CSK themselves were outspun in their last game there against KKR.',\n",
       " \"With Deepak Chahar back to wicket-taking form in the PowerPlay, the early match-up between him and Shubman Gill will be crucial to the direction the game takes. Gill arrives with scores of 101 and 104* in his last game, and has scored 49 runs in the 37 balls he's faced from Chahar. The CSK pacer however, has dismissed him twice.\",\n",
       " 'Though Ajinkya Rahane has flattered to deceive in home games, he has an admirable record against Mohammed Shami - smashing 86 at a strike rate of 168.63 without getting dismissed. Against Hardik Pandya, Dhoni could turn to Ravindra Jadeja who has got the GT captain out twice in 16 balls and has given away just 18 runs.',\n",
       " \"Vijay Shankar regained full fitness ahead of Sunday's league game against RCB and came in as an impact sub to bat at No.3. Considering Dasun Shanaka hasn't had a lot to do with both bat and ball, GT might turn to Joshua Little, in the XI or as the impact sub. The left-arm pacer, who was away for the Ireland-Bangladesh series, returned to the GT squad ahead of the weekend fixture against RCB. He also trained in Chennai on the eve of the first qualifier.\",\n",
       " \"Ruturaj Gaikwad has hit 73, 53 and 92 against GT but Shami has found ways to put a lid on his scoring early on. The veteran pacer has conceded just 40 runs off the 59 balls he's bowled at the CSK opener. Shami has also been excellent against CSK's top-scorer this season - Devon Conway - dismissing him twice in eight deliveries he's bowled at him in the IPL.\",\n",
       " '\"I think [for] death bowling, confidence is very important. Tushar has developed because he is able to execute under pressure, he has the confidence now. And when you keep playing the same players, it helps. I think the bowlers have also taken the responsibility, Pathirana is quite a natural at bowling at the death but Deshpande has really developed there.\" -']"
      ]
     },
     "execution_count": 37,
     "metadata": {},
     "output_type": "execute_result"
    }
   ],
   "source": [
    "text_comm3"
   ]
  },
  {
   "cell_type": "code",
   "execution_count": null,
   "id": "9c6a035b",
   "metadata": {},
   "outputs": [],
   "source": []
  },
  {
   "cell_type": "code",
   "execution_count": null,
   "id": "32c85caf",
   "metadata": {},
   "outputs": [],
   "source": []
  },
  {
   "cell_type": "code",
   "execution_count": null,
   "id": "5ae246ff",
   "metadata": {},
   "outputs": [],
   "source": []
  },
  {
   "cell_type": "code",
   "execution_count": null,
   "id": "5a52fb4d",
   "metadata": {},
   "outputs": [],
   "source": []
  },
  {
   "cell_type": "code",
   "execution_count": null,
   "id": "fb57ef2f",
   "metadata": {},
   "outputs": [],
   "source": []
  },
  {
   "cell_type": "code",
   "execution_count": null,
   "id": "29de5d5f",
   "metadata": {},
   "outputs": [],
   "source": []
  },
  {
   "cell_type": "code",
   "execution_count": null,
   "id": "d7ecd31c",
   "metadata": {},
   "outputs": [],
   "source": []
  },
  {
   "cell_type": "code",
   "execution_count": null,
   "id": "9342cb49",
   "metadata": {},
   "outputs": [],
   "source": []
  },
  {
   "cell_type": "code",
   "execution_count": null,
   "id": "dc5fc5c6",
   "metadata": {},
   "outputs": [],
   "source": []
  },
  {
   "cell_type": "code",
   "execution_count": null,
   "id": "dafa1dd4",
   "metadata": {},
   "outputs": [],
   "source": []
  },
  {
   "cell_type": "code",
   "execution_count": null,
   "id": "6c76a15b",
   "metadata": {},
   "outputs": [],
   "source": []
  },
  {
   "cell_type": "code",
   "execution_count": null,
   "id": "4492198d",
   "metadata": {},
   "outputs": [],
   "source": []
  },
  {
   "cell_type": "code",
   "execution_count": null,
   "id": "a6610a6f",
   "metadata": {},
   "outputs": [],
   "source": []
  },
  {
   "cell_type": "code",
   "execution_count": null,
   "id": "8b2cdc81",
   "metadata": {},
   "outputs": [],
   "source": []
  },
  {
   "cell_type": "code",
   "execution_count": null,
   "id": "10df9cff",
   "metadata": {},
   "outputs": [],
   "source": []
  },
  {
   "cell_type": "code",
   "execution_count": null,
   "id": "30b9b906",
   "metadata": {},
   "outputs": [],
   "source": []
  },
  {
   "cell_type": "code",
   "execution_count": null,
   "id": "e81a6fb2",
   "metadata": {},
   "outputs": [],
   "source": []
  },
  {
   "cell_type": "code",
   "execution_count": null,
   "id": "93636d30",
   "metadata": {},
   "outputs": [],
   "source": []
  },
  {
   "cell_type": "code",
   "execution_count": null,
   "id": "0c1d2543",
   "metadata": {},
   "outputs": [],
   "source": []
  }
 ],
 "metadata": {
  "kernelspec": {
   "display_name": "Python 3 (ipykernel)",
   "language": "python",
   "name": "python3"
  },
  "language_info": {
   "codemirror_mode": {
    "name": "ipython",
    "version": 3
   },
   "file_extension": ".py",
   "mimetype": "text/x-python",
   "name": "python",
   "nbconvert_exporter": "python",
   "pygments_lexer": "ipython3",
   "version": "3.9.13"
  }
 },
 "nbformat": 4,
 "nbformat_minor": 5
}
