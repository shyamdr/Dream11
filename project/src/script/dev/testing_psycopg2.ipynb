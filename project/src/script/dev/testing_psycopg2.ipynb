{
 "cells": [
  {
   "cell_type": "code",
   "execution_count": 23,
   "id": "97b87e53",
   "metadata": {
    "ExecuteTime": {
     "end_time": "2023-11-24T11:01:32.446782Z",
     "start_time": "2023-11-24T11:01:32.431733Z"
    }
   },
   "outputs": [],
   "source": [
    "import psycopg2\n",
    "from sqlalchemy import create_engine"
   ]
  },
  {
   "cell_type": "code",
   "execution_count": 25,
   "id": "04621e14",
   "metadata": {
    "ExecuteTime": {
     "end_time": "2023-11-24T11:21:02.179518Z",
     "start_time": "2023-11-24T11:21:02.153247Z"
    }
   },
   "outputs": [],
   "source": [
    "username = \"postgres\"\n",
    "password = \"Cricket2023\"\n",
    "host = \"cricket-analytics.cqxpcrpgvaqj.ap-south-1.rds.amazonaws.com\"\n",
    "port = \"5432\"\n",
    "database = \"postgres\""
   ]
  },
  {
   "cell_type": "code",
   "execution_count": 30,
   "id": "6f1b0cf8",
   "metadata": {
    "ExecuteTime": {
     "end_time": "2023-11-24T11:22:19.495158Z",
     "start_time": "2023-11-24T11:22:19.477281Z"
    }
   },
   "outputs": [],
   "source": [
    "engine = create_engine(f'postgresql://{username}:{password}@{host}:{port}/{database}')"
   ]
  }
 ],
 "metadata": {
  "kernelspec": {
   "display_name": "Python 3 (ipykernel)",
   "language": "python",
   "name": "python3"
  },
  "language_info": {
   "codemirror_mode": {
    "name": "ipython",
    "version": 3
   },
   "file_extension": ".py",
   "mimetype": "text/x-python",
   "name": "python",
   "nbconvert_exporter": "python",
   "pygments_lexer": "ipython3",
   "version": "3.9.13"
  }
 },
 "nbformat": 4,
 "nbformat_minor": 5
}
