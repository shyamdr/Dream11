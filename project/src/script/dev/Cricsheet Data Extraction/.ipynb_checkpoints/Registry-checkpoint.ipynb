{
 "cells": [
  {
   "cell_type": "code",
   "execution_count": 55,
   "id": "c6a128dc",
   "metadata": {
    "ExecuteTime": {
     "end_time": "2023-11-24T12:25:15.309466Z",
     "start_time": "2023-11-24T12:25:15.296536Z"
    }
   },
   "outputs": [],
   "source": [
    "import pandas as pd"
   ]
  },
  {
   "cell_type": "code",
   "execution_count": 32,
   "id": "f5302c93",
   "metadata": {
    "ExecuteTime": {
     "end_time": "2023-11-24T11:43:49.172711Z",
     "start_time": "2023-11-24T11:43:48.662226Z"
    }
   },
   "outputs": [],
   "source": [
    "%run ../testing_psycopg2.ipynb"
   ]
  },
  {
   "cell_type": "code",
   "execution_count": 33,
   "id": "50546e3d",
   "metadata": {
    "ExecuteTime": {
     "end_time": "2023-11-24T11:43:53.863042Z",
     "start_time": "2023-11-24T11:43:49.692810Z"
    }
   },
   "outputs": [],
   "source": [
    "url = \"https://cricsheet.org/register/people.csv\"\n",
    "df_people = pd.read_csv(url)"
   ]
  },
  {
   "cell_type": "code",
   "execution_count": 51,
   "id": "9bd4316e",
   "metadata": {
    "ExecuteTime": {
     "end_time": "2023-11-24T12:18:35.705600Z",
     "start_time": "2023-11-24T12:18:33.482233Z"
    }
   },
   "outputs": [],
   "source": [
    "url = \"https://cricsheet.org/register/names.csv\"\n",
    "df_name = pd.read_csv(url)"
   ]
  },
  {
   "cell_type": "code",
   "execution_count": 44,
   "id": "5d0de97b",
   "metadata": {
    "ExecuteTime": {
     "end_time": "2023-11-24T12:00:50.801563Z",
     "start_time": "2023-11-24T12:00:50.688153Z"
    },
    "code_folding": []
   },
   "outputs": [],
   "source": [
    "with engine.connect() as conn:\n",
    "    conn.execute(\"TRUNCATE TABLE dwh.people CASCADE\")\n",
    "\n",
    "count_rows = df_people.to_sql('people', schema = 'dwh', con=engine, if_exists='append', index=False)"
   ]
  },
  {
   "cell_type": "code",
   "execution_count": 52,
   "id": "061284e1",
   "metadata": {
    "ExecuteTime": {
     "end_time": "2023-11-24T12:18:52.494788Z",
     "start_time": "2023-11-24T12:18:51.763612Z"
    }
   },
   "outputs": [
    {
     "data": {
      "text/plain": [
       "186"
      ]
     },
     "execution_count": 52,
     "metadata": {},
     "output_type": "execute_result"
    }
   ],
   "source": [
    "with engine.connect() as conn:\n",
    "    conn.execute(\"TRUNCATE TABLE dwh.name\")\n",
    "\n",
    "count_rows = df_name.to_sql('name', schema = 'dwh', con=engine, if_exists='append', index=False)"
   ]
  }
 ],
 "metadata": {
  "kernelspec": {
   "display_name": "Python 3 (ipykernel)",
   "language": "python",
   "name": "python3"
  },
  "language_info": {
   "codemirror_mode": {
    "name": "ipython",
    "version": 3
   },
   "file_extension": ".py",
   "mimetype": "text/x-python",
   "name": "python",
   "nbconvert_exporter": "python",
   "pygments_lexer": "ipython3",
   "version": "3.9.13"
  }
 },
 "nbformat": 4,
 "nbformat_minor": 5
}
