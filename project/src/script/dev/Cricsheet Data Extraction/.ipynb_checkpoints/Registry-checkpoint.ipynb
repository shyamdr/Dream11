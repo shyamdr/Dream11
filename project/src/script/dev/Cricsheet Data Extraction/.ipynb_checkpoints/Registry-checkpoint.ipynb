{
 "cells": [
  {
   "cell_type": "code",
   "execution_count": 1,
   "id": "c6a128dc",
   "metadata": {
    "ExecuteTime": {
     "end_time": "2023-11-18T04:48:05.137634Z",
     "start_time": "2023-11-18T04:48:04.292377Z"
    }
   },
   "outputs": [],
   "source": [
    "import pandas as pd"
   ]
  },
  {
   "cell_type": "code",
   "execution_count": 2,
   "id": "50546e3d",
   "metadata": {
    "ExecuteTime": {
     "end_time": "2023-11-18T04:48:23.542408Z",
     "start_time": "2023-11-18T04:48:20.436276Z"
    }
   },
   "outputs": [],
   "source": [
    "url = \"https://cricsheet.org/register/people.csv\"\n",
    "df_register = pd.read_csv(url)"
   ]
  },
  {
   "cell_type": "code",
   "execution_count": 4,
   "id": "9bd4316e",
   "metadata": {
    "ExecuteTime": {
     "end_time": "2023-11-18T04:49:15.911242Z",
     "start_time": "2023-11-18T04:49:14.343019Z"
    }
   },
   "outputs": [],
   "source": [
    "url = \"https://cricsheet.org/register/names.csv\"\n",
    "df_names = pd.read_csv(url)"
   ]
  }
 ],
 "metadata": {
  "kernelspec": {
   "display_name": "Python 3 (ipykernel)",
   "language": "python",
   "name": "python3"
  },
  "language_info": {
   "codemirror_mode": {
    "name": "ipython",
    "version": 3
   },
   "file_extension": ".py",
   "mimetype": "text/x-python",
   "name": "python",
   "nbconvert_exporter": "python",
   "pygments_lexer": "ipython3",
   "version": "3.9.13"
  }
 },
 "nbformat": 4,
 "nbformat_minor": 5
}
