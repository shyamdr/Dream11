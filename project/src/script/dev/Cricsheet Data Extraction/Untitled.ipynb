{
 "cells": [
  {
   "cell_type": "code",
   "execution_count": 1,
   "id": "30fcc95a",
   "metadata": {
    "ExecuteTime": {
     "end_time": "2023-11-19T07:10:29.579515Z",
     "start_time": "2023-11-19T07:10:29.563781Z"
    }
   },
   "outputs": [],
   "source": [
    "x = 5"
   ]
  },
  {
   "cell_type": "code",
   "execution_count": 2,
   "id": "db5dd908",
   "metadata": {
    "ExecuteTime": {
     "end_time": "2023-11-19T07:10:51.912756Z",
     "start_time": "2023-11-19T07:10:50.610775Z"
    }
   },
   "outputs": [],
   "source": [
    "import requests\n",
    "import io\n",
    "import zipfile\n",
    "import re\n",
    "import pandas as pd\n",
    "import numpy as np\n",
    "import json"
   ]
  },
  {
   "cell_type": "code",
   "execution_count": 3,
   "id": "6eec55e0",
   "metadata": {
    "ExecuteTime": {
     "end_time": "2023-11-19T07:10:57.303403Z",
     "start_time": "2023-11-19T07:10:57.287400Z"
    }
   },
   "outputs": [],
   "source": [
    "x = 6"
   ]
  },
  {
   "cell_type": "code",
   "execution_count": 4,
   "id": "96c41d17",
   "metadata": {
    "ExecuteTime": {
     "end_time": "2023-11-19T07:11:08.837474Z",
     "start_time": "2023-11-19T07:11:08.828449Z"
    }
   },
   "outputs": [],
   "source": [
    "url = \"https://cricsheet.org/downloads/recently_added_2_json.zip\"\n",
    "filetype = \".json\""
   ]
  },
  {
   "cell_type": "code",
   "execution_count": 5,
   "id": "9df4c75f",
   "metadata": {
    "ExecuteTime": {
     "end_time": "2023-11-19T07:11:17.878046Z",
     "start_time": "2023-11-19T07:11:17.867531Z"
    }
   },
   "outputs": [],
   "source": [
    "y = 4"
   ]
  },
  {
   "cell_type": "code",
   "execution_count": 6,
   "id": "c90004ba",
   "metadata": {
    "ExecuteTime": {
     "end_time": "2023-11-19T07:11:36.171968Z",
     "start_time": "2023-11-19T07:11:36.163111Z"
    }
   },
   "outputs": [],
   "source": [
    "x = 7"
   ]
  },
  {
   "cell_type": "code",
   "execution_count": null,
   "id": "70a03eb1",
   "metadata": {},
   "outputs": [],
   "source": []
  }
 ],
 "metadata": {
  "kernelspec": {
   "display_name": "Python 3 (ipykernel)",
   "language": "python",
   "name": "python3"
  },
  "language_info": {
   "codemirror_mode": {
    "name": "ipython",
    "version": 3
   },
   "file_extension": ".py",
   "mimetype": "text/x-python",
   "name": "python",
   "nbconvert_exporter": "python",
   "pygments_lexer": "ipython3",
   "version": "3.9.13"
  },
  "toc": {
   "base_numbering": 1,
   "nav_menu": {},
   "number_sections": true,
   "sideBar": true,
   "skip_h1_title": false,
   "title_cell": "Table of Contents",
   "title_sidebar": "Contents",
   "toc_cell": false,
   "toc_position": {},
   "toc_section_display": true,
   "toc_window_display": false
  },
  "varInspector": {
   "cols": {
    "lenName": 16,
    "lenType": 16,
    "lenVar": 40
   },
   "kernels_config": {
    "python": {
     "delete_cmd_postfix": "",
     "delete_cmd_prefix": "del ",
     "library": "var_list.py",
     "varRefreshCmd": "print(var_dic_list())"
    },
    "r": {
     "delete_cmd_postfix": ") ",
     "delete_cmd_prefix": "rm(",
     "library": "var_list.r",
     "varRefreshCmd": "cat(var_dic_list()) "
    }
   },
   "types_to_exclude": [
    "module",
    "function",
    "builtin_function_or_method",
    "instance",
    "_Feature"
   ],
   "window_display": true
  }
 },
 "nbformat": 4,
 "nbformat_minor": 5
}
