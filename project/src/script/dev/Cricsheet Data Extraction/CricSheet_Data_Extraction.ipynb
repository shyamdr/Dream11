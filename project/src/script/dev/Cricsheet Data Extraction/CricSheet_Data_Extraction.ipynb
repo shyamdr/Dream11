{
 "cells": [
  {
   "cell_type": "markdown",
   "id": "b85b9ee8",
   "metadata": {
    "tags": []
   },
   "source": [
    "## Importing Libraries"
   ]
  },
  {
   "cell_type": "code",
   "execution_count": 12,
   "id": "a26ef43b",
   "metadata": {
    "ExecuteTime": {
     "end_time": "2023-11-26T06:56:28.086959Z",
     "start_time": "2023-11-26T06:56:28.074406Z"
    },
    "tags": []
   },
   "outputs": [],
   "source": [
    "import requests\n",
    "import io\n",
    "import zipfile\n",
    "import re\n",
    "import pandas as pd\n",
    "import numpy as np\n",
    "import json"
   ]
  },
  {
   "cell_type": "code",
   "execution_count": 13,
   "id": "f070f34d",
   "metadata": {
    "ExecuteTime": {
     "end_time": "2023-11-26T06:56:28.490143Z",
     "start_time": "2023-11-26T06:56:28.448732Z"
    }
   },
   "outputs": [],
   "source": [
    "%run ../config_psql.ipynb"
   ]
  },
  {
   "cell_type": "code",
   "execution_count": 14,
   "id": "33156a11",
   "metadata": {
    "ExecuteTime": {
     "end_time": "2023-11-26T06:56:28.852730Z",
     "start_time": "2023-11-26T06:56:28.838365Z"
    },
    "tags": []
   },
   "outputs": [],
   "source": [
    "# Settings configurations\n",
    "\n",
    "pd.set_option('display.max_columns', None)\n",
    "pd.set_option('display.max_rows', None)"
   ]
  },
  {
   "cell_type": "code",
   "execution_count": 15,
   "id": "84a070f3",
   "metadata": {
    "ExecuteTime": {
     "end_time": "2023-11-26T06:56:30.846408Z",
     "start_time": "2023-11-26T06:56:30.840916Z"
    },
    "tags": []
   },
   "outputs": [],
   "source": [
    "url = \"https://cricsheet.org/downloads/recently_added_2_json.zip\"\n",
    "filetype = \".json\""
   ]
  },
  {
   "cell_type": "code",
   "execution_count": 16,
   "id": "c3f64acd",
   "metadata": {
    "ExecuteTime": {
     "end_time": "2023-11-26T06:56:37.861084Z",
     "start_time": "2023-11-26T06:56:32.258675Z"
    },
    "tags": []
   },
   "outputs": [],
   "source": [
    "response = requests.get(url)\n",
    "\n",
    "if response.status_code == 200:\n",
    "    content = response.content\n",
    "    \n",
    "    zip_file = zipfile.ZipFile(io.BytesIO(content))\n",
    "    \n",
    "    with zip_file.open('README.txt') as f:\n",
    "        lines = [line.decode('utf-8') for line in f.readlines()]\n",
    "        pattern = re.compile(r'(\\d{4}-\\d{2}-\\d{2}) - ([^-]+) - ([^-]+) - (\\w+) - (\\d+) - (.+)')\n",
    "        ids = [match.group(5) for line in lines if (match := pattern.match(line))]\n",
    "    f.close()"
   ]
  },
  {
   "cell_type": "code",
   "execution_count": 17,
   "id": "2c0c4256",
   "metadata": {
    "ExecuteTime": {
     "end_time": "2023-11-26T06:56:46.320874Z",
     "start_time": "2023-11-26T06:56:46.292973Z"
    }
   },
   "outputs": [],
   "source": [
    "df_meta = pd.DataFrame()\n",
    "df_match = pd.DataFrame()\n",
    "df_official = pd.DataFrame()\n",
    "df_registry = pd.DataFrame()\n",
    "df_player_def = pd.DataFrame()\n",
    "df_deliveries_def = pd.DataFrame()\n",
    "df_powerplay_def = pd.DataFrame()\n",
    "df_absent_hurt_def = pd.DataFrame()\n",
    "df_miscounted_overs_def = pd.DataFrame()"
   ]
  },
  {
   "cell_type": "code",
   "execution_count": 18,
   "id": "36ce7cd8",
   "metadata": {
    "ExecuteTime": {
     "end_time": "2023-11-26T06:56:48.655335Z",
     "start_time": "2023-11-26T06:56:46.686458Z"
    },
    "code_folding": []
   },
   "outputs": [
    {
     "name": "stdout",
     "output_type": "stream",
     "text": [
      "24  files present\n",
      "1387221 executed!\n",
      "1407089 executed!\n",
      "1407090 executed!\n",
      "1407091 executed!\n",
      "1407718 executed!\n",
      "1387219 executed!\n",
      "1387220 executed!\n",
      "1407716 executed!\n",
      "1407717 executed!\n",
      "1407714 executed!\n",
      "1407715 executed!\n",
      "1384439 executed!\n",
      "1387217 executed!\n",
      "1387218 executed!\n",
      "1407870 executed!\n",
      "1407871 executed!\n",
      "1387215 executed!\n",
      "1387216 executed!\n",
      "1391784 executed!\n",
      "1407864 executed!\n",
      "1407865 executed!\n",
      "1384438 executed!\n",
      "1391783 executed!\n",
      "1384437 executed!\n"
     ]
    }
   ],
   "source": [
    "print(len(ids), \" files present\")\n",
    "for file in ids:\n",
    "    with zip_file.open(file+filetype) as jsonfile:\n",
    "        data = json.load(jsonfile)\n",
    "      \n",
    "        # DataFrame to store - Metadata\n",
    "        df_meta = pd.concat([df_meta, pd.DataFrame([data[\"meta\"]]).assign(filename=file, filetype=filetype)])\n",
    "        \n",
    "        # DataFrame to store - match details\n",
    "        df_info = pd.DataFrame([data[\"info\"]])\n",
    "        df_match_temp = pd.concat([\n",
    "            pd.json_normalize(df_info['event'], sep='_').add_prefix('event_'),\n",
    "            pd.DataFrame(df_info[list(set(['balls_per_over','season', 'gender', 'city', 'venue', 'match_type', 'match_type_number', 'overs', 'team_type']) & set(df_info.columns))]),\n",
    "            df_info['dates'].apply(lambda x: [x[0], x[-1]]).apply(pd.Series).rename(columns={0: 'start_date', 1: 'end_date'}),\n",
    "            df_info['teams'].apply(lambda x: [x[0], x[1]]).apply(pd.Series).rename(columns={0: 'team_host', 1: 'team_visitor'}),\n",
    "            pd.json_normalize(df_info['toss'], sep='_').add_prefix('toss_'),\n",
    "            pd.json_normalize(df_info['outcome'], sep='_').add_prefix('outcome_')\n",
    "        ], axis=1).assign(match_id = file)\n",
    "        if 'player_of_match' in df_info.columns:\n",
    "            df_match_temp['player_of_match'] = df_info['player_of_match'].apply(lambda x: ','.join(x))\n",
    "            \n",
    "        df_match = pd.concat([df_match, df_match_temp])\n",
    "            \n",
    "        # DataFrame to store official details\n",
    "        df_umpire = pd.json_normalize(df_info['officials'], sep = '_')\n",
    "\n",
    "        umpire_set = set()\n",
    "        for column in df_umpire.columns:\n",
    "            umpire_set.update(df_umpire[column].explode().dropna())\n",
    "\n",
    "        df_umpire2 = pd.DataFrame(index=list(umpire_set), columns=df_umpire.columns).fillna(False)\n",
    "        for column in df_umpire.columns:\n",
    "            df_umpire2[column] = df_umpire2.index.isin(df_umpire[column].explode().dropna())\n",
    "        df_umpire2 = df_umpire2.reset_index().rename(columns={'index': 'name'}).assign(match_id = file)     \n",
    "        \n",
    "        df_official = pd.concat([df_official, df_umpire2])\n",
    "\n",
    "        # DataFrame to store - registry details\n",
    "        df_registry = pd.DataFrame(list(data[\"info\"][\"registry\"][\"people\"].items()), columns=['people', 'identifier']).assign(match_id = file)\n",
    "\n",
    "        # DataFrame to store - match player details\n",
    "        df_player = pd.json_normalize(df_info['players']).melt(var_name='team', value_name='player').explode('player').assign(match_id = file)\n",
    "\n",
    "        # DataFrame to store - innings ball-by-ball details\n",
    "        df_innings = pd.json_normalize(data['innings'], sep = '_').drop('overs', axis = 1).assign(match_id = file)\n",
    "        df_deliveries = pd.json_normalize(data['innings'], record_path=['overs', 'deliveries'], meta=['team',['overs', 'over']], sep='_').assign(match_id = file)\n",
    "        if 'powerplays' in df_innings.columns:\n",
    "            df_powerplay = pd.json_normalize(data['innings'], record_path = ['powerplays'], meta = ['team'], sep = '_').assign(match_id = file)\n",
    "        if 'absent_hurt' in df_innings.columns:\n",
    "            df_absent_hurt = df_innings[['team','absent_hurt']].explode('absent_hurt').assign(match_id = file)\n",
    "        df_miscounted_overs = pd.DataFrame([\n",
    "            {\n",
    "                \"team\": inning.get(\"team\", \"\"),\n",
    "                \"miscounted_over\": over_number,\n",
    "                \"balls\": over_data.get(\"balls\", \"\"),\n",
    "                \"umpire\": over_data.get(\"umpire\", \"\")\n",
    "            }\n",
    "            for inning in data.get(\"innings\", [])\n",
    "            for over_number, over_data in inning.get(\"miscounted_overs\", {}).items()\n",
    "        ])\n",
    "    print(file + \" executed!\")"
   ]
  },
  {
   "cell_type": "code",
   "execution_count": 19,
   "id": "4bb4a728",
   "metadata": {
    "ExecuteTime": {
     "end_time": "2023-11-26T06:56:58.480761Z",
     "start_time": "2023-11-26T06:56:57.669495Z"
    }
   },
   "outputs": [
    {
     "data": {
      "text/plain": [
       "24"
      ]
     },
     "execution_count": 19,
     "metadata": {},
     "output_type": "execute_result"
    }
   ],
   "source": [
    "count_rows = df_meta.to_sql('meta', schema = 'dwh', con=engine, if_exists='append', method = 'multi', index=False, index_label = 'filename')\n",
    "count_rows"
   ]
  },
  {
   "cell_type": "code",
   "execution_count": 9,
   "id": "42b27b94",
   "metadata": {
    "ExecuteTime": {
     "end_time": "2023-11-26T00:18:59.714541Z",
     "start_time": "2023-11-26T00:18:58.763093Z"
    }
   },
   "outputs": [
    {
     "data": {
      "text/plain": [
       "24"
      ]
     },
     "execution_count": 9,
     "metadata": {},
     "output_type": "execute_result"
    }
   ],
   "source": [
    "# with engine.connect() as conn:\n",
    "#     conn.execute(\"TRUNCATE TABLE stg.match\")\n",
    "\n",
    "# count_rows = df_match.to_sql('match', schema = 'stg', con = engine, if_exists='append', method = 'multi', index = False)\n",
    "# count_rows"
   ]
  },
  {
   "cell_type": "code",
   "execution_count": null,
   "id": "a515ed81",
   "metadata": {},
   "outputs": [],
   "source": [
    "from sqlalchemy.dialects.postgresql import insert\n",
    "\n"
   ]
  }
 ],
 "metadata": {
  "kernelspec": {
   "display_name": "Python 3 (ipykernel)",
   "language": "python",
   "name": "python3"
  },
  "language_info": {
   "codemirror_mode": {
    "name": "ipython",
    "version": 3
   },
   "file_extension": ".py",
   "mimetype": "text/x-python",
   "name": "python",
   "nbconvert_exporter": "python",
   "pygments_lexer": "ipython3",
   "version": "3.9.13"
  },
  "toc": {
   "base_numbering": 1,
   "nav_menu": {},
   "number_sections": true,
   "sideBar": true,
   "skip_h1_title": false,
   "title_cell": "Table of Contents",
   "title_sidebar": "Contents",
   "toc_cell": false,
   "toc_position": {},
   "toc_section_display": true,
   "toc_window_display": false
  },
  "varInspector": {
   "cols": {
    "lenName": 16,
    "lenType": 16,
    "lenVar": 40
   },
   "kernels_config": {
    "python": {
     "delete_cmd_postfix": "",
     "delete_cmd_prefix": "del ",
     "library": "var_list.py",
     "varRefreshCmd": "print(var_dic_list())"
    },
    "r": {
     "delete_cmd_postfix": ") ",
     "delete_cmd_prefix": "rm(",
     "library": "var_list.r",
     "varRefreshCmd": "cat(var_dic_list()) "
    }
   },
   "position": {
    "height": "156.042px",
    "left": "1382.44px",
    "right": "20px",
    "top": "120px",
    "width": "315.417px"
   },
   "types_to_exclude": [
    "module",
    "function",
    "builtin_function_or_method",
    "instance",
    "_Feature"
   ],
   "window_display": false
  }
 },
 "nbformat": 4,
 "nbformat_minor": 5
}
