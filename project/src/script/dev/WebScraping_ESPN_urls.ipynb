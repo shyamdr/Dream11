{
 "cells": [
  {
   "cell_type": "markdown",
   "id": "bbf98be9-da80-4949-a663-e5b171a427dd",
   "metadata": {},
   "source": [
    "## Importing Libraries"
   ]
  },
  {
   "cell_type": "code",
   "execution_count": 28,
   "id": "f6379070-2761-4646-a938-97fa99130f97",
   "metadata": {
    "execution": {
     "iopub.execute_input": "2024-02-22T16:27:42.784083Z",
     "iopub.status.busy": "2024-02-22T16:27:42.784083Z",
     "iopub.status.idle": "2024-02-22T16:27:42.791135Z",
     "shell.execute_reply": "2024-02-22T16:27:42.790133Z",
     "shell.execute_reply.started": "2024-02-22T16:27:42.784083Z"
    }
   },
   "outputs": [],
   "source": [
    "import requests\n",
    "import re\n",
    "import numpy as np\n",
    "import pandas as pd\n",
    "from bs4 import BeautifulSoup\n",
    "import datetime\n",
    "import pandas as pd\n",
    "import time\n",
    "import concurrent.futures\n",
    "import modules.psql as psql"
   ]
  },
  {
   "cell_type": "markdown",
   "id": "fdd27d05-63a6-446f-8dd7-5e80ca7565cf",
   "metadata": {},
   "source": [
    "## Postgres Configuration"
   ]
  },
  {
   "cell_type": "code",
   "execution_count": 29,
   "id": "f1ce465d-a611-4f9e-b022-b1e4618ca7e8",
   "metadata": {
    "execution": {
     "iopub.execute_input": "2024-02-22T16:27:43.235391Z",
     "iopub.status.busy": "2024-02-22T16:27:43.220382Z",
     "iopub.status.idle": "2024-02-22T16:27:43.714704Z",
     "shell.execute_reply": "2024-02-22T16:27:43.714704Z",
     "shell.execute_reply.started": "2024-02-22T16:27:43.235391Z"
    }
   },
   "outputs": [],
   "source": [
    "%run config_psql.ipynb"
   ]
  },
  {
   "cell_type": "markdown",
   "id": "308e8681-4deb-4c1b-b2b8-d7d10416c27a",
   "metadata": {},
   "source": [
    "## Setting Configurations"
   ]
  },
  {
   "cell_type": "code",
   "execution_count": 30,
   "id": "86de4add-7a4d-4e54-a043-44b86be3ad06",
   "metadata": {
    "execution": {
     "iopub.execute_input": "2024-02-22T16:27:43.718715Z",
     "iopub.status.busy": "2024-02-22T16:27:43.718715Z",
     "iopub.status.idle": "2024-02-22T16:27:43.727438Z",
     "shell.execute_reply": "2024-02-22T16:27:43.727438Z",
     "shell.execute_reply.started": "2024-02-22T16:27:43.718715Z"
    }
   },
   "outputs": [],
   "source": [
    "pd.set_option('display.max_columns', None)\n",
    "pd.set_option('display.max_rows', None)"
   ]
  },
  {
   "cell_type": "markdown",
   "id": "c4799683-0d62-4baf-adce-4420d03bcbe0",
   "metadata": {},
   "source": [
    "## Initializing Parameters"
   ]
  },
  {
   "cell_type": "code",
   "execution_count": 31,
   "id": "36d21bca-e260-4078-a0b1-e1193a4afadd",
   "metadata": {
    "execution": {
     "iopub.execute_input": "2024-02-22T16:27:43.819933Z",
     "iopub.status.busy": "2024-02-22T16:27:43.819933Z",
     "iopub.status.idle": "2024-02-22T16:27:43.830022Z",
     "shell.execute_reply": "2024-02-22T16:27:43.830022Z",
     "shell.execute_reply.started": "2024-02-22T16:27:43.819933Z"
    }
   },
   "outputs": [],
   "source": [
    "min_year = 2023 #Parameterize this for receiving future incremental links\n",
    "max_year = datetime.date.today().year\n",
    "\n",
    "df_url = pd.DataFrame(columns=['url_type','season','series','match_id','url'])\n",
    "\n",
    "test_series = [[\"2023%2F24\", \"ICC Cricket World Cup\", \"https://www.espncricinfo.com/series/icc-cricket-world-cup-2023-24-1367856/match-schedule-fixtures\"]]"
   ]
  },
  {
   "cell_type": "markdown",
   "id": "31ab50ff-20e2-49d2-8a0f-74cbe3c69ebb",
   "metadata": {},
   "source": [
    "## Finding all Seasons"
   ]
  },
  {
   "cell_type": "code",
   "execution_count": 32,
   "id": "ed6989b3-f1d8-46f5-8cc1-8ebe2bd563af",
   "metadata": {
    "execution": {
     "iopub.execute_input": "2024-02-22T16:27:44.319563Z",
     "iopub.status.busy": "2024-02-22T16:27:44.319563Z",
     "iopub.status.idle": "2024-02-22T16:27:44.358545Z",
     "shell.execute_reply": "2024-02-22T16:27:44.357545Z",
     "shell.execute_reply.started": "2024-02-22T16:27:44.319563Z"
    }
   },
   "outputs": [
    {
     "data": {
      "text/html": [
       "<div>\n",
       "<style scoped>\n",
       "    .dataframe tbody tr th:only-of-type {\n",
       "        vertical-align: middle;\n",
       "    }\n",
       "\n",
       "    .dataframe tbody tr th {\n",
       "        vertical-align: top;\n",
       "    }\n",
       "\n",
       "    .dataframe thead th {\n",
       "        text-align: right;\n",
       "    }\n",
       "</style>\n",
       "<table border=\"1\" class=\"dataframe\">\n",
       "  <thead>\n",
       "    <tr style=\"text-align: right;\">\n",
       "      <th></th>\n",
       "      <th>url_type</th>\n",
       "      <th>season</th>\n",
       "      <th>series</th>\n",
       "      <th>match_id</th>\n",
       "      <th>url</th>\n",
       "    </tr>\n",
       "  </thead>\n",
       "  <tbody>\n",
       "    <tr>\n",
       "      <th>0</th>\n",
       "      <td>season</td>\n",
       "      <td>2023</td>\n",
       "      <td>NaN</td>\n",
       "      <td>NaN</td>\n",
       "      <td>https://www.espncricinfo.com/ci/engine/series/...</td>\n",
       "    </tr>\n",
       "    <tr>\n",
       "      <th>1</th>\n",
       "      <td>season</td>\n",
       "      <td>2023%2F24</td>\n",
       "      <td>NaN</td>\n",
       "      <td>NaN</td>\n",
       "      <td>https://www.espncricinfo.com/ci/engine/series/...</td>\n",
       "    </tr>\n",
       "    <tr>\n",
       "      <th>2</th>\n",
       "      <td>season</td>\n",
       "      <td>2024</td>\n",
       "      <td>NaN</td>\n",
       "      <td>NaN</td>\n",
       "      <td>https://www.espncricinfo.com/ci/engine/series/...</td>\n",
       "    </tr>\n",
       "  </tbody>\n",
       "</table>\n",
       "</div>"
      ],
      "text/plain": [
       "  url_type     season  series  match_id  \\\n",
       "0   season       2023     NaN       NaN   \n",
       "1   season  2023%2F24     NaN       NaN   \n",
       "2   season       2024     NaN       NaN   \n",
       "\n",
       "                                                 url  \n",
       "0  https://www.espncricinfo.com/ci/engine/series/...  \n",
       "1  https://www.espncricinfo.com/ci/engine/series/...  \n",
       "2  https://www.espncricinfo.com/ci/engine/series/...  "
      ]
     },
     "execution_count": 32,
     "metadata": {},
     "output_type": "execute_result"
    }
   ],
   "source": [
    "for year in range(min_year,max_year+1):\n",
    "    new_row = {\n",
    "        'url_type': 'season',\n",
    "        'season': str(year),\n",
    "        'url': \"https://www.espncricinfo.com/ci/engine/series/index.html?season={};view=season\".format(str(year))\n",
    "    }\n",
    "    df_url.loc[len(df_url)] = new_row\n",
    "    \n",
    "    if year < max_year:\n",
    "        season_name = str(year) + \"%2F\" + '{:02d}'.format(year-1999)\n",
    "        new_row = {\n",
    "            'url_type': 'season',\n",
    "            'season': season_name,\n",
    "            'url': \"https://www.espncricinfo.com/ci/engine/series/index.html?season={};view=season\".format(season_name)\n",
    "        }\n",
    "        df_url.loc[len(df_url)] = new_row\n",
    "df_url.head(100)"
   ]
  },
  {
   "cell_type": "markdown",
   "id": "a1bdc32f-81e2-47a8-a255-978169424bbb",
   "metadata": {},
   "source": [
    "## Finding all series in a season"
   ]
  },
  {
   "cell_type": "code",
   "execution_count": 33,
   "id": "32d80d9a-704d-43d7-b7b2-d14547d97a30",
   "metadata": {
    "execution": {
     "iopub.execute_input": "2024-02-22T16:27:44.819166Z",
     "iopub.status.busy": "2024-02-22T16:27:44.819166Z",
     "iopub.status.idle": "2024-02-22T16:27:50.567161Z",
     "shell.execute_reply": "2024-02-22T16:27:50.565439Z",
     "shell.execute_reply.started": "2024-02-22T16:27:44.819166Z"
    }
   },
   "outputs": [
    {
     "data": {
      "text/html": [
       "<div>\n",
       "<style scoped>\n",
       "    .dataframe tbody tr th:only-of-type {\n",
       "        vertical-align: middle;\n",
       "    }\n",
       "\n",
       "    .dataframe tbody tr th {\n",
       "        vertical-align: top;\n",
       "    }\n",
       "\n",
       "    .dataframe thead th {\n",
       "        text-align: right;\n",
       "    }\n",
       "</style>\n",
       "<table border=\"1\" class=\"dataframe\">\n",
       "  <thead>\n",
       "    <tr style=\"text-align: right;\">\n",
       "      <th></th>\n",
       "      <th>url_type</th>\n",
       "      <th>season</th>\n",
       "      <th>series</th>\n",
       "      <th>match_id</th>\n",
       "      <th>url</th>\n",
       "    </tr>\n",
       "  </thead>\n",
       "  <tbody>\n",
       "    <tr>\n",
       "      <th>0</th>\n",
       "      <td>season</td>\n",
       "      <td>2023</td>\n",
       "      <td>NaN</td>\n",
       "      <td>NaN</td>\n",
       "      <td>https://www.espncricinfo.com/ci/engine/series/...</td>\n",
       "    </tr>\n",
       "    <tr>\n",
       "      <th>1</th>\n",
       "      <td>season</td>\n",
       "      <td>2023%2F24</td>\n",
       "      <td>NaN</td>\n",
       "      <td>NaN</td>\n",
       "      <td>https://www.espncricinfo.com/ci/engine/series/...</td>\n",
       "    </tr>\n",
       "    <tr>\n",
       "      <th>2</th>\n",
       "      <td>season</td>\n",
       "      <td>2024</td>\n",
       "      <td>NaN</td>\n",
       "      <td>NaN</td>\n",
       "      <td>https://www.espncricinfo.com/ci/engine/series/...</td>\n",
       "    </tr>\n",
       "    <tr>\n",
       "      <th>3</th>\n",
       "      <td>series</td>\n",
       "      <td>2023</td>\n",
       "      <td>ICC World Test Championship</td>\n",
       "      <td>NaN</td>\n",
       "      <td>https://www.espncricinfo.com/series/icc-world-...</td>\n",
       "    </tr>\n",
       "    <tr>\n",
       "      <th>4</th>\n",
       "      <td>series</td>\n",
       "      <td>2023</td>\n",
       "      <td>Ireland in Sri Lanka Test Series</td>\n",
       "      <td>NaN</td>\n",
       "      <td>https://www.espncricinfo.com/series/ireland-in...</td>\n",
       "    </tr>\n",
       "  </tbody>\n",
       "</table>\n",
       "</div>"
      ],
      "text/plain": [
       "  url_type     season                            series  match_id  \\\n",
       "0   season       2023                               NaN       NaN   \n",
       "1   season  2023%2F24                               NaN       NaN   \n",
       "2   season       2024                               NaN       NaN   \n",
       "3   series       2023       ICC World Test Championship       NaN   \n",
       "4   series       2023  Ireland in Sri Lanka Test Series       NaN   \n",
       "\n",
       "                                                 url  \n",
       "0  https://www.espncricinfo.com/ci/engine/series/...  \n",
       "1  https://www.espncricinfo.com/ci/engine/series/...  \n",
       "2  https://www.espncricinfo.com/ci/engine/series/...  \n",
       "3  https://www.espncricinfo.com/series/icc-world-...  \n",
       "4  https://www.espncricinfo.com/series/ireland-in...  "
      ]
     },
     "execution_count": 33,
     "metadata": {},
     "output_type": "execute_result"
    }
   ],
   "source": [
    "for season in df_url['season'].values:\n",
    "    season_engine_url = \"https://www.espncricinfo.com/ci/engine/series/index.html?season={};view=season\".format(season)\n",
    "    response = requests.get(season_engine_url)\n",
    "    soup = BeautifulSoup(response.content, 'lxml')\n",
    "    for a in soup.find_all('a', href = True):\n",
    "        if (('https://www.espncricinfo.com/series/' in a['href']) and ('/match-schedule-fixtures' in a['href'])):\n",
    "            new_row = {\n",
    "                'url_type': 'series',\n",
    "                'season': season,\n",
    "                'series': a.text,\n",
    "                'url': a['href']\n",
    "            }\n",
    "            df_url.loc[len(df_url)] = new_row\n",
    "            df_url.head()\n",
    "df_url.head()"
   ]
  },
  {
   "cell_type": "markdown",
   "id": "07fc6d9c-8194-48ec-a4c4-9e2aacc34a02",
   "metadata": {},
   "source": [
    "## Finding all matches in a series using Multi-Threading"
   ]
  },
  {
   "cell_type": "markdown",
   "id": "c176a60b-af24-4a0c-b0c9-afa8a582bdcf",
   "metadata": {},
   "source": [
    "### Function to find all urls"
   ]
  },
  {
   "cell_type": "code",
   "execution_count": 34,
   "id": "8e22fa61-56d7-4825-9284-dd6c279337ce",
   "metadata": {
    "execution": {
     "iopub.execute_input": "2024-02-22T16:27:50.571298Z",
     "iopub.status.busy": "2024-02-22T16:27:50.570285Z",
     "iopub.status.idle": "2024-02-22T16:27:50.586688Z",
     "shell.execute_reply": "2024-02-22T16:27:50.585174Z",
     "shell.execute_reply.started": "2024-02-22T16:27:50.571298Z"
    }
   },
   "outputs": [],
   "source": [
    "def insert_match_url(season, series, response):\n",
    "    new_rows = []\n",
    "    soup = BeautifulSoup(response.content, 'lxml')\n",
    "    divs = soup.find_all('div', class_ = 'ds-p-0') # if this doesn't work use class_ = ds-relative\n",
    "    for div in divs:\n",
    "        for a in div.find_all('a', href = True):\n",
    "            if (('/live-cricket-score' in a['href']) or ('/full-scorecard' in a['href'])):\n",
    "                new_row = {\n",
    "                    'url_type': 'match',\n",
    "                    'season': season,\n",
    "                    'series': series,\n",
    "                    'match_id': a['href'].split('/')[-2].split('-')[-1],\n",
    "                    'url': 'https://www.espncricinfo.com' + a['href']\n",
    "                }\n",
    "                new_rows.append(new_row)\n",
    "    return new_rows"
   ]
  },
  {
   "cell_type": "markdown",
   "id": "bbe66ec8-24fb-43e9-96e3-ed86b64975fd",
   "metadata": {},
   "source": [
    "### Function to process series urls to match urls"
   ]
  },
  {
   "cell_type": "code",
   "execution_count": 35,
   "id": "1ce781a8-0d49-4aad-a957-ca019072da73",
   "metadata": {
    "execution": {
     "iopub.execute_input": "2024-02-22T16:27:50.590875Z",
     "iopub.status.busy": "2024-02-22T16:27:50.588586Z",
     "iopub.status.idle": "2024-02-22T16:27:50.607759Z",
     "shell.execute_reply": "2024-02-22T16:27:50.605693Z",
     "shell.execute_reply.started": "2024-02-22T16:27:50.590875Z"
    }
   },
   "outputs": [],
   "source": [
    "def process_url(season, series, url):\n",
    "    st = time.time()\n",
    "    initial_size = len(df_url)\n",
    "    link1 = url.replace(url.split('/')[-1], 'match-results') # completed series\n",
    "    link2 = url.replace(url.split('/')[-1], 'match-schedule-fixtures') # ongoing, future series\n",
    "    link3 = url.replace(url.split('/')[-1], 'match-schedule-results') # alternate link\n",
    "    response1 = requests.get(link1)\n",
    "    response2 = requests.get(link2)\n",
    "    response3 = requests.get(link3)\n",
    "    if response1.status_code != 404:\n",
    "        new_rows = insert_match_url(season, series, response1)\n",
    "    elif response2.status_code != 404:\n",
    "        new_rows = insert_match_url(season, series, response2)\n",
    "    elif response3.status_code != 404:\n",
    "        new_rows = insert_match_url(season, series, response3)\n",
    "    else:\n",
    "        print(\"No suitable match endpoint found, Intervention required!!!\")\n",
    "        print(season, series, url, sep='\\n', end='\\n\\n')\n",
    "    return new_rows"
   ]
  },
  {
   "cell_type": "markdown",
   "id": "83e49f16-c9d2-4a57-b2c8-bf1cccd38cb0",
   "metadata": {},
   "source": [
    "### Multi-Threading function"
   ]
  },
  {
   "cell_type": "code",
   "execution_count": 36,
   "id": "bdf7b7bf-35fa-40ae-8281-241aa54d7404",
   "metadata": {
    "execution": {
     "iopub.execute_input": "2024-02-22T16:27:50.612676Z",
     "iopub.status.busy": "2024-02-22T16:27:50.611765Z",
     "iopub.status.idle": "2024-02-22T16:38:01.881120Z",
     "shell.execute_reply": "2024-02-22T16:38:01.879121Z",
     "shell.execute_reply.started": "2024-02-22T16:27:50.612676Z"
    }
   },
   "outputs": [
    {
     "name": "stdout",
     "output_type": "stream",
     "text": [
      "wait for approx 11.0 minutes\n"
     ]
    }
   ],
   "source": [
    "num_threads = 100\n",
    "num_series = len(df_url[df_url['url_type'] == 'series'])\n",
    "\n",
    "print(\"wait for approx {} minutes\".format((0.8*num_series//60)+1))\n",
    "with concurrent.futures.ThreadPoolExecutor(max_workers = num_threads) as executor:\n",
    "    futures = []\n",
    "    for season, series, url in df_url[df_url['url_type'] == 'series'][['season', 'series', 'url']].values:\n",
    "    #for season, series, url in test_series:    \n",
    "        futures.append(executor.submit(process_url, season, series, url))\n",
    "\n",
    "    for count, future in enumerate(concurrent.futures.as_completed(futures)):\n",
    "        for row in future.result():\n",
    "            df_url.loc[len(df_url)] = row  "
   ]
  },
  {
   "cell_type": "code",
   "execution_count": 37,
   "id": "b1e8cb52-4ce9-4c4f-a986-6ef129758add",
   "metadata": {
    "execution": {
     "iopub.execute_input": "2024-02-22T16:38:01.884836Z",
     "iopub.status.busy": "2024-02-22T16:38:01.884836Z",
     "iopub.status.idle": "2024-02-22T16:38:06.174143Z",
     "shell.execute_reply": "2024-02-22T16:38:06.172433Z",
     "shell.execute_reply.started": "2024-02-22T16:38:01.884836Z"
    }
   },
   "outputs": [],
   "source": [
    "query = psql.insert_without_duplicate(\n",
    "    engine,\n",
    "    dataFrame = df_url,\n",
    "    table = \"espn_url\",\n",
    "    schema = \"dwh\",\n",
    "    conflict_col = list(df_url.columns))"
   ]
  }
 ],
 "metadata": {
  "kernelspec": {
   "display_name": "Python 3 (ipykernel)",
   "language": "python",
   "name": "python3"
  },
  "language_info": {
   "codemirror_mode": {
    "name": "ipython",
    "version": 3
   },
   "file_extension": ".py",
   "mimetype": "text/x-python",
   "name": "python",
   "nbconvert_exporter": "python",
   "pygments_lexer": "ipython3",
   "version": "3.11.5"
  }
 },
 "nbformat": 4,
 "nbformat_minor": 5
}
