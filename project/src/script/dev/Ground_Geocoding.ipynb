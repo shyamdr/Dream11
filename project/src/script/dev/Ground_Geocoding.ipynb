{
 "cells": [
  {
   "cell_type": "markdown",
   "id": "b85b9ee8",
   "metadata": {
    "tags": []
   },
   "source": [
    "## Importing Libraries"
   ]
  },
  {
   "cell_type": "code",
   "execution_count": null,
   "id": "a26ef43b",
   "metadata": {
    "ExecuteTime": {
     "end_time": "2023-12-31T18:01:34.167771Z",
     "start_time": "2023-12-31T18:01:34.159283Z"
    },
    "tags": []
   },
   "outputs": [],
   "source": [
    "import pandas as pd\n",
    "import os\n",
    "from geopandas.tools import geocode\n",
    "import modules.psql as psql"
   ]
  },
  {
   "cell_type": "markdown",
   "id": "3b1b8138",
   "metadata": {},
   "source": [
    "## Postgres Configuration"
   ]
  },
  {
   "cell_type": "code",
   "execution_count": null,
   "id": "1710c3bf",
   "metadata": {
    "ExecuteTime": {
     "end_time": "2023-12-31T17:46:18.157401Z",
     "start_time": "2023-12-31T17:46:18.126910Z"
    }
   },
   "outputs": [],
   "source": [
    "%run config_psql.ipynb"
   ]
  },
  {
   "cell_type": "markdown",
   "id": "3773860a",
   "metadata": {},
   "source": [
    "## Settings Configuration"
   ]
  },
  {
   "cell_type": "code",
   "execution_count": null,
   "id": "33156a11",
   "metadata": {
    "ExecuteTime": {
     "end_time": "2023-12-31T17:46:18.788508Z",
     "start_time": "2023-12-31T17:46:18.782285Z"
    },
    "tags": []
   },
   "outputs": [],
   "source": [
    "# Settings configurations\n",
    "\n",
    "pd.set_option('display.max_columns', None)\n",
    "pd.set_option('display.max_rows', None)"
   ]
  },
  {
   "cell_type": "markdown",
   "id": "c7525af7",
   "metadata": {},
   "source": [
    "## Importing supporting files"
   ]
  },
  {
   "cell_type": "code",
   "execution_count": null,
   "id": "2d71d05a",
   "metadata": {
    "ExecuteTime": {
     "end_time": "2023-12-31T17:46:19.671110Z",
     "start_time": "2023-12-31T17:46:19.663155Z"
    }
   },
   "outputs": [],
   "source": [
    "file_path = os.path.abspath(os.path.join(os.getcwd(), \"../../../config/\"))"
   ]
  },
  {
   "cell_type": "code",
   "execution_count": null,
   "id": "7256fada",
   "metadata": {
    "ExecuteTime": {
     "end_time": "2023-12-31T17:46:21.125366Z",
     "start_time": "2023-12-31T17:46:21.088945Z"
    }
   },
   "outputs": [],
   "source": [
    "pw = pd.read_json(file_path + '\\\\PasswordManager.json', typ = 'series')\n",
    "ground_region = pd.read_json(file_path + '\\\\ground_region.json', typ = 'series')"
   ]
  },
  {
   "cell_type": "code",
   "execution_count": null,
   "id": "7ed72b8d",
   "metadata": {
    "ExecuteTime": {
     "end_time": "2023-12-31T17:46:23.528346Z",
     "start_time": "2023-12-31T17:46:23.519189Z"
    }
   },
   "outputs": [],
   "source": [
    "bingmaps_api_key = pw['bingmaps_key']"
   ]
  },
  {
   "cell_type": "markdown",
   "id": "1f847205",
   "metadata": {},
   "source": [
    "## Getting source data from postgres"
   ]
  },
  {
   "cell_type": "code",
   "execution_count": null,
   "id": "e76b32f4",
   "metadata": {
    "ExecuteTime": {
     "end_time": "2023-12-31T17:47:21.632431Z",
     "start_time": "2023-12-31T17:47:21.621194Z"
    }
   },
   "outputs": [],
   "source": [
    "query = \"\"\"\n",
    "SELECT\n",
    "    ground_id,\n",
    "    city,\n",
    "    CASE \n",
    "        WHEN venue ILIKE '%%'||city||'%%' THEN venue\n",
    "        ELSE CONCAT(venue, ', ', city)\n",
    "    END AS address,\n",
    "    country,\n",
    "    region,\n",
    "    active,\n",
    "    coordinate\n",
    "FROM dwh.ground\n",
    "WHERE coordinate IS NULL OR country IS NULL\n",
    "\"\"\"\n",
    "\n",
    "query = \"\"\"\n",
    "SELECT\n",
    "    ground_id,\n",
    "    city,\n",
    "    venue,\n",
    "    country,\n",
    "    region,\n",
    "    active\n",
    "FROM dwh.ground\n",
    "WHERE longitude IS NULL OR latitude IS NULL OR country IS NULL OR region IS NULL\n",
    "\"\"\""
   ]
  },
  {
   "cell_type": "code",
   "execution_count": null,
   "id": "7e7d1272",
   "metadata": {
    "ExecuteTime": {
     "end_time": "2023-12-31T17:47:34.288056Z",
     "start_time": "2023-12-31T17:47:33.068206Z"
    }
   },
   "outputs": [],
   "source": [
    "with engine.connect() as conn:\n",
    "    df_ground = pd.read_sql_query(query,con = engine)"
   ]
  },
  {
   "cell_type": "code",
   "execution_count": null,
   "id": "0ac14ee4",
   "metadata": {
    "ExecuteTime": {
     "end_time": "2023-12-31T17:49:03.669422Z",
     "start_time": "2023-12-31T17:48:12.214042Z"
    }
   },
   "outputs": [],
   "source": [
    "print(\"There are {0} ground entries to be filled. Hang tight!\\n\".format(len(df_ground)))\n",
    "\n",
    "for index,row in df_ground.iterrows():\n",
    "    if row['city'] not in row['venue']:\n",
    "        location = row['venue'] + ', ' + row['city']\n",
    "    else:\n",
    "        location = row['venue']   \n",
    "    result = geocode(location,\n",
    "                     api_key = bingmaps_api_key,\n",
    "                     provider = 'Bing',\n",
    "                     user_agent = 'Dream11')\n",
    "    \n",
    "    longitude = result['geometry'][0].x\n",
    "    latitude = result['geometry'][0].y\n",
    "    \n",
    "    df_ground.at[index, 'longitude'] = longitude\n",
    "    df_ground.at[index, 'latitude'] = latitude\n",
    "    df_ground.at[index, 'country'] = result['address'].str.split(', ')[0][-1]\n",
    "    print(\"{0} grounds completed\".format(index+1))\n",
    "    \n",
    "for index, row in df_ground.iterrows():\n",
    "    df_ground.at[index, 'region'] = ground_region[row['country']]"
   ]
  },
  {
   "cell_type": "code",
   "execution_count": null,
   "id": "e7a2db83",
   "metadata": {
    "ExecuteTime": {
     "end_time": "2023-12-31T17:50:07.859747Z",
     "start_time": "2023-12-31T17:50:06.430002Z"
    }
   },
   "outputs": [],
   "source": [
    "qry = psql.upsert(\n",
    "    engine,\n",
    "    dataFrame = df_ground,\n",
    "    table = \"ground\",\n",
    "    schema = \"dwh\",\n",
    "    pk_col = ['ground_id'],\n",
    "    update_col = ['country','region','longitude','latitude']\n",
    ")"
   ]
  }
 ],
 "metadata": {
  "kernelspec": {
   "display_name": "Python 3 (ipykernel)",
   "language": "python",
   "name": "python3"
  },
  "language_info": {
   "codemirror_mode": {
    "name": "ipython",
    "version": 3
   },
   "file_extension": ".py",
   "mimetype": "text/x-python",
   "name": "python",
   "nbconvert_exporter": "python",
   "pygments_lexer": "ipython3",
   "version": "3.11.5"
  }
 },
 "nbformat": 4,
 "nbformat_minor": 5
}
