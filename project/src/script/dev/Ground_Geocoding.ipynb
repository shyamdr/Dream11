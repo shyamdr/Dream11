{
 "cells": [
  {
   "cell_type": "markdown",
   "id": "b85b9ee8",
   "metadata": {
    "tags": []
   },
   "source": [
    "## Importing Libraries"
   ]
  },
  {
   "cell_type": "code",
   "execution_count": 266,
   "id": "a26ef43b",
   "metadata": {
    "ExecuteTime": {
     "end_time": "2023-12-31T13:34:04.839369Z",
     "start_time": "2023-12-31T13:34:04.813565Z"
    },
    "tags": []
   },
   "outputs": [],
   "source": [
    "import pandas as pd\n",
    "import os\n",
    "from geopandas.tools import geocode"
   ]
  },
  {
   "cell_type": "markdown",
   "id": "3b1b8138",
   "metadata": {},
   "source": [
    "## Postgres Configuration"
   ]
  },
  {
   "cell_type": "code",
   "execution_count": 267,
   "id": "1710c3bf",
   "metadata": {
    "ExecuteTime": {
     "end_time": "2023-12-31T13:34:05.206251Z",
     "start_time": "2023-12-31T13:34:05.162682Z"
    }
   },
   "outputs": [],
   "source": [
    "%run config_psql.ipynb"
   ]
  },
  {
   "cell_type": "markdown",
   "id": "3773860a",
   "metadata": {},
   "source": [
    "## Settings Configuration"
   ]
  },
  {
   "cell_type": "code",
   "execution_count": 268,
   "id": "33156a11",
   "metadata": {
    "ExecuteTime": {
     "end_time": "2023-12-31T13:34:05.489651Z",
     "start_time": "2023-12-31T13:34:05.482734Z"
    },
    "tags": []
   },
   "outputs": [],
   "source": [
    "# Settings configurations\n",
    "\n",
    "pd.set_option('display.max_columns', None)\n",
    "pd.set_option('display.max_rows', None)"
   ]
  },
  {
   "cell_type": "markdown",
   "id": "eddd5c6d",
   "metadata": {},
   "source": [
    "## Importing supporting files"
   ]
  },
  {
   "cell_type": "code",
   "execution_count": 269,
   "id": "7d7f7ad6",
   "metadata": {
    "ExecuteTime": {
     "end_time": "2023-12-31T13:34:05.888156Z",
     "start_time": "2023-12-31T13:34:05.877677Z"
    }
   },
   "outputs": [],
   "source": [
    "file_path = os.path.abspath(os.path.join(os.getcwd(), \"../../../config/\"))"
   ]
  },
  {
   "cell_type": "code",
   "execution_count": 270,
   "id": "b18e21b3",
   "metadata": {
    "ExecuteTime": {
     "end_time": "2023-12-31T13:34:06.238701Z",
     "start_time": "2023-12-31T13:34:06.195048Z"
    }
   },
   "outputs": [],
   "source": [
    "pw = pd.read_json(file_path + '\\\\PasswordManager.json', typ = 'series')\n",
    "ground_region = pd.read_json(file_path + '\\\\ground_region.json', typ = 'series')"
   ]
  },
  {
   "cell_type": "code",
   "execution_count": 271,
   "id": "b1cb3cc0",
   "metadata": {
    "ExecuteTime": {
     "end_time": "2023-12-31T13:34:08.120570Z",
     "start_time": "2023-12-31T13:34:08.115775Z"
    }
   },
   "outputs": [],
   "source": [
    "bingmaps_api_key = pw['bingmaps_key']"
   ]
  },
  {
   "cell_type": "markdown",
   "id": "1f847205",
   "metadata": {},
   "source": [
    "## Getting source data from postgres"
   ]
  },
  {
   "cell_type": "code",
   "execution_count": 258,
   "id": "305605f6",
   "metadata": {
    "ExecuteTime": {
     "end_time": "2023-12-31T13:23:47.709980Z",
     "start_time": "2023-12-31T13:23:47.695154Z"
    }
   },
   "outputs": [],
   "source": [
    "query = \"\"\"\n",
    "SELECT\n",
    "    ground_id,\n",
    "    city,\n",
    "    CASE \n",
    "        WHEN venue ILIKE '%%'||city||'%%' THEN venue\n",
    "        ELSE CONCAT(venue, ', ', city)\n",
    "    END AS address,\n",
    "    country,\n",
    "    region,\n",
    "    active,\n",
    "    coordinate\n",
    "FROM dwh.ground\n",
    "WHERE coordinate IS NULL OR country IS NULL\n",
    "\"\"\"\n",
    "\n",
    "query = \"\"\"\n",
    "SELECT\n",
    "    ground_id,\n",
    "    city,\n",
    "    venue,\n",
    "    country,\n",
    "    region,\n",
    "    active,\n",
    "    coordinate\n",
    "FROM dwh.ground\n",
    "WHERE coordinate IS NULL OR country IS NULL\n",
    "\"\"\""
   ]
  },
  {
   "cell_type": "code",
   "execution_count": 259,
   "id": "45666e43",
   "metadata": {
    "ExecuteTime": {
     "end_time": "2023-12-31T13:23:51.343433Z",
     "start_time": "2023-12-31T13:23:49.118765Z"
    }
   },
   "outputs": [],
   "source": [
    "with engine.connect() as conn:\n",
    "    df_ground = pd.read_sql_query(query,con = engine)"
   ]
  },
  {
   "cell_type": "code",
   "execution_count": 260,
   "id": "92bd4852",
   "metadata": {
    "ExecuteTime": {
     "end_time": "2023-12-31T13:25:00.109721Z",
     "start_time": "2023-12-31T13:23:55.474227Z"
    }
   },
   "outputs": [
    {
     "name": "stdout",
     "output_type": "stream",
     "text": [
      "There are 65 ground entries to be filled. Hang tight!\n",
      "\n",
      "1 grounds completed\n",
      "2 grounds completed\n",
      "3 grounds completed\n",
      "4 grounds completed\n",
      "5 grounds completed\n",
      "6 grounds completed\n",
      "7 grounds completed\n",
      "8 grounds completed\n",
      "9 grounds completed\n",
      "10 grounds completed\n",
      "11 grounds completed\n",
      "12 grounds completed\n",
      "13 grounds completed\n",
      "14 grounds completed\n",
      "15 grounds completed\n",
      "16 grounds completed\n",
      "17 grounds completed\n",
      "18 grounds completed\n",
      "19 grounds completed\n",
      "20 grounds completed\n",
      "21 grounds completed\n",
      "22 grounds completed\n",
      "23 grounds completed\n",
      "24 grounds completed\n",
      "25 grounds completed\n",
      "26 grounds completed\n",
      "27 grounds completed\n",
      "28 grounds completed\n",
      "29 grounds completed\n",
      "30 grounds completed\n",
      "31 grounds completed\n",
      "32 grounds completed\n",
      "33 grounds completed\n",
      "34 grounds completed\n",
      "35 grounds completed\n",
      "36 grounds completed\n",
      "37 grounds completed\n",
      "38 grounds completed\n",
      "39 grounds completed\n",
      "40 grounds completed\n",
      "41 grounds completed\n",
      "42 grounds completed\n",
      "43 grounds completed\n",
      "44 grounds completed\n",
      "45 grounds completed\n",
      "46 grounds completed\n",
      "47 grounds completed\n",
      "48 grounds completed\n",
      "49 grounds completed\n",
      "50 grounds completed\n",
      "51 grounds completed\n",
      "52 grounds completed\n",
      "53 grounds completed\n",
      "54 grounds completed\n",
      "55 grounds completed\n",
      "56 grounds completed\n",
      "57 grounds completed\n",
      "58 grounds completed\n",
      "59 grounds completed\n",
      "60 grounds completed\n",
      "61 grounds completed\n",
      "62 grounds completed\n",
      "63 grounds completed\n",
      "64 grounds completed\n",
      "65 grounds completed\n"
     ]
    }
   ],
   "source": [
    "print(\"There are {0} ground entries to be filled. Hang tight!\\n\".format(len(df_ground)))\n",
    "\n",
    "for index,row in df_ground.iterrows():\n",
    "    if row['city'] not in row['venue']:\n",
    "        location = row['venue'] + ', ' + row['city']\n",
    "    else:\n",
    "        location = row['venue']   \n",
    "    result = geocode(location,\n",
    "                     api_key = bingmaps_api_key,\n",
    "                     provider = 'Bing',\n",
    "                     user_agent = 'Dream11')\n",
    "    df_ground.at[index, 'coordinate'] = result['geometry']\n",
    "    df_ground.at[index, 'country'] = result['address'].str.split(', ')[0][-1]\n",
    "    print(\"{0} grounds completed\".format(index+1))\n",
    "    \n",
    "for index, row in df_ground.iterrows():\n",
    "    df_ground.at[index, 'region'] = ground_region[row['country']]"
   ]
  }
 ],
 "metadata": {
  "kernelspec": {
   "display_name": "Python 3 (ipykernel)",
   "language": "python",
   "name": "python3"
  },
  "language_info": {
   "codemirror_mode": {
    "name": "ipython",
    "version": 3
   },
   "file_extension": ".py",
   "mimetype": "text/x-python",
   "name": "python",
   "nbconvert_exporter": "python",
   "pygments_lexer": "ipython3",
   "version": "3.9.13"
  }
 },
 "nbformat": 4,
 "nbformat_minor": 5
}
