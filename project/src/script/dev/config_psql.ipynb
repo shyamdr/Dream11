{
 "cells": [
  {
   "cell_type": "code",
   "execution_count": 1,
   "id": "97b87e53",
   "metadata": {
    "ExecuteTime": {
     "end_time": "2023-12-18T17:09:55.749327Z",
     "start_time": "2023-12-18T17:09:55.683850Z"
    },
    "execution": {
     "iopub.execute_input": "2024-10-05T09:59:35.771107Z",
     "iopub.status.busy": "2024-10-05T09:59:35.770103Z",
     "iopub.status.idle": "2024-10-05T09:59:37.546502Z",
     "shell.execute_reply": "2024-10-05T09:59:37.544473Z",
     "shell.execute_reply.started": "2024-10-05T09:59:35.771107Z"
    }
   },
   "outputs": [],
   "source": [
    "import pandas as pd\n",
    "import os\n",
    "from sqlalchemy import create_engine\n",
    "import psycopg2"
   ]
  },
  {
   "cell_type": "code",
   "execution_count": 5,
   "id": "f815bee3",
   "metadata": {
    "ExecuteTime": {
     "end_time": "2023-12-18T17:09:56.023695Z",
     "start_time": "2023-12-18T17:09:55.993950Z"
    },
    "execution": {
     "iopub.execute_input": "2024-10-05T10:00:25.844910Z",
     "iopub.status.busy": "2024-10-05T10:00:25.843962Z",
     "iopub.status.idle": "2024-10-05T10:00:25.852512Z",
     "shell.execute_reply": "2024-10-05T10:00:25.850495Z",
     "shell.execute_reply.started": "2024-10-05T10:00:25.844910Z"
    }
   },
   "outputs": [],
   "source": [
    "pw_file_path = os.path.abspath(os.path.join(os.getcwd(), \"../../../config/\"))"
   ]
  },
  {
   "cell_type": "code",
   "execution_count": 6,
   "id": "a189b1dc",
   "metadata": {
    "ExecuteTime": {
     "end_time": "2023-12-18T17:09:56.289133Z",
     "start_time": "2023-12-18T17:09:56.175945Z"
    },
    "execution": {
     "iopub.execute_input": "2024-10-05T10:00:27.471257Z",
     "iopub.status.busy": "2024-10-05T10:00:27.471257Z",
     "iopub.status.idle": "2024-10-05T10:00:27.525714Z",
     "shell.execute_reply": "2024-10-05T10:00:27.523617Z",
     "shell.execute_reply.started": "2024-10-05T10:00:27.471257Z"
    }
   },
   "outputs": [],
   "source": [
    "pw = pd.read_json(pw_file_path + '\\\\PasswordManager.json', typ = 'series')"
   ]
  },
  {
   "cell_type": "code",
   "execution_count": 25,
   "id": "04621e14",
   "metadata": {
    "ExecuteTime": {
     "end_time": "2023-12-18T17:09:57.143948Z",
     "start_time": "2023-12-18T17:09:57.116489Z"
    }
   },
   "outputs": [],
   "source": [
    "username = pw['db_username']\n",
    "password = pw['db_password']\n",
    "host = pw['db_host']\n",
    "port = pw['db_port']\n",
    "database = pw['db_database']"
   ]
  },
  {
   "cell_type": "code",
   "execution_count": 26,
   "id": "779379b9-f80a-4db6-a2b5-6836e397c15e",
   "metadata": {},
   "outputs": [],
   "source": [
    "db_params = {\n",
    "    'host': pw['db_host'],\n",
    "    'database': pw['db_database'],\n",
    "    'user': pw['db_username'],\n",
    "    'password': pw['db_password'],\n",
    "    'port': pw['db_port']\n",
    "}"
   ]
  },
  {
   "cell_type": "code",
   "execution_count": 27,
   "id": "9bc6bb61-5a87-486d-833a-bef2c61ce2cc",
   "metadata": {},
   "outputs": [],
   "source": [
    "connection = psycopg2.connect(**db_params)"
   ]
  },
  {
   "cell_type": "code",
   "execution_count": 28,
   "id": "6f1b0cf8",
   "metadata": {
    "ExecuteTime": {
     "end_time": "2023-12-18T17:09:57.470427Z",
     "start_time": "2023-12-18T17:09:57.437999Z"
    }
   },
   "outputs": [],
   "source": [
    "engine = create_engine(f'postgresql://{username}:{password}@{host}:{port}/{database}')"
   ]
  }
 ],
 "metadata": {
  "kernelspec": {
   "display_name": "Python 3 (ipykernel)",
   "language": "python",
   "name": "python3"
  },
  "language_info": {
   "codemirror_mode": {
    "name": "ipython",
    "version": 3
   },
   "file_extension": ".py",
   "mimetype": "text/x-python",
   "name": "python",
   "nbconvert_exporter": "python",
   "pygments_lexer": "ipython3",
   "version": "3.11.5"
  }
 },
 "nbformat": 4,
 "nbformat_minor": 5
}
