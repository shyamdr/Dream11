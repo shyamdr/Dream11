{
 "cells": [
  {
   "cell_type": "code",
   "execution_count": 64,
   "id": "97b87e53",
   "metadata": {
    "ExecuteTime": {
     "end_time": "2023-12-03T05:35:48.466770Z",
     "start_time": "2023-12-03T05:35:48.417119Z"
    }
   },
   "outputs": [],
   "source": [
    "import pandas as pd\n",
    "import os\n",
    "from sqlalchemy import create_engine"
   ]
  },
  {
   "cell_type": "code",
   "execution_count": 60,
   "id": "f815bee3",
   "metadata": {
    "ExecuteTime": {
     "end_time": "2023-12-02T18:52:39.075020Z",
     "start_time": "2023-12-02T18:52:39.061997Z"
    }
   },
   "outputs": [],
   "source": [
    "pw_file_path = os.path.abspath(os.path.join(os.getcwd(), \"../../../config/\"))"
   ]
  },
  {
   "cell_type": "code",
   "execution_count": 61,
   "id": "a189b1dc",
   "metadata": {
    "ExecuteTime": {
     "end_time": "2023-12-02T18:52:39.354560Z",
     "start_time": "2023-12-02T18:52:39.325219Z"
    }
   },
   "outputs": [],
   "source": [
    "pw = pd.read_json(pw_file_path + '\\\\PasswordManager.json', typ = 'series')"
   ]
  },
  {
   "cell_type": "code",
   "execution_count": 62,
   "id": "04621e14",
   "metadata": {
    "ExecuteTime": {
     "end_time": "2023-12-02T18:52:39.708251Z",
     "start_time": "2023-12-02T18:52:39.700985Z"
    }
   },
   "outputs": [],
   "source": [
    "username = pw['db_username']\n",
    "password = pw['db_password']\n",
    "host = pw['db_host']\n",
    "port = pw['db_port']\n",
    "database = pw['db_database']"
   ]
  },
  {
   "cell_type": "code",
   "execution_count": 63,
   "id": "6f1b0cf8",
   "metadata": {
    "ExecuteTime": {
     "end_time": "2023-12-02T18:52:41.299581Z",
     "start_time": "2023-12-02T18:52:41.226037Z"
    }
   },
   "outputs": [],
   "source": [
    "engine = create_engine(f'postgresql://{username}:{password}@{host}:{port}/{database}')"
   ]
  }
 ],
 "metadata": {
  "kernelspec": {
   "display_name": "Python 3 (ipykernel)",
   "language": "python",
   "name": "python3"
  },
  "language_info": {
   "codemirror_mode": {
    "name": "ipython",
    "version": 3
   },
   "file_extension": ".py",
   "mimetype": "text/x-python",
   "name": "python",
   "nbconvert_exporter": "python",
   "pygments_lexer": "ipython3",
   "version": "3.9.13"
  }
 },
 "nbformat": 4,
 "nbformat_minor": 5
}
