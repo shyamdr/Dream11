{
 "cells": [
  {
   "cell_type": "code",
   "execution_count": 24,
   "id": "2478b403",
   "metadata": {
    "ExecuteTime": {
     "end_time": "2023-09-23T04:53:46.663344Z",
     "start_time": "2023-09-23T04:53:46.649855Z"
    }
   },
   "outputs": [],
   "source": [
    "import requests\n",
    "from bs4 import BeautifulSoup"
   ]
  },
  {
   "cell_type": "code",
   "execution_count": 25,
   "id": "7e8332d9",
   "metadata": {
    "ExecuteTime": {
     "end_time": "2023-09-23T04:53:46.999833Z",
     "start_time": "2023-09-23T04:53:46.987316Z"
    }
   },
   "outputs": [],
   "source": [
    "url = 'https://www.cricbuzz.com/cricket-match-squads/66183/srh-vs-rr-4th-match-indian-premier-league-2023'"
   ]
  },
  {
   "cell_type": "code",
   "execution_count": 26,
   "id": "bdfa5b87",
   "metadata": {
    "ExecuteTime": {
     "end_time": "2023-09-23T04:53:47.897170Z",
     "start_time": "2023-09-23T04:53:47.258121Z"
    }
   },
   "outputs": [],
   "source": [
    "page = requests.get(url)"
   ]
  },
  {
   "cell_type": "code",
   "execution_count": 27,
   "id": "34ef4a22",
   "metadata": {
    "ExecuteTime": {
     "end_time": "2023-09-23T04:53:48.018240Z",
     "start_time": "2023-09-23T04:53:47.897170Z"
    }
   },
   "outputs": [],
   "source": [
    "bs = BeautifulSoup(page.content, 'lxml')"
   ]
  },
  {
   "cell_type": "code",
   "execution_count": 28,
   "id": "aba65a4b",
   "metadata": {
    "ExecuteTime": {
     "end_time": "2023-09-23T04:53:49.201592Z",
     "start_time": "2023-09-23T04:53:49.184426Z"
    }
   },
   "outputs": [],
   "source": [
    "#cb-player-name-right"
   ]
  },
  {
   "cell_type": "code",
   "execution_count": 29,
   "id": "daf56c20",
   "metadata": {
    "ExecuteTime": {
     "end_time": "2023-09-23T04:53:49.650036Z",
     "start_time": "2023-09-23T04:53:49.618298Z"
    }
   },
   "outputs": [
    {
     "data": {
      "text/plain": [
       "[<p class=\"cb-srch-suggest-content-title\" ng-bind-html=\"suggest | searchfilter:oldText\"></p>,\n",
       " <p class=\"cb-srch-suggest-content-subtitle cb-font-12 cb-text-gray\">{{suggest.tag}}</p>,\n",
       " <p class=\"cb-srch-suggest-content-title\">Search for “<span ng-bind=\"searchText\"></span>”</p>]"
      ]
     },
     "execution_count": 29,
     "metadata": {},
     "output_type": "execute_result"
    }
   ],
   "source": [
    "bs.find_all('p')"
   ]
  },
  {
   "cell_type": "code",
   "execution_count": 38,
   "id": "46b665a4",
   "metadata": {
    "ExecuteTime": {
     "end_time": "2023-09-23T05:27:24.435481Z",
     "start_time": "2023-09-23T05:27:24.388697Z"
    }
   },
   "outputs": [
    {
     "data": {
      "text/plain": [
       "[<div class=\"cb-player-name-right\"> <div> Yashasvi Jaiswal <br/> <span class=\"cb-font-12 text-gray\">Batter</span> </div> </div>,\n",
       " <div class=\"cb-player-name-right\"> <div> Jos Buttler <br/> <span class=\"cb-font-12 text-gray\">WK-Batter</span> </div> </div>,\n",
       " <div class=\"cb-player-name-right\"> <div> Devdutt Padikkal <br/> <span class=\"cb-font-12 text-gray\">Batter</span> </div> </div>,\n",
       " <div class=\"cb-player-name-right\"> <div> Sanju Samson (C &amp; WK) <br/> <span class=\"cb-font-12 text-gray\">WK-Batter</span> </div> </div>,\n",
       " <div class=\"cb-player-name-right\"> <div> Riyan Parag <br/> <span class=\"cb-font-12 text-gray\">Batter</span> </div> </div>,\n",
       " <div class=\"cb-player-name-right\"> <div> Shimron Hetmyer <br/> <span class=\"cb-font-12 text-gray\">Batter</span> </div> </div>,\n",
       " <div class=\"cb-player-name-right\"> <div> Jason Holder <br/> <span class=\"cb-font-12 text-gray\">Bowling Allrounder</span> </div> </div>,\n",
       " <div class=\"cb-player-name-right\"> <div> Ravichandran Ashwin <br/> <span class=\"cb-font-12 text-gray\">Bowling Allrounder</span> </div> </div>,\n",
       " <div class=\"cb-player-name-right\"> <div> Trent Boult <br/> <span class=\"cb-font-12 text-gray\">Bowler</span> </div> </div>,\n",
       " <div class=\"cb-player-name-right\"> <div> KM Asif <br/> <span class=\"cb-font-12 text-gray\">Bowler</span> </div> </div>,\n",
       " <div class=\"cb-player-name-right\"> <div> Yuzvendra Chahal <br/> <span class=\"cb-font-12 text-gray\">Bowler</span> </div> </div>,\n",
       " <div class=\"cb-player-name-right\"> <div> Dhruv Jurel <br/> <span class=\"cb-font-12 text-gray\">WK-Batter</span> </div> </div>,\n",
       " <div class=\"cb-player-name-right\"> <div> Sandeep Sharma <br/> <span class=\"cb-font-12 text-gray\">Bowler</span> </div> </div>,\n",
       " <div class=\"cb-player-name-right\"> <div> Murugan Ashwin <br/> <span class=\"cb-font-12 text-gray\">Bowler</span> </div> </div>,\n",
       " <div class=\"cb-player-name-right\"> <div> Navdeep Saini <br/> <span class=\"cb-font-12 text-gray\">Bowler</span> </div> </div>,\n",
       " <div class=\"cb-player-name-right\"> <div> Donavon Ferreira <br/> <span class=\"cb-font-12 text-gray\">WK-Batter</span> </div> </div>,\n",
       " <div class=\"cb-player-name-right\"> <div> Obed McCoy <br/> <span class=\"cb-font-12 text-gray\">Bowler</span> </div> </div>,\n",
       " <div class=\"cb-player-name-right\"> <div> Kunal Singh Rathore <br/> <span class=\"cb-font-12 text-gray\">Batter</span> </div> </div>,\n",
       " <div class=\"cb-player-name-right\"> <div> Abdul Basith <br/> <span class=\"cb-font-12 text-gray\">Bowling Allrounder</span> </div> </div>,\n",
       " <div class=\"cb-player-name-right\"> <div> Kuldeep Sen <br/> <span class=\"cb-font-12 text-gray\">Bowler</span> </div> </div>,\n",
       " <div class=\"cb-player-name-right\"> <div> Kuldip Yadav <br/> <span class=\"cb-font-12 text-gray\">Bowler</span> </div> </div>,\n",
       " <div class=\"cb-player-name-right\"> <div> KC Cariappa <br/> <span class=\"cb-font-12 text-gray\">Bowler</span> </div> </div>,\n",
       " <div class=\"cb-player-name-right\"> <div> Akash Vasisht <br/> <span class=\"cb-font-12 text-gray\">Bowler</span> </div> </div>,\n",
       " <div class=\"cb-player-name-right\"> <div> Adam Zampa <br/> <span class=\"cb-font-12 text-gray\">Bowler</span> </div> </div>,\n",
       " <div class=\"cb-player-name-right\"> <div> Joe Root <br/> <span class=\"cb-font-12 text-gray\">Batter</span> </div> </div>,\n",
       " <div class=\"cb-player-name-right\"> <div> Trevor Penney <br/> <span class=\"cb-font-12 text-gray\">Assistant coach</span> </div> </div>,\n",
       " <div class=\"cb-player-name-right\"> <div> Kumar Sangakkara <br/> <span class=\"cb-font-12 text-gray\">Director of Cricket and Head Coach</span> </div> </div>,\n",
       " <div class=\"cb-player-name-right\"> <div> Lasith Malinga <br/> <span class=\"cb-font-12 text-gray\">Fast Bowling Coach</span> </div> </div>,\n",
       " <div class=\"cb-player-name-right\"> <div> Dishant Yagnik <br/> <span class=\"cb-font-12 text-gray\">Fielding coach</span> </div> </div>,\n",
       " <div class=\"cb-player-name-right\"> <div> Siddhartha Lahiri <br/> <span class=\"cb-font-12 text-gray\">Support Coach</span> </div> </div>]"
      ]
     },
     "execution_count": 38,
     "metadata": {},
     "output_type": "execute_result"
    }
   ],
   "source": [
    "bs.find_all('div', {\"class\": \"cb-player-name-right\"})"
   ]
  },
  {
   "cell_type": "code",
   "execution_count": 42,
   "id": "f1457d4a",
   "metadata": {
    "ExecuteTime": {
     "end_time": "2023-09-23T05:32:00.193540Z",
     "start_time": "2023-09-23T05:32:00.161003Z"
    }
   },
   "outputs": [
    {
     "name": "stdout",
     "output_type": "stream",
     "text": [
      "['Yashasvi Jaiswal', 'Batter', 'Jos Buttler', 'WK-Batter', 'Devdutt Padikkal', 'Batter', 'Sanju Samson (C & WK)', 'WK-Batter', 'Riyan Parag', 'Batter', 'Shimron Hetmyer', 'Batter', 'Jason Holder', 'Bowling Allrounder', 'Ravichandran Ashwin', 'Bowling Allrounder', 'Trent Boult', 'Bowler', 'KM Asif', 'Bowler', 'Yuzvendra Chahal', 'Bowler', 'Dhruv Jurel', 'WK-Batter', 'Sandeep Sharma', 'Bowler', 'Murugan Ashwin', 'Bowler', 'Navdeep Saini', 'Bowler', 'Donavon Ferreira', 'WK-Batter', 'Obed McCoy', 'Bowler', 'Kunal Singh Rathore', 'Batter', 'Abdul Basith', 'Bowling Allrounder', 'Kuldeep Sen', 'Bowler', 'Kuldip Yadav', 'Bowler', 'KC Cariappa', 'Bowler', 'Akash Vasisht', 'Bowler', 'Adam Zampa', 'Bowler', 'Joe Root', 'Batter', 'Trevor Penney', 'Assistant coach', 'Kumar Sangakkara', 'Director of Cricket and Head Coach', 'Lasith Malinga', 'Fast Bowling Coach', 'Dishant Yagnik', 'Fielding coach', 'Siddhartha Lahiri', 'Support Coach']\n"
     ]
    }
   ],
   "source": [
    "div_elements = bs.find_all('div', {\"class\": \"cb-player-name-right\"})\n",
    "text_parts = []\n",
    "for div in div_elements:\n",
    "    texts = div.find_all(text=True)\n",
    "    cleaned_texts = [text.strip() for text in texts if text.strip()]\n",
    "    text_parts.extend(cleaned_texts)\n",
    "print(text_parts)"
   ]
  },
  {
   "cell_type": "code",
   "execution_count": null,
   "id": "05c44e5c",
   "metadata": {},
   "outputs": [],
   "source": [
    "for di"
   ]
  },
  {
   "cell_type": "code",
   "execution_count": null,
   "id": "e4ed9b9d",
   "metadata": {},
   "outputs": [],
   "source": []
  },
  {
   "cell_type": "code",
   "execution_count": null,
   "id": "0f639983",
   "metadata": {},
   "outputs": [],
   "source": []
  },
  {
   "cell_type": "code",
   "execution_count": null,
   "id": "8ce0d82a",
   "metadata": {},
   "outputs": [],
   "source": [
    "/*\n",
    "text_parts = []\n",
    "for div in div_elements:\n",
    "    texts = div.find_all(text=True)\n",
    "    cleaned_texts = [text.strip() for text in texts if text.strip() and \n",
    "                     not text.strip().startswith('ngIf:') and \n",
    "                     not text.strip().startswith('end ngIf:') and \n",
    "                     not text.strip().startswith('ngRepeat:') and\n",
    "                     not text.strip().startswith('ngInclude:') and\n",
    "                     not text.strip().startswith('end ngRepeat')]\n",
    "    text_parts.extend(cleaned_texts)\n",
    "*/"
   ]
  },
  {
   "cell_type": "code",
   "execution_count": 35,
   "id": "ca0de443",
   "metadata": {
    "ExecuteTime": {
     "end_time": "2023-09-23T05:09:09.126151Z",
     "start_time": "2023-09-23T05:09:09.080529Z"
    }
   },
   "outputs": [
    {
     "data": {
      "text/plain": [
       "[]"
      ]
     },
     "execution_count": 35,
     "metadata": {},
     "output_type": "execute_result"
    }
   ],
   "source": [
    "bs.find_all('div', attrs={\"class\": \"cb-col cb-col-50 cb-play11-lft-col ng-scope\"})"
   ]
  },
  {
   "cell_type": "code",
   "execution_count": 37,
   "id": "0db48004",
   "metadata": {
    "ExecuteTime": {
     "end_time": "2023-09-23T05:09:27.861757Z",
     "start_time": "2023-09-23T05:09:27.816804Z"
    }
   },
   "outputs": [
    {
     "data": {
      "text/plain": [
       "[<div class=\"cb-player-name-left\"> <div> Mayank Agarwal <br/> <span class=\"cb-font-12 text-gray\">Batter</span> </div> </div>,\n",
       " <div class=\"cb-player-name-left\"> <div> Abhishek Sharma <br/> <span class=\"cb-font-12 text-gray\">Bowling Allrounder</span> </div> </div>,\n",
       " <div class=\"cb-player-name-left\"> <div> Rahul Tripathi <br/> <span class=\"cb-font-12 text-gray\">Batter</span> </div> </div>,\n",
       " <div class=\"cb-player-name-left\"> <div> Harry Brook <br/> <span class=\"cb-font-12 text-gray\">Batter</span> </div> </div>,\n",
       " <div class=\"cb-player-name-left\"> <div> Glenn Phillips (WK) <br/> <span class=\"cb-font-12 text-gray\">WK-Batter</span> </div> </div>,\n",
       " <div class=\"cb-player-name-left\"> <div> Washington Sundar <br/> <span class=\"cb-font-12 text-gray\">Batting Allrounder</span> </div> </div>,\n",
       " <div class=\"cb-player-name-left\"> <div> Bhuvneshwar Kumar (C) <br/> <span class=\"cb-font-12 text-gray\">Bowler</span> </div> </div>,\n",
       " <div class=\"cb-player-name-left\"> <div> Adil Rashid <br/> <span class=\"cb-font-12 text-gray\">Bowler</span> </div> </div>,\n",
       " <div class=\"cb-player-name-left\"> <div> T Natarajan <br/> <span class=\"cb-font-12 text-gray\">Bowler</span> </div> </div>,\n",
       " <div class=\"cb-player-name-left\"> <div> Umran Malik <br/> <span class=\"cb-font-12 text-gray\">Bowler</span> </div> </div>,\n",
       " <div class=\"cb-player-name-left\"> <div> Fazalhaq Farooqi <br/> <span class=\"cb-font-12 text-gray\">Bowler</span> </div> </div>,\n",
       " <div class=\"cb-player-name-left\"> <div> Abdul Samad <br/> <span class=\"cb-font-12 text-gray\">Batter</span> </div> </div>,\n",
       " <div class=\"cb-player-name-left\"> <div> Vivrant Sharma <br/> <span class=\"cb-font-12 text-gray\">Batting Allrounder</span> </div> </div>,\n",
       " <div class=\"cb-player-name-left\"> <div> Mayank Dagar <br/> <span class=\"cb-font-12 text-gray\">Bowler</span> </div> </div>,\n",
       " <div class=\"cb-player-name-left\"> <div> Upendra Yadav <br/> <span class=\"cb-font-12 text-gray\">WK-Batter</span> </div> </div>,\n",
       " <div class=\"cb-player-name-left\"> <div> Mayank Markande <br/> <span class=\"cb-font-12 text-gray\">Bowler</span> </div> </div>,\n",
       " <div class=\"cb-player-name-left\"> <div> Akeal Hosein <br/> <span class=\"cb-font-12 text-gray\">Bowler</span> </div> </div>,\n",
       " <div class=\"cb-player-name-left\"> <div> Samarth Vyas <br/> <span class=\"cb-font-12 text-gray\">Batter</span> </div> </div>,\n",
       " <div class=\"cb-player-name-left\"> <div> Anmolpreet Singh <br/> <span class=\"cb-font-12 text-gray\">Batter</span> </div> </div>,\n",
       " <div class=\"cb-player-name-left\"> <div> Kartik Tyagi <br/> <span class=\"cb-font-12 text-gray\">Bowler</span> </div> </div>,\n",
       " <div class=\"cb-player-name-left\"> <div> Sanvir Singh <br/> <span class=\"cb-font-12 text-gray\">Batting Allrounder</span> </div> </div>,\n",
       " <div class=\"cb-player-name-left\"> <div> Nitish Reddy <br/> <span class=\"cb-font-12 text-gray\">Batter</span> </div> </div>,\n",
       " <div class=\"cb-player-name-left\"> <div> Brian Lara <br/> <span class=\"cb-font-12 text-gray\">Head coach</span> </div> </div>,\n",
       " <div class=\"cb-player-name-left\"> <div> Hemang Badani <br/> <span class=\"cb-font-12 text-gray\">Batting coach</span> </div> </div>,\n",
       " <div class=\"cb-player-name-left\"> <div> Simon Helmot <br/> <span class=\"cb-font-12 text-gray\">Assistant coach</span> </div> </div>,\n",
       " <div class=\"cb-player-name-left\"> <div> Muttiah Muralitharan <br/> <span class=\"cb-font-12 text-gray\">Spin-bowling and strategic coach</span> </div> </div>,\n",
       " <div class=\"cb-player-name-left\"> <div> Ryan Cook <br/> <span class=\"cb-font-12 text-gray\">Fielding coach</span> </div> </div>,\n",
       " <div class=\"cb-player-name-left\"> <div> Dale Steyn <br/> <span class=\"cb-font-12 text-gray\">Fast Bowling coach</span> </div> </div>]"
      ]
     },
     "execution_count": 37,
     "metadata": {},
     "output_type": "execute_result"
    }
   ],
   "source": [
    "bs.find_all('div', {\"class\" : \"cb-player-name-left\"})"
   ]
  },
  {
   "cell_type": "code",
   "execution_count": null,
   "id": "1a9a2854",
   "metadata": {},
   "outputs": [],
   "source": []
  }
 ],
 "metadata": {
  "kernelspec": {
   "display_name": "Python 3 (ipykernel)",
   "language": "python",
   "name": "python3"
  },
  "language_info": {
   "codemirror_mode": {
    "name": "ipython",
    "version": 3
   },
   "file_extension": ".py",
   "mimetype": "text/x-python",
   "name": "python",
   "nbconvert_exporter": "python",
   "pygments_lexer": "ipython3",
   "version": "3.9.13"
  }
 },
 "nbformat": 4,
 "nbformat_minor": 5
}
