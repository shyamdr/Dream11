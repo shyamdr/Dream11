{
 "cells": [
  {
   "cell_type": "code",
   "execution_count": 8,
   "id": "2478b403",
   "metadata": {
    "ExecuteTime": {
     "end_time": "2023-09-24T05:01:21.007404Z",
     "start_time": "2023-09-24T05:01:21.002589Z"
    },
    "execution": {
     "iopub.execute_input": "2024-02-06T17:29:43.687707Z",
     "iopub.status.busy": "2024-02-06T17:29:43.685173Z",
     "iopub.status.idle": "2024-02-06T17:29:43.695535Z",
     "shell.execute_reply": "2024-02-06T17:29:43.694008Z",
     "shell.execute_reply.started": "2024-02-06T17:29:43.686185Z"
    }
   },
   "outputs": [],
   "source": [
    "import requests\n",
    "from bs4 import BeautifulSoup"
   ]
  },
  {
   "cell_type": "code",
   "execution_count": null,
   "id": "84853f1b-f4cf-4110-971f-5e7934052c0b",
   "metadata": {},
   "outputs": [],
   "source": [
    "year = '2023'\n",
    "series = 'indian-premier-league-2023'\n",
    "matchid = '66173'\n",
    "scroll_pause_time = 7"
   ]
  },
  {
   "cell_type": "code",
   "execution_count": 9,
   "id": "7e8332d9",
   "metadata": {
    "ExecuteTime": {
     "end_time": "2023-09-24T05:01:21.290850Z",
     "start_time": "2023-09-24T05:01:21.280527Z"
    },
    "execution": {
     "iopub.execute_input": "2024-02-06T17:29:44.116022Z",
     "iopub.status.busy": "2024-02-06T17:29:44.116022Z",
     "iopub.status.idle": "2024-02-06T17:29:44.124968Z",
     "shell.execute_reply": "2024-02-06T17:29:44.123936Z",
     "shell.execute_reply.started": "2024-02-06T17:29:44.116022Z"
    }
   },
   "outputs": [],
   "source": [
    "url = 'https://www.cricbuzz.com/cricket-match-squads/66183/srh-vs-rr-4th-match-indian-premier-league-2023'\n",
    "dict_col = {\"host\" : \"left\", \"visitor\" : \"right\"}"
   ]
  },
  {
   "cell_type": "code",
   "execution_count": 10,
   "id": "34ef4a22",
   "metadata": {
    "ExecuteTime": {
     "end_time": "2023-09-24T05:01:21.613176Z",
     "start_time": "2023-09-24T05:01:21.598519Z"
    },
    "execution": {
     "iopub.execute_input": "2024-02-06T17:29:44.542626Z",
     "iopub.status.busy": "2024-02-06T17:29:44.537588Z",
     "iopub.status.idle": "2024-02-06T17:29:44.554215Z",
     "shell.execute_reply": "2024-02-06T17:29:44.554215Z",
     "shell.execute_reply.started": "2024-02-06T17:29:44.542626Z"
    }
   },
   "outputs": [],
   "source": [
    "def find_C_WK(team):\n",
    "    div_elements = bs.find_all('div', {\"class\": \"cb-player-name-\" + team})\n",
    "    text_parts = []\n",
    "    for div in div_elements:\n",
    "        texts = div.find_all(string=True)\n",
    "        cleaned_texts = [text.strip() for text in texts if text.strip() and \n",
    "                         ('(C)' in text or\n",
    "                         '(WK)' in text or\n",
    "                         '(C & WK)' in text)]\n",
    "        text_parts.extend(cleaned_texts)\n",
    "    print(text_parts)"
   ]
  },
  {
   "cell_type": "code",
   "execution_count": 11,
   "id": "bdfa5b87",
   "metadata": {
    "ExecuteTime": {
     "end_time": "2023-09-24T05:01:22.430781Z",
     "start_time": "2023-09-24T05:01:21.917543Z"
    },
    "execution": {
     "iopub.execute_input": "2024-02-06T17:29:44.992531Z",
     "iopub.status.busy": "2024-02-06T17:29:44.992531Z",
     "iopub.status.idle": "2024-02-06T17:29:46.208488Z",
     "shell.execute_reply": "2024-02-06T17:29:46.208488Z",
     "shell.execute_reply.started": "2024-02-06T17:29:44.992531Z"
    }
   },
   "outputs": [],
   "source": [
    "page = requests.get(url)\n",
    "bs = BeautifulSoup(page.content, 'lxml')"
   ]
  },
  {
   "cell_type": "code",
   "execution_count": 12,
   "id": "030a5d50",
   "metadata": {
    "ExecuteTime": {
     "end_time": "2023-09-24T05:01:52.020900Z",
     "start_time": "2023-09-24T05:01:52.000623Z"
    },
    "execution": {
     "iopub.execute_input": "2024-02-06T17:29:46.267579Z",
     "iopub.status.busy": "2024-02-06T17:29:46.267579Z",
     "iopub.status.idle": "2024-02-06T17:29:46.319103Z",
     "shell.execute_reply": "2024-02-06T17:29:46.314375Z",
     "shell.execute_reply.started": "2024-02-06T17:29:46.267579Z"
    }
   },
   "outputs": [
    {
     "name": "stdout",
     "output_type": "stream",
     "text": [
      "host - ['Glenn Phillips (WK)', 'Bhuvneshwar Kumar (C)']\n",
      "visitor - ['Sanju Samson (C & WK)']\n"
     ]
    }
   ],
   "source": [
    "for i in dict_col:\n",
    "    print(i + \" - \", end = \"\")\n",
    "    find_C_WK(dict_col[i])"
   ]
  },
  {
   "cell_type": "code",
   "execution_count": null,
   "id": "beedec83-3b84-4a7a-a223-d45b21ea1e53",
   "metadata": {},
   "outputs": [],
   "source": []
  },
  {
   "cell_type": "code",
   "execution_count": null,
   "id": "7d02030f-9918-4e72-9f84-3ae2912993ff",
   "metadata": {},
   "outputs": [],
   "source": []
  },
  {
   "cell_type": "code",
   "execution_count": null,
   "id": "3972daad-2248-4be0-bf02-f6867a76a53c",
   "metadata": {},
   "outputs": [],
   "source": []
  },
  {
   "cell_type": "code",
   "execution_count": null,
   "id": "487143e5-098d-4339-9e3d-56055bc5b6b5",
   "metadata": {},
   "outputs": [],
   "source": []
  },
  {
   "cell_type": "code",
   "execution_count": 2,
   "id": "f9617846-f2f9-4c68-9b13-82bad89c0b0e",
   "metadata": {
    "execution": {
     "iopub.execute_input": "2024-02-06T21:43:59.465106Z",
     "iopub.status.busy": "2024-02-06T21:43:59.465106Z",
     "iopub.status.idle": "2024-02-06T21:44:00.857129Z",
     "shell.execute_reply": "2024-02-06T21:44:00.855090Z",
     "shell.execute_reply.started": "2024-02-06T21:43:59.465106Z"
    }
   },
   "outputs": [
    {
     "name": "stdout",
     "output_type": "stream",
     "text": [
      "First result URL: None\n"
     ]
    }
   ],
   "source": [
    "import requests\n",
    "from bs4 import BeautifulSoup\n",
    "\n",
    "def get_first_search_result_url(query):\n",
    "    url = f\"https://www.google.com/search?q={query}\"\n",
    "    headers = {\n",
    "        \"User-Agent\": \"Mozilla/5.0 (Windows NT 10.0; Win64; x64) AppleWebKit/537.36 (KHTML, like Gecko) Chrome/96.0.4664.110 Safari/537.36\"\n",
    "    }\n",
    "    response = requests.get(url, headers=headers)\n",
    "    soup = BeautifulSoup(response.text, 'html.parser')\n",
    "    search_results = soup.find_all('a')\n",
    "    for result in search_results:\n",
    "        link = result.get('href')\n",
    "        if link and link.startswith('/url?q='):\n",
    "            return link[7:].split('&')[0]  # Extract the URL from the href attribute\n",
    "\n",
    "query = \"espncricinfo+1407871+match-playing-xi\"\n",
    "first_result_url = get_first_search_result_url(query)\n",
    "print(\"First result URL:\", first_result_url)\n"
   ]
  },
  {
   "cell_type": "code",
   "execution_count": null,
   "id": "246f1231-a85f-4dd3-8749-740e2ace512d",
   "metadata": {},
   "outputs": [],
   "source": [
    "https://www.google.com/search?q=espncricinfo+1407871+match-playing-xi"
   ]
  },
  {
   "cell_type": "code",
   "execution_count": 3,
   "id": "1250d35c-ab69-4080-a7fb-84f6f3fdddfe",
   "metadata": {
    "execution": {
     "iopub.execute_input": "2024-02-06T21:46:46.339150Z",
     "iopub.status.busy": "2024-02-06T21:46:46.335915Z",
     "iopub.status.idle": "2024-02-06T21:46:47.489611Z",
     "shell.execute_reply": "2024-02-06T21:46:47.487557Z",
     "shell.execute_reply.started": "2024-02-06T21:46:46.339150Z"
    }
   },
   "outputs": [],
   "source": [
    "url = \"https://www.google.com/search?q=espncricinfo+1407871+match-playing-xi\"\n",
    "response = requests.get(url)"
   ]
  },
  {
   "cell_type": "code",
   "execution_count": 6,
   "id": "33f230ba-6535-4422-827d-713078a5578e",
   "metadata": {
    "execution": {
     "iopub.execute_input": "2024-02-06T21:47:55.349187Z",
     "iopub.status.busy": "2024-02-06T21:47:55.348188Z",
     "iopub.status.idle": "2024-02-06T21:47:55.381079Z",
     "shell.execute_reply": "2024-02-06T21:47:55.379705Z",
     "shell.execute_reply.started": "2024-02-06T21:47:55.349187Z"
    }
   },
   "outputs": [],
   "source": [
    "soup = BeautifulSoup(response.text, 'html.parser')"
   ]
  },
  {
   "cell_type": "code",
   "execution_count": 11,
   "id": "e4ec9d3b-1fa2-4a3d-b979-76d7c796cfaa",
   "metadata": {
    "execution": {
     "iopub.execute_input": "2024-02-06T21:51:06.310375Z",
     "iopub.status.busy": "2024-02-06T21:51:06.309382Z",
     "iopub.status.idle": "2024-02-06T21:51:06.318320Z",
     "shell.execute_reply": "2024-02-06T21:51:06.317303Z",
     "shell.execute_reply.started": "2024-02-06T21:51:06.310375Z"
    }
   },
   "outputs": [],
   "source": [
    "search_results = soup.find_all('a')"
   ]
  },
  {
   "cell_type": "code",
   "execution_count": 21,
   "id": "5e11a1c2-75bc-4c25-ae4d-3690e3320c78",
   "metadata": {
    "execution": {
     "iopub.execute_input": "2024-02-06T22:02:23.169161Z",
     "iopub.status.busy": "2024-02-06T22:02:23.169161Z",
     "iopub.status.idle": "2024-02-06T22:02:23.179626Z",
     "shell.execute_reply": "2024-02-06T22:02:23.177606Z",
     "shell.execute_reply.started": "2024-02-06T22:02:23.169161Z"
    }
   },
   "outputs": [
    {
     "name": "stdout",
     "output_type": "stream",
     "text": [
      "/url?q=https://www.espncricinfo.com/series/women-s-t20-quadrangular-series-in-hong-kong-2023-24-1407858/hong-kong-women-vs-tanzania-women-final-1407871/match-playing-xi&sa=U&ved=2ahUKEwjm1eSe2JeEAxVxbmwGHTzeBfkQFnoECAIQAg&usg=AOvVaw3KCySKJBKQv8RCmelgVDEs\n",
      "/url?q=https://www.espncricinfo.com/series/women-s-t20-quadrangular-series-in-hong-kong-2023-24-1407858/hong-kong-women-vs-tanzania-women-final-1407871/live-cricket-score&sa=U&ved=2ahUKEwjm1eSe2JeEAxVxbmwGHTzeBfkQFnoECAoQAg&usg=AOvVaw2IBYx5z91ZogR_SM_ehgS4\n",
      "/url?q=https://www.espncricinfo.com/series/abu-dhabi-t10-2023-24-1410670/team-abu-dhabi-vs-chennai-braves-4th-match-1410674/match-playing-xi&sa=U&ved=2ahUKEwjm1eSe2JeEAxVxbmwGHTzeBfkQFnoECAkQAg&usg=AOvVaw3XjhlNw-gXzsssjikrP90Q\n",
      "/url?q=https://www.espncricinfo.com/series/super50-cup-2023-24-1401765/leeward-islands-vs-barbados-2nd-semi-final-1401796/match-playing-xi&sa=U&ved=2ahUKEwjm1eSe2JeEAxVxbmwGHTzeBfkQFnoECAYQAg&usg=AOvVaw3npdgub8ki6rbkMaaBMXah\n",
      "/url?q=https://www.espncricinfo.com/series/abu-dhabi-t10-2023-24-1410670/team-abu-dhabi-vs-deccan-gladiators-12th-match-1410682/match-playing-xi&sa=U&ved=2ahUKEwjm1eSe2JeEAxVxbmwGHTzeBfkQFnoECAQQAg&usg=AOvVaw3tdLHC7jOkjaAI8Zd2pHsy\n",
      "/url?q=https://www.espncricinfo.com/series/india-in-west-indies-2023-1381201/west-indies-vs-india-2nd-test-1381213/match-playing-xi&sa=U&ved=2ahUKEwjm1eSe2JeEAxVxbmwGHTzeBfkQFnoECAgQAg&usg=AOvVaw1pMAQSoBhwIRicfSoQydc9\n",
      "/url?q=https://www.espncricinfo.com/series/pakistan-in-australia-2023-24-1375835/australia-vs-pakistan-1st-test-1375842/match-playing-xi&sa=U&ved=2ahUKEwjm1eSe2JeEAxVxbmwGHTzeBfkQFnoECAUQAg&usg=AOvVaw0VVMMebDll7mjXFNdsdTeW\n",
      "/url?q=https://www.espncricinfo.com/series/icc-cricket-world-cup-2023-24-1367856/india-vs-australia-5th-match-1384396/match-playing-xi&sa=U&ved=2ahUKEwjm1eSe2JeEAxVxbmwGHTzeBfkQFnoECAcQAg&usg=AOvVaw1_O25ay-oOBNViKkrjMmeu\n"
     ]
    }
   ],
   "source": [
    "link_arr = []\n",
    "match_id = 1407871\n",
    "string_check = f\"{match_id}/match-playing-xi\"\n",
    "for result in search_results:\n",
    "    link = result.get('href')\n",
    "    #print(link)\n",
    "    if link and link.startswith('/url?q=https://www.espncricinfo.com/series/') and link.find(string_check):\n",
    "        #print(link[7:])\n",
    "        print(link)"
   ]
  },
  {
   "cell_type": "code",
   "execution_count": 20,
   "id": "47a80c63-5ebf-4e88-b7f2-4ad179291c07",
   "metadata": {
    "execution": {
     "iopub.execute_input": "2024-02-06T22:00:54.780318Z",
     "iopub.status.busy": "2024-02-06T22:00:54.779299Z",
     "iopub.status.idle": "2024-02-06T22:00:54.790752Z",
     "shell.execute_reply": "2024-02-06T22:00:54.790752Z",
     "shell.execute_reply.started": "2024-02-06T22:00:54.780318Z"
    }
   },
   "outputs": [
    {
     "data": {
      "text/plain": [
       "str"
      ]
     },
     "execution_count": 20,
     "metadata": {},
     "output_type": "execute_result"
    }
   ],
   "source": [
    "type(link)"
   ]
  },
  {
   "cell_type": "code",
   "execution_count": 22,
   "id": "0d60906b-40d6-4e3c-9cee-ed5b4dfe8c0a",
   "metadata": {
    "execution": {
     "iopub.execute_input": "2024-02-06T22:02:54.412285Z",
     "iopub.status.busy": "2024-02-06T22:02:54.412285Z",
     "iopub.status.idle": "2024-02-06T22:02:54.422017Z",
     "shell.execute_reply": "2024-02-06T22:02:54.421454Z",
     "shell.execute_reply.started": "2024-02-06T22:02:54.412285Z"
    }
   },
   "outputs": [
    {
     "data": {
      "text/plain": [
       "'1407871/match-playing-xi'"
      ]
     },
     "execution_count": 22,
     "metadata": {},
     "output_type": "execute_result"
    }
   ],
   "source": [
    "string_check"
   ]
  },
  {
   "cell_type": "code",
   "execution_count": 24,
   "id": "1c9ec76b-ee5f-4bee-9966-f4983b6c21bc",
   "metadata": {
    "execution": {
     "iopub.execute_input": "2024-02-06T22:03:36.212191Z",
     "iopub.status.busy": "2024-02-06T22:03:36.212191Z",
     "iopub.status.idle": "2024-02-06T22:03:36.226612Z",
     "shell.execute_reply": "2024-02-06T22:03:36.224587Z",
     "shell.execute_reply.started": "2024-02-06T22:03:36.212191Z"
    }
   },
   "outputs": [
    {
     "data": {
      "text/plain": [
       "False"
      ]
     },
     "execution_count": 24,
     "metadata": {},
     "output_type": "execute_result"
    }
   ],
   "source": [
    "string_check in link"
   ]
  },
  {
   "cell_type": "code",
   "execution_count": null,
   "id": "34fdbbfd-84cb-4cd1-93d6-4a0438d6ccf0",
   "metadata": {},
   "outputs": [],
   "source": []
  }
 ],
 "metadata": {
  "kernelspec": {
   "display_name": "Python 3 (ipykernel)",
   "language": "python",
   "name": "python3"
  },
  "language_info": {
   "codemirror_mode": {
    "name": "ipython",
    "version": 3
   },
   "file_extension": ".py",
   "mimetype": "text/x-python",
   "name": "python",
   "nbconvert_exporter": "python",
   "pygments_lexer": "ipython3",
   "version": "3.11.5"
  }
 },
 "nbformat": 4,
 "nbformat_minor": 5
}
