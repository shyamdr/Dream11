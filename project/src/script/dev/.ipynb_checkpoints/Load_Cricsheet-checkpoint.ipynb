{
 "cells": [
  {
   "cell_type": "markdown",
   "id": "b85b9ee8",
   "metadata": {
    "tags": []
   },
   "source": [
    "## Importing Libraries"
   ]
  },
  {
   "cell_type": "code",
   "execution_count": null,
   "id": "a26ef43b",
   "metadata": {
    "ExecuteTime": {
     "end_time": "2023-12-02T18:52:51.247782Z",
     "start_time": "2023-12-02T18:52:51.229240Z"
    },
    "tags": []
   },
   "outputs": [],
   "source": [
    "import requests\n",
    "import io\n",
    "import zipfile\n",
    "import re\n",
    "import pandas as pd\n",
    "import numpy as np\n",
    "import json\n",
    "import modules.psql as psql"
   ]
  },
  {
   "cell_type": "code",
   "execution_count": null,
   "id": "1710c3bf",
   "metadata": {
    "ExecuteTime": {
     "end_time": "2023-12-02T18:52:51.616705Z",
     "start_time": "2023-12-02T18:52:51.519919Z"
    }
   },
   "outputs": [],
   "source": [
    "%run config_psql.ipynb"
   ]
  },
  {
   "cell_type": "code",
   "execution_count": null,
   "id": "33156a11",
   "metadata": {
    "ExecuteTime": {
     "end_time": "2023-12-02T18:52:52.477076Z",
     "start_time": "2023-12-02T18:52:52.461935Z"
    },
    "tags": []
   },
   "outputs": [],
   "source": [
    "# Settings configurations\n",
    "\n",
    "pd.set_option('display.max_columns', None)\n",
    "pd.set_option('display.max_rows', None)"
   ]
  },
  {
   "cell_type": "code",
   "execution_count": null,
   "id": "84a070f3",
   "metadata": {
    "ExecuteTime": {
     "end_time": "2023-12-02T18:52:53.095001Z",
     "start_time": "2023-12-02T18:52:53.087586Z"
    },
    "tags": []
   },
   "outputs": [],
   "source": [
    "url = \"https://cricsheet.org/downloads/recently_played_30_json.zip\"\n",
    "filetype = \".json\""
   ]
  },
  {
   "cell_type": "code",
   "execution_count": null,
   "id": "c3f64acd",
   "metadata": {
    "ExecuteTime": {
     "end_time": "2023-12-02T18:52:57.859966Z",
     "start_time": "2023-12-02T18:52:53.648727Z"
    },
    "tags": []
   },
   "outputs": [],
   "source": [
    "response = requests.get(url)\n",
    "\n",
    "if response.status_code == 200:\n",
    "    content = response.content\n",
    "    \n",
    "    zip_file = zipfile.ZipFile(io.BytesIO(content))\n",
    "    \n",
    "    with zip_file.open('README.txt') as f:\n",
    "        lines = [line.decode('utf-8') for line in f.readlines()]\n",
    "        pattern = re.compile(r'(\\d{4}-\\d{2}-\\d{2}) - ([^-]+) - ([^-]+) - (\\w+) - (\\d+) - (.+)')\n",
    "        ids = [match.group(5) for line in lines if (match := pattern.match(line))]\n",
    "    f.close()"
   ]
  },
  {
   "cell_type": "code",
   "execution_count": null,
   "id": "2c0c4256",
   "metadata": {
    "ExecuteTime": {
     "end_time": "2023-12-02T18:52:57.885051Z",
     "start_time": "2023-12-02T18:52:57.866020Z"
    }
   },
   "outputs": [],
   "source": [
    "df_meta = pd.DataFrame()\n",
    "df_match = pd.DataFrame()\n",
    "df_official = pd.DataFrame()\n",
    "df_registry = pd.DataFrame()\n",
    "df_player_def = pd.DataFrame()\n",
    "df_innings = pd.DataFrame()\n",
    "df_deliveries = pd.DataFrame()\n",
    "df_powerplay = pd.DataFrame()\n",
    "df_absent_hurt_def = pd.DataFrame()\n",
    "df_miscounted_overs_def = pd.DataFrame()"
   ]
  },
  {
   "cell_type": "code",
   "execution_count": null,
   "id": "36ce7cd8",
   "metadata": {
    "ExecuteTime": {
     "end_time": "2023-12-02T18:53:13.436356Z",
     "start_time": "2023-12-02T18:52:57.887090Z"
    },
    "code_folding": []
   },
   "outputs": [],
   "source": [
    "print(len(ids), \" files present\")\n",
    "for file in ids:\n",
    "    with zip_file.open(file+filetype) as jsonfile:\n",
    "        data = json.load(jsonfile)\n",
    "      \n",
    "        # DataFrame to store - Metadata\n",
    "        df_meta = pd.concat([df_meta, pd.DataFrame([data[\"meta\"]]).assign(filename=file, filetype=filetype)])\n",
    "        df_meta['created'] = pd.to_datetime(df_meta['created'])\n",
    "        \n",
    "        # DataFrame to store - match details\n",
    "        df_info = pd.DataFrame([data[\"info\"]])\n",
    "        df_match_temp = pd.concat([\n",
    "            pd.json_normalize(df_info['event'], sep='_').add_prefix('event_'),\n",
    "            pd.DataFrame(df_info[list(set(['balls_per_over','season', 'gender', 'city', 'venue', 'match_type', 'match_type_number', 'overs', 'team_type']) & set(df_info.columns))]),\n",
    "            df_info['dates'].apply(lambda x: [x[0], x[-1]]).apply(pd.Series).rename(columns={0: 'start_date', 1: 'end_date'}),\n",
    "            df_info['teams'].apply(lambda x: [x[0], x[1]]).apply(pd.Series).rename(columns={0: 'team_host', 1: 'team_visitor'}),\n",
    "            pd.json_normalize(df_info['toss'], sep='_').add_prefix('toss_'),\n",
    "            pd.json_normalize(df_info['outcome'], sep='_').add_prefix('outcome_')\n",
    "        ], axis=1).assign(match_id = file)\n",
    "        if 'player_of_match' in df_info.columns:\n",
    "            df_match_temp['player_of_match'] = df_info['player_of_match'].apply(lambda x: ','.join(x))\n",
    "            \n",
    "        df_match = pd.concat([df_match, df_match_temp])\n",
    "            \n",
    "        # DataFrame to store official details\n",
    "        df_umpire = pd.json_normalize(df_info['officials'], sep = '_')\n",
    "\n",
    "        umpire_set = set()\n",
    "        for column in df_umpire.columns:\n",
    "            umpire_set.update(df_umpire[column].explode().dropna())\n",
    "\n",
    "        df_umpire2 = pd.DataFrame(index=list(umpire_set), columns=df_umpire.columns).fillna(False)\n",
    "        for column in df_umpire.columns:\n",
    "            df_umpire2[column] = df_umpire2.index.isin(df_umpire[column].explode().dropna())\n",
    "        df_umpire2 = df_umpire2.reset_index().rename(columns={'index': 'name'}).assign(match_id = file)     \n",
    "        \n",
    "        df_official = pd.concat([df_official, df_umpire2])\n",
    "\n",
    "        # DataFrame to store - registry details\n",
    "        df_registry = pd.DataFrame(list(data[\"info\"][\"registry\"][\"people\"].items()), columns=['people', 'identifier']).assign(match_id = file)\n",
    "\n",
    "        # DataFrame to store - match player details\n",
    "        df_player = pd.json_normalize(df_info['players']).melt(var_name='team', value_name='player').explode('player').assign(match_id = file)\n",
    "        \n",
    "        # DataFrame to store - innings ball-by-ball details\n",
    "        df_innings = pd.concat([df_innings, pd.json_normalize(data['innings'], sep = '_').drop('overs', axis = 1).assign(match_id = file)])\n",
    "        df_deliveries = pd.concat([df_deliveries, pd.json_normalize(data['innings'], record_path=['overs', 'deliveries'], meta=['team',['overs', 'over']], sep='_').assign(match_id = file)])\n",
    "        \n",
    "        # DataFrame to store - powerplay details\n",
    "        for i in data['innings']:\n",
    "            if 'powerplays' in pd.json_normalize(i).columns:\n",
    "                index = data['innings'].index(i)\n",
    "                df_powerplay = pd.concat([df_powerplay, pd.json_normalize(data['innings'][index], record_path = ['powerplays'], meta = ['team'], sep = '_').assign(match_id = file)])\n",
    "           \n",
    "        if 'absent_hurt' in df_innings.columns:\n",
    "            df_absent_hurt = df_innings[['team','absent_hurt']].explode('absent_hurt').assign(match_id = file)\n",
    "        df_miscounted_overs = pd.DataFrame([\n",
    "            {\n",
    "                \"team\": inning.get(\"team\", \"\"),\n",
    "                \"miscounted_over\": over_number,\n",
    "                \"balls\": over_data.get(\"balls\", \"\"),\n",
    "                \"umpire\": over_data.get(\"umpire\", \"\")\n",
    "            }\n",
    "            for inning in data.get(\"innings\", [])\n",
    "            for over_number, over_data in inning.get(\"miscounted_overs\", {}).items()\n",
    "        ])\n",
    "    print(file + \" executed!\")"
   ]
  },
  {
   "cell_type": "code",
   "execution_count": null,
   "id": "9590f3c4",
   "metadata": {
    "ExecuteTime": {
     "end_time": "2023-12-02T17:37:15.090323Z",
     "start_time": "2023-12-02T17:37:15.042887Z"
    }
   },
   "outputs": [],
   "source": [
    "# Merging registry details into match-player details\n",
    "df_player.reset_index(inplace = True, drop = True)\n",
    "df_player.rename(columns = {'player':'name'}, inplace = True)\n",
    "df_player['player_id'] = df_player.merge(df_registry, how='left', left_on=['match_id', 'name'], right_on=['match_id', 'people'])['identifier']"
   ]
  },
  {
   "cell_type": "code",
   "execution_count": null,
   "id": "f9a8c085",
   "metadata": {
    "ExecuteTime": {
     "end_time": "2023-12-02T17:37:15.816137Z",
     "start_time": "2023-12-02T17:37:15.418201Z"
    }
   },
   "outputs": [],
   "source": [
    "# Upsert MetaData information\n",
    "query = psql.upsert(\n",
    "    engine,\n",
    "    dataFrame = df_meta,\n",
    "    table = \"meta\",\n",
    "    schema = \"dwh\",\n",
    "    pk_col = list(df_meta.columns),\n",
    "    update_col = list(df_meta.columns))"
   ]
  },
  {
   "cell_type": "code",
   "execution_count": null,
   "id": "a24fd426",
   "metadata": {
    "ExecuteTime": {
     "end_time": "2023-12-02T17:37:16.476262Z",
     "start_time": "2023-12-02T17:37:16.132761Z"
    }
   },
   "outputs": [],
   "source": [
    "# Load player-match information\n",
    "match_id_list = \", \".join([f\"'{match_id}'\" for match_id in ids])\n",
    "\n",
    "with engine.connect() as conn:\n",
    "    conn.execute(f\"DELETE FROM dwh.match_player WHERE match_id IN ({match_id_list})\")\n",
    "    \n",
    "count_rows = df_player.to_sql('match_player', schema='dwh', con=engine, if_exists='append', method='multi', index=False)\n",
    "\n",
    "with engine.connect() as conn:\n",
    "    conn.execute(\"\"\"\n",
    "        UPDATE dwh.match_player MP\n",
    "        SET is_registered = FALSE\n",
    "        FROM dwh.people P\n",
    "        WHERE MP.player_id = P.identifier AND P.identifier IS NULL;\n",
    "    \"\"\")"
   ]
  },
  {
   "cell_type": "code",
   "execution_count": null,
   "id": "0d3d2fb3",
   "metadata": {
    "ExecuteTime": {
     "end_time": "2023-12-02T17:37:18.743236Z",
     "start_time": "2023-12-02T17:37:18.256078Z"
    }
   },
   "outputs": [],
   "source": [
    "# Load match information into Stage table\n",
    "with engine.connect() as conn:\n",
    "    conn.execute(\"TRUNCATE TABLE stg.match\")\n",
    "\n",
    "count_rows = df_match.to_sql('match', schema = 'stg', con = engine, if_exists='append', method = 'multi', index = False)"
   ]
  },
  {
   "cell_type": "code",
   "execution_count": null,
   "id": "68462262",
   "metadata": {
    "ExecuteTime": {
     "end_time": "2023-12-02T17:37:30.587142Z",
     "start_time": "2023-12-02T17:37:30.511035Z"
    }
   },
   "outputs": [],
   "source": [
    "with engine.connect() as conn:\n",
    "    conn.execution_options(isolation_level = \"AUTOCOMMIT\")\n",
    "    with conn.begin():\n",
    "        conn.execute(\"CALL dwh.LoadMatch()\")"
   ]
  }
 ],
 "metadata": {
  "kernelspec": {
   "display_name": "Python 3 (ipykernel)",
   "language": "python",
   "name": "python3"
  },
  "language_info": {
   "codemirror_mode": {
    "name": "ipython",
    "version": 3
   },
   "file_extension": ".py",
   "mimetype": "text/x-python",
   "name": "python",
   "nbconvert_exporter": "python",
   "pygments_lexer": "ipython3",
   "version": "3.9.13"
  },
  "toc": {
   "base_numbering": 1,
   "nav_menu": {},
   "number_sections": true,
   "sideBar": true,
   "skip_h1_title": false,
   "title_cell": "Table of Contents",
   "title_sidebar": "Contents",
   "toc_cell": false,
   "toc_position": {},
   "toc_section_display": true,
   "toc_window_display": false
  },
  "varInspector": {
   "cols": {
    "lenName": 16,
    "lenType": 16,
    "lenVar": 40
   },
   "kernels_config": {
    "python": {
     "delete_cmd_postfix": "",
     "delete_cmd_prefix": "del ",
     "library": "var_list.py",
     "varRefreshCmd": "print(var_dic_list())"
    },
    "r": {
     "delete_cmd_postfix": ") ",
     "delete_cmd_prefix": "rm(",
     "library": "var_list.r",
     "varRefreshCmd": "cat(var_dic_list()) "
    }
   },
   "position": {
    "height": "156.042px",
    "left": "1382.44px",
    "right": "20px",
    "top": "120px",
    "width": "315.417px"
   },
   "types_to_exclude": [
    "module",
    "function",
    "builtin_function_or_method",
    "instance",
    "_Feature"
   ],
   "window_display": false
  }
 },
 "nbformat": 4,
 "nbformat_minor": 5
}
