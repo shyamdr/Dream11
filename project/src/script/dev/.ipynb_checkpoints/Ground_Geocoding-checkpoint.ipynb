{
 "cells": [
  {
   "cell_type": "markdown",
   "id": "b85b9ee8",
   "metadata": {
    "tags": []
   },
   "source": [
    "## Importing Libraries"
   ]
  },
  {
   "cell_type": "code",
   "execution_count": 279,
   "id": "a26ef43b",
   "metadata": {
    "ExecuteTime": {
     "end_time": "2023-12-31T18:01:34.167771Z",
     "start_time": "2023-12-31T18:01:34.159283Z"
    },
    "execution": {
     "iopub.execute_input": "2024-03-17T15:21:58.712348Z",
     "iopub.status.busy": "2024-03-17T15:21:58.712348Z",
     "iopub.status.idle": "2024-03-17T15:21:58.728746Z",
     "shell.execute_reply": "2024-03-17T15:21:58.727742Z",
     "shell.execute_reply.started": "2024-03-17T15:21:58.712348Z"
    },
    "tags": []
   },
   "outputs": [],
   "source": [
    "import pandas as pd\n",
    "import os\n",
    "from geopandas.tools import geocode, reverse_geocode\n",
    "import modules.psql as psql\n",
    "from shapely.geometry import Point"
   ]
  },
  {
   "cell_type": "markdown",
   "id": "3b1b8138",
   "metadata": {},
   "source": [
    "## Postgres Configuration"
   ]
  },
  {
   "cell_type": "code",
   "execution_count": 254,
   "id": "1710c3bf",
   "metadata": {
    "ExecuteTime": {
     "end_time": "2023-12-31T17:46:18.157401Z",
     "start_time": "2023-12-31T17:46:18.126910Z"
    },
    "execution": {
     "iopub.execute_input": "2024-03-17T14:51:31.398810Z",
     "iopub.status.busy": "2024-03-17T14:51:31.398810Z",
     "iopub.status.idle": "2024-03-17T14:51:31.656869Z",
     "shell.execute_reply": "2024-03-17T14:51:31.656869Z",
     "shell.execute_reply.started": "2024-03-17T14:51:31.398810Z"
    }
   },
   "outputs": [],
   "source": [
    "%run config_psql.ipynb"
   ]
  },
  {
   "cell_type": "markdown",
   "id": "3773860a",
   "metadata": {},
   "source": [
    "## Settings Configuration"
   ]
  },
  {
   "cell_type": "code",
   "execution_count": 255,
   "id": "33156a11",
   "metadata": {
    "ExecuteTime": {
     "end_time": "2023-12-31T17:46:18.788508Z",
     "start_time": "2023-12-31T17:46:18.782285Z"
    },
    "execution": {
     "iopub.execute_input": "2024-03-17T14:51:31.731968Z",
     "iopub.status.busy": "2024-03-17T14:51:31.731968Z",
     "iopub.status.idle": "2024-03-17T14:51:31.742702Z",
     "shell.execute_reply": "2024-03-17T14:51:31.741690Z",
     "shell.execute_reply.started": "2024-03-17T14:51:31.731968Z"
    },
    "tags": []
   },
   "outputs": [],
   "source": [
    "# Settings configurations\n",
    "\n",
    "pd.set_option('display.max_columns', None)\n",
    "pd.set_option('display.max_rows', None)"
   ]
  },
  {
   "cell_type": "markdown",
   "id": "c7525af7",
   "metadata": {},
   "source": [
    "## Importing supporting files"
   ]
  },
  {
   "cell_type": "code",
   "execution_count": 256,
   "id": "2d71d05a",
   "metadata": {
    "ExecuteTime": {
     "end_time": "2023-12-31T17:46:19.671110Z",
     "start_time": "2023-12-31T17:46:19.663155Z"
    },
    "execution": {
     "iopub.execute_input": "2024-03-17T14:51:32.515222Z",
     "iopub.status.busy": "2024-03-17T14:51:32.513459Z",
     "iopub.status.idle": "2024-03-17T14:51:32.521134Z",
     "shell.execute_reply": "2024-03-17T14:51:32.519835Z",
     "shell.execute_reply.started": "2024-03-17T14:51:32.513459Z"
    }
   },
   "outputs": [],
   "source": [
    "file_path = os.path.abspath(os.path.join(os.getcwd(), \"../../../config/\"))"
   ]
  },
  {
   "cell_type": "code",
   "execution_count": 257,
   "id": "7256fada",
   "metadata": {
    "ExecuteTime": {
     "end_time": "2023-12-31T17:46:21.125366Z",
     "start_time": "2023-12-31T17:46:21.088945Z"
    },
    "execution": {
     "iopub.execute_input": "2024-03-17T14:51:33.098956Z",
     "iopub.status.busy": "2024-03-17T14:51:33.098956Z",
     "iopub.status.idle": "2024-03-17T14:51:33.130273Z",
     "shell.execute_reply": "2024-03-17T14:51:33.129271Z",
     "shell.execute_reply.started": "2024-03-17T14:51:33.098956Z"
    }
   },
   "outputs": [],
   "source": [
    "pw = pd.read_json(file_path + '\\\\PasswordManager.json', typ = 'series')\n",
    "ground_region = pd.read_json(file_path + '\\\\ground_region.json', typ = 'series')"
   ]
  },
  {
   "cell_type": "code",
   "execution_count": 258,
   "id": "7ed72b8d",
   "metadata": {
    "ExecuteTime": {
     "end_time": "2023-12-31T17:46:23.528346Z",
     "start_time": "2023-12-31T17:46:23.519189Z"
    },
    "execution": {
     "iopub.execute_input": "2024-03-17T14:51:33.431685Z",
     "iopub.status.busy": "2024-03-17T14:51:33.431685Z",
     "iopub.status.idle": "2024-03-17T14:51:33.439566Z",
     "shell.execute_reply": "2024-03-17T14:51:33.439566Z",
     "shell.execute_reply.started": "2024-03-17T14:51:33.431685Z"
    }
   },
   "outputs": [],
   "source": [
    "bingmaps_api_key = pw['bingmaps_key']"
   ]
  },
  {
   "cell_type": "markdown",
   "id": "1f847205",
   "metadata": {},
   "source": [
    "## Getting source data from postgres"
   ]
  },
  {
   "cell_type": "code",
   "execution_count": 271,
   "id": "e76b32f4",
   "metadata": {
    "ExecuteTime": {
     "end_time": "2023-12-31T17:47:21.632431Z",
     "start_time": "2023-12-31T17:47:21.621194Z"
    },
    "execution": {
     "iopub.execute_input": "2024-03-17T15:13:08.500600Z",
     "iopub.status.busy": "2024-03-17T15:13:08.499603Z",
     "iopub.status.idle": "2024-03-17T15:13:08.505570Z",
     "shell.execute_reply": "2024-03-17T15:13:08.504563Z",
     "shell.execute_reply.started": "2024-03-17T15:13:08.500600Z"
    }
   },
   "outputs": [],
   "source": [
    "query = \"\"\"\n",
    "SELECT\n",
    "    ground_id,\n",
    "    city,\n",
    "    venue,\n",
    "    country,\n",
    "    region,\n",
    "    active,\n",
    "    longitude,\n",
    "    latitude\n",
    "FROM dwh.ground\n",
    "WHERE longitude IS NULL OR latitude IS NULL OR country IS NULL OR region IS NULL or city is NULL\n",
    "\"\"\""
   ]
  },
  {
   "cell_type": "code",
   "execution_count": 272,
   "id": "7e7d1272",
   "metadata": {
    "ExecuteTime": {
     "end_time": "2023-12-31T17:47:34.288056Z",
     "start_time": "2023-12-31T17:47:33.068206Z"
    },
    "execution": {
     "iopub.execute_input": "2024-03-17T15:13:09.096099Z",
     "iopub.status.busy": "2024-03-17T15:13:09.096099Z",
     "iopub.status.idle": "2024-03-17T15:13:09.250053Z",
     "shell.execute_reply": "2024-03-17T15:13:09.250053Z",
     "shell.execute_reply.started": "2024-03-17T15:13:09.096099Z"
    }
   },
   "outputs": [],
   "source": [
    "with engine.connect() as conn:\n",
    "    df_ground = pd.read_sql_query(query,con = engine)"
   ]
  },
  {
   "cell_type": "code",
   "execution_count": 261,
   "id": "0ac14ee4",
   "metadata": {
    "ExecuteTime": {
     "end_time": "2023-12-31T17:49:03.669422Z",
     "start_time": "2023-12-31T17:48:12.214042Z"
    },
    "execution": {
     "iopub.execute_input": "2024-03-17T14:51:40.315977Z",
     "iopub.status.busy": "2024-03-17T14:51:40.315977Z",
     "iopub.status.idle": "2024-03-17T14:58:12.458822Z",
     "shell.execute_reply": "2024-03-17T14:58:12.458822Z",
     "shell.execute_reply.started": "2024-03-17T14:51:40.315977Z"
    }
   },
   "outputs": [
    {
     "name": "stdout",
     "output_type": "stream",
     "text": [
      "There are 796 ground entries to be filled. Hang tight!\n",
      "\n",
      "0 grounds completed\n",
      "10 grounds completed\n",
      "20 grounds completed\n",
      "30 grounds completed\n",
      "40 grounds completed\n",
      "50 grounds completed\n",
      "60 grounds completed\n",
      "70 grounds completed\n",
      "80 grounds completed\n",
      "90 grounds completed\n",
      "100 grounds completed\n",
      "110 grounds completed\n",
      "120 grounds completed\n",
      "130 grounds completed\n",
      "140 grounds completed\n",
      "150 grounds completed\n",
      "160 grounds completed\n",
      "170 grounds completed\n",
      "180 grounds completed\n",
      "190 grounds completed\n",
      "200 grounds completed\n",
      "210 grounds completed\n",
      "220 grounds completed\n",
      "230 grounds completed\n",
      "240 grounds completed\n",
      "250 grounds completed\n",
      "260 grounds completed\n",
      "270 grounds completed\n",
      "280 grounds completed\n",
      "290 grounds completed\n",
      "300 grounds completed\n",
      "310 grounds completed\n",
      "320 grounds completed\n",
      "330 grounds completed\n",
      "340 grounds completed\n",
      "350 grounds completed\n",
      "360 grounds completed\n",
      "370 grounds completed\n",
      "380 grounds completed\n",
      "390 grounds completed\n",
      "400 grounds completed\n",
      "410 grounds completed\n",
      "420 grounds completed\n",
      "430 grounds completed\n",
      "440 grounds completed\n",
      "450 grounds completed\n",
      "460 grounds completed\n",
      "470 grounds completed\n",
      "480 grounds completed\n",
      "490 grounds completed\n",
      "500 grounds completed\n",
      "510 grounds completed\n",
      "520 grounds completed\n",
      "530 grounds completed\n",
      "540 grounds completed\n",
      "550 grounds completed\n",
      "560 grounds completed\n",
      "570 grounds completed\n",
      "580 grounds completed\n",
      "590 grounds completed\n",
      "600 grounds completed\n",
      "610 grounds completed\n",
      "620 grounds completed\n",
      "630 grounds completed\n",
      "640 grounds completed\n",
      "650 grounds completed\n",
      "660 grounds completed\n",
      "670 grounds completed\n",
      "680 grounds completed\n",
      "690 grounds completed\n",
      "700 grounds completed\n",
      "710 grounds completed\n",
      "720 grounds completed\n",
      "730 grounds completed\n",
      "740 grounds completed\n",
      "750 grounds completed\n",
      "760 grounds completed\n",
      "770 grounds completed\n",
      "780 grounds completed\n",
      "790 grounds completed\n"
     ]
    }
   ],
   "source": [
    "print(\"There are {0} ground entries to be filled. Hang tight!\\n\".format(len(df_ground)))\n",
    "\n",
    "for index,row in df_ground.iterrows():\n",
    "    if row['city'] is not None and row['city'] not in row['venue']:\n",
    "        location = row['venue'] + ', ' + row['city']\n",
    "    else:\n",
    "        location = row['venue']   \n",
    "    result = geocode(location,\n",
    "                     api_key = bingmaps_api_key,\n",
    "                     provider = 'Bing',\n",
    "                     user_agent = 'Dream11')\n",
    "    \n",
    "    longitude = result['geometry'][0].x\n",
    "    latitude = result['geometry'][0].y\n",
    "    \n",
    "    df_ground.at[index, 'longitude'] = longitude\n",
    "    df_ground.at[index, 'latitude'] = latitude\n",
    "    df_ground.at[index, 'country'] = result['address'].str.split(', ')[0][-1]\n",
    "    \n",
    "    # print(\"{0} grounds completed\".format(index+1))\n",
    "    if (index%10)==0:\n",
    "        print(\"{0} grounds completed\".format(index))"
   ]
  },
  {
   "cell_type": "code",
   "execution_count": 265,
   "id": "26efc73a-f2d8-45b4-82d1-8b3fbe14e271",
   "metadata": {
    "execution": {
     "iopub.execute_input": "2024-03-17T15:11:24.883888Z",
     "iopub.status.busy": "2024-03-17T15:11:24.882970Z",
     "iopub.status.idle": "2024-03-17T15:11:24.977720Z",
     "shell.execute_reply": "2024-03-17T15:11:24.977720Z",
     "shell.execute_reply.started": "2024-03-17T15:11:24.883888Z"
    }
   },
   "outputs": [],
   "source": [
    "for index, row in df_ground.iterrows():\n",
    "    df_ground.at[index, 'region'] = ground_region[row['country']]"
   ]
  },
  {
   "cell_type": "code",
   "execution_count": 303,
   "id": "9c0b1164-d9d0-4870-903e-1fd075714759",
   "metadata": {
    "execution": {
     "iopub.execute_input": "2024-03-17T15:46:29.416744Z",
     "iopub.status.busy": "2024-03-17T15:46:29.412115Z",
     "iopub.status.idle": "2024-03-17T15:47:00.630289Z",
     "shell.execute_reply": "2024-03-17T15:47:00.629271Z",
     "shell.execute_reply.started": "2024-03-17T15:46:29.416744Z"
    }
   },
   "outputs": [
    {
     "name": "stdout",
     "output_type": "stream",
     "text": [
      "10 grounds completed\n",
      "20 grounds completed\n",
      "30 grounds completed\n",
      "40 grounds completed\n",
      "50 grounds completed\n",
      "60 grounds completed\n",
      "70 grounds completed\n",
      "80 grounds completed\n",
      "90 grounds completed\n",
      "100 grounds completed\n"
     ]
    }
   ],
   "source": [
    "for index,row in df_ground.iterrows():\n",
    "    if row['city'] is None:\n",
    "        result = reverse_geocode(Point([row['longitude'],row['latitude']]),\n",
    "                                 api_key = bingmaps_api_key,\n",
    "                                 provider = 'Bing',\n",
    "                                 user_agent = 'Dream11')\n",
    "\n",
    "        address_parts = result.address[0].split(',')\n",
    "        city = address_parts[-3].strip() if len(address_parts) >= 3 else (address_parts[-2].strip() if len(address_parts) >= 2 else None)\n",
    "        df_ground.at[index, 'city'] = city\n",
    "\n",
    "        if (index%10)==0:\n",
    "            print(\"{0} grounds completed\".format(index))"
   ]
  },
  {
   "cell_type": "code",
   "execution_count": 306,
   "id": "e7a2db83",
   "metadata": {
    "ExecuteTime": {
     "end_time": "2023-12-31T17:50:07.859747Z",
     "start_time": "2023-12-31T17:50:06.430002Z"
    },
    "execution": {
     "iopub.execute_input": "2024-03-17T15:50:19.279775Z",
     "iopub.status.busy": "2024-03-17T15:50:19.278700Z",
     "iopub.status.idle": "2024-03-17T15:50:19.606254Z",
     "shell.execute_reply": "2024-03-17T15:50:19.604422Z",
     "shell.execute_reply.started": "2024-03-17T15:50:19.279775Z"
    }
   },
   "outputs": [],
   "source": [
    "qry = psql.upsert(\n",
    "    engine,\n",
    "    dataFrame = df_ground,\n",
    "    table = \"ground\",\n",
    "    schema = \"dwh\",\n",
    "    pk_col = ['ground_id'],\n",
    "    update_col = ['city','country','region','longitude','latitude']\n",
    ")"
   ]
  }
 ],
 "metadata": {
  "kernelspec": {
   "display_name": "Python 3 (ipykernel)",
   "language": "python",
   "name": "python3"
  },
  "language_info": {
   "codemirror_mode": {
    "name": "ipython",
    "version": 3
   },
   "file_extension": ".py",
   "mimetype": "text/x-python",
   "name": "python",
   "nbconvert_exporter": "python",
   "pygments_lexer": "ipython3",
   "version": "3.11.5"
  }
 },
 "nbformat": 4,
 "nbformat_minor": 5
}
