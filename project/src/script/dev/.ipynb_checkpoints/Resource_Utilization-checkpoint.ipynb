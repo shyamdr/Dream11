{
 "cells": [
  {
   "cell_type": "markdown",
   "id": "7fc8a330-f6c1-4c3b-9b42-06a277ecad09",
   "metadata": {},
   "source": [
    "## Importing Libraries"
   ]
  },
  {
   "cell_type": "code",
   "execution_count": 1,
   "id": "8c85a7fc-373f-4d33-a61a-66407c4f350f",
   "metadata": {
    "execution": {
     "iopub.execute_input": "2024-03-16T13:26:26.780758Z",
     "iopub.status.busy": "2024-03-16T13:26:26.780758Z",
     "iopub.status.idle": "2024-03-16T13:26:27.886571Z",
     "shell.execute_reply": "2024-03-16T13:26:27.886571Z",
     "shell.execute_reply.started": "2024-03-16T13:26:26.780758Z"
    }
   },
   "outputs": [],
   "source": [
    "import numpy as np\n",
    "import pandas as pd\n",
    "import matplotlib.pyplot as plt\n",
    "from scipy.integrate import quad"
   ]
  },
  {
   "cell_type": "markdown",
   "id": "11acc408-a1be-4555-b0d4-7c3cd85db247",
   "metadata": {},
   "source": [
    "## Postgres Configuration"
   ]
  },
  {
   "cell_type": "code",
   "execution_count": 2,
   "id": "2b880a97-6e55-4e28-9345-0bd9acb1f3a7",
   "metadata": {
    "execution": {
     "iopub.execute_input": "2024-03-16T13:26:28.291798Z",
     "iopub.status.busy": "2024-03-16T13:26:28.291798Z",
     "iopub.status.idle": "2024-03-16T13:26:29.066318Z",
     "shell.execute_reply": "2024-03-16T13:26:29.066318Z",
     "shell.execute_reply.started": "2024-03-16T13:26:28.291798Z"
    }
   },
   "outputs": [],
   "source": [
    "%run config_psql.ipynb"
   ]
  },
  {
   "cell_type": "markdown",
   "id": "51a39678-258f-4940-ab4d-a2975f4e83dd",
   "metadata": {},
   "source": [
    "## Settings Configuration"
   ]
  },
  {
   "cell_type": "code",
   "execution_count": 3,
   "id": "3e959e4e-8245-4daa-881c-1b0200561a38",
   "metadata": {
    "execution": {
     "iopub.execute_input": "2024-03-16T13:26:29.385877Z",
     "iopub.status.busy": "2024-03-16T13:26:29.385877Z",
     "iopub.status.idle": "2024-03-16T13:26:29.403326Z",
     "shell.execute_reply": "2024-03-16T13:26:29.403326Z",
     "shell.execute_reply.started": "2024-03-16T13:26:29.385877Z"
    }
   },
   "outputs": [],
   "source": [
    "pd.set_option('display.max_columns', None)\n",
    "pd.set_option('display.max_rows', None)"
   ]
  },
  {
   "cell_type": "markdown",
   "id": "7cf3668e-8d85-4ba3-bd4a-38a192f0ce2a",
   "metadata": {},
   "source": [
    "## Initializing parameters"
   ]
  },
  {
   "cell_type": "code",
   "execution_count": 4,
   "id": "e756aa4d-a9f0-4e34-b9ed-cbfaa7471fe8",
   "metadata": {
    "execution": {
     "iopub.execute_input": "2024-03-16T13:26:30.261355Z",
     "iopub.status.busy": "2024-03-16T13:26:30.261355Z",
     "iopub.status.idle": "2024-03-16T13:26:30.279097Z",
     "shell.execute_reply": "2024-03-16T13:26:30.279097Z",
     "shell.execute_reply.started": "2024-03-16T13:26:30.261355Z"
    }
   },
   "outputs": [],
   "source": [
    "global p, alpha\n",
    "p = 2.25\n",
    "alpha = 25"
   ]
  },
  {
   "cell_type": "code",
   "execution_count": 7,
   "id": "8d216ab0-6121-443d-8ca0-527b3dd2cb49",
   "metadata": {
    "execution": {
     "iopub.execute_input": "2024-03-16T13:27:22.306526Z",
     "iopub.status.busy": "2024-03-16T13:27:22.306526Z",
     "iopub.status.idle": "2024-03-16T13:27:30.709093Z",
     "shell.execute_reply": "2024-03-16T13:27:30.709093Z",
     "shell.execute_reply.started": "2024-03-16T13:27:22.306526Z"
    }
   },
   "outputs": [],
   "source": [
    "df = pd.read_sql_query(sql=\"SELECT * FROM dwh.vw_resource_utilization\", con=engine)\n",
    "# df_sample = df[(df['match_id']=='433606') | (df['match_id']=='1384439')].reset_index(drop=True)\n",
    "# df.info()"
   ]
  },
  {
   "cell_type": "code",
   "execution_count": 8,
   "id": "7ade5278-2123-4ab8-9898-50304ff3d74a",
   "metadata": {
    "execution": {
     "iopub.execute_input": "2024-03-16T13:27:31.730620Z",
     "iopub.status.busy": "2024-03-16T13:27:31.730620Z",
     "iopub.status.idle": "2024-03-16T13:27:31.740353Z",
     "shell.execute_reply": "2024-03-16T13:27:31.740353Z",
     "shell.execute_reply.started": "2024-03-16T13:27:31.730620Z"
    }
   },
   "outputs": [],
   "source": [
    "# df = df[(df['match_id']=='1359541')].reset_index(drop=True)"
   ]
  },
  {
   "cell_type": "code",
   "execution_count": 9,
   "id": "9599ad69-0a39-4fe3-95f0-f9219ae3a8f9",
   "metadata": {
    "execution": {
     "iopub.execute_input": "2024-03-16T13:27:31.965258Z",
     "iopub.status.busy": "2024-03-16T13:27:31.965258Z",
     "iopub.status.idle": "2024-03-16T13:27:31.983216Z",
     "shell.execute_reply": "2024-03-16T13:27:31.983216Z",
     "shell.execute_reply.started": "2024-03-16T13:27:31.965258Z"
    }
   },
   "outputs": [],
   "source": [
    "def curve_equation(x,W,r,w1):\n",
    "    beta = (1 - pow(((x-w1)/(W-w1)), 2*p))\n",
    "    return r * np.sqrt(beta * np.exp(alpha * np.sqrt(beta)))\n",
    "\n",
    "# Define the function to integrate\n",
    "def integrand(x,W,r,w1):\n",
    "    beta = (1 - pow(((x-w1)/(W-w1)), 2*p))\n",
    "    return r * np.sqrt(beta * np.exp(alpha * np.sqrt(beta)))\n",
    "\n",
    "# Define the area function\n",
    "def calculate_area(x1, x2, W, r, w1):\n",
    "    return quad(integrand, x1, x2, args=(W,r,w1))[0]"
   ]
  },
  {
   "cell_type": "code",
   "execution_count": 10,
   "id": "d6dd0e2f-4e89-43ee-bcc4-e679eb0a0b9a",
   "metadata": {
    "execution": {
     "iopub.execute_input": "2024-03-16T13:27:32.559019Z",
     "iopub.status.busy": "2024-03-16T13:27:32.559019Z",
     "iopub.status.idle": "2024-03-16T13:27:32.576232Z",
     "shell.execute_reply": "2024-03-16T13:27:32.576232Z",
     "shell.execute_reply.started": "2024-03-16T13:27:32.559019Z"
    }
   },
   "outputs": [],
   "source": [
    "def pms(scale):\n",
    "    x_values = np.linspace(0, 9, 500)\n",
    "    y_values = curve_equation(x_values, 9, 100, 0)    \n",
    "    \n",
    "    dict_pms = {} # No, not that.... Pressure multiplier scale\n",
    "    total_area = quad(integrand, 0, 9, args=(9,100,0))[0]\n",
    "    total_area += quad(integrand, 0, 1, args=(9,100,0))[0]\n",
    "    dict_pms[1] = int(scale * quad(integrand, 0, 1, args=(9,100,0))[0] * 100 / total_area)\n",
    "    \n",
    "    for i in range(0,9):\n",
    "        w2 = i+1\n",
    "        area_range = calculate_area(i, w2, 9, 100, 0)\n",
    "        area_perc = area_range*100/total_area\n",
    "        dict_pms[w2+1] = max(10,int(scale * area_perc))\n",
    "\n",
    "    return dict_pms\n",
    "\n",
    "odi_pms = pms(3)\n",
    "# t20_pms = {1: 24, 2: 24, 3: 22, 4: 20, 5: 17, 6: 13, 7: 11, 8: 9, 9: 5, 10: 5}\n",
    "t20_pms = {1: 19, 2: 19, 3: 18, 4: 18, 5: 17, 6: 13, 7: 11, 8: 9, 9: 5, 10: 5}\n",
    "# print(t20_pms)"
   ]
  },
  {
   "cell_type": "code",
   "execution_count": 11,
   "id": "c4261af7-fccb-4896-a378-7bb532268246",
   "metadata": {
    "execution": {
     "iopub.execute_input": "2024-03-16T13:27:33.965902Z",
     "iopub.status.busy": "2024-03-16T13:27:33.965902Z",
     "iopub.status.idle": "2024-03-16T13:27:34.003821Z",
     "shell.execute_reply": "2024-03-16T13:27:34.003821Z",
     "shell.execute_reply.started": "2024-03-16T13:27:33.965902Z"
    }
   },
   "outputs": [
    {
     "name": "stdout",
     "output_type": "stream",
     "text": [
      "0 rows executed\n"
     ]
    }
   ],
   "source": [
    "W = 9\n",
    "w1 = 0\n",
    "r = 100\n",
    "p = (W-w1)/4\n",
    "alpha = r/4\n",
    "\n",
    "for index, row in df.iterrows():\n",
    "    r = row['avail_resource']\n",
    "    if r<=0:\n",
    "        df.loc[index, 'exp_resource_utilization'] = 0\n",
    "        continue\n",
    "    b = row['balls_remaining']\n",
    "    w1 = 10 - row['wickets_in_hand']\n",
    "    W = 9 if w1 <= 7 else 11\n",
    "    p = (W-w1)/4\n",
    "    alpha = r/4\n",
    "    w2 = w1+1\n",
    "    \n",
    "    x_values = np.linspace(w1, W, 500)\n",
    "    y_values = curve_equation(x_values, W, r, w1) \n",
    "    \n",
    "    total_area = quad(integrand, w1, W, args=(W,r,w1))[0] \n",
    "    if w1==0:\n",
    "        total_area += quad(integrand, 0, 1, args=(W,r,w1))[0] #Since 2 batsmans at start so first resource will be same for batsman no 2 (non-striker)\n",
    "\n",
    "    area_range = calculate_area(w1, w2, W, r, w1)\n",
    "    area_perc = area_range*100/total_area\n",
    "    exp_resource_utilization = int(area_perc*b/100)\n",
    "    df.loc[index, 'exp_resource_utilization'] = exp_resource_utilization\n",
    "\n",
    "    if (row['match_type'] == 'ODI'):\n",
    "        if (row['batting_pos'] <= 8) and (exp_resource_utilization > odi_pms[row['batting_pos']]):\n",
    "            df.loc[index, 'pms'] = min(1 + np.exp(3.5*((exp_resource_utilization/odi_pms[row['batting_pos']])-2)), 2.5)\n",
    "        else:\n",
    "            df.loc[index, 'pms'] = 1\n",
    "    elif(row['match_type'] == 'T20'):\n",
    "        if (row['batting_pos'] <= 8) and (exp_resource_utilization > t20_pms[row['batting_pos']]):\n",
    "            df.loc[index, 'pms'] = min(0.7 + np.exp(0.7*((exp_resource_utilization/t20_pms[row['batting_pos']])-2.72)), 2)\n",
    "        else:\n",
    "            df.loc[index, 'pms'] = 1\n",
    "    if (index%10000)==0:\n",
    "        print(\"{} rows executed\".format(index))"
   ]
  },
  {
   "cell_type": "code",
   "execution_count": 13,
   "id": "83053093-f1c4-460c-92d4-28f30af5b76f",
   "metadata": {
    "execution": {
     "iopub.execute_input": "2024-03-16T13:31:31.353337Z",
     "iopub.status.busy": "2024-03-16T13:31:31.353337Z",
     "iopub.status.idle": "2024-03-16T13:31:31.742626Z",
     "shell.execute_reply": "2024-03-16T13:31:31.742626Z",
     "shell.execute_reply.started": "2024-03-16T13:31:31.353337Z"
    }
   },
   "outputs": [],
   "source": [
    "# Load match_player information into Stage table\n",
    "with engine.connect() as conn:\n",
    "    conn.execute(\"TRUNCATE TABLE stg.scorecard_batting\")\n",
    "\n",
    "# count_rows = df.to_sql('scorecard_batting', schema = 'stg', con = engine, if_exists='append', method = 'multi', index = False)\n",
    "\n",
    "print(\"Loading data into stage table now\")\n",
    "count_rows = df.to_sql('scorecard_batting', \n",
    "                     schema = 'stg', \n",
    "                     con = engine, \n",
    "                     if_exists='append', \n",
    "                     method = 'multi', \n",
    "                     index = False,\n",
    "                     chunksize = 4096)"
   ]
  },
  {
   "cell_type": "code",
   "execution_count": null,
   "id": "022c91e4-bd74-4933-8a00-d239af63021c",
   "metadata": {},
   "outputs": [],
   "source": [
    "# # Plot the curve\n",
    "# plt.figure(figsize=(6, 3))\n",
    "# plt.plot(x_values, y_values, label='Curve')\n",
    "\n",
    "# # Plot the x-axis\n",
    "# plt.axhline(0, color='black',linewidth=0.5)\n",
    "\n",
    "# plt.fill_between(x_values, 0, y_values, where=((x_values >= w1) & (x_values <= w2)), color='gray', alpha=0.5)\n",
    "\n",
    "# # Add labels and legend\n",
    "# plt.title('Curve and Area Calculation')\n",
    "# plt.xlabel('x')\n",
    "# plt.ylabel('y')\n",
    "# plt.legend()\n",
    "\n",
    "# # Show the plot\n",
    "# plt.grid(True)\n",
    "# plt.show()\n",
    "\n",
    "# print(\"Area between w1 and w2:\", area_range)\n",
    "# print(\"Total area under the curve:\", total_area)\n",
    "# print(\"Area percent:\", area_perc)"
   ]
  }
 ],
 "metadata": {
  "kernelspec": {
   "display_name": "Python 3 (ipykernel)",
   "language": "python",
   "name": "python3"
  },
  "language_info": {
   "codemirror_mode": {
    "name": "ipython",
    "version": 3
   },
   "file_extension": ".py",
   "mimetype": "text/x-python",
   "name": "python",
   "nbconvert_exporter": "python",
   "pygments_lexer": "ipython3",
   "version": "3.11.5"
  }
 },
 "nbformat": 4,
 "nbformat_minor": 5
}
