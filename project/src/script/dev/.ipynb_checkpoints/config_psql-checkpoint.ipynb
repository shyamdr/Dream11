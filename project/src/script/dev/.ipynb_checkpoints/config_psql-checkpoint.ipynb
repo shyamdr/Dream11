{
 "cells": [
  {
   "cell_type": "code",
   "execution_count": 1,
   "id": "164b5873",
   "metadata": {
    "ExecuteTime": {
     "end_time": "2023-09-17T09:13:09.759811Z",
     "start_time": "2023-09-17T09:13:09.744070Z"
    }
   },
   "outputs": [],
   "source": [
    "#pip install psycopg2"
   ]
  },
  {
   "cell_type": "code",
   "execution_count": 2,
   "id": "97b87e53",
   "metadata": {
    "ExecuteTime": {
     "end_time": "2023-09-17T09:15:13.973274Z",
     "start_time": "2023-09-17T09:15:13.896214Z"
    }
   },
   "outputs": [],
   "source": [
    "import psycopg2"
   ]
  },
  {
   "cell_type": "code",
   "execution_count": 3,
   "id": "e6f03065",
   "metadata": {
    "ExecuteTime": {
     "end_time": "2023-09-17T09:19:33.166781Z",
     "start_time": "2023-09-17T09:19:32.936648Z"
    }
   },
   "outputs": [],
   "source": [
    "conn = psycopg2.connect(database=\"cricket\",\n",
    "                        host=\"localhost\",\n",
    "                        user=\"postgres\",\n",
    "                        password=\"Dream11\",\n",
    "                        port=\"5432\")"
   ]
  },
  {
   "cell_type": "code",
   "execution_count": 4,
   "id": "45ccbeb9",
   "metadata": {
    "ExecuteTime": {
     "end_time": "2023-09-17T09:20:03.261667Z",
     "start_time": "2023-09-17T09:20:03.241323Z"
    }
   },
   "outputs": [],
   "source": [
    "cursor = conn.cursor()"
   ]
  },
  {
   "cell_type": "code",
   "execution_count": 5,
   "id": "3bcffcf5",
   "metadata": {
    "ExecuteTime": {
     "end_time": "2023-09-17T09:20:30.442274Z",
     "start_time": "2023-09-17T09:20:30.411281Z"
    }
   },
   "outputs": [],
   "source": [
    "cursor.execute(\"select * from registry.people\")"
   ]
  },
  {
   "cell_type": "code",
   "execution_count": 6,
   "id": "c811bb8d",
   "metadata": {
    "ExecuteTime": {
     "end_time": "2023-09-17T09:20:56.208428Z",
     "start_time": "2023-09-17T09:20:56.181269Z"
    }
   },
   "outputs": [
    {
     "name": "stdout",
     "output_type": "stream",
     "text": [
      "('b4a23876', 'AAA Amsterdam', 'AAA Amsterdam', None, None, None, None, None, '772407', None, None, None, None, None, None, None, None)\n"
     ]
    }
   ],
   "source": [
    "print(cursor.fetchone())"
   ]
  },
  {
   "cell_type": "code",
   "execution_count": 7,
   "id": "0ee80d30",
   "metadata": {
    "ExecuteTime": {
     "end_time": "2023-09-17T10:10:37.028371Z",
     "start_time": "2023-09-17T10:10:37.014668Z"
    }
   },
   "outputs": [],
   "source": [
    "conn.close()"
   ]
  },
  {
   "cell_type": "code",
   "execution_count": null,
   "id": "94b971e8",
   "metadata": {},
   "outputs": [],
   "source": []
  }
 ],
 "metadata": {
  "kernelspec": {
   "display_name": "Python 3 (ipykernel)",
   "language": "python",
   "name": "python3"
  },
  "language_info": {
   "codemirror_mode": {
    "name": "ipython",
    "version": 3
   },
   "file_extension": ".py",
   "mimetype": "text/x-python",
   "name": "python",
   "nbconvert_exporter": "python",
   "pygments_lexer": "ipython3",
   "version": "3.9.13"
  }
 },
 "nbformat": 4,
 "nbformat_minor": 5
}
