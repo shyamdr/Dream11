{
 "cells": [
  {
   "cell_type": "code",
   "execution_count": 17,
   "id": "c6a128dc",
   "metadata": {
    "ExecuteTime": {
     "end_time": "2023-12-01T18:47:12.230900Z",
     "start_time": "2023-12-01T18:47:12.224918Z"
    }
   },
   "outputs": [],
   "source": [
    "import pandas as pd"
   ]
  },
  {
   "cell_type": "code",
   "execution_count": 18,
   "id": "65b2a2fb",
   "metadata": {
    "ExecuteTime": {
     "end_time": "2023-12-01T18:47:12.602654Z",
     "start_time": "2023-12-01T18:47:12.554481Z"
    }
   },
   "outputs": [],
   "source": [
    "%run config_psql.ipynb"
   ]
  },
  {
   "cell_type": "code",
   "execution_count": 19,
   "id": "50546e3d",
   "metadata": {
    "ExecuteTime": {
     "end_time": "2023-12-01T18:47:18.551292Z",
     "start_time": "2023-12-01T18:47:12.936319Z"
    }
   },
   "outputs": [],
   "source": [
    "url = \"https://cricsheet.org/register/people.csv\"\n",
    "df_people = pd.read_csv(url, dtype = str)"
   ]
  },
  {
   "cell_type": "code",
   "execution_count": 20,
   "id": "9bd4316e",
   "metadata": {
    "ExecuteTime": {
     "end_time": "2023-12-01T18:47:20.183896Z",
     "start_time": "2023-12-01T18:47:18.559431Z"
    }
   },
   "outputs": [],
   "source": [
    "url = \"https://cricsheet.org/register/names.csv\"\n",
    "df_name = pd.read_csv(url)"
   ]
  },
  {
   "cell_type": "code",
   "execution_count": 21,
   "id": "1ff5d158",
   "metadata": {
    "ExecuteTime": {
     "end_time": "2023-12-01T18:47:31.913318Z",
     "start_time": "2023-12-01T18:47:20.183896Z"
    },
    "code_folding": []
   },
   "outputs": [],
   "source": [
    "with engine.connect() as conn:\n",
    "    conn.execute(\"TRUNCATE TABLE dwh.people CASCADE\")\n",
    "\n",
    "count_rows = df_people.to_sql('people', schema = 'dwh', con=engine, if_exists='append', method = 'multi', index=False)"
   ]
  },
  {
   "cell_type": "code",
   "execution_count": 22,
   "id": "6ad0343a",
   "metadata": {
    "ExecuteTime": {
     "end_time": "2023-12-01T18:47:33.002403Z",
     "start_time": "2023-12-01T18:47:31.913318Z"
    }
   },
   "outputs": [],
   "source": [
    "with engine.connect() as conn:\n",
    "    conn.execute(\"TRUNCATE TABLE dwh.name\")\n",
    "\n",
    "count_rows = df_name.to_sql('name', schema = 'dwh', con=engine, if_exists='append', method = 'multi', index=False)"
   ]
  }
 ],
 "metadata": {
  "kernelspec": {
   "display_name": "Python 3 (ipykernel)",
   "language": "python",
   "name": "python3"
  },
  "language_info": {
   "codemirror_mode": {
    "name": "ipython",
    "version": 3
   },
   "file_extension": ".py",
   "mimetype": "text/x-python",
   "name": "python",
   "nbconvert_exporter": "python",
   "pygments_lexer": "ipython3",
   "version": "3.9.13"
  }
 },
 "nbformat": 4,
 "nbformat_minor": 5
}
