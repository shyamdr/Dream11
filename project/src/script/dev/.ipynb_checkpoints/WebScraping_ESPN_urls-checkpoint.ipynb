{
 "cells": [
  {
   "cell_type": "markdown",
   "id": "bbf98be9-da80-4949-a663-e5b171a427dd",
   "metadata": {},
   "source": [
    "## Importing Libraries"
   ]
  },
  {
   "cell_type": "code",
   "execution_count": 38,
   "id": "f6379070-2761-4646-a938-97fa99130f97",
   "metadata": {
    "execution": {
     "iopub.execute_input": "2024-02-10T08:02:54.880220Z",
     "iopub.status.busy": "2024-02-10T08:02:54.880220Z",
     "iopub.status.idle": "2024-02-10T08:02:54.893474Z",
     "shell.execute_reply": "2024-02-10T08:02:54.891459Z",
     "shell.execute_reply.started": "2024-02-10T08:02:54.880220Z"
    }
   },
   "outputs": [],
   "source": [
    "import requests\n",
    "import re\n",
    "import numpy as np\n",
    "import pandas as pd\n",
    "from bs4 import BeautifulSoup\n",
    "import datetime\n",
    "import pandas as pd\n",
    "import time\n",
    "import concurrent.futures\n",
    "import modules.psql as psql"
   ]
  },
  {
   "cell_type": "markdown",
   "id": "fdd27d05-63a6-446f-8dd7-5e80ca7565cf",
   "metadata": {},
   "source": [
    "## Postgres Configuration"
   ]
  },
  {
   "cell_type": "code",
   "execution_count": 39,
   "id": "f1ce465d-a611-4f9e-b022-b1e4618ca7e8",
   "metadata": {
    "execution": {
     "iopub.execute_input": "2024-02-10T08:02:55.428167Z",
     "iopub.status.busy": "2024-02-10T08:02:55.428167Z",
     "iopub.status.idle": "2024-02-10T08:02:55.692599Z",
     "shell.execute_reply": "2024-02-10T08:02:55.692599Z",
     "shell.execute_reply.started": "2024-02-10T08:02:55.428167Z"
    }
   },
   "outputs": [],
   "source": [
    "%run config_psql.ipynb"
   ]
  },
  {
   "cell_type": "markdown",
   "id": "308e8681-4deb-4c1b-b2b8-d7d10416c27a",
   "metadata": {},
   "source": [
    "## Setting Configurations"
   ]
  },
  {
   "cell_type": "code",
   "execution_count": 40,
   "id": "86de4add-7a4d-4e54-a043-44b86be3ad06",
   "metadata": {
    "execution": {
     "iopub.execute_input": "2024-02-10T08:02:55.928080Z",
     "iopub.status.busy": "2024-02-10T08:02:55.920065Z",
     "iopub.status.idle": "2024-02-10T08:02:55.936117Z",
     "shell.execute_reply": "2024-02-10T08:02:55.934172Z",
     "shell.execute_reply.started": "2024-02-10T08:02:55.928080Z"
    }
   },
   "outputs": [],
   "source": [
    "pd.set_option('display.max_columns', None)\n",
    "pd.set_option('display.max_rows', None)"
   ]
  },
  {
   "cell_type": "markdown",
   "id": "c4799683-0d62-4baf-adce-4420d03bcbe0",
   "metadata": {},
   "source": [
    "## Initializing Parameters"
   ]
  },
  {
   "cell_type": "code",
   "execution_count": 41,
   "id": "36d21bca-e260-4078-a0b1-e1193a4afadd",
   "metadata": {
    "execution": {
     "iopub.execute_input": "2024-02-10T08:02:56.408251Z",
     "iopub.status.busy": "2024-02-10T08:02:56.408251Z",
     "iopub.status.idle": "2024-02-10T08:02:56.425009Z",
     "shell.execute_reply": "2024-02-10T08:02:56.425009Z",
     "shell.execute_reply.started": "2024-02-10T08:02:56.408251Z"
    }
   },
   "outputs": [],
   "source": [
    "min_year = 2024 #Parameterize this for receiving future incremental links\n",
    "max_year = datetime.date.today().year\n",
    "\n",
    "df_url = pd.DataFrame(columns=['url_type','season','series','match_id','url'])\n",
    "\n",
    "test_series = [[\"2023%2F24\", \"ICC Cricket World Cup\", \"https://www.espncricinfo.com/series/icc-cricket-world-cup-2023-24-1367856/match-schedule-fixtures\"]]"
   ]
  },
  {
   "cell_type": "markdown",
   "id": "31ab50ff-20e2-49d2-8a0f-74cbe3c69ebb",
   "metadata": {},
   "source": [
    "## Finding all Seasons"
   ]
  },
  {
   "cell_type": "code",
   "execution_count": 42,
   "id": "ed6989b3-f1d8-46f5-8cc1-8ebe2bd563af",
   "metadata": {
    "execution": {
     "iopub.execute_input": "2024-02-10T08:02:56.763955Z",
     "iopub.status.busy": "2024-02-10T08:02:56.763955Z",
     "iopub.status.idle": "2024-02-10T08:02:56.807727Z",
     "shell.execute_reply": "2024-02-10T08:02:56.803863Z",
     "shell.execute_reply.started": "2024-02-10T08:02:56.763955Z"
    }
   },
   "outputs": [
    {
     "data": {
      "text/html": [
       "<div>\n",
       "<style scoped>\n",
       "    .dataframe tbody tr th:only-of-type {\n",
       "        vertical-align: middle;\n",
       "    }\n",
       "\n",
       "    .dataframe tbody tr th {\n",
       "        vertical-align: top;\n",
       "    }\n",
       "\n",
       "    .dataframe thead th {\n",
       "        text-align: right;\n",
       "    }\n",
       "</style>\n",
       "<table border=\"1\" class=\"dataframe\">\n",
       "  <thead>\n",
       "    <tr style=\"text-align: right;\">\n",
       "      <th></th>\n",
       "      <th>url_type</th>\n",
       "      <th>season</th>\n",
       "      <th>series</th>\n",
       "      <th>match_id</th>\n",
       "      <th>url</th>\n",
       "    </tr>\n",
       "  </thead>\n",
       "  <tbody>\n",
       "    <tr>\n",
       "      <th>0</th>\n",
       "      <td>season</td>\n",
       "      <td>2024</td>\n",
       "      <td>NaN</td>\n",
       "      <td>NaN</td>\n",
       "      <td>https://www.espncricinfo.com/ci/engine/series/...</td>\n",
       "    </tr>\n",
       "  </tbody>\n",
       "</table>\n",
       "</div>"
      ],
      "text/plain": [
       "  url_type season  series  match_id  \\\n",
       "0   season   2024     NaN       NaN   \n",
       "\n",
       "                                                 url  \n",
       "0  https://www.espncricinfo.com/ci/engine/series/...  "
      ]
     },
     "execution_count": 42,
     "metadata": {},
     "output_type": "execute_result"
    }
   ],
   "source": [
    "for year in range(min_year,max_year+1):\n",
    "    new_row = {\n",
    "        'url_type': 'season',\n",
    "        'season': str(year),\n",
    "        'url': \"https://www.espncricinfo.com/ci/engine/series/index.html?season={};view=season\".format(str(year))\n",
    "    }\n",
    "    df_url.loc[len(df_url)] = new_row\n",
    "    \n",
    "    if year < max_year:\n",
    "        season_name = str(year) + \"%2F\" + '{:02d}'.format(year-1999)\n",
    "        new_row = {\n",
    "            'url_type': 'season',\n",
    "            'season': season_name,\n",
    "            'url': \"https://www.espncricinfo.com/ci/engine/series/index.html?season={};view=season\".format(season_name)\n",
    "        }\n",
    "        df_url.loc[len(df_url)] = new_row\n",
    "df_url.head()"
   ]
  },
  {
   "cell_type": "markdown",
   "id": "a1bdc32f-81e2-47a8-a255-978169424bbb",
   "metadata": {},
   "source": [
    "## Finding all series in a season"
   ]
  },
  {
   "cell_type": "code",
   "execution_count": 43,
   "id": "32d80d9a-704d-43d7-b7b2-d14547d97a30",
   "metadata": {
    "execution": {
     "iopub.execute_input": "2024-02-10T08:02:57.093228Z",
     "iopub.status.busy": "2024-02-10T08:02:57.093228Z",
     "iopub.status.idle": "2024-02-10T08:02:58.662140Z",
     "shell.execute_reply": "2024-02-10T08:02:58.661230Z",
     "shell.execute_reply.started": "2024-02-10T08:02:57.093228Z"
    }
   },
   "outputs": [
    {
     "data": {
      "text/html": [
       "<div>\n",
       "<style scoped>\n",
       "    .dataframe tbody tr th:only-of-type {\n",
       "        vertical-align: middle;\n",
       "    }\n",
       "\n",
       "    .dataframe tbody tr th {\n",
       "        vertical-align: top;\n",
       "    }\n",
       "\n",
       "    .dataframe thead th {\n",
       "        text-align: right;\n",
       "    }\n",
       "</style>\n",
       "<table border=\"1\" class=\"dataframe\">\n",
       "  <thead>\n",
       "    <tr style=\"text-align: right;\">\n",
       "      <th></th>\n",
       "      <th>url_type</th>\n",
       "      <th>season</th>\n",
       "      <th>series</th>\n",
       "      <th>match_id</th>\n",
       "      <th>url</th>\n",
       "    </tr>\n",
       "  </thead>\n",
       "  <tbody>\n",
       "    <tr>\n",
       "      <th>0</th>\n",
       "      <td>season</td>\n",
       "      <td>2024</td>\n",
       "      <td>NaN</td>\n",
       "      <td>NaN</td>\n",
       "      <td>https://www.espncricinfo.com/ci/engine/series/...</td>\n",
       "    </tr>\n",
       "    <tr>\n",
       "      <th>1</th>\n",
       "      <td>series</td>\n",
       "      <td>2024</td>\n",
       "      <td>ICC World Test Championship</td>\n",
       "      <td>NaN</td>\n",
       "      <td>https://www.espncricinfo.com/series/icc-world-...</td>\n",
       "    </tr>\n",
       "    <tr>\n",
       "      <th>2</th>\n",
       "      <td>series</td>\n",
       "      <td>2024</td>\n",
       "      <td>Botham-Richards Trophy</td>\n",
       "      <td>NaN</td>\n",
       "      <td>https://www.espncricinfo.com/series/botham-ric...</td>\n",
       "    </tr>\n",
       "    <tr>\n",
       "      <th>3</th>\n",
       "      <td>series</td>\n",
       "      <td>2024</td>\n",
       "      <td>Sri Lanka in England Test Series</td>\n",
       "      <td>NaN</td>\n",
       "      <td>https://www.espncricinfo.com/series/sri-lanka-...</td>\n",
       "    </tr>\n",
       "    <tr>\n",
       "      <th>4</th>\n",
       "      <td>series</td>\n",
       "      <td>2024</td>\n",
       "      <td>Australia in England ODI Series</td>\n",
       "      <td>NaN</td>\n",
       "      <td>https://www.espncricinfo.com/series/australia-...</td>\n",
       "    </tr>\n",
       "  </tbody>\n",
       "</table>\n",
       "</div>"
      ],
      "text/plain": [
       "  url_type season                            series  match_id  \\\n",
       "0   season   2024                               NaN       NaN   \n",
       "1   series   2024       ICC World Test Championship       NaN   \n",
       "2   series   2024            Botham-Richards Trophy       NaN   \n",
       "3   series   2024  Sri Lanka in England Test Series       NaN   \n",
       "4   series   2024   Australia in England ODI Series       NaN   \n",
       "\n",
       "                                                 url  \n",
       "0  https://www.espncricinfo.com/ci/engine/series/...  \n",
       "1  https://www.espncricinfo.com/series/icc-world-...  \n",
       "2  https://www.espncricinfo.com/series/botham-ric...  \n",
       "3  https://www.espncricinfo.com/series/sri-lanka-...  \n",
       "4  https://www.espncricinfo.com/series/australia-...  "
      ]
     },
     "execution_count": 43,
     "metadata": {},
     "output_type": "execute_result"
    }
   ],
   "source": [
    "for season in df_url['season'].values:\n",
    "    season_engine_url = \"https://www.espncricinfo.com/ci/engine/series/index.html?season={};view=season\".format(season)\n",
    "    response = requests.get(season_engine_url)\n",
    "    soup = BeautifulSoup(response.content, 'lxml')\n",
    "    for a in soup.find_all('a', href = True):\n",
    "        if (('https://www.espncricinfo.com/series/' in a['href']) and ('/match-schedule-fixtures' in a['href'])):\n",
    "            new_row = {\n",
    "                'url_type': 'series',\n",
    "                'season': season,\n",
    "                'series': a.text,\n",
    "                'url': a['href']\n",
    "            }\n",
    "            df_url.loc[len(df_url)] = new_row\n",
    "            df_url.head()\n",
    "df_url.head()"
   ]
  },
  {
   "cell_type": "markdown",
   "id": "07fc6d9c-8194-48ec-a4c4-9e2aacc34a02",
   "metadata": {},
   "source": [
    "## Finding all matches in a series using Multi-Threading"
   ]
  },
  {
   "cell_type": "markdown",
   "id": "c176a60b-af24-4a0c-b0c9-afa8a582bdcf",
   "metadata": {},
   "source": [
    "### Function to find all urls"
   ]
  },
  {
   "cell_type": "code",
   "execution_count": 44,
   "id": "8e22fa61-56d7-4825-9284-dd6c279337ce",
   "metadata": {
    "execution": {
     "iopub.execute_input": "2024-02-10T08:02:58.663144Z",
     "iopub.status.busy": "2024-02-10T08:02:58.663144Z",
     "iopub.status.idle": "2024-02-10T08:02:58.679110Z",
     "shell.execute_reply": "2024-02-10T08:02:58.678072Z",
     "shell.execute_reply.started": "2024-02-10T08:02:58.663144Z"
    }
   },
   "outputs": [],
   "source": [
    "def insert_match_url(season, series, response):\n",
    "    new_rows = []\n",
    "    soup = BeautifulSoup(response.content, 'lxml')\n",
    "    divs = soup.find_all('div', class_ = 'ds-p-0') # if this doesn't work use class_ = ds-relative\n",
    "    for div in divs:\n",
    "        for a in div.find_all('a', href = True):\n",
    "            if (('/live-cricket-score' in a['href']) or ('/full-scorecard' in a['href'])):\n",
    "                new_row = {\n",
    "                    'url_type': 'match',\n",
    "                    'season': season,\n",
    "                    'series': series,\n",
    "                    'match_id': a['href'].split('/')[-2].split('-')[-1],\n",
    "                    'url': 'https://www.espncricinfo.com' + a['href']\n",
    "                }\n",
    "                new_rows.append(new_row)\n",
    "    return new_rows"
   ]
  },
  {
   "cell_type": "markdown",
   "id": "bbe66ec8-24fb-43e9-96e3-ed86b64975fd",
   "metadata": {},
   "source": [
    "### Function to process series urls to match urls"
   ]
  },
  {
   "cell_type": "code",
   "execution_count": 45,
   "id": "1ce781a8-0d49-4aad-a957-ca019072da73",
   "metadata": {
    "execution": {
     "iopub.execute_input": "2024-02-10T08:02:58.691118Z",
     "iopub.status.busy": "2024-02-10T08:02:58.691118Z",
     "iopub.status.idle": "2024-02-10T08:02:58.711346Z",
     "shell.execute_reply": "2024-02-10T08:02:58.709317Z",
     "shell.execute_reply.started": "2024-02-10T08:02:58.691118Z"
    }
   },
   "outputs": [],
   "source": [
    "def process_url(season, series, url):\n",
    "    st = time.time()\n",
    "    initial_size = len(df_url)\n",
    "    link1 = url.replace(url.split('/')[-1], 'match-results') # completed series\n",
    "    link2 = url.replace(url.split('/')[-1], 'match-schedule-fixtures') # ongoing, future series\n",
    "    link3 = url.replace(url.split('/')[-1], 'match-schedule-results') # alternate link\n",
    "    response1 = requests.get(link1)\n",
    "    response2 = requests.get(link2)\n",
    "    response3 = requests.get(link3)\n",
    "    if response1.status_code != 404:\n",
    "        new_rows = insert_match_url(season, series, response1)\n",
    "    elif response2.status_code != 404:\n",
    "        new_rows = insert_match_url(season, series, response2)\n",
    "    elif response3.status_code != 404:\n",
    "        new_rows = insert_match_url(season, series, response3)\n",
    "    else:\n",
    "        print(\"No suitable match endpoint found, Intervention required!!!\")\n",
    "        print(season, series, url, sep='\\n', end='\\n\\n')\n",
    "    return new_rows"
   ]
  },
  {
   "cell_type": "markdown",
   "id": "83e49f16-c9d2-4a57-b2c8-bf1cccd38cb0",
   "metadata": {},
   "source": [
    "### Multi-Threading function"
   ]
  },
  {
   "cell_type": "code",
   "execution_count": 50,
   "id": "bdf7b7bf-35fa-40ae-8281-241aa54d7404",
   "metadata": {
    "execution": {
     "iopub.execute_input": "2024-02-10T08:11:55.039806Z",
     "iopub.status.busy": "2024-02-10T08:11:55.037799Z",
     "iopub.status.idle": "2024-02-10T08:12:14.859170Z",
     "shell.execute_reply": "2024-02-10T08:12:14.858157Z",
     "shell.execute_reply.started": "2024-02-10T08:11:55.039806Z"
    }
   },
   "outputs": [
    {
     "name": "stdout",
     "output_type": "stream",
     "text": [
      "wait for approx 1.0 minutes\n"
     ]
    }
   ],
   "source": [
    "num_threads = 100\n",
    "num_series = len(df_url[df_url['url_type'] == 'series'])\n",
    "\n",
    "print(\"wait for approx {} minutes\".format((0.8*num_series//60)+1))\n",
    "with concurrent.futures.ThreadPoolExecutor(max_workers = num_threads) as executor:\n",
    "    futures = []\n",
    "    for season, series, url in df_url[df_url['url_type'] == 'series'][['season', 'series', 'url']].values:\n",
    "    #for season, series, url in test_series:    \n",
    "        futures.append(executor.submit(process_url, season, series, url))\n",
    "\n",
    "    for count, future in enumerate(concurrent.futures.as_completed(futures)):\n",
    "        for row in future.result():\n",
    "            df_url.loc[len(df_url)] = row\n",
    "            "
   ]
  },
  {
   "cell_type": "code",
   "execution_count": 23,
   "id": "b1e8cb52-4ce9-4c4f-a986-6ef129758add",
   "metadata": {
    "execution": {
     "iopub.execute_input": "2024-02-10T07:50:56.986681Z",
     "iopub.status.busy": "2024-02-10T07:50:56.986681Z",
     "iopub.status.idle": "2024-02-10T07:51:01.900252Z",
     "shell.execute_reply": "2024-02-10T07:51:01.897214Z",
     "shell.execute_reply.started": "2024-02-10T07:50:56.986681Z"
    }
   },
   "outputs": [],
   "source": [
    "query = psql.insert_without_duplicate(\n",
    "    engine,\n",
    "    dataFrame = df_url,\n",
    "    table = \"espn_url\",\n",
    "    schema = \"dwh\",\n",
    "    conflict_col = list(df_url.columns))"
   ]
  }
 ],
 "metadata": {
  "kernelspec": {
   "display_name": "Python 3 (ipykernel)",
   "language": "python",
   "name": "python3"
  },
  "language_info": {
   "codemirror_mode": {
    "name": "ipython",
    "version": 3
   },
   "file_extension": ".py",
   "mimetype": "text/x-python",
   "name": "python",
   "nbconvert_exporter": "python",
   "pygments_lexer": "ipython3",
   "version": "3.11.5"
  }
 },
 "nbformat": 4,
 "nbformat_minor": 5
}
