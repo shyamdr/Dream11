{
 "cells": [
  {
   "cell_type": "code",
   "execution_count": 24,
   "id": "2478b403",
   "metadata": {
    "ExecuteTime": {
     "end_time": "2023-09-24T05:01:21.007404Z",
     "start_time": "2023-09-24T05:01:21.002589Z"
    }
   },
   "outputs": [],
   "source": [
    "import requests\n",
    "from bs4 import BeautifulSoup"
   ]
  },
  {
   "cell_type": "code",
   "execution_count": 25,
   "id": "7e8332d9",
   "metadata": {
    "ExecuteTime": {
     "end_time": "2023-09-24T05:01:21.290850Z",
     "start_time": "2023-09-24T05:01:21.280527Z"
    }
   },
   "outputs": [],
   "source": [
    "url = 'https://www.cricbuzz.com/cricket-match-squads/66183/srh-vs-rr-4th-match-indian-premier-league-2023'\n",
    "dict_col = {\"host\" : \"left\", \"visitor\" : \"right\"}"
   ]
  },
  {
   "cell_type": "code",
   "execution_count": 26,
   "id": "34ef4a22",
   "metadata": {
    "ExecuteTime": {
     "end_time": "2023-09-24T05:01:21.613176Z",
     "start_time": "2023-09-24T05:01:21.598519Z"
    }
   },
   "outputs": [],
   "source": [
    "def find_C_WK(team):\n",
    "    div_elements = bs.find_all('div', {\"class\": \"cb-player-name-\" + team})\n",
    "    text_parts = []\n",
    "    for div in div_elements:\n",
    "        texts = div.find_all(text=True)\n",
    "        cleaned_texts = [text.strip() for text in texts if text.strip() and \n",
    "                         ('(C)' in text or\n",
    "                         '(WK)' in text or\n",
    "                         '(C & WK)' in text)]\n",
    "        text_parts.extend(cleaned_texts)\n",
    "    print(text_parts)"
   ]
  },
  {
   "cell_type": "code",
   "execution_count": 27,
   "id": "bdfa5b87",
   "metadata": {
    "ExecuteTime": {
     "end_time": "2023-09-24T05:01:22.430781Z",
     "start_time": "2023-09-24T05:01:21.917543Z"
    }
   },
   "outputs": [],
   "source": [
    "page = requests.get(url)\n",
    "bs = BeautifulSoup(page.content, 'lxml')"
   ]
  },
  {
   "cell_type": "code",
   "execution_count": 29,
   "id": "030a5d50",
   "metadata": {
    "ExecuteTime": {
     "end_time": "2023-09-24T05:01:52.020900Z",
     "start_time": "2023-09-24T05:01:52.000623Z"
    }
   },
   "outputs": [
    {
     "name": "stdout",
     "output_type": "stream",
     "text": [
      "host - ['Glenn Phillips (WK)', 'Bhuvneshwar Kumar (C)']\n",
      "visitor - ['Sanju Samson (C & WK)']\n"
     ]
    }
   ],
   "source": [
    "for i in dict_col:\n",
    "    print(i + \" - \", end = \"\")\n",
    "    find_C_WK(dict_col[i])"
   ]
  }
 ],
 "metadata": {
  "kernelspec": {
   "display_name": "Python 3 (ipykernel)",
   "language": "python",
   "name": "python3"
  },
  "language_info": {
   "codemirror_mode": {
    "name": "ipython",
    "version": 3
   },
   "file_extension": ".py",
   "mimetype": "text/x-python",
   "name": "python",
   "nbconvert_exporter": "python",
   "pygments_lexer": "ipython3",
   "version": "3.9.13"
  }
 },
 "nbformat": 4,
 "nbformat_minor": 5
}
