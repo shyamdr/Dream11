{
 "cells": [
  {
   "cell_type": "markdown",
   "id": "0f8e4645",
   "metadata": {},
   "source": [
    "Extract a particular file from cricsheet website and create a DataFrame. "
   ]
  },
  {
   "cell_type": "markdown",
   "id": "b85b9ee8",
   "metadata": {},
   "source": [
    "## Importing Libraries"
   ]
  },
  {
   "cell_type": "code",
   "execution_count": 1,
   "id": "a26ef43b",
   "metadata": {
    "ExecuteTime": {
     "end_time": "2023-11-13T04:00:48.551543Z",
     "start_time": "2023-11-13T04:00:46.641620Z"
    }
   },
   "outputs": [],
   "source": [
    "import requests\n",
    "import io\n",
    "import zipfile\n",
    "import re\n",
    "import pandas as pd\n",
    "import numpy as np"
   ]
  },
  {
   "cell_type": "code",
   "execution_count": 3,
   "id": "33156a11",
   "metadata": {
    "ExecuteTime": {
     "end_time": "2023-11-13T04:02:12.100164Z",
     "start_time": "2023-11-13T04:02:12.091457Z"
    }
   },
   "outputs": [],
   "source": [
    "# Settings configurations\n",
    "\n",
    "pd.set_option('display.max_columns', None)\n",
    "pd.set_option('display.max_rows', None)"
   ]
  },
  {
   "cell_type": "code",
   "execution_count": 4,
   "id": "297ff460",
   "metadata": {
    "ExecuteTime": {
     "end_time": "2023-11-13T04:02:40.855224Z",
     "start_time": "2023-11-13T04:02:40.844548Z"
    }
   },
   "outputs": [],
   "source": [
    "url = \"https://cricsheet.org/downloads/recently_added_2_json.zip\""
   ]
  },
  {
   "cell_type": "code",
   "execution_count": 9,
   "id": "640bc893",
   "metadata": {
    "ExecuteTime": {
     "end_time": "2023-11-13T04:08:26.524992Z",
     "start_time": "2023-11-13T04:08:18.064321Z"
    }
   },
   "outputs": [],
   "source": [
    "response = requests.get(url)\n",
    "if response.status_code == 200:\n",
    "    content = response.content\n",
    "    \n",
    "    zip_file = zipfile.ZipFile(io.BytesIO(content))\n",
    "    json_files = [file for file in zip_file.namelist() if file.endswith('.json')]"
   ]
  },
  {
   "cell_type": "code",
   "execution_count": 10,
   "id": "b7852231",
   "metadata": {
    "ExecuteTime": {
     "end_time": "2023-11-13T04:08:32.265283Z",
     "start_time": "2023-11-13T04:08:32.242554Z"
    }
   },
   "outputs": [
    {
     "data": {
      "text/plain": [
       "['README.txt',\n",
       " '1251953.json',\n",
       " '1262756.json',\n",
       " '1267679.json',\n",
       " '1239542.json',\n",
       " '1252700.json',\n",
       " '1263161.json',\n",
       " '1267680.json',\n",
       " '1251954.json',\n",
       " '1252666.json',\n",
       " '1086066.json',\n",
       " '1262757.json',\n",
       " '1267681.json',\n",
       " '1252667.json',\n",
       " '1252701.json',\n",
       " '1251955.json',\n",
       " '1252669.json',\n",
       " '1252668.json',\n",
       " '1252702.json',\n",
       " '1252703.json',\n",
       " '1262758.json',\n",
       " '1267682.json',\n",
       " '1263162.json',\n",
       " '1252671.json',\n",
       " '1252704.json',\n",
       " '1252705.json',\n",
       " '1268757.json',\n",
       " '1252672.json',\n",
       " '1252706.json',\n",
       " '1263163.json',\n",
       " '1252707.json',\n",
       " '1252673.json',\n",
       " '1262759.json',\n",
       " '1263164.json',\n",
       " '1262760.json',\n",
       " '1268759.json',\n",
       " '1268760.json',\n",
       " '1252676.json',\n",
       " '1252675.json',\n",
       " '1252709.json',\n",
       " '1252710.json',\n",
       " '1263165.json',\n",
       " '1252677.json',\n",
       " '1252678.json',\n",
       " '1252711.json',\n",
       " '1252712.json',\n",
       " '1263166.json',\n",
       " '1252679.json',\n",
       " '1252713.json',\n",
       " '1252714.json',\n",
       " '1252680.json',\n",
       " '1252681.json',\n",
       " '1252715.json',\n",
       " '1263167.json',\n",
       " '1270834.json',\n",
       " '1252682.json',\n",
       " '1252716.json',\n",
       " '1270835.json',\n",
       " '1252683.json',\n",
       " '1252717.json',\n",
       " '1271445.json',\n",
       " '1271446.json',\n",
       " '1252684.json',\n",
       " '1252718.json',\n",
       " '1270836.json',\n",
       " '1271447.json',\n",
       " '1252685.json',\n",
       " '1252719.json',\n",
       " '1270837.json',\n",
       " '1271448.json',\n",
       " '1271449.json',\n",
       " '1271450.json',\n",
       " '1252686.json',\n",
       " '1252720.json',\n",
       " '1239543.json',\n",
       " '1271451.json',\n",
       " '1270838.json',\n",
       " '1252687.json',\n",
       " '1252688.json',\n",
       " '1252722.json',\n",
       " '1252689.json',\n",
       " '1252723.json',\n",
       " '1252690.json',\n",
       " '1252724.json',\n",
       " '1252725.json',\n",
       " '1252691.json',\n",
       " '1252692.json',\n",
       " '1252726.json',\n",
       " '1252693.json',\n",
       " '1252727.json',\n",
       " '1273133.json',\n",
       " '1273134.json',\n",
       " '1252694.json',\n",
       " '1252728.json',\n",
       " '1263169.json',\n",
       " '1252695.json',\n",
       " '1252729.json',\n",
       " '1239544.json',\n",
       " '1252696.json',\n",
       " '1252730.json',\n",
       " '1252731.json',\n",
       " '1273141.json',\n",
       " '1252697.json',\n",
       " '1273136.json',\n",
       " '1273143.json',\n",
       " '1252732.json',\n",
       " '1252698.json',\n",
       " '1273137.json',\n",
       " '1273146.json',\n",
       " '1273144.json',\n",
       " '1273145.json',\n",
       " '1273138.json',\n",
       " '1273147.json',\n",
       " '1252733.json',\n",
       " '1252699.json',\n",
       " '1273139.json',\n",
       " '1273148.json',\n",
       " '1273149.json',\n",
       " '1250362.json',\n",
       " '1263170.json',\n",
       " '1250363.json',\n",
       " '1274595.json',\n",
       " '1274596.json',\n",
       " '1274597.json',\n",
       " '1269700.json',\n",
       " '1250364.json',\n",
       " '1272373.json',\n",
       " '1272900.json',\n",
       " '1269701.json',\n",
       " '1269702.json',\n",
       " '1274600.json',\n",
       " '1274601.json',\n",
       " '1274602.json',\n",
       " '1250365.json',\n",
       " '1272374.json',\n",
       " '1272902.json',\n",
       " '1275074.json',\n",
       " '1274604.json',\n",
       " '1274609.json',\n",
       " '1274606.json',\n",
       " '1274608.json',\n",
       " '1269704.json',\n",
       " '1269705.json',\n",
       " '1269706.json',\n",
       " '1269707.json',\n",
       " '1269708.json',\n",
       " '1272093.json',\n",
       " '1272375.json',\n",
       " '1273415.json',\n",
       " '1269709.json',\n",
       " '1269710.json',\n",
       " '1271627.json',\n",
       " '1272376.json',\n",
       " '1269711.json',\n",
       " '1269712.json',\n",
       " '1269713.json',\n",
       " '1260100.json',\n",
       " '1273416.json',\n",
       " '1275268.json',\n",
       " '1275269.json',\n",
       " '1275270.json',\n",
       " '1275271.json',\n",
       " '1275272.json',\n",
       " '1272094.json',\n",
       " '1271628.json',\n",
       " '1260101.json',\n",
       " '1273417.json',\n",
       " '1269714.json',\n",
       " '1269715.json',\n",
       " '1272377.json',\n",
       " '1275274.json',\n",
       " '1275275.json',\n",
       " '1275277.json',\n",
       " '1272095.json',\n",
       " '1275276.json',\n",
       " '1269716.json',\n",
       " '1166913.json',\n",
       " '1166914.json',\n",
       " '1166915.json',\n",
       " '1166916.json',\n",
       " '1166917.json',\n",
       " '1166918.json',\n",
       " '1166919.json',\n",
       " '1166920.json',\n",
       " '1166921.json',\n",
       " '1166922.json',\n",
       " '1166923.json',\n",
       " '1166924.json',\n",
       " '1166925.json',\n",
       " '1166926.json',\n",
       " '1166927.json',\n",
       " '1166928.json',\n",
       " '1166929.json',\n",
       " '1166931.json',\n",
       " '1166932.json',\n",
       " '1166933.json',\n",
       " '1166935.json',\n",
       " '1166936.json',\n",
       " '1166937.json',\n",
       " '1166938.json',\n",
       " '1166939.json',\n",
       " '1166940.json',\n",
       " '1166941.json',\n",
       " '1166942.json',\n",
       " '1166943.json',\n",
       " '1166944.json',\n",
       " '1166945.json',\n",
       " '1166947.json',\n",
       " '1166948.json',\n",
       " '1166949.json',\n",
       " '1166950.json',\n",
       " '1166951.json',\n",
       " '1166952.json',\n",
       " '1166953.json',\n",
       " '1166955.json',\n",
       " '1166956.json',\n",
       " '1166957.json',\n",
       " '1166959.json',\n",
       " '1166960.json',\n",
       " '1166961.json',\n",
       " '1166962.json',\n",
       " '1166964.json',\n",
       " '1166965.json',\n",
       " '1166966.json',\n",
       " '1166967.json',\n",
       " '1166968.json',\n",
       " '1166969.json',\n",
       " '1166970.json',\n",
       " '1166971.json',\n",
       " '1166972.json',\n",
       " '1166973.json',\n",
       " '1166974.json',\n",
       " '1166975.json',\n",
       " '1166976.json',\n",
       " '1166977.json',\n",
       " '1166978.json',\n",
       " '1166979.json',\n",
       " '1166980.json',\n",
       " '1166981.json',\n",
       " '1166982.json',\n",
       " '1166983.json',\n",
       " '1166984.json',\n",
       " '1166985.json',\n",
       " '1166987.json',\n",
       " '1166988.json',\n",
       " '1166989.json',\n",
       " '1166991.json',\n",
       " '1166993.json',\n",
       " '1166994.json',\n",
       " '1166995.json',\n",
       " '1166996.json',\n",
       " '1166997.json',\n",
       " '1166999.json',\n",
       " '1167000.json',\n",
       " '1167001.json',\n",
       " '1167002.json',\n",
       " '1167003.json',\n",
       " '1167004.json',\n",
       " '1167005.json',\n",
       " '1167007.json',\n",
       " '1167008.json',\n",
       " '1167009.json',\n",
       " '1167010.json',\n",
       " '1167011.json',\n",
       " '1167012.json',\n",
       " '1167013.json',\n",
       " '1167015.json',\n",
       " '1167016.json',\n",
       " '1167017.json',\n",
       " '1167018.json',\n",
       " '1167019.json',\n",
       " '1167020.json',\n",
       " '1167021.json',\n",
       " '1167022.json',\n",
       " '1167023.json',\n",
       " '1167024.json',\n",
       " '1167025.json',\n",
       " '1167026.json',\n",
       " '1167027.json',\n",
       " '1167028.json',\n",
       " '1167029.json',\n",
       " '1167030.json',\n",
       " '1167031.json',\n",
       " '1167032.json',\n",
       " '1167033.json',\n",
       " '1167034.json',\n",
       " '1167035.json',\n",
       " '1167036.json',\n",
       " '1167037.json',\n",
       " '1167038.json',\n",
       " '1271629.json',\n",
       " '1272379.json',\n",
       " '1276295.json',\n",
       " '1276294.json',\n",
       " '1272096.json',\n",
       " '1260102.json',\n",
       " '1275104.json',\n",
       " '1275105.json',\n",
       " '1275106.json',\n",
       " '1275107.json',\n",
       " '1275108.json',\n",
       " '1273418.json',\n",
       " '1269718.json',\n",
       " '1269719.json',\n",
       " '1269720.json',\n",
       " '1269721.json',\n",
       " '1269722.json',\n",
       " '1269723.json',\n",
       " '1271390.json',\n",
       " '1271391.json',\n",
       " '1271393.json',\n",
       " '1271394.json',\n",
       " '1271395.json',\n",
       " '1271396.json',\n",
       " '1271397.json',\n",
       " '1271398.json',\n",
       " '1272097.json',\n",
       " '1275044.json',\n",
       " '1272380.json',\n",
       " '1276296.json',\n",
       " '1271630.json',\n",
       " '1275052.json',\n",
       " '1275110.json',\n",
       " '1275111.json',\n",
       " '1273419.json',\n",
       " '1269724.json',\n",
       " '1275039.json',\n",
       " '1275040.json',\n",
       " '1275053.json',\n",
       " '1275054.json',\n",
       " '1275112.json',\n",
       " '1275114.json',\n",
       " '1275115.json',\n",
       " '1271631.json',\n",
       " '1275043.json',\n",
       " '1272381.json',\n",
       " '1275249.json',\n",
       " '1275042.json',\n",
       " '1273420.json',\n",
       " '1269725.json',\n",
       " '1269726.json',\n",
       " '1269727.json',\n",
       " '1269728.json',\n",
       " '1269729.json',\n",
       " '1275120.json',\n",
       " '1146789.json',\n",
       " '1181893.json',\n",
       " '1181894.json',\n",
       " '1181895.json',\n",
       " '1181896.json',\n",
       " '1235586.json',\n",
       " '1235587.json',\n",
       " '1235588.json',\n",
       " '1235589.json',\n",
       " '1269730.json',\n",
       " '1275250.json',\n",
       " '1271632.json',\n",
       " '1275122.json',\n",
       " '1275123.json',\n",
       " '1275125.json',\n",
       " '1271399.json',\n",
       " '1271400.json',\n",
       " '1271401.json',\n",
       " '1271402.json',\n",
       " '1271403.json',\n",
       " '1271404.json',\n",
       " '1271405.json',\n",
       " '1271406.json',\n",
       " '1271407.json',\n",
       " '1275251.json',\n",
       " '1275252.json',\n",
       " '1273272.json',\n",
       " '1275045.json',\n",
       " '1275051.json',\n",
       " '1250366.json',\n",
       " '1250367.json',\n",
       " '1260103.json',\n",
       " '1273421.json',\n",
       " '1275126.json',\n",
       " '1275127.json',\n",
       " '1275128.json',\n",
       " '1275129.json',\n",
       " '1275130.json',\n",
       " '1384430.json',\n",
       " '1384431.json',\n",
       " '1387200.json',\n",
       " '1387199.json',\n",
       " '1391779.json',\n",
       " '1391780.json',\n",
       " '1405125.json',\n",
       " '1384432.json',\n",
       " '1405126.json',\n",
       " '1391781.json',\n",
       " '1384433.json',\n",
       " '1387202.json',\n",
       " '1387203.json',\n",
       " '1387204.json']"
      ]
     },
     "execution_count": 10,
     "metadata": {},
     "output_type": "execute_result"
    }
   ],
   "source": [
    "zip_file.namelist()"
   ]
  },
  {
   "cell_type": "code",
   "execution_count": 8,
   "id": "006c8ca1",
   "metadata": {
    "ExecuteTime": {
     "end_time": "2023-11-13T04:06:40.849613Z",
     "start_time": "2023-11-13T04:06:40.831694Z"
    }
   },
   "outputs": [
    {
     "data": {
      "text/plain": [
       "<_io.BytesIO at 0x1dfdb5bfe50>"
      ]
     },
     "execution_count": 8,
     "metadata": {},
     "output_type": "execute_result"
    }
   ],
   "source": [
    "for file in json_file:\n",
    "    try:\n",
    "        "
   ]
  },
  {
   "cell_type": "code",
   "execution_count": 16,
   "id": "bd263332",
   "metadata": {
    "ExecuteTime": {
     "end_time": "2023-11-13T04:32:48.190057Z",
     "start_time": "2023-11-13T04:32:48.174468Z"
    }
   },
   "outputs": [],
   "source": [
    "zip_file.extract('README.txt')\n",
    "with open('README.txt') as f:\n",
    "    lines = f.readlines()"
   ]
  },
  {
   "cell_type": "code",
   "execution_count": 15,
   "id": "df063476",
   "metadata": {
    "ExecuteTime": {
     "end_time": "2023-11-13T04:31:32.700002Z",
     "start_time": "2023-11-13T04:31:32.681403Z"
    }
   },
   "outputs": [
    {
     "data": {
      "text/plain": [
       "'All recently added match data in CSV format\\n===========================================\\n\\nThe background\\n--------------\\n\\nAs an experiment, after being asked by a user of the site, I started\\nconverting the IPL data from YAML into this CSV format. This then expanded\\nto include international T20s, for both women and men, before, finally,\\nexpanding again to cover all matches we provide.\\n\\nThis particular zip folder contains the CSV data for...\\n  All recently added matches\\n...for which we have data, and is loosely based on the format that Retrosheet\\nuses for baseball, with some suitable hacks built in.\\n\\nHow you can help\\n----------------\\n\\nProviding feedback on the data would be the most helpful. Tell me what you\\nlike and what you don\\'t. Is there anything that is in the JSON data that\\nyou\\'d like to be included in the CSV? Could something be included in a better\\nformat? General views and comments help, as well as incredibly detailed\\nfeedback. All information is of use to me at this stage. I can only improve\\nthe data if people tell me what does works and what doesn\\'t. I\\'d like to make\\nthe data as useful as possible but I need your help to do it. Also, which of\\nthe 2 CSV formats do you prefer, this one or the newer \"Ashwin\" format?\\nIdeally I\\'d like to settle on a single CSV format so what should be kept\\nfrom each?\\n\\nFinally, any feedback as to the licence the data should be released under\\nwould be greatly appreciated. Licensing is a strange little world and I\\'d\\nlike to choose the \"right\" licence. My basic criteria may be that:\\n\\n  * the data should be free,\\n  * corrections are encouraged/required to be reported to the project,\\n  * derivative works are allowed,\\n  * you can\\'t just take data and sell it.\\n\\nFeedback, pointers, comments, etc on licensing are welcome.\\n\\nThe format of the data\\n----------------------\\n\\nFull documentation of this CSV format can be found at:\\n  https://cricsheet.org/format/csv_original/\\nbut the following is a brief summary of the details...\\n\\nEach file has a \\'version\\', multiple \\'info\\' lines, and multiple \\'ball\\' lines.\\n\\'version\\' is just 1.6.0, or 1.7.0 for now, and will change as I make changes.\\nThe \\'info\\' entries should be fairly self-explanatory but feel free to ask on\\nTwitter (@cricsheet) if you\\'re unsure. If you look carefully you may see some\\nslight hints as to some data we\\'ll be including in the full data files in\\nthe future.\\n\\nEach \\'ball\\' line has the following fields:\\n\\n  * The word \\'ball\\' to identify it as such\\n  * Innings number, starting from 1\\n  * Over and ball\\n  * Batting team name\\n  * Batsman\\n  * Non-striker\\n  * Bowler\\n  * Runs-off-bat\\n  * Extras\\n  * Wides\\n  * No-balls\\n  * Byes\\n  * Leg-byes\\n  * Penalty\\n  * Kind of wicket, if any\\n  * Dismissed played, if there was a wicket\\n\\nMatches included in this archive\\n--------------------------------\\n\\n2023-11-10 - international - ODI - male - 1384433 - Afghanistan vs South Africa\\n2023-11-10 - club - WBB - female - 1387203 - Sydney Thunder vs Melbourne Stars\\n2023-11-10 - club - WBB - female - 1387204 - Sydney Sixers vs Hobart Hurricanes\\n2023-11-10 - international - ODI - female - 1405126 - Pakistan vs Bangladesh\\n2023-11-09 - international - ODI - male - 1384432 - Sri Lanka vs New Zealand\\n2023-11-09 - club - WBB - female - 1387202 - Perth Scorchers vs Brisbane Heat\\n2023-11-08 - international - ODI - male - 1384431 - England vs Netherlands\\n2023-11-08 - club - WBB - female - 1387199 - Sydney Sixers vs Melbourne Stars\\n2023-11-08 - club - WBB - female - 1387200 - Melbourne Renegades vs Adelaide Strikers\\n2023-11-07 - international - ODI - male - 1384430 - Afghanistan vs Australia\\n2023-11-07 - international - ODI - female - 1405125 - Bangladesh vs Pakistan\\n2023-11-06 - club - SSH - male - 1391780 - Western Australia vs New South Wales\\n2023-11-06 - club - SSH - male - 1391781 - South Australia vs Queensland\\n2023-11-05 - club - SSH - male - 1391779 - Tasmania vs Victoria\\n\\nFurther information\\n-------------------\\n\\nYou can find all of our currently available data at https://cricsheet.org/\\n\\nYou can contact me via the following methods:\\n  Email  : stephen@cricsheet.org\\n  Twitter: @cricsheet\\n'"
      ]
     },
     "execution_count": 15,
     "metadata": {},
     "output_type": "execute_result"
    }
   ],
   "source": [
    "contents"
   ]
  },
  {
   "cell_type": "code",
   "execution_count": null,
   "id": "6ea46d48",
   "metadata": {},
   "outputs": [],
   "source": []
  },
  {
   "cell_type": "code",
   "execution_count": null,
   "id": "174afeb6",
   "metadata": {},
   "outputs": [],
   "source": []
  },
  {
   "cell_type": "code",
   "execution_count": null,
   "id": "be160126",
   "metadata": {},
   "outputs": [],
   "source": []
  },
  {
   "cell_type": "code",
   "execution_count": null,
   "id": "a4352b85",
   "metadata": {},
   "outputs": [],
   "source": []
  },
  {
   "cell_type": "code",
   "execution_count": null,
   "id": "5ad4c310",
   "metadata": {},
   "outputs": [],
   "source": []
  },
  {
   "cell_type": "code",
   "execution_count": null,
   "id": "66efe571",
   "metadata": {},
   "outputs": [],
   "source": []
  },
  {
   "cell_type": "code",
   "execution_count": null,
   "id": "cffab727",
   "metadata": {},
   "outputs": [],
   "source": []
  },
  {
   "cell_type": "code",
   "execution_count": null,
   "id": "27cfbb4e",
   "metadata": {},
   "outputs": [],
   "source": []
  },
  {
   "cell_type": "code",
   "execution_count": null,
   "id": "ed917c42",
   "metadata": {},
   "outputs": [],
   "source": []
  },
  {
   "cell_type": "code",
   "execution_count": null,
   "id": "7f1cc0cf",
   "metadata": {},
   "outputs": [],
   "source": []
  },
  {
   "cell_type": "code",
   "execution_count": null,
   "id": "fc0a96b2",
   "metadata": {},
   "outputs": [],
   "source": []
  },
  {
   "cell_type": "code",
   "execution_count": 13,
   "id": "aa0927c4",
   "metadata": {
    "ExecuteTime": {
     "end_time": "2023-11-13T04:23:46.909872Z",
     "start_time": "2023-11-13T04:23:45.249823Z"
    }
   },
   "outputs": [
    {
     "name": "stdout",
     "output_type": "stream",
     "text": [
      "Here are the new csv files found :- \n",
      "\n",
      "['1384430.csv', '1384431.csv', '1387200.csv', '1387199.csv', '1391779.csv', '1391780.csv', '1405125.csv', '1384432.csv', '1405126.csv', '1391781.csv', '1384433.csv', '1387202.csv', '1387203.csv', '1387204.csv']\n"
     ]
    },
    {
     "ename": "ParserError",
     "evalue": "Error tokenizing data. C error: Expected 3 fields in line 22, saw 4\n",
     "output_type": "error",
     "traceback": [
      "\u001b[1;31m---------------------------------------------------------------------------\u001b[0m",
      "\u001b[1;31mParserError\u001b[0m                               Traceback (most recent call last)",
      "\u001b[1;32m~\\AppData\\Local\\Temp\\ipykernel_14372\\1985187018.py\u001b[0m in \u001b[0;36m<module>\u001b[1;34m\u001b[0m\n\u001b[0;32m     24\u001b[0m \u001b[1;33m\u001b[0m\u001b[0m\n\u001b[0;32m     25\u001b[0m             \u001b[1;31m# Read the extracted CSV file as a DataFrame\u001b[0m\u001b[1;33m\u001b[0m\u001b[1;33m\u001b[0m\u001b[0m\n\u001b[1;32m---> 26\u001b[1;33m             \u001b[0mdf\u001b[0m \u001b[1;33m=\u001b[0m \u001b[0mpd\u001b[0m\u001b[1;33m.\u001b[0m\u001b[0mread_csv\u001b[0m\u001b[1;33m(\u001b[0m\u001b[0mfile\u001b[0m\u001b[1;33m)\u001b[0m\u001b[1;33m\u001b[0m\u001b[1;33m\u001b[0m\u001b[0m\n\u001b[0m\u001b[0;32m     27\u001b[0m \u001b[1;33m\u001b[0m\u001b[0m\n\u001b[0;32m     28\u001b[0m             \u001b[1;31m# Perform your desired tasks with the data\u001b[0m\u001b[1;33m\u001b[0m\u001b[1;33m\u001b[0m\u001b[0m\n",
      "\u001b[1;32m~\\anaconda3\\lib\\site-packages\\pandas\\util\\_decorators.py\u001b[0m in \u001b[0;36mwrapper\u001b[1;34m(*args, **kwargs)\u001b[0m\n\u001b[0;32m    309\u001b[0m                     \u001b[0mstacklevel\u001b[0m\u001b[1;33m=\u001b[0m\u001b[0mstacklevel\u001b[0m\u001b[1;33m,\u001b[0m\u001b[1;33m\u001b[0m\u001b[1;33m\u001b[0m\u001b[0m\n\u001b[0;32m    310\u001b[0m                 )\n\u001b[1;32m--> 311\u001b[1;33m             \u001b[1;32mreturn\u001b[0m \u001b[0mfunc\u001b[0m\u001b[1;33m(\u001b[0m\u001b[1;33m*\u001b[0m\u001b[0margs\u001b[0m\u001b[1;33m,\u001b[0m \u001b[1;33m**\u001b[0m\u001b[0mkwargs\u001b[0m\u001b[1;33m)\u001b[0m\u001b[1;33m\u001b[0m\u001b[1;33m\u001b[0m\u001b[0m\n\u001b[0m\u001b[0;32m    312\u001b[0m \u001b[1;33m\u001b[0m\u001b[0m\n\u001b[0;32m    313\u001b[0m         \u001b[1;32mreturn\u001b[0m \u001b[0mwrapper\u001b[0m\u001b[1;33m\u001b[0m\u001b[1;33m\u001b[0m\u001b[0m\n",
      "\u001b[1;32m~\\anaconda3\\lib\\site-packages\\pandas\\io\\parsers\\readers.py\u001b[0m in \u001b[0;36mread_csv\u001b[1;34m(filepath_or_buffer, sep, delimiter, header, names, index_col, usecols, squeeze, prefix, mangle_dupe_cols, dtype, engine, converters, true_values, false_values, skipinitialspace, skiprows, skipfooter, nrows, na_values, keep_default_na, na_filter, verbose, skip_blank_lines, parse_dates, infer_datetime_format, keep_date_col, date_parser, dayfirst, cache_dates, iterator, chunksize, compression, thousands, decimal, lineterminator, quotechar, quoting, doublequote, escapechar, comment, encoding, encoding_errors, dialect, error_bad_lines, warn_bad_lines, on_bad_lines, delim_whitespace, low_memory, memory_map, float_precision, storage_options)\u001b[0m\n\u001b[0;32m    676\u001b[0m     \u001b[0mkwds\u001b[0m\u001b[1;33m.\u001b[0m\u001b[0mupdate\u001b[0m\u001b[1;33m(\u001b[0m\u001b[0mkwds_defaults\u001b[0m\u001b[1;33m)\u001b[0m\u001b[1;33m\u001b[0m\u001b[1;33m\u001b[0m\u001b[0m\n\u001b[0;32m    677\u001b[0m \u001b[1;33m\u001b[0m\u001b[0m\n\u001b[1;32m--> 678\u001b[1;33m     \u001b[1;32mreturn\u001b[0m \u001b[0m_read\u001b[0m\u001b[1;33m(\u001b[0m\u001b[0mfilepath_or_buffer\u001b[0m\u001b[1;33m,\u001b[0m \u001b[0mkwds\u001b[0m\u001b[1;33m)\u001b[0m\u001b[1;33m\u001b[0m\u001b[1;33m\u001b[0m\u001b[0m\n\u001b[0m\u001b[0;32m    679\u001b[0m \u001b[1;33m\u001b[0m\u001b[0m\n\u001b[0;32m    680\u001b[0m \u001b[1;33m\u001b[0m\u001b[0m\n",
      "\u001b[1;32m~\\anaconda3\\lib\\site-packages\\pandas\\io\\parsers\\readers.py\u001b[0m in \u001b[0;36m_read\u001b[1;34m(filepath_or_buffer, kwds)\u001b[0m\n\u001b[0;32m    579\u001b[0m \u001b[1;33m\u001b[0m\u001b[0m\n\u001b[0;32m    580\u001b[0m     \u001b[1;32mwith\u001b[0m \u001b[0mparser\u001b[0m\u001b[1;33m:\u001b[0m\u001b[1;33m\u001b[0m\u001b[1;33m\u001b[0m\u001b[0m\n\u001b[1;32m--> 581\u001b[1;33m         \u001b[1;32mreturn\u001b[0m \u001b[0mparser\u001b[0m\u001b[1;33m.\u001b[0m\u001b[0mread\u001b[0m\u001b[1;33m(\u001b[0m\u001b[0mnrows\u001b[0m\u001b[1;33m)\u001b[0m\u001b[1;33m\u001b[0m\u001b[1;33m\u001b[0m\u001b[0m\n\u001b[0m\u001b[0;32m    582\u001b[0m \u001b[1;33m\u001b[0m\u001b[0m\n\u001b[0;32m    583\u001b[0m \u001b[1;33m\u001b[0m\u001b[0m\n",
      "\u001b[1;32m~\\anaconda3\\lib\\site-packages\\pandas\\io\\parsers\\readers.py\u001b[0m in \u001b[0;36mread\u001b[1;34m(self, nrows)\u001b[0m\n\u001b[0;32m   1251\u001b[0m             \u001b[0mnrows\u001b[0m \u001b[1;33m=\u001b[0m \u001b[0mvalidate_integer\u001b[0m\u001b[1;33m(\u001b[0m\u001b[1;34m\"nrows\"\u001b[0m\u001b[1;33m,\u001b[0m \u001b[0mnrows\u001b[0m\u001b[1;33m)\u001b[0m\u001b[1;33m\u001b[0m\u001b[1;33m\u001b[0m\u001b[0m\n\u001b[0;32m   1252\u001b[0m             \u001b[1;32mtry\u001b[0m\u001b[1;33m:\u001b[0m\u001b[1;33m\u001b[0m\u001b[1;33m\u001b[0m\u001b[0m\n\u001b[1;32m-> 1253\u001b[1;33m                 \u001b[0mindex\u001b[0m\u001b[1;33m,\u001b[0m \u001b[0mcolumns\u001b[0m\u001b[1;33m,\u001b[0m \u001b[0mcol_dict\u001b[0m \u001b[1;33m=\u001b[0m \u001b[0mself\u001b[0m\u001b[1;33m.\u001b[0m\u001b[0m_engine\u001b[0m\u001b[1;33m.\u001b[0m\u001b[0mread\u001b[0m\u001b[1;33m(\u001b[0m\u001b[0mnrows\u001b[0m\u001b[1;33m)\u001b[0m\u001b[1;33m\u001b[0m\u001b[1;33m\u001b[0m\u001b[0m\n\u001b[0m\u001b[0;32m   1254\u001b[0m             \u001b[1;32mexcept\u001b[0m \u001b[0mException\u001b[0m\u001b[1;33m:\u001b[0m\u001b[1;33m\u001b[0m\u001b[1;33m\u001b[0m\u001b[0m\n\u001b[0;32m   1255\u001b[0m                 \u001b[0mself\u001b[0m\u001b[1;33m.\u001b[0m\u001b[0mclose\u001b[0m\u001b[1;33m(\u001b[0m\u001b[1;33m)\u001b[0m\u001b[1;33m\u001b[0m\u001b[1;33m\u001b[0m\u001b[0m\n",
      "\u001b[1;32m~\\anaconda3\\lib\\site-packages\\pandas\\io\\parsers\\c_parser_wrapper.py\u001b[0m in \u001b[0;36mread\u001b[1;34m(self, nrows)\u001b[0m\n\u001b[0;32m    223\u001b[0m         \u001b[1;32mtry\u001b[0m\u001b[1;33m:\u001b[0m\u001b[1;33m\u001b[0m\u001b[1;33m\u001b[0m\u001b[0m\n\u001b[0;32m    224\u001b[0m             \u001b[1;32mif\u001b[0m \u001b[0mself\u001b[0m\u001b[1;33m.\u001b[0m\u001b[0mlow_memory\u001b[0m\u001b[1;33m:\u001b[0m\u001b[1;33m\u001b[0m\u001b[1;33m\u001b[0m\u001b[0m\n\u001b[1;32m--> 225\u001b[1;33m                 \u001b[0mchunks\u001b[0m \u001b[1;33m=\u001b[0m \u001b[0mself\u001b[0m\u001b[1;33m.\u001b[0m\u001b[0m_reader\u001b[0m\u001b[1;33m.\u001b[0m\u001b[0mread_low_memory\u001b[0m\u001b[1;33m(\u001b[0m\u001b[0mnrows\u001b[0m\u001b[1;33m)\u001b[0m\u001b[1;33m\u001b[0m\u001b[1;33m\u001b[0m\u001b[0m\n\u001b[0m\u001b[0;32m    226\u001b[0m                 \u001b[1;31m# destructive to chunks\u001b[0m\u001b[1;33m\u001b[0m\u001b[1;33m\u001b[0m\u001b[0m\n\u001b[0;32m    227\u001b[0m                 \u001b[0mdata\u001b[0m \u001b[1;33m=\u001b[0m \u001b[0m_concatenate_chunks\u001b[0m\u001b[1;33m(\u001b[0m\u001b[0mchunks\u001b[0m\u001b[1;33m)\u001b[0m\u001b[1;33m\u001b[0m\u001b[1;33m\u001b[0m\u001b[0m\n",
      "\u001b[1;32m~\\anaconda3\\lib\\site-packages\\pandas\\_libs\\parsers.pyx\u001b[0m in \u001b[0;36mpandas._libs.parsers.TextReader.read_low_memory\u001b[1;34m()\u001b[0m\n",
      "\u001b[1;32m~\\anaconda3\\lib\\site-packages\\pandas\\_libs\\parsers.pyx\u001b[0m in \u001b[0;36mpandas._libs.parsers.TextReader._read_rows\u001b[1;34m()\u001b[0m\n",
      "\u001b[1;32m~\\anaconda3\\lib\\site-packages\\pandas\\_libs\\parsers.pyx\u001b[0m in \u001b[0;36mpandas._libs.parsers.TextReader._tokenize_rows\u001b[1;34m()\u001b[0m\n",
      "\u001b[1;32m~\\anaconda3\\lib\\site-packages\\pandas\\_libs\\parsers.pyx\u001b[0m in \u001b[0;36mpandas._libs.parsers.raise_parser_error\u001b[1;34m()\u001b[0m\n",
      "\u001b[1;31mParserError\u001b[0m: Error tokenizing data. C error: Expected 3 fields in line 22, saw 4\n"
     ]
    }
   ],
   "source": [
    "#url = \"https://cricsheet.org/downloads/ipl_csv2.zip\"\n",
    "url = \"https://cricsheet.org/downloads/recently_added_2_csv.zip\"\n",
    "\n",
    "# Send a GET request to the URL and retrieve the response\n",
    "response = requests.get(url)\n",
    "\n",
    "# Check if the request was successful\n",
    "if response.status_code == 200:\n",
    "    # Read the content of the response as bytes\n",
    "    content = response.content\n",
    "\n",
    "    # Create a file-like object from the bytes data\n",
    "    zip_file = zipfile.ZipFile(io.BytesIO(content))\n",
    "\n",
    "    # Extract and process CSV files matching the pattern\n",
    "    csv_files = [file for file in zip_file.namelist() if file.endswith('.csv') and '_info' not in file]\n",
    "    print(\"Here are the new csv files found :- \\n\")\n",
    "    print(csv_files)\n",
    "    \n",
    "    for file in csv_files:\n",
    "        try:\n",
    "            # Extract the file from the zip archive\n",
    "            zip_file.extract(file)\n",
    "\n",
    "            # Read the extracted CSV file as a DataFrame\n",
    "            df = pd.read_csv(file)\n",
    "\n",
    "            # Perform your desired tasks with the data\n",
    "            # ...\n",
    "\n",
    "        except KeyError:\n",
    "            print(f\"File {file} not found in the zip archive.\")\n",
    "\n",
    "    # Close the zip file\n",
    "    zip_file.close()\n",
    "\n",
    "else:\n",
    "    print(\"Failed to retrieve data from the URL.\")\n",
    "\n",
    "# Continue with your other tasks or operations\n",
    "# ...\n"
   ]
  },
  {
   "cell_type": "code",
   "execution_count": 12,
   "id": "fb3001ba",
   "metadata": {
    "ExecuteTime": {
     "end_time": "2023-11-13T04:23:38.248441Z",
     "start_time": "2023-11-13T04:23:38.220173Z"
    }
   },
   "outputs": [
    {
     "ename": "NameError",
     "evalue": "name 'df' is not defined",
     "output_type": "error",
     "traceback": [
      "\u001b[1;31m---------------------------------------------------------------------------\u001b[0m",
      "\u001b[1;31mNameError\u001b[0m                                 Traceback (most recent call last)",
      "\u001b[1;32m~\\AppData\\Local\\Temp\\ipykernel_14372\\964094849.py\u001b[0m in \u001b[0;36m<module>\u001b[1;34m\u001b[0m\n\u001b[1;32m----> 1\u001b[1;33m \u001b[0mdf\u001b[0m\u001b[1;33m.\u001b[0m\u001b[0mhead\u001b[0m\u001b[1;33m(\u001b[0m\u001b[1;33m)\u001b[0m\u001b[1;33m\u001b[0m\u001b[1;33m\u001b[0m\u001b[0m\n\u001b[0m",
      "\u001b[1;31mNameError\u001b[0m: name 'df' is not defined"
     ]
    }
   ],
   "source": [
    "df.head()"
   ]
  },
  {
   "cell_type": "code",
   "execution_count": null,
   "id": "77e39903",
   "metadata": {},
   "outputs": [],
   "source": []
  }
 ],
 "metadata": {
  "kernelspec": {
   "display_name": "Python 3 (ipykernel)",
   "language": "python",
   "name": "python3"
  },
  "language_info": {
   "codemirror_mode": {
    "name": "ipython",
    "version": 3
   },
   "file_extension": ".py",
   "mimetype": "text/x-python",
   "name": "python",
   "nbconvert_exporter": "python",
   "pygments_lexer": "ipython3",
   "version": "3.9.13"
  }
 },
 "nbformat": 4,
 "nbformat_minor": 5
}
