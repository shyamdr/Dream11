{
 "cells": [
  {
   "cell_type": "markdown",
   "id": "37e6af0b",
   "metadata": {},
   "source": [
    "# Importing libraries"
   ]
  },
  {
   "cell_type": "code",
   "execution_count": 55,
   "id": "b0443170",
   "metadata": {
    "ExecuteTime": {
     "end_time": "2023-09-14T19:41:54.764479Z",
     "start_time": "2023-09-14T19:41:54.756969Z"
    }
   },
   "outputs": [],
   "source": [
    "import requests\n",
    "import time\n",
    "import re\n",
    "import numpy as np\n",
    "import pandas as pd\n",
    "import espncricinfo as ci\n",
    "import ipywidgets as widgets\n",
    "import os\n",
    "from bs4 import BeautifulSoup\n",
    "from selenium import webdriver\n",
    "from selenium.webdriver.common.by import By\n",
    "from selenium.webdriver.support.ui import WebDriverWait\n",
    "from selenium.webdriver.support import expected_conditions as EC\n",
    "from IPython.display import display, HTML"
   ]
  },
  {
   "cell_type": "markdown",
   "id": "86bf4a85",
   "metadata": {},
   "source": [
    "# Setting configurations"
   ]
  },
  {
   "cell_type": "code",
   "execution_count": 56,
   "id": "cb6fe500",
   "metadata": {
    "ExecuteTime": {
     "end_time": "2023-09-14T19:41:55.483059Z",
     "start_time": "2023-09-14T19:41:55.468627Z"
    }
   },
   "outputs": [],
   "source": [
    "pd.set_option('display.max_columns', None)\n",
    "pd.set_option('display.max_rows', None)\n",
    "\n",
    "comm_filepath = os.path.abspath(os.path.join(os.getcwd(), \"../../../data/CommExtract/\"))"
   ]
  },
  {
   "cell_type": "markdown",
   "id": "ae02b101",
   "metadata": {},
   "source": [
    "# Initializing paramters"
   ]
  },
  {
   "cell_type": "code",
   "execution_count": 61,
   "id": "bf4e7f9a",
   "metadata": {
    "ExecuteTime": {
     "end_time": "2023-09-14T19:42:14.816837Z",
     "start_time": "2023-09-14T19:42:14.810326Z"
    }
   },
   "outputs": [],
   "source": [
    "year = '2023'\n",
    "series = 'indian-premier-league-2023'\n",
    "matchid = '66173'\n",
    "scroll_pause_time = 7"
   ]
  },
  {
   "cell_type": "markdown",
   "id": "eaa75d02",
   "metadata": {},
   "source": [
    "# Web Scrapping - Cricbuzz"
   ]
  },
  {
   "cell_type": "markdown",
   "id": "faf5bb96",
   "metadata": {},
   "source": [
    "### Finding all the series from the yearly calendar"
   ]
  },
  {
   "cell_type": "code",
   "execution_count": 62,
   "id": "2ee3000d",
   "metadata": {
    "ExecuteTime": {
     "end_time": "2023-09-14T19:42:17.068935Z",
     "start_time": "2023-09-14T19:42:16.799768Z"
    }
   },
   "outputs": [
    {
     "name": "stdout",
     "output_type": "stream",
     "text": [
      "144 series found in the year 2023\n",
      "Current series selected is :- indian-premier-league-2023\n",
      "Series ID : 5945\n"
     ]
    }
   ],
   "source": [
    "base_url = 'https://www.cricbuzz.com/cricket-scorecard-archives/'\n",
    "url = base_url + year\n",
    "\n",
    "\n",
    "page = requests.get(url)\n",
    "bs = BeautifulSoup(page.content, 'lxml')\n",
    "\n",
    "links = bs.find_all('a', href=lambda href: href and 'matches' in href)\n",
    "\n",
    "series_list = []\n",
    "for link in links:\n",
    "    href = link['href']\n",
    "    columns = href.split('/')[2:4]\n",
    "    #columns[-1] = columns[-1].replace('-', ' ') ---> for better readability convert code to proper text\n",
    "    series_list.append(columns)\n",
    "\n",
    "series_id = next((row[0] for row in series_list if row[1] == series), None)\n",
    "\n",
    "print(str(len(series_list)) + ' series found in the year ' + year)\n",
    "print('Current series selected is :- ' + series)\n",
    "print('Series ID : ' + series_id)\n",
    "#series"
   ]
  },
  {
   "cell_type": "markdown",
   "id": "433d3a0d",
   "metadata": {},
   "source": [
    "### Finding all the matches from the given series"
   ]
  },
  {
   "cell_type": "code",
   "execution_count": 63,
   "id": "ec81d51d",
   "metadata": {
    "ExecuteTime": {
     "end_time": "2023-09-14T19:42:18.657989Z",
     "start_time": "2023-09-14T19:42:18.516631Z"
    }
   },
   "outputs": [
    {
     "name": "stdout",
     "output_type": "stream",
     "text": [
      "75 matches found in the series - indian premier league 2023 for the year 2023\n",
      "Current match selected is :- pbks-vs-kkr-2nd-match-indian-premier-league-2023\n",
      "Match ID : 66173\n"
     ]
    },
    {
     "data": {
      "text/plain": [
       "[('66169', 'gt-vs-csk-1st-match-indian-premier-league-2023'),\n",
       " ('66173', 'pbks-vs-kkr-2nd-match-indian-premier-league-2023'),\n",
       " ('66176', 'lsg-vs-dc-3rd-match-indian-premier-league-2023'),\n",
       " ('66183', 'srh-vs-rr-4th-match-indian-premier-league-2023'),\n",
       " ('66190', 'rcb-vs-mi-5th-match-indian-premier-league-2023'),\n",
       " ('66197', 'csk-vs-lsg-6th-match-indian-premier-league-2023'),\n",
       " ('66204', 'dc-vs-gt-7th-match-indian-premier-league-2023'),\n",
       " ('66208', 'rr-vs-pbks-8th-match-indian-premier-league-2023'),\n",
       " ('66211', 'kkr-vs-rcb-9th-match-indian-premier-league-2023'),\n",
       " ('66215', 'lsg-vs-srh-10th-match-indian-premier-league-2023'),\n",
       " ('66218', 'rr-vs-dc-11th-match-indian-premier-league-2023'),\n",
       " ('66225', 'mi-vs-csk-12th-match-indian-premier-league-2023'),\n",
       " ('66232', 'gt-vs-kkr-13th-match-indian-premier-league-2023'),\n",
       " ('66236', 'srh-vs-pbks-14th-match-indian-premier-league-2023'),\n",
       " ('66239', 'rcb-vs-lsg-15th-match-indian-premier-league-2023'),\n",
       " ('66243', 'dc-vs-mi-16th-match-indian-premier-league-2023'),\n",
       " ('66250', 'csk-vs-rr-17th-match-indian-premier-league-2023'),\n",
       " ('66253', 'pbks-vs-gt-18th-match-indian-premier-league-2023'),\n",
       " ('66257', 'kkr-vs-srh-19th-match-indian-premier-league-2023'),\n",
       " ('66260', 'rcb-vs-dc-20th-match-indian-premier-league-2023'),\n",
       " ('66264', 'lsg-vs-pbks-21st-match-indian-premier-league-2023'),\n",
       " ('66271', 'mi-vs-kkr-22nd-match-indian-premier-league-2023'),\n",
       " ('66274', 'gt-vs-rr-23rd-match-indian-premier-league-2023'),\n",
       " ('66278', 'rcb-vs-csk-24th-match-indian-premier-league-2023'),\n",
       " ('66285', 'srh-vs-mi-25th-match-indian-premier-league-2023'),\n",
       " ('66288', 'csk-vs-pbks-41st-match-indian-premier-league-2023'),\n",
       " ('66292', 'rr-vs-lsg-26th-match-indian-premier-league-2023'),\n",
       " ('66299', 'mi-vs-rr-42nd-match-indian-premier-league-2023'),\n",
       " ('66306', 'lsg-vs-rcb-43rd-match-indian-premier-league-2023'),\n",
       " ('66313', 'pbks-vs-rcb-27th-match-indian-premier-league-2023'),\n",
       " ('66320', 'gt-vs-dc-44th-match-indian-premier-league-2023'),\n",
       " ('66327', 'pbks-vs-mi-46th-match-indian-premier-league-2023'),\n",
       " ('66330', 'dc-vs-kkr-28th-match-indian-premier-league-2023'),\n",
       " ('66337', 'lsg-vs-csk-45th-match-indian-premier-league-2023'),\n",
       " ('66344', 'srh-vs-kkr-47th-match-indian-premier-league-2023'),\n",
       " ('66348', 'rr-vs-gt-48th-match-indian-premier-league-2023'),\n",
       " ('66351', 'csk-vs-srh-29th-match-indian-premier-league-2023'),\n",
       " ('66355', 'csk-vs-mi-49th-match-indian-premier-league-2023'),\n",
       " ('66358', 'dc-vs-rcb-50th-match-indian-premier-league-2023'),\n",
       " ('66365', 'gt-vs-lsg-51st-match-indian-premier-league-2023'),\n",
       " ('66369', 'lsg-vs-gt-30th-match-indian-premier-league-2023'),\n",
       " ('66376', 'rr-vs-srh-52nd-match-indian-premier-league-2023'),\n",
       " ('66379', 'kkr-vs-pbks-53rd-match-indian-premier-league-2023'),\n",
       " ('66386', 'mi-vs-rcb-54th-match-indian-premier-league-2023'),\n",
       " ('66393', 'csk-vs-dc-55th-match-indian-premier-league-2023'),\n",
       " ('66397', 'kkr-vs-rr-56th-match-indian-premier-league-2023'),\n",
       " ('66404', 'mi-vs-pbks-31st-match-indian-premier-league-2023'),\n",
       " ('66411', 'mi-vs-gt-57th-match-indian-premier-league-2023'),\n",
       " ('66414', 'srh-vs-lsg-58th-match-indian-premier-league-2023'),\n",
       " ('66421', 'rcb-vs-rr-32nd-match-indian-premier-league-2023'),\n",
       " ('66428', 'dc-vs-pbks-59th-match-indian-premier-league-2023'),\n",
       " ('66432', 'rr-vs-rcb-60th-match-indian-premier-league-2023'),\n",
       " ('66435', 'kkr-vs-csk-33rd-match-indian-premier-league-2023'),\n",
       " ('66442', 'csk-vs-kkr-61st-match-indian-premier-league-2023'),\n",
       " ('66446', 'gt-vs-srh-62nd-match-indian-premier-league-2023'),\n",
       " ('66449', 'srh-vs-dc-34th-match-indian-premier-league-2023'),\n",
       " ('66453', 'lsg-vs-mi-63rd-match-indian-premier-league-2023'),\n",
       " ('66460', 'pbks-vs-dc-64th-match-indian-premier-league-2023'),\n",
       " ('66467', 'srh-vs-rcb-65th-match-indian-premier-league-2023'),\n",
       " ('66470', 'gt-vs-mi-35th-match-indian-premier-league-2023'),\n",
       " ('66477', 'pbks-vs-rr-66th-match-indian-premier-league-2023'),\n",
       " ('66481', 'dc-vs-csk-67th-match-indian-premier-league-2023'),\n",
       " ('66484', 'rcb-vs-kkr-36th-match-indian-premier-league-2023'),\n",
       " ('66488', 'kkr-vs-lsg-68th-match-indian-premier-league-2023'),\n",
       " ('66495', 'mi-vs-srh-69th-match-indian-premier-league-2023'),\n",
       " ('66502', 'rr-vs-csk-37th-match-indian-premier-league-2023'),\n",
       " ('66505', 'rcb-vs-gt-70th-match-indian-premier-league-2023'),\n",
       " ('66512', 'pbks-vs-lsg-38th-match-indian-premier-league-2023'),\n",
       " ('66519', 'kkr-vs-gt-39th-match-indian-premier-league-2023'),\n",
       " ('66526', 'dc-vs-srh-40th-match-indian-premier-league-2023'),\n",
       " ('69557', 'gt-vs-csk-qualifier-1-indian-premier-league-2023'),\n",
       " ('69561', 'lsg-vs-mi-eliminator-indian-premier-league-2023'),\n",
       " ('69568', 'gt-vs-mi-qualifier-2-indian-premier-league-2023'),\n",
       " ('69575', 'csk-vs-gt-final-indian-premier-league-2023'),\n",
       " ('72622', 'csk-vs-gt-final-reserve-day-indian-premier-league-2023')]"
      ]
     },
     "execution_count": 63,
     "metadata": {},
     "output_type": "execute_result"
    }
   ],
   "source": [
    "base_url = 'https://www.cricbuzz.com/cricket-series/'\n",
    "url = base_url + series_id + '/' + series + '/matches'\n",
    "\n",
    "page = requests.get(url)\n",
    "bs = BeautifulSoup(page.content, 'lxml')\n",
    "\n",
    "links = bs.select('div.page')[0].find_all('a', href=lambda href: href and (\n",
    "    '/cricket-scores/' in href or (series in href and '/live-cricket-scores/' in href)))\n",
    "\n",
    "matches = []\n",
    "for link in links:\n",
    "    href = link['href']\n",
    "    column = href.split('/')[2:4]\n",
    "    matches.append(column)\n",
    "    \n",
    "matches = list(set(map(tuple,matches)))\n",
    "matches.sort(key=lambda x: int(x[0]))\n",
    "\n",
    "# match_id = next((row[0] for row in matches if row[1] == match_wg.value), None)\n",
    "# match_id = MATCHID\n",
    "match = next((row[1] for row in matches if row[0] == matchid), None)\n",
    "\n",
    "print(str(len(matches)) + ' matches found in the series - ' + series.replace('-', ' ') + ' for the year ' + year)\n",
    "print('Current match selected is :- ' + match)\n",
    "print('Match ID : ' + matchid)\n",
    "\n",
    "matches"
   ]
  },
  {
   "cell_type": "markdown",
   "id": "22bfd67c",
   "metadata": {},
   "source": [
    "### Get full commentary using a dynamic scroll with a timer"
   ]
  },
  {
   "cell_type": "code",
   "execution_count": 64,
   "id": "767d9c16",
   "metadata": {
    "ExecuteTime": {
     "end_time": "2023-09-14T19:43:19.109276Z",
     "start_time": "2023-09-14T19:42:28.942588Z"
    }
   },
   "outputs": [
    {
     "name": "stdout",
     "output_type": "stream",
     "text": [
      "last_height - 4418\n",
      "new_height - 5490\n",
      "New content found. Resetting start_time...\n",
      "new_height - 5490\n",
      "new_height - 5490\n",
      "new_height - 5490\n",
      "new_height - 5474\n",
      "New content found. Resetting start_time...\n",
      "new_height - 5474\n",
      "new_height - 5474\n",
      "new_height - 6972\n",
      "New content found. Resetting start_time...\n",
      "new_height - 6972\n",
      "new_height - 6972\n",
      "new_height - 6972\n",
      "new_height - 6972\n",
      "new_height - 6972\n",
      "new_height - 8697\n",
      "New content found. Resetting start_time...\n",
      "new_height - 8689\n",
      "New content found. Resetting start_time...\n",
      "new_height - 8689\n",
      "new_height - 8689\n",
      "new_height - 8689\n",
      "new_height - 8689\n",
      "new_height - 10404\n",
      "New content found. Resetting start_time...\n",
      "new_height - 10404\n",
      "new_height - 10396\n",
      "New content found. Resetting start_time...\n",
      "new_height - 10396\n",
      "new_height - 10396\n",
      "new_height - 12433\n",
      "New content found. Resetting start_time...\n",
      "new_height - 12433\n",
      "new_height - 12425\n",
      "New content found. Resetting start_time...\n",
      "new_height - 12425\n",
      "new_height - 12425\n",
      "new_height - 12425\n",
      "new_height - 14040\n",
      "New content found. Resetting start_time...\n",
      "new_height - 14032\n",
      "New content found. Resetting start_time...\n",
      "new_height - 14024\n",
      "New content found. Resetting start_time...\n",
      "new_height - 14024\n",
      "new_height - 14024\n",
      "new_height - 15046\n",
      "New content found. Resetting start_time...\n",
      "new_height - 15077\n",
      "New content found. Resetting start_time...\n",
      "new_height - 15077\n",
      "new_height - 15077\n",
      "new_height - 15069\n",
      "New content found. Resetting start_time...\n",
      "new_height - 15069\n",
      "new_height - 17308\n",
      "New content found. Resetting start_time...\n",
      "new_height - 17308\n",
      "new_height - 17308\n",
      "new_height - 17308\n",
      "new_height - 17300\n",
      "New content found. Resetting start_time...\n",
      "new_height - 17300\n",
      "new_height - 18872\n",
      "New content found. Resetting start_time...\n",
      "new_height - 18864\n",
      "New content found. Resetting start_time...\n",
      "new_height - 18864\n",
      "new_height - 18864\n",
      "new_height - 18864\n",
      "new_height - 20844\n",
      "New content found. Resetting start_time...\n",
      "new_height - 20844\n",
      "new_height - 20844\n",
      "new_height - 20836\n",
      "New content found. Resetting start_time...\n",
      "new_height - 20836\n",
      "new_height - 22460\n",
      "New content found. Resetting start_time...\n",
      "new_height - 22460\n",
      "new_height - 22452\n",
      "New content found. Resetting start_time...\n",
      "new_height - 22452\n",
      "new_height - 22452\n",
      "new_height - 24519\n",
      "New content found. Resetting start_time...\n",
      "new_height - 24519\n",
      "new_height - 24519\n",
      "new_height - 24519\n",
      "new_height - 24519\n",
      "new_height - 24519\n",
      "new_height - 26089\n",
      "New content found. Resetting start_time...\n",
      "new_height - 26089\n",
      "new_height - 26081\n",
      "New content found. Resetting start_time...\n",
      "new_height - 26081\n",
      "new_height - 26081\n",
      "new_height - 28375\n",
      "New content found. Resetting start_time...\n",
      "new_height - 28375\n",
      "new_height - 28375\n",
      "new_height - 28375\n",
      "new_height - 28367\n",
      "New content found. Resetting start_time...\n",
      "new_height - 28367\n",
      "new_height - 30085\n",
      "New content found. Resetting start_time...\n",
      "new_height - 30085\n",
      "new_height - 30085\n",
      "new_height - 30077\n",
      "New content found. Resetting start_time...\n",
      "new_height - 30077\n",
      "new_height - 31597\n",
      "New content found. Resetting start_time...\n",
      "new_height - 31589\n",
      "New content found. Resetting start_time...\n",
      "new_height - 31589\n",
      "new_height - 31589\n",
      "new_height - 31589\n",
      "new_height - 34725\n",
      "New content found. Resetting start_time...\n",
      "new_height - 34725\n",
      "new_height - 34725\n",
      "new_height - 34725\n",
      "new_height - 34725\n",
      "new_height - 34666\n",
      "New content found. Resetting start_time...\n",
      "new_height - 34666\n",
      "new_height - 34666\n",
      "new_height - 34666\n",
      "new_height - 34666\n",
      "new_height - 34666\n",
      "new_height - 34666\n",
      "new_height - 34666\n",
      "new_height - 34666\n",
      "new_height - 34666\n",
      "new_height - 34666\n",
      "new_height - 34666\n",
      "new_height - 34666\n",
      "new_height - 34666\n",
      "new_height - 34666\n",
      "new_height - 34666\n",
      "new_height - 34666\n",
      "new_height - 34666\n",
      "new_height - 34666\n",
      "new_height - 34666\n",
      "new_height - 34666\n",
      "new_height - 34666\n",
      "No new content found. Breaking now...\n"
     ]
    }
   ],
   "source": [
    "base_url = 'https://www.cricbuzz.com/cricket-scores/'\n",
    "url = base_url + matchid + '/' + match\n",
    "\n",
    "chrome_options = webdriver.ChromeOptions()\n",
    "chrome_options.add_argument(\"--headless\")\n",
    "\n",
    "driver = webdriver.Chrome(options=chrome_options)   # Set up the driver\n",
    "driver.get(url)\n",
    "\n",
    "wait = WebDriverWait(driver, 10)   # Set a wait time for explicit waits\n",
    "\n",
    "# Find the element by text\n",
    "element_text = \"Load More Commentary\"\n",
    "element_xpath = f\"//*[contains(text(), '{element_text}')]\"\n",
    "element = wait.until(EC.visibility_of_element_located((By.XPATH, element_xpath)))\n",
    "\n",
    "driver.execute_script(\"arguments[0].scrollIntoView();\", element)   # Scroll to the element\n",
    "\n",
    "driver.execute_script(\"arguments[0].click();\", element)   # Perform JavaScript click\n",
    "\n",
    "# Get scroll height\n",
    "last_height = driver.execute_script(\"return document.body.scrollHeight\")\n",
    "print(\"last_height - \" + str(last_height))\n",
    "\n",
    "start_time = time.time()\n",
    "\n",
    "while True:\n",
    "    driver.execute_script(\"window.scrollTo(0, document.body.scrollHeight);\")   # Scroll down to bottom\n",
    "    time.sleep(0.3)   # Wait to load page\n",
    "    #driver.implicitly_wait(0.3)\n",
    "    #element = wait.until(EC.presence_of_element_located((By.XPATH, element_xpath)))\n",
    "\n",
    "\n",
    "    # Calculate new scroll height and compare with last scroll height\n",
    "    new_height = driver.execute_script(\"return document.body.scrollHeight\")\n",
    "    print(\"new_height - \" + str(new_height))\n",
    "    \n",
    "    if new_height != last_height:\n",
    "        start_time = time.time()\n",
    "        print(\"New content found. Resetting start_time...\")\n",
    "    \n",
    "    elapsed_time = time.time() - start_time\n",
    "    if elapsed_time > SCROLL_PAUSE_TIME:\n",
    "        print(\"No new content found. Breaking now...\")\n",
    "        break\n",
    "    \n",
    "    last_height = new_height\n",
    "\n",
    "# Get the updated page source\n",
    "updated_page_source = driver.page_source\n",
    "\n",
    "# Perform further actions on the updated page source if needed\n",
    "bs = BeautifulSoup(updated_page_source, 'lxml')\n",
    "#print(bs.body.prettify())\n",
    "\n",
    "driver.quit()   # Close the driver"
   ]
  },
  {
   "cell_type": "markdown",
   "id": "1213bf45",
   "metadata": {},
   "source": [
    "# All text extract - Type I"
   ]
  },
  {
   "cell_type": "code",
   "execution_count": 71,
   "id": "4e56e0c1",
   "metadata": {
    "ExecuteTime": {
     "end_time": "2023-09-14T19:48:25.594531Z",
     "start_time": "2023-09-14T19:48:25.527443Z"
    }
   },
   "outputs": [],
   "source": [
    "div_elements = bs.find_all('div', {'ng-include': \"'commentary'\"})\n",
    "\n",
    "text_parts = []\n",
    "for div in div_elements:\n",
    "    texts = div.find_all(text=True)\n",
    "    cleaned_texts = [text.strip() for text in texts if text.strip() and \n",
    "                     not text.strip().startswith('ngIf:') and \n",
    "                     not text.strip().startswith('end ngIf:') and \n",
    "                     not text.strip().startswith('ngRepeat:') and\n",
    "                     not text.strip().startswith('ngInclude:') and\n",
    "                     not text.strip().startswith('end ngRepeat')]\n",
    "    text_parts.extend(cleaned_texts)\n",
    "\n",
    "#print(text_parts)"
   ]
  },
  {
   "cell_type": "code",
   "execution_count": 72,
   "id": "fd160752",
   "metadata": {
    "ExecuteTime": {
     "end_time": "2023-09-14T19:48:26.119249Z",
     "start_time": "2023-09-14T19:48:26.105845Z"
    }
   },
   "outputs": [],
   "source": [
    "path = comm_filepath + '\\\\comm_' + matchid + '.txt'"
   ]
  },
  {
   "cell_type": "code",
   "execution_count": 73,
   "id": "0bf7d602",
   "metadata": {
    "ExecuteTime": {
     "end_time": "2023-09-14T19:48:36.659986Z",
     "start_time": "2023-09-14T19:48:36.636403Z"
    }
   },
   "outputs": [],
   "source": [
    "# Delete the file if exists\n",
    "os.remove(path) if os.path.exists(path) else None\n",
    "\n",
    "# Save the list to a text file\n",
    "with open(path, 'w') as f:\n",
    "    for item in text_parts:\n",
    "        f.write(f\"{item}\\n\")"
   ]
  }
 ],
 "metadata": {
  "kernelspec": {
   "display_name": "Python 3 (ipykernel)",
   "language": "python",
   "name": "python3"
  },
  "language_info": {
   "codemirror_mode": {
    "name": "ipython",
    "version": 3
   },
   "file_extension": ".py",
   "mimetype": "text/x-python",
   "name": "python",
   "nbconvert_exporter": "python",
   "pygments_lexer": "ipython3",
   "version": "3.9.13"
  }
 },
 "nbformat": 4,
 "nbformat_minor": 5
}
