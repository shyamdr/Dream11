{
 "cells": [
  {
   "cell_type": "code",
   "execution_count": 1,
   "id": "b0443170",
   "metadata": {
    "ExecuteTime": {
     "end_time": "2023-09-10T11:21:24.272460Z",
     "start_time": "2023-09-10T11:21:22.659092Z"
    }
   },
   "outputs": [],
   "source": [
    "import requests\n",
    "import time\n",
    "import re\n",
    "import numpy as np\n",
    "import pandas as pd\n",
    "import espncricinfo as ci\n",
    "import ipywidgets as widgets\n",
    "import os\n",
    "from bs4 import BeautifulSoup\n",
    "from espncricinfo.summary import Summary\n",
    "from espncricinfo.series import Series\n",
    "from espncricinfo.match import Match\n",
    "from espncricinfo.player import Player\n",
    "from selenium import webdriver\n",
    "from selenium.webdriver.common.by import By\n",
    "from selenium.webdriver.support.ui import WebDriverWait\n",
    "from selenium.webdriver.support import expected_conditions as EC\n",
    "from IPython.display import display, HTML"
   ]
  },
  {
   "cell_type": "code",
   "execution_count": 3,
   "id": "67e76edf",
   "metadata": {
    "ExecuteTime": {
     "end_time": "2023-09-10T11:22:02.442092Z",
     "start_time": "2023-09-10T11:22:02.421477Z"
    }
   },
   "outputs": [
    {
     "data": {
      "text/plain": [
       "'C:\\\\Users\\\\ShyamRangapure\\\\OneDrive - Metyis\\\\Documenten\\\\Side Projects\\\\Dream11\\\\src\\\\script\\\\dev'"
      ]
     },
     "execution_count": 3,
     "metadata": {},
     "output_type": "execute_result"
    }
   ],
   "source": [
    "os.getcwd()"
   ]
  },
  {
   "cell_type": "code",
   "execution_count": 147,
   "id": "cb6fe500",
   "metadata": {
    "ExecuteTime": {
     "end_time": "2023-09-10T10:03:21.663331Z",
     "start_time": "2023-09-10T10:03:21.659936Z"
    }
   },
   "outputs": [],
   "source": [
    "# Settings configurations\n",
    "\n",
    "pd.set_option('display.max_columns', None)\n",
    "pd.set_option('display.max_rows', None)"
   ]
  },
  {
   "cell_type": "code",
   "execution_count": 143,
   "id": "bf4e7f9a",
   "metadata": {
    "ExecuteTime": {
     "end_time": "2023-09-10T10:02:22.428400Z",
     "start_time": "2023-09-10T10:02:22.421466Z"
    }
   },
   "outputs": [],
   "source": [
    "# Initializing parameters\n",
    "\n",
    "YEAR = '2023'\n",
    "SERIES = 'indian-premier-league-2023'\n",
    "MATCH = 'lsg-vs-mi-eliminator-indian-premier-league-2023'\n",
    "MATCHID = '69561'\n",
    "\n",
    "SCROLL_PAUSE_TIME = 7"
   ]
  },
  {
   "cell_type": "code",
   "execution_count": 144,
   "id": "931bcc41",
   "metadata": {
    "ExecuteTime": {
     "end_time": "2023-09-10T10:02:23.531873Z",
     "start_time": "2023-09-10T10:02:23.496227Z"
    }
   },
   "outputs": [
    {
     "data": {
      "text/html": [
       "<span style=\"width: 500px; display: inline-block;\">Calendar Year:</span>"
      ],
      "text/plain": [
       "<IPython.core.display.HTML object>"
      ]
     },
     "metadata": {},
     "output_type": "display_data"
    },
    {
     "data": {
      "application/vnd.jupyter.widget-view+json": {
       "model_id": "f2d0a65811154da59e72cfc47a77b962",
       "version_major": 2,
       "version_minor": 0
      },
      "text/plain": [
       "Text(value='2023')"
      ]
     },
     "metadata": {},
     "output_type": "display_data"
    },
    {
     "data": {
      "text/html": [
       "<span style=\"width: 500px; display: inline-block;\">Series:</span>"
      ],
      "text/plain": [
       "<IPython.core.display.HTML object>"
      ]
     },
     "metadata": {},
     "output_type": "display_data"
    },
    {
     "data": {
      "application/vnd.jupyter.widget-view+json": {
       "model_id": "c44da23b8d4e48bf8201dbe531444965",
       "version_major": 2,
       "version_minor": 0
      },
      "text/plain": [
       "Text(value='indian-premier-league-2023')"
      ]
     },
     "metadata": {},
     "output_type": "display_data"
    },
    {
     "data": {
      "text/html": [
       "<span style=\"width: 500px; display: inline-block;\">Match:</span>"
      ],
      "text/plain": [
       "<IPython.core.display.HTML object>"
      ]
     },
     "metadata": {},
     "output_type": "display_data"
    },
    {
     "data": {
      "application/vnd.jupyter.widget-view+json": {
       "model_id": "ffea5600187942a485513a78355de512",
       "version_major": 2,
       "version_minor": 0
      },
      "text/plain": [
       "Text(value='lsg-vs-mi-eliminator-indian-premier-league-2023')"
      ]
     },
     "metadata": {},
     "output_type": "display_data"
    }
   ],
   "source": [
    "# Create a widget with custom styling\n",
    "\n",
    "description = HTML('<span style=\"width: 500px; display: inline-block;\">Calendar Year:</span>')\n",
    "year_wg = widgets.Text(value = YEAR)\n",
    "display(description, year_wg)\n",
    "\n",
    "description = HTML('<span style=\"width: 500px; display: inline-block;\">Series:</span>')\n",
    "series_wg = widgets.Text(value = SERIES)\n",
    "display(description, series_wg)\n",
    "\n",
    "description = HTML('<span style=\"width: 500px; display: inline-block;\">Match:</span>')\n",
    "match_wg = widgets.Text(value = MATCH)\n",
    "display(description, match_wg)"
   ]
  },
  {
   "cell_type": "markdown",
   "id": "eaa75d02",
   "metadata": {},
   "source": [
    "# Web Scrapping - Cricbuzz"
   ]
  },
  {
   "cell_type": "markdown",
   "id": "faf5bb96",
   "metadata": {},
   "source": [
    "### Finding all the series from the yearly calendar"
   ]
  },
  {
   "cell_type": "code",
   "execution_count": 145,
   "id": "2ee3000d",
   "metadata": {
    "ExecuteTime": {
     "end_time": "2023-09-10T10:02:27.029045Z",
     "start_time": "2023-09-10T10:02:26.421756Z"
    }
   },
   "outputs": [
    {
     "name": "stdout",
     "output_type": "stream",
     "text": [
      "143 series found in the year 2023\n",
      "Current series selected is :- indian-premier-league-2023\n",
      "Series ID : 5945\n"
     ]
    }
   ],
   "source": [
    "base_url = 'https://www.cricbuzz.com/cricket-scorecard-archives/'\n",
    "url = base_url + year_wg.value\n",
    "\n",
    "page = requests.get(url)\n",
    "bs = BeautifulSoup(page.content, 'lxml')\n",
    "\n",
    "links = bs.find_all('a', href=lambda href: href and 'matches' in href)\n",
    "\n",
    "series = []\n",
    "for link in links:\n",
    "    href = link['href']\n",
    "    columns = href.split('/')[2:4]\n",
    "    #columns[-1] = columns[-1].replace('-', ' ') ---> for better readability convert code to proper text\n",
    "    series.append(columns)\n",
    "\n",
    "series_id = next((row[0] for row in series if row[1] == series_wg.value), None)\n",
    "\n",
    "print(str(len(series)) + ' series found in the year ' + year_wg.value)\n",
    "print('Current series selected is :- ' + series_wg.value)\n",
    "print('Series ID : ' + series_id)\n",
    "#series"
   ]
  },
  {
   "cell_type": "markdown",
   "id": "433d3a0d",
   "metadata": {},
   "source": [
    "### Finding all the matches from the given series"
   ]
  },
  {
   "cell_type": "code",
   "execution_count": 146,
   "id": "ec81d51d",
   "metadata": {
    "ExecuteTime": {
     "end_time": "2023-09-10T10:02:33.215747Z",
     "start_time": "2023-09-10T10:02:32.918491Z"
    }
   },
   "outputs": [
    {
     "name": "stdout",
     "output_type": "stream",
     "text": [
      "75 matches found in the series - indian premier league 2023 for the year 2023\n",
      "Current match selected is :- lsg-vs-mi-eliminator-indian-premier-league-2023\n",
      "Match ID : 69561\n"
     ]
    },
    {
     "data": {
      "text/plain": [
       "[('66169', 'gt-vs-csk-1st-match-indian-premier-league-2023'),\n",
       " ('66173', 'pbks-vs-kkr-2nd-match-indian-premier-league-2023'),\n",
       " ('66176', 'lsg-vs-dc-3rd-match-indian-premier-league-2023'),\n",
       " ('66183', 'srh-vs-rr-4th-match-indian-premier-league-2023'),\n",
       " ('66190', 'rcb-vs-mi-5th-match-indian-premier-league-2023'),\n",
       " ('66197', 'csk-vs-lsg-6th-match-indian-premier-league-2023'),\n",
       " ('66204', 'dc-vs-gt-7th-match-indian-premier-league-2023'),\n",
       " ('66208', 'rr-vs-pbks-8th-match-indian-premier-league-2023'),\n",
       " ('66211', 'kkr-vs-rcb-9th-match-indian-premier-league-2023'),\n",
       " ('66215', 'lsg-vs-srh-10th-match-indian-premier-league-2023'),\n",
       " ('66218', 'rr-vs-dc-11th-match-indian-premier-league-2023'),\n",
       " ('66225', 'mi-vs-csk-12th-match-indian-premier-league-2023'),\n",
       " ('66232', 'gt-vs-kkr-13th-match-indian-premier-league-2023'),\n",
       " ('66236', 'srh-vs-pbks-14th-match-indian-premier-league-2023'),\n",
       " ('66239', 'rcb-vs-lsg-15th-match-indian-premier-league-2023'),\n",
       " ('66243', 'dc-vs-mi-16th-match-indian-premier-league-2023'),\n",
       " ('66250', 'csk-vs-rr-17th-match-indian-premier-league-2023'),\n",
       " ('66253', 'pbks-vs-gt-18th-match-indian-premier-league-2023'),\n",
       " ('66257', 'kkr-vs-srh-19th-match-indian-premier-league-2023'),\n",
       " ('66260', 'rcb-vs-dc-20th-match-indian-premier-league-2023'),\n",
       " ('66264', 'lsg-vs-pbks-21st-match-indian-premier-league-2023'),\n",
       " ('66271', 'mi-vs-kkr-22nd-match-indian-premier-league-2023'),\n",
       " ('66274', 'gt-vs-rr-23rd-match-indian-premier-league-2023'),\n",
       " ('66278', 'rcb-vs-csk-24th-match-indian-premier-league-2023'),\n",
       " ('66285', 'srh-vs-mi-25th-match-indian-premier-league-2023'),\n",
       " ('66288', 'csk-vs-pbks-41st-match-indian-premier-league-2023'),\n",
       " ('66292', 'rr-vs-lsg-26th-match-indian-premier-league-2023'),\n",
       " ('66299', 'mi-vs-rr-42nd-match-indian-premier-league-2023'),\n",
       " ('66306', 'lsg-vs-rcb-43rd-match-indian-premier-league-2023'),\n",
       " ('66313', 'pbks-vs-rcb-27th-match-indian-premier-league-2023'),\n",
       " ('66320', 'gt-vs-dc-44th-match-indian-premier-league-2023'),\n",
       " ('66327', 'pbks-vs-mi-46th-match-indian-premier-league-2023'),\n",
       " ('66330', 'dc-vs-kkr-28th-match-indian-premier-league-2023'),\n",
       " ('66337', 'lsg-vs-csk-45th-match-indian-premier-league-2023'),\n",
       " ('66344', 'srh-vs-kkr-47th-match-indian-premier-league-2023'),\n",
       " ('66348', 'rr-vs-gt-48th-match-indian-premier-league-2023'),\n",
       " ('66351', 'csk-vs-srh-29th-match-indian-premier-league-2023'),\n",
       " ('66355', 'csk-vs-mi-49th-match-indian-premier-league-2023'),\n",
       " ('66358', 'dc-vs-rcb-50th-match-indian-premier-league-2023'),\n",
       " ('66365', 'gt-vs-lsg-51st-match-indian-premier-league-2023'),\n",
       " ('66369', 'lsg-vs-gt-30th-match-indian-premier-league-2023'),\n",
       " ('66376', 'rr-vs-srh-52nd-match-indian-premier-league-2023'),\n",
       " ('66379', 'kkr-vs-pbks-53rd-match-indian-premier-league-2023'),\n",
       " ('66386', 'mi-vs-rcb-54th-match-indian-premier-league-2023'),\n",
       " ('66393', 'csk-vs-dc-55th-match-indian-premier-league-2023'),\n",
       " ('66397', 'kkr-vs-rr-56th-match-indian-premier-league-2023'),\n",
       " ('66404', 'mi-vs-pbks-31st-match-indian-premier-league-2023'),\n",
       " ('66411', 'mi-vs-gt-57th-match-indian-premier-league-2023'),\n",
       " ('66414', 'srh-vs-lsg-58th-match-indian-premier-league-2023'),\n",
       " ('66421', 'rcb-vs-rr-32nd-match-indian-premier-league-2023'),\n",
       " ('66428', 'dc-vs-pbks-59th-match-indian-premier-league-2023'),\n",
       " ('66432', 'rr-vs-rcb-60th-match-indian-premier-league-2023'),\n",
       " ('66435', 'kkr-vs-csk-33rd-match-indian-premier-league-2023'),\n",
       " ('66442', 'csk-vs-kkr-61st-match-indian-premier-league-2023'),\n",
       " ('66446', 'gt-vs-srh-62nd-match-indian-premier-league-2023'),\n",
       " ('66449', 'srh-vs-dc-34th-match-indian-premier-league-2023'),\n",
       " ('66453', 'lsg-vs-mi-63rd-match-indian-premier-league-2023'),\n",
       " ('66460', 'pbks-vs-dc-64th-match-indian-premier-league-2023'),\n",
       " ('66467', 'srh-vs-rcb-65th-match-indian-premier-league-2023'),\n",
       " ('66470', 'gt-vs-mi-35th-match-indian-premier-league-2023'),\n",
       " ('66477', 'pbks-vs-rr-66th-match-indian-premier-league-2023'),\n",
       " ('66481', 'dc-vs-csk-67th-match-indian-premier-league-2023'),\n",
       " ('66484', 'rcb-vs-kkr-36th-match-indian-premier-league-2023'),\n",
       " ('66488', 'kkr-vs-lsg-68th-match-indian-premier-league-2023'),\n",
       " ('66495', 'mi-vs-srh-69th-match-indian-premier-league-2023'),\n",
       " ('66502', 'rr-vs-csk-37th-match-indian-premier-league-2023'),\n",
       " ('66505', 'rcb-vs-gt-70th-match-indian-premier-league-2023'),\n",
       " ('66512', 'pbks-vs-lsg-38th-match-indian-premier-league-2023'),\n",
       " ('66519', 'kkr-vs-gt-39th-match-indian-premier-league-2023'),\n",
       " ('66526', 'dc-vs-srh-40th-match-indian-premier-league-2023'),\n",
       " ('69557', 'gt-vs-csk-qualifier-1-indian-premier-league-2023'),\n",
       " ('69561', 'lsg-vs-mi-eliminator-indian-premier-league-2023'),\n",
       " ('69568', 'gt-vs-mi-qualifier-2-indian-premier-league-2023'),\n",
       " ('69575', 'csk-vs-gt-final-indian-premier-league-2023'),\n",
       " ('72622', 'csk-vs-gt-final-reserve-day-indian-premier-league-2023')]"
      ]
     },
     "execution_count": 146,
     "metadata": {},
     "output_type": "execute_result"
    }
   ],
   "source": [
    "base_url = 'https://www.cricbuzz.com/cricket-series/'\n",
    "url = base_url + series_id + '/' + series_wg.value + '/matches'\n",
    "\n",
    "page = requests.get(url)\n",
    "bs = BeautifulSoup(page.content, 'lxml')\n",
    "\n",
    "links = bs.select('div.page')[0].find_all('a', href=lambda href: href and (\n",
    "    '/cricket-scores/' in href or (series_wg.value in href and '/live-cricket-scores/' in href)))\n",
    "\n",
    "matches = []\n",
    "for link in links:\n",
    "    href = link['href']\n",
    "    column = href.split('/')[2:4]\n",
    "    matches.append(column)\n",
    "    \n",
    "matches = list(set(map(tuple,matches)))\n",
    "matches.sort(key=lambda x: int(x[0]))\n",
    "\n",
    "match_id = next((row[0] for row in matches if row[1] == match_wg.value), None)\n",
    "# match_id = match_id_wg.value\n",
    "\n",
    "print(str(len(matches)) + ' matches found in the series - ' + series_wg.value.replace('-', ' ') + ' for the year ' + year_wg.value)\n",
    "print('Current match selected is :- ' + match_wg.value)\n",
    "print('Match ID : ' + match_id)\n",
    "\n",
    "matches"
   ]
  },
  {
   "cell_type": "markdown",
   "id": "22bfd67c",
   "metadata": {},
   "source": [
    "### Get full commentary using a dynamic scroll with a timer"
   ]
  },
  {
   "cell_type": "code",
   "execution_count": 134,
   "id": "767d9c16",
   "metadata": {
    "ExecuteTime": {
     "end_time": "2023-09-10T08:11:15.526587Z",
     "start_time": "2023-09-10T08:10:11.573723Z"
    }
   },
   "outputs": [
    {
     "name": "stdout",
     "output_type": "stream",
     "text": [
      "last_height - 5500\n",
      "new_height - 5500\n",
      "new_height - 5500\n",
      "new_height - 5500\n",
      "new_height - 5500\n",
      "new_height - 5500\n",
      "new_height - 5492\n",
      "New content found. Resetting start_time...\n",
      "new_height - 6938\n",
      "New content found. Resetting start_time...\n",
      "new_height - 6938\n",
      "new_height - 8881\n",
      "New content found. Resetting start_time...\n",
      "new_height - 8881\n",
      "new_height - 8881\n",
      "new_height - 8865\n",
      "New content found. Resetting start_time...\n",
      "new_height - 8865\n",
      "new_height - 8865\n",
      "new_height - 10309\n",
      "New content found. Resetting start_time...\n",
      "new_height - 10301\n",
      "New content found. Resetting start_time...\n",
      "new_height - 10293\n",
      "New content found. Resetting start_time...\n",
      "new_height - 10293\n",
      "new_height - 10293\n",
      "new_height - 12098\n",
      "New content found. Resetting start_time...\n",
      "new_height - 12098\n",
      "new_height - 12090\n",
      "New content found. Resetting start_time...\n",
      "new_height - 12090\n",
      "new_height - 12090\n",
      "new_height - 12090\n",
      "new_height - 13745\n",
      "New content found. Resetting start_time...\n",
      "new_height - 13737\n",
      "New content found. Resetting start_time...\n",
      "new_height - 13737\n",
      "new_height - 13737\n",
      "new_height - 13737\n",
      "new_height - 15710\n",
      "New content found. Resetting start_time...\n",
      "new_height - 15710\n",
      "new_height - 15702\n",
      "New content found. Resetting start_time...\n",
      "new_height - 15694\n",
      "New content found. Resetting start_time...\n",
      "new_height - 15694\n",
      "new_height - 17263\n",
      "New content found. Resetting start_time...\n",
      "new_height - 17263\n",
      "new_height - 17255\n",
      "New content found. Resetting start_time...\n",
      "new_height - 17255\n",
      "new_height - 17255\n",
      "new_height - 18290\n",
      "New content found. Resetting start_time...\n",
      "new_height - 18282\n",
      "New content found. Resetting start_time...\n",
      "new_height - 18282\n",
      "new_height - 18282\n",
      "new_height - 18282\n",
      "new_height - 20402\n",
      "New content found. Resetting start_time...\n",
      "new_height - 20402\n",
      "new_height - 20394\n",
      "New content found. Resetting start_time...\n",
      "new_height - 20394\n",
      "new_height - 20394\n",
      "new_height - 21816\n",
      "New content found. Resetting start_time...\n",
      "new_height - 21808\n",
      "New content found. Resetting start_time...\n",
      "new_height - 21808\n",
      "new_height - 21808\n",
      "new_height - 21808\n",
      "new_height - 23208\n",
      "New content found. Resetting start_time...\n",
      "new_height - 23200\n",
      "New content found. Resetting start_time...\n",
      "new_height - 23200\n",
      "new_height - 23200\n",
      "new_height - 25053\n",
      "New content found. Resetting start_time...\n",
      "new_height - 25053\n",
      "new_height - 25045\n",
      "New content found. Resetting start_time...\n",
      "new_height - 25045\n",
      "new_height - 25045\n",
      "new_height - 26608\n",
      "New content found. Resetting start_time...\n",
      "new_height - 26600\n",
      "New content found. Resetting start_time...\n",
      "new_height - 26600\n",
      "new_height - 26600\n",
      "new_height - 26600\n",
      "new_height - 28381\n",
      "New content found. Resetting start_time...\n",
      "new_height - 28373\n",
      "New content found. Resetting start_time...\n",
      "new_height - 28373\n",
      "new_height - 28373\n",
      "new_height - 28373\n",
      "new_height - 30305\n",
      "New content found. Resetting start_time...\n",
      "new_height - 30297\n",
      "New content found. Resetting start_time...\n",
      "new_height - 30289\n",
      "New content found. Resetting start_time...\n",
      "new_height - 30289\n",
      "new_height - 31936\n",
      "New content found. Resetting start_time...\n",
      "new_height - 31936\n",
      "new_height - 31936\n",
      "new_height - 31936\n",
      "new_height - 33286\n",
      "New content found. Resetting start_time...\n",
      "new_height - 33278\n",
      "New content found. Resetting start_time...\n",
      "new_height - 33270\n",
      "New content found. Resetting start_time...\n",
      "new_height - 33270\n",
      "new_height - 33304\n",
      "New content found. Resetting start_time...\n",
      "new_height - 33304\n",
      "new_height - 33304\n",
      "new_height - 38812\n",
      "New content found. Resetting start_time...\n",
      "new_height - 38812\n",
      "new_height - 38812\n",
      "new_height - 38812\n",
      "new_height - 38812\n",
      "new_height - 39013\n",
      "New content found. Resetting start_time...\n",
      "new_height - 39013\n",
      "new_height - 39013\n",
      "new_height - 39013\n",
      "new_height - 39013\n",
      "new_height - 39013\n",
      "new_height - 39013\n",
      "new_height - 39013\n",
      "new_height - 39013\n",
      "new_height - 39013\n",
      "new_height - 39013\n",
      "new_height - 39013\n",
      "new_height - 39013\n",
      "new_height - 39013\n",
      "new_height - 39013\n",
      "new_height - 39013\n",
      "new_height - 39013\n",
      "new_height - 39013\n",
      "new_height - 39013\n",
      "new_height - 39013\n",
      "new_height - 39013\n",
      "new_height - 39013\n",
      "new_height - 39013\n",
      "new_height - 39013\n",
      "new_height - 39013\n",
      "new_height - 39013\n",
      "new_height - 39013\n",
      "new_height - 39013\n",
      "new_height - 39013\n",
      "No new content found. Breaking now...\n"
     ]
    }
   ],
   "source": [
    "base_url = 'https://www.cricbuzz.com/cricket-scores/'\n",
    "url = base_url + match_id + '/' + match_wg.value\n",
    "\n",
    "chrome_options = webdriver.ChromeOptions()\n",
    "chrome_options.add_argument(\"--headless\")\n",
    "\n",
    "driver = webdriver.Chrome(options=chrome_options)   # Set up the driver\n",
    "driver.get(url)\n",
    "\n",
    "wait = WebDriverWait(driver, 10)   # Set a wait time for explicit waits\n",
    "\n",
    "# Find the element by text\n",
    "element_text = \"Load More Commentary\"\n",
    "element_xpath = f\"//*[contains(text(), '{element_text}')]\"\n",
    "element = wait.until(EC.visibility_of_element_located((By.XPATH, element_xpath)))\n",
    "\n",
    "driver.execute_script(\"arguments[0].scrollIntoView();\", element)   # Scroll to the element\n",
    "\n",
    "driver.execute_script(\"arguments[0].click();\", element)   # Perform JavaScript click\n",
    "\n",
    "# Get scroll height\n",
    "last_height = driver.execute_script(\"return document.body.scrollHeight\")\n",
    "print(\"last_height - \" + str(last_height))\n",
    "\n",
    "start_time = time.time()\n",
    "\n",
    "while True:\n",
    "    driver.execute_script(\"window.scrollTo(0, document.body.scrollHeight);\")   # Scroll down to bottom\n",
    "    time.sleep(0.3)   # Wait to load page\n",
    "    #driver.implicitly_wait(0.3)\n",
    "    #element = wait.until(EC.presence_of_element_located((By.XPATH, element_xpath)))\n",
    "\n",
    "\n",
    "    # Calculate new scroll height and compare with last scroll height\n",
    "    new_height = driver.execute_script(\"return document.body.scrollHeight\")\n",
    "    print(\"new_height - \" + str(new_height))\n",
    "    \n",
    "    if new_height != last_height:\n",
    "        start_time = time.time()\n",
    "        print(\"New content found. Resetting start_time...\")\n",
    "    \n",
    "    elapsed_time = time.time() - start_time\n",
    "    if elapsed_time > SCROLL_PAUSE_TIME:\n",
    "        print(\"No new content found. Breaking now...\")\n",
    "        break\n",
    "    \n",
    "    last_height = new_height\n",
    "\n",
    "# Get the updated page source\n",
    "updated_page_source = driver.page_source\n",
    "\n",
    "# Perform further actions on the updated page source if needed\n",
    "bs = BeautifulSoup(updated_page_source, 'lxml')\n",
    "#print(bs.body.prettify())\n",
    "\n",
    "driver.quit()   # Close the driver"
   ]
  },
  {
   "cell_type": "markdown",
   "id": "1213bf45",
   "metadata": {},
   "source": [
    "# All text extract - Type I"
   ]
  },
  {
   "cell_type": "code",
   "execution_count": 117,
   "id": "4e56e0c1",
   "metadata": {
    "ExecuteTime": {
     "end_time": "2023-09-10T07:58:48.244513Z",
     "start_time": "2023-09-10T07:58:48.204942Z"
    }
   },
   "outputs": [],
   "source": [
    "div_elements = bs.find_all('div', {'ng-include': \"'commentary'\"})\n",
    "\n",
    "text_parts = []\n",
    "for div in div_elements:\n",
    "    texts = div.find_all(text=True)\n",
    "    cleaned_texts = [text.strip() for text in texts if text.strip() and \n",
    "                     not text.strip().startswith('ngIf:') and \n",
    "                     not text.strip().startswith('end ngIf:') and \n",
    "                     not text.strip().startswith('ngRepeat:') and\n",
    "                     not text.strip().startswith('ngInclude:') and\n",
    "                     not text.strip().startswith('end ngRepeat')]\n",
    "    text_parts.extend(cleaned_texts)\n",
    "\n",
    "#print(text_parts)"
   ]
  },
  {
   "cell_type": "code",
   "execution_count": 118,
   "id": "fd160752",
   "metadata": {
    "ExecuteTime": {
     "end_time": "2023-09-10T07:59:20.736983Z",
     "start_time": "2023-09-10T07:59:20.714638Z"
    }
   },
   "outputs": [
    {
     "data": {
      "text/plain": [
       "'commentary_files/comm_69561_headless.txt'"
      ]
     },
     "execution_count": 118,
     "metadata": {},
     "output_type": "execute_result"
    }
   ],
   "source": [
    "filename = 'CommExtract/comm_'+ match_id +'.txt'\n",
    "filename"
   ]
  },
  {
   "cell_type": "code",
   "execution_count": 119,
   "id": "0bf7d602",
   "metadata": {
    "ExecuteTime": {
     "end_time": "2023-09-10T07:59:23.816584Z",
     "start_time": "2023-09-10T07:59:23.787958Z"
    }
   },
   "outputs": [],
   "source": [
    "# Delete the file if exists\n",
    "os.remove(filename) if os.path.exists(filename) else None\n",
    "\n",
    "# Save the list to a text file\n",
    "with open(filename, 'w') as f:\n",
    "    for item in text_parts:\n",
    "        f.write(f\"{item}\\n\")"
   ]
  }
 ],
 "metadata": {
  "kernelspec": {
   "display_name": "Python 3 (ipykernel)",
   "language": "python",
   "name": "python3"
  },
  "language_info": {
   "codemirror_mode": {
    "name": "ipython",
    "version": 3
   },
   "file_extension": ".py",
   "mimetype": "text/x-python",
   "name": "python",
   "nbconvert_exporter": "python",
   "pygments_lexer": "ipython3",
   "version": "3.9.13"
  }
 },
 "nbformat": 4,
 "nbformat_minor": 5
}
