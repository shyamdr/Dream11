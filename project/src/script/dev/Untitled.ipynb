{
 "cells": [
  {
   "cell_type": "code",
   "execution_count": 1,
   "id": "55d43787",
   "metadata": {
    "ExecuteTime": {
     "end_time": "2024-01-12T14:59:40.813531Z",
     "start_time": "2024-01-12T14:59:38.663401Z"
    }
   },
   "outputs": [],
   "source": [
    "import modules.hawkeye as hwk"
   ]
  },
  {
   "cell_type": "code",
   "execution_count": 2,
   "id": "55a162e5",
   "metadata": {
    "ExecuteTime": {
     "end_time": "2024-01-12T15:01:09.297153Z",
     "start_time": "2024-01-12T15:01:00.109294Z"
    }
   },
   "outputs": [
    {
     "name": "stdout",
     "output_type": "stream",
     "text": [
      "url is empty, no data available\n",
      "Tried all URLs in vain\n"
     ]
    }
   ],
   "source": [
    "match_id_list = hwk.get_available_match_id_list()"
   ]
  },
  {
   "cell_type": "code",
   "execution_count": 1,
   "id": "e90bff01",
   "metadata": {
    "ExecuteTime": {
     "end_time": "2024-01-13T15:34:35.584087Z",
     "start_time": "2024-01-13T15:34:35.188966Z"
    }
   },
   "outputs": [],
   "source": [
    "import numpy as np"
   ]
  },
  {
   "cell_type": "code",
   "execution_count": 5,
   "id": "dbdadc19",
   "metadata": {
    "ExecuteTime": {
     "end_time": "2024-01-13T15:35:17.722690Z",
     "start_time": "2024-01-13T15:35:17.695591Z"
    }
   },
   "outputs": [
    {
     "data": {
      "text/plain": [
       "array([[ 0.23764624,  0.14770145, -0.65043109],\n",
       "       [-0.42112462,  0.83517203,  0.73801193],\n",
       "       [-0.52467532, -1.21170334, -0.68220779],\n",
       "       [-0.82707377,  0.67255679,  0.28665729]])"
      ]
     },
     "execution_count": 5,
     "metadata": {},
     "output_type": "execute_result"
    }
   ],
   "source": [
    "A = np.random.randn(4,3)\n",
    "A"
   ]
  },
  {
   "cell_type": "code",
   "execution_count": 6,
   "id": "726b86b8",
   "metadata": {
    "ExecuteTime": {
     "end_time": "2024-01-13T15:35:42.694020Z",
     "start_time": "2024-01-13T15:35:42.670632Z"
    }
   },
   "outputs": [
    {
     "data": {
      "text/plain": [
       "array([[-0.2650834 ],\n",
       "       [ 1.15205934],\n",
       "       [-2.41858645],\n",
       "       [ 0.13214031]])"
      ]
     },
     "execution_count": 6,
     "metadata": {},
     "output_type": "execute_result"
    }
   ],
   "source": [
    "B = np.sum(A, axis = 1, keepdims = True)\n",
    "B"
   ]
  },
  {
   "cell_type": "code",
   "execution_count": 8,
   "id": "ecebd6a6",
   "metadata": {
    "ExecuteTime": {
     "end_time": "2024-01-13T15:35:58.815935Z",
     "start_time": "2024-01-13T15:35:58.799768Z"
    }
   },
   "outputs": [
    {
     "data": {
      "text/plain": [
       "(4, 1)"
      ]
     },
     "execution_count": 8,
     "metadata": {},
     "output_type": "execute_result"
    }
   ],
   "source": [
    "B.shape"
   ]
  },
  {
   "cell_type": "code",
   "execution_count": null,
   "id": "64bbf34d",
   "metadata": {},
   "outputs": [],
   "source": []
  }
 ],
 "metadata": {
  "kernelspec": {
   "display_name": "Python 3 (ipykernel)",
   "language": "python",
   "name": "python3"
  },
  "language_info": {
   "codemirror_mode": {
    "name": "ipython",
    "version": 3
   },
   "file_extension": ".py",
   "mimetype": "text/x-python",
   "name": "python",
   "nbconvert_exporter": "python",
   "pygments_lexer": "ipython3",
   "version": "3.9.13"
  }
 },
 "nbformat": 4,
 "nbformat_minor": 5
}
