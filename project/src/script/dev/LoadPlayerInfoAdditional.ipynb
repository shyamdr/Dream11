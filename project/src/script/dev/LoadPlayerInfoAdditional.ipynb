{
 "cells": [
  {
   "cell_type": "markdown",
   "id": "097c715c-60d2-4c71-8863-4d6e6b841ca6",
   "metadata": {},
   "source": [
    "## Importing Libraries"
   ]
  },
  {
   "cell_type": "code",
   "execution_count": 105,
   "id": "504faa4d-a5b0-47a5-b072-b3c0403d1221",
   "metadata": {
    "execution": {
     "iopub.execute_input": "2024-03-23T10:10:07.204039Z",
     "iopub.status.busy": "2024-03-23T10:10:07.204039Z",
     "iopub.status.idle": "2024-03-23T10:10:07.215437Z",
     "shell.execute_reply": "2024-03-23T10:10:07.215437Z",
     "shell.execute_reply.started": "2024-03-23T10:10:07.204039Z"
    }
   },
   "outputs": [],
   "source": [
    "import numpy as np\n",
    "import pandas as pd\n",
    "import requests\n",
    "from bs4 import BeautifulSoup\n",
    "import concurrent.futures\n",
    "import pathlib\n",
    "import textwrap\n",
    "import google.generativeai as genai\n",
    "from IPython.display import display\n",
    "from IPython.display import Markdown\n",
    "import time"
   ]
  },
  {
   "cell_type": "markdown",
   "id": "b9096c9b-89d1-46a7-8424-0c338a216242",
   "metadata": {},
   "source": [
    "## Postgres Configuration"
   ]
  },
  {
   "cell_type": "code",
   "execution_count": 106,
   "id": "04d30ee3-0e6e-45c9-8717-b971f8e6162d",
   "metadata": {
    "execution": {
     "iopub.execute_input": "2024-03-23T10:10:07.501380Z",
     "iopub.status.busy": "2024-03-23T10:10:07.501380Z",
     "iopub.status.idle": "2024-03-23T10:10:07.718748Z",
     "shell.execute_reply": "2024-03-23T10:10:07.718748Z",
     "shell.execute_reply.started": "2024-03-23T10:10:07.501380Z"
    }
   },
   "outputs": [],
   "source": [
    "%run config_psql.ipynb"
   ]
  },
  {
   "cell_type": "markdown",
   "id": "17fe7317-e895-4fc6-b947-63776e379ddd",
   "metadata": {},
   "source": [
    "## Settings Configuration"
   ]
  },
  {
   "cell_type": "code",
   "execution_count": 107,
   "id": "9a852f46-4063-4f82-8e5b-6bc4cdd846c8",
   "metadata": {
    "execution": {
     "iopub.execute_input": "2024-03-23T10:10:07.798411Z",
     "iopub.status.busy": "2024-03-23T10:10:07.798411Z",
     "iopub.status.idle": "2024-03-23T10:10:07.816815Z",
     "shell.execute_reply": "2024-03-23T10:10:07.816815Z",
     "shell.execute_reply.started": "2024-03-23T10:10:07.798411Z"
    }
   },
   "outputs": [],
   "source": [
    "pd.set_option('display.max_columns', None)\n",
    "pd.set_option('display.max_rows', None)"
   ]
  },
  {
   "cell_type": "markdown",
   "id": "bcd5322f-9e2e-4c17-bfcd-9cb3ee1f9570",
   "metadata": {},
   "source": [
    "## Getting missing data from database"
   ]
  },
  {
   "cell_type": "code",
   "execution_count": 108,
   "id": "2c43bd3b-e327-46e6-a921-44f455d58c7c",
   "metadata": {
    "execution": {
     "iopub.execute_input": "2024-03-23T10:10:08.204792Z",
     "iopub.status.busy": "2024-03-23T10:10:08.204792Z",
     "iopub.status.idle": "2024-03-23T10:10:08.212112Z",
     "shell.execute_reply": "2024-03-23T10:10:08.212112Z",
     "shell.execute_reply.started": "2024-03-23T10:10:08.204792Z"
    }
   },
   "outputs": [],
   "source": [
    "query = \"\"\"SELECT id, name, full_name FROM dwh.player_info WHERE bowling_hand IS NULL LIMIT 7000\"\"\""
   ]
  },
  {
   "cell_type": "code",
   "execution_count": 109,
   "id": "ba16667b-36b9-42a4-893b-91d54b03b66a",
   "metadata": {
    "execution": {
     "iopub.execute_input": "2024-03-23T10:10:08.845892Z",
     "iopub.status.busy": "2024-03-23T10:10:08.845892Z",
     "iopub.status.idle": "2024-03-23T10:10:09.740006Z",
     "shell.execute_reply": "2024-03-23T10:10:09.740006Z",
     "shell.execute_reply.started": "2024-03-23T10:10:08.845892Z"
    }
   },
   "outputs": [
    {
     "data": {
      "text/plain": [
       "119"
      ]
     },
     "execution_count": 109,
     "metadata": {},
     "output_type": "execute_result"
    }
   ],
   "source": [
    "with engine.connect() as conn:\n",
    "    df = pd.read_sql_query(query, con = engine)\n",
    "len(df)"
   ]
  },
  {
   "cell_type": "code",
   "execution_count": 99,
   "id": "af6a60b5-0a7a-4ec3-9d14-bf8bc0b7c262",
   "metadata": {
    "execution": {
     "iopub.execute_input": "2024-03-23T10:08:26.585408Z",
     "iopub.status.busy": "2024-03-23T10:08:26.585408Z",
     "iopub.status.idle": "2024-03-23T10:08:26.596580Z",
     "shell.execute_reply": "2024-03-23T10:08:26.596580Z",
     "shell.execute_reply.started": "2024-03-23T10:08:26.585408Z"
    }
   },
   "outputs": [],
   "source": [
    "pw_file_path = os.path.abspath(os.path.join(os.getcwd(), \"../../../config/\"))\n",
    "pw = pd.read_json(pw_file_path + '\\\\PasswordManager.json', typ = 'series')\n",
    "GOOGLE_API_KEY = pw['google_api_key']"
   ]
  },
  {
   "cell_type": "code",
   "execution_count": 100,
   "id": "ed719ef4-1002-44e3-b05c-10a3931bac38",
   "metadata": {
    "execution": {
     "iopub.execute_input": "2024-03-23T10:08:26.835544Z",
     "iopub.status.busy": "2024-03-23T10:08:26.835544Z",
     "iopub.status.idle": "2024-03-23T10:08:26.854813Z",
     "shell.execute_reply": "2024-03-23T10:08:26.854813Z",
     "shell.execute_reply.started": "2024-03-23T10:08:26.835544Z"
    }
   },
   "outputs": [],
   "source": [
    "genai.configure(api_key=GOOGLE_API_KEY)\n",
    "model = genai.GenerativeModel('gemini-pro')"
   ]
  },
  {
   "cell_type": "code",
   "execution_count": 101,
   "id": "a9748281-9671-4b26-a141-2e0d91422d24",
   "metadata": {
    "execution": {
     "iopub.execute_input": "2024-03-23T10:08:27.054378Z",
     "iopub.status.busy": "2024-03-23T10:08:27.054378Z",
     "iopub.status.idle": "2024-03-23T10:08:27.063110Z",
     "shell.execute_reply": "2024-03-23T10:08:27.063110Z",
     "shell.execute_reply.started": "2024-03-23T10:08:27.054378Z"
    }
   },
   "outputs": [],
   "source": [
    "prompt_desc = f\"Given below are details of few cricket players. The task is to mention the bowling hand style of that particular cricket player.\\n\"\n",
    "prompt_desc += f\"The output for each player should be either of 2 results - 'Left' or 'Right'. In case of unknown, answer them as 'Unknown'.\\n\"\n",
    "prompt_desc += f\"The input format is as follows. A single string input will be given consisting of n players each seperated by a comma(,). To correctly identify and understand the particular cricketer each player input will consist of three elements seperated by '-'. the first element is a player id.  the second element is player name, the third element is an alternate full name of the same player. Input example for 3 players is shown below:\\n\\n\"\n",
    "prompt_desc += f\"123-Rohit Sharma-Rohit Gurunath Sharma,444-K Yadav-Kuldeep Yadav,619-DLPA-Dua Lipa\\n\\n\"\n",
    "prompt_desc += f\"Provide the output strictly in the following manner - 'player1_id-player1_bowling_hand,player2_id-player2_bowling_hand,....'\\n\"\n",
    "prompt_desc += f\"For the above example input the expected output should be as follows : \\n\\n\"\n",
    "prompt_desc += f\"123-Right,444-Left,619-Unknown\\n\\n\"\n",
    "prompt_desc += f\"The Input is provided below : \\n\\n\""
   ]
  },
  {
   "cell_type": "code",
   "execution_count": 102,
   "id": "03eac21d-4008-430f-8afb-1fb880e47247",
   "metadata": {
    "execution": {
     "iopub.execute_input": "2024-03-23T10:08:27.242180Z",
     "iopub.status.busy": "2024-03-23T10:08:27.242180Z",
     "iopub.status.idle": "2024-03-23T10:09:29.633962Z",
     "shell.execute_reply": "2024-03-23T10:09:29.633962Z",
     "shell.execute_reply.started": "2024-03-23T10:08:27.242180Z"
    }
   },
   "outputs": [
    {
     "name": "stdout",
     "output_type": "stream",
     "text": [
      "batch 1 response received. batch length - 30. Time taken (s) - 16.487510204315186\n",
      "storing entries now for batch 1\n",
      "\n",
      "batch 1 response received. batch length - 30. Time taken (s) - 15.267125129699707\n",
      "storing entries now for batch 1\n",
      "\n",
      "batch 1 response received. batch length - 30. Time taken (s) - 15.86735224723816\n",
      "storing entries now for batch 1\n",
      "\n",
      "batch 1 response received. batch length - 37. Time taken (s) - 14.738007307052612\n",
      "storing entries now for batch 1\n",
      "\n"
     ]
    }
   ],
   "source": [
    "out = {}\n",
    "batch_count = 1\n",
    "for i in range(0, len(df), 30):\n",
    "    tick = time.time()\n",
    "    if i + 30 > len(df):\n",
    "        batch = df.iloc[i:]\n",
    "    else:\n",
    "        batch = df.iloc[i:i+30]\n",
    "    prompt = prompt_desc + ','.join(df.apply(lambda row: '-'.join(map(str, row)), axis=1))\n",
    "    response = model.generate_content(prompt)\n",
    "    tock = time.time()\n",
    "\n",
    "    print(\"batch {} response received. batch length - {}. Time taken (s) - {}\".format(batch_count, len(batch), tock-tick))\n",
    "    print(\"storing entries now for batch {}\".format(batch_count), end = '\\n\\n')\n",
    "\n",
    "    for i in response.text.split(','):\n",
    "        if 'Unknown' not in i:\n",
    "            out[i.split(\"-\")[0].strip()] = i.split(\"-\")[-1].strip()\n",
    "        else:\n",
    "            out[i.split(\"-\")[0].strip()] = np.nan"
   ]
  },
  {
   "cell_type": "code",
   "execution_count": 104,
   "id": "572279a2-3ad6-4df6-a9fe-e61a1baae25c",
   "metadata": {
    "execution": {
     "iopub.execute_input": "2024-03-23T10:09:53.031820Z",
     "iopub.status.busy": "2024-03-23T10:09:53.031820Z",
     "iopub.status.idle": "2024-03-23T10:09:53.451307Z",
     "shell.execute_reply": "2024-03-23T10:09:53.451307Z",
     "shell.execute_reply.started": "2024-03-23T10:09:53.031820Z"
    }
   },
   "outputs": [
    {
     "name": "stdout",
     "output_type": "stream",
     "text": [
      "127\n"
     ]
    }
   ],
   "source": [
    "df_result = pd.DataFrame(list(out.items()), columns=['id', 'bowling_hand'])\n",
    "\n",
    "query = df_result.to_sql(\"temp_table\", con = engine, schema = \"stg\", method = \"multi\", if_exists=\"replace\", index=False)\n",
    "print(query)\n",
    "\n",
    "query = \"\"\"\n",
    "UPDATE dwh.player_info pi\n",
    "SET bowling_hand = tt.bowling_hand\n",
    "FROM stg.temp_table tt\n",
    "WHERE pi.id = tt.id::SMALLINT;\n",
    "\"\"\"\n",
    "with engine.connect() as conn:\n",
    "    conn.execute(\"DELETE FROM stg.temp_table WHERE bowling_hand NOT IN ('Right', 'Left')\")\n",
    "    conn.execute(query)\n",
    "    conn.execute(\"DROP TABLE IF EXISTS stg.temp_table\")"
   ]
  }
 ],
 "metadata": {
  "kernelspec": {
   "display_name": "Python 3 (ipykernel)",
   "language": "python",
   "name": "python3"
  },
  "language_info": {
   "codemirror_mode": {
    "name": "ipython",
    "version": 3
   },
   "file_extension": ".py",
   "mimetype": "text/x-python",
   "name": "python",
   "nbconvert_exporter": "python",
   "pygments_lexer": "ipython3",
   "version": "3.11.5"
  }
 },
 "nbformat": 4,
 "nbformat_minor": 5
}
