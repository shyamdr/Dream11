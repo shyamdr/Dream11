{
 "cells": [
  {
   "cell_type": "code",
   "execution_count": 54,
   "id": "f6379070-2761-4646-a938-97fa99130f97",
   "metadata": {
    "execution": {
     "iopub.execute_input": "2024-02-09T20:23:18.320468Z",
     "iopub.status.busy": "2024-02-09T20:23:18.320468Z",
     "iopub.status.idle": "2024-02-09T20:23:18.335372Z",
     "shell.execute_reply": "2024-02-09T20:23:18.333370Z",
     "shell.execute_reply.started": "2024-02-09T20:23:18.320468Z"
    }
   },
   "outputs": [],
   "source": [
    "import requests\n",
    "import re\n",
    "import numpy as np\n",
    "import pandas as pd\n",
    "from bs4 import BeautifulSoup\n",
    "import datetime\n",
    "import pandas as pd\n",
    "import time\n",
    "import concurrent.futures"
   ]
  },
  {
   "cell_type": "code",
   "execution_count": 55,
   "id": "f1ce465d-a611-4f9e-b022-b1e4618ca7e8",
   "metadata": {
    "execution": {
     "iopub.execute_input": "2024-02-09T20:23:19.483390Z",
     "iopub.status.busy": "2024-02-09T20:23:19.483390Z",
     "iopub.status.idle": "2024-02-09T20:23:19.884317Z",
     "shell.execute_reply": "2024-02-09T20:23:19.884317Z",
     "shell.execute_reply.started": "2024-02-09T20:23:19.483390Z"
    }
   },
   "outputs": [],
   "source": [
    "%run config_psql.ipynb"
   ]
  },
  {
   "cell_type": "code",
   "execution_count": 56,
   "id": "36d21bca-e260-4078-a0b1-e1193a4afadd",
   "metadata": {
    "execution": {
     "iopub.execute_input": "2024-02-09T20:23:43.025892Z",
     "iopub.status.busy": "2024-02-09T20:23:43.024887Z",
     "iopub.status.idle": "2024-02-09T20:23:43.042423Z",
     "shell.execute_reply": "2024-02-09T20:23:43.040277Z",
     "shell.execute_reply.started": "2024-02-09T20:23:43.025892Z"
    }
   },
   "outputs": [],
   "source": [
    "min_year = 2024 #Parameterize this for receiving future incremental links\n",
    "max_year = datetime.date.today().year\n",
    "\n",
    "df_url = pd.DataFrame(columns=['site','url_type','season','series','match_id','match_attr','url'])"
   ]
  },
  {
   "cell_type": "code",
   "execution_count": 57,
   "id": "ed6989b3-f1d8-46f5-8cc1-8ebe2bd563af",
   "metadata": {
    "execution": {
     "iopub.execute_input": "2024-02-09T20:23:50.555579Z",
     "iopub.status.busy": "2024-02-09T20:23:50.554192Z",
     "iopub.status.idle": "2024-02-09T20:23:50.591862Z",
     "shell.execute_reply": "2024-02-09T20:23:50.591862Z",
     "shell.execute_reply.started": "2024-02-09T20:23:50.555579Z"
    }
   },
   "outputs": [
    {
     "data": {
      "text/html": [
       "<div>\n",
       "<style scoped>\n",
       "    .dataframe tbody tr th:only-of-type {\n",
       "        vertical-align: middle;\n",
       "    }\n",
       "\n",
       "    .dataframe tbody tr th {\n",
       "        vertical-align: top;\n",
       "    }\n",
       "\n",
       "    .dataframe thead th {\n",
       "        text-align: right;\n",
       "    }\n",
       "</style>\n",
       "<table border=\"1\" class=\"dataframe\">\n",
       "  <thead>\n",
       "    <tr style=\"text-align: right;\">\n",
       "      <th></th>\n",
       "      <th>site</th>\n",
       "      <th>url_type</th>\n",
       "      <th>season</th>\n",
       "      <th>series</th>\n",
       "      <th>match_id</th>\n",
       "      <th>match_attr</th>\n",
       "      <th>url</th>\n",
       "    </tr>\n",
       "  </thead>\n",
       "  <tbody>\n",
       "    <tr>\n",
       "      <th>0</th>\n",
       "      <td>ESPNCricInfo</td>\n",
       "      <td>season</td>\n",
       "      <td>2024</td>\n",
       "      <td>NaN</td>\n",
       "      <td>NaN</td>\n",
       "      <td>NaN</td>\n",
       "      <td>https://www.espncricinfo.com/ci/engine/series/...</td>\n",
       "    </tr>\n",
       "  </tbody>\n",
       "</table>\n",
       "</div>"
      ],
      "text/plain": [
       "           site url_type season  series  match_id  match_attr  \\\n",
       "0  ESPNCricInfo   season   2024     NaN       NaN         NaN   \n",
       "\n",
       "                                                 url  \n",
       "0  https://www.espncricinfo.com/ci/engine/series/...  "
      ]
     },
     "execution_count": 57,
     "metadata": {},
     "output_type": "execute_result"
    }
   ],
   "source": [
    "for year in range(min_year,max_year+1):\n",
    "    new_row = {\n",
    "        'site': 'ESPNCricInfo',\n",
    "        'url_type': 'season',\n",
    "        'season': str(year),\n",
    "        'url': \"https://www.espncricinfo.com/ci/engine/series/index.html?season={};view=season\".format(str(year))\n",
    "    }\n",
    "    df_url.loc[len(df_url)] = new_row\n",
    "    \n",
    "    if year < max_year:\n",
    "        season_name = str(year) + \"%2F\" + '{:02d}'.format(year-1999)\n",
    "        new_row = {\n",
    "            'site': 'ESPNCricInfo',\n",
    "            'url_type': 'season',\n",
    "            'season': season_name,\n",
    "            'url': \"https://www.espncricinfo.com/ci/engine/series/index.html?season={};view=season\".format(season_name)\n",
    "        }\n",
    "        df_url.loc[len(df_url)] = new_row\n",
    "df_url.head()"
   ]
  },
  {
   "cell_type": "code",
   "execution_count": 58,
   "id": "32d80d9a-704d-43d7-b7b2-d14547d97a30",
   "metadata": {
    "execution": {
     "iopub.execute_input": "2024-02-09T20:23:54.974483Z",
     "iopub.status.busy": "2024-02-09T20:23:54.973341Z",
     "iopub.status.idle": "2024-02-09T20:23:56.216039Z",
     "shell.execute_reply": "2024-02-09T20:23:56.216039Z",
     "shell.execute_reply.started": "2024-02-09T20:23:54.974483Z"
    }
   },
   "outputs": [
    {
     "data": {
      "text/html": [
       "<div>\n",
       "<style scoped>\n",
       "    .dataframe tbody tr th:only-of-type {\n",
       "        vertical-align: middle;\n",
       "    }\n",
       "\n",
       "    .dataframe tbody tr th {\n",
       "        vertical-align: top;\n",
       "    }\n",
       "\n",
       "    .dataframe thead th {\n",
       "        text-align: right;\n",
       "    }\n",
       "</style>\n",
       "<table border=\"1\" class=\"dataframe\">\n",
       "  <thead>\n",
       "    <tr style=\"text-align: right;\">\n",
       "      <th></th>\n",
       "      <th>site</th>\n",
       "      <th>url_type</th>\n",
       "      <th>season</th>\n",
       "      <th>series</th>\n",
       "      <th>match_id</th>\n",
       "      <th>match_attr</th>\n",
       "      <th>url</th>\n",
       "    </tr>\n",
       "  </thead>\n",
       "  <tbody>\n",
       "    <tr>\n",
       "      <th>0</th>\n",
       "      <td>ESPNCricInfo</td>\n",
       "      <td>season</td>\n",
       "      <td>2024</td>\n",
       "      <td>NaN</td>\n",
       "      <td>NaN</td>\n",
       "      <td>NaN</td>\n",
       "      <td>https://www.espncricinfo.com/ci/engine/series/...</td>\n",
       "    </tr>\n",
       "    <tr>\n",
       "      <th>1</th>\n",
       "      <td>ESPNCricInfo</td>\n",
       "      <td>series</td>\n",
       "      <td>2024</td>\n",
       "      <td>ICC World Test Championship</td>\n",
       "      <td>NaN</td>\n",
       "      <td>NaN</td>\n",
       "      <td>https://www.espncricinfo.com/series/icc-world-...</td>\n",
       "    </tr>\n",
       "    <tr>\n",
       "      <th>2</th>\n",
       "      <td>ESPNCricInfo</td>\n",
       "      <td>series</td>\n",
       "      <td>2024</td>\n",
       "      <td>Botham-Richards Trophy</td>\n",
       "      <td>NaN</td>\n",
       "      <td>NaN</td>\n",
       "      <td>https://www.espncricinfo.com/series/botham-ric...</td>\n",
       "    </tr>\n",
       "    <tr>\n",
       "      <th>3</th>\n",
       "      <td>ESPNCricInfo</td>\n",
       "      <td>series</td>\n",
       "      <td>2024</td>\n",
       "      <td>Sri Lanka in England Test Series</td>\n",
       "      <td>NaN</td>\n",
       "      <td>NaN</td>\n",
       "      <td>https://www.espncricinfo.com/series/sri-lanka-...</td>\n",
       "    </tr>\n",
       "    <tr>\n",
       "      <th>4</th>\n",
       "      <td>ESPNCricInfo</td>\n",
       "      <td>series</td>\n",
       "      <td>2024</td>\n",
       "      <td>Australia in England ODI Series</td>\n",
       "      <td>NaN</td>\n",
       "      <td>NaN</td>\n",
       "      <td>https://www.espncricinfo.com/series/australia-...</td>\n",
       "    </tr>\n",
       "  </tbody>\n",
       "</table>\n",
       "</div>"
      ],
      "text/plain": [
       "           site url_type season                            series  match_id  \\\n",
       "0  ESPNCricInfo   season   2024                               NaN       NaN   \n",
       "1  ESPNCricInfo   series   2024       ICC World Test Championship       NaN   \n",
       "2  ESPNCricInfo   series   2024            Botham-Richards Trophy       NaN   \n",
       "3  ESPNCricInfo   series   2024  Sri Lanka in England Test Series       NaN   \n",
       "4  ESPNCricInfo   series   2024   Australia in England ODI Series       NaN   \n",
       "\n",
       "   match_attr                                                url  \n",
       "0         NaN  https://www.espncricinfo.com/ci/engine/series/...  \n",
       "1         NaN  https://www.espncricinfo.com/series/icc-world-...  \n",
       "2         NaN  https://www.espncricinfo.com/series/botham-ric...  \n",
       "3         NaN  https://www.espncricinfo.com/series/sri-lanka-...  \n",
       "4         NaN  https://www.espncricinfo.com/series/australia-...  "
      ]
     },
     "execution_count": 58,
     "metadata": {},
     "output_type": "execute_result"
    }
   ],
   "source": [
    "for season in df_url['season'].values:\n",
    "    season_engine_url = \"https://www.espncricinfo.com/ci/engine/series/index.html?season={};view=season\".format(season)\n",
    "    response = requests.get(season_engine_url)\n",
    "    soup = BeautifulSoup(response.content, 'lxml')\n",
    "    for a in soup.find_all('a', href = True):\n",
    "        if (('https://www.espncricinfo.com/series/' in a['href']) and ('/match-schedule-fixtures' in a['href'])):\n",
    "            new_row = {\n",
    "                'site': 'ESPNCricInfo',\n",
    "                'url_type': 'series',\n",
    "                'season': season,\n",
    "                'series': a.text,\n",
    "                'url': a['href']\n",
    "            }\n",
    "            df_url.loc[len(df_url)] = new_row\n",
    "            df_url.head()\n",
    "df_url.head()"
   ]
  },
  {
   "cell_type": "markdown",
   "id": "af417301-26b3-4452-ba25-5d5889eec1cc",
   "metadata": {},
   "source": [
    "## Normal Approach"
   ]
  },
  {
   "cell_type": "code",
   "execution_count": 20,
   "id": "c4a8112a-ae2a-4e21-81e7-f7c40aab8791",
   "metadata": {
    "execution": {
     "iopub.execute_input": "2024-02-09T19:52:54.450982Z",
     "iopub.status.busy": "2024-02-09T19:52:54.448980Z",
     "iopub.status.idle": "2024-02-09T19:52:54.465385Z",
     "shell.execute_reply": "2024-02-09T19:52:54.463369Z",
     "shell.execute_reply.started": "2024-02-09T19:52:54.450982Z"
    }
   },
   "outputs": [],
   "source": [
    "def insert_match_url(season, series, response):\n",
    "    new_rows = []\n",
    "    soup = BeautifulSoup(response.content, 'lxml')\n",
    "    divs = soup.find_all('div', class_ = 'ds-p-0')\n",
    "    for div in divs:\n",
    "        for a in div.find_all('a', href = True):\n",
    "            if (('/live-cricket-score' in a['href']) or ('/full-scorecard' in a['href'])):\n",
    "                new_row = {\n",
    "                    'site': 'ESPNCricInfo',\n",
    "                    'url_type': 'match',\n",
    "                    'season': season,\n",
    "                    'series': series,\n",
    "                    'match_id': a['href'].split('/')[-2].split('-')[-1],\n",
    "                    'url': 'https://www.espncricinfo.com' + a['href']\n",
    "                }\n",
    "                new_rows.append(new_row)\n",
    "    return new_rows"
   ]
  },
  {
   "cell_type": "code",
   "execution_count": 8,
   "id": "b8b25739-f398-4107-9fb2-6ac2e88e40d6",
   "metadata": {
    "execution": {
     "iopub.execute_input": "2024-02-09T19:42:29.052543Z",
     "iopub.status.busy": "2024-02-09T19:42:29.051547Z",
     "iopub.status.idle": "2024-02-09T19:45:08.630309Z",
     "shell.execute_reply": "2024-02-09T19:45:08.627568Z",
     "shell.execute_reply.started": "2024-02-09T19:42:29.052543Z"
    }
   },
   "outputs": [
    {
     "name": "stdout",
     "output_type": "stream",
     "text": [
      "Series completed, 70 matches found. time elapsed : 3.5479557514190674 seconds\n",
      "Series completed, 2 matches found. time elapsed : 3.0928022861480713 seconds\n",
      "Series completed, 1 matches found. time elapsed : 3.172288417816162 seconds\n",
      "Series completed, 1 matches found. time elapsed : 3.2746667861938477 seconds\n",
      "Series completed, 35 matches found. time elapsed : 3.3939898014068604 seconds\n",
      "Series completed, 5 matches found. time elapsed : 3.9827942848205566 seconds\n",
      "Series completed, 2 matches found. time elapsed : 3.032554864883423 seconds\n",
      "Series completed, 2 matches found. time elapsed : 3.1147968769073486 seconds\n",
      "Series completed, 155 matches found. time elapsed : 4.474671125411987 seconds\n",
      "Series completed, 29 matches found. time elapsed : 3.0703208446502686 seconds\n",
      "Series completed, 5 matches found. time elapsed : 3.341822862625122 seconds\n",
      "Series completed, 3 matches found. time elapsed : 3.298501491546631 seconds\n",
      "Series completed, 3 matches found. time elapsed : 2.930828332901001 seconds\n",
      "Series completed, 3 matches found. time elapsed : 3.1477129459381104 seconds\n",
      "Series completed, 37 matches found. time elapsed : 3.263373851776123 seconds\n",
      "Series completed, 3 matches found. time elapsed : 3.286907196044922 seconds\n",
      "Series completed, 3 matches found. time elapsed : 3.0396671295166016 seconds\n",
      "Series completed, 3 matches found. time elapsed : 3.0349316596984863 seconds\n",
      "Series completed, 13 matches found. time elapsed : 3.090736150741577 seconds\n",
      "Series completed, 4 matches found. time elapsed : 3.2604281902313232 seconds\n",
      "Series completed, 3 matches found. time elapsed : 2.8199470043182373 seconds\n",
      "Series completed, 3 matches found. time elapsed : 2.940547466278076 seconds\n",
      "Series completed, 6 matches found. time elapsed : 3.029222249984741 seconds\n",
      "Series completed, 5 matches found. time elapsed : 4.2309250831604 seconds\n",
      "Series completed, 16 matches found. time elapsed : 2.940164089202881 seconds\n",
      "Series completed, 18 matches found. time elapsed : 2.8999083042144775 seconds\n",
      "Series completed, 20 matches found. time elapsed : 2.8398969173431396 seconds\n",
      "Series completed, 20 matches found. time elapsed : 3.090106964111328 seconds\n",
      "Series completed, 38 matches found. time elapsed : 3.4022154808044434 seconds\n",
      "Series completed, 8 matches found. time elapsed : 2.9644265174865723 seconds\n",
      "Series completed, 6 matches found. time elapsed : 2.8851113319396973 seconds\n",
      "Series completed, 16 matches found. time elapsed : 3.185758590698242 seconds\n",
      "Series completed, 4 matches found. time elapsed : 2.8894777297973633 seconds\n",
      "Series completed, 4 matches found. time elapsed : 3.229672431945801 seconds\n",
      "Series completed, 6 matches found. time elapsed : 2.779707908630371 seconds\n",
      "Series completed, 6 matches found. time elapsed : 3.0014123916625977 seconds\n",
      "Series completed, 12 matches found. time elapsed : 3.2706830501556396 seconds\n",
      "Series completed, 26 matches found. time elapsed : 3.126009464263916 seconds\n",
      "Series completed, 2 matches found. time elapsed : 3.2700183391571045 seconds\n",
      "Series completed, 41 matches found. time elapsed : 3.2514960765838623 seconds\n",
      "Series completed, 24 matches found. time elapsed : 3.131026268005371 seconds\n",
      "Series completed, 19 matches found. time elapsed : 3.204806089401245 seconds\n",
      "Series completed, 5 matches found. time elapsed : 3.0388529300689697 seconds\n",
      "Series completed, 6 matches found. time elapsed : 3.5393574237823486 seconds\n",
      "Series completed, 6 matches found. time elapsed : 3.1442723274230957 seconds\n",
      "Series completed, 3 matches found. time elapsed : 2.972503662109375 seconds\n",
      "Series completed, 3 matches found. time elapsed : 2.914144515991211 seconds\n",
      "Series completed, 16 matches found. time elapsed : 3.1968908309936523 seconds\n",
      "Series completed, 36 matches found. time elapsed : 3.313420295715332 seconds\n",
      "Series completed, 4 matches found. time elapsed : 3.1500401496887207 seconds\n"
     ]
    }
   ],
   "source": [
    "for season, series, url in df_url[df_url['url_type']=='series'][['season', 'series', 'url']].values[:50]: #first2 only for testing\n",
    "    st = time.time()\n",
    "    initial_size = len(df_url)\n",
    "    link1 = url.replace(url.split('/')[-1], 'match-results') # completed series\n",
    "    link2 = url.replace(url.split('/')[-1], 'match-schedule-fixtures') # ongoing, future series\n",
    "    link3 = url.replace(url.split('/')[-1], 'match-schedule-results') # alternate link\n",
    "    response1 = requests.get(link1)\n",
    "    response2 = requests.get(link2)\n",
    "    response3 = requests.get(link3)\n",
    "    if response1.status_code != 404:\n",
    "        new_rows = insert_match_url(season, series, response1)\n",
    "        for row in new_rows:\n",
    "            df_url.loc[len(df_url)] = row\n",
    "    elif response2.status_code != 404:\n",
    "        new_rows = insert_match_url(season, series, response2)\n",
    "        for row in new_rows:\n",
    "            df_url.loc[len(df_url)] = row\n",
    "    elif response3.status_code != 404:\n",
    "        new_rows = insert_match_url(season, series, response3)\n",
    "        for row in new_rows:\n",
    "            df_url.loc[len(df_url)] = row\n",
    "    else:\n",
    "        print(\"No suitable match endpoint found, Intervention required!!!\")\n",
    "        print(season, series, url, sep = '\\n', end = '\\n\\n')\n",
    "        break\n",
    "\n",
    "    #print(len(df_url), initial_size, sep = ' | ')\n",
    "    et = time.time()\n",
    "    print(\"Series completed, {0} matches found. time elapsed : {1} seconds\".format((len(df_url) - initial_size), (et-st)))"
   ]
  },
  {
   "cell_type": "raw",
   "id": "d41393be-00f1-4edc-9747-1208b8f206a6",
   "metadata": {},
   "source": [
    "With Single thread function :\n",
    "791 series completed in 3607 seconds\n",
    "Average = 4.56 s per series\n",
    "\n",
    "With 2 threads :\n",
    "20 series completed in 49 seconds\n",
    "Average = 2.45 s per series\n",
    "\n",
    "With 50 threads :\n",
    "500series completed in 390 seconds\n",
    "Average = 0.78 s per series\n",
    "\n",
    "------------------------\n",
    "single thread = 50 series | 170 s | 160 s\n",
    "20 threads = 50 series | 41 s"
   ]
  },
  {
   "cell_type": "markdown",
   "id": "07fc6d9c-8194-48ec-a4c4-9e2aacc34a02",
   "metadata": {},
   "source": [
    "## Multi-Threading"
   ]
  },
  {
   "cell_type": "code",
   "execution_count": 52,
   "id": "bdf7b7bf-35fa-40ae-8281-241aa54d7404",
   "metadata": {
    "execution": {
     "iopub.execute_input": "2024-02-09T20:21:58.108645Z",
     "iopub.status.busy": "2024-02-09T20:21:58.108645Z",
     "iopub.status.idle": "2024-02-09T20:22:37.150707Z",
     "shell.execute_reply": "2024-02-09T20:22:37.147475Z",
     "shell.execute_reply.started": "2024-02-09T20:21:58.108645Z"
    }
   },
   "outputs": [],
   "source": [
    "import concurrent.futures\n",
    "import requests\n",
    "import pandas as pd\n",
    "import time\n",
    "\n",
    "# Define your insert_match_url function if not already defined\n",
    "def insert_match_url(season, series, response):\n",
    "    new_rows = []\n",
    "    soup = BeautifulSoup(response.content, 'lxml')\n",
    "    divs = soup.find_all('div', class_ = 'ds-p-0')\n",
    "    for div in divs:\n",
    "        for a in div.find_all('a', href = True):\n",
    "            if (('/live-cricket-score' in a['href']) or ('/full-scorecard' in a['href'])):\n",
    "                new_row = {\n",
    "                    'site': 'ESPNCricInfo',\n",
    "                    'url_type': 'match',\n",
    "                    'season': season,\n",
    "                    'series': series,\n",
    "                    'match_id': a['href'].split('/')[-2].split('-')[-1],\n",
    "                    'url': 'https://www.espncricinfo.com' + a['href']\n",
    "                }\n",
    "                new_rows.append(new_row)\n",
    "    return new_rows\n",
    "\n",
    "# Assuming df_url is your DataFrame containing the data\n",
    "# Define your DataFrame df_url\n",
    "\n",
    "def process_url(season, series, url):\n",
    "    st = time.time()\n",
    "    initial_size = len(df_url)\n",
    "    link1 = url.replace(url.split('/')[-1], 'match-results') # completed series\n",
    "    link2 = url.replace(url.split('/')[-1], 'match-schedule-fixtures') # ongoing, future series\n",
    "    link3 = url.replace(url.split('/')[-1], 'match-schedule-results') # alternate link\n",
    "    response1 = requests.get(link1)\n",
    "    response2 = requests.get(link2)\n",
    "    response3 = requests.get(link3)\n",
    "    if response1.status_code != 404:\n",
    "        new_rows = insert_match_url(season, series, response1)\n",
    "    elif response2.status_code != 404:\n",
    "        new_rows = insert_match_url(season, series, response2)\n",
    "    elif response3.status_code != 404:\n",
    "        new_rows = insert_match_url(season, series, response3)\n",
    "    else:\n",
    "        print(\"No suitable match endpoint found, Intervention required!!!\")\n",
    "        print(season, series, url, sep='\\n', end='\\n\\n')\n",
    "    return new_rows\n",
    "    \n",
    "# Define the number of threads you want to use\n",
    "num_threads = 25\n",
    "\n",
    "# Use ThreadPoolExecutor to create a pool of threads\n",
    "with concurrent.futures.ThreadPoolExecutor(max_workers=num_threads) as executor:\n",
    "    # Submit tasks to the executor\n",
    "    futures = []\n",
    "    for season, series, url in df_url[df_url['url_type'] == 'series'][['season', 'series', 'url']].values[:50]:\n",
    "        futures.append(executor.submit(process_url, season, series, url))\n",
    "\n",
    "    # Wait for all futures (threads) to complete\n",
    "    for future in concurrent.futures.as_completed(futures):\n",
    "        for row in future.result():\n",
    "            df_url.loc[len(df_url)] = row"
   ]
  },
  {
   "cell_type": "code",
   "execution_count": null,
   "id": "081c46ed-16ad-4605-abde-08888e672ddc",
   "metadata": {},
   "outputs": [],
   "source": []
  },
  {
   "cell_type": "code",
   "execution_count": 53,
   "id": "dc15f0e8-e228-49e1-833d-546d9d24dd1e",
   "metadata": {
    "execution": {
     "iopub.execute_input": "2024-02-09T20:22:37.155341Z",
     "iopub.status.busy": "2024-02-09T20:22:37.154357Z",
     "iopub.status.idle": "2024-02-09T20:22:37.175061Z",
     "shell.execute_reply": "2024-02-09T20:22:37.175061Z",
     "shell.execute_reply.started": "2024-02-09T20:22:37.155341Z"
    }
   },
   "outputs": [
    {
     "name": "stdout",
     "output_type": "stream",
     "text": [
      "<class 'pandas.core.frame.DataFrame'>\n",
      "Index: 1552 entries, 0 to 1551\n",
      "Data columns (total 7 columns):\n",
      " #   Column      Non-Null Count  Dtype  \n",
      "---  ------      --------------  -----  \n",
      " 0   site        1552 non-null   object \n",
      " 1   url_type    1552 non-null   object \n",
      " 2   season      1552 non-null   object \n",
      " 3   series      1549 non-null   object \n",
      " 4   match_id    761 non-null    object \n",
      " 5   match_attr  0 non-null      float64\n",
      " 6   url         1552 non-null   object \n",
      "dtypes: float64(1), object(6)\n",
      "memory usage: 97.0+ KB\n"
     ]
    }
   ],
   "source": [
    "df_url.info()"
   ]
  },
  {
   "cell_type": "code",
   "execution_count": 46,
   "id": "39c1116d-ca4a-4013-a1b9-1aea6343c965",
   "metadata": {
    "execution": {
     "iopub.execute_input": "2024-02-09T20:20:37.874351Z",
     "iopub.status.busy": "2024-02-09T20:20:37.871846Z",
     "iopub.status.idle": "2024-02-09T20:20:37.898040Z",
     "shell.execute_reply": "2024-02-09T20:20:37.896013Z",
     "shell.execute_reply.started": "2024-02-09T20:20:37.874351Z"
    }
   },
   "outputs": [
    {
     "data": {
      "text/html": [
       "<div>\n",
       "<style scoped>\n",
       "    .dataframe tbody tr th:only-of-type {\n",
       "        vertical-align: middle;\n",
       "    }\n",
       "\n",
       "    .dataframe tbody tr th {\n",
       "        vertical-align: top;\n",
       "    }\n",
       "\n",
       "    .dataframe thead th {\n",
       "        text-align: right;\n",
       "    }\n",
       "</style>\n",
       "<table border=\"1\" class=\"dataframe\">\n",
       "  <thead>\n",
       "    <tr style=\"text-align: right;\">\n",
       "      <th></th>\n",
       "      <th>site</th>\n",
       "      <th>url_type</th>\n",
       "      <th>season</th>\n",
       "      <th>series</th>\n",
       "      <th>match_id</th>\n",
       "      <th>match_attr</th>\n",
       "      <th>url</th>\n",
       "    </tr>\n",
       "  </thead>\n",
       "  <tbody>\n",
       "  </tbody>\n",
       "</table>\n",
       "</div>"
      ],
      "text/plain": [
       "Empty DataFrame\n",
       "Columns: [site, url_type, season, series, match_id, match_attr, url]\n",
       "Index: []"
      ]
     },
     "execution_count": 46,
     "metadata": {},
     "output_type": "execute_result"
    }
   ],
   "source": [
    "df_url[df_url['url_type'] == 'match']"
   ]
  },
  {
   "cell_type": "code",
   "execution_count": 42,
   "id": "2c10458a-9c1b-4f1a-a562-b7cea1875ae8",
   "metadata": {
    "execution": {
     "iopub.execute_input": "2024-02-09T20:18:45.643009Z",
     "iopub.status.busy": "2024-02-09T20:18:45.641025Z",
     "iopub.status.idle": "2024-02-09T20:18:45.678333Z",
     "shell.execute_reply": "2024-02-09T20:18:45.674940Z",
     "shell.execute_reply.started": "2024-02-09T20:18:45.643009Z"
    }
   },
   "outputs": [
    {
     "data": {
      "text/plain": [
       "[{'site': 'ESPNCricInfo',\n",
       "  'url_type': 'match',\n",
       "  'season': '2023',\n",
       "  'series': 'ICC World Test Championship',\n",
       "  'match_id': '1239543',\n",
       "  'url': 'https://www.espncricinfo.com/series/india-tour-of-england-2021-2022-1239527/england-vs-india-1st-test-1239543/full-scorecard'},\n",
       " {'site': 'ESPNCricInfo',\n",
       "  'url_type': 'match',\n",
       "  'season': '2023',\n",
       "  'series': 'ICC World Test Championship',\n",
       "  'match_id': '1239544',\n",
       "  'url': 'https://www.espncricinfo.com/series/india-tour-of-england-2021-2022-1239527/england-vs-india-2nd-test-1239544/full-scorecard'},\n",
       " {'site': 'ESPNCricInfo',\n",
       "  'url_type': 'match',\n",
       "  'season': '2023',\n",
       "  'series': 'ICC World Test Championship',\n",
       "  'match_id': '1263169',\n",
       "  'url': 'https://www.espncricinfo.com/series/pakistan-tour-of-west-indies-2021-1263146/west-indies-vs-pakistan-1st-test-1263169/full-scorecard'},\n",
       " {'site': 'ESPNCricInfo',\n",
       "  'url_type': 'match',\n",
       "  'season': '2023',\n",
       "  'series': 'ICC World Test Championship',\n",
       "  'match_id': '1263170',\n",
       "  'url': 'https://www.espncricinfo.com/series/pakistan-tour-of-west-indies-2021-1263146/west-indies-vs-pakistan-2nd-test-1263170/full-scorecard'},\n",
       " {'site': 'ESPNCricInfo',\n",
       "  'url_type': 'match',\n",
       "  'season': '2023',\n",
       "  'series': 'ICC World Test Championship',\n",
       "  'match_id': '1239545',\n",
       "  'url': 'https://www.espncricinfo.com/series/india-tour-of-england-2021-2022-1239527/england-vs-india-3rd-test-1239545/full-scorecard'},\n",
       " {'site': 'ESPNCricInfo',\n",
       "  'url_type': 'match',\n",
       "  'season': '2023',\n",
       "  'series': 'ICC World Test Championship',\n",
       "  'match_id': '1239546',\n",
       "  'url': 'https://www.espncricinfo.com/series/india-tour-of-england-2021-2022-1239527/england-vs-india-4th-test-1239546/full-scorecard'},\n",
       " {'site': 'ESPNCricInfo',\n",
       "  'url_type': 'match',\n",
       "  'season': '2023',\n",
       "  'series': 'ICC World Test Championship',\n",
       "  'match_id': '1288345',\n",
       "  'url': 'https://www.espncricinfo.com/series/west-indies-in-sri-lanka-2021-22-1288341/sri-lanka-vs-west-indies-1st-test-1288345/full-scorecard'},\n",
       " {'site': 'ESPNCricInfo',\n",
       "  'url_type': 'match',\n",
       "  'season': '2023',\n",
       "  'series': 'ICC World Test Championship',\n",
       "  'match_id': '1278674',\n",
       "  'url': 'https://www.espncricinfo.com/series/new-zealand-in-india-2021-22-1278658/india-vs-new-zealand-1st-test-1278674/full-scorecard'},\n",
       " {'site': 'ESPNCricInfo',\n",
       "  'url_type': 'match',\n",
       "  'season': '2023',\n",
       "  'series': 'ICC World Test Championship',\n",
       "  'match_id': '1277977',\n",
       "  'url': 'https://www.espncricinfo.com/series/pakistan-in-bangladesh-2021-22-1277971/bangladesh-vs-pakistan-1st-test-1277977/full-scorecard'},\n",
       " {'site': 'ESPNCricInfo',\n",
       "  'url_type': 'match',\n",
       "  'season': '2023',\n",
       "  'series': 'ICC World Test Championship',\n",
       "  'match_id': '1288346',\n",
       "  'url': 'https://www.espncricinfo.com/series/west-indies-in-sri-lanka-2021-22-1288341/sri-lanka-vs-west-indies-2nd-test-1288346/full-scorecard'},\n",
       " {'site': 'ESPNCricInfo',\n",
       "  'url_type': 'match',\n",
       "  'season': '2023',\n",
       "  'series': 'ICC World Test Championship',\n",
       "  'match_id': '1278675',\n",
       "  'url': 'https://www.espncricinfo.com/series/new-zealand-in-india-2021-22-1278658/india-vs-new-zealand-2nd-test-1278675/full-scorecard'},\n",
       " {'site': 'ESPNCricInfo',\n",
       "  'url_type': 'match',\n",
       "  'season': '2023',\n",
       "  'series': 'ICC World Test Championship',\n",
       "  'match_id': '1277978',\n",
       "  'url': 'https://www.espncricinfo.com/series/pakistan-in-bangladesh-2021-22-1277971/bangladesh-vs-pakistan-2nd-test-1277978/full-scorecard'},\n",
       " {'site': 'ESPNCricInfo',\n",
       "  'url_type': 'match',\n",
       "  'season': '2023',\n",
       "  'series': 'ICC World Test Championship',\n",
       "  'match_id': '1263462',\n",
       "  'url': 'https://www.espncricinfo.com/series/england-in-australia-2021-22-1263452/australia-vs-england-1st-test-1263462/full-scorecard'},\n",
       " {'site': 'ESPNCricInfo',\n",
       "  'url_type': 'match',\n",
       "  'season': '2023',\n",
       "  'series': 'ICC World Test Championship',\n",
       "  'match_id': '1263463',\n",
       "  'url': 'https://www.espncricinfo.com/series/england-in-australia-2021-22-1263452/australia-vs-england-2nd-test-1263463/full-scorecard'},\n",
       " {'site': 'ESPNCricInfo',\n",
       "  'url_type': 'match',\n",
       "  'season': '2023',\n",
       "  'series': 'ICC World Test Championship',\n",
       "  'match_id': '1263464',\n",
       "  'url': 'https://www.espncricinfo.com/series/england-in-australia-2021-22-1263452/australia-vs-england-3rd-test-1263464/full-scorecard'},\n",
       " {'site': 'ESPNCricInfo',\n",
       "  'url_type': 'match',\n",
       "  'season': '2023',\n",
       "  'series': 'ICC World Test Championship',\n",
       "  'match_id': '1277079',\n",
       "  'url': 'https://www.espncricinfo.com/series/india-in-south-africa-2021-22-1277060/south-africa-vs-india-1st-test-1277079/full-scorecard'},\n",
       " {'site': 'ESPNCricInfo',\n",
       "  'url_type': 'match',\n",
       "  'season': '2023',\n",
       "  'series': 'ICC World Test Championship',\n",
       "  'match_id': '1288979',\n",
       "  'url': 'https://www.espncricinfo.com/series/bangladesh-in-new-zealand-2021-22-1288977/new-zealand-vs-bangladesh-1st-test-1288979/full-scorecard'},\n",
       " {'site': 'ESPNCricInfo',\n",
       "  'url_type': 'match',\n",
       "  'season': '2023',\n",
       "  'series': 'ICC World Test Championship',\n",
       "  'match_id': '1277080',\n",
       "  'url': 'https://www.espncricinfo.com/series/india-in-south-africa-2021-22-1277060/south-africa-vs-india-2nd-test-1277080/full-scorecard'},\n",
       " {'site': 'ESPNCricInfo',\n",
       "  'url_type': 'match',\n",
       "  'season': '2023',\n",
       "  'series': 'ICC World Test Championship',\n",
       "  'match_id': '1263465',\n",
       "  'url': 'https://www.espncricinfo.com/series/england-in-australia-2021-22-1263452/australia-vs-england-4th-test-1263465/full-scorecard'},\n",
       " {'site': 'ESPNCricInfo',\n",
       "  'url_type': 'match',\n",
       "  'season': '2023',\n",
       "  'series': 'ICC World Test Championship',\n",
       "  'match_id': '1288980',\n",
       "  'url': 'https://www.espncricinfo.com/series/bangladesh-in-new-zealand-2021-22-1288977/new-zealand-vs-bangladesh-2nd-test-1288980/full-scorecard'},\n",
       " {'site': 'ESPNCricInfo',\n",
       "  'url_type': 'match',\n",
       "  'season': '2023',\n",
       "  'series': 'ICC World Test Championship',\n",
       "  'match_id': '1277081',\n",
       "  'url': 'https://www.espncricinfo.com/series/india-in-south-africa-2021-22-1277060/south-africa-vs-india-3rd-test-1277081/full-scorecard'},\n",
       " {'site': 'ESPNCricInfo',\n",
       "  'url_type': 'match',\n",
       "  'season': '2023',\n",
       "  'series': 'ICC World Test Championship',\n",
       "  'match_id': '1263466',\n",
       "  'url': 'https://www.espncricinfo.com/series/england-in-australia-2021-22-1263452/australia-vs-england-5th-test-1263466/full-scorecard'},\n",
       " {'site': 'ESPNCricInfo',\n",
       "  'url_type': 'match',\n",
       "  'season': '2023',\n",
       "  'series': 'ICC World Test Championship',\n",
       "  'match_id': '1288981',\n",
       "  'url': 'https://www.espncricinfo.com/series/south-africa-in-new-zealand-2021-22-1288965/new-zealand-vs-south-africa-1st-test-1288981/full-scorecard'},\n",
       " {'site': 'ESPNCricInfo',\n",
       "  'url_type': 'match',\n",
       "  'season': '2023',\n",
       "  'series': 'ICC World Test Championship',\n",
       "  'match_id': '1288982',\n",
       "  'url': 'https://www.espncricinfo.com/series/south-africa-in-new-zealand-2021-22-1288965/new-zealand-vs-south-africa-2nd-test-1288982/full-scorecard'},\n",
       " {'site': 'ESPNCricInfo',\n",
       "  'url_type': 'match',\n",
       "  'season': '2023',\n",
       "  'series': 'ICC World Test Championship',\n",
       "  'match_id': '1278682',\n",
       "  'url': 'https://www.espncricinfo.com/series/sri-lanka-in-india-2021-22-1278665/india-vs-sri-lanka-1st-test-1278682/full-scorecard'},\n",
       " {'site': 'ESPNCricInfo',\n",
       "  'url_type': 'match',\n",
       "  'season': '2023',\n",
       "  'series': 'ICC World Test Championship',\n",
       "  'match_id': '1288310',\n",
       "  'url': 'https://www.espncricinfo.com/series/australia-in-pakistan-2021-22-1288300/pakistan-vs-australia-1st-test-1288310/full-scorecard'},\n",
       " {'site': 'ESPNCricInfo',\n",
       "  'url_type': 'match',\n",
       "  'season': '2023',\n",
       "  'series': 'ICC World Test Championship',\n",
       "  'match_id': '1256726',\n",
       "  'url': 'https://www.espncricinfo.com/series/england-tour-of-west-indies-2021-22-1256716/west-indies-vs-england-1st-test-1256726/full-scorecard'},\n",
       " {'site': 'ESPNCricInfo',\n",
       "  'url_type': 'match',\n",
       "  'season': '2023',\n",
       "  'series': 'ICC World Test Championship',\n",
       "  'match_id': '1288311',\n",
       "  'url': 'https://www.espncricinfo.com/series/australia-in-pakistan-2021-22-1288300/pakistan-vs-australia-2nd-test-1288311/full-scorecard'},\n",
       " {'site': 'ESPNCricInfo',\n",
       "  'url_type': 'match',\n",
       "  'season': '2023',\n",
       "  'series': 'ICC World Test Championship',\n",
       "  'match_id': '1278683',\n",
       "  'url': 'https://www.espncricinfo.com/series/sri-lanka-in-india-2021-22-1278665/india-vs-sri-lanka-2nd-test-1278683/full-scorecard'},\n",
       " {'site': 'ESPNCricInfo',\n",
       "  'url_type': 'match',\n",
       "  'season': '2023',\n",
       "  'series': 'ICC World Test Championship',\n",
       "  'match_id': '1256727',\n",
       "  'url': 'https://www.espncricinfo.com/series/england-tour-of-west-indies-2021-22-1256716/west-indies-vs-england-2nd-test-1256727/full-scorecard'},\n",
       " {'site': 'ESPNCricInfo',\n",
       "  'url_type': 'match',\n",
       "  'season': '2023',\n",
       "  'series': 'ICC World Test Championship',\n",
       "  'match_id': '1288312',\n",
       "  'url': 'https://www.espncricinfo.com/series/australia-in-pakistan-2021-22-1288300/pakistan-vs-australia-3rd-test-1288312/full-scorecard'},\n",
       " {'site': 'ESPNCricInfo',\n",
       "  'url_type': 'match',\n",
       "  'season': '2023',\n",
       "  'series': 'ICC World Test Championship',\n",
       "  'match_id': '1256728',\n",
       "  'url': 'https://www.espncricinfo.com/series/england-tour-of-west-indies-2021-22-1256716/west-indies-vs-england-3rd-test-1256728/full-scorecard'},\n",
       " {'site': 'ESPNCricInfo',\n",
       "  'url_type': 'match',\n",
       "  'season': '2023',\n",
       "  'series': 'ICC World Test Championship',\n",
       "  'match_id': '1277100',\n",
       "  'url': 'https://www.espncricinfo.com/series/bangladesh-in-south-africa-2021-22-1277070/south-africa-vs-bangladesh-1st-test-1277100/full-scorecard'},\n",
       " {'site': 'ESPNCricInfo',\n",
       "  'url_type': 'match',\n",
       "  'season': '2023',\n",
       "  'series': 'ICC World Test Championship',\n",
       "  'match_id': '1277101',\n",
       "  'url': 'https://www.espncricinfo.com/series/bangladesh-in-south-africa-2021-22-1277070/south-africa-vs-bangladesh-2nd-test-1277101/full-scorecard'},\n",
       " {'site': 'ESPNCricInfo',\n",
       "  'url_type': 'match',\n",
       "  'season': '2023',\n",
       "  'series': 'ICC World Test Championship',\n",
       "  'match_id': '1308488',\n",
       "  'url': 'https://www.espncricinfo.com/series/sri-lanka-in-bangladesh-2022-1308485/bangladesh-vs-sri-lanka-1st-test-1308488/full-scorecard'},\n",
       " {'site': 'ESPNCricInfo',\n",
       "  'url_type': 'match',\n",
       "  'season': '2023',\n",
       "  'series': 'ICC World Test Championship',\n",
       "  'match_id': '1308489',\n",
       "  'url': 'https://www.espncricinfo.com/series/sri-lanka-in-bangladesh-2022-1308485/bangladesh-vs-sri-lanka-2nd-test-1308489/full-scorecard'},\n",
       " {'site': 'ESPNCricInfo',\n",
       "  'url_type': 'match',\n",
       "  'season': '2023',\n",
       "  'series': 'ICC World Test Championship',\n",
       "  'match_id': '1276901',\n",
       "  'url': 'https://www.espncricinfo.com/series/new-zealand-in-england-2022-1276891/england-vs-new-zealand-1st-test-1276901/full-scorecard'},\n",
       " {'site': 'ESPNCricInfo',\n",
       "  'url_type': 'match',\n",
       "  'season': '2023',\n",
       "  'series': 'ICC World Test Championship',\n",
       "  'match_id': '1276902',\n",
       "  'url': 'https://www.espncricinfo.com/series/new-zealand-in-england-2022-1276891/england-vs-new-zealand-2nd-test-1276902/full-scorecard'},\n",
       " {'site': 'ESPNCricInfo',\n",
       "  'url_type': 'match',\n",
       "  'season': '2023',\n",
       "  'series': 'ICC World Test Championship',\n",
       "  'match_id': '1317147',\n",
       "  'url': 'https://www.espncricinfo.com/series/bangladesh-tour-of-west-indies-2022-1317143/west-indies-vs-bangladesh-1st-test-1317147/full-scorecard'},\n",
       " {'site': 'ESPNCricInfo',\n",
       "  'url_type': 'match',\n",
       "  'season': '2023',\n",
       "  'series': 'ICC World Test Championship',\n",
       "  'match_id': '1276903',\n",
       "  'url': 'https://www.espncricinfo.com/series/new-zealand-in-england-2022-1276891/england-vs-new-zealand-3rd-test-1276903/full-scorecard'},\n",
       " {'site': 'ESPNCricInfo',\n",
       "  'url_type': 'match',\n",
       "  'season': '2023',\n",
       "  'series': 'ICC World Test Championship',\n",
       "  'match_id': '1317148',\n",
       "  'url': 'https://www.espncricinfo.com/series/bangladesh-tour-of-west-indies-2022-1317143/west-indies-vs-bangladesh-2nd-test-1317148/full-scorecard'},\n",
       " {'site': 'ESPNCricInfo',\n",
       "  'url_type': 'match',\n",
       "  'season': '2023',\n",
       "  'series': 'ICC World Test Championship',\n",
       "  'match_id': '1307301',\n",
       "  'url': 'https://www.espncricinfo.com/series/australia-in-sri-lanka-2022-1307289/sri-lanka-vs-australia-1st-test-1307301/full-scorecard'},\n",
       " {'site': 'ESPNCricInfo',\n",
       "  'url_type': 'match',\n",
       "  'season': '2023',\n",
       "  'series': 'ICC World Test Championship',\n",
       "  'match_id': '1320741',\n",
       "  'url': 'https://www.espncricinfo.com/series/india-tour-of-england-2021-2022-1239527/england-vs-india-5th-test-1320741/full-scorecard'},\n",
       " {'site': 'ESPNCricInfo',\n",
       "  'url_type': 'match',\n",
       "  'season': '2023',\n",
       "  'series': 'ICC World Test Championship',\n",
       "  'match_id': '1307302',\n",
       "  'url': 'https://www.espncricinfo.com/series/australia-in-sri-lanka-2022-1307289/sri-lanka-vs-australia-2nd-test-1307302/full-scorecard'},\n",
       " {'site': 'ESPNCricInfo',\n",
       "  'url_type': 'match',\n",
       "  'season': '2023',\n",
       "  'series': 'ICC World Test Championship',\n",
       "  'match_id': '1320953',\n",
       "  'url': 'https://www.espncricinfo.com/series/pakistan-tour-in-sri-lanka-2022-1320948/sri-lanka-vs-pakistan-1st-test-1320953/full-scorecard'},\n",
       " {'site': 'ESPNCricInfo',\n",
       "  'url_type': 'match',\n",
       "  'season': '2023',\n",
       "  'series': 'ICC World Test Championship',\n",
       "  'match_id': '1320954',\n",
       "  'url': 'https://www.espncricinfo.com/series/pakistan-tour-in-sri-lanka-2022-1320948/sri-lanka-vs-pakistan-2nd-test-1320954/full-scorecard'},\n",
       " {'site': 'ESPNCricInfo',\n",
       "  'url_type': 'match',\n",
       "  'season': '2023',\n",
       "  'series': 'ICC World Test Championship',\n",
       "  'match_id': '1276916',\n",
       "  'url': 'https://www.espncricinfo.com/series/south-africa-in-england-2022-1276896/england-vs-south-africa-1st-test-1276916/full-scorecard'},\n",
       " {'site': 'ESPNCricInfo',\n",
       "  'url_type': 'match',\n",
       "  'season': '2023',\n",
       "  'series': 'ICC World Test Championship',\n",
       "  'match_id': '1276917',\n",
       "  'url': 'https://www.espncricinfo.com/series/south-africa-in-england-2022-1276896/england-vs-south-africa-2nd-test-1276917/full-scorecard'},\n",
       " {'site': 'ESPNCricInfo',\n",
       "  'url_type': 'match',\n",
       "  'season': '2023',\n",
       "  'series': 'ICC World Test Championship',\n",
       "  'match_id': '1276918',\n",
       "  'url': 'https://www.espncricinfo.com/series/south-africa-in-england-2022-1276896/england-vs-south-africa-3rd-test-1276918/full-scorecard'},\n",
       " {'site': 'ESPNCricInfo',\n",
       "  'url_type': 'match',\n",
       "  'season': '2023',\n",
       "  'series': 'ICC World Test Championship',\n",
       "  'match_id': '1317484',\n",
       "  'url': 'https://www.espncricinfo.com/series/west-indies-in-australia-2022-23-1317465/australia-vs-west-indies-1st-test-1317484/full-scorecard'},\n",
       " {'site': 'ESPNCricInfo',\n",
       "  'url_type': 'match',\n",
       "  'season': '2023',\n",
       "  'series': 'ICC World Test Championship',\n",
       "  'match_id': '1330871',\n",
       "  'url': 'https://www.espncricinfo.com/series/england-in-pakistan-2022-23-1330866/pakistan-vs-england-1st-test-1330871/full-scorecard'},\n",
       " {'site': 'ESPNCricInfo',\n",
       "  'url_type': 'match',\n",
       "  'season': '2023',\n",
       "  'series': 'ICC World Test Championship',\n",
       "  'match_id': '1317485',\n",
       "  'url': 'https://www.espncricinfo.com/series/west-indies-in-australia-2022-23-1317465/australia-vs-west-indies-2nd-test-1317485/full-scorecard'},\n",
       " {'site': 'ESPNCricInfo',\n",
       "  'url_type': 'match',\n",
       "  'season': '2023',\n",
       "  'series': 'ICC World Test Championship',\n",
       "  'match_id': '1330872',\n",
       "  'url': 'https://www.espncricinfo.com/series/england-in-pakistan-2022-23-1330866/pakistan-vs-england-2nd-test-1330872/full-scorecard'},\n",
       " {'site': 'ESPNCricInfo',\n",
       "  'url_type': 'match',\n",
       "  'season': '2023',\n",
       "  'series': 'ICC World Test Championship',\n",
       "  'match_id': '1340848',\n",
       "  'url': 'https://www.espncricinfo.com/series/india-in-bangladesh-2022-23-1340842/bangladesh-vs-india-1st-test-1340848/full-scorecard'},\n",
       " {'site': 'ESPNCricInfo',\n",
       "  'url_type': 'match',\n",
       "  'season': '2023',\n",
       "  'series': 'ICC World Test Championship',\n",
       "  'match_id': '1317492',\n",
       "  'url': 'https://www.espncricinfo.com/series/south-africa-in-australia-2022-23-1317472/australia-vs-south-africa-1st-test-1317492/full-scorecard'},\n",
       " {'site': 'ESPNCricInfo',\n",
       "  'url_type': 'match',\n",
       "  'season': '2023',\n",
       "  'series': 'ICC World Test Championship',\n",
       "  'match_id': '1330873',\n",
       "  'url': 'https://www.espncricinfo.com/series/england-in-pakistan-2022-23-1330866/pakistan-vs-england-3rd-test-1330873/full-scorecard'},\n",
       " {'site': 'ESPNCricInfo',\n",
       "  'url_type': 'match',\n",
       "  'season': '2023',\n",
       "  'series': 'ICC World Test Championship',\n",
       "  'match_id': '1340849',\n",
       "  'url': 'https://www.espncricinfo.com/series/india-in-bangladesh-2022-23-1340842/bangladesh-vs-india-2nd-test-1340849/full-scorecard'},\n",
       " {'site': 'ESPNCricInfo',\n",
       "  'url_type': 'match',\n",
       "  'season': '2023',\n",
       "  'series': 'ICC World Test Championship',\n",
       "  'match_id': '1317493',\n",
       "  'url': 'https://www.espncricinfo.com/series/south-africa-in-australia-2022-23-1317472/australia-vs-south-africa-2nd-test-1317493/full-scorecard'},\n",
       " {'site': 'ESPNCricInfo',\n",
       "  'url_type': 'match',\n",
       "  'season': '2023',\n",
       "  'series': 'ICC World Test Championship',\n",
       "  'match_id': '1339609',\n",
       "  'url': 'https://www.espncricinfo.com/series/new-zealand-in-pakistan-2022-23-1339576/pakistan-vs-new-zealand-1st-test-1339609/full-scorecard'},\n",
       " {'site': 'ESPNCricInfo',\n",
       "  'url_type': 'match',\n",
       "  'season': '2023',\n",
       "  'series': 'ICC World Test Championship',\n",
       "  'match_id': '1339610',\n",
       "  'url': 'https://www.espncricinfo.com/series/new-zealand-in-pakistan-2022-23-1339576/pakistan-vs-new-zealand-2nd-test-1339610/full-scorecard'},\n",
       " {'site': 'ESPNCricInfo',\n",
       "  'url_type': 'match',\n",
       "  'season': '2023',\n",
       "  'series': 'ICC World Test Championship',\n",
       "  'match_id': '1317494',\n",
       "  'url': 'https://www.espncricinfo.com/series/south-africa-in-australia-2022-23-1317472/australia-vs-south-africa-3rd-test-1317494/full-scorecard'},\n",
       " {'site': 'ESPNCricInfo',\n",
       "  'url_type': 'match',\n",
       "  'season': '2023',\n",
       "  'series': 'ICC World Test Championship',\n",
       "  'match_id': '1348652',\n",
       "  'url': 'https://www.espncricinfo.com/series/australia-in-india-2022-23-1348637/india-vs-australia-1st-test-1348652/full-scorecard'},\n",
       " {'site': 'ESPNCricInfo',\n",
       "  'url_type': 'match',\n",
       "  'season': '2023',\n",
       "  'series': 'ICC World Test Championship',\n",
       "  'match_id': '1348653',\n",
       "  'url': 'https://www.espncricinfo.com/series/australia-in-india-2022-23-1348637/india-vs-australia-2nd-test-1348653/full-scorecard'},\n",
       " {'site': 'ESPNCricInfo',\n",
       "  'url_type': 'match',\n",
       "  'season': '2023',\n",
       "  'series': 'ICC World Test Championship',\n",
       "  'match_id': '1339599',\n",
       "  'url': 'https://www.espncricinfo.com/series/west-indies-in-south-africa-2022-23-1339568/south-africa-vs-west-indies-1st-test-1339599/full-scorecard'},\n",
       " {'site': 'ESPNCricInfo',\n",
       "  'url_type': 'match',\n",
       "  'season': '2023',\n",
       "  'series': 'ICC World Test Championship',\n",
       "  'match_id': '1348654',\n",
       "  'url': 'https://www.espncricinfo.com/series/australia-in-india-2022-23-1348637/india-vs-australia-3rd-test-1348654/full-scorecard'},\n",
       " {'site': 'ESPNCricInfo',\n",
       "  'url_type': 'match',\n",
       "  'season': '2023',\n",
       "  'series': 'ICC World Test Championship',\n",
       "  'match_id': '1339600',\n",
       "  'url': 'https://www.espncricinfo.com/series/west-indies-in-south-africa-2022-23-1339568/south-africa-vs-west-indies-2nd-test-1339600/full-scorecard'},\n",
       " {'site': 'ESPNCricInfo',\n",
       "  'url_type': 'match',\n",
       "  'season': '2023',\n",
       "  'series': 'ICC World Test Championship',\n",
       "  'match_id': '1322357',\n",
       "  'url': 'https://www.espncricinfo.com/series/sri-lanka-tour-of-new-zealand-2022-23-1322351/new-zealand-vs-sri-lanka-1st-test-1322357/full-scorecard'},\n",
       " {'site': 'ESPNCricInfo',\n",
       "  'url_type': 'match',\n",
       "  'season': '2023',\n",
       "  'series': 'ICC World Test Championship',\n",
       "  'match_id': '1348655',\n",
       "  'url': 'https://www.espncricinfo.com/series/australia-in-india-2022-23-1348637/india-vs-australia-4th-test-1348655/full-scorecard'},\n",
       " {'site': 'ESPNCricInfo',\n",
       "  'url_type': 'match',\n",
       "  'season': '2023',\n",
       "  'series': 'ICC World Test Championship',\n",
       "  'match_id': '1322358',\n",
       "  'url': 'https://www.espncricinfo.com/series/sri-lanka-tour-of-new-zealand-2022-23-1322351/new-zealand-vs-sri-lanka-2nd-test-1322358/full-scorecard'},\n",
       " {'site': 'ESPNCricInfo',\n",
       "  'url_type': 'match',\n",
       "  'season': '2023',\n",
       "  'series': 'ICC World Test Championship',\n",
       "  'match_id': '1358412',\n",
       "  'url': 'https://www.espncricinfo.com/series/icc-world-test-championship-2021-2023-1268315/australia-vs-india-final-1358412/full-scorecard'}]"
      ]
     },
     "execution_count": 42,
     "metadata": {},
     "output_type": "execute_result"
    }
   ],
   "source": [
    "futures[0].result()"
   ]
  },
  {
   "cell_type": "code",
   "execution_count": null,
   "id": "d877cd47-ddd2-45b1-ab0b-3d740bb9696e",
   "metadata": {},
   "outputs": [],
   "source": []
  },
  {
   "cell_type": "code",
   "execution_count": null,
   "id": "2580529f-f0cc-423f-9ac8-2dad8b009ebc",
   "metadata": {},
   "outputs": [],
   "source": []
  },
  {
   "cell_type": "code",
   "execution_count": null,
   "id": "43e3d660-3783-4b17-babe-a3e1d603f428",
   "metadata": {},
   "outputs": [],
   "source": []
  },
  {
   "cell_type": "code",
   "execution_count": null,
   "id": "c933e766-6e13-40d4-966f-29876d5827c4",
   "metadata": {},
   "outputs": [],
   "source": []
  },
  {
   "cell_type": "code",
   "execution_count": null,
   "id": "8dd4f268-455f-4ba2-8b6b-97ed5b98356b",
   "metadata": {},
   "outputs": [],
   "source": []
  },
  {
   "cell_type": "code",
   "execution_count": null,
   "id": "426a13b4-efdc-4904-910e-22ba3e5eae8e",
   "metadata": {},
   "outputs": [],
   "source": []
  },
  {
   "cell_type": "code",
   "execution_count": null,
   "id": "7ff9aeb5-5797-4d29-9f5b-c46f9a8659a8",
   "metadata": {},
   "outputs": [],
   "source": []
  },
  {
   "cell_type": "code",
   "execution_count": null,
   "id": "59b39d56-2e24-4063-a415-e50df86384eb",
   "metadata": {},
   "outputs": [],
   "source": []
  },
  {
   "cell_type": "code",
   "execution_count": null,
   "id": "d5d46d5c-a246-4837-ab51-1092705652f6",
   "metadata": {},
   "outputs": [],
   "source": []
  },
  {
   "cell_type": "code",
   "execution_count": null,
   "id": "6aeccc1f-e186-436d-9453-43da5efa5f40",
   "metadata": {},
   "outputs": [],
   "source": []
  },
  {
   "cell_type": "code",
   "execution_count": null,
   "id": "21d8b677-cdb9-4712-8cae-63dbcae8d210",
   "metadata": {},
   "outputs": [],
   "source": []
  },
  {
   "cell_type": "code",
   "execution_count": null,
   "id": "54cfa3d1-a54e-48f2-9859-8c0bccb48933",
   "metadata": {},
   "outputs": [],
   "source": []
  },
  {
   "cell_type": "code",
   "execution_count": 12,
   "id": "b9b77a57-3744-428e-a5fb-9816b4feffee",
   "metadata": {
    "execution": {
     "iopub.execute_input": "2024-02-09T19:47:53.803940Z",
     "iopub.status.busy": "2024-02-09T19:47:53.801940Z",
     "iopub.status.idle": "2024-02-09T19:47:53.825000Z",
     "shell.execute_reply": "2024-02-09T19:47:53.822192Z",
     "shell.execute_reply.started": "2024-02-09T19:47:53.803940Z"
    }
   },
   "outputs": [
    {
     "name": "stdout",
     "output_type": "stream",
     "text": [
      "<class 'pandas.core.frame.DataFrame'>\n",
      "Index: 1552 entries, 0 to 1551\n",
      "Data columns (total 7 columns):\n",
      " #   Column      Non-Null Count  Dtype  \n",
      "---  ------      --------------  -----  \n",
      " 0   site        1552 non-null   object \n",
      " 1   url_type    1552 non-null   object \n",
      " 2   season      1552 non-null   object \n",
      " 3   series      1549 non-null   object \n",
      " 4   match_id    761 non-null    object \n",
      " 5   match_attr  0 non-null      float64\n",
      " 6   url         1552 non-null   object \n",
      "dtypes: float64(1), object(6)\n",
      "memory usage: 97.0+ KB\n"
     ]
    }
   ],
   "source": [
    "df_url_single.info()"
   ]
  },
  {
   "cell_type": "code",
   "execution_count": 13,
   "id": "61f329f5-0808-4785-bc92-8efcce3ae475",
   "metadata": {
    "execution": {
     "iopub.execute_input": "2024-02-09T19:48:06.138894Z",
     "iopub.status.busy": "2024-02-09T19:48:06.138894Z",
     "iopub.status.idle": "2024-02-09T19:48:06.172628Z",
     "shell.execute_reply": "2024-02-09T19:48:06.169795Z",
     "shell.execute_reply.started": "2024-02-09T19:48:06.138894Z"
    }
   },
   "outputs": [
    {
     "name": "stdout",
     "output_type": "stream",
     "text": [
      "<class 'pandas.core.frame.DataFrame'>\n",
      "Index: 981 entries, 0 to 980\n",
      "Data columns (total 7 columns):\n",
      " #   Column      Non-Null Count  Dtype  \n",
      "---  ------      --------------  -----  \n",
      " 0   site        981 non-null    object \n",
      " 1   url_type    981 non-null    object \n",
      " 2   season      981 non-null    object \n",
      " 3   series      978 non-null    object \n",
      " 4   match_id    190 non-null    object \n",
      " 5   match_attr  0 non-null      float64\n",
      " 6   url         981 non-null    object \n",
      "dtypes: float64(1), object(6)\n",
      "memory usage: 93.6+ KB\n"
     ]
    }
   ],
   "source": [
    "df_url.info()"
   ]
  },
  {
   "cell_type": "code",
   "execution_count": null,
   "id": "17266c0f-104f-4917-9d60-b1d62b12d02b",
   "metadata": {},
   "outputs": [],
   "source": []
  },
  {
   "cell_type": "code",
   "execution_count": 14,
   "id": "9eabaf07-4545-496d-8ecd-5701254d1ffc",
   "metadata": {
    "execution": {
     "iopub.execute_input": "2024-02-09T19:50:56.476361Z",
     "iopub.status.busy": "2024-02-09T19:50:56.475364Z",
     "iopub.status.idle": "2024-02-09T19:50:58.523798Z",
     "shell.execute_reply": "2024-02-09T19:50:58.521412Z",
     "shell.execute_reply.started": "2024-02-09T19:50:56.476361Z"
    }
   },
   "outputs": [],
   "source": [
    "df_url_single.to_excel('df_url_single_processing.xlsx')"
   ]
  },
  {
   "cell_type": "code",
   "execution_count": null,
   "id": "2acbcdf9-0005-4840-983a-03f7e18acd93",
   "metadata": {},
   "outputs": [],
   "source": []
  },
  {
   "cell_type": "code",
   "execution_count": null,
   "id": "1577d3d7-c359-406c-8cc8-1841b3a33be8",
   "metadata": {},
   "outputs": [],
   "source": []
  },
  {
   "cell_type": "code",
   "execution_count": null,
   "id": "a52de5a0-225f-4c9c-ba34-c0559a67cd01",
   "metadata": {},
   "outputs": [],
   "source": []
  },
  {
   "cell_type": "code",
   "execution_count": null,
   "id": "0a7bdf5b-dbe3-40bd-8b80-09762b96d715",
   "metadata": {},
   "outputs": [],
   "source": []
  },
  {
   "cell_type": "code",
   "execution_count": null,
   "id": "b6db54a6-1955-4ea5-80a0-7a7c5a0a2f3c",
   "metadata": {},
   "outputs": [],
   "source": []
  },
  {
   "cell_type": "code",
   "execution_count": null,
   "id": "4cb51f97-1d59-40c6-b0aa-39caf2ccca5f",
   "metadata": {},
   "outputs": [],
   "source": []
  },
  {
   "cell_type": "code",
   "execution_count": null,
   "id": "257c7203-8d38-4804-a9b5-59e88e59a116",
   "metadata": {},
   "outputs": [],
   "source": []
  },
  {
   "cell_type": "code",
   "execution_count": null,
   "id": "9d37ac33-6eac-45a8-9735-f2269ad316c4",
   "metadata": {},
   "outputs": [],
   "source": []
  },
  {
   "cell_type": "code",
   "execution_count": null,
   "id": "0b9032f4-4a86-47a8-a834-dd5b6dd869eb",
   "metadata": {},
   "outputs": [],
   "source": []
  },
  {
   "cell_type": "code",
   "execution_count": null,
   "id": "95f61482-8aca-4a6d-aa6f-13968b7426ca",
   "metadata": {},
   "outputs": [],
   "source": []
  },
  {
   "cell_type": "code",
   "execution_count": null,
   "id": "0d4f862f-3424-4562-9158-12725c64d216",
   "metadata": {},
   "outputs": [],
   "source": []
  },
  {
   "cell_type": "code",
   "execution_count": null,
   "id": "575f3246-37b1-4704-aeb5-dbd50ce749c7",
   "metadata": {},
   "outputs": [],
   "source": []
  },
  {
   "cell_type": "code",
   "execution_count": null,
   "id": "3576bd96-ab9e-4cd6-a2f3-41a14696af38",
   "metadata": {},
   "outputs": [],
   "source": []
  },
  {
   "cell_type": "code",
   "execution_count": null,
   "id": "1568da7d-7d83-4b45-a607-f5d89022fa7c",
   "metadata": {},
   "outputs": [],
   "source": []
  },
  {
   "cell_type": "code",
   "execution_count": null,
   "id": "10d6c561-7e03-4fc5-a9df-13589deed70a",
   "metadata": {},
   "outputs": [],
   "source": []
  },
  {
   "cell_type": "code",
   "execution_count": null,
   "id": "91d53d4f-0447-4a95-ac26-7b3c1be69d10",
   "metadata": {},
   "outputs": [],
   "source": []
  },
  {
   "cell_type": "code",
   "execution_count": null,
   "id": "5bf25181-dc77-4d24-a81c-8f4ad8c6dddf",
   "metadata": {},
   "outputs": [],
   "source": []
  },
  {
   "cell_type": "code",
   "execution_count": null,
   "id": "f4a8e8f3-b4f7-4b6f-8c1e-4fdc88d9881c",
   "metadata": {},
   "outputs": [],
   "source": []
  },
  {
   "cell_type": "code",
   "execution_count": null,
   "id": "f51e3208-74b8-41f2-a858-006c9b779870",
   "metadata": {},
   "outputs": [],
   "source": []
  },
  {
   "cell_type": "code",
   "execution_count": null,
   "id": "208464bf-3a28-4900-8ceb-e59835f60dd6",
   "metadata": {},
   "outputs": [],
   "source": []
  },
  {
   "cell_type": "code",
   "execution_count": null,
   "id": "d3c80c67-4a71-4069-b43c-1035f49b8582",
   "metadata": {},
   "outputs": [],
   "source": []
  },
  {
   "cell_type": "code",
   "execution_count": null,
   "id": "8439dec2-5d75-4cc7-9a2c-b4fa3a4fcf3a",
   "metadata": {},
   "outputs": [],
   "source": []
  },
  {
   "cell_type": "code",
   "execution_count": null,
   "id": "127f7725-37a4-4f1e-9380-6fc368e5d3ec",
   "metadata": {},
   "outputs": [],
   "source": []
  },
  {
   "cell_type": "code",
   "execution_count": null,
   "id": "2dcac35a-a3c6-4bfe-9926-be16ebb70573",
   "metadata": {},
   "outputs": [],
   "source": []
  },
  {
   "cell_type": "code",
   "execution_count": null,
   "id": "7ebeec25-32b3-4485-b708-6e6f43f98925",
   "metadata": {},
   "outputs": [],
   "source": []
  },
  {
   "cell_type": "code",
   "execution_count": null,
   "id": "ad853492-767f-442e-82fb-1a08c92d44c8",
   "metadata": {},
   "outputs": [],
   "source": []
  },
  {
   "cell_type": "code",
   "execution_count": null,
   "id": "43e23f80-68cc-40ae-8675-4e39bf03f62b",
   "metadata": {},
   "outputs": [],
   "source": []
  },
  {
   "cell_type": "code",
   "execution_count": null,
   "id": "b6a3ad4c-7e82-428b-a1e6-f7cfb64102a5",
   "metadata": {},
   "outputs": [],
   "source": []
  },
  {
   "cell_type": "code",
   "execution_count": null,
   "id": "88cba99b-4836-4073-953b-5b0ad92d2ec7",
   "metadata": {},
   "outputs": [],
   "source": []
  },
  {
   "cell_type": "code",
   "execution_count": null,
   "id": "cb77ea5e-92f7-4026-b5a3-19aee4e665b6",
   "metadata": {},
   "outputs": [],
   "source": []
  },
  {
   "cell_type": "code",
   "execution_count": null,
   "id": "3aa85c39-5a16-49c6-8d13-8dcf1f33a49f",
   "metadata": {},
   "outputs": [],
   "source": []
  },
  {
   "cell_type": "code",
   "execution_count": null,
   "id": "084c2a8c-ffa4-42a8-bc1b-d12c710198cc",
   "metadata": {},
   "outputs": [],
   "source": []
  },
  {
   "cell_type": "code",
   "execution_count": null,
   "id": "ea5fec98-457f-404f-8025-3dfae9ba9758",
   "metadata": {},
   "outputs": [],
   "source": []
  },
  {
   "cell_type": "code",
   "execution_count": null,
   "id": "53c63158-8631-4223-ab31-10faed2b21b3",
   "metadata": {},
   "outputs": [],
   "source": []
  },
  {
   "cell_type": "code",
   "execution_count": null,
   "id": "2a387f2a-5559-482a-b99d-5358ebdcdb01",
   "metadata": {},
   "outputs": [],
   "source": []
  },
  {
   "cell_type": "code",
   "execution_count": null,
   "id": "c96e6988-4710-4286-8fdc-09f8fca4a551",
   "metadata": {},
   "outputs": [],
   "source": []
  },
  {
   "cell_type": "code",
   "execution_count": null,
   "id": "761497fc-51e5-4ec4-90f4-485b4060b70e",
   "metadata": {},
   "outputs": [],
   "source": []
  },
  {
   "cell_type": "code",
   "execution_count": null,
   "id": "e8ffae95-eba0-464a-ae68-a377b38a45fe",
   "metadata": {},
   "outputs": [],
   "source": []
  },
  {
   "cell_type": "code",
   "execution_count": null,
   "id": "0d5339c9-8a97-4f87-879a-c9a1cea7badf",
   "metadata": {},
   "outputs": [],
   "source": []
  },
  {
   "cell_type": "code",
   "execution_count": null,
   "id": "144ceb2b-ce21-4a17-83c6-c9a1d53df023",
   "metadata": {},
   "outputs": [],
   "source": []
  },
  {
   "cell_type": "code",
   "execution_count": null,
   "id": "9f853e23-a661-4c5b-b767-6b6cc53e5963",
   "metadata": {},
   "outputs": [],
   "source": []
  },
  {
   "cell_type": "code",
   "execution_count": null,
   "id": "5be95ad9-efab-4ee3-9c67-d84286ee974f",
   "metadata": {},
   "outputs": [],
   "source": []
  },
  {
   "cell_type": "code",
   "execution_count": null,
   "id": "fbeb00ef-e864-4fcb-be7d-1f371f1ff724",
   "metadata": {},
   "outputs": [],
   "source": []
  },
  {
   "cell_type": "code",
   "execution_count": null,
   "id": "e1c56051-7f96-4693-a29e-c83ce67c85ec",
   "metadata": {},
   "outputs": [],
   "source": []
  },
  {
   "cell_type": "code",
   "execution_count": null,
   "id": "3a83665e-c258-439b-8e1d-5481ae87aacb",
   "metadata": {},
   "outputs": [],
   "source": []
  },
  {
   "cell_type": "code",
   "execution_count": null,
   "id": "5cbc2d00-2a69-42bf-b9e7-32f991e716d7",
   "metadata": {},
   "outputs": [],
   "source": []
  },
  {
   "cell_type": "code",
   "execution_count": null,
   "id": "bae2755a-939d-48bb-ba74-7bfe2257be64",
   "metadata": {},
   "outputs": [],
   "source": []
  },
  {
   "cell_type": "code",
   "execution_count": null,
   "id": "3f7dd1fa-8db3-40c3-8ae5-f90de0da70c8",
   "metadata": {},
   "outputs": [],
   "source": []
  },
  {
   "cell_type": "code",
   "execution_count": null,
   "id": "0bfd8516-3fb3-42ed-8da2-ce7c6423d50a",
   "metadata": {},
   "outputs": [],
   "source": []
  },
  {
   "cell_type": "code",
   "execution_count": null,
   "id": "2ed55ca4-be66-41e9-a676-6daf1eab5fe6",
   "metadata": {},
   "outputs": [],
   "source": []
  },
  {
   "cell_type": "code",
   "execution_count": null,
   "id": "e9737577-87da-4c57-a884-f0fc614d9dd7",
   "metadata": {},
   "outputs": [],
   "source": []
  },
  {
   "cell_type": "code",
   "execution_count": null,
   "id": "9f619f31-cb22-4762-9855-bbefe9c36d4c",
   "metadata": {},
   "outputs": [],
   "source": []
  },
  {
   "cell_type": "code",
   "execution_count": null,
   "id": "9531f690-dab2-47f2-bd4d-a9ca4ee4ed2d",
   "metadata": {},
   "outputs": [],
   "source": []
  },
  {
   "cell_type": "code",
   "execution_count": null,
   "id": "ee3b4c5c-4b33-4b16-9d40-52689d23010f",
   "metadata": {},
   "outputs": [],
   "source": []
  },
  {
   "cell_type": "code",
   "execution_count": null,
   "id": "7b026e57-801c-477f-9558-ea93268447cd",
   "metadata": {},
   "outputs": [],
   "source": []
  },
  {
   "cell_type": "code",
   "execution_count": null,
   "id": "93c1d51d-007d-42c5-bd05-e88a9d0c9cbc",
   "metadata": {},
   "outputs": [],
   "source": []
  },
  {
   "cell_type": "code",
   "execution_count": null,
   "id": "d27afe3c-97c7-46ae-9adc-61780d4f2d91",
   "metadata": {},
   "outputs": [],
   "source": []
  },
  {
   "cell_type": "code",
   "execution_count": null,
   "id": "1027c91e-c4a9-4dd9-8fc7-f19544fd78bd",
   "metadata": {},
   "outputs": [],
   "source": []
  },
  {
   "cell_type": "code",
   "execution_count": null,
   "id": "def6163d-2469-4191-98e2-d1209a336b2e",
   "metadata": {},
   "outputs": [],
   "source": [
    "series_list = df_url[df_url['url_type']=='series'][['season', 'series', 'url']]\n",
    "series_list = ['https://www.espncricinfo.com/series/icc-cricket-world-cup-2023-24-1367856/match-schedule-fixtures'] #for testing"
   ]
  },
  {
   "cell_type": "code",
   "execution_count": null,
   "id": "2e236064-3605-4a7b-b90c-9b412022f971",
   "metadata": {},
   "outputs": [],
   "source": [
    "#match_set = {}\n",
    "for batch in series_list:\n",
    "    #for series in series_set[batch]:\n",
    "    for series in series_set[batch][2:3]:\n",
    "        link1 = series[0].replace(series[0].split('/')[-1], 'match-results') # completed series\n",
    "        link2 = series[0].replace(series[0].split('/')[-1], 'match-schedule-fixtures') # ongoing, future series\n",
    "        link3 = series[0].replace(series[0].split('/')[-1], 'match-schedule-results') # alternate link\n",
    "        response1 = requests.get(link1)\n",
    "        response2 = requests.get(link2)\n",
    "        if response1.status_code != 404:\n",
    "            series_completed = True\n",
    "            soup = BeautifulSoup(response1.content, 'lxml')\n",
    "            divs = soup.find_all('div', class_='ds-p-0') #if this doesnt work use class \"ds-relative\"\n",
    "            for div in divs:\n",
    "                for a in div.find_all('a', href = True):\n",
    "                    if (('/live-cricket-score' in a['href']) or ('/full-scorecard' in a['href'])):\n",
    "                        match_set = {\n",
    "                            'site': 'ESPNCricInfo',\n",
    "                            'url_type': 'match',\n",
    "                            'season': \n",
    "                        }\n",
    "                match_set[series[0] + '_matches'] = [a['href'] for a in div.find_all('a', href = True) if ('/full-scorecard' in a['href'] and ]\n",
    "        elif:\n",
    "        #     response = requests.get(link2)\n",
    "        #     series_completed = False\n",
    "        #     soup = BeautifulSoup(response.content, 'lxml')\n",
    "            \n",
    "        #working_url = link1 if series_completed else link2        "
   ]
  },
  {
   "cell_type": "code",
   "execution_count": null,
   "id": "fbb4013a-1e5d-4dc6-b9b6-9176e7153dbb",
   "metadata": {},
   "outputs": [],
   "source": [
    "series_set['2024_series_set']"
   ]
  },
  {
   "cell_type": "code",
   "execution_count": null,
   "id": "45db00ad-cb5c-489f-b84f-f2d993691c19",
   "metadata": {},
   "outputs": [],
   "source": [
    "[a.text for a in soup.find_all('a', href = True) if '/full-scorecard' in a['href']]"
   ]
  },
  {
   "cell_type": "code",
   "execution_count": null,
   "id": "001f13c6-44c1-4cb5-85ec-1148522b9421",
   "metadata": {},
   "outputs": [],
   "source": [
    "soup.find_all('a', href = True)"
   ]
  },
  {
   "cell_type": "code",
   "execution_count": null,
   "id": "5fcd0d8d-114d-434f-9360-483af082dca4",
   "metadata": {},
   "outputs": [],
   "source": [
    "#mydivs = soup.find_all(\"div\", {\"class\": \"ds-relative\"})\n",
    "#mydivs = soup.find_all(\"div\", {\"class\": \"ds-p-0\"})\n",
    "specific_div = soup.find_all('div', class_='ds-p-0')"
   ]
  },
  {
   "cell_type": "code",
   "execution_count": null,
   "id": "1a722def-196f-4fc5-9599-00782155ad1c",
   "metadata": {},
   "outputs": [],
   "source": [
    "for div in specific_div:\n",
    "    #print([a['href'] for a in div.find_all('a', href = True) if (('/live-cricket-score' in a['href']) or ('/full-scorecard' in a['href']))])\n",
    "    for a in div.find_all('a', href = True):\n",
    "        if (('/live-cricket-score' in a['href']) or ('/full-scorecard' in a['href'])):\n",
    "            print(a['href'])"
   ]
  },
  {
   "cell_type": "code",
   "execution_count": null,
   "id": "26902282-d07a-4edf-a8a6-a8c990c7ea35",
   "metadata": {},
   "outputs": [],
   "source": [
    "link1.split(\"/\")[-2].split(\"-\")[-1]"
   ]
  },
  {
   "cell_type": "code",
   "execution_count": null,
   "id": "e8d3154f-921e-4b8e-b615-0b74e524630a",
   "metadata": {},
   "outputs": [],
   "source": [
    "for div in specific_div:\n",
    "    print(div)"
   ]
  },
  {
   "cell_type": "code",
   "execution_count": null,
   "id": "37fc1cc8-c091-48e3-9ae2-97359acc61c8",
   "metadata": {},
   "outputs": [],
   "source": [
    "link1"
   ]
  },
  {
   "cell_type": "code",
   "execution_count": null,
   "id": "b2753546-040e-4d9c-bc21-9c943a4d6653",
   "metadata": {},
   "outputs": [],
   "source": [
    "\"https://www.espncricinfo.com/series/sri-lanka-in-england-2024-1385672/england-vs-sri-lanka-1st-test-1385694/live-cricket-score\""
   ]
  },
  {
   "cell_type": "code",
   "execution_count": null,
   "id": "a38cb3d4-b8a3-4e85-8643-d830e0b5eb36",
   "metadata": {},
   "outputs": [],
   "source": [
    "soup"
   ]
  },
  {
   "cell_type": "code",
   "execution_count": null,
   "id": "449870b2-4e57-4aff-ac8d-4b92ce5da720",
   "metadata": {},
   "outputs": [],
   "source": []
  },
  {
   "cell_type": "code",
   "execution_count": null,
   "id": "aa2a04f1-c65e-4ced-9858-4b6e087d1600",
   "metadata": {},
   "outputs": [],
   "source": []
  },
  {
   "cell_type": "code",
   "execution_count": null,
   "id": "7c58edbb-1dd1-4876-b7ad-7a4d8c008456",
   "metadata": {},
   "outputs": [],
   "source": []
  },
  {
   "cell_type": "code",
   "execution_count": null,
   "id": "97313060-9cb8-4a1a-81cf-03e1f67389f7",
   "metadata": {},
   "outputs": [],
   "source": []
  },
  {
   "cell_type": "code",
   "execution_count": null,
   "id": "ec9f6a8b-de98-4685-af1b-e38efcf22610",
   "metadata": {},
   "outputs": [],
   "source": [
    "list(df_url[df_url['url_type'] == 'series'][['url','series']].iloc[2])"
   ]
  },
  {
   "cell_type": "code",
   "execution_count": null,
   "id": "21150e8c-85ba-484e-8fbf-cf1542a80732",
   "metadata": {},
   "outputs": [],
   "source": []
  },
  {
   "cell_type": "code",
   "execution_count": null,
   "id": "8cd15954-b804-488f-9c9a-cd866cdec40d",
   "metadata": {},
   "outputs": [],
   "source": []
  },
  {
   "cell_type": "code",
   "execution_count": null,
   "id": "ea1eeee8-1db7-41b7-87be-eae918a9abbe",
   "metadata": {},
   "outputs": [],
   "source": []
  },
  {
   "cell_type": "code",
   "execution_count": null,
   "id": "2eb93ce5-f589-40ac-9b4f-c08bbb96d3ae",
   "metadata": {},
   "outputs": [],
   "source": []
  },
  {
   "cell_type": "code",
   "execution_count": null,
   "id": "fbc9d620-f7b4-4052-b935-c3d445218bef",
   "metadata": {},
   "outputs": [],
   "source": []
  },
  {
   "cell_type": "code",
   "execution_count": null,
   "id": "c8391007-d026-44dd-a87e-1277d9feb4ac",
   "metadata": {},
   "outputs": [],
   "source": []
  },
  {
   "cell_type": "code",
   "execution_count": null,
   "id": "1a058d86-a363-4b83-8035-3670423545c2",
   "metadata": {},
   "outputs": [],
   "source": []
  },
  {
   "cell_type": "code",
   "execution_count": null,
   "id": "4879c746-9afa-49fa-98fb-1c69db09c04c",
   "metadata": {},
   "outputs": [],
   "source": [
    "# Reliving the horrifying world cup memories once again\n",
    "\n",
    "#series_list = list(df_url[df_url['url_type'] == 'series']['url'])\n",
    "series_list = ['https://www.espncricinfo.com/series/icc-cricket-world-cup-2023-24-1367856/match-schedule-fixtures']"
   ]
  },
  {
   "cell_type": "code",
   "execution_count": null,
   "id": "e3124863-26f4-4496-93da-4c9e0ae43e06",
   "metadata": {},
   "outputs": [],
   "source": [
    "# If series is completed the endpoint is 'match-results'\n",
    "# else the endpoint is 'match-schedule-fixtures'\n",
    "match_set = {}\n",
    "for series_url in series_list:\n",
    "    link1 = series_list[0].replace(series_list[0].split('/')[-1], 'match-results')\n",
    "    link2 = series_list[0].replace(series_list[0].split('/')[-1], 'match-schedule-results')\n",
    "    response = requests.get(link1)\n",
    "    if response.status_code != 404:\n",
    "        series_completed = True\n",
    "        soup = BeautifulSoup(response.content, 'lxml')\n",
    "        match_set[str()] = [a['href'] for a in soup.find_all('a', href = True) if '/'.join(link1.split('/')[3:-1]) in a['href'] and '/full-scorecard' in a['href']]\n",
    "    else:\n",
    "        response = requests.get(link2)\n",
    "        series_completed = False\n",
    "        soup = BeautifulSoup(response.content, 'lxml')\n",
    "        \n",
    "    working_url = link1 if series_completed else link2"
   ]
  },
  {
   "cell_type": "code",
   "execution_count": null,
   "id": "8c2be7f5-00e5-4e62-ac13-86135ab7b429",
   "metadata": {},
   "outputs": [],
   "source": [
    "soup.find_all('a', href = True)"
   ]
  },
  {
   "cell_type": "code",
   "execution_count": null,
   "id": "e8c0b9c6-ece4-49ed-a07d-a66fa7b21ca7",
   "metadata": {},
   "outputs": [],
   "source": []
  },
  {
   "cell_type": "code",
   "execution_count": null,
   "id": "206da25e-8073-45cd-bb7d-0cec55a8ac78",
   "metadata": {},
   "outputs": [],
   "source": [
    "desired_url = '/'.join(series_list[0].split('/')[3:-1])\n",
    "desired_url"
   ]
  },
  {
   "cell_type": "code",
   "execution_count": null,
   "id": "9aa0fb45-0e5c-4b98-bcb0-bb76e9e2aa3c",
   "metadata": {},
   "outputs": [],
   "source": [
    "series_list[0].split('/')"
   ]
  },
  {
   "cell_type": "code",
   "execution_count": null,
   "id": "32062f32-a195-4c6f-be9b-994017547561",
   "metadata": {},
   "outputs": [],
   "source": [
    "x = [a['href'] for a in soup.find_all('a', href = True) if '/'.join(link1.split('/')[3:-1]) in a['href'] and '/full-scorecard' in a['href']]\n",
    "x"
   ]
  },
  {
   "cell_type": "code",
   "execution_count": null,
   "id": "f99e9344-2057-4f5c-bc11-b806e725f1c6",
   "metadata": {},
   "outputs": [],
   "source": []
  },
  {
   "cell_type": "code",
   "execution_count": null,
   "id": "553d0190-f7b2-45bd-9360-ba52d216e3c5",
   "metadata": {},
   "outputs": [],
   "source": []
  },
  {
   "cell_type": "code",
   "execution_count": null,
   "id": "cfa74ecc-31c2-48ef-9add-024dc3af3e5f",
   "metadata": {},
   "outputs": [],
   "source": []
  },
  {
   "cell_type": "code",
   "execution_count": null,
   "id": "f221a016-e4d2-48de-9d46-8f09061efb87",
   "metadata": {},
   "outputs": [],
   "source": []
  },
  {
   "cell_type": "code",
   "execution_count": null,
   "id": "ed62fe78-43df-4cc5-990d-768d21cf2eff",
   "metadata": {},
   "outputs": [],
   "source": []
  },
  {
   "cell_type": "code",
   "execution_count": null,
   "id": "08ad2950-c4ba-42a7-86a1-9d3a53d73937",
   "metadata": {},
   "outputs": [],
   "source": []
  },
  {
   "cell_type": "code",
   "execution_count": null,
   "id": "b1481861-de1b-460e-aaeb-4f221de193ac",
   "metadata": {},
   "outputs": [],
   "source": []
  },
  {
   "cell_type": "code",
   "execution_count": null,
   "id": "ed5314b8-eddf-4a2e-90f9-3a9d18c437a4",
   "metadata": {},
   "outputs": [],
   "source": []
  },
  {
   "cell_type": "code",
   "execution_count": null,
   "id": "2c59e310-15ca-4967-9ad4-531578ee77ce",
   "metadata": {},
   "outputs": [],
   "source": []
  },
  {
   "cell_type": "code",
   "execution_count": null,
   "id": "cecdcc1b-cf26-404c-b0fb-9ce6012f501e",
   "metadata": {},
   "outputs": [],
   "source": []
  },
  {
   "cell_type": "code",
   "execution_count": null,
   "id": "23a8ab58-dc51-410b-afb5-bf41977de8c5",
   "metadata": {},
   "outputs": [],
   "source": []
  },
  {
   "cell_type": "code",
   "execution_count": null,
   "id": "7ec71228-473f-4ada-aa4f-9c9490ff582a",
   "metadata": {},
   "outputs": [],
   "source": []
  },
  {
   "cell_type": "code",
   "execution_count": null,
   "id": "a5b7583c-f599-4090-916f-3c22ae2d41f7",
   "metadata": {},
   "outputs": [],
   "source": []
  },
  {
   "cell_type": "code",
   "execution_count": null,
   "id": "8aa00bd8-91ee-4300-bff5-878d727e932b",
   "metadata": {},
   "outputs": [],
   "source": [
    "for season in series_set.keys():\n",
    "    for series in series_set[season]:\n",
    "        #print(series)"
   ]
  },
  {
   "cell_type": "code",
   "execution_count": null,
   "id": "0474b535-2f5c-49bd-bdbf-5f132c695b44",
   "metadata": {},
   "outputs": [],
   "source": [
    "for series in series_set['2024_series_set']:\n",
    "    print(series[0])"
   ]
  },
  {
   "cell_type": "code",
   "execution_count": null,
   "id": "77b120bd-aeaa-4f19-b0bb-e183718a585d",
   "metadata": {},
   "outputs": [],
   "source": []
  },
  {
   "cell_type": "code",
   "execution_count": null,
   "id": "67888d13-f0f6-49c3-9d9d-0656ad5db14a",
   "metadata": {},
   "outputs": [],
   "source": []
  }
 ],
 "metadata": {
  "kernelspec": {
   "display_name": "Python 3 (ipykernel)",
   "language": "python",
   "name": "python3"
  },
  "language_info": {
   "codemirror_mode": {
    "name": "ipython",
    "version": 3
   },
   "file_extension": ".py",
   "mimetype": "text/x-python",
   "name": "python",
   "nbconvert_exporter": "python",
   "pygments_lexer": "ipython3",
   "version": "3.11.5"
  }
 },
 "nbformat": 4,
 "nbformat_minor": 5
}
