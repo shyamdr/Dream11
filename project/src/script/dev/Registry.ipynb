{
 "cells": [
  {
   "cell_type": "code",
   "execution_count": 1,
   "id": "c6a128dc",
   "metadata": {
    "ExecuteTime": {
     "end_time": "2024-01-20T09:26:51.711961Z",
     "start_time": "2024-01-20T09:26:51.020093Z"
    },
    "execution": {
     "iopub.execute_input": "2024-02-24T10:49:55.856947Z",
     "iopub.status.busy": "2024-02-24T10:49:55.855947Z",
     "iopub.status.idle": "2024-02-24T10:49:56.988883Z",
     "shell.execute_reply": "2024-02-24T10:49:56.987842Z",
     "shell.execute_reply.started": "2024-02-24T10:49:55.856947Z"
    }
   },
   "outputs": [],
   "source": [
    "import pandas as pd"
   ]
  },
  {
   "cell_type": "code",
   "execution_count": 2,
   "id": "65b2a2fb",
   "metadata": {
    "ExecuteTime": {
     "end_time": "2024-01-20T09:26:52.565816Z",
     "start_time": "2024-01-20T09:26:51.711961Z"
    },
    "execution": {
     "iopub.execute_input": "2024-02-24T10:49:56.993423Z",
     "iopub.status.busy": "2024-02-24T10:49:56.992429Z",
     "iopub.status.idle": "2024-02-24T10:49:58.343983Z",
     "shell.execute_reply": "2024-02-24T10:49:58.341955Z",
     "shell.execute_reply.started": "2024-02-24T10:49:56.993423Z"
    }
   },
   "outputs": [],
   "source": [
    "%run config_psql.ipynb"
   ]
  },
  {
   "cell_type": "code",
   "execution_count": 3,
   "id": "50546e3d",
   "metadata": {
    "ExecuteTime": {
     "end_time": "2024-01-20T09:26:55.887971Z",
     "start_time": "2024-01-20T09:26:52.569929Z"
    },
    "execution": {
     "iopub.execute_input": "2024-02-24T10:49:58.346988Z",
     "iopub.status.busy": "2024-02-24T10:49:58.345984Z",
     "iopub.status.idle": "2024-02-24T10:50:01.312106Z",
     "shell.execute_reply": "2024-02-24T10:50:01.310191Z",
     "shell.execute_reply.started": "2024-02-24T10:49:58.346988Z"
    }
   },
   "outputs": [],
   "source": [
    "url = \"https://cricsheet.org/register/people.csv\"\n",
    "df_people = pd.read_csv(url, dtype = str)"
   ]
  },
  {
   "cell_type": "code",
   "execution_count": 4,
   "id": "9bd4316e",
   "metadata": {
    "ExecuteTime": {
     "end_time": "2024-01-20T09:26:57.594445Z",
     "start_time": "2024-01-20T09:26:55.895200Z"
    },
    "execution": {
     "iopub.execute_input": "2024-02-24T10:50:01.316120Z",
     "iopub.status.busy": "2024-02-24T10:50:01.315125Z",
     "iopub.status.idle": "2024-02-24T10:50:03.079327Z",
     "shell.execute_reply": "2024-02-24T10:50:03.077307Z",
     "shell.execute_reply.started": "2024-02-24T10:50:01.316120Z"
    }
   },
   "outputs": [],
   "source": [
    "url = \"https://cricsheet.org/register/names.csv\"\n",
    "df_name = pd.read_csv(url)"
   ]
  },
  {
   "cell_type": "code",
   "execution_count": 5,
   "id": "1ff5d158",
   "metadata": {
    "ExecuteTime": {
     "end_time": "2024-01-20T09:27:07.840125Z",
     "start_time": "2024-01-20T09:26:57.600057Z"
    },
    "code_folding": [],
    "execution": {
     "iopub.execute_input": "2024-02-24T10:50:03.082129Z",
     "iopub.status.busy": "2024-02-24T10:50:03.082129Z",
     "iopub.status.idle": "2024-02-24T10:50:09.612333Z",
     "shell.execute_reply": "2024-02-24T10:50:09.612333Z",
     "shell.execute_reply.started": "2024-02-24T10:50:03.082129Z"
    }
   },
   "outputs": [],
   "source": [
    "with engine.connect() as conn:\n",
    "    conn.execute(\"TRUNCATE TABLE stg.people CASCADE\")\n",
    "\n",
    "count_rows = df_people.to_sql('people', schema = 'stg', con=engine, if_exists='append', method = 'multi', index=False)"
   ]
  },
  {
   "cell_type": "code",
   "execution_count": 6,
   "id": "6ad0343a",
   "metadata": {
    "ExecuteTime": {
     "end_time": "2024-01-20T09:27:08.664182Z",
     "start_time": "2024-01-20T09:27:07.859101Z"
    },
    "execution": {
     "iopub.execute_input": "2024-02-24T10:50:09.616656Z",
     "iopub.status.busy": "2024-02-24T10:50:09.612333Z",
     "iopub.status.idle": "2024-02-24T10:50:10.229420Z",
     "shell.execute_reply": "2024-02-24T10:50:10.229420Z",
     "shell.execute_reply.started": "2024-02-24T10:50:09.616656Z"
    }
   },
   "outputs": [],
   "source": [
    "with engine.connect() as conn:\n",
    "    conn.execute(\"TRUNCATE TABLE stg.name\")\n",
    "\n",
    "count_rows = df_name.to_sql('name', schema = 'stg', con=engine, if_exists='append', method = 'multi', index=False)"
   ]
  },
  {
   "cell_type": "code",
   "execution_count": 7,
   "id": "f1135679",
   "metadata": {
    "ExecuteTime": {
     "end_time": "2024-01-20T09:27:08.820264Z",
     "start_time": "2024-01-20T09:27:08.668692Z"
    },
    "execution": {
     "iopub.execute_input": "2024-02-24T10:50:10.230932Z",
     "iopub.status.busy": "2024-02-24T10:50:10.230932Z",
     "iopub.status.idle": "2024-02-24T10:50:10.305137Z",
     "shell.execute_reply": "2024-02-24T10:50:10.305137Z",
     "shell.execute_reply.started": "2024-02-24T10:50:10.230932Z"
    }
   },
   "outputs": [],
   "source": [
    "with engine.connect() as conn:\n",
    "    conn.execution_options(isolation_level = \"AUTOCOMMIT\")\n",
    "    with conn.begin():\n",
    "        conn.execute(\"CALL dwh.LoadRegistry()\") "
   ]
  }
 ],
 "metadata": {
  "kernelspec": {
   "display_name": "Python 3 (ipykernel)",
   "language": "python",
   "name": "python3"
  },
  "language_info": {
   "codemirror_mode": {
    "name": "ipython",
    "version": 3
   },
   "file_extension": ".py",
   "mimetype": "text/x-python",
   "name": "python",
   "nbconvert_exporter": "python",
   "pygments_lexer": "ipython3",
   "version": "3.11.5"
  }
 },
 "nbformat": 4,
 "nbformat_minor": 5
}
