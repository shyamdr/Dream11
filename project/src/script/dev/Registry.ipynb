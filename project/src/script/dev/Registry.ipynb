{
 "cells": [
  {
   "cell_type": "code",
   "execution_count": 1,
   "id": "c6a128dc",
   "metadata": {
    "ExecuteTime": {
     "end_time": "2024-01-20T09:26:51.711961Z",
     "start_time": "2024-01-20T09:26:51.020093Z"
    }
   },
   "outputs": [],
   "source": [
    "import pandas as pd"
   ]
  },
  {
   "cell_type": "code",
   "execution_count": 2,
   "id": "65b2a2fb",
   "metadata": {
    "ExecuteTime": {
     "end_time": "2024-01-20T09:26:52.565816Z",
     "start_time": "2024-01-20T09:26:51.711961Z"
    }
   },
   "outputs": [],
   "source": [
    "%run config_psql.ipynb"
   ]
  },
  {
   "cell_type": "code",
   "execution_count": 3,
   "id": "50546e3d",
   "metadata": {
    "ExecuteTime": {
     "end_time": "2024-01-20T09:26:55.887971Z",
     "start_time": "2024-01-20T09:26:52.569929Z"
    }
   },
   "outputs": [],
   "source": [
    "url = \"https://cricsheet.org/register/people.csv\"\n",
    "df_people = pd.read_csv(url, dtype = str)"
   ]
  },
  {
   "cell_type": "code",
   "execution_count": 4,
   "id": "9bd4316e",
   "metadata": {
    "ExecuteTime": {
     "end_time": "2024-01-20T09:26:57.594445Z",
     "start_time": "2024-01-20T09:26:55.895200Z"
    }
   },
   "outputs": [],
   "source": [
    "url = \"https://cricsheet.org/register/names.csv\"\n",
    "df_name = pd.read_csv(url)"
   ]
  },
  {
   "cell_type": "code",
   "execution_count": 5,
   "id": "1ff5d158",
   "metadata": {
    "ExecuteTime": {
     "end_time": "2024-01-20T09:27:07.840125Z",
     "start_time": "2024-01-20T09:26:57.600057Z"
    },
    "code_folding": []
   },
   "outputs": [],
   "source": [
    "with engine.connect() as conn:\n",
    "    conn.execute(\"TRUNCATE TABLE stg.people CASCADE\")\n",
    "\n",
    "count_rows = df_people.to_sql('people', schema = 'stg', con=engine, if_exists='append', method = 'multi', index=False)"
   ]
  },
  {
   "cell_type": "code",
   "execution_count": 6,
   "id": "6ad0343a",
   "metadata": {
    "ExecuteTime": {
     "end_time": "2024-01-20T09:27:08.664182Z",
     "start_time": "2024-01-20T09:27:07.859101Z"
    }
   },
   "outputs": [],
   "source": [
    "with engine.connect() as conn:\n",
    "    conn.execute(\"TRUNCATE TABLE stg.name\")\n",
    "\n",
    "count_rows = df_name.to_sql('name', schema = 'stg', con=engine, if_exists='append', method = 'multi', index=False)"
   ]
  },
  {
   "cell_type": "code",
   "execution_count": 7,
   "id": "f1135679",
   "metadata": {
    "ExecuteTime": {
     "end_time": "2024-01-20T09:27:08.820264Z",
     "start_time": "2024-01-20T09:27:08.668692Z"
    }
   },
   "outputs": [],
   "source": [
    "with engine.connect() as conn:\n",
    "    conn.execution_options(isolation_level = \"AUTOCOMMIT\")\n",
    "    with conn.begin():\n",
    "        conn.execute(\"CALL dwh.LoadRegistry()\") "
   ]
  }
 ],
 "metadata": {
  "kernelspec": {
   "display_name": "Python 3 (ipykernel)",
   "language": "python",
   "name": "python3"
  },
  "language_info": {
   "codemirror_mode": {
    "name": "ipython",
    "version": 3
   },
   "file_extension": ".py",
   "mimetype": "text/x-python",
   "name": "python",
   "nbconvert_exporter": "python",
   "pygments_lexer": "ipython3",
   "version": "3.11.5"
  }
 },
 "nbformat": 4,
 "nbformat_minor": 5
}
