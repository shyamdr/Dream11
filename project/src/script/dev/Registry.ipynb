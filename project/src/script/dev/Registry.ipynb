{
 "cells": [
  {
   "cell_type": "code",
   "execution_count": 1,
   "id": "c6a128dc",
   "metadata": {
    "ExecuteTime": {
     "end_time": "2024-01-20T09:26:51.711961Z",
     "start_time": "2024-01-20T09:26:51.020093Z"
    },
    "execution": {
     "iopub.execute_input": "2024-03-24T12:28:34.350635Z",
     "iopub.status.busy": "2024-03-24T12:28:34.349623Z",
     "iopub.status.idle": "2024-03-24T12:28:35.870343Z",
     "shell.execute_reply": "2024-03-24T12:28:35.868905Z",
     "shell.execute_reply.started": "2024-03-24T12:28:34.350635Z"
    }
   },
   "outputs": [],
   "source": [
    "import pandas as pd"
   ]
  },
  {
   "cell_type": "code",
   "execution_count": 2,
   "id": "65b2a2fb",
   "metadata": {
    "ExecuteTime": {
     "end_time": "2024-01-20T09:26:52.565816Z",
     "start_time": "2024-01-20T09:26:51.711961Z"
    },
    "execution": {
     "iopub.execute_input": "2024-03-24T12:28:35.872337Z",
     "iopub.status.busy": "2024-03-24T12:28:35.872337Z",
     "iopub.status.idle": "2024-03-24T12:28:37.116924Z",
     "shell.execute_reply": "2024-03-24T12:28:37.115923Z",
     "shell.execute_reply.started": "2024-03-24T12:28:35.872337Z"
    }
   },
   "outputs": [],
   "source": [
    "%run config_psql.ipynb"
   ]
  },
  {
   "cell_type": "code",
   "execution_count": 3,
   "id": "50546e3d",
   "metadata": {
    "ExecuteTime": {
     "end_time": "2024-01-20T09:26:55.887971Z",
     "start_time": "2024-01-20T09:26:52.569929Z"
    },
    "execution": {
     "iopub.execute_input": "2024-03-24T12:28:37.120000Z",
     "iopub.status.busy": "2024-03-24T12:28:37.118928Z",
     "iopub.status.idle": "2024-03-24T12:28:40.342535Z",
     "shell.execute_reply": "2024-03-24T12:28:40.341518Z",
     "shell.execute_reply.started": "2024-03-24T12:28:37.120000Z"
    }
   },
   "outputs": [],
   "source": [
    "url = \"https://cricsheet.org/register/people.csv\"\n",
    "df_people = pd.read_csv(url, dtype = str)"
   ]
  },
  {
   "cell_type": "code",
   "execution_count": 4,
   "id": "9bd4316e",
   "metadata": {
    "ExecuteTime": {
     "end_time": "2024-01-20T09:26:57.594445Z",
     "start_time": "2024-01-20T09:26:55.895200Z"
    },
    "execution": {
     "iopub.execute_input": "2024-03-24T12:28:40.345597Z",
     "iopub.status.busy": "2024-03-24T12:28:40.345597Z",
     "iopub.status.idle": "2024-03-24T12:28:42.064437Z",
     "shell.execute_reply": "2024-03-24T12:28:42.063353Z",
     "shell.execute_reply.started": "2024-03-24T12:28:40.345597Z"
    }
   },
   "outputs": [],
   "source": [
    "url = \"https://cricsheet.org/register/names.csv\"\n",
    "df_name = pd.read_csv(url)"
   ]
  },
  {
   "cell_type": "code",
   "execution_count": 5,
   "id": "328aa1d4-8fbf-41d1-b1a4-20f283f91490",
   "metadata": {
    "execution": {
     "iopub.execute_input": "2024-03-24T12:28:42.066351Z",
     "iopub.status.busy": "2024-03-24T12:28:42.065352Z",
     "iopub.status.idle": "2024-03-24T12:28:42.082529Z",
     "shell.execute_reply": "2024-03-24T12:28:42.080522Z",
     "shell.execute_reply.started": "2024-03-24T12:28:42.066351Z"
    }
   },
   "outputs": [],
   "source": [
    "df_people.drop(['key_nvplay', 'key_nvplay_2'], axis=1, inplace=True)"
   ]
  },
  {
   "cell_type": "code",
   "execution_count": 6,
   "id": "1ff5d158",
   "metadata": {
    "ExecuteTime": {
     "end_time": "2024-01-20T09:27:07.840125Z",
     "start_time": "2024-01-20T09:26:57.600057Z"
    },
    "code_folding": [],
    "execution": {
     "iopub.execute_input": "2024-03-24T12:28:42.084519Z",
     "iopub.status.busy": "2024-03-24T12:28:42.083522Z",
     "iopub.status.idle": "2024-03-24T12:28:49.595253Z",
     "shell.execute_reply": "2024-03-24T12:28:49.594237Z",
     "shell.execute_reply.started": "2024-03-24T12:28:42.084519Z"
    }
   },
   "outputs": [],
   "source": [
    "with engine.connect() as conn:\n",
    "    conn.execute(\"TRUNCATE TABLE stg.people CASCADE\")\n",
    "\n",
    "count_rows = df_people.to_sql('people', schema = 'stg', con=engine, if_exists='append', method = 'multi', index=False)"
   ]
  },
  {
   "cell_type": "code",
   "execution_count": 7,
   "id": "6ad0343a",
   "metadata": {
    "ExecuteTime": {
     "end_time": "2024-01-20T09:27:08.664182Z",
     "start_time": "2024-01-20T09:27:07.859101Z"
    },
    "execution": {
     "iopub.execute_input": "2024-03-24T12:28:49.597250Z",
     "iopub.status.busy": "2024-03-24T12:28:49.597250Z",
     "iopub.status.idle": "2024-03-24T12:28:50.260605Z",
     "shell.execute_reply": "2024-03-24T12:28:50.259007Z",
     "shell.execute_reply.started": "2024-03-24T12:28:49.597250Z"
    }
   },
   "outputs": [],
   "source": [
    "with engine.connect() as conn:\n",
    "    conn.execute(\"TRUNCATE TABLE stg.name\")\n",
    "\n",
    "count_rows = df_name.to_sql('name', schema = 'stg', con=engine, if_exists='append', method = 'multi', index=False)"
   ]
  },
  {
   "cell_type": "code",
   "execution_count": 8,
   "id": "f1135679",
   "metadata": {
    "ExecuteTime": {
     "end_time": "2024-01-20T09:27:08.820264Z",
     "start_time": "2024-01-20T09:27:08.668692Z"
    },
    "execution": {
     "iopub.execute_input": "2024-03-24T12:28:50.262521Z",
     "iopub.status.busy": "2024-03-24T12:28:50.262521Z",
     "iopub.status.idle": "2024-03-24T12:28:50.462341Z",
     "shell.execute_reply": "2024-03-24T12:28:50.461338Z",
     "shell.execute_reply.started": "2024-03-24T12:28:50.262521Z"
    }
   },
   "outputs": [],
   "source": [
    "with engine.connect() as conn:\n",
    "    conn.execution_options(isolation_level = \"AUTOCOMMIT\")\n",
    "    with conn.begin():\n",
    "        conn.execute(\"CALL dwh.LoadRegistry()\") "
   ]
  }
 ],
 "metadata": {
  "kernelspec": {
   "display_name": "Python 3 (ipykernel)",
   "language": "python",
   "name": "python3"
  },
  "language_info": {
   "codemirror_mode": {
    "name": "ipython",
    "version": 3
   },
   "file_extension": ".py",
   "mimetype": "text/x-python",
   "name": "python",
   "nbconvert_exporter": "python",
   "pygments_lexer": "ipython3",
   "version": "3.11.5"
  }
 },
 "nbformat": 4,
 "nbformat_minor": 5
}
