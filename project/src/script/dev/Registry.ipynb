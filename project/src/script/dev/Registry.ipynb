{
 "cells": [
  {
   "cell_type": "code",
   "execution_count": 15,
   "id": "c6a128dc",
   "metadata": {
    "ExecuteTime": {
     "end_time": "2023-12-29T16:14:55.659760Z",
     "start_time": "2023-12-29T16:14:55.651527Z"
    }
   },
   "outputs": [],
   "source": [
    "import pandas as pd"
   ]
  },
  {
   "cell_type": "code",
   "execution_count": 16,
   "id": "65b2a2fb",
   "metadata": {
    "ExecuteTime": {
     "end_time": "2023-12-29T16:14:55.898952Z",
     "start_time": "2023-12-29T16:14:55.856123Z"
    }
   },
   "outputs": [],
   "source": [
    "%run config_psql.ipynb"
   ]
  },
  {
   "cell_type": "code",
   "execution_count": 17,
   "id": "50546e3d",
   "metadata": {
    "ExecuteTime": {
     "end_time": "2023-12-29T16:15:03.577245Z",
     "start_time": "2023-12-29T16:14:56.021217Z"
    }
   },
   "outputs": [],
   "source": [
    "url = \"https://cricsheet.org/register/people.csv\"\n",
    "df_people = pd.read_csv(url, dtype = str)"
   ]
  },
  {
   "cell_type": "code",
   "execution_count": 18,
   "id": "9bd4316e",
   "metadata": {
    "ExecuteTime": {
     "end_time": "2023-12-29T16:15:05.845093Z",
     "start_time": "2023-12-29T16:15:03.589826Z"
    }
   },
   "outputs": [],
   "source": [
    "url = \"https://cricsheet.org/register/names.csv\"\n",
    "df_name = pd.read_csv(url)"
   ]
  },
  {
   "cell_type": "code",
   "execution_count": 19,
   "id": "1ff5d158",
   "metadata": {
    "ExecuteTime": {
     "end_time": "2023-12-29T16:15:23.151199Z",
     "start_time": "2023-12-29T16:15:05.851127Z"
    },
    "code_folding": []
   },
   "outputs": [],
   "source": [
    "with engine.connect() as conn:\n",
    "    conn.execute(\"TRUNCATE TABLE stg.people CASCADE\")\n",
    "\n",
    "count_rows = df_people.to_sql('people', schema = 'stg', con=engine, if_exists='append', method = 'multi', index=False)"
   ]
  },
  {
   "cell_type": "code",
   "execution_count": 20,
   "id": "6ad0343a",
   "metadata": {
    "ExecuteTime": {
     "end_time": "2023-12-29T16:15:24.380227Z",
     "start_time": "2023-12-29T16:15:23.160281Z"
    }
   },
   "outputs": [],
   "source": [
    "with engine.connect() as conn:\n",
    "    conn.execute(\"TRUNCATE TABLE stg.name\")\n",
    "\n",
    "count_rows = df_name.to_sql('name', schema = 'stg', con=engine, if_exists='append', method = 'multi', index=False)"
   ]
  },
  {
   "cell_type": "code",
   "execution_count": 21,
   "id": "f1135679",
   "metadata": {
    "ExecuteTime": {
     "end_time": "2023-12-29T16:15:24.711433Z",
     "start_time": "2023-12-29T16:15:24.381234Z"
    }
   },
   "outputs": [],
   "source": [
    "with engine.connect() as conn:\n",
    "    conn.execution_options(isolation_level = \"AUTOCOMMIT\")\n",
    "    with conn.begin():\n",
    "        conn.execute(\"CALL dwh.LoadRegistry()\") "
   ]
  }
 ],
 "metadata": {
  "kernelspec": {
   "display_name": "Python 3 (ipykernel)",
   "language": "python",
   "name": "python3"
  },
  "language_info": {
   "codemirror_mode": {
    "name": "ipython",
    "version": 3
   },
   "file_extension": ".py",
   "mimetype": "text/x-python",
   "name": "python",
   "nbconvert_exporter": "python",
   "pygments_lexer": "ipython3",
   "version": "3.9.13"
  }
 },
 "nbformat": 4,
 "nbformat_minor": 5
}
