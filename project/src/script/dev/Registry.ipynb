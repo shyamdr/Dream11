{
 "cells": [
  {
   "cell_type": "code",
   "execution_count": 1,
   "id": "c6a128dc",
   "metadata": {
    "ExecuteTime": {
     "end_time": "2024-01-20T09:26:51.711961Z",
     "start_time": "2024-01-20T09:26:51.020093Z"
    }
   },
   "outputs": [],
   "source": [
    "import pandas as pd"
   ]
  },
  {
   "cell_type": "code",
   "execution_count": 2,
   "id": "65b2a2fb",
   "metadata": {
    "ExecuteTime": {
     "end_time": "2024-01-20T09:26:52.565816Z",
     "start_time": "2024-01-20T09:26:51.711961Z"
    }
   },
   "outputs": [],
   "source": [
    "%run config_psql.ipynb"
   ]
  },
  {
   "cell_type": "code",
   "execution_count": 3,
   "id": "50546e3d",
   "metadata": {
    "ExecuteTime": {
     "end_time": "2024-01-20T09:26:55.887971Z",
     "start_time": "2024-01-20T09:26:52.569929Z"
    }
   },
   "outputs": [],
   "source": [
    "url = \"https://cricsheet.org/register/people.csv\"\n",
    "df_people = pd.read_csv(url, dtype = str)"
   ]
  },
  {
   "cell_type": "code",
   "execution_count": 4,
   "id": "9bd4316e",
   "metadata": {
    "ExecuteTime": {
     "end_time": "2024-01-20T09:26:57.594445Z",
     "start_time": "2024-01-20T09:26:55.895200Z"
    }
   },
   "outputs": [],
   "source": [
    "url = \"https://cricsheet.org/register/names.csv\"\n",
    "df_name = pd.read_csv(url)"
   ]
  },
  {
   "cell_type": "code",
   "execution_count": 5,
   "id": "1ff5d158",
   "metadata": {
    "ExecuteTime": {
     "end_time": "2024-01-20T09:27:07.840125Z",
     "start_time": "2024-01-20T09:26:57.600057Z"
    },
    "code_folding": []
   },
   "outputs": [],
   "source": [
    "with engine.connect() as conn:\n",
    "    conn.execute(\"TRUNCATE TABLE stg.people CASCADE\")\n",
    "\n",
    "count_rows = df_people.to_sql('people', schema = 'stg', con=engine, if_exists='append', method = 'multi', index=False)"
   ]
  },
  {
   "cell_type": "code",
   "execution_count": 6,
   "id": "6ad0343a",
   "metadata": {
    "ExecuteTime": {
     "end_time": "2024-01-20T09:27:08.664182Z",
     "start_time": "2024-01-20T09:27:07.859101Z"
    }
   },
   "outputs": [],
   "source": [
    "with engine.connect() as conn:\n",
    "    conn.execute(\"TRUNCATE TABLE stg.name\")\n",
    "\n",
    "count_rows = df_name.to_sql('name', schema = 'stg', con=engine, if_exists='append', method = 'multi', index=False)"
   ]
  },
  {
   "cell_type": "code",
   "execution_count": 7,
   "id": "f1135679",
   "metadata": {
    "ExecuteTime": {
     "end_time": "2024-01-20T09:27:08.820264Z",
     "start_time": "2024-01-20T09:27:08.668692Z"
    }
   },
   "outputs": [],
   "source": [
    "with engine.connect() as conn:\n",
    "    conn.execution_options(isolation_level = \"AUTOCOMMIT\")\n",
    "    with conn.begin():\n",
    "        conn.execute(\"CALL dwh.LoadRegistry()\") "
   ]
  },
  {
   "cell_type": "code",
   "execution_count": null,
   "id": "2fb41f08-5d21-4b37-86db-0584658bf798",
   "metadata": {},
   "outputs": [],
   "source": []
  },
  {
   "cell_type": "code",
   "execution_count": null,
   "id": "406808ee-ffa8-4320-88be-42c83e56919f",
   "metadata": {},
   "outputs": [],
   "source": []
  },
  {
   "cell_type": "code",
   "execution_count": null,
   "id": "5014f646-61f3-44c1-9158-a34ab2761c57",
   "metadata": {},
   "outputs": [],
   "source": []
  },
  {
   "cell_type": "code",
   "execution_count": null,
   "id": "850efcfa-89d4-4bbe-add1-d7c536bbd32a",
   "metadata": {},
   "outputs": [],
   "source": []
  },
  {
   "cell_type": "code",
   "execution_count": null,
   "id": "8461647a-a7d9-4608-baa4-9e9eef0dc8ad",
   "metadata": {},
   "outputs": [],
   "source": []
  },
  {
   "cell_type": "code",
   "execution_count": null,
   "id": "9098c5ce-cc85-43fb-86d4-d9561d3b8858",
   "metadata": {},
   "outputs": [],
   "source": []
  },
  {
   "cell_type": "code",
   "execution_count": null,
   "id": "fab857df-6a0e-4c14-80f0-b6ba4ac6014f",
   "metadata": {},
   "outputs": [],
   "source": []
  },
  {
   "cell_type": "code",
   "execution_count": null,
   "id": "d4c6ad17-2fa6-476c-bbb5-77530a56d9e3",
   "metadata": {},
   "outputs": [],
   "source": []
  },
  {
   "cell_type": "code",
   "execution_count": null,
   "id": "259365ee-b751-4b5a-8672-79cccc715f72",
   "metadata": {},
   "outputs": [],
   "source": []
  },
  {
   "cell_type": "code",
   "execution_count": null,
   "id": "52fe5901-454b-4515-83cc-0b8451082f70",
   "metadata": {},
   "outputs": [],
   "source": []
  },
  {
   "cell_type": "code",
   "execution_count": null,
   "id": "38ff0757-681a-4f8a-979e-5be97852a3e5",
   "metadata": {},
   "outputs": [],
   "source": []
  },
  {
   "cell_type": "code",
   "execution_count": null,
   "id": "45c64a49-21b3-4c86-b939-077cc4e4bbef",
   "metadata": {},
   "outputs": [],
   "source": []
  },
  {
   "cell_type": "code",
   "execution_count": null,
   "id": "8ec6e290-e6c0-4ab9-85b3-1dbf64bed36a",
   "metadata": {},
   "outputs": [],
   "source": []
  },
  {
   "cell_type": "code",
   "execution_count": null,
   "id": "32c69e22-ab13-4545-b75f-7c08baf3ecbc",
   "metadata": {},
   "outputs": [],
   "source": []
  },
  {
   "cell_type": "code",
   "execution_count": null,
   "id": "515be23e-05a8-4ba7-a2ea-b5fc3209f319",
   "metadata": {},
   "outputs": [],
   "source": []
  },
  {
   "cell_type": "code",
   "execution_count": null,
   "id": "4177b08d-f934-4190-ac6f-4c5c572620d5",
   "metadata": {},
   "outputs": [],
   "source": []
  },
  {
   "cell_type": "code",
   "execution_count": null,
   "id": "b41ac1dc-e7a9-4d03-aaf6-5a09f1d0a45c",
   "metadata": {},
   "outputs": [],
   "source": []
  }
 ],
 "metadata": {
  "kernelspec": {
   "display_name": "Python 3 (ipykernel)",
   "language": "python",
   "name": "python3"
  },
  "language_info": {
   "codemirror_mode": {
    "name": "ipython",
    "version": 3
   },
   "file_extension": ".py",
   "mimetype": "text/x-python",
   "name": "python",
   "nbconvert_exporter": "python",
   "pygments_lexer": "ipython3",
   "version": "3.11.5"
  }
 },
 "nbformat": 4,
 "nbformat_minor": 5
}
