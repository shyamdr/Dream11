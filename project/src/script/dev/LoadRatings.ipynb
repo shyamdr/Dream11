{
 "cells": [
  {
   "cell_type": "markdown",
   "id": "f9aca0c5-a9c8-498b-89b1-d5a66da65d12",
   "metadata": {},
   "source": [
    "## Postgres Configuration"
   ]
  },
  {
   "cell_type": "code",
   "execution_count": 1,
   "id": "5822d24e-040a-450d-ab5c-7e02c1ce1109",
   "metadata": {
    "execution": {
     "iopub.execute_input": "2024-03-24T15:51:32.544413Z",
     "iopub.status.busy": "2024-03-24T15:51:32.544413Z",
     "iopub.status.idle": "2024-03-24T15:51:34.205012Z",
     "shell.execute_reply": "2024-03-24T15:51:34.205012Z",
     "shell.execute_reply.started": "2024-03-24T15:51:32.544413Z"
    }
   },
   "outputs": [],
   "source": [
    "%run config_psql.ipynb"
   ]
  },
  {
   "cell_type": "markdown",
   "id": "48bddeb6-3ad7-413e-8401-14409eea4528",
   "metadata": {},
   "source": [
    "## Update scorecard and Score batting performance"
   ]
  },
  {
   "cell_type": "code",
   "execution_count": 2,
   "id": "ef0d4dfd-20c1-4300-b4cc-b101d8e95b0d",
   "metadata": {
    "execution": {
     "iopub.execute_input": "2024-03-24T15:51:34.602238Z",
     "iopub.status.busy": "2024-03-24T15:51:34.602238Z",
     "iopub.status.idle": "2024-03-24T15:51:55.203727Z",
     "shell.execute_reply": "2024-03-24T15:51:55.203727Z",
     "shell.execute_reply.started": "2024-03-24T15:51:34.602238Z"
    }
   },
   "outputs": [
    {
     "name": "stdout",
     "output_type": "stream",
     "text": [
      "0 rows executed\n",
      "Loading data into stage table now\n"
     ]
    }
   ],
   "source": [
    "%run Resource_Utilization.ipynb"
   ]
  },
  {
   "cell_type": "code",
   "execution_count": 3,
   "id": "8f4084bd-68a9-4db9-93ec-4d5762d90de3",
   "metadata": {
    "execution": {
     "iopub.execute_input": "2024-03-24T15:51:55.203727Z",
     "iopub.status.busy": "2024-03-24T15:51:55.203727Z",
     "iopub.status.idle": "2024-03-24T15:51:55.766465Z",
     "shell.execute_reply": "2024-03-24T15:51:55.766465Z",
     "shell.execute_reply.started": "2024-03-24T15:51:55.203727Z"
    }
   },
   "outputs": [],
   "source": [
    "# Load match information into dwh layer\n",
    "with engine.connect() as conn:\n",
    "    conn.execution_options(isolation_level = \"AUTOCOMMIT\")\n",
    "    with conn.begin():\n",
    "        conn.execute(\"CALL dwh.LoadScorecardBatting()\")"
   ]
  },
  {
   "cell_type": "markdown",
   "id": "38110b94-e568-474d-9bcf-92b9d00e8ff2",
   "metadata": {},
   "source": [
    "## Update scorecard and Score bowling performance"
   ]
  },
  {
   "cell_type": "code",
   "execution_count": 4,
   "id": "190114b4-0897-4d42-a16f-30875fe6657a",
   "metadata": {
    "execution": {
     "iopub.execute_input": "2024-03-24T15:52:08.532809Z",
     "iopub.status.busy": "2024-03-24T15:52:08.532809Z",
     "iopub.status.idle": "2024-03-24T15:52:47.919535Z",
     "shell.execute_reply": "2024-03-24T15:52:47.919535Z",
     "shell.execute_reply.started": "2024-03-24T15:52:08.532809Z"
    }
   },
   "outputs": [],
   "source": [
    "# Load match information into dwh layer\n",
    "with engine.connect() as conn:\n",
    "    conn.execution_options(isolation_level = \"AUTOCOMMIT\")\n",
    "    with conn.begin():\n",
    "        conn.execute(\"CALL dwh.LoadScorecardBowling()\")"
   ]
  },
  {
   "cell_type": "code",
   "execution_count": null,
   "id": "b63abe30-cba1-43af-b1a7-e6b7c901c9de",
   "metadata": {},
   "outputs": [],
   "source": [
    "\"\"\"\n",
    "Add the logic to score all rounders performance and add rating details\n",
    "\"\"\""
   ]
  }
 ],
 "metadata": {
  "kernelspec": {
   "display_name": "Python 3 (ipykernel)",
   "language": "python",
   "name": "python3"
  },
  "language_info": {
   "codemirror_mode": {
    "name": "ipython",
    "version": 3
   },
   "file_extension": ".py",
   "mimetype": "text/x-python",
   "name": "python",
   "nbconvert_exporter": "python",
   "pygments_lexer": "ipython3",
   "version": "3.11.5"
  }
 },
 "nbformat": 4,
 "nbformat_minor": 5
}
