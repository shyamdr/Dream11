{
 "cells": [
  {
   "cell_type": "markdown",
   "id": "f9aca0c5-a9c8-498b-89b1-d5a66da65d12",
   "metadata": {},
   "source": [
    "## Postgres Configuration"
   ]
  },
  {
   "cell_type": "code",
   "execution_count": 1,
   "id": "5822d24e-040a-450d-ab5c-7e02c1ce1109",
   "metadata": {
    "execution": {
     "iopub.execute_input": "2024-03-07T20:55:43.150301Z",
     "iopub.status.busy": "2024-03-07T20:55:43.150301Z",
     "iopub.status.idle": "2024-03-07T20:55:47.475990Z",
     "shell.execute_reply": "2024-03-07T20:55:47.475990Z",
     "shell.execute_reply.started": "2024-03-07T20:55:43.150301Z"
    }
   },
   "outputs": [],
   "source": [
    "%run config_psql.ipynb"
   ]
  },
  {
   "cell_type": "markdown",
   "id": "48bddeb6-3ad7-413e-8401-14409eea4528",
   "metadata": {},
   "source": [
    "## Update scorecard and Score batting performance"
   ]
  },
  {
   "cell_type": "code",
   "execution_count": null,
   "id": "ef0d4dfd-20c1-4300-b4cc-b101d8e95b0d",
   "metadata": {},
   "outputs": [],
   "source": [
    "%run Resource_Utilization.ipynb"
   ]
  },
  {
   "cell_type": "code",
   "execution_count": null,
   "id": "8f4084bd-68a9-4db9-93ec-4d5762d90de3",
   "metadata": {},
   "outputs": [],
   "source": [
    "# Load match information into dwh layer\n",
    "with engine.connect() as conn:\n",
    "    conn.execution_options(isolation_level = \"AUTOCOMMIT\")\n",
    "    with conn.begin():\n",
    "        conn.execute(\"CALL dwh.LoadScorecardBatting()\")"
   ]
  },
  {
   "cell_type": "markdown",
   "id": "38110b94-e568-474d-9bcf-92b9d00e8ff2",
   "metadata": {},
   "source": [
    "## Update scorecard and Score bowling performance"
   ]
  },
  {
   "cell_type": "code",
   "execution_count": null,
   "id": "190114b4-0897-4d42-a16f-30875fe6657a",
   "metadata": {},
   "outputs": [],
   "source": [
    "# Load match information into dwh layer\n",
    "with engine.connect() as conn:\n",
    "    conn.execution_options(isolation_level = \"AUTOCOMMIT\")\n",
    "    with conn.begin():\n",
    "        conn.execute(\"CALL dwh.LoadScorecardBowling()\")"
   ]
  },
  {
   "cell_type": "code",
   "execution_count": 3,
   "id": "b63abe30-cba1-43af-b1a7-e6b7c901c9de",
   "metadata": {
    "execution": {
     "iopub.execute_input": "2024-03-07T21:02:53.372270Z",
     "iopub.status.busy": "2024-03-07T21:02:53.372270Z",
     "iopub.status.idle": "2024-03-07T21:02:53.383886Z",
     "shell.execute_reply": "2024-03-07T21:02:53.382953Z",
     "shell.execute_reply.started": "2024-03-07T21:02:53.372270Z"
    }
   },
   "outputs": [
    {
     "data": {
      "text/plain": [
       "'\\nAdd the logic to score all rounders performance and add rating details\\n'"
      ]
     },
     "execution_count": 3,
     "metadata": {},
     "output_type": "execute_result"
    }
   ],
   "source": [
    "\"\"\"\n",
    "Add the logic to score all rounders performance and add rating details\n",
    "\"\"\""
   ]
  }
 ],
 "metadata": {
  "kernelspec": {
   "display_name": "Python 3 (ipykernel)",
   "language": "python",
   "name": "python3"
  },
  "language_info": {
   "codemirror_mode": {
    "name": "ipython",
    "version": 3
   },
   "file_extension": ".py",
   "mimetype": "text/x-python",
   "name": "python",
   "nbconvert_exporter": "python",
   "pygments_lexer": "ipython3",
   "version": "3.11.5"
  }
 },
 "nbformat": 4,
 "nbformat_minor": 5
}
