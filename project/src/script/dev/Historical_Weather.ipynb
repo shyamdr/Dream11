{
 "cells": [
  {
   "cell_type": "raw",
   "id": "ddb88561-1225-499c-b378-e27963785e96",
   "metadata": {},
   "source": [
    "Pending tasks : \n",
    "1. Change the  column names from the dataframe to those in sql table\n",
    "2. Add required columns in sql table as per dataframe, timezone etc\n",
    "3. test insert operation"
   ]
  },
  {
   "cell_type": "code",
   "execution_count": 129,
   "id": "8daa9749-c3aa-43fa-bad0-8e15244f8d1f",
   "metadata": {
    "execution": {
     "iopub.execute_input": "2024-02-05T19:24:40.187230Z",
     "iopub.status.busy": "2024-02-05T19:24:40.187230Z",
     "iopub.status.idle": "2024-02-05T19:24:40.202835Z",
     "shell.execute_reply": "2024-02-05T19:24:40.199798Z",
     "shell.execute_reply.started": "2024-02-05T19:24:40.187230Z"
    }
   },
   "outputs": [],
   "source": [
    "import openmeteo_requests\n",
    "import requests_cache\n",
    "import pandas as pd\n",
    "from retry_requests import retry\n",
    "from pyrate_limiter import Duration, Rate, Limiter, BucketFullException, LimiterDelayException\n",
    "import requests"
   ]
  },
  {
   "cell_type": "code",
   "execution_count": 130,
   "id": "d299b69f-601a-4af9-a25c-b550cf6b26d1",
   "metadata": {
    "execution": {
     "iopub.execute_input": "2024-02-05T19:24:40.396891Z",
     "iopub.status.busy": "2024-02-05T19:24:40.396891Z",
     "iopub.status.idle": "2024-02-05T19:24:40.798939Z",
     "shell.execute_reply": "2024-02-05T19:24:40.798939Z",
     "shell.execute_reply.started": "2024-02-05T19:24:40.396891Z"
    }
   },
   "outputs": [],
   "source": [
    "%run config_psql.ipynb"
   ]
  },
  {
   "cell_type": "code",
   "execution_count": 131,
   "id": "b0be82e9-64ac-428d-bcac-aaad08370224",
   "metadata": {
    "execution": {
     "iopub.execute_input": "2024-02-05T19:24:40.798939Z",
     "iopub.status.busy": "2024-02-05T19:24:40.798939Z",
     "iopub.status.idle": "2024-02-05T19:24:40.808681Z",
     "shell.execute_reply": "2024-02-05T19:24:40.808681Z",
     "shell.execute_reply.started": "2024-02-05T19:24:40.798939Z"
    }
   },
   "outputs": [],
   "source": [
    "# Settings configurations\n",
    "\n",
    "pd.set_option('display.max_columns', None)\n",
    "pd.set_option('display.max_rows', None)"
   ]
  },
  {
   "cell_type": "code",
   "execution_count": 132,
   "id": "6dce2681-c736-4577-9306-b3ffa6ed5402",
   "metadata": {
    "execution": {
     "iopub.execute_input": "2024-02-05T19:24:40.813952Z",
     "iopub.status.busy": "2024-02-05T19:24:40.811921Z",
     "iopub.status.idle": "2024-02-05T19:24:40.822868Z",
     "shell.execute_reply": "2024-02-05T19:24:40.821839Z",
     "shell.execute_reply.started": "2024-02-05T19:24:40.813952Z"
    }
   },
   "outputs": [],
   "source": [
    "def connect_open_meteo_api():\n",
    "    cache_session = requests_cache.CachedSession('.cache', expire_after = -1)\n",
    "    retry_session = retry(cache_session, retries = 5, backoff_factor = 0.2)\n",
    "    openmeteo = openmeteo_requests.Client(session = retry_session)   \n",
    "    \n",
    "    return cache_session, retry_session, openmeteo"
   ]
  },
  {
   "cell_type": "code",
   "execution_count": 133,
   "id": "24acb967-17e3-4ec0-8c20-25e0edbecc87",
   "metadata": {
    "execution": {
     "iopub.execute_input": "2024-02-05T19:24:41.017204Z",
     "iopub.status.busy": "2024-02-05T19:24:41.017204Z",
     "iopub.status.idle": "2024-02-05T19:24:41.029222Z",
     "shell.execute_reply": "2024-02-05T19:24:41.027329Z",
     "shell.execute_reply.started": "2024-02-05T19:24:41.017204Z"
    }
   },
   "outputs": [],
   "source": [
    "def rate_limiter():\n",
    "    minute_rate = Rate(540, Duration.MINUTE) # 600/1.1 requests per minute\n",
    "    hourly_rate = Rate(5000, Duration.HOUR) # 5000/1.1 requests per hour\n",
    "    daily_rate = Rate(9090, Duration.DAY) # 10000 requests per day\n",
    "    \n",
    "    rates = [minute_rate, hourly_rate, daily_rate]\n",
    "    limiter = Limiter(rates, max_delay = 61000)\n",
    "\n",
    "    return limiter"
   ]
  },
  {
   "cell_type": "code",
   "execution_count": 134,
   "id": "918a7a25-cd9c-4e27-a01d-9686aa53c63c",
   "metadata": {
    "execution": {
     "iopub.execute_input": "2024-02-05T19:24:41.860920Z",
     "iopub.status.busy": "2024-02-05T19:24:41.860920Z",
     "iopub.status.idle": "2024-02-05T19:24:41.883178Z",
     "shell.execute_reply": "2024-02-05T19:24:41.881089Z",
     "shell.execute_reply.started": "2024-02-05T19:24:41.860920Z"
    }
   },
   "outputs": [],
   "source": [
    "def response_to_df(df_weather, responses, match_id):\n",
    "    # Process first location. Add a for-loop for multiple locations or weather models\n",
    "    response = responses[0]\n",
    "    #print(f\"Coordinates {response.Latitude()}°E {response.Longitude()}°N\")\n",
    "    #print(f\"Elevation {response.Elevation()} m asl\")\n",
    "    #print(f\"Timezone {response.Timezone()} {response.TimezoneAbbreviation()}\")\n",
    "    #print(f\"Timezone difference to GMT+0 {response.UtcOffsetSeconds()} s\")\n",
    "    \n",
    "    # Process hourly data. The order of variables needs to be the same as requested.\n",
    "    hourly = response.Hourly()\n",
    "    hourly_temperature_2m = hourly.Variables(0).ValuesAsNumpy()\n",
    "    hourly_relative_humidity_2m = hourly.Variables(1).ValuesAsNumpy()\n",
    "    hourly_dew_point_2m = hourly.Variables(2).ValuesAsNumpy()\n",
    "    hourly_apparent_temperature = hourly.Variables(3).ValuesAsNumpy()\n",
    "    hourly_precipitation = hourly.Variables(4).ValuesAsNumpy()\n",
    "    hourly_rain = hourly.Variables(5).ValuesAsNumpy()\n",
    "    hourly_surface_pressure = hourly.Variables(6).ValuesAsNumpy()\n",
    "    hourly_cloud_cover = hourly.Variables(7).ValuesAsNumpy()\n",
    "    hourly_wind_speed_10m = hourly.Variables(8).ValuesAsNumpy()\n",
    "    hourly_soil_temperature_0_to_7cm = hourly.Variables(9).ValuesAsNumpy()\n",
    "    hourly_soil_moisture_0_to_7cm = hourly.Variables(10).ValuesAsNumpy()\n",
    "    \n",
    "    hourly_data = {\"date\": pd.date_range(\n",
    "    \tstart = pd.to_datetime(hourly.Time(), unit = \"s\"),\n",
    "    \tend = pd.to_datetime(hourly.TimeEnd(), unit = \"s\"),\n",
    "    \tfreq = pd.Timedelta(seconds = hourly.Interval()),\n",
    "    \tinclusive = \"left\"\n",
    "    )}\n",
    "    hourly_data[\"temperature_2m\"] = hourly_temperature_2m\n",
    "    hourly_data[\"relative_humidity_2m\"] = hourly_relative_humidity_2m\n",
    "    hourly_data[\"dew_point_2m\"] = hourly_dew_point_2m\n",
    "    hourly_data[\"apparent_temperature\"] = hourly_apparent_temperature\n",
    "    hourly_data[\"precipitation\"] = hourly_precipitation\n",
    "    hourly_data[\"rain\"] = hourly_rain\n",
    "    hourly_data[\"surface_pressure\"] = hourly_surface_pressure\n",
    "    hourly_data[\"cloud_cover\"] = hourly_cloud_cover\n",
    "    hourly_data[\"wind_speed_10m\"] = hourly_wind_speed_10m\n",
    "    hourly_data[\"soil_temperature_0_to_7cm\"] = hourly_soil_temperature_0_to_7cm\n",
    "    hourly_data[\"soil_moisture_0_to_7cm\"] = hourly_soil_moisture_0_to_7cm\n",
    "    \n",
    "    df_weather = pd.concat([df_weather, pd.DataFrame(data = hourly_data).assign(match_id = match_id,\n",
    "                                                                               local_timezone = response.Timezone().decode(\"utf-8\") + \" \" + response.TimezoneAbbreviation().decode(\"utf-8\"),\n",
    "                                                                               diff_timezone = response.UtcOffsetSeconds()/(3600))])\n",
    "        \n",
    "\n",
    "    return df_weather\n",
    "    #print(hourly_dataframe)"
   ]
  },
  {
   "cell_type": "code",
   "execution_count": 135,
   "id": "08aa931d-ff36-49d4-8098-738081c795d4",
   "metadata": {
    "execution": {
     "iopub.execute_input": "2024-02-05T19:24:44.132657Z",
     "iopub.status.busy": "2024-02-05T19:24:44.131661Z",
     "iopub.status.idle": "2024-02-05T19:24:44.210320Z",
     "shell.execute_reply": "2024-02-05T19:24:44.207804Z",
     "shell.execute_reply.started": "2024-02-05T19:24:44.132657Z"
    }
   },
   "outputs": [],
   "source": [
    "stmt = \"\"\"\n",
    "SELECT \n",
    "\tm.match_id,\n",
    "\tcast(m.start_date as text) as start_date,\n",
    "\tcast(m.end_date as text) as end_date,\n",
    "\tg.latitude,\n",
    "\tg.longitude\n",
    "FROM dwh.match m\n",
    "LEFT JOIN dwh.weather w ON m.match_id = w.match_id\n",
    "JOIN dwh.ground g ON m.ground_id = g.ground_id\n",
    "WHERE w.match_id IS NULL and g.latitude IS NOT NULL AND g.longitude IS NOT NULL;\n",
    "\"\"\"\n",
    "cursor = connection.cursor()\n",
    "cursor.execute(stmt)\n",
    "rows = cursor.fetchall()"
   ]
  },
  {
   "cell_type": "code",
   "execution_count": 136,
   "id": "b527fcd5-0afd-47b9-8945-8b2e60c06ac0",
   "metadata": {
    "execution": {
     "iopub.execute_input": "2024-02-05T19:24:47.489175Z",
     "iopub.status.busy": "2024-02-05T19:24:47.488047Z",
     "iopub.status.idle": "2024-02-05T19:24:47.637196Z",
     "shell.execute_reply": "2024-02-05T19:24:47.636120Z",
     "shell.execute_reply.started": "2024-02-05T19:24:47.489175Z"
    }
   },
   "outputs": [],
   "source": [
    "if len(rows) > 0:\n",
    "    df_weather = pd.DataFrame()\n",
    "    cache_session, retry_session, openmeteo = connect_open_meteo_api()\n",
    "    limiter = rate_limiter()\n",
    "    \n",
    "    url = \"https://archive-api.open-meteo.com/v1/archive\"\n",
    "\n",
    "    for request, row in enumerate(rows[:10]):\n",
    "        params = {\n",
    "            \"latitude\": row[3],\n",
    "            \"longitude\": row[4],\n",
    "            \"start_date\": row[1],\n",
    "            \"end_date\": row[2],\n",
    "            \"hourly\": [\"temperature_2m\", \"relative_humidity_2m\", \"dew_point_2m\", \"apparent_temperature\", \"precipitation\", \"rain\", \"surface_pressure\",\n",
    "                       \"cloud_cover\", \"wind_speed_10m\", \"soil_temperature_0_to_7cm\", \"soil_moisture_0_to_7cm\"],\n",
    "            \"timezone\": \"auto\"}\n",
    "        limiter.try_acquire(request)\n",
    "        responses = openmeteo.weather_api(url, params=params)\n",
    "        df_weather = response_to_df(df_weather, responses, row[0])\n",
    "        df_weather.reset_index(inplace = True, drop = True)"
   ]
  },
  {
   "cell_type": "code",
   "execution_count": null,
   "id": "35432c7b-8832-4125-9b2d-6d1857d832c4",
   "metadata": {},
   "outputs": [],
   "source": [
    "count_rows = df_weather.to_sql('weather', schema='dwh', con=engine, if_exists='append', method='multi', index=False)"
   ]
  }
 ],
 "metadata": {
  "kernelspec": {
   "display_name": "Python 3 (ipykernel)",
   "language": "python",
   "name": "python3"
  },
  "language_info": {
   "codemirror_mode": {
    "name": "ipython",
    "version": 3
   },
   "file_extension": ".py",
   "mimetype": "text/x-python",
   "name": "python",
   "nbconvert_exporter": "python",
   "pygments_lexer": "ipython3",
   "version": "3.11.5"
  }
 },
 "nbformat": 4,
 "nbformat_minor": 5
}
